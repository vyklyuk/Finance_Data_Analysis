{
  "metadata": {
    "kernelspec": {
      "name": "python",
      "display_name": "Python (Pyodide)",
      "language": "python"
    },
    "language_info": {
      "codemirror_mode": {
        "name": "python",
        "version": 3
      },
      "file_extension": ".py",
      "mimetype": "text/x-python",
      "name": "python",
      "nbconvert_exporter": "python",
      "pygments_lexer": "ipython3",
      "version": "3.8"
    }
  },
  "nbformat_minor": 4,
  "nbformat": 4,
  "cells": [
    {
      "cell_type": "markdown",
      "source": "<center>\n    <img src=\"https://cf-courses-data.s3.us.cloud-object-storage.appdomain.cloud/assets/logos/SN_web_lightmode.png\" width=\"400\" alt=\"cognitiveclass.ai logo\">\n</center>\n\n# **Investigation relationships between exchange rate BTC/BUSD and SME, MACD, Stochastic Oscillator indicators**\n\n## Lab 6. Knowledge Check\n\nEstimated time needed: **1** hour\n\n<div class=\"alert alert-danger alertdanger\" style=\"margin-top: 20px\">\n    \nДля Марії\n### The tasks:\n*   \n\n</div>\n\n### Objectives\n\nAfter completing this lab you will be able to:\n\n*   Be confident about your data analysis skills\n\n<h3>Table of Contents</h3>\n\n<div class=\"alert alert-block alert-info\" style=\"margin-top: 20px\">\n<ol>\n    <li>Import and Load Data</li>\n    <li>Questions</li>\n</ol>\n\n</div>\n\n----\n",
      "metadata": {}
    },
    {
      "cell_type": "markdown",
      "source": "## Dataset Description\n\n### Context\nDataset contains historical changes of the ***BTC/BUSD*** parameters for the period from *11/11/2022 to 11/24/2022* with an *1-minute* aggregation time.\n\n### Columns\n\n#### Input columns\n* ***Time*** - the timestamp of the record\n* ***Open*** -  the price of the asset at the beginning of the trading period\n* ***High*** -  the highest price of the asset during the trading period\n* ***Low*** - the lowest price of the asset during the trading period.\n* ***Close*** - the price of the asset at the end of the trading period\n* ***Volume*** - the total number of shares or contracts of a particular asset that are traded during a given period\n\n#### Target columns\n* ***Price*** - the average price at which a particular asset has been bought or sold during a given period\n",
      "metadata": {}
    },
    {
      "cell_type": "markdown",
      "source": "## 1. Import and Load Data \n",
      "metadata": {}
    },
    {
      "cell_type": "markdown",
      "source": "### Import Libraries\n",
      "metadata": {}
    },
    {
      "cell_type": "markdown",
      "source": "Import the libraries necessary to use in this lab. We can add some aliases to make the libraries easier to use in our code and set a default figure size for further plots. Ignore the warnings.\n",
      "metadata": {}
    },
    {
      "cell_type": "code",
      "source": "!pip install --upgrade scikit-learn\n!pip install mplfinance",
      "metadata": {},
      "execution_count": null,
      "outputs": []
    },
    {
      "cell_type": "code",
      "source": "import warnings\nwarnings.simplefilter(action='ignore', category=FutureWarning)\nimport pandas as pd\nimport numpy as np\nimport seaborn as sns\nfrom typing import List\nimport matplotlib.pyplot as plt\nimport matplotlib as mpl\nimport matplotlib.patches as  mpatches\n%matplotlib inline\nimport mplfinance as fplt\nfrom sklearn import set_config\nset_config(display='diagram')\nfrom scipy import stats\nimport statsmodels.api as sm\nfrom statsmodels.stats.stattools import durbin_watson\nfrom statsmodels.tsa.stattools import grangercausalitytests\nfrom statsmodels.stats.stattools import durbin_watson\nfrom statsmodels.tsa.stattools import grangercausalitytests\nfrom sklearn.model_selection import train_test_split\nfrom sklearn.linear_model import LinearRegression\nfrom sklearn.preprocessing import PolynomialFeatures\nfrom sklearn.tree import DecisionTreeClassifier\nfrom sklearn import tree\nfrom sklearn.metrics import mean_squared_error\nfrom sklearn.metrics import r2_score, accuracy_score, mean_absolute_percentage_error\nimport itertools\nfrom itertools import combinations\nfrom IPython.display import display\nfrom sklearn.preprocessing import LabelEncoder, OrdinalEncoder\nfrom sklearn.preprocessing import MinMaxScaler",
      "metadata": {},
      "execution_count": null,
      "outputs": []
    },
    {
      "cell_type": "markdown",
      "source": "### Load Data \n",
      "metadata": {}
    },
    {
      "cell_type": "markdown",
      "source": "We will use the same DataSet like in previous labs. Therefore next some steps will be the same.\n",
      "metadata": {}
    },
    {
      "cell_type": "markdown",
      "source": "First, we assign the URL of the dataset to <code>\"path\"</code>. \n",
      "metadata": {}
    },
    {
      "cell_type": "code",
      "source": "path = \"https://cf-courses-data.s3.us.cloud-object-storage.appdomain.cloud/IBMSkillsNetwork-GPXX026LEN/BTCBUSD_trades_1m.csv\"",
      "metadata": {},
      "execution_count": null,
      "outputs": []
    },
    {
      "cell_type": "markdown",
      "source": "Then use the Pandas method <code>read_csv()</code> to load the data from the web address and set dataframe index column type to <strong>datetime</strong> using <code>pd.to_datetime()</code> method for correct time series analysis. \n",
      "metadata": {}
    },
    {
      "cell_type": "code",
      "source": "df = pd.read_csv(path)\ndf.set_index('Time', inplace=True)\ndf.index = pd.to_datetime(df.index)\n\ndf.head()",
      "metadata": {},
      "execution_count": null,
      "outputs": []
    },
    {
      "cell_type": "markdown",
      "source": "## 2. Questions\n",
      "metadata": {}
    },
    {
      "cell_type": "markdown",
      "source": "<div class=\"alert alert-danger alertdanger\" style=\"margin-top: 20px\">\n\n<b style=\"font-size: 2em; font-weight: 600;\">Question #1:</b>\n\nCalculate financial technical SAME, MACD, Stochastic Oscillator indicators.\n    \n</div>\n",
      "metadata": {}
    },
    {
      "cell_type": "markdown",
      "source": "<h4>Simple Moving Average (SMA)</h4>\n",
      "metadata": {}
    },
    {
      "cell_type": "markdown",
      "source": "$Simple\\ Moving\\ Average\\ (SMA)$ calculates the average of a selected range of prices, usually closing prices, by the number of periods in that range.\n\n<em>A Simple Moving Average</em> is customizable because it can be calculated for different numbers of time periods. This is done by adding the closing price for a number of time periods and then dividing this total by the number of time periods, which gives the average price over the time period.\n\nThe $SMA$ is calculated as follows:\n\n$$\nSAME = \\frac{A_1 + A_2 +\\ ... \\ + A_n}{n},\n$$\n<center>where $A_n$ — the price of an asset at period $n$, $n$ — the number of total periods<center>\n    \nRead more about this indicator <em><a href=\"https://www.investopedia.com/terms/s/sma.asp?utm_medium=Exinfluencer&utm_source=Exinfluencer&utm_content=000026UJ&utm_term=10006555&utm_id=NA-SkillsNetwork-Channel-SkillsNetworkGuidedProjectsIBMSkillsNetworkGPXX026LEN2588-2023-01-01\">here</a></em>.\n",
      "metadata": {}
    },
    {
      "cell_type": "markdown",
      "source": "<div class=\"alert alert-danger alertdanger\" style=\"margin-top: 20px\">\n\n<strong><em>Hint:</em></strong> to calculate SMA use <a href='https://pandas.pydata.org/docs/reference/api/pandas.DataFrame.rolling.html?utm_medium=Exinfluencer&utm_source=Exinfluencer&utm_content=000026UJ&utm_term=10006555&utm_id=NA-SkillsNetwork-Channel-SkillsNetworkGuidedProjectsIBMSkillsNetworkGPXX026LEN2588-2023-01-01'><em>df['Close'].rolling(window = period).mean()</em></a>.\n    \n</div>\n",
      "metadata": {}
    },
    {
      "cell_type": "code",
      "source": "# Write your code below and press Shift+Enter to execute",
      "metadata": {},
      "execution_count": null,
      "outputs": []
    },
    {
      "cell_type": "markdown",
      "source": "<h4>Moving Average Convergence/Divergence (MACD)</h4>\n",
      "metadata": {}
    },
    {
      "cell_type": "markdown",
      "source": "$Moving\\ Average\\ Convergence/Divergence\\ (MACD)$ is a trend-following momentum indicator that shows the relationship between two exponential moving averages ($EMAs$) of a security’s price. \n\nThe $MACD$ line is calculated by subtracting the <em>26-period EMA</em> from <em>the 12-period EMA</em>:\n\n$$\nMACD = Period_{12}\\ EMA\\ -\\ Period_{26}\\ EMA,\n$$\n<center><center>\n    \nRead more about this indicator <a href=\"https://www.investopedia.com/terms/m/macd.asp?utm_medium=Exinfluencer&utm_source=Exinfluencer&utm_content=000026UJ&utm_term=10006555&utm_id=NA-SkillsNetwork-Channel-SkillsNetworkGuidedProjectsIBMSkillsNetworkGPXX026LEN2588-2023-01-01\">here</a>.\n    \n<div class=\"alert alert-danger alertdanger\" style=\"margin-top: 20px\">\n\n<strong><em>Hint:</em></strong> We had calculated <strong><em>EMA</em></strong> before using <em><a href=\"https://pandas.pydata.org/docs/reference/api/pandas.DataFrame.ewm.html?utm_medium=Exinfluencer&utm_source=Exinfluencer&utm_content=000026UJ&utm_term=10006555&utm_id=NA-SkillsNetwork-Channel-SkillsNetworkGuidedProjectsIBMSkillsNetworkGPXX026LEN2588-2023-01-01\">ewm(span=period, min_periods=period, adjust=False).mean()</a></em> method. For more details follow <a href=\"https://www.investopedia.com/ask/answers/122314/what-exponential-moving-average-ema-formula-and-how-ema-calculated.asp?utm_medium=Exinfluencer&utm_source=Exinfluencer&utm_content=000026UJ&utm_term=10006555&utm_id=NA-SkillsNetwork-Channel-SkillsNetworkGuidedProjectsIBMSkillsNetworkGPXX026LEN2588-2023-01-01\"><em>link</em></a>.\n    \n</div>\n",
      "metadata": {}
    },
    {
      "cell_type": "code",
      "source": "# Write your code below and press Shift+Enter to execute\n",
      "metadata": {},
      "execution_count": null,
      "outputs": []
    },
    {
      "cell_type": "markdown",
      "source": "<h4>Stochastic Oscillator</h4>\n",
      "metadata": {}
    },
    {
      "cell_type": "markdown",
      "source": "A $Stochastic\\ Oscillator$ is a momentum indicator comparing a particular closing price to a range of its prices over a certain period of time. \n\n$$\nK = \\frac{Close\\ -\\ Low_{p}}{High_{p}\\ -\\ Low_{p}} \\times 100,\n$$\n<center>\nwhere $Close$ — the last closing price, $Low$ — the lowest low for the time period $p$,\n</center>\n<center>\n$High$ — the highest high for the time period $p$.\n</center>\n\nRead more about this indicator <em><a href=\"https://www.investopedia.com/terms/s/stochasticoscillator.asp?utm_medium=Exinfluencer&utm_source=Exinfluencer&utm_content=000026UJ&utm_term=10006555&utm_id=NA-SkillsNetwork-Channel-SkillsNetworkGuidedProjectsIBMSkillsNetworkGPXX026LEN2588-2023-01-01\">here</a></em>.\n",
      "metadata": {}
    },
    {
      "cell_type": "markdown",
      "source": "<div class=\"alert alert-danger alertdanger\" style=\"margin-top: 20px\">\n\n<strong><em>Hint:</em></strong> use the following function to calculate:\n*   $Low_{p}$ − <em><a href=\"https://pandas.pydata.org/docs/reference/api/pandas.DataFrame.rolling.html?utm_medium=Exinfluencer&utm_source=Exinfluencer&utm_content=000026UJ&utm_term=10006555&utm_id=NA-SkillsNetwork-Channel-SkillsNetworkGuidedProjectsIBMSkillsNetworkGPXX026LEN2588-2023-01-01\">df['Low'].rolling(p).min()</a></em>\n*   $High_{p}$ − <em><a href=\"https://pandas.pydata.org/docs/reference/api/pandas.DataFrame.rolling.html?utm_medium=Exinfluencer&utm_source=Exinfluencer&utm_content=000026UJ&utm_term=10006555&utm_id=NA-SkillsNetwork-Channel-SkillsNetworkGuidedProjectsIBMSkillsNetworkGPXX026LEN2588-2023-01-01\">df['High'].rolling(p).max()</a></em>\n    \n</div>\n",
      "metadata": {}
    },
    {
      "cell_type": "code",
      "source": "# Write your code below and press Shift+Enter to execute\n",
      "metadata": {},
      "execution_count": null,
      "outputs": []
    },
    {
      "cell_type": "markdown",
      "source": "<div class=\"alert alert-danger alertdanger\" style=\"margin-top: 20px\">\n\n<strong><em>Attention:</em></strong>\n    All of obtained indicator values includes NaN due to specific period. We need to remove missing data.\n</div>\n",
      "metadata": {}
    },
    {
      "cell_type": "code",
      "source": "# Write your code below and press Shift+Enter to execute\n# Remove NaN values in dataframe \n",
      "metadata": {},
      "execution_count": null,
      "outputs": []
    },
    {
      "cell_type": "markdown",
      "source": "<div class=\"alert alert-danger alertdanger\" style=\"margin-top: 20px\">\n\n<b style=\"font-size: 2em; font-weight: 600;\">Question #2:</b>\n\nPerform resampling with a 1-day inteval and plot a corresponding candlestick.\n</div>\n",
      "metadata": {}
    },
    {
      "cell_type": "markdown",
      "source": "<em><strong>Note:</strong></em> \n*  to keep the initial dataframe unchanged use <code><a href=\"https://pandas.pydata.org/docs/reference/api/pandas.DataFrame.copy.html?utm_medium=Exinfluencer&utm_source=Exinfluencer&utm_content=000026UJ&utm_term=10006555&utm_id=NA-SkillsNetwork-Channel-SkillsNetworkGuidedProjectsIBMSkillsNetworkGPXX026LEN2588-2023-01-01\">df.copy()</a></code> method for dataframe copying\n*  use <code><a href=\"https://pandas.pydata.org/docs/reference/api/pandas.DataFrame.resample.html?utm_medium=Exinfluencer&utm_source=Exinfluencer&utm_content=000026UJ&utm_term=10006555&utm_id=NA-SkillsNetwork-Channel-SkillsNetworkGuidedProjectsIBMSkillsNetworkGPXX026LEN2588-2023-01-01\">df.resample()</a></code> method for resampling\n*  to plot a candlestick use <code><a href=\"https://github.com/matplotlib/mplfinance/blob/master/examples/marketcolor_overrides.ipynb\">mpf.plot(df, style='charles', type='candle')</a></code>.\n",
      "metadata": {}
    },
    {
      "cell_type": "code",
      "source": "# Write your code below and press Shift+Enter to execute\n# Resampling with 1-day interval\n",
      "metadata": {},
      "execution_count": null,
      "outputs": []
    },
    {
      "cell_type": "code",
      "source": "# Write your code below and press Shift+Enter to execute\n# Plot a candlestick\n",
      "metadata": {},
      "execution_count": null,
      "outputs": []
    },
    {
      "cell_type": "markdown",
      "source": "<div class=\"alert alert-danger alertdanger\" style=\"margin-top: 20px\">\n\n<b style=\"font-size: 2em; font-weight: 600;\">Question #3:</b>\n\n*    Create categorical variables for each of indicators and price.\n*    Make separate columns in the dataframe for them.\n*    Check the datatype of these columns and convert them to datatype <em>'category'</em>.\n</div>\n",
      "metadata": {}
    },
    {
      "cell_type": "markdown",
      "source": "<em><strong>Note:</strong><em>\n*  consider making three categories <strong><em>Low, Medium, High</em></strong>\n*  to make bins of equal size use numpy's method <code><a href=\"https://numpy.org/doc/stable/reference/generated/numpy.linspace.html?utm_medium=Exinfluencer&utm_source=Exinfluencer&utm_content=000026UJ&utm_term=10006555&utm_id=NA-SkillsNetwork-Channel-SkillsNetworkGuidedProjectsIBMSkillsNetworkGPXX026LEN2588-2023-01-01\">numpy.linspace(start, stop, num)</a></code>\n*  apply the function <code><a href=\"https://pandas.pydata.org/docs/reference/api/pandas.cut.html?utm_medium=Exinfluencer&utm_source=Exinfluencer&utm_content=000026UJ&utm_term=10006555&utm_id=NA-SkillsNetwork-Channel-SkillsNetworkGuidedProjectsIBMSkillsNetworkGPXX026LEN2588-2023-01-01&highlight=cut#pandas.cut\">df.cut()</a></code> to determine what each binned value belongs to\n*  for converting to needed datatype use <code><a href=\"https://pandas.pydata.org/docs/reference/api/pandas.DataFrame.astype.html?utm_medium=Exinfluencer&utm_source=Exinfluencer&utm_content=000026UJ&utm_term=10006555&utm_id=NA-SkillsNetwork-Channel-SkillsNetworkGuidedProjectsIBMSkillsNetworkGPXX026LEN2588-2023-01-01\">df[[columns]].astype('category')</a></code> method\n",
      "metadata": {}
    },
    {
      "cell_type": "code",
      "source": "# Write your code below and press Shift+Enter to execute\n# List of categories\n...\n# Write function responsible of creating categories\n...\n# Create categories for indicators\n...",
      "metadata": {},
      "execution_count": null,
      "outputs": []
    },
    {
      "cell_type": "markdown",
      "source": "<div class=\"alert alert-danger alertdanger\" style=\"margin-top: 20px\">\n\n<b style=\"font-size: 2em; font-weight: 600;\">Question #4:</b>\n\nFind a correlation between BTC price and obtained indicators. Build a heatmap.\n</div>\n",
      "metadata": {}
    },
    {
      "cell_type": "markdown",
      "source": "<em><strong>Note:</strong></em>\n*   use <code><a href=\"https://pandas.pydata.org/docs/reference/api/pandas.DataFrame.corr.html?utm_medium=Exinfluencer&utm_source=Exinfluencer&utm_content=000026UJ&utm_term=10006555&utm_id=NA-SkillsNetwork-Channel-SkillsNetworkGuidedProjectsIBMSkillsNetworkGPXX026LEN2588-2023-01-01\">df[[columns]].corr()</a></code> to calculate a correlation for specific columns\n*   use <code><a href=\"\">seaborn.heatmap()</a></code> to visualize a correlation heatmap\n",
      "metadata": {}
    },
    {
      "cell_type": "code",
      "source": "# Write your code below and press Shift+Enter to execute\n# Find correlation\n",
      "metadata": {},
      "execution_count": null,
      "outputs": []
    },
    {
      "cell_type": "code",
      "source": "# Write your code below and press Shift+Enter to execute\n# Build a heatmap\n",
      "metadata": {},
      "execution_count": null,
      "outputs": []
    },
    {
      "cell_type": "markdown",
      "source": "<div class=\"alert alert-danger alertdanger\" style=\"margin-top: 20px\">\n\n<b style=\"font-size: 2em; font-weight: 600;\">Question #5:</b>\n\nPlot a scatterplot with the fitted regression line for each indicator and BTC price.\n</div>\n",
      "metadata": {}
    },
    {
      "cell_type": "markdown",
      "source": "<em><strong>Note:</strong></em>\n*    use <code><a href=\"https://seaborn.pydata.org/generated/seaborn.regplot.html?utm_medium=Exinfluencer&utm_source=Exinfluencer&utm_content=000026UJ&utm_term=10006555&utm_id=NA-SkillsNetwork-Channel-SkillsNetworkGuidedProjectsIBMSkillsNetworkGPXX026LEN2588-2023-01-01\">seaborn.regplot(x, y, data)</a></code> method to plot data and a linear regression model fit\n*    consider using <code><a href=\"https://matplotlib.org/stable/api/_as_gen/matplotlib.pyplot.xlabel.html?utm_medium=Exinfluencer&utm_source=Exinfluencer&utm_content=000026UJ&utm_term=10006555&utm_id=NA-SkillsNetwork-Channel-SkillsNetworkGuidedProjectsIBMSkillsNetworkGPXX026LEN2588-2023-01-01\">plt.xlabel()</a></code> and <code><a href=\"https://matplotlib.org/stable/api/_as_gen/matplotlib.pyplot.ylabel.html?utm_medium=Exinfluencer&utm_source=Exinfluencer&utm_content=000026UJ&utm_term=10006555&utm_id=NA-SkillsNetwork-Channel-SkillsNetworkGuidedProjectsIBMSkillsNetworkGPXX026LEN2588-2023-01-01\">plt.ylabel()</a></code> to set label for axises\n*    do <em>NOT</em> forget to use <code><a href=\"https://matplotlib.org/stable/api/_as_gen/matplotlib.pyplot.show.html?utm_medium=Exinfluencer&utm_source=Exinfluencer&utm_content=000026UJ&utm_term=10006555&utm_id=NA-SkillsNetwork-Channel-SkillsNetworkGuidedProjectsIBMSkillsNetworkGPXX026LEN2588-2023-01-01\">plt.show()</a></code> method to display all figures\n",
      "metadata": {}
    },
    {
      "cell_type": "code",
      "source": "# Write your code below and press Shift+Enter to execute\n",
      "metadata": {},
      "execution_count": null,
      "outputs": []
    },
    {
      "cell_type": "markdown",
      "source": "<div class=\"alert alert-danger alertdanger\" style=\"margin-top: 20px\">\n\n<b style=\"font-size: 2em; font-weight: 600;\">Question #6:</b>\n\nFor each pair of price and indicator:\n*   calculate Pearson Correlation and P-value  \n*   perform Durbin-Watson Test\n*   perform Granger Causality Test\n</div>\n",
      "metadata": {}
    },
    {
      "cell_type": "markdown",
      "source": "<em><strong>Note:</strong></em>\n*   use <code><a href=\"https://docs.scipy.org/doc/scipy/reference/generated/scipy.stats.pearsonr.html?utm_medium=Exinfluencer&utm_source=Exinfluencer&utm_content=000026UJ&utm_term=10006555&utm_id=NA-SkillsNetwork-Channel-SkillsNetworkGuidedProjectsIBMSkillsNetworkGPXX026LEN2588-2023-01-01\">scipy.stats.pearsonr(x, y)</a></code> method for <em>Pearson Correlation</em> and <em>P-value</em> calculation\n*   you can also use wriiten in the previous modules functions to perform <em>Durbin-Watson</em> and <em>Granger Causality Test</em>\n",
      "metadata": {}
    },
    {
      "cell_type": "code",
      "source": "# Write your code below and press Shift+Enter to execute\n# Calculate Pearson Correlation and P-value for each of indicators and price \n",
      "metadata": {},
      "execution_count": null,
      "outputs": []
    },
    {
      "cell_type": "code",
      "source": "# Write your code below and press Shift+Enter to execute\n# Perform Durbin Watson Test\n",
      "metadata": {},
      "execution_count": null,
      "outputs": []
    },
    {
      "cell_type": "code",
      "source": "# Write your code below and press Shift+Enter to execute\n# Perform Granger-Causality Test\n",
      "metadata": {},
      "execution_count": null,
      "outputs": []
    },
    {
      "cell_type": "markdown",
      "source": "<div class=\"alert alert-danger alertdanger\" style=\"margin-top: 20px\">\n\n<b style=\"font-size: 2em; font-weight: 600;\">Question #7:</b>\n\nCreate a Multiple Linear Regression model with <em>indicators as input values</em> and <em>price as an output value.</em> \n    \nFit the model and make a prediction.\n\n</div>\n",
      "metadata": {}
    },
    {
      "cell_type": "code",
      "source": "# Write your code below and press Shift+Enter to execute\n# Create Multiple Linear Regression\n...\n# Fit the model\n...\n# Make prediction\n...",
      "metadata": {},
      "execution_count": null,
      "outputs": []
    },
    {
      "cell_type": "markdown",
      "source": "<div class=\"alert alert-danger alertdanger\" style=\"margin-top: 20px\">\n\n<b style=\"font-size: 2em; font-weight: 600;\">Question #8:</b>\n\nPlot Multiple Linear Regression. \n</div>\n",
      "metadata": {}
    },
    {
      "cell_type": "code",
      "source": "# Write your code below and press Shift+Enter to execute\n# Plot Multiple Linear Regression\n",
      "metadata": {},
      "execution_count": null,
      "outputs": []
    },
    {
      "cell_type": "markdown",
      "source": "<div class=\"alert alert-danger alertdanger\" style=\"margin-top: 20px\">\n\n<b style=\"font-size: 2em; font-weight: 600;\">Question #9:</b>\n\nFor Multiple Linear Regression model calculate $R^2$, <em>MSE, MAPE</em> metrics.\n</div>\n",
      "metadata": {}
    },
    {
      "cell_type": "markdown",
      "source": "<strong><em>Note:</em></strong> to calculate metrics above use the following functions:\n*   $R^2$ − <code><a href=\"https://scikit-learn.org/stable/modules/generated/sklearn.metrics.r2_score.html?utm_medium=Exinfluencer&utm_source=Exinfluencer&utm_content=000026UJ&utm_term=10006555&utm_id=NA-SkillsNetwork-Channel-SkillsNetworkGuidedProjectsIBMSkillsNetworkGPXX026LEN2588-2023-01-01\">r2_score(y, y_pred)</a></code>\n*   <em>MSE</em> − <code><a href=\"https://scikit-learn.org/stable/modules/generated/sklearn.metrics.mean_squared_error.html?utm_medium=Exinfluencer&utm_source=Exinfluencer&utm_content=000026UJ&utm_term=10006555&utm_id=NA-SkillsNetwork-Channel-SkillsNetworkGuidedProjectsIBMSkillsNetworkGPXX026LEN2588-2023-01-01\">mean_squared_error(y, y_pred)</a></code>\n*   <em>MAPE</em> − <code><a href=\"https://scikit-learn.org/stable/modules/generated/sklearn.metrics.mean_absolute_percentage_error.html?utm_medium=Exinfluencer&utm_source=Exinfluencer&utm_content=000026UJ&utm_term=10006555&utm_id=NA-SkillsNetwork-Channel-SkillsNetworkGuidedProjectsIBMSkillsNetworkGPXX026LEN2588-2023-01-01\">mean_absolute_percentage_error(y, y_pred)</a></code>\n",
      "metadata": {}
    },
    {
      "cell_type": "code",
      "source": "# Write your code below and press Shift+Enter to execute\n# Calculate metrics\n",
      "metadata": {},
      "execution_count": null,
      "outputs": []
    },
    {
      "cell_type": "markdown",
      "source": "<div class=\"alert alert-danger alertdanger\" style=\"margin-top: 20px\">\n\n<b style=\"font-size: 2em; font-weight: 600;\">Question #10:</b>\n\nEncode categorical features <em>'SMA_binned', 'MACD_binned', 'SO_binned', 'Price_binned'</em> as an integer array in order to use them in classification.\n</div>\n",
      "metadata": {}
    },
    {
      "cell_type": "markdown",
      "source": "<strong><em>Note:</em></strong> to do this task you can use:\n*   <em>[LabelEncoder](https://scikit-learn.org/stable/modules/generated/sklearn.preprocessing.LabelEncoder.html?utm_medium=Exinfluencer&utm_source=Exinfluencer&utm_content=000026UJ&utm_term=10006555&utm_id=NA-SkillsNetwork-Channel-SkillsNetworkGuidedProjectsIBMSkillsNetworkGPXX01KTEN2525-2023-01-01)</em>\n*   <em>[OrdinalEncoder](https://scikit-learn.org/stable/modules/generated/sklearn.preprocessing.OrdinalEncoder.html?utm_medium=Exinfluencer&utm_source=Exinfluencer&utm_content=000026UJ&utm_term=10006555&utm_id=NA-SkillsNetwork-Channel-SkillsNetworkGuidedProjectsIBMSkillsNetworkGPXX01KTEN2525-2023-01-01)</em>\n",
      "metadata": {}
    },
    {
      "cell_type": "code",
      "source": "# Write your code below and press Shift+Enter to execute\n# Encode categorical features\n",
      "metadata": {},
      "execution_count": null,
      "outputs": []
    },
    {
      "cell_type": "markdown",
      "source": "<div class=\"alert alert-danger alertdanger\" style=\"margin-top: 20px\">\n\n<b style=\"font-size: 2em; font-weight: 600;\">Question #11:</b>\n\nSplit dataframe into train and test subsets.\n</div>\n",
      "metadata": {}
    },
    {
      "cell_type": "markdown",
      "source": "<em><strong>Note:</strong></em> use <em><a href=\"\">train_test_split(X, y, test_size)</a></em> to split the dataframe.\n",
      "metadata": {}
    },
    {
      "cell_type": "code",
      "source": "# Write your code below and press Shift+Enter to execute\n# Split into train and test subsets\n",
      "metadata": {},
      "execution_count": null,
      "outputs": []
    },
    {
      "cell_type": "markdown",
      "source": "<div class=\"alert alert-danger alertdanger\" style=\"margin-top: 20px\">\n\n<b style=\"font-size: 2em; font-weight: 600;\">Question #12:</b>\n\nBuild a Decision Tree model and calculate its accuracy.\n</div>\n",
      "metadata": {}
    },
    {
      "cell_type": "markdown",
      "source": "<em><strong>Note:</strong></em> use the following links to complete this question:\n*   <a href=\"https://scikit-learn.org/stable/modules/tree.html?utm_medium=Exinfluencer&utm_source=Exinfluencer&utm_content=000026UJ&utm_term=10006555&utm_id=NA-SkillsNetwork-Channel-SkillsNetworkGuidedProjectsIBMSkillsNetworkGPXX026LEN2588-2023-01-01\"><em>Skicit-leran Decision Tree</em></a>\n*   <code><a href=\"https://scikit-learn.org/stable/modules/generated/sklearn.metrics.accuracy_score.html?utm_medium=Exinfluencer&utm_source=Exinfluencer&utm_content=000026UJ&utm_term=10006555&utm_id=NA-SkillsNetwork-Channel-SkillsNetworkGuidedProjectsIBMSkillsNetworkGPXX026LEN2588-2023-01-01\">accuracy_score()</a></code> to calculate accuracy\n",
      "metadata": {}
    },
    {
      "cell_type": "code",
      "source": "# Write your code below and press Shift+Enter to execute\n# Decision Tree\n",
      "metadata": {},
      "execution_count": null,
      "outputs": []
    },
    {
      "cell_type": "markdown",
      "source": "<div class=\"alert alert-danger alertdanger\" style=\"margin-top: 20px\">\n\n<b style=\"font-size: 2em; font-weight: 600;\">Question #13:</b>\n\nPlot a Decision Tree.\n</div>\n",
      "metadata": {}
    },
    {
      "cell_type": "markdown",
      "source": "<em><strong>Note:</strong></em> to plot a Decision Tree use one of the following methods:\n\n*   <code><a href=\"https://scikit-learn.org/stable/modules/generated/sklearn.tree.plot_tree.html?utm_medium=Exinfluencer&utm_source=Exinfluencer&utm_content=000026UJ&utm_term=10006555&utm_id=NA-SkillsNetwork-Channel-SkillsNetworkGuidedProjectsIBMSkillsNetworkGPXX01KTEN2525-2023-01-01\">plot_tree()</a></code>\n*   <code><a href=\"https://scikit-learn.org/stable/modules/generated/sklearn.tree.export_graphviz.html?utm_medium=Exinfluencer&utm_source=Exinfluencer&utm_content=000026UJ&utm_term=10006555&utm_id=NA-SkillsNetwork-Channel-SkillsNetworkGuidedProjectsIBMSkillsNetworkGPXX026LEN2588-2023-01-01\">export_graphviz()</a></code>\n",
      "metadata": {}
    },
    {
      "cell_type": "code",
      "source": "# Write your code below and press Shift+Enter to execute\n# Plot Decision Tree\n",
      "metadata": {},
      "execution_count": null,
      "outputs": []
    },
    {
      "cell_type": "markdown",
      "source": "### Thank you for completing this lab!\n\n## Authors\n<a href=\"https://author.skills.network/instructors/yaryna_beida?utm_medium=Exinfluencer&utm_source=Exinfluencer&utm_content=000026UJ&utm_term=10006555&utm_id=NA-SkillsNetwork-Channel-SkillsNetworkGuidedProjectsIBMSkillsNetworkGPXX026LEN2588-2023-01-01\">Yaryna Beida</a>\n\n<a href=\"https://author.skills.network/instructors/yaroslav_vyklyuk_2?utm_medium=Exinfluencer&utm_source=Exinfluencer&utm_content=000026UJ&utm_term=10006555&utm_id=NA-SkillsNetwork-Channel-SkillsNetworkGuidedProjectsIBMSkillsNetworkGPXX026LEN2588-2023-01-01\">Prof. Yaroslav Vyklyuk, DrSc, PhD</a>\n\n<a href=\"https://author.skills.network/instructors/mariya_fleychuk?utm_medium=Exinfluencer&utm_source=Exinfluencer&utm_content=000026UJ&utm_term=10006555&utm_id=NA-SkillsNetwork-Channel-SkillsNetworkGuidedProjectsIBMSkillsNetworkGPXX026LEN2588-2023-01-01\">Prof. Mariya Fleychuk, DrSc, PhD</a>\n\n\n\n## Change Log\n\n| Date (YYYY-MM-DD) | Version | Changed By | Change Description                 |\n| ----------------- | ------- | ---------- | ---------------------------------- |\n|2023-04-01|1.0| Yaryna Beida | Lab created |\n\n<hr>\n\n## <h3 align=\"center\"> © IBM Corporation 2023. All rights reserved. <h3/>\n",
      "metadata": {}
    }
  ]
}