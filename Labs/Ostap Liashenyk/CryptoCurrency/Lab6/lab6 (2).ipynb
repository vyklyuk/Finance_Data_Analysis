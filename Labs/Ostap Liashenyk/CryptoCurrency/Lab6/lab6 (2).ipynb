{
  "cells": [
    {
      "cell_type": "markdown",
      "id": "ec2274fa-cc01-4529-95e3-45f3027737f3",
      "metadata": {},
      "outputs": [],
      "source": [
        "<center>\n    <img src=\"https://cf-courses-data.s3.us.cloud-object-storage.appdomain.cloud/assets/logos/SN_web_lightmode.png\" width=\"500\" alt=\"cognitiveclass.ai logo\"  />\n</center>\n\n# **Investigation of cryptocurrency exchange rate dynamic (on the example of cryptocurrency pair MATIC/USD), сalculation and analysis of technical financial indicators, characterizing the cryptocurrency market (on the example of ATR, OBV, RSI, AD)**\n\n## **Lab 6. Final assignment**\n\n## **Tasks**\n* Formulate a problem to solve, related to cryptocurrency trading, using an available dataset;\n* Use the tools, described in previous labs;\n* Submit the main conclusions of solving the problem, which are relevant for a cryptocurrency trader.\n\nEstimated time needed: **2** hours\n\n## **Objectives**\n\nAfter completing this lab you will be able to:\n\n*   Be confident about your data analysis skills\n\n### **Columns**\n\n* #### `Ts` - the timestamp of the record\n* #### `Open` -  the price of the asset at the beginning of the trading period\n* #### `High` -  the highest price of the asset during the trading period\n* #### `Low` - the lowest price of the asset during the trading period.\n* #### `Close` - the price of the asset at the end of the trading period\n* #### `Volume` - the total number of shares or contracts of a particular asset that are traded during a given period\n* #### `Rec_count` -  the number of individual trades or transactions that have been executed during a given time period\n* #### `Avg_price` - the average price at which a particular asset has been bought or sold during a given period\n* #### `ATR` - average true range indicator\n* #### `OBV` - on-balance volume indicator\n* #### `RSI` - relative strength index indicator\n* #### `AD` - accumulation / distribution indicator\n* #### `BTC_price` - the avarage price from BTC/BUSD dataset \n* #### `BNB_price` - the avarage price from BNB/BUSD dataset\n* ##### Additional columns:  'Open_EUR', 'BTC_price_EUR', 'high_EUR', 'High_Normalized', 'Low_Normalized','close_low', 'close_medium', 'close_high', 'rec_count-binned','rec_count_low', 'rec_count_medium', 'rec_count_high'"
      ]
    },
    {
      "cell_type": "markdown",
      "id": "1210ea8a-2a02-4bb3-9952-6389d70dba53",
      "metadata": {},
      "outputs": [],
      "source": [
        "You will need the following libraries:\n"
      ]
    },
    {
      "cell_type": "code",
      "id": "bef91b07-bf7f-4fad-a450-1aa7f2ca1c7a",
      "metadata": {},
      "outputs": [],
      "source": [
        "! conda install -c conda-forge ta -y\n! conda install scikit-learn -y"
      ]
    },
    {
      "cell_type": "code",
      "id": "93ff3c3a-1b0f-4d85-9b05-baa5c25702fb",
      "metadata": {},
      "outputs": [],
      "source": [
        "import pandas as pd\nimport numpy as np\nimport matplotlib.pyplot as plt\nimport matplotlib as mpl\nimport ta\nimport warnings\nwarnings.filterwarnings(\"ignore\")\nimport seaborn as sns \nfrom sklearn.linear_model import LinearRegression\nfrom sklearn.pipeline import Pipeline\nfrom sklearn.preprocessing import StandardScaler,PolynomialFeatures\nfrom sklearn.linear_model import Ridge\nfrom sklearn.metrics import r2_score\nfrom sklearn.model_selection import train_test_split\n\n#set precision \npd.set_option(\"display.precision\", 2)\n#set precision for float\npd.options.display.float_format = '{:.2f}'.format"
      ]
    },
    {
      "cell_type": "markdown",
      "id": "46f22b05-634b-4d57-849d-18bda2590bca",
      "metadata": {},
      "outputs": [],
      "source": [
        "This function will download the dataset into your browser \n"
      ]
    },
    {
      "cell_type": "markdown",
      "id": "39d29c6e-4c1a-4673-801b-87a25697b6b5",
      "metadata": {},
      "outputs": [],
      "source": [
        "<b>Importing the Data</b>\n"
      ]
    },
    {
      "cell_type": "markdown",
      "id": "e7472c61-2c25-40b7-81ef-67656be78a05",
      "metadata": {},
      "outputs": [],
      "source": [
        "you will need to download the dataset; if you are running locally, please comment out the following \n"
      ]
    },
    {
      "cell_type": "code",
      "id": "82886bba-deba-4a50-a1f5-5da3518d0b52",
      "metadata": {},
      "outputs": [],
      "source": [
        "path = 'https://cf-courses-data.s3.us.cloud-object-storage.appdomain.cloud/IBMSkillsNetwork-GPXX053KEN/Lab2DataSet.csv'"
      ]
    },
    {
      "cell_type": "markdown",
      "id": "72a75337-15e4-4276-b060-8c8236910fc5",
      "metadata": {},
      "outputs": [],
      "source": [
        "Load the csv:\n"
      ]
    },
    {
      "cell_type": "code",
      "id": "183077e1-0490-4627-a376-3f3c47bbe6ea",
      "metadata": {},
      "outputs": [],
      "source": [
        "df = pd.read_csv(path,low_memory=False, index_col=0)\ndf.index = df.index.astype(\"datetime64[ns]\")\ndf.head()"
      ]
    },
    {
      "cell_type": "markdown",
      "id": "597c0aad-cae8-41d2-a343-3588d16c409f",
      "metadata": {},
      "outputs": [],
      "source": [
        "We use the method  <code>head()</code>  to display the first 5 columns of the dataframe:\n"
      ]
    },
    {
      "cell_type": "code",
      "id": "8f65d16d-c04f-4763-bea9-40db4d825264",
      "metadata": {},
      "outputs": [],
      "source": [
        "df.head()"
      ]
    },
    {
      "cell_type": "markdown",
      "id": "6227d3aa-3679-440f-93ae-9e5c102f69cb",
      "metadata": {},
      "outputs": [],
      "source": [
        "<div class=\"alert alert-danger alertdanger\" style=\"margin-top: 20px\">\n<b style=\"font-size: 2em; font-weight: bold;\">Question #1)</b><br>\n    <b>Display the data types of each column using the attribute `dtype`.</b>\n</div>"
      ]
    },
    {
      "cell_type": "code",
      "id": "c0c67097-9ce9-45ff-952a-bf77f88b57ce",
      "metadata": {},
      "outputs": [],
      "source": [
        ""
      ]
    },
    {
      "cell_type": "markdown",
      "id": "93a66e32-11c1-4b0c-a3f8-e35d5ce8a1c3",
      "metadata": {},
      "outputs": [],
      "source": [
        "# Aroon Indicator"
      ]
    },
    {
      "cell_type": "markdown",
      "id": "a038797c-c49c-496b-9c0c-c61ebf6300d2",
      "metadata": {},
      "outputs": [],
      "source": [
        "The Aroon Indicator is a technical analysis tool used to measure the strength and direction of a trend in a financial market. It consists of two separate lines: the Aroon-Up line and the Aroon-Down line.\n\nThe Aroon-Up line measures the number of periods since the most recent high in price, while the Aroon-Down line measures the number of periods since the most recent low in price.\n\nThe Aroon Indicator is calculated as follows:\n\n<code>Aroon-Up = ((Number of periods) - (Number of periods since highest high)) / (Number of periods) x 100</code>\n\n<code>Aroon-Down = ((Number of periods) - (Number of periods since lowest low)) / (Number of periods) x 100</code>\n\nThe two lines are plotted on a chart, typically ranging from 0 to 100. When the Aroon-Up line is above the Aroon-Down line, it indicates a bullish trend, while a bearish trend is indicated when the Aroon-Down line is above the Aroon-Up line.\n\nTraders use the Aroon Indicator to identify potential trend changes and to help determine when to enter or exit a trade. It is often used in conjunction with other technical analysis tools to confirm trading signals."
      ]
    },
    {
      "cell_type": "markdown",
      "id": "34b5e275-b023-4b2a-bb28-610494019e0f",
      "metadata": {},
      "outputs": [],
      "source": [
        "<div class=\"alert alert-danger alertdanger\" style=\"margin-top: 20px\">\n<h1>Question #2)</h1>  Calculate Aroon Indicator.\n"
      ]
    },
    {
      "cell_type": "code",
      "id": "9631fcd2-9136-46de-99b3-1986d0a6e3d3",
      "metadata": {},
      "outputs": [],
      "source": [
        ""
      ]
    },
    {
      "cell_type": "markdown",
      "id": "1b4cc97c-de0f-40b9-a5a5-7283828b0970",
      "metadata": {},
      "outputs": [],
      "source": [
        "# Williams Percent Range\n(WPR) is an indicator used in technical analysis of financial markets to identify overbought or oversold conditions of an asset. The WPR indicator is based on the assumption that the market tends to close near the high during an uptrend and near the low during a downtrend.\n\nThe WPR indicator measures the distance between the current closing price and the highest high over a certain number of periods, and expresses it as a percentage of that range. It is calculated using the formula:\n\n <code>WPR = ((Highest High - Close)/(Highest High - Lowest Low)) x (-100)\n\nThe WPR indicator is plotted on a chart as a line that oscillates between -100 and 0. A reading above -20 is considered overbought, while a reading below -80 is considered oversold. Traders and investors use the WPR indicator to identify potential buy or sell signals, as well as to confirm the strength of a trend."
      ]
    },
    {
      "cell_type": "markdown",
      "id": "894944df-74c0-4c4a-bd9d-7efeccb86844",
      "metadata": {},
      "outputs": [],
      "source": [
        "<div class=\"alert alert-danger alertdanger\" style=\"margin-top: 20px\">\n    <b style=\"font-size: 2em; font-weight: bold;\">Question #3)</b><br>  Calculate WPR."
      ]
    },
    {
      "cell_type": "code",
      "id": "6cafde9c-0adb-422a-b102-15d62f9f2f35",
      "metadata": {},
      "outputs": [],
      "source": [
        ""
      ]
    },
    {
      "cell_type": "markdown",
      "id": "64679e96-6407-4b27-a9b1-e513ded496e8",
      "metadata": {},
      "outputs": [],
      "source": [
        "# The Volume Weighted Average Price (VWAP) \nis a trading indicator that is commonly used by traders and investors to determine the average price of a security over a specific time period. It is calculated by taking the average price of all transactions during the trading day, weighted by the volume of each transaction. This means that transactions with higher volumes have a greater impact on the overall VWAP calculation.\n\nThe VWAP is often used by institutional investors and traders to measure the efficiency of their trades, as it provides an indication of whether they were able to buy or sell at a better price than the average market price. Additionally, it can be used to identify potential areas of support or resistance in a security's price, as VWAP can act as a key level where traders may look to enter or exit positions."
      ]
    },
    {
      "cell_type": "markdown",
      "id": "1bb0eb76-e639-41a8-98d6-6ff24f731b52",
      "metadata": {},
      "outputs": [],
      "source": [
        "<div class=\"alert alert-danger alertdanger\" style=\"margin-top: 20px\">\n<b style=\"font-size: 2em; font-weight: bold;\">Question #4)</b><br>  Calculate VWAP."
      ]
    },
    {
      "cell_type": "code",
      "id": "26248696-c60b-4d3a-90d6-048dd32db666",
      "metadata": {},
      "outputs": [],
      "source": [
        ""
      ]
    },
    {
      "cell_type": "markdown",
      "id": "4c20c0a0-6eae-4670-8f23-af76480fbd69",
      "metadata": {},
      "outputs": [],
      "source": [
        "<div class=\"alert alert-danger alertdanger\" style=\"margin-top: 20px\">\n<b style=\"font-size: 2em; font-weight: bold;\">Question #5)</b><br> Display correlation between new indicators and Volume.\n"
      ]
    },
    {
      "cell_type": "code",
      "id": "bdfe4a1f-31a8-4fdd-ab58-2bdfe4f04527",
      "metadata": {},
      "outputs": [],
      "source": [
        ""
      ]
    },
    {
      "cell_type": "markdown",
      "id": "53321326-6fcc-42d8-9f99-61d99b563611",
      "metadata": {},
      "outputs": [],
      "source": [
        "<div class=\"alert alert-danger alertdanger\" style=\"margin-top: 20px\">\n<b style=\"font-size: 2em; font-weight: bold;\">Question #6)</b><br> Remove NAN elements from the beginning and end of the dataset\n"
      ]
    },
    {
      "cell_type": "code",
      "id": "9496aa8f-4baf-4e2e-b4b1-d1ee81d69aea",
      "metadata": {},
      "outputs": [],
      "source": [
        ""
      ]
    },
    {
      "cell_type": "markdown",
      "id": "2b3998cd-bd2c-404a-921e-5c5db0b4fb3e",
      "metadata": {},
      "outputs": [],
      "source": [
        "<div class=\"alert alert-danger alertdanger\" style=\"margin-top: 20px\">\n<b style=\"font-size: 2em; font-weight: bold;\">Question #6):</b><br> Show heatmap of correlatoin  between Volume and new indicators\n"
      ]
    },
    {
      "cell_type": "code",
      "id": "be399c88-f969-486e-8d13-6cf18210abf7",
      "metadata": {},
      "outputs": [],
      "source": [
        ""
      ]
    },
    {
      "cell_type": "markdown",
      "id": "e8079910-5180-4793-be9a-a17350bd1027",
      "metadata": {},
      "outputs": [],
      "source": [
        "<div class=\"alert alert-danger alertdanger\" style=\"margin-top: 20px\">\n<b style=\"font-size: 2em; font-weight: bold;\">Question #8)</b> Build regplot using \"VWAP\" as X and Volume as Y\n"
      ]
    },
    {
      "cell_type": "code",
      "id": "68d6e1e9-e665-4eb0-be4d-bb2bbade5589",
      "metadata": {},
      "outputs": [],
      "source": [
        ""
      ]
    },
    {
      "cell_type": "markdown",
      "id": "eee47faf-13d5-4d7e-b1b4-554c792817b2",
      "metadata": {},
      "outputs": [],
      "source": [
        "<div class=\"alert alert-danger alertdanger\" style=\"margin-top: 20px\">\n<b style=\"font-size: 2em; font-weight: bold;\">Question #9)</b><br> Fit a linear regression model to predict the <code>'Volume'</code> using the <code>'Aroon-Down'</code> then calculate $R^{2}$:\n"
      ]
    },
    {
      "cell_type": "code",
      "id": "c26863ec-db89-48e7-837c-22a92447c28d",
      "metadata": {},
      "outputs": [],
      "source": [
        ""
      ]
    },
    {
      "cell_type": "markdown",
      "id": "61e63096-e9ee-4edd-94f9-2857f3ebe8a2",
      "metadata": {},
      "outputs": [],
      "source": [
        "<div class=\"alert alert-danger alertdanger\" style=\"margin-top: 20px\">\n    <b style=\"font-size: 2em; font-weight: bold;\">Question #10):</b>\nUse list of features to predict the 'Volume', split the data into training and testing and determine the  $R^{2}$\n  on the test data."
      ]
    },
    {
      "cell_type": "code",
      "id": "6d64ce14-254d-4dad-b2ab-ba37d2d800e9",
      "metadata": {},
      "outputs": [],
      "source": [
        ""
      ]
    },
    {
      "cell_type": "markdown",
      "id": "38d82d38-9b85-405b-9cb6-2be2d037bee7",
      "metadata": {},
      "outputs": [],
      "source": [
        "<div class=\"alert alert-danger alertdanger\" style=\"margin-top: 20px\">\n<b style=\"font-size: 2em; font-weight: bold;\"> Question #11)</b><br> Create and fit a Ridge regression object using the training data ('WPR','Aroon-Up','Aroon-Down','VWAP'), setting the alpha parameter to 1 and calculating the $R^{2}$ using the test data. Take a screenshot of your code and the $R^{2}$."
      ]
    },
    {
      "cell_type": "code",
      "id": "223a4c0c-503a-4b90-89b0-f46b5ed2a0e9",
      "metadata": {},
      "outputs": [],
      "source": [
        ""
      ]
    },
    {
      "cell_type": "markdown",
      "id": "755f2f1f-272e-480c-aca6-9efe098220bb",
      "metadata": {},
      "outputs": [],
      "source": [
        " <div class=\"alert alert-danger alertdanger\" style=\"margin-top: 20px\">\n <b style=\"font-size: 2em; font-weight: bold;\">Question #12)</b><br> Perform a 2nd order polynomial transform on both the training data and testing data ('WPR','Aroon-Up','Aroon-Down','VWAP'). Create and fit a Ridge regression object using the training data(alpha=1). Calculate the  𝑅2\n  utilizing the test data provided. Take a screenshot of your code and the  𝑅2\n ."
      ]
    },
    {
      "cell_type": "code",
      "id": "50b95483-d40f-484c-8edf-c52daf3fcc52",
      "metadata": {},
      "outputs": [],
      "source": [
        ""
      ]
    },
    {
      "cell_type": "markdown",
      "id": "1047bfc4-7aaf-4f1c-89ed-8c65dbc910b5",
      "metadata": {},
      "outputs": [],
      "source": [
        "<a href=\"https://dataplatform.cloud.ibm.com/docs/content/wsj/analyze-data/share-notebooks.html/?utm_medium=Exinfluencer&utm_source=Exinfluencer&utm_content=000026UJ&utm_term=10006555&utm_id=NA-SkillsNetwork-Channel-SkillsNetworkCoursesIBMDeveloperSkillsNetworkDA0101ENSkillsNetwork20235326-2021-01-01\"> CLICK HERE</a> to see how to share your notebook\n"
      ]
    },
    {
      "cell_type": "markdown",
      "id": "4d02506d-bf87-4328-a919-ff147622b6f6",
      "metadata": {},
      "outputs": [],
      "source": [
        "# **Thank you for completing this lab!**\n\n## Author\n\n<a href=\"https://author.skills.network/instructors/ostap_liashenyk\" target=\"_blank\" >Ostap Liashenyk</a>\n\n<a href=\"https://author.skills.network/instructors/yaroslav_vyklyuk_2?utm_medium=Exinfluencer&utm_source=Exinfluencer&utm_content=000026UJ&utm_term=10006555&utm_id=NA-SkillsNetwork-Channel-SkillsNetworkGuidedProjectsIBMSkillsNetworkGPXX0QGDEN2306-2023-01-01\">Prof. Yaroslav Vyklyuk, DrSc, PhD</a>\n\n<a href=\"https://author.skills.network/instructors/mariya_fleychuk?utm_medium=Exinfluencer&utm_source=Exinfluencer&utm_content=000026UJ&utm_term=10006555&utm_id=NA-SkillsNetwork-Channel-SkillsNetworkGuidedProjectsIBMSkillsNetworkGPXX0QGDEN2306-2023-01-01\">Prof. Mariya Fleychuk, DrSc, PhD</a>\n\n## Change Log\n\n| Date (YYYY-MM-DD) | Version | Changed By      | Change Description                                         |\n| ----------------- | ------- | ----------------| ---------------------------------------------------------- |\n|     2023-04-01    |   1.0   | Ostap Liashenyk | Creation of the lab                                        |\n\n<hr>\n\n## <h3 align=\"center\"> © IBM Corporation 2023. All rights reserved. </h3>\n"
      ]
    },
    {
      "cell_type": "code",
      "id": "6b87c5ba-5c73-4150-a1ac-1d1d0f5a382a",
      "metadata": {},
      "outputs": [],
      "source": [
        ""
      ]
    }
  ],
  "metadata": {
    "language_info": {
      "name": ""
    },
    "kernelspec": {
      "name": "",
      "display_name": ""
    }
  },
  "nbformat": 4,
  "nbformat_minor": 4
}