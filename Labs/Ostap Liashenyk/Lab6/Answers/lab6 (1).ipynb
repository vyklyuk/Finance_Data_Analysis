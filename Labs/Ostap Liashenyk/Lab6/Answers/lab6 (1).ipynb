{
  "cells": [
    {
      "cell_type": "markdown",
      "id": "1b40baf9-d031-48b6-ae65-65aa17eab540",
      "metadata": {},
      "outputs": [],
      "source": [
        "<center>\n    <img src=\"https://cf-courses-data.s3.us.cloud-object-storage.appdomain.cloud/assets/logos/SN_web_lightmode.png\" width=\"500\" alt=\"cognitiveclass.ai logo\"  />\n</center>\n\n# **Investigation of cryptocurrency exchange rate dynamic (on the example of cryptocurrency pair MATIC/USD), сalculation and analysis of technical financial indicators, characterizing the cryptocurrency market (on the example of ATR, OBV, RSI, AD)**\n\n## **Lab 6. Final assignment**\n\n## **Tasks**\n* Formulate a problem to solve, related to cryptocurrency trading, using an available dataset;\n* Use the tools, described in previous labs;\n* Submit the main conclusions of solving the problem, which are relevant for a cryptocurrency trader.\n\nEstimated time needed: **2** hours\n\n## **Objectives**\n\nAfter completing this lab you will be able to:\n\n*   Be confident about your data analysis skills\n\n### **Columns**\n\n* #### `Ts` - the timestamp of the record\n* #### `Open` -  the price of the asset at the beginning of the trading period\n* #### `High` -  the highest price of the asset during the trading period\n* #### `Low` - the lowest price of the asset during the trading period.\n* #### `Close` - the price of the asset at the end of the trading period\n* #### `Volume` - the total number of shares or contracts of a particular asset that are traded during a given period\n* #### `Rec_count` -  the number of individual trades or transactions that have been executed during a given time period\n* #### `Avg_price` - the average price at which a particular asset has been bought or sold during a given period\n* #### `ATR` - average true range indicator\n* #### `OBV` - on-balance volume indicator\n* #### `RSI` - relative strength index indicator\n* #### `AD` - accumulation / distribution indicator\n* #### `BTC_price` - the avarage price from BTC/BUSD dataset \n* #### `BNB_price` - the avarage price from BNB/BUSD dataset\n* ##### Additional columns:  'Open_EUR', 'BTC_price_EUR', 'high_EUR', 'High_Normalized', 'Low_Normalized','close_low', 'close_medium', 'close_high', 'rec_count-binned','rec_count_low', 'rec_count_medium', 'rec_count_high'"
      ]
    },
    {
      "cell_type": "markdown",
      "id": "70bc041f-e9a5-4384-9c09-d56f545b0ab8",
      "metadata": {},
      "outputs": [],
      "source": [
        "You will need the following libraries:\n"
      ]
    },
    {
      "cell_type": "code",
      "id": "515972e2-b1bd-438b-bfd5-ce1ed23c6aa2",
      "metadata": {},
      "outputs": [],
      "source": [
        "! conda install -c conda-forge ta -y\n! conda install scikit-learn -y"
      ]
    },
    {
      "cell_type": "code",
      "id": "f24f8680-f8bd-40b0-bbfb-a9cf2cb484d2",
      "metadata": {},
      "outputs": [],
      "source": [
        "import pandas as pd\nimport numpy as np\nimport matplotlib.pyplot as plt\nimport matplotlib as mpl\nimport ta\nimport warnings\nwarnings.filterwarnings(\"ignore\")\nimport seaborn as sns \nfrom sklearn.linear_model import LinearRegression\nfrom sklearn.pipeline import Pipeline\nfrom sklearn.preprocessing import StandardScaler,PolynomialFeatures\nfrom sklearn.linear_model import Ridge\nfrom sklearn.metrics import r2_score\nfrom sklearn.model_selection import train_test_split\n\n#set precision \npd.set_option(\"display.precision\", 2)\n#set precision for float\npd.options.display.float_format = '{:.2f}'.format"
      ]
    },
    {
      "cell_type": "markdown",
      "id": "efe7a5c9-51e9-4c6c-9e0a-dfda350debe5",
      "metadata": {},
      "outputs": [],
      "source": [
        "This function will download the dataset into your browser \n"
      ]
    },
    {
      "cell_type": "markdown",
      "id": "f29d4800-c0e2-428e-a58b-a12712a9b343",
      "metadata": {},
      "outputs": [],
      "source": [
        "<b>Importing the Data</b>\n"
      ]
    },
    {
      "cell_type": "markdown",
      "id": "57510c6d-224b-413c-b5af-98f5431d7e21",
      "metadata": {},
      "outputs": [],
      "source": [
        "you will need to download the dataset; if you are running locally, please comment out the following \n"
      ]
    },
    {
      "cell_type": "code",
      "id": "f2cae7d7-b89e-48de-bd71-99b5a3c4324e",
      "metadata": {},
      "outputs": [],
      "source": [
        "path = 'https://cf-courses-data.s3.us.cloud-object-storage.appdomain.cloud/IBMSkillsNetwork-GPXX053KEN/Lab2DataSet.csv'"
      ]
    },
    {
      "cell_type": "markdown",
      "id": "171272d5-e2ea-40e7-8311-2da44bb4e3ae",
      "metadata": {},
      "outputs": [],
      "source": [
        "Load the csv:\n"
      ]
    },
    {
      "cell_type": "code",
      "id": "df7185f3-6397-410d-9c94-295a2c3e6d66",
      "metadata": {},
      "outputs": [],
      "source": [
        "df = pd.read_csv(path,low_memory=False, index_col=0)\ndf.index = df.index.astype(\"datetime64[ns]\")\ndf.head()"
      ]
    },
    {
      "cell_type": "markdown",
      "id": "f8a80856-12be-4d55-b6d2-9a5fb8a30ca2",
      "metadata": {},
      "outputs": [],
      "source": [
        "We use the method  <code>head()</code>  to display the first 5 columns of the dataframe:\n"
      ]
    },
    {
      "cell_type": "code",
      "id": "fbb6e017-4feb-4789-92ad-8cf1314edb02",
      "metadata": {},
      "outputs": [],
      "source": [
        "df.head()"
      ]
    },
    {
      "cell_type": "markdown",
      "id": "08e6b8f2-8456-4a1c-8dba-6c3bfe1ff6d5",
      "metadata": {},
      "outputs": [],
      "source": [
        "<div class=\"alert alert-danger alertdanger\" style=\"margin-top: 20px\">\n<b style=\"font-size: 2em; font-weight: bold;\">Question #1)</b><br>\n    <b>Display the data types of each column using the attribute `dtype`.</b>\n</div>"
      ]
    },
    {
      "cell_type": "code",
      "id": "bdacd5b6-3d72-4738-bfbe-036802943fab",
      "metadata": {},
      "outputs": [],
      "source": [
        "df.dtypes"
      ]
    },
    {
      "cell_type": "markdown",
      "id": "9308c1b5-6f2f-4d93-a6b7-0525bb5cbb20",
      "metadata": {},
      "outputs": [],
      "source": [
        "# Aroon Indicator"
      ]
    },
    {
      "cell_type": "markdown",
      "id": "940e5c88-334f-49b3-802f-201f3b085e17",
      "metadata": {},
      "outputs": [],
      "source": [
        "The Aroon Indicator is a technical analysis tool used to measure the strength and direction of a trend in a financial market. It consists of two separate lines: the Aroon-Up line and the Aroon-Down line.\n\nThe Aroon-Up line measures the number of periods since the most recent high in price, while the Aroon-Down line measures the number of periods since the most recent low in price.\n\nThe Aroon Indicator is calculated as follows:\n\n<code>Aroon-Up = ((Number of periods) - (Number of periods since highest high)) / (Number of periods) x 100</code>\n\n<code>Aroon-Down = ((Number of periods) - (Number of periods since lowest low)) / (Number of periods) x 100</code>\n\nThe two lines are plotted on a chart, typically ranging from 0 to 100. When the Aroon-Up line is above the Aroon-Down line, it indicates a bullish trend, while a bearish trend is indicated when the Aroon-Down line is above the Aroon-Up line.\n\nTraders use the Aroon Indicator to identify potential trend changes and to help determine when to enter or exit a trade. It is often used in conjunction with other technical analysis tools to confirm trading signals."
      ]
    },
    {
      "cell_type": "markdown",
      "id": "2f91edbe-5195-4cce-b00d-1bf7ac62cb33",
      "metadata": {},
      "outputs": [],
      "source": [
        "<div class=\"alert alert-danger alertdanger\" style=\"margin-top: 20px\">\n<h1>Question #2)</h1>  Calculate Aroon Indicator.\n"
      ]
    },
    {
      "cell_type": "code",
      "id": "14f04cf0-a9de-426b-b5f7-5f50724ef9a8",
      "metadata": {},
      "outputs": [],
      "source": [
        "# Calculate the number of periods since the highest high and lowest low\nhigh_period = df['Volume'].rolling(window=len(df), min_periods=1).apply(lambda x: len(df) - x.argmax(), raw=True)\nlow_period = df['Volume'].rolling(window=len(df), min_periods=1).apply(lambda x: len(df) - x.argmin(), raw=True)\n\n# Calculate the Aroon-Up and Aroon-Down indicators\naroon_up = (len(df) - high_period) / len(df) * 100\naroon_down = (len(df) - low_period) / len(df) * 100\n\ndf['Aroon-Up'] = aroon_up\ndf['Aroon-Down'] = aroon_down\n\ndf[[\"Volume\",\"Aroon-Up\",\"Aroon-Down\"]].head(20)"
      ]
    },
    {
      "cell_type": "markdown",
      "id": "b9180aab-f272-4e20-a4ae-6cd8612b50b0",
      "metadata": {},
      "outputs": [],
      "source": [
        "# Williams Percent Range\n(WPR) is an indicator used in technical analysis of financial markets to identify overbought or oversold conditions of an asset. The WPR indicator is based on the assumption that the market tends to close near the high during an uptrend and near the low during a downtrend.\n\nThe WPR indicator measures the distance between the current closing price and the highest high over a certain number of periods, and expresses it as a percentage of that range. It is calculated using the formula:\n\n <code>WPR = ((Highest High - Close)/(Highest High - Lowest Low)) x (-100)\n\nThe WPR indicator is plotted on a chart as a line that oscillates between -100 and 0. A reading above -20 is considered overbought, while a reading below -80 is considered oversold. Traders and investors use the WPR indicator to identify potential buy or sell signals, as well as to confirm the strength of a trend."
      ]
    },
    {
      "cell_type": "markdown",
      "id": "66e1bb28-ad57-4b61-8bcc-0f2d9ff6648e",
      "metadata": {},
      "outputs": [],
      "source": [
        "<div class=\"alert alert-danger alertdanger\" style=\"margin-top: 20px\">\n    <b style=\"font-size: 2em; font-weight: bold;\">Question #3)</b><br>  Calculate WPR."
      ]
    },
    {
      "cell_type": "code",
      "id": "0f79cf4d-38b9-486a-9066-e3592977bf73",
      "metadata": {},
      "outputs": [],
      "source": [
        "# Calculate the highest high and lowest low over a given period\nperiod = 14\ndf['Highest High'] = df['High'].rolling(period).max()\ndf['Lowest Low'] = df['Low'].rolling(period).min()\n\n# Calculate the Williams Percent Range (WPR) using the formula\ndf['WPR'] = ((df['Highest High'] - df['Close']) / (df['Highest High'] - df['Lowest Low'])) * (-100)\ndf['WPR'].tail(20)"
      ]
    },
    {
      "cell_type": "markdown",
      "id": "47b42bdd-e1d5-40b8-8719-e86c3bbdeda1",
      "metadata": {},
      "outputs": [],
      "source": [
        "# The Volume Weighted Average Price (VWAP) \nis a trading indicator that is commonly used by traders and investors to determine the average price of a security over a specific time period. It is calculated by taking the average price of all transactions during the trading day, weighted by the volume of each transaction. This means that transactions with higher volumes have a greater impact on the overall VWAP calculation.\n\nThe VWAP is often used by institutional investors and traders to measure the efficiency of their trades, as it provides an indication of whether they were able to buy or sell at a better price than the average market price. Additionally, it can be used to identify potential areas of support or resistance in a security's price, as VWAP can act as a key level where traders may look to enter or exit positions."
      ]
    },
    {
      "cell_type": "markdown",
      "id": "5026b7fc-5d15-40ed-a927-53cea4e708f5",
      "metadata": {},
      "outputs": [],
      "source": [
        "<div class=\"alert alert-danger alertdanger\" style=\"margin-top: 20px\">\n<b style=\"font-size: 2em; font-weight: bold;\">Question #4)</b><br>  Calculate VWAP."
      ]
    },
    {
      "cell_type": "code",
      "id": "0fe44833-60ec-420b-b64b-834d3383e8b2",
      "metadata": {},
      "outputs": [],
      "source": [
        "# Calculate the typical price\ntypical_price = (df['High'] + df['Low'] + df['Close']) / 3\n\n# Calculate the VWAP\nvwap = (typical_price * df['Volume']).cumsum() / df['Volume'].cumsum()\n\n# Add the VWAP values to the DataFrame\ndf['VWAP'] = vwap\n\ndf[['VWAP']]"
      ]
    },
    {
      "cell_type": "markdown",
      "id": "8fae4347-e6ea-4765-8143-bed3cee2196f",
      "metadata": {},
      "outputs": [],
      "source": [
        "<div class=\"alert alert-danger alertdanger\" style=\"margin-top: 20px\">\n<b style=\"font-size: 2em; font-weight: bold;\">Question #5)</b><br> Display correlation between new indicators and Volume.\n"
      ]
    },
    {
      "cell_type": "code",
      "id": "326d3362-3a75-4199-b4ee-24ae2b96c861",
      "metadata": {},
      "outputs": [],
      "source": [
        "corr = df[[\"Volume\",'WPR',\"Aroon-Up\",\"Aroon-Down\",\"VWAP\"]].corr()\ncorr"
      ]
    },
    {
      "cell_type": "markdown",
      "id": "9c9d2ee9-ce4e-4ea1-a7f5-032ae7d26cc5",
      "metadata": {},
      "outputs": [],
      "source": [
        "<div class=\"alert alert-danger alertdanger\" style=\"margin-top: 20px\">\n<b style=\"font-size: 2em; font-weight: bold;\">Question #6)</b><br> Remove NAN elements from the beginning and end of the dataset\n"
      ]
    },
    {
      "cell_type": "code",
      "id": "c4ab8635-31a3-4baf-9d39-41bf51dcae56",
      "metadata": {},
      "outputs": [],
      "source": [
        "# check for NaN values at the beginning of the dataset\nwhile df.iloc[0].isna().any():\n    df = df.drop(df.index[0])\n\nwhile df.iloc[-1].isna().any():\n    df = df.drop(df.index[-1])\n\ndf = df.reset_index(drop=True)\ndf"
      ]
    },
    {
      "cell_type": "markdown",
      "id": "f3efc20e-a8e8-4f37-b89a-f9bf1295eef3",
      "metadata": {},
      "outputs": [],
      "source": [
        "<div class=\"alert alert-danger alertdanger\" style=\"margin-top: 20px\">\n<b style=\"font-size: 2em; font-weight: bold;\">Question #6):</b><br> Show heatmap of correlatoin  between Volume and new indicators\n"
      ]
    },
    {
      "cell_type": "code",
      "id": "ff767ae5-e106-40f2-96c4-48798f4f52f8",
      "metadata": {},
      "outputs": [],
      "source": [
        "sns.heatmap(corr)"
      ]
    },
    {
      "cell_type": "markdown",
      "id": "dc04dd5d-653c-4e85-9f3a-ebd418498cfb",
      "metadata": {},
      "outputs": [],
      "source": [
        "<div class=\"alert alert-danger alertdanger\" style=\"margin-top: 20px\">\n<b style=\"font-size: 2em; font-weight: bold;\">Question #8)</b> Build regplot using \"VWAP\" as X and Volume as Y\n"
      ]
    },
    {
      "cell_type": "code",
      "id": "28633dc3-f76c-42f0-b81e-50913e1575c4",
      "metadata": {},
      "outputs": [],
      "source": [
        "sns.regplot(x=\"VWAP\", y=\"Volume\", data=df)"
      ]
    },
    {
      "cell_type": "markdown",
      "id": "c188b1ad-a42c-4fc6-bc6f-b2a15217d3e9",
      "metadata": {},
      "outputs": [],
      "source": [
        "<div class=\"alert alert-danger alertdanger\" style=\"margin-top: 20px\">\n<b style=\"font-size: 2em; font-weight: bold;\">Question #9)</b><br> Fit a linear regression model to predict the <code>'Volume'</code> using the <code>'Aroon-Down'</code> then calculate $R^{2}$:\n"
      ]
    },
    {
      "cell_type": "code",
      "id": "439c3dcd-2c4c-45ce-8f0f-7861b55bf104",
      "metadata": {},
      "outputs": [],
      "source": [
        "df.dropna(inplace=True)\n# Create Multiple Linear Regression\nlm = LinearRegression()\n\n# Fit the model\nX = df[[\"Aroon-Down\"]]\nlm.fit(X, df['Volume'])\n\n# Make prediction\nY_hat = lm.predict(X)\n\n\nr_squared = r2_score(df['Volume'],Y_hat)\nprint(f'The R-square value is:{r_squared: .4f}')"
      ]
    },
    {
      "cell_type": "markdown",
      "id": "826b2d9d-6e5c-4f42-ad16-de5ce69c3dda",
      "metadata": {},
      "outputs": [],
      "source": [
        "<div class=\"alert alert-danger alertdanger\" style=\"margin-top: 20px\">\n    <b style=\"font-size: 2em; font-weight: bold;\">Question #10):</b>\nUse list of features to predict the 'Volume', split the data into training and testing and determine the  $R^{2}$\n  on the test data."
      ]
    },
    {
      "cell_type": "code",
      "id": "bd6ab934-7dec-4b94-8212-883be46642f9",
      "metadata": {},
      "outputs": [],
      "source": [
        "# Split into train and test subsets\ny_data = df['Volume']\nx_data=df.drop('Volume',axis=1)\nx_train, x_test, y_train, y_test = train_test_split(x_data, y_data, test_size=0.10, shuffle=False)\n\nlre=LinearRegression()\nr = lre.fit(x_train[['WPR','Aroon-Up','Aroon-Down','VWAP']], y_train)\nprint(\"{:.3f}\".format(lre.score(x_test[['WPR','Aroon-Up','Aroon-Down','VWAP']], y_test)) )"
      ]
    },
    {
      "cell_type": "markdown",
      "id": "f17ba868-93e5-4f71-b7b7-fa180c7f38b3",
      "metadata": {},
      "outputs": [],
      "source": [
        "<div class=\"alert alert-danger alertdanger\" style=\"margin-top: 20px\">\n<b style=\"font-size: 2em; font-weight: bold;\"> Question #11)</b><br> Create and fit a Ridge regression object using the training data ('WPR','Aroon-Up','Aroon-Down','VWAP'), setting the alpha parameter to 1 and calculating the $R^{2}$ using the test data. Take a screenshot of your code and the $R^{2}$."
      ]
    },
    {
      "cell_type": "code",
      "id": "96a62614-a37f-4f5d-be1e-5bf7003bbee6",
      "metadata": {},
      "outputs": [],
      "source": [
        "RigeModel=Ridge()\n\nRigeModel.fit(x_train[['WPR','Aroon-Up','Aroon-Down','VWAP']], y_train)\n\nyhat = RigeModel.predict(x_test[['WPR','Aroon-Up','Aroon-Down','VWAP']])\n\nr_squared = r2_score(y_test, yhat)\nprint(f'The R-square value is:{r_squared: .4f}')"
      ]
    },
    {
      "cell_type": "markdown",
      "id": "6046290f-3166-47c7-8da9-dec9b16d9ee5",
      "metadata": {},
      "outputs": [],
      "source": [
        " <div class=\"alert alert-danger alertdanger\" style=\"margin-top: 20px\">\n <b style=\"font-size: 2em; font-weight: bold;\">Question #12)</b><br> Perform a 2nd order polynomial transform on both the training data and testing data ('WPR','Aroon-Up','Aroon-Down','VWAP'). Create and fit a Ridge regression object using the training data(alpha=1). Calculate the  𝑅2\n  utilizing the test data provided. Take a screenshot of your code and the  𝑅2\n ."
      ]
    },
    {
      "cell_type": "code",
      "id": "2db3e1bf-9416-4ef9-aea2-d047d0f0ca3d",
      "metadata": {},
      "outputs": [],
      "source": [
        "pr=PolynomialFeatures(degree=2)\n\nx_train_pr=pr.fit_transform(x_train[['WPR','Aroon-Up','Aroon-Down','VWAP']])\nx_test_pr=pr.fit_transform(x_test[['WPR','Aroon-Up','Aroon-Down','VWAP']])\n\nRigeModel=Ridge()\n\nRigeModel.fit(x_train_pr, y_train)\n\nyhat = RigeModel.predict(x_test_pr)\n\nr_squared = r2_score(y_test, yhat)\nprint(f'The R-square value is:{r_squared: .4f}')"
      ]
    },
    {
      "cell_type": "markdown",
      "id": "f0750969-d482-4b38-88bc-50f3837bcb7c",
      "metadata": {},
      "outputs": [],
      "source": [
        "<a href=\"https://dataplatform.cloud.ibm.com/docs/content/wsj/analyze-data/share-notebooks.html/?utm_medium=Exinfluencer&utm_source=Exinfluencer&utm_content=000026UJ&utm_term=10006555&utm_id=NA-SkillsNetwork-Channel-SkillsNetworkCoursesIBMDeveloperSkillsNetworkDA0101ENSkillsNetwork20235326-2021-01-01\"> CLICK HERE</a> to see how to share your notebook\n"
      ]
    },
    {
      "cell_type": "markdown",
      "id": "31b0062f-23bc-4fdf-8c04-cb5e410f7a23",
      "metadata": {},
      "outputs": [],
      "source": [
        "# **Thank you for completing this lab!**\n\n## Author\n\n<a href=\"https://author.skills.network/instructors/ostap_liashenyk\" target=\"_blank\" >Ostap Liashenyk</a>\n\n<a href=\"https://author.skills.network/instructors/yaroslav_vyklyuk_2?utm_medium=Exinfluencer&utm_source=Exinfluencer&utm_content=000026UJ&utm_term=10006555&utm_id=NA-SkillsNetwork-Channel-SkillsNetworkGuidedProjectsIBMSkillsNetworkGPXX0QGDEN2306-2023-01-01\">Prof. Yaroslav Vyklyuk, DrSc, PhD</a>\n\n<a href=\"https://author.skills.network/instructors/mariya_fleychuk?utm_medium=Exinfluencer&utm_source=Exinfluencer&utm_content=000026UJ&utm_term=10006555&utm_id=NA-SkillsNetwork-Channel-SkillsNetworkGuidedProjectsIBMSkillsNetworkGPXX0QGDEN2306-2023-01-01\">Prof. Mariya Fleychuk, DrSc, PhD</a>\n\n## Change Log\n\n| Date (YYYY-MM-DD) | Version | Changed By      | Change Description                                         |\n| ----------------- | ------- | ----------------| ---------------------------------------------------------- |\n|     2023-04-01    |   1.0   | Ostap Liashenyk | Creation of the lab                                        |\n\n<hr>\n\n## <h3 align=\"center\"> © IBM Corporation 2023. All rights reserved. </h3>\n"
      ]
    },
    {
      "cell_type": "code",
      "id": "c96368f7-b243-469a-a405-a1460527e961",
      "metadata": {},
      "outputs": [],
      "source": [
        ""
      ]
    }
  ],
  "metadata": {
    "language_info": {
      "name": ""
    },
    "kernelspec": {
      "name": "",
      "display_name": ""
    }
  },
  "nbformat": 4,
  "nbformat_minor": 4
}