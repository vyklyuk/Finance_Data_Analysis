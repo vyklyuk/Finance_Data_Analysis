{
  "cells": [
    {
      "cell_type": "markdown",
      "id": "43c09d67-1cd3-4433-82c5-b16fb780943e",
      "metadata": {},
      "outputs": [],
      "source": [
        "<center>\n    <img src=\"https://cf-courses-data.s3.us.cloud-object-storage.appdomain.cloud/assets/logos/SN_web_lightmode.png\" width=\"500\" alt=\"cognitiveclass.ai logo\"  />\n</center>\n\n# Investigation of cryptocurrency exchange rate dynamic (Matic/USD), сalculation and analysis of technical financial indicators, characterizing the cryptocurrency market (ATR, OBV, RSI, AD)\n\n# Lab 6. Knowledge Check\n\nEstimated time needed: **180** minutes\n\n## Objectives\n\nAfter completing this lab you will be able to:\n\n*   Be confident about your data analysis skills\n\n### **Columns**\n\n* #### `Ts` - the timestamp of the record\n* #### `Open` -  the price of the asset at the beginning of the trading period\n* #### `High` -  the highest price of the asset during the trading period\n* #### `Low` - the lowest price of the asset during the trading period.\n* #### `Close` - the price of the asset at the end of the trading period\n* #### `Volume` - the total number of shares or contracts of a particular asset that are traded during a given period\n* #### `Rec_count` -  the number of individual trades or transactions that have been executed during a given time period\n* #### `Avg_price` - the average price at which a particular asset has been bought or sold during a given period\n* #### `ATR` - average true range indicator\n* #### `OBV` - on-balance volume indicator\n* #### `RSI` - relative strength index indicator\n* #### `AD` - accumulation / distribution indicator\n* #### `BTC_price` - the avarage price from BTC/BUSD dataset \n* #### `BNB_price` - the avarage price from BNB/BUSD dataset\n* ##### Additional columns:  'Open_EUR', 'BTC_price_EUR', 'high_EUR', 'High_Normalized', 'Low_Normalized','close_low', 'close_medium', 'close_high', 'rec_count-binned','rec_count_low', 'rec_count_medium', 'rec_count_high'"
      ]
    },
    {
      "cell_type": "markdown",
      "id": "c7743bac-f7b1-4554-accf-6bbb3ec65546",
      "metadata": {},
      "outputs": [],
      "source": [
        "You will need the following libraries:\n"
      ]
    },
    {
      "cell_type": "code",
      "id": "19277c36-6e57-46bc-ba10-6e173304c18d",
      "metadata": {},
      "outputs": [],
      "source": [
        "! conda install -c conda-forge ta -y\n! conda install scikit-learn -y"
      ]
    },
    {
      "cell_type": "code",
      "id": "c3da1388-0fa0-4f9c-8628-55bd05c9ef41",
      "metadata": {},
      "outputs": [],
      "source": [
        "import pandas as pd\nimport numpy as np\nimport matplotlib.pyplot as plt\nimport matplotlib as mpl\nimport ta\nimport warnings\nwarnings.filterwarnings(\"ignore\")\nimport seaborn as sns \nfrom sklearn.linear_model import LinearRegression\nfrom sklearn.pipeline import Pipeline\nfrom sklearn.preprocessing import StandardScaler,PolynomialFeatures\nfrom sklearn.linear_model import Ridge\nfrom sklearn.metrics import r2_score\nfrom sklearn.model_selection import train_test_split\n\n#set precision \npd.set_option(\"display.precision\", 2)\n#set precision for float\npd.options.display.float_format = '{:.2f}'.format"
      ]
    },
    {
      "cell_type": "markdown",
      "id": "c2053a80-da2b-443d-bd88-776f2ff74cd1",
      "metadata": {},
      "outputs": [],
      "source": [
        "This function will download the dataset into your browser \n"
      ]
    },
    {
      "cell_type": "markdown",
      "id": "9b9bc5ae-9bd3-4b58-8f91-bd8575453960",
      "metadata": {},
      "outputs": [],
      "source": [
        "<b>Importing the Data</b>\n"
      ]
    },
    {
      "cell_type": "markdown",
      "id": "9a792098-cb0a-4ec5-8760-a59b1f1fa708",
      "metadata": {},
      "outputs": [],
      "source": [
        "you will need to download the dataset; if you are running locally, please comment out the following \n"
      ]
    },
    {
      "cell_type": "code",
      "id": "c20b4472-a9ce-4c3e-a382-17952a703082",
      "metadata": {},
      "outputs": [],
      "source": [
        "path = 'https://cf-courses-data.s3.us.cloud-object-storage.appdomain.cloud/IBMSkillsNetwork-GPXX053KEN/Lab2DataSet.csv'"
      ]
    },
    {
      "cell_type": "markdown",
      "id": "334f16a2-9d76-44e3-9dc1-d0a407240236",
      "metadata": {},
      "outputs": [],
      "source": [
        "Load the csv:\n"
      ]
    },
    {
      "cell_type": "code",
      "id": "5e7d88f5-9d55-40d0-829d-ed5eea4b1db6",
      "metadata": {},
      "outputs": [],
      "source": [
        "df = pd.read_csv(path,low_memory=False, index_col=0)\ndf.index = df.index.astype(\"datetime64[ns]\")\ndf.head()"
      ]
    },
    {
      "cell_type": "markdown",
      "id": "d4290388-bf21-4e32-b190-e5c2a771a316",
      "metadata": {},
      "outputs": [],
      "source": [
        "We use the method  <code>head()</code>  to display the first 5 columns of the dataframe:\n"
      ]
    },
    {
      "cell_type": "code",
      "id": "0f13f474-e527-4b1c-9e6c-0a410f47424f",
      "metadata": {},
      "outputs": [],
      "source": [
        "df.head()"
      ]
    },
    {
      "cell_type": "markdown",
      "id": "ff578f17-90db-4392-a63b-e9b3d2958c51",
      "metadata": {},
      "outputs": [],
      "source": [
        "<div class=\"alert alert-danger alertdanger\" style=\"margin-top: 20px\">\n<b style=\"font-size: 2em; font-weight: bold;\">Question #1)</b><br>\n    <b>Display the data types of each column using the attribute `dtype`.</b>\n</div>"
      ]
    },
    {
      "cell_type": "code",
      "id": "340104f4-c73b-401c-be62-f34cfbd7630e",
      "metadata": {},
      "outputs": [],
      "source": [
        "df.dtypes"
      ]
    },
    {
      "cell_type": "markdown",
      "id": "dccafcbc-daf9-4d62-9aef-4d5eb6745b2a",
      "metadata": {},
      "outputs": [],
      "source": [
        "# Aroon Indicator"
      ]
    },
    {
      "cell_type": "markdown",
      "id": "3bdfcfb2-1750-4a44-a221-6cf50f902375",
      "metadata": {},
      "outputs": [],
      "source": [
        "The Aroon Indicator is a technical analysis tool used to measure the strength and direction of a trend in a financial market. It consists of two separate lines: the Aroon-Up line and the Aroon-Down line.\n\nThe Aroon-Up line measures the number of periods since the most recent high in price, while the Aroon-Down line measures the number of periods since the most recent low in price.\n\nThe Aroon Indicator is calculated as follows:\n\n<code>Aroon-Up = ((Number of periods) - (Number of periods since highest high)) / (Number of periods) x 100</code>\n\n<code>Aroon-Down = ((Number of periods) - (Number of periods since lowest low)) / (Number of periods) x 100</code>\n\nThe two lines are plotted on a chart, typically ranging from 0 to 100. When the Aroon-Up line is above the Aroon-Down line, it indicates a bullish trend, while a bearish trend is indicated when the Aroon-Down line is above the Aroon-Up line.\n\nTraders use the Aroon Indicator to identify potential trend changes and to help determine when to enter or exit a trade. It is often used in conjunction with other technical analysis tools to confirm trading signals."
      ]
    },
    {
      "cell_type": "markdown",
      "id": "21cea82a-41c5-4393-8c19-d12289147978",
      "metadata": {},
      "outputs": [],
      "source": [
        "<div class=\"alert alert-danger alertdanger\" style=\"margin-top: 20px\">\n<h1>Question #2)</h1>  Calculate Aroon Indicator.\n"
      ]
    },
    {
      "cell_type": "code",
      "id": "876142e0-4523-4e2a-ac28-0c9005d103ed",
      "metadata": {},
      "outputs": [],
      "source": [
        "# Calculate the number of periods since the highest high and lowest low\nhigh_period = df['Volume'].rolling(window=len(df), min_periods=1).apply(lambda x: len(df) - x.argmax(), raw=True)\nlow_period = df['Volume'].rolling(window=len(df), min_periods=1).apply(lambda x: len(df) - x.argmin(), raw=True)\n\n# Calculate the Aroon-Up and Aroon-Down indicators\naroon_up = (len(df) - high_period) / len(df) * 100\naroon_down = (len(df) - low_period) / len(df) * 100\n\ndf['Aroon-Up'] = aroon_up\ndf['Aroon-Down'] = aroon_down\n\ndf[[\"Volume\",\"Aroon-Up\",\"Aroon-Down\"]].head(20)"
      ]
    },
    {
      "cell_type": "markdown",
      "id": "d75127fa-adb6-4b90-81ef-cb638b4e3db6",
      "metadata": {},
      "outputs": [],
      "source": [
        "# Williams Percent Range\n(WPR) is an indicator used in technical analysis of financial markets to identify overbought or oversold conditions of an asset. The WPR indicator is based on the assumption that the market tends to close near the high during an uptrend and near the low during a downtrend.\n\nThe WPR indicator measures the distance between the current closing price and the highest high over a certain number of periods, and expresses it as a percentage of that range. It is calculated using the formula:\n\n <code>WPR = ((Highest High - Close)/(Highest High - Lowest Low)) x (-100)\n\nThe WPR indicator is plotted on a chart as a line that oscillates between -100 and 0. A reading above -20 is considered overbought, while a reading below -80 is considered oversold. Traders and investors use the WPR indicator to identify potential buy or sell signals, as well as to confirm the strength of a trend."
      ]
    },
    {
      "cell_type": "markdown",
      "id": "b095df13-e4e3-4b83-8497-d9d64601b5ea",
      "metadata": {},
      "outputs": [],
      "source": [
        "<div class=\"alert alert-danger alertdanger\" style=\"margin-top: 20px\">\n    <b style=\"font-size: 2em; font-weight: bold;\">Question #3)</b><br>  Calculate WPR."
      ]
    },
    {
      "cell_type": "code",
      "id": "e1af316d-5f01-47c8-8c07-a47eeeeecf69",
      "metadata": {},
      "outputs": [],
      "source": [
        "# Calculate the highest high and lowest low over a given period\nperiod = 14\ndf['Highest High'] = df['High'].rolling(period).max()\ndf['Lowest Low'] = df['Low'].rolling(period).min()\n\n# Calculate the Williams Percent Range (WPR) using the formula\ndf['WPR'] = ((df['Highest High'] - df['Close']) / (df['Highest High'] - df['Lowest Low'])) * (-100)\ndf['WPR'].tail(20)"
      ]
    },
    {
      "cell_type": "markdown",
      "id": "1969199e-0fb8-43b9-8ee4-36152a852645",
      "metadata": {},
      "outputs": [],
      "source": [
        "# The Volume Weighted Average Price (VWAP) \nis a trading indicator that is commonly used by traders and investors to determine the average price of a security over a specific time period. It is calculated by taking the average price of all transactions during the trading day, weighted by the volume of each transaction. This means that transactions with higher volumes have a greater impact on the overall VWAP calculation.\n\nThe VWAP is often used by institutional investors and traders to measure the efficiency of their trades, as it provides an indication of whether they were able to buy or sell at a better price than the average market price. Additionally, it can be used to identify potential areas of support or resistance in a security's price, as VWAP can act as a key level where traders may look to enter or exit positions."
      ]
    },
    {
      "cell_type": "markdown",
      "id": "db406e42-dc12-4341-9be9-16cd56a90bf0",
      "metadata": {},
      "outputs": [],
      "source": [
        "<div class=\"alert alert-danger alertdanger\" style=\"margin-top: 20px\">\n<b style=\"font-size: 2em; font-weight: bold;\">Question #4)</b><br>  Calculate VWAP."
      ]
    },
    {
      "cell_type": "code",
      "id": "a16bfa16-d140-41f0-a63e-8e3f9880e769",
      "metadata": {},
      "outputs": [],
      "source": [
        "# Calculate the typical price\ntypical_price = (df['High'] + df['Low'] + df['Close']) / 3\n\n# Calculate the VWAP\nvwap = (typical_price * df['Volume']).cumsum() / df['Volume'].cumsum()\n\n# Add the VWAP values to the DataFrame\ndf['VWAP'] = vwap\n\ndf[['VWAP']]"
      ]
    },
    {
      "cell_type": "markdown",
      "id": "5399f033-c587-4e4d-92e4-17ffea815162",
      "metadata": {},
      "outputs": [],
      "source": [
        "<div class=\"alert alert-danger alertdanger\" style=\"margin-top: 20px\">\n<b style=\"font-size: 2em; font-weight: bold;\">Question #5)</b><br> Display correlation between new indicators and Volume.\n"
      ]
    },
    {
      "cell_type": "code",
      "id": "3af36168-d6fa-4be5-9b2e-32cecc1ee1cb",
      "metadata": {},
      "outputs": [],
      "source": [
        "corr = df[[\"Volume\",'WPR',\"Aroon-Up\",\"Aroon-Down\",\"VWAP\"]].corr()\ncorr"
      ]
    },
    {
      "cell_type": "markdown",
      "id": "0cf39027-e511-4d29-a218-15d36e18f6ea",
      "metadata": {},
      "outputs": [],
      "source": [
        "<div class=\"alert alert-danger alertdanger\" style=\"margin-top: 20px\">\n<b style=\"font-size: 2em; font-weight: bold;\">Question #6)</b><br> Remove NAN elements from the beginning and end of the dataset\n"
      ]
    },
    {
      "cell_type": "code",
      "id": "952adc7b-1665-463e-ae57-2d839775976a",
      "metadata": {},
      "outputs": [],
      "source": [
        "# check for NaN values at the beginning of the dataset\nwhile df.iloc[0].isna().any():\n    df = df.drop(df.index[0])\n\nwhile df.iloc[-1].isna().any():\n    df = df.drop(df.index[-1])\n\ndf = df.reset_index(drop=True)\ndf"
      ]
    },
    {
      "cell_type": "markdown",
      "id": "9bf00a62-bf0a-4174-85d7-5b76c7910a15",
      "metadata": {},
      "outputs": [],
      "source": [
        "<div class=\"alert alert-danger alertdanger\" style=\"margin-top: 20px\">\n<b style=\"font-size: 2em; font-weight: bold;\">Question #6):</b><br> Show heatmap of correlatoin  between Volume and new indicators\n"
      ]
    },
    {
      "cell_type": "code",
      "id": "34a1d6d6-7abe-4aaa-9f1f-5fd9074f833b",
      "metadata": {},
      "outputs": [],
      "source": [
        "sns.heatmap(corr)"
      ]
    },
    {
      "cell_type": "markdown",
      "id": "cecc859f-c659-44f7-8ee2-279595b6fef0",
      "metadata": {},
      "outputs": [],
      "source": [
        "<div class=\"alert alert-danger alertdanger\" style=\"margin-top: 20px\">\n<b style=\"font-size: 2em; font-weight: bold;\">Question #8)</b> Build regplot using \"VWAP\" as X and Volume as Y\n"
      ]
    },
    {
      "cell_type": "code",
      "id": "7f02c130-652b-4a98-8da8-39d3f0ac1d36",
      "metadata": {},
      "outputs": [],
      "source": [
        "sns.regplot(x=\"VWAP\", y=\"Volume\", data=df)"
      ]
    },
    {
      "cell_type": "markdown",
      "id": "1d2c2e6d-ea36-4e62-ba1c-ee3e9597f20e",
      "metadata": {},
      "outputs": [],
      "source": [
        "<div class=\"alert alert-danger alertdanger\" style=\"margin-top: 20px\">\n<b style=\"font-size: 2em; font-weight: bold;\">Question #9)</b><br> Fit a linear regression model to predict the <code>'Volume'</code> using the <code>'Aroon-Down'</code> then calculate $R^{2}$:\n"
      ]
    },
    {
      "cell_type": "code",
      "id": "0041d862-0788-4148-a9f5-8c94b91ff52f",
      "metadata": {},
      "outputs": [],
      "source": [
        "df.dropna(inplace=True)\n# Create Multiple Linear Regression\nlm = LinearRegression()\n\n# Fit the model\nX = df[[\"Aroon-Down\"]]\nlm.fit(X, df['Volume'])\n\n# Make prediction\nY_hat = lm.predict(X)\n\n\nr_squared = r2_score(df['Volume'],Y_hat)\nprint(f'The R-square value is:{r_squared: .4f}')"
      ]
    },
    {
      "cell_type": "markdown",
      "id": "35772817-663e-4e7c-953c-29f95b430e2f",
      "metadata": {},
      "outputs": [],
      "source": [
        "<div class=\"alert alert-danger alertdanger\" style=\"margin-top: 20px\">\n    <b style=\"font-size: 2em; font-weight: bold;\">Question #10):</b>\nUse list of features to predict the 'Volume', split the data into training and testing and determine the  $R^{2}$\n  on the test data."
      ]
    },
    {
      "cell_type": "code",
      "id": "a837252b-967e-4f7d-873e-26e0571321a6",
      "metadata": {},
      "outputs": [],
      "source": [
        "# Split into train and test subsets\ny_data = df['Volume']\nx_data=df.drop('Volume',axis=1)\nx_train, x_test, y_train, y_test = train_test_split(x_data, y_data, test_size=0.10, shuffle=False)\n\nlre=LinearRegression()\nr = lre.fit(x_train[['WPR','Aroon-Up','Aroon-Down','VWAP']], y_train)\nprint(\"{:.3f}\".format(lre.score(x_test[['WPR','Aroon-Up','Aroon-Down','VWAP']], y_test)) )"
      ]
    },
    {
      "cell_type": "markdown",
      "id": "96ac2d3b-9cd2-4371-b4d2-ce107330e784",
      "metadata": {},
      "outputs": [],
      "source": [
        "<div class=\"alert alert-danger alertdanger\" style=\"margin-top: 20px\">\n<b style=\"font-size: 2em; font-weight: bold;\"> Question #11)</b><br> Create and fit a Ridge regression object using the training data ('WPR','Aroon-Up','Aroon-Down','VWAP'), setting the alpha parameter to 1 and calculating the $R^{2}$ using the test data. Take a screenshot of your code and the $R^{2}$."
      ]
    },
    {
      "cell_type": "code",
      "id": "7b7725d3-4914-4c6e-be50-f70f6cb2e4c4",
      "metadata": {},
      "outputs": [],
      "source": [
        "RigeModel=Ridge()\n\nRigeModel.fit(x_train[['WPR','Aroon-Up','Aroon-Down','VWAP']], y_train)\n\nyhat = RigeModel.predict(x_test[['WPR','Aroon-Up','Aroon-Down','VWAP']])\n\nr_squared = r2_score(y_test, yhat)\nprint(f'The R-square value is:{r_squared: .4f}')"
      ]
    },
    {
      "cell_type": "markdown",
      "id": "72ffb5a8-4703-4012-b9b8-e27f08b39393",
      "metadata": {},
      "outputs": [],
      "source": [
        " <div class=\"alert alert-danger alertdanger\" style=\"margin-top: 20px\">\n <b style=\"font-size: 2em; font-weight: bold;\">Question #12)</b><br> Perform a 2nd order polynomial transform on both the training data and testing data ('WPR','Aroon-Up','Aroon-Down','VWAP'). Create and fit a Ridge regression object using the training data(alpha=1). Calculate the  𝑅2\n  utilizing the test data provided. Take a screenshot of your code and the  𝑅2\n ."
      ]
    },
    {
      "cell_type": "code",
      "id": "d8184e21-fe91-45b7-9a15-32f8c9f84574",
      "metadata": {},
      "outputs": [],
      "source": [
        "pr=PolynomialFeatures(degree=2)\n\nx_train_pr=pr.fit_transform(x_train[['WPR','Aroon-Up','Aroon-Down','VWAP']])\nx_test_pr=pr.fit_transform(x_test[['WPR','Aroon-Up','Aroon-Down','VWAP']])\n\nRigeModel=Ridge()\n\nRigeModel.fit(x_train_pr, y_train)\n\nyhat = RigeModel.predict(x_test_pr)\n\nr_squared = r2_score(y_test, yhat)\nprint(f'The R-square value is:{r_squared: .4f}')"
      ]
    },
    {
      "cell_type": "markdown",
      "id": "efbb94e7-24cd-488a-be27-dfa9283fa278",
      "metadata": {},
      "outputs": [],
      "source": [
        "<a href=\"https://dataplatform.cloud.ibm.com/docs/content/wsj/analyze-data/share-notebooks.html/?utm_medium=Exinfluencer&utm_source=Exinfluencer&utm_content=000026UJ&utm_term=10006555&utm_id=NA-SkillsNetwork-Channel-SkillsNetworkCoursesIBMDeveloperSkillsNetworkDA0101ENSkillsNetwork20235326-2021-01-01\"> CLICK HERE</a> to see how to share your notebook\n"
      ]
    },
    {
      "cell_type": "markdown",
      "id": "2ffa8e5a-c272-4478-abc6-278abb19cee2",
      "metadata": {},
      "outputs": [],
      "source": [
        "# **Thank you for completing this lab!**\n\n## Author\n\n<a href=\"https://author.skills.network/instructors/ostap_liashenyk\" target=\"_blank\" >Ostap Liashenyk</a>\n\n<a href=\"https://author.skills.network/instructors/yaroslav_vyklyuk_2?utm_medium=Exinfluencer&utm_source=Exinfluencer&utm_content=000026UJ&utm_term=10006555&utm_id=NA-SkillsNetwork-Channel-SkillsNetworkGuidedProjectsIBMSkillsNetworkGPXX0QGDEN2306-2023-01-01\">Prof. Yaroslav Vyklyuk, DrSc, PhD</a>\n\n<a href=\"https://author.skills.network/instructors/mariya_fleychuk?utm_medium=Exinfluencer&utm_source=Exinfluencer&utm_content=000026UJ&utm_term=10006555&utm_id=NA-SkillsNetwork-Channel-SkillsNetworkGuidedProjectsIBMSkillsNetworkGPXX0QGDEN2306-2023-01-01\">Prof. Mariya Fleychuk, DrSc, PhD</a>\n\n## Change Log\n\n| Date (YYYY-MM-DD) | Version | Changed By      | Change Description                                         |\n| ----------------- | ------- | ----------------| ---------------------------------------------------------- |\n|     2023-04-01    |   1.0   | Ostap Liashenyk | Creation of the lab                                        |\n\n<hr>\n\n## <h3 align=\"center\"> © IBM Corporation 2023. All rights reserved. </h3>\n"
      ]
    },
    {
      "cell_type": "code",
      "id": "9573aec2-0f43-4c19-9568-59543ab2caa3",
      "metadata": {},
      "outputs": [],
      "source": [
        ""
      ]
    }
  ],
  "metadata": {
    "language_info": {
      "name": ""
    },
    "kernelspec": {
      "name": "",
      "display_name": ""
    }
  },
  "nbformat": 4,
  "nbformat_minor": 4
}