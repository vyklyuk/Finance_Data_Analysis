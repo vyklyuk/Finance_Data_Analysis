{
  "cells": [
    {
      "cell_type": "markdown",
      "id": "97d2b7ed-91f3-4672-92bf-57b00cc121da",
      "metadata": {},
      "outputs": [],
      "source": [
        "<center>\n    <img src=\"https://cf-courses-data.s3.us.cloud-object-storage.appdomain.cloud/assets/logos/SN_web_lightmode.png\" width=\"300\" alt=\"cognitiveclass.ai logo\"  />\n</center>\n\n# Investigation of cryptocurrency exchange rate dynamic (Matic/USD), сalculation and analysis of technical financial indicators, characterizing the cryptocurrency market (ATR, OBV, RSI, AD)\n\n\n# Lab 4. Model development\n\nEstimated time needed: **30** minutes\n\n## Objectives\n\nAfter completing this lab you will be able to:\n\n*   Develop prediction models\n"
      ]
    },
    {
      "cell_type": "markdown",
      "id": "e0e696ae-2600-4a36-9588-f332cb9987c9",
      "metadata": {},
      "outputs": [],
      "source": [
        "## Table of Contents\n\n<div class=\"alert alert-block alert-info\" style=\"margin-top: 20px\">\n<ol>\n    <li><a href=\"https://#Linear_regresion\">Linear Regression and Multiple Linear Regression</a></li>\n    <li><a href=\"https://#Model_Evaluation\">Model Evaluation Using Visualization</a></li>\n    <li><a href=\"https://#Polynomal_Regression\">Polynomial Regression and Pipelines</a></li>\n    <li><a href=\"https://#Measures\">Measures for In-Sample Evaluation</a></li>\n    <li><a href=\"https://#Prediction\">Prediction and Decision Making</a></li>\n</ol>\n\n</div>\n\n<hr>\n"
      ]
    },
    {
      "cell_type": "markdown",
      "id": "65c38093-4c52-459b-a764-a133a48377c4",
      "metadata": {},
      "outputs": [],
      "source": [
        "<p>In this section, we will develop several models that will predict the price of the Matic using the variables or features. This is just an estimate but should give us an objective idea of how much the coin should cost.</p>\n"
      ]
    },
    {
      "cell_type": "markdown",
      "id": "1af9f415-8dd6-4146-a4a6-7448c28e9caa",
      "metadata": {},
      "outputs": [],
      "source": [
        "<p>In data analytics, we often use <b>Model Development</b> to help us predict future observations from the data we have.</p>\n\n<p>A model will help us understand the exact relationship between different variables and how these variables are used to predict the result.</p>\n"
      ]
    },
    {
      "cell_type": "markdown",
      "id": "c91d4505-03ff-4c46-8236-6113bc9c9f64",
      "metadata": {},
      "outputs": [],
      "source": [
        "#### Setup\n"
      ]
    },
    {
      "cell_type": "markdown",
      "id": "2f869073-2a41-4a6b-978c-32de548f7947",
      "metadata": {},
      "outputs": [],
      "source": [
        "Import libraries:\n"
      ]
    },
    {
      "cell_type": "markdown",
      "id": "7744afb6-7660-44b9-8207-92f84166b551",
      "metadata": {},
      "outputs": [],
      "source": [
        "you are running the lab in your  browser, so we will install the libraries using `piplite`\n"
      ]
    },
    {
      "cell_type": "code",
      "id": "e7f61cb7-1108-4f2c-92e9-aef098ba038c",
      "metadata": {},
      "outputs": [],
      "source": [
        "#If you run the lab locally using Anaconda, you can load the correct library and versions by uncommenting the following:\n#install specific version of libraries used in lab\n! mamba install pandas -y\n! mamba install numpy -y\n! mamba install scikit-learn -y"
      ]
    },
    {
      "cell_type": "code",
      "id": "3f626b98-db86-473a-8eed-9264918c869c",
      "metadata": {},
      "outputs": [],
      "source": [
        "import pandas as pd\nimport numpy as np\nimport matplotlib.pyplot as plt\nimport skillsnetwork\nimport warnings\nfrom sklearn.linear_model import LinearRegression\nfrom sklearn.preprocessing import PolynomialFeatures\nfrom sklearn.pipeline import Pipeline\nfrom sklearn.preprocessing import StandardScaler\nfrom sklearn.metrics import mean_squared_error\nfrom sklearn.metrics import r2_score\n\nimport seaborn as sns\n\n\n%matplotlib inline \nwarnings.filterwarnings('ignore')\n#set precision \npd.set_option(\"display.precision\", 2)\n#set precision for float\npd.options.display.float_format = '{:.2f}'.format"
      ]
    },
    {
      "cell_type": "markdown",
      "id": "8056bc22-0c2c-40af-b437-82a953fad979",
      "metadata": {},
      "outputs": [],
      "source": [
        "This dataset was hosted on IBM Cloud object. Click <a href=\"https://cocl.us/DA101EN_object_storage?utm_medium=Exinfluencer&utm_source=Exinfluencer&utm_content=000026UJ&utm_term=10006555&utm_id=NA-SkillsNetwork-Channel-SkillsNetworkCoursesIBMDeveloperSkillsNetworkDA0101ENSkillsNetwork20235326-2021-01-01\">HERE</a> for free storage.\n"
      ]
    },
    {
      "cell_type": "markdown",
      "id": "2ff16f30-cdf5-4089-ac8d-c88d243f1ee6",
      "metadata": {},
      "outputs": [],
      "source": [
        "Load the data and store it in dataframe `df`:\n"
      ]
    },
    {
      "cell_type": "code",
      "id": "0d06e737-48cb-4b70-8a4d-54270fdef085",
      "metadata": {},
      "outputs": [],
      "source": [
        "filename = \"https://cf-courses-data.s3.us.cloud-object-storage.appdomain.cloud/IBMSkillsNetwork-GPXX0JDPEN/DataSet_final.csv\"\ndf = pd.read_csv(filename,low_memory=False, index_col=0)\ndf"
      ]
    },
    {
      "cell_type": "markdown",
      "id": "056a8c2f-7c74-409b-9aad-1ea047b5ce83",
      "metadata": {},
      "outputs": [],
      "source": [
        "## 1. Linear Regression and Multiple Linear Regression\n"
      ]
    },
    {
      "cell_type": "markdown",
      "id": "582b2777-3a77-4d88-8360-6d93389f95df",
      "metadata": {},
      "outputs": [],
      "source": [
        "#### Linear Regression\n"
      ]
    },
    {
      "cell_type": "markdown",
      "id": "badf473e-cb19-4685-8a88-cc2813134e29",
      "metadata": {},
      "outputs": [],
      "source": [
        "<p>One example of a Data  Model that we will be using is:</p>\n<b>Simple Linear Regression</b>\n\n<br>\n<p>Simple Linear Regression is a method to help us understand the relationship between two variables:</p>\n<ul>\n    <li>The predictor/independent variable (X)</li>\n    <li>The response/dependent variable (that we want to predict)(Y)</li>\n</ul>\n\n<p>The result of Linear Regression is a <b>linear function</b> that predicts the response (dependent) variable as a function of the predictor (independent) variable.</p>\n"
      ]
    },
    {
      "cell_type": "markdown",
      "id": "b8d18383-9530-4a59-b5bd-9dce051c257e",
      "metadata": {},
      "outputs": [],
      "source": [
        "$$\nY: Response \\ Variable\\\\\\\\\\\\\\\\\\\\\nX: Predictor \\ Variables\n$$\n"
      ]
    },
    {
      "cell_type": "markdown",
      "id": "c7f1e235-249b-43aa-b077-3f8c2665cef6",
      "metadata": {},
      "outputs": [],
      "source": [
        "<b>Linear Function</b>\n$$\nYhat = a + b  X\n$$\n"
      ]
    },
    {
      "cell_type": "markdown",
      "id": "6a0d1488-d193-42e9-a658-2b8d142fc8f9",
      "metadata": {},
      "outputs": [],
      "source": [
        "<ul>\n    <li>a refers to the <b>intercept</b> of the regression line, in other words: the value of Y when X is 0</li>\n    <li>b refers to the <b>slope</b> of the regression line, in other words: the value with which Y changes when X increases by 1 unit</li>\n</ul>\n"
      ]
    },
    {
      "cell_type": "markdown",
      "id": "aea96fd8-de01-4da3-9d1e-be9a93bf8477",
      "metadata": {},
      "outputs": [],
      "source": [
        "#### Create the linear regression object:\n"
      ]
    },
    {
      "cell_type": "code",
      "id": "1a1e9de5-ac00-42f4-9da2-3f568065c508",
      "metadata": {},
      "outputs": [],
      "source": [
        "lm = LinearRegression()\nlm"
      ]
    },
    {
      "cell_type": "markdown",
      "id": "eb0d5770-200d-4e36-b6be-57287e0881c3",
      "metadata": {},
      "outputs": [],
      "source": [
        "<h4>How could \"BTC_price\" help us predict Volume?</h4>\n"
      ]
    },
    {
      "cell_type": "markdown",
      "id": "bb92702f-1c92-43b1-8134-5a76773d548b",
      "metadata": {},
      "outputs": [],
      "source": [
        "For this example, we want to look at how BTC_price can help us predict Volume.\nUsing simple linear regression, we will create a linear function with \"BTC_price\" as the predictor variable and the \"Volume\" as the response variable.\n"
      ]
    },
    {
      "cell_type": "code",
      "id": "29e9c489-7944-4354-99e7-acc726c82ddc",
      "metadata": {},
      "outputs": [],
      "source": [
        "X = df[['BTC_price']]\nY = df[['Volume']]"
      ]
    },
    {
      "cell_type": "markdown",
      "id": "374d804b-3e0f-41b8-a9c0-6080defbfa22",
      "metadata": {},
      "outputs": [],
      "source": [
        "Fit the linear model using BTC_price:\n"
      ]
    },
    {
      "cell_type": "code",
      "id": "430604b1-d373-48c6-a945-74f9505e8b1e",
      "metadata": {},
      "outputs": [],
      "source": [
        "lm.fit(X,Y)"
      ]
    },
    {
      "cell_type": "markdown",
      "id": "137623a6-f0ba-4f6e-8bf3-6d893827732b",
      "metadata": {},
      "outputs": [],
      "source": [
        "We can output a prediction:\n"
      ]
    },
    {
      "cell_type": "code",
      "id": "2c8204e7-e947-48ce-952e-1eb6063be3e0",
      "metadata": {},
      "outputs": [],
      "source": [
        "Yhat=lm.predict(X)\nYhat[0:5]   "
      ]
    },
    {
      "cell_type": "markdown",
      "id": "27e027f1-5b5d-4b74-8762-c63a18df425e",
      "metadata": {},
      "outputs": [],
      "source": [
        "<h4>What is the value of the intercept (a)?</h4>\n"
      ]
    },
    {
      "cell_type": "code",
      "id": "cf21b453-c648-47b7-b6a5-7c2fdafb27a8",
      "metadata": {},
      "outputs": [],
      "source": [
        "lm.intercept_"
      ]
    },
    {
      "cell_type": "markdown",
      "id": "57cfed13-d3a7-46b7-bf9d-d4206efde006",
      "metadata": {},
      "outputs": [],
      "source": [
        "#### What is the value of the slope (b)?\n"
      ]
    },
    {
      "cell_type": "code",
      "id": "b69087c7-b031-42c0-8285-6cf4bad4fd4f",
      "metadata": {},
      "outputs": [],
      "source": [
        "lm.coef_"
      ]
    },
    {
      "cell_type": "markdown",
      "id": "c854c1c3-6a80-46b0-8ae2-88b987bf7416",
      "metadata": {},
      "outputs": [],
      "source": [
        "### What is the final estimated linear model we get?\n"
      ]
    },
    {
      "cell_type": "markdown",
      "id": "ea2c7373-26be-4900-991b-e515279b5581",
      "metadata": {},
      "outputs": [],
      "source": [
        "As we saw above, we should get a final linear model with the structure:\n"
      ]
    },
    {
      "cell_type": "markdown",
      "id": "285dabf9-28af-48f3-bc5a-d6ab5d884abb",
      "metadata": {},
      "outputs": [],
      "source": [
        "$$\nYhat = a + b  X\n$$\n"
      ]
    },
    {
      "cell_type": "markdown",
      "id": "702daff1-a93f-4706-a047-6c6f8ae36fbb",
      "metadata": {},
      "outputs": [],
      "source": [
        "Plugging in the actual values we get:\n"
      ]
    },
    {
      "cell_type": "markdown",
      "id": "c7b34198-50d1-49c4-9784-d3022ebe35ed",
      "metadata": {},
      "outputs": [],
      "source": [
        "<b>Volume</b> = 596048.9 - 33.4 x <b>BTC_price</b>\n"
      ]
    },
    {
      "cell_type": "markdown",
      "id": "480f94f2-1413-4b01-8124-09a06c852b0e",
      "metadata": {},
      "outputs": [],
      "source": [
        "<div class=\"alert alert-danger alertdanger\" style=\"margin-top: 20px\">\n    <b style=\"font-size: 2em; font-weight: bold;\">Question #1 a): </b><br>\n    <b>Create a linear regression object called \"lm1\".</b>\n</div>\n"
      ]
    },
    {
      "cell_type": "code",
      "id": "4ad5498f-dc40-47db-9f1b-78dcfb9ad892",
      "metadata": {},
      "outputs": [],
      "source": [
        "# Write your code below and press Shift+Enter to execute \n"
      ]
    },
    {
      "cell_type": "markdown",
      "id": "391d9db9-5a68-43dc-a07b-a3bf6bff2d86",
      "metadata": {},
      "outputs": [],
      "source": [
        "<details><summary>Click here for the solution</summary>\n\n```python\nlm1 = LinearRegression()\nlm1\n```\n\n</details>\n"
      ]
    },
    {
      "cell_type": "markdown",
      "id": "f105370c-2afb-47ba-a021-7bafc0680ccb",
      "metadata": {},
      "outputs": [],
      "source": [
        "<div class=\"alert alert-danger alertdanger\" style=\"margin-top: 20px\">\n    <b style=\"font-size: 2em; font-weight: bold;\"> Question #1 b): </b><br>\n    <b>Train the model using \"Volume\" as the independent variable and \"ATR\" as the dependent variable?</b>\n</div>\n"
      ]
    },
    {
      "cell_type": "code",
      "id": "0fd72225-bac9-41e2-8400-ea001003fb77",
      "metadata": {},
      "outputs": [],
      "source": [
        "# Write your code below and press Shift+Enter to execute \n"
      ]
    },
    {
      "cell_type": "markdown",
      "id": "027d9e2d-8010-4544-8711-9cda3be03016",
      "metadata": {},
      "outputs": [],
      "source": [
        "<details><summary>Click here for the solution</summary>\n\n```python\nlm1.fit(df[['Volume']], df[['ATR']])\nlm1\n```\n\n</details>\n"
      ]
    },
    {
      "cell_type": "markdown",
      "id": "6db09ab8-f94e-41cf-a42c-60bf34cdb8e0",
      "metadata": {},
      "outputs": [],
      "source": [
        "<div class=\"alert alert-danger alertdanger\" style=\"margin-top: 20px\">\n    <b style=\"font-size: 2em; font-weight: bold;\">Question #1 c):</b><br>\n    <b>Find the slope and intercept of the model.</b>\n</div>\n"
      ]
    },
    {
      "cell_type": "markdown",
      "id": "37bfa22c-aa3b-4c05-934b-cff92580d550",
      "metadata": {},
      "outputs": [],
      "source": [
        "#### Slope\n"
      ]
    },
    {
      "cell_type": "code",
      "id": "ecd8dae7-0e6d-4293-b0cf-4e7ee50d768e",
      "metadata": {},
      "outputs": [],
      "source": [
        "# Write your code below and press Shift+Enter to execute \n"
      ]
    },
    {
      "cell_type": "markdown",
      "id": "383a2b18-7c72-448d-a4fe-c05a9ac787b1",
      "metadata": {},
      "outputs": [],
      "source": [
        "<details><summary>Click here for the solution</summary>\n    \n```python\n# Slope \nlm1.coef_\n```\n</details>\n"
      ]
    },
    {
      "cell_type": "markdown",
      "id": "356e5f04-527f-4957-8e91-1a1193ed65ca",
      "metadata": {},
      "outputs": [],
      "source": [
        "<h4>Intercept</h4>\n"
      ]
    },
    {
      "cell_type": "code",
      "id": "738e2749-6df8-4ec1-8c4e-503a2911d4b4",
      "metadata": {},
      "outputs": [],
      "source": [
        "# Write your code below and press Shift+Enter to execute \n"
      ]
    },
    {
      "cell_type": "markdown",
      "id": "05826d1b-4569-40b4-be56-507e02b5510f",
      "metadata": {},
      "outputs": [],
      "source": [
        "\n<details><summary>Click here for the solution</summary>\n\n```python\n# Intercept\nlm1.intercept_\n```\n\n</details>\n"
      ]
    },
    {
      "cell_type": "markdown",
      "id": "a9715ae6-0df7-4695-9135-aa4a4368f176",
      "metadata": {},
      "outputs": [],
      "source": [
        "<div class=\"alert alert-danger alertdanger\" style=\"margin-top: 20px\">\n    <b style=\"font-size: 2em; font-weight: bold;\">Question #1 d): </b>\n    <b>What is the equation of the predicted line? You can use x and yhat or \"Volume\" or \"ATR\".</b>\n</div>\n"
      ]
    },
    {
      "cell_type": "markdown",
      "id": "32e7813f-ee3f-4859-a325-772a6027b283",
      "metadata": {},
      "outputs": [],
      "source": [
        "<details><summary>Click here for the solution</summary>\n    \nATR = 0.00064273 + 7.75767248e-09 * Volume"
      ]
    },
    {
      "cell_type": "markdown",
      "id": "01767f7b-698b-4962-a7ee-aa50d0b175f3",
      "metadata": {},
      "outputs": [],
      "source": [
        "<h4>Multiple Linear Regression</h4>\n"
      ]
    },
    {
      "cell_type": "markdown",
      "id": "202dbb62-f7db-45ec-802d-0f02df052931",
      "metadata": {},
      "outputs": [],
      "source": [
        "<p>What if we want to predict car price using more than one variable?</p>\n\n<p>If we want to use more variables in our model to predict car price, we can use <b>Multiple Linear Regression</b>.\nMultiple Linear Regression is very similar to Simple Linear Regression, but this method is used to explain the relationship between one continuous response (dependent) variable and <b>two or more</b> predictor (independent) variables.\nMost of the real-world regression models involve multiple predictors. We will illustrate the structure by using four predictor variables, but these results can generalize to any integer:</p>\n"
      ]
    },
    {
      "cell_type": "markdown",
      "id": "83507783-9f8f-4b15-9054-1057b7846f90",
      "metadata": {},
      "outputs": [],
      "source": [
        "$$\nY: Response \\ Variable\\\\\\\\\\\\\\\\\\\\\nX\\_1 :Predictor\\ Variable \\ 1\\\\\\\\\nX\\_2: Predictor\\ Variable \\ 2\\\\\\\\\nX\\_3: Predictor\\ Variable \\ 3\\\\\\\\\nX\\_4: Predictor\\ Variable \\ 4\\\\\\\\\n$$\n"
      ]
    },
    {
      "cell_type": "markdown",
      "id": "f5428a99-7889-4dc1-9e9d-11f01cb8175c",
      "metadata": {},
      "outputs": [],
      "source": [
        "$$\na: intercept\\\\\\\\\\\\\\\\\\\\\nb\\_1 :coefficients \\ of\\ Variable \\ 1\\\\\\\\\nb\\_2: coefficients \\ of\\ Variable \\ 2\\\\\\\\\nb\\_3: coefficients \\ of\\ Variable \\ 3\\\\\\\\\nb\\_4: coefficients \\ of\\ Variable \\ 4\\\\\\\\\n$$\n"
      ]
    },
    {
      "cell_type": "markdown",
      "id": "71eb82a7-0124-4109-ab25-5e6f85d14042",
      "metadata": {},
      "outputs": [],
      "source": [
        "The equation is given by:\n"
      ]
    },
    {
      "cell_type": "markdown",
      "id": "3a5ce269-1d5d-4d81-ae50-dfaec3f407c4",
      "metadata": {},
      "outputs": [],
      "source": [
        "$$\nYhat = a + b\\_1 X\\_1 + b\\_2 X\\_2 + b\\_3 X\\_3 + b\\_4 X\\_4\n$$\n"
      ]
    },
    {
      "cell_type": "markdown",
      "id": "282ecd56-d933-4ac9-84c6-17e5c2e8ca72",
      "metadata": {},
      "outputs": [],
      "source": [
        "<p>From the previous section  we know that other good predictors of price could be:</p>\n<ul>\n    <li>Rec_count</li>\n    <li>OBV</li>\n    <li>Avg_price</li>\n    <li>BTC_price</li>\n</ul>\nLet's develop a model using these variables as the predictor variables.\n"
      ]
    },
    {
      "cell_type": "code",
      "id": "2b76dba4-b399-43a5-93e2-8b4b5ce8e655",
      "metadata": {},
      "outputs": [],
      "source": [
        "Z = df[['ATR', 'Rec_count', 'BTC_price', 'BNB_price']]"
      ]
    },
    {
      "cell_type": "markdown",
      "id": "a1f8286f-09ad-4310-a938-ebb851ab34b0",
      "metadata": {},
      "outputs": [],
      "source": [
        "Fit the linear model using the four above-mentioned variables.\n"
      ]
    },
    {
      "cell_type": "code",
      "id": "ea1cd932-8ac3-46ee-bc44-0e073b3de55c",
      "metadata": {},
      "outputs": [],
      "source": [
        "lm.fit(Z, df['Volume'])"
      ]
    },
    {
      "cell_type": "markdown",
      "id": "15fda8e0-2de3-43c4-94db-65a8d183b122",
      "metadata": {},
      "outputs": [],
      "source": [
        "What is the value of the intercept(a)?\n"
      ]
    },
    {
      "cell_type": "code",
      "id": "3313759e-352e-4f41-99ea-2193e78a674f",
      "metadata": {},
      "outputs": [],
      "source": [
        "lm.intercept_"
      ]
    },
    {
      "cell_type": "markdown",
      "id": "3ae99c06-fc72-4dbe-96df-50f36c2a72c4",
      "metadata": {},
      "outputs": [],
      "source": [
        "What are the values of the coefficients (b1, b2, b3, b4)?\n"
      ]
    },
    {
      "cell_type": "code",
      "id": "5e3a4fd2-77e4-457e-be2a-058aa245a5f3",
      "metadata": {},
      "outputs": [],
      "source": [
        "lm.coef_"
      ]
    },
    {
      "cell_type": "markdown",
      "id": "0dfa0959-6a7d-4214-b679-24323c5a6884",
      "metadata": {},
      "outputs": [],
      "source": [
        "What is the final estimated linear model that we get?\n"
      ]
    },
    {
      "cell_type": "markdown",
      "id": "ac01b29f-9179-472a-8adb-43fdb9c437c6",
      "metadata": {},
      "outputs": [],
      "source": [
        "As we saw above, we should get a final linear function with the structure:\n\n$$\nYhat = a + b\\_1 X\\_1 + b\\_2 X\\_2 + b\\_3 X\\_3 + b\\_4 X\\_4\n$$\n\nWhat is the linear function we get in this example?\n"
      ]
    },
    {
      "cell_type": "markdown",
      "id": "96a7bb48-31a2-4858-a3cb-f3e8e1fac31d",
      "metadata": {},
      "outputs": [],
      "source": [
        "<b>Price</b> = -155001.788736582 + -5.51567207e+04 x <b>Avg_price</b> - 4.79404856e-04 x <b>OBV</b> + 3.13748564e+03 x <b>Rec_count</b> + 1.12031838e+01 x <b>BTC_price</b>\n"
      ]
    },
    {
      "cell_type": "markdown",
      "id": "4c06c8a3-af6c-4884-b933-f4073245c4c4",
      "metadata": {},
      "outputs": [],
      "source": [
        "<div class=\"alert alert-danger alertdanger\" style=\"margin-top: 20px\">\n    <b style=\"font-size: 2em; font-weight: bold;\"> Question  #2 a): </b><br>\n    Create and train a Multiple Linear Regression model \"lm2\" where the response variable is \"Volume\", and the predictor variable is \"BTC_price\" and  \"RSI\".\n</div>\n"
      ]
    },
    {
      "cell_type": "code",
      "id": "becfbf62-880e-44b9-a0c5-c0752836ca45",
      "metadata": {},
      "outputs": [],
      "source": [
        "# Write your code below and press Shift+Enter to execute \n"
      ]
    },
    {
      "cell_type": "markdown",
      "id": "08eb7bc6-7089-4434-b2ef-84ac0a3b57e1",
      "metadata": {},
      "outputs": [],
      "source": [
        "<details><summary>Click here for the solution</summary>\n\n```python\nlm2 = LinearRegression()\nlm2.fit(df[['Rec_count' , 'ATR']],df['Volume'])\n\n```\n\n</details>\n"
      ]
    },
    {
      "cell_type": "markdown",
      "id": "119bb9a6-4feb-49aa-a959-4b776bd9de6e",
      "metadata": {},
      "outputs": [],
      "source": [
        "<div class=\"alert alert-danger alertdanger\" style=\"margin-top: 20px\">\n    <b style=\"font-size: 2em; font-weight: bold;\">Question  #2 b): </b>\n    <b>Find the coefficient of the model.</b>\n</div>\n"
      ]
    },
    {
      "cell_type": "code",
      "id": "e41a2fd3-479d-4217-8962-beb84771b620",
      "metadata": {},
      "outputs": [],
      "source": [
        "# Write your code below and press Shift+Enter to execute \n"
      ]
    },
    {
      "cell_type": "markdown",
      "id": "28bbe70a-89a4-44c0-8628-764b27869f0f",
      "metadata": {},
      "outputs": [],
      "source": [
        "<details><summary>Click here for the solution</summary>\n\n```python\nlm2.coef_\n\n```\n\n</details>\n"
      ]
    },
    {
      "cell_type": "markdown",
      "id": "c6abc2f8-dce7-4fd8-b5a7-dd19c02b073b",
      "metadata": {},
      "outputs": [],
      "source": [
        "## 2. Model Evaluation Using Visualization\n"
      ]
    },
    {
      "cell_type": "markdown",
      "id": "a6f0100d-0770-42f0-a275-f67eba0dda5e",
      "metadata": {},
      "outputs": [],
      "source": [
        "Now that we've developed some models, how do we evaluate our models and choose the best one? One way to do this is by using a visualization.\n"
      ]
    },
    {
      "cell_type": "markdown",
      "id": "35ddb666-290f-418a-9ec3-598d08965242",
      "metadata": {},
      "outputs": [],
      "source": [
        "### Regression Plot\n"
      ]
    },
    {
      "cell_type": "markdown",
      "id": "2d29fd10-888a-4f65-bd56-c5ca09893130",
      "metadata": {},
      "outputs": [],
      "source": [
        "<p>When it comes to simple linear regression, an excellent way to visualize the fit of our model is by using <b>regression plots</b>.</p>\n\n<p>This plot will show a combination of a scattered data points (a <b>scatterplot</b>), as well as the fitted <b>linear regression</b> line going through the data. This will give us a reasonable estimate of the relationship between the two variables, the strength of the correlation, as well as the direction (positive or negative correlation).</p>\n"
      ]
    },
    {
      "cell_type": "markdown",
      "id": "1341bfe0-ec9a-4893-8815-901b557826be",
      "metadata": {},
      "outputs": [],
      "source": [
        "Let's visualize **Volume** as potential predictor variable of BTC_price:\n"
      ]
    },
    {
      "cell_type": "code",
      "id": "e0425046-0e05-4704-88cc-6451ec96ac35",
      "metadata": {},
      "outputs": [],
      "source": [
        "width = 12\nheight = 10\nplt.figure(figsize=(width, height))\nsns.regplot(x=\"BTC_price\", y=\"Volume\", data=df)"
      ]
    },
    {
      "cell_type": "markdown",
      "id": "2c262fcb-d822-416d-a99e-05ace64da74e",
      "metadata": {},
      "outputs": [],
      "source": [
        "<p>We can see from this plot that price is negatively correlated to Open since the regression slope is negative.\n\nOne thing to keep in mind when looking at a regression plot is to pay attention to how scattered the data points are around the regression line. This will give you a good indication of the variance of the data and whether a linear model would be the best fit or not. If the data is too far off from the line, this linear model might not be the best model for this data.\n\nLet's compare this plot to the regression plot of \"Open\".</p>\n"
      ]
    },
    {
      "cell_type": "code",
      "id": "b57755a4-3fdb-4a45-837b-3b4a988848b5",
      "metadata": {},
      "outputs": [],
      "source": [
        "plt.figure(figsize=(width, height))\nsns.regplot(x=\"ATR\", y=\"Volume\", data=df)"
      ]
    },
    {
      "cell_type": "markdown",
      "id": "fba480fd-6fd3-4708-a54e-82ac92f48814",
      "metadata": {},
      "outputs": [],
      "source": [
        "<p>Comparing the regression plot of \"BTC_price\" and \"Open\", we see that the both of points for \"BTC_price\" and \"Open\" are more spread around the predicted line and it is much harder to determine if the points are decreasing or increasing\n"
      ]
    },
    {
      "cell_type": "markdown",
      "id": "687787c4-f9ea-4b24-bada-59981136b0d8",
      "metadata": {},
      "outputs": [],
      "source": [
        "<div class=\"alert alert-danger alertdanger\" style=\"margin-top: 20px\">\n    <b style=\"font-size: 2em; font-weight: bold;\">Question #3:</b><br>\n    <b>Given the regression plots above, is \"Avg_price\" or \"Rec_count\" more strongly correlated with \"Volume\"? Use the method  \".corr()\" to verify your answer.</b>\n</div>\n"
      ]
    },
    {
      "cell_type": "code",
      "id": "75f368f2-ac68-4257-90e7-0e2fae54ea07",
      "metadata": {},
      "outputs": [],
      "source": [
        "# Write your code below and press Shift+Enter to execute \n# The variable \"Open\" has a stronger correlation with \"price\", it is approximate -0.704692  compared to \"BTC_price\" which is approximate -0.101616. You can verify it using the following command:\n\ndf[[\"Volume\",\"ATR\",\"BTC_price\"]].corr()"
      ]
    },
    {
      "cell_type": "markdown",
      "id": "34ba688d-faad-40dd-b387-263fb6c5ecde",
      "metadata": {},
      "outputs": [],
      "source": [
        "<details><summary>Click here for the solution</summary>\n\n```python\n# The variable \"Open\" has a stronger correlation with \"price\", it is approximate -0.704692  compared to \"BTC_price\" which is approximate -0.101616. You can verify it using the following command:\n\ndf[[\"Open\",\"Avg_price\",\"BTC_price\"]].corr()\n\n```\n\n</details>\n"
      ]
    },
    {
      "cell_type": "markdown",
      "id": "95251873-86c5-4bd4-91b0-32baa2f2bb97",
      "metadata": {},
      "outputs": [],
      "source": [
        "### Residual Plot\n\n<p>A good way to visualize the variance of the data is to use a residual plot.</p>\n\n<p>What is a <b>residual</b>?</p>\n\n<p>The difference between the observed value (y) and the predicted value (Yhat) is called the residual (e). When we look at a regression plot, the residual is the distance from the data point to the fitted regression line.</p>\n\n<p>So what is a <b>residual plot</b>?</p>\n\n<p>A residual plot is a graph that shows the residuals on the vertical y-axis and the independent variable on the horizontal x-axis.</p>\n\n<p>What do we pay attention to when looking at a residual plot?</p>\n\n<p>We look at the spread of the residuals:</p>\n\n<p>- If the points in a residual plot are <b>randomly spread out around the x-axis</b>, then a <b>linear model is appropriate</b> for the data.\n\nWhy is that? Randomly spread out residuals means that the variance is constant, and thus the linear model is a good fit for this data.</p>\n"
      ]
    },
    {
      "cell_type": "code",
      "id": "5ac8afed-6530-4cb2-ac92-dcb601873ba3",
      "metadata": {},
      "outputs": [],
      "source": [
        "width = 12\nheight = 10\nplt.figure(figsize=(width, height))\nsns.residplot(y=df['Volume'],x=df['Rec_count'])\nplt.show()"
      ]
    },
    {
      "cell_type": "markdown",
      "id": "9517ad37-1ffe-4e3b-97c5-641c8813b635",
      "metadata": {},
      "outputs": [],
      "source": [
        "<i>What is this plot telling us?</i>\n\n<p>We can see from this residual plot that the residuals are not randomly spread around the x-axis, leading us to believe that maybe a non-linear model is more appropriate for this data.</p>\n"
      ]
    },
    {
      "cell_type": "markdown",
      "id": "d87f5774-9dc3-475c-a400-f47e8f1cdb4d",
      "metadata": {},
      "outputs": [],
      "source": [
        "### Multiple Linear Regression\n"
      ]
    },
    {
      "cell_type": "markdown",
      "id": "918c0877-01c2-4fde-9ea1-d544769a922b",
      "metadata": {},
      "outputs": [],
      "source": [
        "<p>How do we visualize a model for Multiple Linear Regression? This gets a bit more complicated because you can't visualize it with regression or residual plot.</p>\n\n<p>One way to look at the fit of the model is by looking at the <b>distribution plot</b>. We can look at the distribution of the fitted values that result from the model and compare it to the distribution of the actual values.</p>\n"
      ]
    },
    {
      "cell_type": "markdown",
      "id": "82d022c4-fda9-4692-a497-3f12d1735d7d",
      "metadata": {},
      "outputs": [],
      "source": [
        "First, let's make a prediction:\n"
      ]
    },
    {
      "cell_type": "code",
      "id": "031584e7-7b3c-4142-a0ad-73ce3a2bb373",
      "metadata": {},
      "outputs": [],
      "source": [
        "Y_hat = lm.predict(Z)\n"
      ]
    },
    {
      "cell_type": "code",
      "id": "2d6e03d6-9e7d-4540-a1cc-19b27efd87b4",
      "metadata": {},
      "outputs": [],
      "source": [
        "Z"
      ]
    },
    {
      "cell_type": "code",
      "id": "5c0f0975-53ab-43eb-9cc7-12103f005503",
      "metadata": {},
      "outputs": [],
      "source": [
        "plt.figure(figsize=(width, height))\n\n\nax1 = sns.distplot(df['Volume'], hist=False, color=\"r\", label=\"Actual Value\")\nsns.distplot(Y_hat, hist=False, color=\"b\", label=\"Fitted Values\" , ax=ax1)\n\n\nplt.title('Actual vs Fitted Values for Volume')\nplt.xlabel('Rate')\nplt.ylabel('Proportion of Volume')\n\nplt.show()\nplt.close()"
      ]
    },
    {
      "cell_type": "markdown",
      "id": "154e8141-5b39-430e-a543-a7bdb45a5ce9",
      "metadata": {},
      "outputs": [],
      "source": [
        "<p>We can see that the fitted values are reasonably close to the actual values since the two distributions overlap a bit. However, there is definitely some room for improvement.</p>\n"
      ]
    },
    {
      "cell_type": "markdown",
      "id": "1b6fdb48-6343-4e6e-8f29-349fa8cec3ac",
      "metadata": {},
      "outputs": [],
      "source": [
        "## 3. Polynomial Regression and Pipelines\n"
      ]
    },
    {
      "cell_type": "markdown",
      "id": "59c1eec4-89a2-4de7-9b51-09944e0147ce",
      "metadata": {},
      "outputs": [],
      "source": [
        "<p><b>Polynomial regression</b> is a particular case of the general linear regression model or multiple linear regression models.</p> \n<p>We get non-linear relationships by squaring or setting higher-order terms of the predictor variables.</p>\n\n<p>There are different orders of polynomial regression:</p>\n"
      ]
    },
    {
      "cell_type": "markdown",
      "id": "34b40ee7-7d6e-4001-81f8-95bc7db4c9b2",
      "metadata": {},
      "outputs": [],
      "source": [
        "<center><b>Quadratic - 2nd Order</b></center>\n$$\nYhat = a + b_1 X +b_2 X^2 \n$$\n\n<center><b>Cubic - 3rd Order</b></center>\n$$\nYhat = a + b_1 X +b_2 X^2 +b_3 X^3\\\\\\\\\\\\\\\\\\\\\n$$\n\n<center><b>Higher-Order</b>:</center>\n$$\nY = a + b_1 X +b_2 X^2 +b_3 X^3 ....\\\\\\\\\n$$\n"
      ]
    },
    {
      "cell_type": "markdown",
      "id": "d051e39e-5f0a-436e-92c4-9a329ac2e0f0",
      "metadata": {},
      "outputs": [],
      "source": [
        "<p>We saw earlier that a linear model did not provide the best fit while using \"Open\" as the predictor variable. Let's see if we can try fitting a polynomial model to the data instead.</p>\n"
      ]
    },
    {
      "cell_type": "markdown",
      "id": "d2963626-a6e2-4964-9479-f495dfda6107",
      "metadata": {},
      "outputs": [],
      "source": [
        "<p>We will use the following function to plot the data:</p>\n"
      ]
    },
    {
      "cell_type": "code",
      "id": "8d480818-3eb5-46b2-afb4-e1adac01f6a2",
      "metadata": {},
      "outputs": [],
      "source": [
        "def PlotPolly(model, independent_variable, dependent_variabble, Name):\n    x_new = np.linspace(15, 100, 100)\n    y_new = model(x_new)\n\n    plt.plot(independent_variable, dependent_variabble, '.', x_new, y_new, '-')\n    plt.title('Polynomial Fit with Matplotlib for Price')\n    ax = plt.gca()\n    ax.set_facecolor((0.898, 0.898, 0.898))\n    fig = plt.gcf()\n    plt.xlabel(Name)\n    plt.ylabel('Record Couts')\n\n    plt.show()\n    plt.close()"
      ]
    },
    {
      "cell_type": "markdown",
      "id": "7e98f245-033f-46b9-9975-b777b212bf08",
      "metadata": {},
      "outputs": [],
      "source": [
        "Let's get the variables:\n"
      ]
    },
    {
      "cell_type": "code",
      "id": "828cdab8-7f4a-46c3-b313-c68be3bdf760",
      "metadata": {},
      "outputs": [],
      "source": [
        "y = df['Volume']\nx = df['Rec_count']"
      ]
    },
    {
      "cell_type": "markdown",
      "id": "492abf02-3218-48c6-8a1c-e680a57d5c87",
      "metadata": {},
      "outputs": [],
      "source": [
        "Let's fit the polynomial using the function <b>polyfit</b>, then use the function <b>poly1d</b> to display the polynomial function.\n"
      ]
    },
    {
      "cell_type": "code",
      "id": "b5c24635-2902-4046-8041-d89b1a5ce7da",
      "metadata": {},
      "outputs": [],
      "source": [
        "# Here we use a polynomial of the 3rd order (cubic) \nf = np.polyfit(x, y, 3)\np = np.poly1d(f)\nprint(p)"
      ]
    },
    {
      "cell_type": "markdown",
      "id": "870c5576-a4eb-48bc-af70-28bad04608bd",
      "metadata": {},
      "outputs": [],
      "source": [
        "Let's plot the function:\n"
      ]
    },
    {
      "cell_type": "code",
      "id": "02643a87-82d2-4f05-8f46-7932eee84770",
      "metadata": {},
      "outputs": [],
      "source": [
        "PlotPolly(p, x, y, 'Volume')"
      ]
    },
    {
      "cell_type": "code",
      "id": "0dc4cd12-224a-4864-be81-b65ecef6496c",
      "metadata": {},
      "outputs": [],
      "source": [
        "np.polyfit(x, y, 3)"
      ]
    },
    {
      "cell_type": "markdown",
      "id": "811b4332-a260-4994-9fdc-aaba495a4076",
      "metadata": {},
      "outputs": [],
      "source": [
        "<p>We can already see from plotting that this polynomial model performs better than the linear model. This is because the generated polynomial function  \"hits\" more of the data points.</p>\n"
      ]
    },
    {
      "cell_type": "markdown",
      "id": "fe263a08-1372-4d2e-9f8a-ddc50165c7e7",
      "metadata": {},
      "outputs": [],
      "source": [
        "<div class=\"alert alert-danger alertdanger\" style=\"margin-top: 20px\">\n    <b style=\"font-size: 2em; font-weight: bold;\">Question  #4:</b><br>\n    <b>Create 11 order polynomial model with the variables x and y from above.</b>\n</div>\n"
      ]
    },
    {
      "cell_type": "code",
      "id": "159aca04-1985-47c4-9155-dea090feda00",
      "metadata": {},
      "outputs": [],
      "source": [
        "# Write your code below and press Shift+Enter to execute "
      ]
    },
    {
      "cell_type": "markdown",
      "id": "bd2e1426-0aa2-44ab-9950-c33b04f511f1",
      "metadata": {},
      "outputs": [],
      "source": [
        "<details><summary>Click here for the solution</summary>\n\n```python\n# Here we use a polynomial of the 11rd order (cubic) \nf1 = np.polyfit(x, y, 11)\np1 = np.poly1d(f1)\nprint(p1)\nPlotPolly(p1,x,y, 'Volume')\n\n```\n\n</details>\n"
      ]
    },
    {
      "cell_type": "markdown",
      "id": "bea8b222-d89a-40b5-b371-73cf5ec21e39",
      "metadata": {},
      "outputs": [],
      "source": [
        "<p>The analytical expression for Multivariate Polynomial function gets complicated. For example, the expression for a second-order (degree=2) polynomial with two variables is given by:</p>\n"
      ]
    },
    {
      "cell_type": "markdown",
      "id": "24d7fd44-ec32-4ef7-b37d-f7060242b815",
      "metadata": {},
      "outputs": [],
      "source": [
        "$$\nYhat = a + b\\_1 X\\_1 +b\\_2 X\\_2 +b\\_3 X\\_1 X\\_2+b\\_4 X\\_1^2+b\\_5 X\\_2^2\n$$\n"
      ]
    },
    {
      "cell_type": "markdown",
      "id": "d52ba0e2-79ed-4a80-8166-fa1823858b14",
      "metadata": {},
      "outputs": [],
      "source": [
        "We create a <b>PolynomialFeatures</b> object of degree 2:\n"
      ]
    },
    {
      "cell_type": "code",
      "id": "7a23aa15-5fc6-4277-b941-1ad8fe87880e",
      "metadata": {},
      "outputs": [],
      "source": [
        "pr=PolynomialFeatures(degree=2)\npr"
      ]
    },
    {
      "cell_type": "code",
      "id": "fd252cae-9bcb-4e90-93b8-983603297d07",
      "metadata": {},
      "outputs": [],
      "source": [
        "Z_pr=pr.fit_transform(Z)"
      ]
    },
    {
      "cell_type": "markdown",
      "id": "ef6aaab9-b105-4dbc-b2df-5bffc2659c98",
      "metadata": {},
      "outputs": [],
      "source": [
        "In the original data, there are 66847 samples and 4 features.\n"
      ]
    },
    {
      "cell_type": "code",
      "id": "24cada27-b582-463e-ae15-95f894ecf218",
      "metadata": {},
      "outputs": [],
      "source": [
        "Z.shape"
      ]
    },
    {
      "cell_type": "markdown",
      "id": "43909c71-4094-462b-a025-ae54b5630d10",
      "metadata": {},
      "outputs": [],
      "source": [
        "After the transformation, there are 66847 samples and 15 features.\n"
      ]
    },
    {
      "cell_type": "code",
      "id": "65d62f32-cec4-45fc-8fa4-c6838094ffb9",
      "metadata": {},
      "outputs": [],
      "source": [
        "Z_pr.shape"
      ]
    },
    {
      "cell_type": "markdown",
      "id": "a587bb07-f98f-44e9-bf8c-7741ee0e6f45",
      "metadata": {},
      "outputs": [],
      "source": [
        "## Pipeline\n"
      ]
    },
    {
      "cell_type": "markdown",
      "id": "7ac09fb0-5bc5-4fff-8e2f-3bee911969ef",
      "metadata": {},
      "outputs": [],
      "source": [
        "<p>Data Pipelines simplify the steps of processing the data. We use the module <b>Pipeline</b> to create a pipeline. We also use <b>StandardScaler</b> as a step in our pipeline.</p>\n"
      ]
    },
    {
      "cell_type": "markdown",
      "id": "c06a26ea-f1a6-47f7-9e50-72930ac7f792",
      "metadata": {},
      "outputs": [],
      "source": [
        "We create the pipeline by creating a list of tuples including the name of the model or estimator and its corresponding constructor.\n"
      ]
    },
    {
      "cell_type": "code",
      "id": "260ce684-121d-4a51-8602-ec7f16fed58f",
      "metadata": {},
      "outputs": [],
      "source": [
        "Input=[('scale',StandardScaler()), ('polynomial', PolynomialFeatures(include_bias=False)), ('model',LinearRegression())]"
      ]
    },
    {
      "cell_type": "markdown",
      "id": "dd4fcd9f-fe58-4535-b21d-e37c0245dae0",
      "metadata": {},
      "outputs": [],
      "source": [
        "We input the list as an argument to the pipeline constructor:\n"
      ]
    },
    {
      "cell_type": "code",
      "id": "4b3af230-ea8b-4c62-84e8-53aa47d97a7f",
      "metadata": {},
      "outputs": [],
      "source": [
        "pipe=Pipeline(Input)\npipe"
      ]
    },
    {
      "cell_type": "markdown",
      "id": "3d7f043c-39b8-46b9-896d-dfb28c378220",
      "metadata": {},
      "outputs": [],
      "source": [
        "First, we convert the data type Z to type float to avoid conversion warnings that may appear as a result of StandardScaler taking float inputs.\n\nThen, we can normalize the data,  perform a transform and fit the model simultaneously.\n"
      ]
    },
    {
      "cell_type": "code",
      "id": "7d4e2872-1c86-41d3-80c2-f25b1b602bb5",
      "metadata": {},
      "outputs": [],
      "source": [
        "Z = Z.astype(float)\npipe.fit(Z,y)"
      ]
    },
    {
      "cell_type": "markdown",
      "id": "b6f55c53-9708-4226-b13e-af8d4f5b0f74",
      "metadata": {},
      "outputs": [],
      "source": [
        "Similarly,  we can normalize the data, perform a transform and produce a prediction  simultaneously.\n"
      ]
    },
    {
      "cell_type": "code",
      "id": "c239d4c7-2c58-4a7c-af1e-2b3170b86037",
      "metadata": {},
      "outputs": [],
      "source": [
        "ypipe=pipe.predict(Z)\nypipe[0:4]"
      ]
    },
    {
      "cell_type": "markdown",
      "id": "5cf6c5b0-f364-43c0-ac49-0849d6407574",
      "metadata": {},
      "outputs": [],
      "source": [
        "<div class=\"alert alert-danger alertdanger\" style=\"margin-top: 20px\">\n    <b style=\"font-size: 2em; font-weight: bold;\"> Question #5:</b><br>\n    <b>Create a pipeline that standardizes the data, then produce a prediction using a linear regression model using the features Z and target y.</b>\n</div>\n"
      ]
    },
    {
      "cell_type": "code",
      "id": "479bcf3a-e2b8-4aa7-8e49-eb1fe940cf68",
      "metadata": {},
      "outputs": [],
      "source": [
        "# Write your code below and press Shift+Enter to execute "
      ]
    },
    {
      "cell_type": "markdown",
      "id": "2c420812-68ae-4204-bed0-f96b54a1b7fd",
      "metadata": {},
      "outputs": [],
      "source": [
        "<details><summary>Click here for the solution</summary>\n\n```python\nInput=[('scale',StandardScaler()),('model',LinearRegression())]\n\npipe=Pipeline(Input)\n\npipe.fit(Z,y)\n\nypipe=pipe.predict(Z)\nypipe[0:10]\n\n```\n\n</details>\n"
      ]
    },
    {
      "cell_type": "markdown",
      "id": "cb9302f1-1597-408b-8b72-d6670130d37e",
      "metadata": {},
      "outputs": [],
      "source": [
        "## 4. Measures for In-Sample Evaluation\n"
      ]
    },
    {
      "cell_type": "markdown",
      "id": "68260daa-4599-4248-a36c-a6b2e7e04974",
      "metadata": {},
      "outputs": [],
      "source": [
        "<p>When evaluating our models, not only do we want to visualize the results, but we also want a quantitative measure to determine how accurate the model is.</p>\n\n<p>Two very important measures that are often used in Statistics to determine the accuracy of a model are:</p>\n<ul>\n    <li><b>R^2 / R-squared</b></li>\n    <li><b>Mean Squared Error (MSE)</b></li>\n</ul>\n\n<b>R-squared</b>\n\n<p>R squared, also known as the coefficient of determination, is a measure to indicate how close the data is to the fitted regression line.</p>\n\n<p>The value of the R-squared is the percentage of variation of the response variable (y) that is explained by a linear model.</p>\n\n<b>Mean Squared Error (MSE)</b>\n\n<p>The Mean Squared Error measures the average of the squares of errors. That is, the difference between actual value (y) and the estimated value (ŷ).</p>\n"
      ]
    },
    {
      "cell_type": "markdown",
      "id": "bef74872-40a7-4a7c-976d-70523e8f7c9d",
      "metadata": {},
      "outputs": [],
      "source": [
        "<h3>Model 1: Simple Linear Regression</h3>\n"
      ]
    },
    {
      "cell_type": "markdown",
      "id": "4c256339-a84e-46f2-a5de-0ea21dc08b26",
      "metadata": {},
      "outputs": [],
      "source": [
        "Let's calculate the R^2:\n"
      ]
    },
    {
      "cell_type": "code",
      "id": "0b9a76c2-788a-42cf-a05f-d1ef67ee971b",
      "metadata": {},
      "outputs": [],
      "source": [
        "#highway_mpg_fit\nlm.fit(X, Y)\n# Find the R^2\nprint('The R-square is: ', lm.score(X, Y))"
      ]
    },
    {
      "cell_type": "markdown",
      "id": "64083a0e-7aa6-454c-a5ca-9f8b468fd750",
      "metadata": {},
      "outputs": [],
      "source": [
        "We can say that \\~0.37% of the variation of the price is explained by this simple linear model \"Rec_count\".\n"
      ]
    },
    {
      "cell_type": "markdown",
      "id": "9847b7bb-ed32-4d4f-bd46-9d19987679fd",
      "metadata": {},
      "outputs": [],
      "source": [
        "Let's calculate the MSE:\n"
      ]
    },
    {
      "cell_type": "markdown",
      "id": "886f09e2-4d05-4ee0-b1d1-16cae56c436a",
      "metadata": {},
      "outputs": [],
      "source": [
        "We can predict the output i.e., \"yhat\" using the predict method, where X is the input variable:\n"
      ]
    },
    {
      "cell_type": "code",
      "id": "05525e7a-03ca-45bf-883d-5ddb8a7ebce5",
      "metadata": {},
      "outputs": [],
      "source": [
        "Yhat=lm.predict(X)\nprint('The output of the first four predicted value is: ', Yhat[0:4])"
      ]
    },
    {
      "cell_type": "markdown",
      "id": "23628233-9dae-4224-9b3b-e6e0845b9762",
      "metadata": {},
      "outputs": [],
      "source": [
        "We can compare the predicted results with the actual results:\n"
      ]
    },
    {
      "cell_type": "code",
      "id": "4ce54d58-42b5-4a8f-8a2a-0635cfa6b0e4",
      "metadata": {},
      "outputs": [],
      "source": [
        "mse = mean_squared_error(Y, Yhat)\nprint('The mean square error of price and predicted value is: ', mse)"
      ]
    },
    {
      "cell_type": "markdown",
      "id": "4dbd3efe-eb86-441f-b1f1-917aa6d7a714",
      "metadata": {},
      "outputs": [],
      "source": [
        "### Model 2: Multiple Linear Regression\n"
      ]
    },
    {
      "cell_type": "markdown",
      "id": "7aac6340-d722-4e8e-bcd0-a0fd1ed8a68b",
      "metadata": {},
      "outputs": [],
      "source": [
        "Let's calculate the R^2:\n"
      ]
    },
    {
      "cell_type": "code",
      "id": "a652a27c-075f-4b1e-83fb-9f4a1738cf4e",
      "metadata": {},
      "outputs": [],
      "source": [
        "# fit the model \nlm.fit(Z, Y)\n# Find the R^2\nprint('The R-square is: ', lm.score(Z, df['Volume']))"
      ]
    },
    {
      "cell_type": "markdown",
      "id": "fe160d0b-d969-4896-a1ad-4a304c398caf",
      "metadata": {},
      "outputs": [],
      "source": [
        "We can say that \\~46 % of the variation of price is explained by this multiple linear regression \"multi_fit\".\n"
      ]
    },
    {
      "cell_type": "markdown",
      "id": "2c0ae2bf-f41a-49f9-920d-74901162ca25",
      "metadata": {},
      "outputs": [],
      "source": [
        "Let's calculate the MSE.\n"
      ]
    },
    {
      "cell_type": "markdown",
      "id": "93e8d659-a408-46ba-9966-b0912666813b",
      "metadata": {},
      "outputs": [],
      "source": [
        "We produce a prediction:\n"
      ]
    },
    {
      "cell_type": "code",
      "id": "4f0fb325-b6b6-470e-abed-b71ac8d059cc",
      "metadata": {},
      "outputs": [],
      "source": [
        "Y_predict_multifit = lm.predict(Z)"
      ]
    },
    {
      "cell_type": "markdown",
      "id": "6e635437-98f7-446a-89e5-dd56261571a7",
      "metadata": {},
      "outputs": [],
      "source": [
        "We compare the predicted results with the actual results:\n"
      ]
    },
    {
      "cell_type": "code",
      "id": "c7cf72ba-5eb5-4d54-8943-2586009831bc",
      "metadata": {},
      "outputs": [],
      "source": [
        "print('The mean square error of price and predicted value using multifit is: ', \\\n      mean_squared_error(Y, Y_predict_multifit))"
      ]
    },
    {
      "cell_type": "markdown",
      "id": "db6fd8a4-3fc9-471c-977e-6194538a2aad",
      "metadata": {},
      "outputs": [],
      "source": [
        "### Model 3: Polynomial Fit\n"
      ]
    },
    {
      "cell_type": "markdown",
      "id": "ff94cd3b-227c-4661-8228-e34f08e592a1",
      "metadata": {},
      "outputs": [],
      "source": [
        "Let's calculate the R^2.\n"
      ]
    },
    {
      "cell_type": "markdown",
      "id": "bf060f0a-43ad-435c-9c60-23bd0009e210",
      "metadata": {},
      "outputs": [],
      "source": [
        "We apply the function to get the value of R^2:\n"
      ]
    },
    {
      "cell_type": "code",
      "id": "5a7537bc-29f6-4e8f-a8f1-ccd6c3294635",
      "metadata": {},
      "outputs": [],
      "source": [
        "r_squared = r2_score(y, p(x))\nprint('The R-square value is: ', r_squared)"
      ]
    },
    {
      "cell_type": "markdown",
      "id": "8c4b8ba5-2d78-49bf-a1c6-bd4254b6cbb6",
      "metadata": {},
      "outputs": [],
      "source": [
        "We can say that \\~56.66 % of the variation of price is explained by this polynomial fit.\n"
      ]
    },
    {
      "cell_type": "markdown",
      "id": "0ec9a040-8f2f-4ce8-85af-7169eb4a39ca",
      "metadata": {},
      "outputs": [],
      "source": [
        "### MSE\n"
      ]
    },
    {
      "cell_type": "markdown",
      "id": "b4fda0c9-3bcc-4446-94d9-d4e4055ae58d",
      "metadata": {},
      "outputs": [],
      "source": [
        "We can also calculate the MSE:\n"
      ]
    },
    {
      "cell_type": "code",
      "id": "6842b9f8-3fdb-4fde-9e06-a21080e6a42b",
      "metadata": {},
      "outputs": [],
      "source": [
        "mean_squared_error(Y, p(x))"
      ]
    },
    {
      "cell_type": "markdown",
      "id": "6f4d8323-716b-4552-aef1-ce9fee35401e",
      "metadata": {},
      "outputs": [],
      "source": [
        "## 5. Prediction and Decision Making\n### Prediction\n\n<p>In the previous section, we trained the model using the method <b>fit</b>. Now we will use the method <b>predict</b> to produce a prediction. Lets import <b>pyplot</b> for plotting; we will also be using some functions from numpy.</p>\n"
      ]
    },
    {
      "cell_type": "markdown",
      "id": "b4ec67d8-9280-4a97-a079-e07ef8930acc",
      "metadata": {},
      "outputs": [],
      "source": [
        "Create a new input:\n"
      ]
    },
    {
      "cell_type": "code",
      "id": "642764ed-adc0-4c71-925b-fe9fc7142c7f",
      "metadata": {},
      "outputs": [],
      "source": [
        "new_input=np.arange(1, 100, 1).reshape(-1, 1)"
      ]
    },
    {
      "cell_type": "markdown",
      "id": "e338e0ee-9712-490d-b988-b515d2ff6945",
      "metadata": {},
      "outputs": [],
      "source": [
        "Fit the model:\n"
      ]
    },
    {
      "cell_type": "code",
      "id": "0a079cc8-8be4-490d-b634-8fa75e21fae5",
      "metadata": {},
      "outputs": [],
      "source": [
        "lm.fit(X, Y)\nlm"
      ]
    },
    {
      "cell_type": "markdown",
      "id": "229882bc-f628-439a-bcd3-49ef0632ca28",
      "metadata": {},
      "outputs": [],
      "source": [
        "Produce a prediction:\n"
      ]
    },
    {
      "cell_type": "code",
      "id": "5548e067-a599-42ab-91da-cd82e00d2782",
      "metadata": {},
      "outputs": [],
      "source": [
        "yhat=lm.predict(new_input)\nyhat[0:5]"
      ]
    },
    {
      "cell_type": "markdown",
      "id": "c1d3285d-c6f8-49f2-9aca-84bd6738e61e",
      "metadata": {},
      "outputs": [],
      "source": [
        "We can plot the data:\n"
      ]
    },
    {
      "cell_type": "code",
      "id": "0bb68656-c628-488d-819a-8039f792e3c1",
      "metadata": {},
      "outputs": [],
      "source": [
        "plt.plot(new_input, yhat)\nplt.show()"
      ]
    },
    {
      "cell_type": "markdown",
      "id": "153a09ac-9a9c-4da4-937a-59c968b42c1b",
      "metadata": {},
      "outputs": [],
      "source": [
        "### Decision Making: Determining a Good Model Fit\n"
      ]
    },
    {
      "cell_type": "markdown",
      "id": "d6a775bc-807e-41f9-8608-2226d8cd8392",
      "metadata": {},
      "outputs": [],
      "source": [
        "<p>Now that we have visualized the different models, and generated the R-squared and MSE values for the fits, how do we determine a good model fit?\n<ul>\n    <li><i>What is a good R-squared value?</i></li>\n</ul>\n</p>\n\n<p>When comparing models, <b>the model with the higher R-squared value is a better fit</b> for the data.\n<ul>\n    <li><i>What is a good MSE?</i></li>\n</ul>\n</p>\n\n<p>When comparing models, <b>the model with the smallest MSE value is a better fit</b> for the data.</p>\n\n<h4>Let's take a look at the values for the different models.</h4>\n<p>Simple Linear Regression: Using Open as a Predictor Variable of Price.\n<ul>\n    <li>R-squared: 0.003875574686888039</li>\n    <li>MSE: 4,97 x10^9 </li>\n</ul>\n</p>\n\n<p>Multiple Linear Regression: Using Rec_count, Close, Volume, and Open as Predictor Variables of Price.\n<ul>\n    <li>R-squared: 0.460047585603527</li>\n    <li>MSE: 2 x10^9</li>\n</ul>\n</p>\n\n<p>Polynomial Fit: Using Open as a Predictor Variable of Price.\n<ul>\n    <li>R-squared: 0.5666324234342912</li>\n    <li>MSE: 4,99 x 10^9</li>\n</ul>\n</p>\n"
      ]
    },
    {
      "cell_type": "markdown",
      "id": "007a8319-95f4-4a72-96e0-28548161c854",
      "metadata": {},
      "outputs": [],
      "source": [
        "### Simple Linear Regression Model (SLR) vs Multiple Linear Regression Model (MLR)\n"
      ]
    },
    {
      "cell_type": "markdown",
      "id": "24e89b6f-6df6-4e60-bd6a-02f1c2162e49",
      "metadata": {},
      "outputs": [],
      "source": [
        "<p>Usually, the more variables you have, the better your model is at predicting, but this is not always true. Sometimes you may not have enough data, you may run into numerical problems, or many of the variables may not be useful and even act as noise. As a result, you should always check the MSE and R^2.</p>\n\n<p>In order to compare the results of the MLR vs SLR models, we look at a combination of both the R-squared and MSE to make the best conclusion about the fit of the model.\n<ul>\n    <li><b>MSE</b>: The MSE of SLR is  3.16x10^7  while MLR has an MSE of 1.2 x10^7.  The MSE of MLR is much smaller.</li>\n    <li><b>R-squared</b>: In this case, we can also see that there is a big difference between the R-squared of the SLR and the R-squared of the MLR. The R-squared for the SLR (~0.497) is very small compared to the R-squared for the MLR (~0.809).</li>\n</ul>\n</p>\n\nThis R-squared in combination with the MSE show that MLR seems like the better model fit in this case compared to SLR.\n"
      ]
    },
    {
      "cell_type": "markdown",
      "id": "bd78e41b-1f53-4b2e-9c57-9898a742f807",
      "metadata": {},
      "outputs": [],
      "source": [
        "### Simple Linear Model (SLR) vs. Polynomial Fit \n"
      ]
    },
    {
      "cell_type": "markdown",
      "id": "969d0839-2dfb-441c-8648-76fae229a9ec",
      "metadata": {},
      "outputs": [],
      "source": [
        "<ul>\n    <li><b>MSE</b>: We can see that Polynomial Fit brought down the MSE, since this MSE is smaller than the one from the SLR.</li> \n    <li><b>R-squared</b>: The R-squared for the Polynomial Fit is larger than the R-squared for the SLR, so the Polynomial Fit also brought up the R-squared quite a bit.</li>\n</ul>\n<p>Since the Polynomial Fit resulted in a lower MSE and a higher R-squared, we can conclude that this was a better fit model than the simple linear regression for predicting \"price\" with \"Open\" as a predictor variable.</p>\n"
      ]
    },
    {
      "cell_type": "markdown",
      "id": "86fb5657-bc5e-4a07-a3bc-8dffd9c38845",
      "metadata": {},
      "outputs": [],
      "source": [
        "<h3>Multiple Linear Regression (MLR) vs. Polynomial Fit</h3>\n"
      ]
    },
    {
      "cell_type": "markdown",
      "id": "9c9180c9-2c0a-44ed-a543-6e150eeb870b",
      "metadata": {},
      "outputs": [],
      "source": [
        "<ul>\n    <li><b>MSE</b>: The MSE for the MLR is smaller than the MSE for the Polynomial Fit.</li>\n    <li><b>R-squared</b>: The R-squared for the MLR is also much larger than for the Polynomial Fit.</li>\n</ul>\n"
      ]
    },
    {
      "cell_type": "markdown",
      "id": "c5b5bb12-7135-4bf2-80f7-9b114af26a83",
      "metadata": {},
      "outputs": [],
      "source": [
        "## Conclusion\n"
      ]
    },
    {
      "cell_type": "markdown",
      "id": "292e5524-7c61-4a13-b04f-f90d6e19e39f",
      "metadata": {},
      "outputs": [],
      "source": [
        "<p>Comparing these three models, we conclude that <b>the MLR model is the best model</b> to be able to predict price from our dataset. This result makes sense since we have 27 variables in total and we know that more than one of those variables are potential predictors of the final car price.</p>\n"
      ]
    },
    {
      "cell_type": "markdown",
      "id": "225e984e-ff04-440e-8133-5c264e8f17b3",
      "metadata": {},
      "outputs": [],
      "source": [
        "# **Thank you for completing this lab!**\n\n## Author\n\n<a href=\"https://author.skills.network/instructors/ostap_liashenyk\" target=\"_blank\" >Ostap Liashenyk</a>\n\n<a href=\"https://author.skills.network/instructors/yaroslav_vyklyuk_2?utm_medium=Exinfluencer&utm_source=Exinfluencer&utm_content=000026UJ&utm_term=10006555&utm_id=NA-SkillsNetwork-Channel-SkillsNetworkGuidedProjectsIBMSkillsNetworkGPXX0QGDEN2306-2023-01-01\">Prof. Yaroslav Vyklyuk, DrSc, PhD</a>\n\n<a href=\"https://author.skills.network/instructors/mariya_fleychuk?utm_medium=Exinfluencer&utm_source=Exinfluencer&utm_content=000026UJ&utm_term=10006555&utm_id=NA-SkillsNetwork-Channel-SkillsNetworkGuidedProjectsIBMSkillsNetworkGPXX0QGDEN2306-2023-01-01\">Prof. Mariya Fleychuk, DrSc, PhD</a>\n\n\n\n## Change Log\n\n| Date (YYYY-MM-DD) | Version | Changed By      | Change Description                                         |\n| ----------------- | ------- | ----------------| ---------------------------------------------------------- |\n|     2023-04-01    |   1.0   | Ostap Liashenyk | Creation of the lab                                        |\n\n<hr>\n\n## <h3 align=\"center\"> © IBM Corporation 2023. All rights reserved. </h3>\n"
      ]
    },
    {
      "cell_type": "code",
      "id": "3ab6ecec-3045-4dc8-bf1f-057fdd89f963",
      "metadata": {},
      "outputs": [],
      "source": [
        ""
      ]
    }
  ],
  "metadata": {
    "language_info": {
      "name": ""
    },
    "kernelspec": {
      "name": "",
      "display_name": ""
    }
  },
  "nbformat": 4,
  "nbformat_minor": 4
}