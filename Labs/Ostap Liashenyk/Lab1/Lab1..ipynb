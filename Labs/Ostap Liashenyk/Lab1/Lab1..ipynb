{
  "cells": [
    {
      "cell_type": "markdown",
      "id": "9b78dd98-0a52-4df2-8cdc-48cd30d5dd54",
      "metadata": {},
      "outputs": [],
      "source": [
        "<center>\n    <img src=\"https://cf-courses-data.s3.us.cloud-object-storage.appdomain.cloud/assets/logos/SN_web_lightmode.png\" width=\"400\" alt=\"cognitiveclass.ai logo\"  />\n</center>\n\n# Investigation of cryptocurrency exchange rate dynamic (Matic/USD), сalculation and analysis of technical financial indicators, characterizing the cryptocurrency market (ATR, OBV, RSI, AD)\n\nEstimated time needed: **30** minutes\n\nThe tasks:\n* Download and process statistical time series of cryptocurrency pair Matic/USD, describing the dynamics of the cryptocurrency market;\n* Upload statistical data from the Pandas library;\n* Calculate and analyze technical financial indicators for cryptocurrecny indicators analysis (ATR, OBV, ADV, RSI, AD)\n\n\n## Objectives\n\nAfter completing this lab you will be able to:\n\n*  Acquire data in various ways;\n*  Obtain insights from data with Pandas library;\n*  Calculating technical financial indicators.\n\n### **Columns**\n\n* #### `Ts` - the timestamp of the record\n* #### `Open` -  the price of the asset at the beginning of the trading period\n* #### `High` -  the highest price of the asset during the trading period\n* #### `Low` - the lowest price of the asset during the trading period.\n* #### `Close` - the price of the asset at the end of the trading period\n* #### `Volume` - the total number of shares or contracts of a particular asset that are traded during a given period\n* #### `Rec_count` -  the number of individual trades or transactions that have been executed during a given time period\n* #### `Avg_price` - the average price at which a particular asset has been bought or sold during a given period\n* #### `ATR` - average true range indicator\n* #### `OBV` - on-balance volume indicator\n* #### `RSI` - relative strength index indicator\n* #### `AD` - accumulation / distribution indicator\n* #### `BTC_price` - the avarage price from BTC/BUSD dataset \n* #### `BNB_price` - the avarage price from BNB/BUSD dataset"
      ]
    },
    {
      "cell_type": "markdown",
      "id": "8638a119-5c98-4e0e-ae9f-3635c78d23d5",
      "metadata": {},
      "outputs": [],
      "source": [
        "## Table of Contents\n\n<div class=\"alert alert-block alert-info\" style=\"margin-top: 20px\">\n<ol>\n    <li><a href=\"https://#data_acquisition\">Data Acquisition</a>\n    <li><a href=\"https://#basic_insight\">Basic Insight of Dataset</a></li>\n    <li><a href=\"https://#indicators\">Calculating technical financial (cryptocurrency) indicators</a> <ul> <li>ATR <li>OBV <li>RSI <li>AD </ul>\n</ol>\n\n</div>\n<hr>\n"
      ]
    },
    {
      "cell_type": "markdown",
      "id": "353646ad-e425-4caf-bb41-d446797beb03",
      "metadata": {},
      "outputs": [],
      "source": [
        "# Data Acquisition\n<p>\nThere are various formats for a dataset: .csv, .json, .xlsx  etc. The dataset can be stored in different places, on your local machine or sometimes online.<br>\n\nIn this section, you will learn how to load a dataset into our Jupyter Notebook.<br>\n\nIn our case, the Cryptocurrency Dataset is an online source, and it is in a CSV (comma separated value) format. Let's use this dataset as an example to practice data reading.\n\n<ul>\n    <li>Data source: <a href=\"https://1824251045.rsc.cdn77.org/web/algohouse/data/BTCBUSD_trades_1m.csv\" target=\"_blank\">https://1824251045.rsc.cdn77.org/web/algohouse/data/BTCBUSD_trades_1m.csv</a>\n    <a href=\"https://1824251045.rsc.cdn77.org/web/algohouse/data/MATICBUSD_trades_1m.csv\" target=\"_blank\">https://1824251045.rsc.cdn77.org/web/algohouse/data/MATICBUSD_trades_1m.csv</a>\n    <a href=\"https://1824251045.rsc.cdn77.org/web/algohouse/data/BNBBUSD_trades_1m.csv\" target=\"_blank\">https://1824251045.rsc.cdn77.org/web/algohouse/data/BNBBUSD_trades_1m.csv</a></li>\n    <li>Data type: csv</li>\n</ul>\nThe Pandas Library is a useful tool that enables us to read various datasets into a dataframe; our Jupyter notebook platforms have a built-in <b>Pandas Library</b> so that all we need to do is import Pandas without installing.\n</p>\n"
      ]
    },
    {
      "cell_type": "code",
      "id": "1fb3ce7b-6a81-40f4-b8c5-28161ea649b1",
      "metadata": {},
      "outputs": [],
      "source": [
        "#install specific version of libraries used in  lab\n#! mamba install pandas -y\n#! mamba install numpy -y"
      ]
    },
    {
      "cell_type": "code",
      "id": "9475eb1a-ab33-40fd-a225-63dcbe8a6ea7",
      "metadata": {},
      "outputs": [],
      "source": [
        "# import pandas library\nimport pandas as pd\nimport numpy as np\npd.set_option(\"display.precision\", 2)\npd.options.display.float_format = '{:.2f}'.format"
      ]
    },
    {
      "cell_type": "markdown",
      "id": "37d44fce-e07c-456e-a298-98ccdafbe490",
      "metadata": {},
      "outputs": [],
      "source": [
        "## Read Data\n<p>\nWe use <code>pandas.read_csv()</code> function to read the csv file. In the brackets, we put the file path along with a quotation mark so that pandas will read the file into a dataframe from that address. The file path can be either an URL or your local file address.<br>\n\nBecause the data does not include headers, we can add an argument <code>headers = None</code> inside the <code>read_csv()</code> method so that pandas will not automatically set the first row as a header.<br>\n\nYou can also assign the dataset to any variable you create.\n\n</p>\n"
      ]
    },
    {
      "cell_type": "markdown",
      "id": "dd4e99b7-9dc4-45b0-87b9-302b83312e73",
      "metadata": {},
      "outputs": [],
      "source": [
        "This dataset was hosted on IBM Cloud object. Click <a href=\"https://cocl.us/DA101EN_object_storage?utm_medium=Exinfluencer&utm_source=Exinfluencer&utm_content=000026UJ&utm_term=10006555&utm_id=NA-SkillsNetwork-Channel-SkillsNetworkCoursesIBMDeveloperSkillsNetworkDA0101ENSkillsNetwork20235326-2021-01-01\">HERE</a> for free storage.\n"
      ]
    },
    {
      "cell_type": "markdown",
      "id": "d7c82a0a-3a8e-4ce6-963d-175b29550f89",
      "metadata": {},
      "outputs": [],
      "source": [
        "In this lab, we will be using three different datasets to create one that we will use in future labs. We will load three datasets and add the 'avg_price' columns from two of them to our main one.\n"
      ]
    },
    {
      "cell_type": "code",
      "id": "fba290e9-0f2b-4a5f-a5cb-7805089c752b",
      "metadata": {},
      "outputs": [],
      "source": [
        "path = \"https://cf-courses-data.s3.us.cloud-object-storage.appdomain.cloud/IBMSkillsNetwork-GPXX0XHOEN/MATICBUSD_trades_1m.csv\"\ndf = pd.read_csv(path,low_memory=False, index_col=0)\n\n# Download additional datasets with \"price\" columns\nbtc_url = 'https://cf-courses-data.s3.us.cloud-object-storage.appdomain.cloud/IBMSkillsNetwork-GPXX0XHOEN/BTCBUSD_trades_1m.csv'\nbtc_df = pd.read_csv(btc_url,low_memory=False, index_col=0)\n\n\nbnb_url = 'https://cf-courses-data.s3.us.cloud-object-storage.appdomain.cloud/IBMSkillsNetwork-GPXX0XHOEN/BNBBUSD_trades_1m%20(4).csv'\nbnb_df = pd.read_csv(bnb_url,low_memory=False, index_col=0)\n\n"
      ]
    },
    {
      "cell_type": "markdown",
      "id": "c5025b6f-e59c-4d0a-a8fd-1ea23d7ebd46",
      "metadata": {},
      "outputs": [],
      "source": [
        "After reading the dataset, we can use the <code>dataframe.head(n)</code> method to check the top n rows of the dataframe, where n is an integer. Contrary to <code>dataframe.head(n)</code>, <code>dataframe.tail(n)</code> will show you the bottom n rows of the dataframe.\n"
      ]
    },
    {
      "cell_type": "code",
      "id": "63873bd0-5d01-4c75-8a1c-9deb0a6b88f1",
      "metadata": {},
      "outputs": [],
      "source": [
        "# show the first 5 rows using dataframe.head() method\nprint(\"The first 5 rows of the dataframe\") \ndf.head(5)"
      ]
    },
    {
      "cell_type": "markdown",
      "id": "c2946d94-090a-4e4e-8f03-7e1a3798ee33",
      "metadata": {},
      "outputs": [],
      "source": [
        "We have to rename the columns \"avg_price\" so that they don't repeat in the main dataset using dataframe.rename()"
      ]
    },
    {
      "cell_type": "code",
      "id": "d3734509-25b3-4d00-a93c-b3e9bcf59c8f",
      "metadata": {},
      "outputs": [],
      "source": [
        "btc_df = btc_df.rename(columns = {\"avg_price\" : \"BTC_price\"})\nbtc_df.head()"
      ]
    },
    {
      "cell_type": "code",
      "id": "da0c8c5a-7bba-4cb1-86bd-4beee049cbc4",
      "metadata": {},
      "outputs": [],
      "source": [
        "bnb_df = bnb_df.rename(columns = {\"avg_price\" : \"BNB_price\"})\nbnb_df.head()"
      ]
    },
    {
      "cell_type": "markdown",
      "id": "16fc52c0-4222-47f2-bd93-0a68c2ab98e9",
      "metadata": {},
      "outputs": [],
      "source": [
        "Now we add \"avg_price\" from BTC and BNB datasets to our main one. We can use pandas.concat()"
      ]
    },
    {
      "cell_type": "code",
      "id": "30f5bb23-7f84-490d-8588-95823cef4ad8",
      "metadata": {},
      "outputs": [],
      "source": [
        "df = pd.concat([df, btc_df[\"BTC_price\"],bnb_df[\"BNB_price\"]], axis =1)\ndf.head()"
      ]
    },
    {
      "cell_type": "markdown",
      "id": "c6ad85d1-c6b7-4277-8734-b3ac39a260c2",
      "metadata": {},
      "outputs": [],
      "source": [
        "<div class=\"alert alert-danger alertdanger\" style=\"margin-top: 20px\">\n<b style=\"font-size: 2em; font-weight: bold;\"> Question #1: </b><br>\n<b>Check the bottom 10 rows of data frame \"df\".</b>\n</div>\n"
      ]
    },
    {
      "cell_type": "code",
      "id": "37251713-b569-4676-8c2d-4162b0fb89dc",
      "metadata": {},
      "outputs": [],
      "source": [
        "# Write your code below and press Shift+Enter to execute \nprint(\"The last 10 rows of the dataframe\\n\")\ndf.tail(5)"
      ]
    },
    {
      "cell_type": "markdown",
      "id": "07dde061-4d85-47c8-ab38-85773888165a",
      "metadata": {},
      "outputs": [],
      "source": [
        "Here we can see a lot of NaN values, which appear due to different dimensions of the datasets."
      ]
    },
    {
      "cell_type": "markdown",
      "id": "028ce2b4-da5e-4bf9-a566-4758bd58b03f",
      "metadata": {},
      "outputs": [],
      "source": [
        "<details><summary>Click here for the solution</summary>\n\n```python\nprint(\"The last 10 rows of the dataframe\\n\")\ndf.tail(10)\n```\n"
      ]
    },
    {
      "cell_type": "markdown",
      "id": "042b479f-282d-4e31-a30b-2d018f5e8409",
      "metadata": {},
      "outputs": [],
      "source": [
        "### Add Headers\n<p>\nTake a look at our dataset. Pandas automatically set the header with an integer starting from 0.\n</p>\n\n<p>\nThus, we have to add headers manually.\n</p>\n<p>\nFirst, we create a list \"headers\" that include all column names in order.\nThen, we use <code>dataframe.columns = headers</code> to replace the headers with the list we created.\n</p>\n"
      ]
    },
    {
      "cell_type": "code",
      "id": "91e1e90e-3ecd-46ba-8c8e-072478354d2a",
      "metadata": {},
      "outputs": [],
      "source": [
        "# create headers list\nheaders = [\"Ts\",\"Open\",\"High\",\"Low\",\"Close\",\"Volume\",\"Rec_count\",\"Avg_price\",\"BTC_price\",\"BNB_price\"]\nprint(\"headers\\n\", headers)"
      ]
    },
    {
      "cell_type": "markdown",
      "id": "8a5f81d4-ed31-4de4-8aec-143965a7bc29",
      "metadata": {},
      "outputs": [],
      "source": [
        "We replace headers and recheck our dataframe:\n"
      ]
    },
    {
      "cell_type": "code",
      "id": "56465efb-1e70-4e7d-990a-2440421d60ac",
      "metadata": {},
      "outputs": [],
      "source": [
        "df.columns = headers\ndf.head(10)"
      ]
    },
    {
      "cell_type": "markdown",
      "id": "497939ae-9f33-4b77-9724-6fe4e2d249be",
      "metadata": {},
      "outputs": [],
      "source": [
        "We can remove the missing values using dropna() \n"
      ]
    },
    {
      "cell_type": "markdown",
      "id": "cfee5f72-0d1a-440a-9a65-642de989a2d8",
      "metadata": {},
      "outputs": [],
      "source": [
        "We can drop missing values along the column \"open\" as follows:\n"
      ]
    },
    {
      "cell_type": "code",
      "id": "2a8f6889-3bf9-473e-9c47-173ecb32baaa",
      "metadata": {},
      "outputs": [],
      "source": [
        "df=df.dropna(subset=[\"Open\"], axis=0)\ndf.head(5)"
      ]
    },
    {
      "cell_type": "markdown",
      "id": "dfc440cc-414a-4400-9c8a-2431c797da0d",
      "metadata": {},
      "outputs": [],
      "source": [
        "Now, we have successfully read the raw dataset and added the correct headers into the dataframe.\n"
      ]
    },
    {
      "cell_type": "markdown",
      "id": "1c1427c3-772d-40e9-b173-5b00d29fec99",
      "metadata": {},
      "outputs": [],
      "source": [
        " <div class=\"alert alert-danger alertdanger\" style=\"margin-top: 20px\">\n<h1> Question #2: </h1>\n<b>Find the name of the columns of the dataframe.</b>\n</div>\n"
      ]
    },
    {
      "cell_type": "code",
      "id": "74ba78c9-f3fc-433e-9fbf-ae496630e6e4",
      "metadata": {},
      "outputs": [],
      "source": [
        "# Write your code below and press Shift+Enter to execute \nprint(df.columns)"
      ]
    },
    {
      "cell_type": "markdown",
      "id": "868486af-dd5c-4e7e-a813-dc41e4a6c426",
      "metadata": {},
      "outputs": [],
      "source": [
        "<details><summary>Click here for the solution</summary>\n\n```python\nprint(df.columns)\n```\n\n</details>\n"
      ]
    },
    {
      "cell_type": "markdown",
      "id": "fdda785a-0d82-4b55-80e3-6b883c890593",
      "metadata": {},
      "outputs": [],
      "source": [
        "## Save Dataset\n<p>\nCorrespondingly, Pandas enables us to save the dataset to csv. By using the <code>dataframe.to_csv()</code> method, you can add the file path and name along with quotation marks in the brackets.\n</p>\n<p>\nFor example, if you would save the dataframe <b>df</b> as <b>bnb.csv</b> to your local machine, you may use the syntax below, where <code>index = False</code> means the row names will not be written.\n</p>\n"
      ]
    },
    {
      "cell_type": "raw",
      "id": "293490a4-6a7e-476a-9771-c55c45346a98",
      "metadata": {},
      "outputs": [],
      "source": [
        "df.to_csv(\"bnb.csv\", index=False)"
      ]
    },
    {
      "cell_type": "markdown",
      "id": "cae5cbb7-58eb-4b76-964f-94152aef4bc9",
      "metadata": {},
      "outputs": [],
      "source": [
        "We can also read and save other file formats. We can use similar functions like **`pd.read_csv()`** and **`df.to_csv()`** for other data formats. The functions are listed in the following table:\n"
      ]
    },
    {
      "cell_type": "markdown",
      "id": "40621304-7a5d-4c02-9d04-9847c21f0a53",
      "metadata": {},
      "outputs": [],
      "source": [
        "## Read/Save Other Data Formats\n\n| Data Formate |        Read       |            Save |\n| ------------ | :---------------: | --------------: |\n| csv          |  `pd.read_csv()`  |   `df.to_csv()` |\n| json         |  `pd.read_json()` |  `df.to_json()` |\n| excel        | `pd.read_excel()` | `df.to_excel()` |\n| hdf          |  `pd.read_hdf()`  |   `df.to_hdf()` |\n| sql          |  `pd.read_sql()`  |   `df.to_sql()` |\n| ...          |        ...        |             ... |\n"
      ]
    },
    {
      "cell_type": "markdown",
      "id": "d907b206-fcf0-44b3-b42b-de10d2b451b3",
      "metadata": {},
      "outputs": [],
      "source": [
        "<h1 id=\"basic_insight\">Basic Insight of Dataset</h1>\n<p>\nAfter reading data into Pandas dataframe, it is time for us to explore the dataset.<br>\n\nThere are several ways to obtain essential insights of the data to help us better understand our dataset.\n\n</p>\n"
      ]
    },
    {
      "cell_type": "markdown",
      "id": "e50247cd-4117-4501-b564-5826386d4b33",
      "metadata": {},
      "outputs": [],
      "source": [
        "<h2>Data Types</h2>\n<p>\nData has a variety of types.<br>\n\nThe main types stored in Pandas dataframes are <b>object</b>, <b>float</b>, <b>int</b>, <b>bool</b> and <b>datetime64</b>. In order to better learn about each attribute, it is always good for us to know the data type of each column. In Pandas:\n\n</p>\n"
      ]
    },
    {
      "cell_type": "code",
      "id": "80c4a957-f404-4c8b-91ae-9d052b73b3ac",
      "metadata": {},
      "outputs": [],
      "source": [
        "# check the data type of data frame \"df\" by .dtypes\ndf.dtypes\n#If it doesnt work use, you can use  \"print()\" function\n"
      ]
    },
    {
      "cell_type": "markdown",
      "id": "9341a877-b264-4d8d-b1d3-b33203eb83a2",
      "metadata": {},
      "outputs": [],
      "source": [
        "A series with the data type of each column is returned.\n"
      ]
    },
    {
      "cell_type": "markdown",
      "id": "b83414a1-a067-427f-9c34-556194d8cfdc",
      "metadata": {},
      "outputs": [],
      "source": [
        "<p>\nAs shown above, it is clear to see that the data type of \"open\" and \"high\" is <code>float64</code>, \"ts\" is object <code>object</code>, etc.\n</p>\n<p>\nThese data types can be changed; we will learn how to accomplish this in a later module.\n</p>\n"
      ]
    },
    {
      "cell_type": "markdown",
      "id": "45347b8c-1315-4f32-ab3a-cbb75b3d5752",
      "metadata": {},
      "outputs": [],
      "source": [
        "<h2>Describe</h2>\nIf we would like to get a statistical summary of each column e.g. count, column mean value, column standard deviation, etc., we use the describe method:\n"
      ]
    },
    {
      "cell_type": "raw",
      "id": "431535e1-2748-49b7-b419-013d70988f42",
      "metadata": {},
      "outputs": [],
      "source": [
        "dataframe.describe()"
      ]
    },
    {
      "cell_type": "markdown",
      "id": "c2d26f5a-c877-4e96-ba0c-c54b66b6ca53",
      "metadata": {},
      "outputs": [],
      "source": [
        "This method will provide various summary statistics, excluding <code>NaN</code> (Not a Number) values.\n"
      ]
    },
    {
      "cell_type": "code",
      "id": "1b4f449a-a3b5-48f1-b935-a3d912aaa2cf",
      "metadata": {},
      "outputs": [],
      "source": [
        "df.describe()"
      ]
    },
    {
      "cell_type": "markdown",
      "id": "054658a3-be34-4525-8081-10e1c96fe739",
      "metadata": {},
      "outputs": [],
      "source": [
        "<p>\nThis shows the statistical summary of all numeric-typed (int, float) columns.<br>\n\nFor example, the attribute \"id\" has 67212 counts, the mean value of this column is 33605.5, the standard deviation is 19402.6, the minimum value is 0, 25th percentile is 16802, 50th percentile is 33605, 75th percentile is 50408, and the maximum value is 67211. <br>\n\nHowever, what if we would also like to check all the columns including those that are of type object? <br><br>\n\nYou can add an argument <code>include = \"all\"</code> inside the bracket. Let's try it again.\n\n</p>\n"
      ]
    },
    {
      "cell_type": "code",
      "id": "ec3a9739-79aa-436c-9eed-79597d10bf92",
      "metadata": {},
      "outputs": [],
      "source": [
        "# describe all the columns in \"df\" \ndf.describe(include = \"all\")"
      ]
    },
    {
      "cell_type": "markdown",
      "id": "eb94f77d-6de6-40b9-83c0-e000df09642e",
      "metadata": {},
      "outputs": [],
      "source": [
        "<p>\nNow it provides the statistical summary of all the columns, including object-typed attributes.<br>\n\nWe can now see how many unique values there, which one is the top value and the frequency of top value in the object-typed columns.<br>\n\nSome values in the table above show as \"NaN\". This is because those numbers are not available regarding a particular column type.<br>\n\n</p>\n"
      ]
    },
    {
      "cell_type": "markdown",
      "id": "d5772163-0efe-4f2b-9982-1fe2cd6dad6e",
      "metadata": {},
      "outputs": [],
      "source": [
        "<div class=\"alert alert-danger alertdanger\" style=\"margin-top: 20px\">\n<h1> Question #3: </h1>\n\n<p>\nYou can select the columns of a dataframe by indicating the name of each column. For example, you can select the three columns as follows:\n</p>\n<p>\n    <code>dataframe[[' column 1 ',column 2', 'column 3']]</code>\n</p>\n<p>\nWhere \"column\" is the name of the column, you can apply the method  \".describe()\" to get the statistics of those columns as follows:\n</p>\n<p>\n    <code>dataframe[[' column 1 ',column 2', 'column 3'] ].describe()</code>\n</p>\n\nApply the  method to \".describe()\" to the columns 'length' and 'compression-ratio'.\n\n</div>\n"
      ]
    },
    {
      "cell_type": "code",
      "id": "80f3e242-00e3-4000-8217-0afcc7265edb",
      "metadata": {},
      "outputs": [],
      "source": [
        "# Write your code below and press Shift+Enter to execute \ndf[['Ts', 'Volume']].describe()"
      ]
    },
    {
      "cell_type": "markdown",
      "id": "db016467-d80b-43d4-887d-8d5861aa9223",
      "metadata": {},
      "outputs": [],
      "source": [
        "<details><summary>Click here for the solution</summary>\n\n```python\ndf[['ts', 'volume']].describe()\n```\n\n</details>\n"
      ]
    },
    {
      "cell_type": "markdown",
      "id": "fd10f4bd-eb15-46a8-b410-0490c97581c9",
      "metadata": {},
      "outputs": [],
      "source": [
        "<h2>Info</h2>\nAnother method you can use to check your dataset is:\n"
      ]
    },
    {
      "cell_type": "raw",
      "id": "9b973d7f-9557-4c1c-93c4-1bb2059c20ba",
      "metadata": {},
      "outputs": [],
      "source": [
        "dataframe.info()"
      ]
    },
    {
      "cell_type": "markdown",
      "id": "6a0d4113-ec66-42fe-b786-b1827c21b684",
      "metadata": {},
      "outputs": [],
      "source": [
        "It provides a concise summary of your DataFrame.\n\nThis method prints information about a DataFrame including the index dtype and columns, non-null values and memory usage.\n"
      ]
    },
    {
      "cell_type": "code",
      "id": "869d06f9-e2db-4554-b430-46ebbe0292e7",
      "metadata": {},
      "outputs": [],
      "source": [
        "# look at the info of \"df\"\ndf.info()"
      ]
    },
    {
      "cell_type": "markdown",
      "id": "0e4b1d2a-4251-4ab0-97ee-059546689f51",
      "metadata": {},
      "outputs": [],
      "source": [
        "<h2>Calculating indicators: ATR, OBV, ADV, RSI, AD indicators calculating</h1>\n"
      ]
    },
    {
      "cell_type": "markdown",
      "id": "99b59bab-03f8-4576-9468-cbc2a850bea5",
      "metadata": {},
      "outputs": [],
      "source": [
        "<h3>ATR: Avarage true range</h3>\n<h4>What Is the Average True Range (ATR)?</h4>\nThe average true range (ATR) is a technical analysis indicator introduced by market technician J. Welles Wilder Jr. in his book New Concepts in Technical Trading Systems that measures market volatility by decomposing the entire range of an asset price for that period\n\n1. Calculate $True\\ Range\\ (TR)$:\n$$\nTR = \\textrm{max}[ \\ ( \\ High\\ - Low\\ ),\\ | \\ High\\ - Close_p \\ |,\\ |\\ Low\\ - Close_p \\ | \\ ],\n$$\n<center>where $p$ — previous<center>\n\n2. Calculate $ATR$:\n$$\nATR = \\frac{1}{n} \\sum \\limits _{i=1} ^{n} TR_i,\n$$ \n"
      ]
    },
    {
      "cell_type": "code",
      "id": "a5d564f3-31a1-4e3c-a259-3fe6203273f7",
      "metadata": {},
      "outputs": [],
      "source": [
        "\ndef atr(df, n):\n    # Create a new DataFrame to hold the True Range (TR) values\n    tr = pd.DataFrame()\n\n    # Calculate the three components of the True Range for each period\n    tr['h-l'] = df['High'] - df['Low']  # High - Low\n    tr['h-pc'] = abs(df['High'] - df['Close'].shift())  # absolute value (High - Previous Close)\n    tr['l-pc'] = abs(df['Low'] - df['Close'].shift())  # absolute value (Low - Previous Close)\n    # Take the maximum of the three components for each period to get the True Range (TR)\n    tr['max'] = tr.max(axis=1)\n    # Calculate the rolling mean of the True Range (TR) over n periods to get the Average True Range (ATR)\n    atr = tr['max'].rolling(n).mean()\n    # Return the Average True Range (ATR) as a pandas Series\n    return atr\ndf[\"ATR\"] = atr(df, 14)\ndf.tail()"
      ]
    },
    {
      "cell_type": "markdown",
      "id": "4a82cb7f-bb9d-41b4-920e-da89f3daecac",
      "metadata": {},
      "outputs": [],
      "source": [
        "<h3>OBV: On-balance volume</h3>\n<h4>What Is On-Balance Volume (OBV)?</h4>\nOn-balance volume (OBV) is a technical trading momentum indicator that uses volume flow to predict changes in stock price. Joseph Granville first developed the OBV metric in the 1963 book Granville's New Key to Stock Market Profits."
      ]
    },
    {
      "cell_type": "markdown",
      "id": "1b549272-cb1c-4951-8a5f-a94cf7bfbc7d",
      "metadata": {},
      "outputs": [],
      "source": [
        "\n$$\nOBV = OBVp + \\left\\{\n    \\begin{array}\\\\\n        volume & \\mbox{if } \\  CLOSE > CLOSEp \\\\\n        0 & \\mbox{if } \\   CLOSE = CLOSEp\\\\\n        -volume &\\mbox{if } \\   CLOSE < CLOSEp\\\\\n    \\end{array}\n\\right.\n$$\n\n"
      ]
    },
    {
      "cell_type": "code",
      "id": "67b61b48-cee2-45a9-ab9e-469093522867",
      "metadata": {},
      "outputs": [],
      "source": [
        "# Define a function to calculate OBV values\ndef calculate_obv(data):\n    obv = []  # Initialize the OBV list\n    obv.append(0)  # The first OBV value is always 0\n    for i in range(1, len(data)):\n        # If the current closing price is higher than the previous closing price,\n        # add the current volume to the previous OBV value\n        if data['Close'][i] > data['Close'][i-1]:\n            obv.append(obv[-1] + data['Volume'][i])\n        # If the current closing price is lower than the previous closing price,\n        # subtract the current volume from the previous OBV value\n        elif data['Close'][i] < data['Close'][i-1]:\n            obv.append(obv[-1] - data['Volume'][i])\n        # If the current closing price is equal to the previous closing price,\n        # use the previous OBV value\n        else:\n            obv.append(obv[-1])\n    return obv\n# Calculate the OBV values and add a new column to the DataFrame\ndf['OBV'] = calculate_obv(df)\ndf['OBV'].head()"
      ]
    },
    {
      "cell_type": "markdown",
      "id": "3701ddff-d64d-482b-a6d9-6aa5c8c68624",
      "metadata": {},
      "outputs": [],
      "source": [
        "<h3>ADV:Average Daily Trading Volume</h3>\nAverage daily trading volume (ADTV) is the average number of shares traded within a day in a given stock. Daily volume is how many shares are traded each day, but this can be averaged over a number of days to find the average daily volume. Average daily trading volume is an important metric because high or low trading volume attracts different types of traders and investors. Many traders and investors prefer higher average daily trading volume compared to low trading volume, because with high volume it is easier to get into and out positions. Low volume assets have fewer buyers and sellers, and therefore it may be harder to enter or exit at a desired price.\n\n\n"
      ]
    },
    {
      "cell_type": "code",
      "id": "0391865b-28a4-4ffd-84a3-5ba44949d86b",
      "metadata": {},
      "outputs": [],
      "source": [
        "adv = df[\"Volume\"].mean()\nprint(f\"Avarage Dailu Volume is : {adv}\")"
      ]
    },
    {
      "cell_type": "markdown",
      "id": "62ac3be2-2104-4a6d-83ac-f18fd39c5c3d",
      "metadata": {},
      "outputs": [],
      "source": [
        "<h3>RSI: Relative Strength Index </h3>\n<h4>What Is the Relative Strength Index (RSI)?</h4>\nThe relative strength index (RSI) is a momentum indicator used in technical analysis. RSI measures the speed and magnitude of a security's recent price changes to evaluate overvalued or undervalued conditions in the price of that security."
      ]
    },
    {
      "cell_type": "markdown",
      "id": "c8d51758-11ea-40e3-95a2-684c2ff310ac",
      "metadata": {},
      "outputs": [],
      "source": [
        "\n$$\nRSI_{step \\ one} = 100 - [ \\frac{100}{1 + \\frac{Avg \\ gain}{Avg \\ loss}} ]\n$$\n"
      ]
    },
    {
      "cell_type": "code",
      "id": "70c76d47-c58e-4c42-b5f5-2fedf997cc63",
      "metadata": {},
      "outputs": [],
      "source": [
        "\ndef rsi(df, n=14):\n    # Get the closing price data from the DataFrame\n    close = df['Close']\n    \n    # Calculate the price differences between each day\n    delta = close.diff()\n\n    # Define the up and down days\n    up, down = delta.copy(), delta.copy()\n    up[up < 0] = 0  # If the price difference is negative, set it to 0 (up days)\n    down[down > 0] = 0  # If the price difference is positive, set it to 0 (down days)\n\n    # Calculate the exponential moving averages of the up and down days\n    roll_up = up.ewm(com=n, min_periods=n).mean()\n    roll_down = down.abs().ewm(com=n, min_periods=n).mean()\n\n    # Calculate the Relative Strength Index (RSI)\n    rs = roll_up / roll_down  # Calculate the relative strength\n    rsi = 100.0 - (100.0 / (1.0 + rs))  # Calculate the RSI using the relative strength\n\n    return rsi  # Return the RSI values as a pandas Series\n\ndf['RSI'] = rsi(df)\ndf.tail(10)\n"
      ]
    },
    {
      "cell_type": "markdown",
      "id": "475c70f8-a135-4e13-8977-5c4165dd9790",
      "metadata": {},
      "outputs": [],
      "source": [
        "<h3>AD : Accumulation/Distribution</h3>\nThe accumulation/distribution line was created by Marc Chaikin to determine the flow of money into or out of a security.\n It should not be confused with the advance/decline line. While their initials might be the same, these are entirely different indicators, as are their users. The advance/decline line provides insight into market movements and the accumulation/distribution line is of use to traders seeking to measure buy/sell pressure on a security or confirm the strength of a trend.  "
      ]
    },
    {
      "cell_type": "markdown",
      "id": "a2530a25-8c76-4650-a7da-9bf0005ab0e2",
      "metadata": {},
      "outputs": [],
      "source": [
        "<h4>Calculatig MFM (Money Flow Multiplier)</h4>\n$$\nMFM =  \\frac{(Close - Low) - (High - Close)}{High - Low}\n$$\n<h4>Now use MFM to calculate AD</h4>\n$$\nAD = Prev. AD + MFM\n$$"
      ]
    },
    {
      "cell_type": "code",
      "id": "bdd37b87-ca21-488a-bbaf-09d48620d3aa",
      "metadata": {},
      "outputs": [],
      "source": [
        "#Calculating MFM\ndf['AD'] = ((df['Close'] - df['Low']) - (df['High'] - df['Close'])) / (df['High'] - df['Low']) * df['Volume'] \n#Calculating AD\ndf['AD'] +=  df['AD'].shift(1)\ndf.head(50)"
      ]
    },
    {
      "cell_type": "markdown",
      "id": "b5c831bc-ec79-43ab-a9fb-c9e2a8858886",
      "metadata": {},
      "outputs": [],
      "source": [
        "Let's save obtained DataSet to the file:"
      ]
    },
    {
      "cell_type": "code",
      "id": "42397f86-df2d-41a1-843c-64ff3930b577",
      "metadata": {},
      "outputs": [],
      "source": [
        "df.to_csv(\"Lab1DataSet.csv\", index=False)"
      ]
    },
    {
      "cell_type": "markdown",
      "id": "1d570cf1-96c8-4e35-9451-18e620b0e11d",
      "metadata": {},
      "outputs": [],
      "source": [
        "<h5>Here is more information about indicators <a href = \"https://www.investopedia.com/\">investopedia</a></h5>\n\n\n\n  "
      ]
    },
    {
      "cell_type": "markdown",
      "id": "0ff0740d-c18d-4286-a364-4ea9b40b407f",
      "metadata": {},
      "outputs": [],
      "source": [
        "<h1>Excellent! You have just completed the  Introduction Notebook!</h1>\n"
      ]
    },
    {
      "cell_type": "markdown",
      "id": "de314038-8421-4b57-8c94-2ee538c85e48",
      "metadata": {},
      "outputs": [],
      "source": [
        "# **Thank you for completing this lab!**\n\n## Author\n\n<a href=\"https://author.skills.network/instructors/ostap_liashenyk\" target=\"_blank\" >Ostap Liashenyk</a>\n\n<a href=\"https://author.skills.network/instructors/yaroslav_vyklyuk_2?utm_medium=Exinfluencer&utm_source=Exinfluencer&utm_content=000026UJ&utm_term=10006555&utm_id=NA-SkillsNetwork-Channel-SkillsNetworkGuidedProjectsIBMSkillsNetworkGPXX0QGDEN2306-2023-01-01\">Prof. Yaroslav Vyklyuk, DrSc, PhD</a>\n\n<a href=\"https://author.skills.network/instructors/mariya_fleychuk?utm_medium=Exinfluencer&utm_source=Exinfluencer&utm_content=000026UJ&utm_term=10006555&utm_id=NA-SkillsNetwork-Channel-SkillsNetworkGuidedProjectsIBMSkillsNetworkGPXX0QGDEN2306-2023-01-01\">Prof. Mariya Fleychuk, DrSc, PhD</a>\n\n\n\n\n## Change Log\n\n| Date (YYYY-MM-DD) | Version | Changed By      | Change Description                                         |\n| ----------------- | ------- | ----------------| ---------------------------------------------------------- |\n|     2023-04-01    |   1.0   | Ostap Liashenyk | Creation of the lab                                        |\n\n<hr>\n\n## <h3 align=\"center\"> © IBM Corporation 2023. All rights reserved. </h3>"
      ]
    },
    {
      "cell_type": "code",
      "id": "9a197e61-250c-4e19-b309-e6c132ef459d",
      "metadata": {},
      "outputs": [],
      "source": [
        ""
      ]
    }
  ],
  "metadata": {
    "language_info": {
      "name": ""
    },
    "kernelspec": {
      "name": "",
      "display_name": ""
    }
  },
  "nbformat": 4,
  "nbformat_minor": 4
}