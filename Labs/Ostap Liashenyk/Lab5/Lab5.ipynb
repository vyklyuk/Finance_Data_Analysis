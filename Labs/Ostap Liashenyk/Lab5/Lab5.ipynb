{
  "cells": [
    {
      "cell_type": "markdown",
      "id": "7925bd0b-7876-4d01-9cf6-df6a1e2d612c",
      "metadata": {},
      "outputs": [],
      "source": [
        "<center>\n    <img src=\"https://cf-courses-data.s3.us.cloud-object-storage.appdomain.cloud/assets/logos/SN_web_lightmode.png\" width=\"300\" alt=\"cognitiveclass.ai logo\"  />\n</center>\n\n# Investigation of cryptocurrency exchange rate dynamic (Matic/USD), сalculation and analysis of technical financial indicators, characterizing the cryptocurrency market (ATR, OBV, RSI, AD)\n\n# Lab 5. Model Evaluation and Refinement\n\nEstimated time needed: **30** minutes\n\n## Objectives\n\nAfter completing this lab you will be able to:\n\n*   Evaluate and refine prediction models\n"
      ]
    },
    {
      "cell_type": "markdown",
      "id": "d6896ac3-630f-468e-9be5-869f8fb61a82",
      "metadata": {},
      "outputs": [],
      "source": [
        "<h2>Table of Contents</h2>\n<ul>\n    <li><a href=\"https://#ref1\">Model Evaluation </a></li>\n    <li><a href=\"https://#ref2\">Over-fitting, Under-fitting and Model Selection </a></li>\n    <li><a href=\"https://#ref3\">Ridge Regression </a></li>\n    <li><a href=\"https://#ref4\">Grid Search</a></li>\n</ul>\n"
      ]
    },
    {
      "cell_type": "markdown",
      "id": "36861155-e46f-4fbc-9323-593d21e955c1",
      "metadata": {},
      "outputs": [],
      "source": [
        "<h4>Setup</h4>\n"
      ]
    },
    {
      "cell_type": "markdown",
      "id": "778259cb-e22b-4c50-ac17-7f509cc59167",
      "metadata": {},
      "outputs": [],
      "source": [
        "If you are running the lab in your  browser, so we will install the libraries using `piplite`\n"
      ]
    },
    {
      "cell_type": "markdown",
      "id": "af25491b-5b8b-4823-9a54-c7169ce63e65",
      "metadata": {},
      "outputs": [],
      "source": [
        "If you run the lab locally using Anaconda, you can load the correct library and versions by uncommenting the following:\n"
      ]
    },
    {
      "cell_type": "code",
      "id": "de3b0d74-dce8-4871-a176-6a2a6289eea9",
      "metadata": {},
      "outputs": [],
      "source": [
        "#install specific version of libraries used in lab\n! mamba install pandas==1.3.3 -y\n! mamba install numpy=1.21.2 -y\n! mamba install ipywidgets=7.4.2 -y\n! mamba install tqdm -y\n! conda install -c conda-forge scikit-learn -y "
      ]
    },
    {
      "cell_type": "code",
      "id": "da6bb84c-3e19-4dd9-9e91-c7b8b6121d0b",
      "metadata": {},
      "outputs": [],
      "source": [
        "import pandas as pd\nimport numpy as np\nimport matplotlib.pyplot as plt\nimport seaborn as sns\nimport scipy\nimport ipywidgets\nimport tqdm\nfrom ipywidgets import interact, interactive, fixed, interact_manual\nfrom sklearn.model_selection import train_test_split\nfrom sklearn.linear_model import LinearRegression\nfrom sklearn.model_selection import cross_val_score\nfrom sklearn.model_selection import cross_val_predict\nfrom sklearn.preprocessing import PolynomialFeatures\nfrom sklearn.linear_model import Ridge\nfrom tqdm import tqdm\nfrom sklearn.model_selection import GridSearchCV\nimport warnings\n\nwarnings.filterwarnings(\"ignore\")\n%matplotlib inline\n#set precision \npd.set_option(\"display.precision\", 2)\n#set precision for float\npd.options.display.float_format = '{:.2f}'.format"
      ]
    },
    {
      "cell_type": "markdown",
      "id": "2a825b81-ec38-47fe-a7b6-6ab834dc8d53",
      "metadata": {},
      "outputs": [],
      "source": [
        "This dataset was hosted on IBM Cloud object. Click <a href=\"https://cocl.us/DA101EN_object_storage?utm_medium=Exinfluencer&utm_source=Exinfluencer&utm_content=000026UJ&utm_term=10006555&utm_id=NA-SkillsNetwork-Channel-SkillsNetworkCoursesIBMDeveloperSkillsNetworkDA0101ENSkillsNetwork20235326-2021-01-01\">HERE</a> for free storage.\n"
      ]
    },
    {
      "cell_type": "code",
      "id": "519a5ad6-c807-4760-b8c6-118d7a2e9adb",
      "metadata": {},
      "outputs": [],
      "source": [
        "filename = 'https://cf-courses-data.s3.us.cloud-object-storage.appdomain.cloud/IBMSkillsNetwork-GPXX0MQLEN/DataSet_final.csv'\ndf = pd.read_csv(filename,low_memory=False, index_col=0)\ndf.index = pd.to_datetime(df.index)\ndf"
      ]
    },
    {
      "cell_type": "markdown",
      "id": "26687345-a5ce-487a-8ada-7d1377bc1e00",
      "metadata": {},
      "outputs": [],
      "source": [
        "First, let's only use numeric data:\n"
      ]
    },
    {
      "cell_type": "code",
      "id": "c730df2a-3c54-4ff9-8127-a86b2a6e912d",
      "metadata": {},
      "outputs": [],
      "source": [
        "df=df._get_numeric_data()\ndf.head()"
      ]
    },
    {
      "cell_type": "markdown",
      "id": "a5e06d2d-e216-4ff4-bfc4-547d107c489b",
      "metadata": {},
      "outputs": [],
      "source": [
        "<h2>Functions for Plotting</h2>\n"
      ]
    },
    {
      "cell_type": "code",
      "id": "d39d07cb-e243-477d-92e7-269389053daa",
      "metadata": {},
      "outputs": [],
      "source": [
        "def DistributionPlot(RedFunction, BlueFunction, RedName, BlueName, Title):\n    width = 12\n    height = 10\n    plt.figure(figsize=(width, height))\n\n    ax1 = sns.distplot(RedFunction, hist=False, color=\"r\", label=RedName)\n    ax2 = sns.distplot(BlueFunction, hist=False, color=\"b\", label=BlueName, ax=ax1)\n\n    plt.title(Title)\n    plt.xlabel('Rate')\n    plt.ylabel('Volume')\n\n    plt.show()\n    plt.close()"
      ]
    },
    {
      "cell_type": "code",
      "id": "7c141e1c-8da3-44df-a5b7-9b1c6c7655d5",
      "metadata": {},
      "outputs": [],
      "source": [
        "def PollyPlot(xtrain, xtest, y_train, y_test, lr,poly_transform):\n    width = 12\n    height = 10\n    plt.figure(figsize=(width, height))\n    \n    \n    #training data \n    #testing data \n    # lr:  linear regression object \n    #poly_transform:  polynomial transformation object \n \n    xmax=max([xtrain.values.max(), xtest.values.max()])\n\n    xmin=min([xtrain.values.min(), xtest.values.min()])\n\n    x=np.arange(xmin, xmax, 0.1)\n\n\n    plt.plot(xtrain, y_train, 'ro', label='Training Data')\n    plt.plot(xtest, y_test, 'go', label='Test Data')\n    plt.plot(x, lr.predict(poly_transform.fit_transform(x.reshape(-1, 1))), label='Predicted Function')\n    plt.ylabel('Volume')\n    plt.legend()"
      ]
    },
    {
      "cell_type": "markdown",
      "id": "56d5c5e5-3212-460b-9f04-e06935501bce",
      "metadata": {},
      "outputs": [],
      "source": [
        "<h2 id=\"ref1\">Part 1: Training and Testing</h2>\n\n<p>An important step in testing your model is to split your data into training and testing data. We will place the target data Volume in a separate dataframe <b>y_data</b>:</p>\n"
      ]
    },
    {
      "cell_type": "code",
      "id": "10ae3d31-8ee1-46f3-b224-9d0c8fb99873",
      "metadata": {},
      "outputs": [],
      "source": [
        "y_data = df['Volume']"
      ]
    },
    {
      "cell_type": "markdown",
      "id": "7cf0f2ea-cdd2-4c5f-a3de-9f577d00e3e9",
      "metadata": {},
      "outputs": [],
      "source": [
        "Drop Volume data in dataframe **x_data**:\n"
      ]
    },
    {
      "cell_type": "code",
      "id": "dfd9496a-f13d-46e6-b15d-d0f30c4769de",
      "metadata": {},
      "outputs": [],
      "source": [
        "x_data=df.drop('Volume',axis=1)"
      ]
    },
    {
      "cell_type": "markdown",
      "id": "2d37c37c-4690-4309-bfe5-277793418968",
      "metadata": {},
      "outputs": [],
      "source": [
        "Now, we split our data into training and testing data using the function <b>train_test_split</b>.\n"
      ]
    },
    {
      "cell_type": "code",
      "id": "e491945a-530b-426a-b617-88caa62eb01a",
      "metadata": {},
      "outputs": [],
      "source": [
        "x_train, x_test, y_train, y_test = train_test_split(x_data, y_data, test_size=0.10, shuffle = False)\n\n\nprint(\"number of test samples :\", x_test.shape[0])\nprint(\"number of training samples:\",x_train.shape[0])\n"
      ]
    },
    {
      "cell_type": "markdown",
      "id": "929e2742-fdd5-4cd1-9b83-e69053bf0d24",
      "metadata": {},
      "outputs": [],
      "source": [
        "The <b>test_size</b> parameter sets the proportion of data that is split into the testing set. In the above, the testing set is 10% of the total dataset.\n"
      ]
    },
    {
      "cell_type": "markdown",
      "id": "cdb1f828-c0fe-4bbc-a53f-a35077042f9e",
      "metadata": {},
      "outputs": [],
      "source": [
        "<div class=\"alert alert-danger alertdanger\" style=\"margin-top: 20px\">\n<h1> Question  #1):</h1>\n\n<b>Use the function \"train_test_split\" to split up the dataset such that 40% of the data samples will be utilized for testing. Set the parameter \"SHUFFLE\" equal to False. The output of the function should be the following:  \"x_train1\" , \"x_test1\", \"y_train1\" and  \"y_test1\".</b>\n\n</div>\n"
      ]
    },
    {
      "cell_type": "code",
      "id": "af0bce40-3448-46d7-9cbe-d9f4bcd4e1df",
      "metadata": {},
      "outputs": [],
      "source": [
        "# Write your code below and press Shift+Enter to execute \n"
      ]
    },
    {
      "cell_type": "markdown",
      "id": "a50382c9-af68-4d4a-a3b3-fb0df3519634",
      "metadata": {},
      "outputs": [],
      "source": [
        "<details><summary>Click here for the solution</summary>\n\n```python\nx_train1, x_test1, y_train1, y_test1 = train_test_split(x_data, y_data, test_size=0.4, shuffle=False) \nprint(\"number of test samples :\", x_test1.shape[0])\nprint(\"number of training samples:\",x_train1.shape[0])\n```\n\n</details>\n"
      ]
    },
    {
      "cell_type": "markdown",
      "id": "47112575-987e-4ec1-930f-900a527e9149",
      "metadata": {},
      "outputs": [],
      "source": [
        "We create a Linear Regression object:\n"
      ]
    },
    {
      "cell_type": "code",
      "id": "befb1b19-b509-4307-9ec7-84833875ae69",
      "metadata": {},
      "outputs": [],
      "source": [
        "lre=LinearRegression()"
      ]
    },
    {
      "cell_type": "markdown",
      "id": "a5015551-52ba-4855-aede-496911ea88b2",
      "metadata": {},
      "outputs": [],
      "source": [
        "We fit the model using the feature \"Rec_count\":\n"
      ]
    },
    {
      "cell_type": "code",
      "id": "7c1188b3-8f5e-47ac-91a3-78d7501d623e",
      "metadata": {},
      "outputs": [],
      "source": [
        "lre.fit(x_train[['Rec_count']], y_train)"
      ]
    },
    {
      "cell_type": "markdown",
      "id": "29c2a9b8-17c9-42af-93ea-452e1897ae49",
      "metadata": {},
      "outputs": [],
      "source": [
        "Let's calculate the R^2 on the test data:\n"
      ]
    },
    {
      "cell_type": "code",
      "id": "b6a90d3b-4320-4aad-a921-91d7a4af582a",
      "metadata": {},
      "outputs": [],
      "source": [
        "lre.score(x_test[['Rec_count']], y_test)"
      ]
    },
    {
      "cell_type": "markdown",
      "id": "cc6586c5-8041-4da2-b132-34133180f2d3",
      "metadata": {},
      "outputs": [],
      "source": [
        "We can see the R^2 is much smaller using the test data compared to the training data.\n"
      ]
    },
    {
      "cell_type": "code",
      "id": "e52fa862-4db1-4850-afa4-c98ad9fc68ef",
      "metadata": {},
      "outputs": [],
      "source": [
        "lre.score(x_train[['Rec_count']], y_train)"
      ]
    },
    {
      "cell_type": "markdown",
      "id": "b9f9324f-d115-4a84-8626-f9d8ba742043",
      "metadata": {},
      "outputs": [],
      "source": [
        "<div class=\"alert alert-danger alertdanger\" style=\"margin-top: 20px\">\n<h1> Question  #2): </h1>\n<b> \nFind the R^2  on the test data using 40% of the dataset for testing.\n</b>\n</div>\n"
      ]
    },
    {
      "cell_type": "code",
      "id": "1e2987c7-3f55-482a-a449-db7abd25ded2",
      "metadata": {},
      "outputs": [],
      "source": [
        "# Write your code below and press Shift+Enter to execute \n"
      ]
    },
    {
      "cell_type": "markdown",
      "id": "323d4ef3-f831-4a51-a62c-509d68d74c4a",
      "metadata": {},
      "outputs": [],
      "source": [
        "<details><summary>Click here for the solution</summary>\n\n```python\nx_train1, x_test1, y_train1, y_test1 = train_test_split(x_data, y_data, test_size=0.4, shuffle=False) \nlre.fit(x_train1[['Rec_count']],y_train1)\nlre.score(x_test1[['Rec_count']],y_test1)\n```\n\n</details>\n"
      ]
    },
    {
      "cell_type": "markdown",
      "id": "50af0341-32a3-40a0-8a48-58c9daa3b67e",
      "metadata": {},
      "outputs": [],
      "source": [
        "Sometimes you do not have sufficient testing data; as a result, you may want to perform cross-validation. Let's go over several methods that you can use for cross-validation.\n"
      ]
    },
    {
      "cell_type": "markdown",
      "id": "57071710-300b-4a2e-93b9-38ecb881d643",
      "metadata": {},
      "outputs": [],
      "source": [
        "<h2>Cross-Validation Score</h2>\n"
      ]
    },
    {
      "cell_type": "markdown",
      "id": "230a06ff-928d-4c19-94cd-8dddcc688fbb",
      "metadata": {},
      "outputs": [],
      "source": [
        "We input the object, the feature (\"Rec_count\"), and the target data (y_data). The parameter 'cv' determines the number of folds. In this case, it is 4.\n"
      ]
    },
    {
      "cell_type": "code",
      "id": "3f4a1b92-86d5-40d7-b50f-a7408a8d6372",
      "metadata": {},
      "outputs": [],
      "source": [
        "Rcross = cross_val_score(lre, x_data[['Rec_count']], y_data, cv=4)"
      ]
    },
    {
      "cell_type": "markdown",
      "id": "ef7eb08d-9a59-4a7f-a25b-1e0cb4069a0a",
      "metadata": {},
      "outputs": [],
      "source": [
        "The default scoring is R^2. Each element in the array has the average R^2 value for the fold:\n"
      ]
    },
    {
      "cell_type": "code",
      "id": "c37a15e9-b3a3-419d-8f65-ec50f0d3c2b3",
      "metadata": {},
      "outputs": [],
      "source": [
        "Rcross"
      ]
    },
    {
      "cell_type": "markdown",
      "id": "a02daa2c-276b-40da-a3c8-6c92dc56f4cf",
      "metadata": {},
      "outputs": [],
      "source": [
        "We can calculate the average and standard deviation of our estimate:\n"
      ]
    },
    {
      "cell_type": "code",
      "id": "1def8ca8-1f47-4db1-b46e-d1edc3888499",
      "metadata": {},
      "outputs": [],
      "source": [
        "print(\"The mean of the folds are\", Rcross.mean(), \"and the standard deviation is\" , Rcross.std())"
      ]
    },
    {
      "cell_type": "markdown",
      "id": "67f6ae7a-44db-4999-9ee4-c250249a9cba",
      "metadata": {},
      "outputs": [],
      "source": [
        "We can use negative squared error as a score by setting the parameter  'scoring' metric to 'neg_mean_squared_error'.\n"
      ]
    },
    {
      "cell_type": "code",
      "id": "de4efb02-770e-41b3-8743-b51d41eaed11",
      "metadata": {},
      "outputs": [],
      "source": [
        "-1 * cross_val_score(lre,x_data[['Rec_count']], y_data,cv=4,scoring='neg_mean_squared_error')"
      ]
    },
    {
      "cell_type": "markdown",
      "id": "9774ed4c-344c-4f31-b37c-3ff486c1603a",
      "metadata": {},
      "outputs": [],
      "source": [
        "<div class=\"alert alert-danger alertdanger\" style=\"margin-top: 20px\">\n<h1> Question  #3): </h1>\n<b> \nCalculate the average R^2 using two folds, then find the average R^2 for the second fold utilizing the \"Rec_count\" feature: \n</b>\n</div>\n"
      ]
    },
    {
      "cell_type": "code",
      "id": "1036a1dd-0659-4d77-8b05-2619f917ef79",
      "metadata": {},
      "outputs": [],
      "source": [
        "# Write your code below and press Shift+Enter to execute \n"
      ]
    },
    {
      "cell_type": "markdown",
      "id": "bb524096-9ed9-4235-9c6b-f06abf15521d",
      "metadata": {},
      "outputs": [],
      "source": [
        "<details><summary>Click here for the solution</summary>\n\n```python\nRc=cross_val_score(lre,x_data[['Rec_count']], y_data,cv=2)\nRc.mean()\n\n```\n\n</details>\n"
      ]
    },
    {
      "cell_type": "markdown",
      "id": "413b2b07-0af1-49c0-868b-f7b4203055bc",
      "metadata": {},
      "outputs": [],
      "source": [
        "You can also use the function 'cross_val_predict' to predict the output. The function splits up the data into the specified number of folds, with one fold for testing and the other folds are used for training.\n"
      ]
    },
    {
      "cell_type": "markdown",
      "id": "24cee1c7-65f1-4fdd-8792-bf6cac7e4139",
      "metadata": {},
      "outputs": [],
      "source": [
        "We input the object, the feature <b>\"Rec_count\"</b>, and the target data <b>y_data</b>. The parameter 'cv' determines the number of folds. In this case, it is 4. We can produce an output:\n"
      ]
    },
    {
      "cell_type": "code",
      "id": "1e170958-3f99-4794-98ee-84084b6bf291",
      "metadata": {},
      "outputs": [],
      "source": [
        "yhat = cross_val_predict(lre,x_data[['Rec_count']], y_data,cv=4)\nyhat[0:5]"
      ]
    },
    {
      "cell_type": "markdown",
      "id": "2d3f1b6f-083c-4151-a7df-f09411db3cd5",
      "metadata": {},
      "outputs": [],
      "source": [
        "<h2 id=\"ref2\">Part 2: Overfitting, Underfitting and Model Selection</h2>\n\n<p>It turns out that the test data, sometimes referred to as the \"out of sample data\", is a much better measure of how well your model performs in the real world.  One reason for this is overfitting.\n\nLet's go over some examples. It turns out these differences are more apparent in Multiple Linear Regression and Polynomial Regression so we will explore overfitting in that context.</p>\n"
      ]
    },
    {
      "cell_type": "markdown",
      "id": "c3de3584-e0ba-4b32-8018-1d911b407003",
      "metadata": {},
      "outputs": [],
      "source": [
        "Let's create Multiple Linear Regression objects and train the model using <b>'Rec_count'</b>, <b>'ATR'</b>, <b>'BNB_price'</b> and <b>'BTC_price'</b> as features.\n"
      ]
    },
    {
      "cell_type": "code",
      "id": "fb4b04fc-0216-4ab0-847b-bcdd8cd7a213",
      "metadata": {},
      "outputs": [],
      "source": [
        "lr = LinearRegression()\nlr.fit(x_train[['ATR', 'BNB_price', 'Rec_count', 'BTC_price']], y_train)"
      ]
    },
    {
      "cell_type": "markdown",
      "id": "76411d5f-d883-4f4b-9338-dd80e1f06e26",
      "metadata": {},
      "outputs": [],
      "source": [
        "Prediction using training data:\n"
      ]
    },
    {
      "cell_type": "code",
      "id": "b16c4bf8-e1ff-42f4-b8e5-af98a0788b0d",
      "metadata": {},
      "outputs": [],
      "source": [
        "yhat_train = lr.predict(x_train[['ATR', 'BNB_price', 'Rec_count', 'BTC_price']])\nyhat_train[0:5]"
      ]
    },
    {
      "cell_type": "markdown",
      "id": "ed637da5-a6cc-4947-88ee-2ae237c708e7",
      "metadata": {},
      "outputs": [],
      "source": [
        "Prediction using test data:\n"
      ]
    },
    {
      "cell_type": "code",
      "id": "ac9c413b-ad55-4b3e-b02f-df5456d1a1c1",
      "metadata": {},
      "outputs": [],
      "source": [
        "yhat_test = lr.predict(x_test[['ATR', 'BNB_price', 'Rec_count', 'BTC_price']])\nyhat_test[0:5]"
      ]
    },
    {
      "cell_type": "markdown",
      "id": "7ce26875-9000-487b-a869-d0c61bd1fb62",
      "metadata": {},
      "outputs": [],
      "source": [
        "Let's perform some model evaluation using our training and testing data separately.\n"
      ]
    },
    {
      "cell_type": "markdown",
      "id": "a24b3f8c-57b7-42cb-b56a-f785e211b7ea",
      "metadata": {},
      "outputs": [],
      "source": [
        "Let's examine the distribution of the predicted values of the training data.\n"
      ]
    },
    {
      "cell_type": "code",
      "id": "dd4bd17e-2edc-45f2-a873-d56aeb7a6620",
      "metadata": {},
      "outputs": [],
      "source": [
        "Title = 'Distribution  Plot of  Predicted Value Using Training Data vs Training Data Distribution'\nDistributionPlot(y_train, yhat_train, \"Actual Values (Train)\", \"Predicted Values (Train)\", Title)"
      ]
    },
    {
      "cell_type": "markdown",
      "id": "f88173c1-ce3c-4650-872e-d3bce224bdfc",
      "metadata": {},
      "outputs": [],
      "source": [
        "Figure 1: Plot of predicted values using the training data compared to the actual values of the training data.\n"
      ]
    },
    {
      "cell_type": "markdown",
      "id": "b27aefbb-ebbe-43f6-baa7-b047203419a2",
      "metadata": {},
      "outputs": [],
      "source": [
        "So far, the model seems to be doing well in learning from the training dataset. But what happens when the model encounters new data from the testing dataset? When the model generates new values from the test data, we see the distribution of the predicted values is much different from the actual target values.\n"
      ]
    },
    {
      "cell_type": "code",
      "id": "1fa5f116-90c9-415c-8ae5-8dac9ca1ab73",
      "metadata": {},
      "outputs": [],
      "source": [
        "Title='Distribution  Plot of  Predicted Value Using Test Data vs Data Distribution of Test Data'\nDistributionPlot(y_test,yhat_test,\"Actual Values (Test)\",\"Predicted Values (Test)\",Title)"
      ]
    },
    {
      "cell_type": "markdown",
      "id": "e71e9f40-0fa4-49df-af13-1d2d091c8148",
      "metadata": {},
      "outputs": [],
      "source": [
        "Figure 2: Plot of predicted value using the test data compared to the actual values of the test data.\n"
      ]
    },
    {
      "cell_type": "markdown",
      "id": "5919e175-b82b-40b3-b85e-8c200cfa8e8b",
      "metadata": {},
      "outputs": [],
      "source": [
        "<p>Comparing Figure 1 and Figure 2, it is evident that the distribution of the test data in Figure 1 is much better at fitting the data. This difference in Figure 2 is apparent in the range of 5000 to 15,000. This is where the shape of the distribution is extremely different. Let's see if polynomial regression also exhibits a drop in the prediction accuracy when analysing the test dataset.</p>\n"
      ]
    },
    {
      "cell_type": "markdown",
      "id": "bea69fbf-98e1-49e7-a2e9-f6610b17e6e5",
      "metadata": {},
      "outputs": [],
      "source": [
        "<h4>Overfitting</h4>\n<p>Overfitting occurs when the model fits the noise, but not the underlying process. Therefore, when testing your model using the test set, your model does not perform as well since it is modelling noise, not the underlying process that generated the relationship. Let's create a degree 5 polynomial model.</p>\n"
      ]
    },
    {
      "cell_type": "markdown",
      "id": "9fc4e9d6-4fff-4d8a-9a69-476616a2ce65",
      "metadata": {},
      "outputs": [],
      "source": [
        "Let's use 55 percent of the data for training and the rest for testing:\n"
      ]
    },
    {
      "cell_type": "code",
      "id": "ef4a14fd-ce78-40d0-ab70-cc91f4a12666",
      "metadata": {},
      "outputs": [],
      "source": [
        "x_train, x_test, y_train, y_test = train_test_split(x_data, y_data, test_size=0.45, shuffle = False)"
      ]
    },
    {
      "cell_type": "markdown",
      "id": "a581e438-2303-4804-b370-2f92ac28b5ab",
      "metadata": {},
      "outputs": [],
      "source": [
        "We will perform a degree 5 polynomial transformation on the feature <b>'Rec_count'</b>.\n"
      ]
    },
    {
      "cell_type": "code",
      "id": "9daf445f-2493-47f1-834c-62746654ee1d",
      "metadata": {},
      "outputs": [],
      "source": [
        "pr = PolynomialFeatures(degree=5)\nx_train_pr = pr.fit_transform(x_train[['Rec_count']])\nx_test_pr = pr.fit_transform(x_test[['Rec_count']])\npr"
      ]
    },
    {
      "cell_type": "markdown",
      "id": "c506b9bf-c14c-4264-a03d-b9a01a464c0d",
      "metadata": {},
      "outputs": [],
      "source": [
        "Now, let's create a Linear Regression model \"poly\" and train it.\n"
      ]
    },
    {
      "cell_type": "code",
      "id": "43628129-199d-4753-aeb2-5315eff11786",
      "metadata": {},
      "outputs": [],
      "source": [
        "poly = LinearRegression()\npoly.fit(x_train_pr, y_train)"
      ]
    },
    {
      "cell_type": "markdown",
      "id": "5f137628-360b-4bca-917c-646630de05b0",
      "metadata": {},
      "outputs": [],
      "source": [
        "We can see the output of our model using the method \"predict.\" We assign the values to \"yhat\".\n"
      ]
    },
    {
      "cell_type": "code",
      "id": "ab2ad399-0ee7-4850-ba93-0028f8056d49",
      "metadata": {},
      "outputs": [],
      "source": [
        "yhat = poly.predict(x_test_pr)\nyhat[0:5]"
      ]
    },
    {
      "cell_type": "markdown",
      "id": "f0cb8743-9592-4912-a236-7ffb3dff32f5",
      "metadata": {},
      "outputs": [],
      "source": [
        "Let's take the first five predicted values and compare it to the actual targets.\n"
      ]
    },
    {
      "cell_type": "code",
      "id": "70a9d1ec-684a-4035-bd73-12d794436fba",
      "metadata": {},
      "outputs": [],
      "source": [
        "print(\"Predicted values:\", yhat[0:4])\nprint(\"True values:\", y_test[0:4].values)"
      ]
    },
    {
      "cell_type": "markdown",
      "id": "8ed5e6ff-afcb-4282-9129-2f0421102133",
      "metadata": {},
      "outputs": [],
      "source": [
        "We will use the function \"PollyPlot\" that we defined at the beginning of the lab to display the training data, testing data, and the predicted function.\n"
      ]
    },
    {
      "cell_type": "code",
      "id": "83e77463-8cb8-4e81-b8dc-b9049591c168",
      "metadata": {},
      "outputs": [],
      "source": [
        "PollyPlot(x_train[['Rec_count']], x_test[['Rec_count']], y_train, y_test, poly,pr)"
      ]
    },
    {
      "cell_type": "markdown",
      "id": "9eb0c4f8-8423-415d-a920-8047b676f0e2",
      "metadata": {},
      "outputs": [],
      "source": [
        "Figure 3: A polynomial regression model where red dots represent training data, green dots represent test data, and the blue line represents the model prediction.\n"
      ]
    },
    {
      "cell_type": "markdown",
      "id": "c3f686e4-eb16-4161-afe7-05f20ecf5a36",
      "metadata": {},
      "outputs": [],
      "source": [
        "We see that the estimated function appears to track the data but around 200 Rec_count, the function begins to diverge from the data points.\n"
      ]
    },
    {
      "cell_type": "markdown",
      "id": "79857e26-e7e5-47f7-a830-1074cd6a8f07",
      "metadata": {},
      "outputs": [],
      "source": [
        "R^2 of the training data:\n"
      ]
    },
    {
      "cell_type": "code",
      "id": "054ccb68-ca58-4ad4-900e-57e2a76352f7",
      "metadata": {},
      "outputs": [],
      "source": [
        "poly.score(x_train_pr, y_train)"
      ]
    },
    {
      "cell_type": "markdown",
      "id": "79e2b4b7-f042-47ac-b4ba-e2e12a25c890",
      "metadata": {},
      "outputs": [],
      "source": [
        "R^2 of the test data:\n"
      ]
    },
    {
      "cell_type": "code",
      "id": "1139ce0d-15f3-4b12-a1a0-7fc54dee87c4",
      "metadata": {},
      "outputs": [],
      "source": [
        "poly.score(x_test_pr, y_test)"
      ]
    },
    {
      "cell_type": "markdown",
      "id": "7ec80895-8e28-4209-a664-cda124e36f60",
      "metadata": {},
      "outputs": [],
      "source": [
        "Let's see how the R^2 changes on the test data for different order polynomials and then plot the results:\n"
      ]
    },
    {
      "cell_type": "code",
      "id": "b2b2297b-57bd-4777-b70b-bb539f74e26d",
      "metadata": {},
      "outputs": [],
      "source": [
        "Rsqu_test = []\n\norder = [1, 2, 3, 4]\nfor n in order:\n    pr = PolynomialFeatures(degree=n)\n    x_train_pr = pr.fit_transform(x_train[['Rec_count']])\n    x_test_pr = pr.fit_transform(x_test[['Rec_count']])\n    lr.fit(x_train_pr, y_train)\n    Rsqu_test.append(lr.score(x_test_pr, y_test))\n\nplt.plot(order, Rsqu_test)\nplt.xlabel('order')\nplt.ylabel('$R^2$')\nplt.title('$R^2$ Using Test Data')"
      ]
    },
    {
      "cell_type": "markdown",
      "id": "0146852c-a839-466c-a7a9-6fc9af3001f5",
      "metadata": {},
      "outputs": [],
      "source": [
        "We see the R^2 gradually increases until an order three polynomial is used. Then, the R^2 dramatically decreases at an order four polynomial.\n"
      ]
    },
    {
      "cell_type": "markdown",
      "id": "8a21119c-0a21-4f8c-aaa1-12f1bf5ea726",
      "metadata": {},
      "outputs": [],
      "source": [
        "The following function will be used in the next section. Please run the cell below.\n"
      ]
    },
    {
      "cell_type": "code",
      "id": "74db6bf1-6e70-4531-8b29-cfd9be3d4350",
      "metadata": {},
      "outputs": [],
      "source": [
        "def f(order, test_data):\n    x_train, x_test, y_train, y_test = train_test_split(x_data, y_data, test_size=test_data, shuffle = False)\n    pr = PolynomialFeatures(degree=order)\n    x_train_pr = pr.fit_transform(x_train[['Rec_count']])\n    x_test_pr = pr.fit_transform(x_test[['Rec_count']])\n    poly = LinearRegression()\n    poly.fit(x_train_pr,y_train)\n    PollyPlot(x_train[['Rec_count']], x_test[['Rec_count']], y_train,y_test, poly, pr)\n    plt.show()"
      ]
    },
    {
      "cell_type": "markdown",
      "id": "a439750d-5a8b-4a6d-80e3-ad9fa5f6e1d4",
      "metadata": {},
      "outputs": [],
      "source": [
        "The following interface allows you to experiment with different polynomial orders and different amounts of data.\n"
      ]
    },
    {
      "cell_type": "code",
      "id": "2ca5c949-f56c-468a-afad-c6d17d067fb6",
      "metadata": {},
      "outputs": [],
      "source": [
        "interact(f, order=(0, 6, 1), test_data=(0.05, 0.95, 0.05), indicator=\"Rec_count\")"
      ]
    },
    {
      "cell_type": "markdown",
      "id": "dd111a3c-d97a-4daf-92f2-a4a5475c7ecf",
      "metadata": {},
      "outputs": [],
      "source": [
        "<div class=\"alert alert-danger alertdanger\" style=\"margin-top: 20px\">\n<h1> Question  #4a):</h1>\n\n<b>We can perform polynomial transformations with more than one feature. Create a \"PolynomialFeatures\" object \"pr1\" of degree two.</b>\n\n</div>\n"
      ]
    },
    {
      "cell_type": "code",
      "id": "30329381-8c16-4dc9-99bf-fb94c74d429e",
      "metadata": {},
      "outputs": [],
      "source": [
        "# Write your code below and press Shift+Enter to execute \n"
      ]
    },
    {
      "cell_type": "markdown",
      "id": "754dcd5d-243a-440d-8a8e-9ab07bfb1130",
      "metadata": {},
      "outputs": [],
      "source": [
        "<details><summary>Click here for the solution</summary>\n\n```python\npr1=PolynomialFeatures(degree=2)\n\n```\n\n</details>\n"
      ]
    },
    {
      "cell_type": "markdown",
      "id": "06550d56-bcef-427e-959a-36c413ba6e1e",
      "metadata": {},
      "outputs": [],
      "source": [
        "<div class=\"alert alert-danger alertdanger\" style=\"margin-top: 20px\">\n<h1> Question  #4b): </h1>\n\n<b> \n Transform the training and testing samples for the features 'ATR', 'BNB_price', 'Rec_count', 'BTC_price'. Hint: use the method \"fit_transform\".</b>\n</div>\n"
      ]
    },
    {
      "cell_type": "code",
      "id": "748f23a3-27e5-4d6a-ae83-e9b512d2466c",
      "metadata": {},
      "outputs": [],
      "source": [
        "# Write your code below and press Shift+Enter to execute "
      ]
    },
    {
      "cell_type": "markdown",
      "id": "604f8230-a04a-4b84-afdb-6d7845e37162",
      "metadata": {},
      "outputs": [],
      "source": [
        "<details><summary>Click here for the solution</summary>\n\n```python\nx_train_pr1=pr1.fit_transform(x_train[['ATR', 'BNB_price', 'Rec_count', 'BTC_price']])\n\nx_test_pr1=pr1.fit_transform(x_test[['ATR', 'BNB_price', 'Rec_count', 'BTC_price']])\n\n\n```\n\n</details>\n"
      ]
    },
    {
      "cell_type": "markdown",
      "id": "d71d466f-965c-4e74-9c09-bcb0da025a3c",
      "metadata": {},
      "outputs": [],
      "source": [
        "<!-- The answer is below:\n\nx_train_pr1=pr.fit_transform(x_train[['horsepower', 'curb-weight', 'engine-size', 'highway-mpg']])\nx_test_pr1=pr.fit_transform(x_test[['horsepower', 'curb-weight', 'engine-size', 'highway-mpg']])\n\n-->\n"
      ]
    },
    {
      "cell_type": "markdown",
      "id": "89fb1d8c-f1d0-4fbd-b4b3-9368a77c7935",
      "metadata": {},
      "outputs": [],
      "source": [
        "<div class=\"alert alert-danger alertdanger\" style=\"margin-top: 20px\">\n<h1> Question  #4c): </h1>\n<b> \nHow many dimensions does the new feature have? Hint: use the attribute \"shape\".\n</b>\n</div>\n"
      ]
    },
    {
      "cell_type": "code",
      "id": "6c33316b-78e9-40f1-bf0d-5d28ebcdb250",
      "metadata": {},
      "outputs": [],
      "source": [
        "# Write your code below and press Shift+Enter to execute \n"
      ]
    },
    {
      "cell_type": "markdown",
      "id": "672d2177-28ee-4011-a51c-1349164dcb06",
      "metadata": {},
      "outputs": [],
      "source": [
        "<details><summary>Click here for the solution</summary>\n\n```python\nx_train_pr1.shape #there are now 15 features\n\n\n```\n\n</details>\n"
      ]
    },
    {
      "cell_type": "markdown",
      "id": "dde548eb-7926-4d54-b66d-035f04049c6a",
      "metadata": {},
      "outputs": [],
      "source": [
        "<div class=\"alert alert-danger alertdanger\" style=\"margin-top: 20px\">\n<h1> Question  #4d): </h1>\n\n<b> \nCreate a linear regression model \"poly1\". Train the object using the method \"fit\" using the polynomial features.</b>\n</div>\n"
      ]
    },
    {
      "cell_type": "code",
      "id": "37495a22-c6ae-416a-be4f-2b4c620aaa9b",
      "metadata": {},
      "outputs": [],
      "source": [
        "# Write your code below and press Shift+Enter to execute \n"
      ]
    },
    {
      "cell_type": "markdown",
      "id": "43a93711-4934-4681-95d5-98ec167d9bea",
      "metadata": {},
      "outputs": [],
      "source": [
        "<details><summary>Click here for the solution</summary>\n\n```python\npoly1=LinearRegression().fit(x_train_pr1,y_train)\n\n```\n\n</details>\n"
      ]
    },
    {
      "cell_type": "markdown",
      "id": "1ed6f6d5-6ec6-4d95-9425-7dc6442f0053",
      "metadata": {},
      "outputs": [],
      "source": [
        " <div class=\"alert alert-danger alertdanger\" style=\"margin-top: 20px\">\n<h1> Question  #4e): </h1>\n<b>Use the method  \"predict\" to predict an output on the polynomial features, then use the function \"DistributionPlot\" to display the distribution of the predicted test output vs. the actual test data.</b>\n</div>\n"
      ]
    },
    {
      "cell_type": "code",
      "id": "facb3d53-428e-4cf5-833c-1a9bc8a80a99",
      "metadata": {},
      "outputs": [],
      "source": [
        "# Write your code below and press Shift+Enter to execute "
      ]
    },
    {
      "cell_type": "markdown",
      "id": "9024419a-256d-415b-8e88-a776a89c1e7c",
      "metadata": {},
      "outputs": [],
      "source": [
        "<details><summary>Click here for the solution</summary>\n\n```python\nyhat_test1=poly1.predict(x_test_pr1)\n\nTitle='Distribution  Plot of  Predicted Value Using Test Data vs Data Distribution of Test Data'\n\nDistributionPlot(y_test, yhat_test1, \"Actual Values (Test)\", \"Predicted Values (Test)\", Title)\n\n```\n\n</details>\n"
      ]
    },
    {
      "cell_type": "markdown",
      "id": "4317b677-454d-4115-b3b7-0032c7459a07",
      "metadata": {},
      "outputs": [],
      "source": [
        "<div class=\"alert alert-danger alertdanger\" style=\"margin-top: 20px\">\n<h1> Question  #4f): </h1>\n\n<b>Using the distribution plot above, describe (in words) the two regions where the predicted prices are less accurate than the actual prices.</b>\n\n</div>\n"
      ]
    },
    {
      "cell_type": "code",
      "id": "c2ff5434-1ae8-410b-be35-6be4b783a20c",
      "metadata": {},
      "outputs": [],
      "source": [
        "# Write your code below and press Shift+Enter to execute \n"
      ]
    },
    {
      "cell_type": "markdown",
      "id": "a6cf0b21-43c8-40b1-8695-5fef5385d869",
      "metadata": {},
      "outputs": [],
      "source": [
        "<details><summary>Click here for the solution</summary>\n\n```python\n#The predicted value is higher than actual value for cars where the price $10,000 range, conversely the predicted price is lower than the price cost in the $30,000 to $40,000 range. As such the model is not as accurate in these ranges.\n\n```\n\n</details>\n"
      ]
    },
    {
      "cell_type": "markdown",
      "id": "d985496f-eb81-49c5-a4ab-c7b1486c4d48",
      "metadata": {},
      "outputs": [],
      "source": [
        "<h2 id=\"ref3\">Part 3: Ridge Regression</h2> \n"
      ]
    },
    {
      "cell_type": "markdown",
      "id": "45b6dc23-b961-44d9-830b-bbd484b2ac22",
      "metadata": {},
      "outputs": [],
      "source": [
        "In this section, we will review Ridge Regression and see how the parameter alpha changes the model. Just a note, here our test data will be used as validation data.\n"
      ]
    },
    {
      "cell_type": "markdown",
      "id": "4c478435-cf0a-4532-b51e-a8940b5742bd",
      "metadata": {},
      "outputs": [],
      "source": [
        "Let's perform a degree two polynomial transformation on our data.\n"
      ]
    },
    {
      "cell_type": "code",
      "id": "11890474-f1d8-4885-a195-386bf002eb00",
      "metadata": {},
      "outputs": [],
      "source": [
        "pr=PolynomialFeatures(degree=2)\nx_train_pr=pr.fit_transform(x_train[['ATR', 'BNB_price', 'Rec_count', 'BTC_price']])\nx_test_pr=pr.fit_transform(x_test[['ATR', 'BNB_price', 'Rec_count', 'BTC_price']])"
      ]
    },
    {
      "cell_type": "markdown",
      "id": "3036971a-86c7-4c96-81fb-4c50c38e40eb",
      "metadata": {},
      "outputs": [],
      "source": [
        "Let's create a Ridge regression object, setting the regularization parameter (alpha) to 0.1\n"
      ]
    },
    {
      "cell_type": "code",
      "id": "bf811c5f-404b-4904-8d80-9870b7386593",
      "metadata": {},
      "outputs": [],
      "source": [
        "RigeModel=Ridge(alpha=1)"
      ]
    },
    {
      "cell_type": "markdown",
      "id": "29565c4d-79ab-4f1e-a2b0-6623471fb284",
      "metadata": {},
      "outputs": [],
      "source": [
        "Like regular regression, you can fit the model using the method <b>fit</b>.\n"
      ]
    },
    {
      "cell_type": "code",
      "id": "d5970fcf-8a40-4801-8c4d-5ce16bc9e983",
      "metadata": {},
      "outputs": [],
      "source": [
        "RigeModel.fit(x_train_pr, y_train)"
      ]
    },
    {
      "cell_type": "markdown",
      "id": "9421eea8-41cd-4625-8eb4-aab5d3143ede",
      "metadata": {},
      "outputs": [],
      "source": [
        "Similarly, you can obtain a prediction:\n"
      ]
    },
    {
      "cell_type": "code",
      "id": "834cde21-0ddb-4040-8275-383f6a260aad",
      "metadata": {},
      "outputs": [],
      "source": [
        "yhat = RigeModel.predict(x_test_pr)"
      ]
    },
    {
      "cell_type": "markdown",
      "id": "8294134c-9fae-4e52-b196-a9b40cea32f0",
      "metadata": {},
      "outputs": [],
      "source": [
        "Let's compare the first five predicted samples to our test set:\n"
      ]
    },
    {
      "cell_type": "code",
      "id": "dcb5a861-8b6c-4021-8b28-4a8b4d888034",
      "metadata": {},
      "outputs": [],
      "source": [
        "print('predicted:', yhat[0:4])\nprint('test set :', y_test[0:4].values)"
      ]
    },
    {
      "cell_type": "markdown",
      "id": "48e5878a-9989-434c-bf04-3253130b38df",
      "metadata": {},
      "outputs": [],
      "source": [
        "We select the value of alpha that minimizes the test error. To do so, we can use a for loop. We have also created a progress bar to see how many iterations we have completed so far.\n"
      ]
    },
    {
      "cell_type": "code",
      "id": "8e13ad7d-f7c5-46d7-944f-bee2d348b2d4",
      "metadata": {},
      "outputs": [],
      "source": [
        "Rsqu_test = []\nRsqu_train = []\ndummy1 = []\nAlpha = 10 * np.array(range(0,1000))\npbar = tqdm(Alpha)\n\nfor alpha in pbar:\n    RigeModel = Ridge(alpha=alpha) \n    RigeModel.fit(x_train_pr, y_train)\n    test_score, train_score = RigeModel.score(x_test_pr, y_test), RigeModel.score(x_train_pr, y_train)\n    \n    pbar.set_postfix({\"Test Score\": test_score, \"Train Score\": train_score})\n\n    Rsqu_test.append(test_score)\n    Rsqu_train.append(train_score)"
      ]
    },
    {
      "cell_type": "markdown",
      "id": "efd3beda-58b3-4569-a1fa-f1619c23271f",
      "metadata": {},
      "outputs": [],
      "source": [
        "We can plot out the value of R^2 for different alphas:\n"
      ]
    },
    {
      "cell_type": "code",
      "id": "6b73da79-39c6-4b22-aa41-940d526f1e06",
      "metadata": {},
      "outputs": [],
      "source": [
        "width = 12\nheight = 10\nplt.figure(figsize=(width, height))\n\nplt.plot(Alpha,Rsqu_test, label='validation data  ')\nplt.plot(Alpha,Rsqu_train, 'r', label='training Data ')\nplt.xlabel('alpha')\nplt.ylabel('R^2')\nplt.legend()"
      ]
    },
    {
      "cell_type": "markdown",
      "id": "f8aba943-01a8-4938-b6fe-be84d2f95a30",
      "metadata": {},
      "outputs": [],
      "source": [
        "**Figure 4**: The blue line represents the R^2 of the validation data, and the red line represents the R^2 of the training data. The x-axis represents the different values of Alpha.\n"
      ]
    },
    {
      "cell_type": "markdown",
      "id": "7165b9ba-2481-4b0f-80cd-4ea52551b391",
      "metadata": {},
      "outputs": [],
      "source": [
        "Here the model is built and tested on the same data, so the training and test data are the same.\n\nThe red line in Figure 4 represents the R^2 of the training data. As alpha increases the R^2 decreases. Therefore, as alpha increases, the model performs worse on the training data\n\nThe blue line represents the R^2 on the validation data. As the value for alpha increases, the R^2 increases and converges at a point.\n"
      ]
    },
    {
      "cell_type": "markdown",
      "id": "b8355a42-6214-4486-84f5-cba4b47c9ddf",
      "metadata": {},
      "outputs": [],
      "source": [
        "<div class=\"alert alert-danger alertdanger\" style=\"margin-top: 20px\">\n<h1> Question  #5): </h1>\n\nPerform Ridge regression. Calculate the R^2 using the polynomial features, use the training data to train the model and use the test data to test the model. The parameter alpha should be set to 10.\n\n</div>\n"
      ]
    },
    {
      "cell_type": "code",
      "id": "7b7e32d6-032e-48fd-9cfa-560c0dc0c988",
      "metadata": {},
      "outputs": [],
      "source": [
        "a = pd.DataFrame(Rsqu_test, columns= [\"Rsqu_test\"], index = Alpha)\nalpha_best = a.Rsqu_test.idxmax()"
      ]
    },
    {
      "cell_type": "code",
      "id": "fd4db93b-28ed-4d11-82d1-af7e34f2b608",
      "metadata": {},
      "outputs": [],
      "source": [
        "# Write your code below and press Shift+Enter to execute \nRigeModel = Ridge(alpha=alpha_best) \nRigeModel.fit(x_train_pr, y_train)\nRigeModel.score(x_test_pr, y_test)"
      ]
    },
    {
      "cell_type": "markdown",
      "id": "8fa4695f-11f3-4ab4-b34c-1771f10fa67e",
      "metadata": {},
      "outputs": [],
      "source": [
        "<details><summary>Click here for the solution</summary>\n\n```python\nRigeModel = Ridge(alpha=10) \nRigeModel.fit(x_train_pr, y_train)\nRigeModel.score(x_test_pr, y_test)\n\n```\n\n</details>\n"
      ]
    },
    {
      "cell_type": "markdown",
      "id": "c7baefb8-96a2-42eb-8b0d-7daf6576a731",
      "metadata": {},
      "outputs": [],
      "source": [
        "<h2 id=\"ref4\">Part 4: Grid Search</h2>\n"
      ]
    },
    {
      "cell_type": "markdown",
      "id": "b4c21314-0a13-473e-a343-ac59b7ef4685",
      "metadata": {},
      "outputs": [],
      "source": [
        "The term alpha is a hyperparameter. Sklearn has the class <b>GridSearchCV</b> to make the process of finding the best hyperparameter simpler.\n"
      ]
    },
    {
      "cell_type": "markdown",
      "id": "dc6909fa-91ee-4890-ae8c-1a98657bff6e",
      "metadata": {},
      "outputs": [],
      "source": [
        "We create a dictionary of parameter values:\n"
      ]
    },
    {
      "cell_type": "code",
      "id": "377813c3-76d0-4bf1-a77e-5abf45293067",
      "metadata": {},
      "outputs": [],
      "source": [
        "parameters1= [{'alpha': [0.001,0.1,1, 10, 100, 1000, 10000, 100000, 100000]}]\nparameters1"
      ]
    },
    {
      "cell_type": "markdown",
      "id": "4a4d3452-f8b5-427f-8fd7-bfd1cacaab46",
      "metadata": {},
      "outputs": [],
      "source": [
        "Create a Ridge regression object:\n"
      ]
    },
    {
      "cell_type": "code",
      "id": "3deeea7d-e135-47a0-99b3-7b9b5074db8e",
      "metadata": {},
      "outputs": [],
      "source": [
        "RR=Ridge()\nRR"
      ]
    },
    {
      "cell_type": "markdown",
      "id": "fa7ef073-22ca-4d91-a0b9-33367451765a",
      "metadata": {},
      "outputs": [],
      "source": [
        "Create a ridge grid search object:\n"
      ]
    },
    {
      "cell_type": "code",
      "id": "6511d20e-ccf6-4289-b68c-00d0fd636dae",
      "metadata": {},
      "outputs": [],
      "source": [
        "Grid1 = GridSearchCV(RR, parameters1,cv=4)"
      ]
    },
    {
      "cell_type": "markdown",
      "id": "3001d0e8-d6d7-4366-8e11-fd8da9fd7977",
      "metadata": {},
      "outputs": [],
      "source": [
        "Fit the model:\n"
      ]
    },
    {
      "cell_type": "code",
      "id": "bc72c74a-4b01-43cb-8b0c-a80900c06d53",
      "metadata": {},
      "outputs": [],
      "source": [
        "Grid1.fit(x_data[['ATR', 'BNB_price', 'Rec_count', 'BTC_price']], y_data)"
      ]
    },
    {
      "cell_type": "markdown",
      "id": "692c7602-6dee-4c5f-bb5f-3ea602441961",
      "metadata": {},
      "outputs": [],
      "source": [
        "The object finds the best parameter values on the validation data. We can obtain the estimator with the best parameters and assign it to the variable BestRR as follows:\n"
      ]
    },
    {
      "cell_type": "code",
      "id": "771845d3-cd7e-4410-9e0b-667597db13dc",
      "metadata": {},
      "outputs": [],
      "source": [
        "BestRR=Grid1.best_estimator_\nBestRR"
      ]
    },
    {
      "cell_type": "markdown",
      "id": "0e1e3bf3-df26-461c-99f8-b0c0e82c6463",
      "metadata": {},
      "outputs": [],
      "source": [
        "We now test our model on the test data:\n"
      ]
    },
    {
      "cell_type": "code",
      "id": "ac97721f-4696-46c7-977c-b91e959ae8a2",
      "metadata": {},
      "outputs": [],
      "source": [
        "BestRR.score(x_test[['ATR', 'BNB_price', 'Rec_count', 'BTC_price']], y_test)"
      ]
    },
    {
      "cell_type": "markdown",
      "id": "506b58e0-9272-48ec-a1d3-c8d3e5f36df9",
      "metadata": {},
      "outputs": [],
      "source": [
        "# **Thank you for completing this lab!**\n\n## Author\n\n<a href=\"https://author.skills.network/instructors/ostap_liashenyk\" target=\"_blank\" >Ostap Liashenyk</a>\n\n<a href=\"https://author.skills.network/instructors/yaroslav_vyklyuk_2?utm_medium=Exinfluencer&utm_source=Exinfluencer&utm_content=000026UJ&utm_term=10006555&utm_id=NA-SkillsNetwork-Channel-SkillsNetworkGuidedProjectsIBMSkillsNetworkGPXX0QGDEN2306-2023-01-01\">Prof. Yaroslav Vyklyuk, DrSc, PhD</a>\n\n<a href=\"https://author.skills.network/instructors/mariya_fleychuk?utm_medium=Exinfluencer&utm_source=Exinfluencer&utm_content=000026UJ&utm_term=10006555&utm_id=NA-SkillsNetwork-Channel-SkillsNetworkGuidedProjectsIBMSkillsNetworkGPXX0QGDEN2306-2023-01-01\">Prof. Mariya Fleychuk, DrSc, PhD</a>\n\n\n\n## Change Log\n\n| Date (YYYY-MM-DD) | Version | Changed By      | Change Description                                         |\n| ----------------- | ------- | ----------------| ---------------------------------------------------------- |\n|     2023-04-01    |   1.0   | Ostap Liashenyk | Creation of the lab                                        |\n\n<hr>\n\n## <h3 align=\"center\"> © IBM Corporation 2023. All rights reserved. </h3>\n\n"
      ]
    },
    {
      "cell_type": "code",
      "id": "e4665efa-bcc2-40b9-9198-cbd3c2c4bf98",
      "metadata": {},
      "outputs": [],
      "source": [
        ""
      ]
    }
  ],
  "metadata": {
    "language_info": {
      "name": ""
    },
    "kernelspec": {
      "name": "",
      "display_name": ""
    }
  },
  "nbformat": 4,
  "nbformat_minor": 4
}