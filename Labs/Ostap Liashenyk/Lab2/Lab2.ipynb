{
  "cells": [
    {
      "cell_type": "markdown",
      "id": "ae22c82c-88c8-48c4-a96c-eff8199c0725",
      "metadata": {},
      "outputs": [],
      "source": [
        "<center>\n    <img src=\"https://cf-courses-data.s3.us.cloud-object-storage.appdomain.cloud/assets/logos/SN_web_lightmode.png\" width=\"300\" alt=\"cognitiveclass.ai logo\"  />\n</center>\n\n# Investigation of cryptocurrency exchange rate dynamic (Matic/USD), сalculation and analysis of technical financial indicators, characterizing the cryptocurrency market (ATR, OBV, RSI, AD)\n\n\n# Lab.2. Dataset wrangling (Matic/USD)\n\nEstimated time needed: **30** minutes\n\n## Objectives\n\nAfter completing this lab you will be able to:\n\n*   Handle missing values\n*   Correct data format\n*   Standardize and normalize data\n\n### **Columns**\n\n* #### `Ts` - the timestamp of the record\n* #### `Open` -  the price of the asset at the beginning of the trading period\n* #### `High` -  the highest price of the asset during the trading period\n* #### `Low` - the lowest price of the asset during the trading period.\n* #### `Close` - the price of the asset at the end of the trading period\n* #### `Volume` - the total number of shares or contracts of a particular asset that are traded during a given period\n* #### `Rec_count` -  the number of individual trades or transactions that have been executed during a given time period\n* #### `Avg_price` - the average price at which a particular asset has been bought or sold during a given period\n* #### `ATR` - average true range indicator\n* #### `OBV` - on-balance volume indicator\n* #### `RSI` - relative strength index indicator\n* #### `AD` - accumulation / distribution indicator\n* #### `BTC_price` - the avarage price from BTC/BUSD dataset \n* #### `BNB_price` - the avarage price from BNB/BUSD dataset\n* ##### Additional columns:  'Open_EUR', 'BTC_price_EUR', 'high_EUR', 'High_Normalized', 'Low_Normalized','close_low', 'close_medium', 'close_high', 'rec_count-binned','rec_count_low', 'rec_count_medium', 'rec_count_high'"
      ]
    },
    {
      "cell_type": "markdown",
      "id": "c7a33aac-3394-4aa2-a81e-850dc193f528",
      "metadata": {},
      "outputs": [],
      "source": [
        "## Table of Contents\n\n<div class=\"alert alert-block alert-info\" style=\"margin-top: 20px\">\n<ul>\n    <li><a href=\"https://#identify_handle_missing_values\">Identify and handle missing values</a>\n        <ul>\n            <li><a href=\"https://#identify_missing_values\">Identify missing values</a></li>\n            <li><a href=\"https://#deal_missing_values\">Deal with missing values</a></li>\n            <li><a href=\"https://#correct_data_format\">Correct data format</a></li>\n        </ul>\n    </li>\n    <li><a href=\"https://#data_standardization\">Data standardization</a></li>\n    <li><a href=\"https://#data_normalization\">Data normalization (centering/scaling)</a></li>\n    <li><a href=\"https://#binning\">Binning</a></li>\n    <li><a href=\"https://#indicator\">Indicator variable</a></li>\n</ul>\n\n</div>\n\n<hr>\n"
      ]
    },
    {
      "cell_type": "markdown",
      "id": "4bbc9807-2b19-44f7-aae4-82025ab383f2",
      "metadata": {},
      "outputs": [],
      "source": [
        "## What is the purpose of data wrangling?\n"
      ]
    },
    {
      "cell_type": "markdown",
      "id": "0745a889-8d13-48f1-b41e-7f3a6edb250d",
      "metadata": {},
      "outputs": [],
      "source": [
        "Data wrangling is the process of converting data from the initial format to a format that may be better for analysis.\n"
      ]
    },
    {
      "cell_type": "markdown",
      "id": "90ef1066-9ece-4b31-8dcd-9e7cf056d2c1",
      "metadata": {},
      "outputs": [],
      "source": [
        "### What is the price of BTC converted to USDT ?\n"
      ]
    },
    {
      "cell_type": "markdown",
      "id": "259dc617-8cf0-4a31-beba-6062d86acc2c",
      "metadata": {},
      "outputs": [],
      "source": [
        "### Import data\n<p>\n<li>Data source: <a href=\"https://cf-courses-data.s3.us.cloud-object-storage.appdomain.cloud/IBMSkillsNetwork-GPXX0Z9BEN/Lab1DataSet.csv\" target=\"_blank\">https://cf-courses-data.s3.us.cloud-object-storage.appdomain.cloud/IBMSkillsNetwork-GPXX0Z9BEN/Lab1DataSet.csv</a></li> \nWe will be using this dataset throughout this course.\nIn this lab, we'll need to use a dataset that we created in the Lab 1. Investigation of cryptocurrency exchange rate dynamic (BTC/USD), сalculation and analysis of technical financial indicators, characterizing the cryptocurrency market (ATR, OBV, RSI, AD).\n</p>\n"
      ]
    },
    {
      "cell_type": "markdown",
      "id": "fecf8daf-c312-45d0-b66a-1bc3556573a0",
      "metadata": {},
      "outputs": [],
      "source": [
        "#### Import pandas\n"
      ]
    },
    {
      "cell_type": "markdown",
      "id": "95f9859f-7ed0-4ef0-bd34-8788decec081",
      "metadata": {},
      "outputs": [],
      "source": [
        "If you run the lab locally using Anaconda, you can load the correct library and versions by uncommenting the following:\n"
      ]
    },
    {
      "cell_type": "code",
      "id": "a843334b-0f3b-4b03-8bca-2c9503a890d4",
      "metadata": {},
      "outputs": [],
      "source": [
        "#If you run the lab locally using Anaconda, you can load the correct library and versions by uncommenting the following:\n#install specific version of libraries used in lab\n#! mamba install pandas==1.3.3\n#! mamba install numpy=1.21.2\n! conda install scikit-learn -y "
      ]
    },
    {
      "cell_type": "code",
      "id": "3c3f2e19-1f62-4620-ad3f-bc80d833e930",
      "metadata": {},
      "outputs": [],
      "source": [
        "import pandas as pd\nimport matplotlib.pylab as plt\nfrom matplotlib import pyplot\nimport numpy as np\nimport pandas as pd \nimport numpy as np \nfrom sklearn.metrics import mean_squared_error, mean_absolute_percentage_error \nimport requests\n%matplotlib inline\n\n\n#set precision \npd.set_option(\"display.precision\", 2)\n#set precision for float\npd.options.display.float_format = '{:.2f}'.format\n\n"
      ]
    },
    {
      "cell_type": "markdown",
      "id": "1634edd6-db54-460c-88d0-957db7d5c64d",
      "metadata": {},
      "outputs": [],
      "source": [
        "## Reading the dataset from the URL and adding the related headers\n"
      ]
    },
    {
      "cell_type": "markdown",
      "id": "49886be1-6ef1-4371-ba6c-24915935cbe6",
      "metadata": {},
      "outputs": [],
      "source": [
        "First, we assign the URL of the dataset to \"filename\".\n"
      ]
    },
    {
      "cell_type": "markdown",
      "id": "4afc599e-d823-425c-8184-31350739260a",
      "metadata": {},
      "outputs": [],
      "source": [
        "This dataset was hosted on IBM Cloud object. Click <a href=\"https://cocl.us/corsera_da0101en_notebook_bottom?utm_medium=Exinfluencer&utm_source=Exinfluencer&utm_content=000026UJ&utm_term=10006555&utm_id=NA-SkillsNetwork-Channel-SkillsNetworkCoursesIBMDeveloperSkillsNetworkDA0101ENSkillsNetwork20235326-2021-01-01\">HERE</a> for free storage.\n"
      ]
    },
    {
      "cell_type": "code",
      "id": "44455010-8bf8-4dad-827f-03535b0ea1d7",
      "metadata": {},
      "outputs": [],
      "source": [
        "##Now you need to use dataset, you made in he first lab \nfilename = \"https://cf-courses-data.s3.us.cloud-object-storage.appdomain.cloud/IBMSkillsNetwork-GPXX0Z9BEN/Lab1DataSet.csv\""
      ]
    },
    {
      "cell_type": "markdown",
      "id": "bc46249a-2050-4608-90cc-97e58dfe2a0a",
      "metadata": {},
      "outputs": [],
      "source": [
        "Then, we create a Python list <b>headers</b> containing name of headers.\n"
      ]
    },
    {
      "cell_type": "markdown",
      "id": "a725df92-2c08-4e8d-a7be-d5d7fce707fa",
      "metadata": {},
      "outputs": [],
      "source": [
        "Use the Pandas method <b>read_csv()</b> to load the data from the web address.\n"
      ]
    },
    {
      "cell_type": "code",
      "id": "8f1057ef-1229-423a-aafa-163aad5517eb",
      "metadata": {},
      "outputs": [],
      "source": [
        "df = pd.read_csv(filename,low_memory=False, index_col=0)\n#create another data frame, to use in future\nspoiled_df = pd.read_csv(filename,low_memory=False, index_col=0)\ndf = df.reset_index()\nspoiled_df = spoiled_df.reset_index()\ndf.head()"
      ]
    },
    {
      "cell_type": "markdown",
      "id": "16b42a98-1d87-4f77-acea-84afda5e5692",
      "metadata": {},
      "outputs": [],
      "source": [
        "Use the method <b>head()</b> to display the first five rows of the dataframe.\n"
      ]
    },
    {
      "cell_type": "markdown",
      "id": "cb33da5e-1b31-4677-a41b-3191b26fbc42",
      "metadata": {},
      "outputs": [],
      "source": [
        "#### Make some values wrong\n\nOften dataset is damaged, so lets damage our dataframe to learn how to renew data"
      ]
    },
    {
      "cell_type": "code",
      "id": "f7884ef2-c8b1-4985-afa9-cc63c682b13a",
      "metadata": {},
      "outputs": [],
      "source": [
        "#Columns to hurt\ncols = ['Open', 'Rec_count', 'Close']\n#We hurt columns one by one\nfor col in cols:\n        #Get random value in range [0,1]\n        m = np.random.rand(len(df))\n        #Set coefficients.\n        l1 = 0.05 # NaN\n        l2 = 0.03 # Text\n        l3 = 0.04 # Negative\n        \n        mask1 = m < l1 # NaN\n        mask2 = (m >= l1) & (m < l1+l2) # Text\n        mask3 = (m >= l1+l2) & (m < l1+l2+l3) # Negative\n        \n        #Change data\n        spoiled_df.loc[mask1, col] = np.NaN\n        spoiled_df.loc[mask2, col] = \"?\"\n        spoiled_df.loc[mask3, col] = spoiled_df.loc[mask3, col]\n"
      ]
    },
    {
      "cell_type": "code",
      "id": "24c04817-d47d-42ca-81dc-dcfc9853924e",
      "metadata": {},
      "outputs": [],
      "source": [
        "# To see what the data set looks like, we'll use the head() method.\nspoiled_df.head(50)"
      ]
    },
    {
      "cell_type": "markdown",
      "id": "d0bcc3d5-3041-4f3f-a0bd-ee47254fcd6f",
      "metadata": {},
      "outputs": [],
      "source": [
        "As we can see, several question marks appeared in the dataframe; those are missing values which may hinder our further analysis.\n\n<div>So, how do we identify all those missing values and deal with them?</div> \n\n<b>How to work with missing data?</b>\n\nSteps for working with missing data:\n\n<ol>\n    <li>Identify missing data</li>\n    <li>Deal with missing data</li>\n    <li>Correct data format</li>\n</ol>\n"
      ]
    },
    {
      "cell_type": "markdown",
      "id": "9260e809-3e35-4166-84b0-cf3cb8722765",
      "metadata": {},
      "outputs": [],
      "source": [
        "## Identify and handle missing values\n### Identify missing values\n#### Convert \"?\" to NaN\nIn the our dataset, missing data comes with the question mark \"?\", negative values and NaN(Not a Number).\nWe replace \"?\" and negative values by NaN, Python's default missing value marker for reasons of computational speed and convenience. Here we use the function: \n <pre>.replace(A, B, inplace = True) </pre>\nto replace A by B.\n"
      ]
    },
    {
      "cell_type": "code",
      "id": "9d9974a2-e2b3-4e9d-87a9-bdc467fb3aa5",
      "metadata": {},
      "outputs": [],
      "source": [
        "# replace \"?\" with NaN\nspoiled_df.replace(\"?\", np.nan, inplace = True)\n\n# replace negative values with NaN\nnum = df._get_numeric_data()\nnum[num < 0] = np.nan\n\n#Lets see our result\nspoiled_df.head(50)"
      ]
    },
    {
      "cell_type": "markdown",
      "id": "ef275be6-e450-4b67-8bf2-1f4d9706227a",
      "metadata": {},
      "outputs": [],
      "source": [
        "#### Evaluating for Missing Data\n\nThe missing values are converted by default. We use the following functions to identify these missing values. There are two methods to detect missing data:\n\n<ol>\n    <li><b>.isnull()</b></li>\n    <li><b>.notnull()</b></li>\n</ol>\nThe output is a boolean value indicating whether the value that is passed into the argument is in fact missing data.\n"
      ]
    },
    {
      "cell_type": "code",
      "id": "73a4d05f-9fde-4ca6-b050-324f64371a1f",
      "metadata": {},
      "outputs": [],
      "source": [
        "missing_data = spoiled_df.isnull()\nmissing_data.head(5)"
      ]
    },
    {
      "cell_type": "markdown",
      "id": "4e203256-f7ec-4e88-8d53-615fabfcebc8",
      "metadata": {},
      "outputs": [],
      "source": [
        "\"True\" means the value is a missing value while \"False\" means the value is not a missing value.\n"
      ]
    },
    {
      "cell_type": "markdown",
      "id": "245a428f-2168-4ee6-b7ea-295e831ed080",
      "metadata": {},
      "outputs": [],
      "source": [
        "#### Count missing values in each column\n<p>\nUsing a for loop in Python, we can quickly figure out the number of missing values in each column. As mentioned above, \"True\" represents a missing value and \"False\" means the value is present in the dataset.  In the body of the for loop the method \".value_counts()\" counts the number of \"True\" values. \n</p>\n"
      ]
    },
    {
      "cell_type": "code",
      "id": "4bd4cfd3-63c5-45be-a7a7-3f5dc31d9806",
      "metadata": {},
      "outputs": [],
      "source": [
        "for column in missing_data.columns.values.tolist():\n    print(column)\n    print (missing_data[column].value_counts())\n    print(\"\")    "
      ]
    },
    {
      "cell_type": "markdown",
      "id": "715ea8c5-c12d-459a-b7f9-09d5a96798ef",
      "metadata": {},
      "outputs": [],
      "source": [
        "Based on the summary above, each column has 67212 rows of data and seven of the columns containing missing data:\n\n<ol>\n    <li>\"open\": ~5 400 missing data</li>\n    <li>\"close\": ~5 400 missing data</li>\n    <li>\"rec_count\": ~5 400 missing data</li>\n</ol>\n"
      ]
    },
    {
      "cell_type": "markdown",
      "id": "1ad700e4-9bd9-442a-80d7-ecf6e0c62f31",
      "metadata": {},
      "outputs": [],
      "source": [
        "### Deal with missing data\n<b>How to deal with missing data?</b>\n\n<ol>\n    <li>Drop data<br>\n        a. Drop the whole row<br>\n        b. Drop the whole column\n    </li>\n    <li>Replace data<br>\n        a. Replace it by mean<br>\n        b. Replace it by frequency<br>\n        c. Replace it based on other functions\n    </li>\n</ol>\n"
      ]
    },
    {
      "cell_type": "markdown",
      "id": "4beefd0e-7cb4-49bb-90d2-fdc5565cb4ec",
      "metadata": {},
      "outputs": [],
      "source": [
        "Whole columns should be dropped only if most entries in the column are empty. In our dataset, none of the columns are empty enough to drop entirely.\nWe have some freedom in choosing which method to replace data; however, some methods may seem more reasonable than others. We will apply each method to many different columns:\n\n<b>Replace by mean:</b>\n\n<ul>\n    <li>\"rec_count\": ~5 400 missing data</li>\n</ul>\n\n<b>Replace by interpolation:</b>\n\n<ul>\n    <li>\"open\": ~5 400 missing data</li>\n    <li>\"close\": ~5 400 missing data</li>\n</ul>\n\n"
      ]
    },
    {
      "cell_type": "markdown",
      "id": "6eb40c80-66b1-4690-9ab8-cd2c01c851d0",
      "metadata": {},
      "outputs": [],
      "source": [
        "#### Calculate the mean value for the \"normalized-losses\" column \n"
      ]
    },
    {
      "cell_type": "code",
      "id": "e33a8f2b-3cad-4d66-9dc1-25e3b29deb2d",
      "metadata": {},
      "outputs": [],
      "source": [
        "avg_norm_loss = spoiled_df[\"Rec_count\"].astype(\"float\").mean(axis=0)\nprint(\"Average of normalized-losses:\", avg_norm_loss)"
      ]
    },
    {
      "cell_type": "markdown",
      "id": "a8de7cb3-8545-4868-a13e-9547b926b1fd",
      "metadata": {},
      "outputs": [],
      "source": [
        "<h4>Replace \"NaN\" with mean value in \"normalized-losses\" column</h4>\n"
      ]
    },
    {
      "cell_type": "code",
      "id": "c1559704-dcb7-4b3b-a671-e22bd1960988",
      "metadata": {},
      "outputs": [],
      "source": [
        "spoiled_df[\"Rec_count\"].replace(np.nan, avg_norm_loss, inplace=True)\nspoiled_df.head(10)\n"
      ]
    },
    {
      "cell_type": "markdown",
      "id": "e4644d87-5aab-4d28-8b79-3a5730d75e02",
      "metadata": {},
      "outputs": [],
      "source": [
        "#### Fill all NaN in the \"open\" column by interpolating\n\n<b>Pay attention!</b> To replace missing values in a dataset using interpolation, it is necessary to ensure that there are no missing values at the beginning or end of the dataset. One way to do this is shown below\n"
      ]
    },
    {
      "cell_type": "code",
      "id": "46ce0eda-caef-4ca5-82bb-728c8f26e642",
      "metadata": {},
      "outputs": [],
      "source": [
        "# check for NaN values at the beginning of the dataset\nwhile spoiled_df.iloc[0].isna().any():\n    spoiled_df = spoiled_df.drop(spoiled_df.index[0])\n\n# check for NaN values at the end of the dataset\nwhile spoiled_df.iloc[-1].isna().any():\n    spoiled_df = spoiled_df.drop(spoiled_df.index[-1])\n\n\n#Do same with own dataframe to check values by their indexes\nwhile df.iloc[0].isna().any():\n    df = df.drop(df.index[0])\n\nwhile df.iloc[-1].isna().any():\n    df = df.drop(df.index[-1])\n\n    \nspoiled_df = spoiled_df.reset_index(drop=True)\ndf = df.reset_index(drop=True)"
      ]
    },
    {
      "cell_type": "markdown",
      "id": "56be7290-0a39-4812-8698-680188d17693",
      "metadata": {},
      "outputs": [],
      "source": [
        "Check which method is better for our dataset:\n<p>Create lish with interpolation methods without order"
      ]
    },
    {
      "cell_type": "code",
      "id": "a40a05e0-9c34-460f-84af-f19b181c691c",
      "metadata": {},
      "outputs": [],
      "source": [
        "# Methods without order\nmethods = [\"linear\", \"nearest\", \"slinear\", \"quadratic\", \"cubic\", \"piecewise_polynomial\", \"pchip\", \"akima\", \"cubicspline\"]\n"
      ]
    },
    {
      "cell_type": "markdown",
      "id": "73e94818-da1f-4e8a-b150-b1c4210159a8",
      "metadata": {},
      "outputs": [],
      "source": [
        "Create lish with interpolation methods with order"
      ]
    },
    {
      "cell_type": "code",
      "id": "52e48b8e-1716-4e00-9c20-6f97fb6f8ec3",
      "metadata": {},
      "outputs": [],
      "source": [
        "# Methods with order\norder_methods = [\"spline\", \"polynomial\"]\n# Create a dataframe to store performance metrics\nperformance = pd.DataFrame(columns=[\"name\", \"MSE\", \"MAPE\"])\n"
      ]
    },
    {
      "cell_type": "markdown",
      "id": "9a2dcde3-5b4a-43ee-b576-dd23741c2a3d",
      "metadata": {},
      "outputs": [],
      "source": [
        "<p>First step to check which method is better is to use interpolation method without order"
      ]
    },
    {
      "cell_type": "code",
      "id": "021fb981-a71f-4e07-bd85-28370af3e13e",
      "metadata": {},
      "outputs": [],
      "source": [
        "# Test all methods for func 'pandas.interpolate'\nfor method in methods:\n    # Find all NaN values in spoiled_df['close']\n    nan_rows = spoiled_df[\"Close\"].isna()\n    # Renew data with pandas.interpolate(). We use only one method at the same time\n    interpolated_close = spoiled_df[\"Close\"].interpolate(method=method, limit=5, limit_direction=\"both\")\n    interpolated_close[nan_rows].reset_index(drop=True, inplace=True)\n    df.reset_index(drop=True, inplace=True)\n    # Calculate squared error between real and renewed data\n    mse = mean_squared_error(df.loc[nan_rows, \"Close\"], interpolated_close[nan_rows])\n    # Calculate absolute percentage error between real and renewed data\n    mape = mean_absolute_percentage_error(df.loc[nan_rows, \"Close\"], interpolated_close[nan_rows])\n    # Append new row to performance dataframe\n    performance.loc[len(performance)] = [method, mse, mape]\n"
      ]
    },
    {
      "cell_type": "markdown",
      "id": "9fe41f66-2b3a-4008-9193-cc5a2cd0d660",
      "metadata": {},
      "outputs": [],
      "source": [
        "Second step to check which method is better is to use interpolation method with order"
      ]
    },
    {
      "cell_type": "code",
      "id": "bdf9e11f-e506-4397-b842-d8534e8f2138",
      "metadata": {},
      "outputs": [],
      "source": [
        "for method in order_methods:\n    for order in [3, 5]:\n        # Find all NaN values in spoiled_df['close']\n        nan_rows = spoiled_df[\"Close\"].isna()\n        # Renew data with pandas.interpolate(). We use only one method at the same time\n        interpolated_close = spoiled_df[\"Close\"].interpolate(method=method, order=order)\n        # Calculate squared error between real and renewed data\n        mse = mean_squared_error(df.loc[nan_rows, \"Close\"], interpolated_close[nan_rows])\n        # Calculate absolute percentage error between real and renewed data\n        mape = mean_absolute_percentage_error(df.loc[nan_rows, \"Close\"], interpolated_close[nan_rows])\n        # Append new row to performance dataframe\n        performance.loc[len(performance)] = [method, mse, mape]"
      ]
    },
    {
      "cell_type": "code",
      "id": "988d026e-88d1-440e-9296-3f7135f1b106",
      "metadata": {},
      "outputs": [],
      "source": [
        "# Sort dataframe by MAPE and MSE in ascending order\nperformance = performance.sort_values(by=[\"MAPE\", \"MSE\"], ascending=True)\n\n# Convert \"MAPE\" column data to percents\nperformance[\"MSE\"] = performance[\"MSE\"].apply(lambda x: '{:.7f}'.format(x))\nperformance[\"MAPE\"] = performance[\"MAPE\"] * 100\nperformance[\"MAPE\"] = performance[\"MAPE\"].round(5).astype(str) + \"%\"\n\n# Display top 15 rows of performance dataframe\nprint(performance.head(15))"
      ]
    },
    {
      "cell_type": "markdown",
      "id": "64a9ca0a-4de7-419e-99cb-87381aa50485",
      "metadata": {},
      "outputs": [],
      "source": [
        "So, 'linear' method is one of the best methods for us, we will use it "
      ]
    },
    {
      "cell_type": "code",
      "id": "e962caff-b02d-466e-bba5-634d732ab65a",
      "metadata": {},
      "outputs": [],
      "source": [
        "#Lets see data before interpolation\nspoiled_df.head(20)"
      ]
    },
    {
      "cell_type": "code",
      "id": "06d27c01-b834-41ad-a10b-176a18d03410",
      "metadata": {},
      "outputs": [],
      "source": [
        "spoiled_df['Close'] = spoiled_df[\"Close\"].interpolate(method='linear')\n\npd.set_option(\"display.precision\", 2)\npd.options.display.float_format = '{:.2f}'.format\n\n#Lets see data after interpolation\nspoiled_df.head(20)"
      ]
    },
    {
      "cell_type": "markdown",
      "id": "0cdd819d-a696-44b4-a595-b3332e6f76e4",
      "metadata": {},
      "outputs": [],
      "source": [
        "<div class=\"alert alert-danger alertdanger\" style=\"margin-top: 20px\">\n<b style=\"font-size: 2em; font-weight: bold;\"> Question  #1: </b><br>\n\n<b>Based on the example above, interpolate NaN in \"open\" column with linear mehod.</b>\n\n</div>\n"
      ]
    },
    {
      "cell_type": "code",
      "id": "6ca2fef0-979f-4621-b66e-47bd0ad005d2",
      "metadata": {},
      "outputs": [],
      "source": [
        "# Write your code below and press Shift+Enter to execute \nspoiled_df['Open'] = spoiled_df[\"Open\"].interpolate(method='linear')\n"
      ]
    },
    {
      "cell_type": "markdown",
      "id": "848e9273-50c9-4629-bc41-64a8d7405719",
      "metadata": {},
      "outputs": [],
      "source": [
        "<details><summary>Click here for the solution</summary>\n\n```python\nspoiled_df['Open'] = spoiled_df[\"Open\"].interpolate(method='linear')\n```\n\n</details>\n"
      ]
    },
    {
      "cell_type": "markdown",
      "id": "e574cf6f-3948-47fb-9760-1bb73b6b92e9",
      "metadata": {},
      "outputs": [],
      "source": [
        "To see which values are present in a particular column, we can use the \".value_counts()\" method:"
      ]
    },
    {
      "cell_type": "code",
      "id": "e371adf6-4393-4582-8220-add5d6fdbbeb",
      "metadata": {},
      "outputs": [],
      "source": [
        "#We don't need \"Spoiled_df\" any more, because its reneved, lets contain it to our \"df\" dataframe   \ndf = spoiled_df\n\ndf['Close'].value_counts()"
      ]
    },
    {
      "cell_type": "markdown",
      "id": "92924a4d-16e5-4a54-84ef-c7f537269b38",
      "metadata": {},
      "outputs": [],
      "source": [
        "Lets drop \"Nan\" values from \"Open\". Dont foget to reset indexes"
      ]
    },
    {
      "cell_type": "code",
      "id": "7f4859ff-c350-4cb0-a596-95af6361213f",
      "metadata": {},
      "outputs": [],
      "source": [
        "# simply drop whole row with NaN in \"open\" column\ndf.dropna(subset=[\"Open\"], axis=0, inplace=True)\n\n# reset index\ndf.reset_index(drop=True, inplace=True)"
      ]
    },
    {
      "cell_type": "code",
      "id": "b433b607-90f8-4f48-a11e-ae5d61347ec9",
      "metadata": {},
      "outputs": [],
      "source": [
        "df.head()"
      ]
    },
    {
      "cell_type": "markdown",
      "id": "b99a2c29-bed2-4961-9715-45b3aec243db",
      "metadata": {},
      "outputs": [],
      "source": [
        "<b>Good!</b> Now, we have a dataset with no missing values.Lets save it\n"
      ]
    },
    {
      "cell_type": "code",
      "id": "f43d2e0d-9256-4914-9872-d02ad943c912",
      "metadata": {},
      "outputs": [],
      "source": [
        "df.to_csv(\"Lab2ClearDF.csv\")"
      ]
    },
    {
      "cell_type": "markdown",
      "id": "34bfed88-e30f-4996-ba0a-acd2f237db60",
      "metadata": {},
      "outputs": [],
      "source": [
        "### Correct data format\n<b>We are almost there!</b>\n<p>The last step in data cleaning is checking and making sure that all data is in the correct format (int, float, text or other).</p>\n\nIn Pandas, we use:\n\n<p><b>.dtype()</b> to check the data type</p>\n<p><b>.astype()</b> to change the data type</p>\n"
      ]
    },
    {
      "cell_type": "markdown",
      "id": "a108be5c-6449-4964-8f98-9e8021d2d633",
      "metadata": {},
      "outputs": [],
      "source": [
        "#### Let's list the data types for each column\n"
      ]
    },
    {
      "cell_type": "code",
      "id": "f84cb756-bf90-4f7c-b1e2-c3cb5145757c",
      "metadata": {},
      "outputs": [],
      "source": [
        "df.dtypes"
      ]
    },
    {
      "cell_type": "markdown",
      "id": "554dbc98-ec71-4089-b1b7-79e6cfe78f27",
      "metadata": {},
      "outputs": [],
      "source": [
        "<p>As we can see above, some columns are not of the correct data type. Numerical variables should have type 'float' or 'int', and variables with strings such as categories should have type 'object'. For example, 'rec_count' variable are numerical value that describe counnt of records, expect them to be of the type 'int'; however, it is shown as type 'float'. We have to convert data types into a proper format for each column using the \"astype()\" method.</p> \n"
      ]
    },
    {
      "cell_type": "markdown",
      "id": "07ba25dc-8787-4e70-adb5-3bf1dc5019ae",
      "metadata": {},
      "outputs": [],
      "source": [
        "#### Convert data types to proper format\n"
      ]
    },
    {
      "cell_type": "code",
      "id": "91da1355-e4e1-4227-af56-9676784ba7b0",
      "metadata": {},
      "outputs": [],
      "source": [
        "df['Ts'] = pd.to_datetime(df['Ts'])\ndf[\"Rec_count\"] = df[\"Rec_count\"].astype(\"int\")\n"
      ]
    },
    {
      "cell_type": "markdown",
      "id": "d08132c2-73b6-4bbe-84ba-91e3842d4920",
      "metadata": {},
      "outputs": [],
      "source": [
        "#### Let us list the columns after the conversion\n"
      ]
    },
    {
      "cell_type": "code",
      "id": "7d23877a-8e58-4a90-95dd-7bbb0cf1a643",
      "metadata": {},
      "outputs": [],
      "source": [
        "df.dtypes"
      ]
    },
    {
      "cell_type": "markdown",
      "id": "4d22f1d1-abec-45ef-b1b0-fae993f3ab79",
      "metadata": {},
      "outputs": [],
      "source": [
        "<b>Wonderful!</b>\n\nNow we have finally obtained the cleaned dataset with no missing values with all data in its proper format.\n"
      ]
    },
    {
      "cell_type": "markdown",
      "id": "09ab4b93-50ac-4362-8ac2-d26f1f615442",
      "metadata": {},
      "outputs": [],
      "source": [
        "## Data Standardization\n<p>\nData is usually collected from different agencies in different formats.\n(Data standardization is also a term for a particular type of data normalization where we subtract the mean and divide by the standard deviation.)\n</p>\n\n<b>What is standardization?</b>\n\n<p>Standardization is the process of transforming data into a common format, allowing the researcher to make the meaningful comparison.\n</p>\n\n<b>Example</b>\n\n<p>Transform USD to EUR:</p>\n<p>We will need to apply <b>data transformation</b> to transform BTC into EUR.</p>\nIn our dataset prices are in dollars, so to get our price in EUR we have to get USDT - EUR rate\n"
      ]
    },
    {
      "cell_type": "markdown",
      "id": "4608fd47-4092-43be-98ee-35cd2bb9e677",
      "metadata": {},
      "outputs": [],
      "source": [
        "<p>The formula for unit conversion is:<p>\n1 USDT = 0.94 EUR (01.03.2023)\n<p>We can do many mathematical operations directly in Pandas.</p>\n"
      ]
    },
    {
      "cell_type": "code",
      "id": "9472d115-428d-4d14-9f7e-6cbd62d4ab31",
      "metadata": {},
      "outputs": [],
      "source": [
        "df.head()"
      ]
    },
    {
      "cell_type": "code",
      "id": "e84de347-e916-4a7b-a2d7-3a37e82e03c4",
      "metadata": {},
      "outputs": [],
      "source": [
        "res = requests.get(\"https://api.binance.com/sapi/v1/convert/exchangeInfo?fromAsset=USDT&toAsset=EUR\") \nif res.status_code != 200: \n    rate = 0.94 \nelse: \n    res = res.json() \n    rate = float(res[0][\"toAssetMinAmount\"]) \n     \nprint(f\"The exchange rate is 1 BTC = {rate} EUR\") \n \ncols_to_convert = [\"Open\",\"BTC_price\"] \nfor col in cols_to_convert: \n    df[f\"{col}_EUR\"] = df[col] * rate \n \n# check your transformed data  \n\ndf.head()"
      ]
    },
    {
      "cell_type": "markdown",
      "id": "71d9bc47-5f59-4a29-b7ae-863086ab3c41",
      "metadata": {},
      "outputs": [],
      "source": [
        "<div class=\"alert alert-danger alertdanger\" style=\"margin-top: 20px\">\n    <b style=\"font-size: 2em; font-weight: bold;\"> Question  #2: </b><br>\n\n<b>According to the example above, transform BNB to EUR in column \"high\"</b>\n\n</div>\n"
      ]
    },
    {
      "cell_type": "code",
      "id": "a496c479-82ed-4e67-99f8-650385acc974",
      "metadata": {},
      "outputs": [],
      "source": [
        "# Write your code below and press Shift+Enter to execute \nres = requests.get(\"https://api.binance.com/sapi/v1/convert/exchangeInfo?fromAsset=USDT&toAsset=EUR\") \nif res.status_code != 200: \n    rate = 0.94 \nelse: \n    res = res.json() \n    rate = float(res[0][\"toAssetMinAmount\"]) \n     \nprint(f\"The exchange rate is 1 BTC = {rate} EUR\") \n \ndf[\"high_EUR\"] = df[\"High\"] * rate\ndf.head() "
      ]
    },
    {
      "cell_type": "markdown",
      "id": "b0b50926-c822-4ebb-86fc-f31df8bf1426",
      "metadata": {},
      "outputs": [],
      "source": [
        "<details><summary>Click here for the solution</summary>\n\n```python\nres = requests.get(\"https://api.binance.com/sapi/v1/convert/exchangeInfo?fromAsset=USDT&toAsset=EUR\") \nif res.status_code != 200: \n    rate = 0.94 \nelse: \n    res = res.json() \n    rate = float(res[0][\"toAssetMinAmount\"]) \n     \nprint(f\"The exchange rate is 1 BTC = {rate} EUR\") \n \ndf[\"high_EUR\"] = df[\"High\"] * rate\n \n\n```\n\n</details>\n"
      ]
    },
    {
      "cell_type": "markdown",
      "id": "87b54f46-c387-42a8-8453-38b9700121d1",
      "metadata": {},
      "outputs": [],
      "source": [
        "## Data Normalization\n\n<b>Why normalization?</b>\n\n<p>Normalization is the process of transforming values of several variables into a similar range. Typical normalizations include scaling the variable so the variable average is 0, scaling the variable so the variance is 1, or scaling the variable so the variable values range from 0 to 1.\n</p>\n\n<b>Example</b>\n\n<p>To demonstrate normalization, let's say we want to scale the columns \"high\" and \"low\".</p>\n<p><b>Target:</b> would like to normalize those variables so their value ranges from 0 to 1</p>\n<p><b>Approach:</b> replace original value by (original value)/(maximum value)</p>\n"
      ]
    },
    {
      "cell_type": "code",
      "id": "88c87f0c-a4b9-40da-b0f0-aad1412463fe",
      "metadata": {},
      "outputs": [],
      "source": [
        "df['High'].head(10)"
      ]
    },
    {
      "cell_type": "code",
      "id": "67479b49-2f59-4038-8eaf-0ba509868839",
      "metadata": {},
      "outputs": [],
      "source": [
        "# replace (original value) by (original value)/(maximum value)\ndf['High_Normalized'] = df['High']/df['High'].max()\ndf['High_Normalized'].head(10)"
      ]
    },
    {
      "cell_type": "markdown",
      "id": "e4bd2b90-7f86-45ab-be4c-67285bc6799b",
      "metadata": {},
      "outputs": [],
      "source": [
        "<div class=\"alert alert-danger alertdanger\" style=\"margin-top: 20px\">\n    <b style=\"font-size: 2em; font-weight: bold;\"> Question #3: </b><br>\n    <b>According to the example above, normalize the column \"low\".</b>\n</div>\n"
      ]
    },
    {
      "cell_type": "code",
      "id": "9f30a271-4433-4015-b740-4cb55325f55d",
      "metadata": {},
      "outputs": [],
      "source": [
        "# Write your code below and press Shift+Enter to execute \ndf['Low_Normalized'] = df['Low']/df['Low'].max() \n\n# show the scaled columns\ndf[[\"High_Normalized\",\"Low_Normalized\"]].head(10)"
      ]
    },
    {
      "cell_type": "markdown",
      "id": "24ad0d82-ae84-4d3e-a283-06b24dcd8363",
      "metadata": {},
      "outputs": [],
      "source": [
        "<details><summary>Click here for the solution</summary>\n\n```python\ndf['low'] = df['low']/df['low'].max() \n\n# show the scaled columns\ndf[[\"high\",\"low\"]].head(10)\n\n```\n\n</details>\n"
      ]
    },
    {
      "cell_type": "markdown",
      "id": "b046ab0a-d2e4-4fe0-b307-19afcda87ab2",
      "metadata": {},
      "outputs": [],
      "source": [
        "Here we can see we've normalized \"High\",\"Low\" columns in the range of \\[0,1].\n"
      ]
    },
    {
      "cell_type": "markdown",
      "id": "bcef611f-940f-41f6-b361-b9e381395daf",
      "metadata": {},
      "outputs": [],
      "source": [
        "## Binning\n<b>Why binning?</b>\n<p>\n    Binning is a process of transforming continuous numerical variables into discrete categorical 'bins' for grouped analysis.\n</p>\n\n<b>Example: </b>\n\n<p>In our dataset, \"close\" is a real valued variable ranging from 200 to 320 and it has ~10900 unique values. What if we only care about the price difference between closing minute price(3 types)? Can we rearrange them into three ‘bins' to simplify analysis? </p>\n\n<p>We will use the pandas method 'cut' to segment the 'close' column into 3 bins.</p>\n"
      ]
    },
    {
      "cell_type": "markdown",
      "id": "f2b56bd0-da12-4482-9e61-65dee78f64ac",
      "metadata": {},
      "outputs": [],
      "source": [
        "### Example of Binning Data In Pandas"
      ]
    },
    {
      "cell_type": "markdown",
      "id": "b8bf7f95-102d-49c1-929a-376240e3c4f1",
      "metadata": {},
      "outputs": [],
      "source": [
        "Convert data to correct format:\n"
      ]
    },
    {
      "cell_type": "code",
      "id": "2d1a2589-8cff-48c7-a7bc-10f5b06f07fe",
      "metadata": {},
      "outputs": [],
      "source": [
        "df.dtypes"
      ]
    },
    {
      "cell_type": "markdown",
      "id": "1e77c438-d2da-4222-983a-34d834a5ec70",
      "metadata": {},
      "outputs": [],
      "source": [
        "Let's plot the histogram of horsepower to see what the distribution of horsepower looks like.\n"
      ]
    },
    {
      "cell_type": "code",
      "id": "463a5da9-2450-4bbc-bf6d-82cc2a05de50",
      "metadata": {},
      "outputs": [],
      "source": [
        "plt.hist(df[\"Close\"])\n\n# set x/y labels and plot title\nplt.xlabel(\"Close\")\nplt.ylabel(\"Count\")\nplt.title(\"close counts\")"
      ]
    },
    {
      "cell_type": "markdown",
      "id": "adda0833-2dbb-4e5a-b5e3-beb707845fed",
      "metadata": {},
      "outputs": [],
      "source": [
        "<p>We would like 3 bins of equal size bandwidth so we use numpy's <code>linspace(start_value, end_value, numbers_generated</code> function.</p>\n<p>Since we want to include the minimum value of close, we want to set start_value = min(df[\"close\"]).</p>\n<p>Since we want to include the maximum value of close, we want to set end_value = max(df[\"close\"]).</p>\n<p>Since we are building 3 bins of equal length, there should be 4 dividers, so numbers_generated = 4.</p>"
      ]
    },
    {
      "cell_type": "markdown",
      "id": "97306f74-dcce-4bc6-9818-e4af271f0529",
      "metadata": {},
      "outputs": [],
      "source": [
        "We build a bin array with a minimum value to a maximum value by using the bandwidth calculated above. The values will determine when one bin ends and another begins."
      ]
    },
    {
      "cell_type": "code",
      "id": "e3f2e0a8-85b9-47a9-b31a-c7ddd477aa6e",
      "metadata": {},
      "outputs": [],
      "source": [
        "bins = np.linspace(min(df[\"Close\"]), max(df[\"Close\"]), 4)\nbins"
      ]
    },
    {
      "cell_type": "markdown",
      "id": "e73cf5b1-2ad5-450c-99fd-9d64feffde52",
      "metadata": {},
      "outputs": [],
      "source": [
        "We set group  names:"
      ]
    },
    {
      "cell_type": "code",
      "id": "89ced6a0-e816-4e27-93e6-3641d6d60d32",
      "metadata": {},
      "outputs": [],
      "source": [
        "group_names = ['Low', 'Medium', 'High']"
      ]
    },
    {
      "cell_type": "markdown",
      "id": "ac729679-d3eb-4f13-a8d3-d3f506768d29",
      "metadata": {},
      "outputs": [],
      "source": [
        "We apply the function \"cut\" to determine what each value of `df['close']` belongs to."
      ]
    },
    {
      "cell_type": "code",
      "id": "0822615f-389b-483c-80e8-8f32ee122e04",
      "metadata": {},
      "outputs": [],
      "source": [
        "df['close-binned'] = pd.cut(df['Close'], bins, labels=group_names, include_lowest=True )\ndf[['Close','close-binned']].head(20)"
      ]
    },
    {
      "cell_type": "markdown",
      "id": "be53bdf7-8dc6-4ba4-b52f-0f423a13b56d",
      "metadata": {},
      "outputs": [],
      "source": [
        "Let's see the number of vehicles in each bin:"
      ]
    },
    {
      "cell_type": "code",
      "id": "f8cd8771-caee-42bb-8c26-2e38a58eb78a",
      "metadata": {},
      "outputs": [],
      "source": [
        "df[\"close-binned\"].value_counts().sort_index()"
      ]
    },
    {
      "cell_type": "markdown",
      "id": "5bf14934-b7c2-43ea-8297-b3bbc8cb9ffa",
      "metadata": {},
      "outputs": [],
      "source": [
        "Let's plot the distribution of each bin:"
      ]
    },
    {
      "cell_type": "code",
      "id": "8ca706d0-f161-428c-a3d3-e4881ce2b5cc",
      "metadata": {},
      "outputs": [],
      "source": [
        "pyplot.bar(group_names, df[\"close-binned\"].value_counts().sort_index())\n# set x/y labels and plot title\nplt.xlabel(\"close\")\nplt.ylabel(\"count\")\nplt.title(\"close bins\")"
      ]
    },
    {
      "cell_type": "markdown",
      "id": "7c816d0b-634e-48d9-b404-c079c2b326d0",
      "metadata": {},
      "outputs": [],
      "source": [
        "<p>\n    Look at the dataframe above carefully. You will find that the last column provides the bins for \"close\" based on 3 categories (\"Low\", \"Medium\" and \"High\"). \n</p>\n<p>\n    We successfully narrowed down the intervals from 9.000 to 55.000!\n</p>\n"
      ]
    },
    {
      "cell_type": "markdown",
      "id": "be25a0e6-d857-4e16-b340-a9d4d1914c68",
      "metadata": {},
      "outputs": [],
      "source": [
        "### Bins Visualization\nNormally, a histogram is used to visualize the distribution of bins we created above. \n"
      ]
    },
    {
      "cell_type": "code",
      "id": "bf0b986d-8371-423d-9359-d2bd1444b90a",
      "metadata": {},
      "outputs": [],
      "source": [
        "# draw historgram of attribute \"close\" with bins = 3\nplt.hist(df[\"Close\"], bins = 3)\n\n# set x/y labels and plot title\nplt.xlabel(\"close\")\nplt.ylabel(\"count\")\nplt.title(\"close bins\")"
      ]
    },
    {
      "cell_type": "markdown",
      "id": "d99f28a1-0384-4bb6-863b-6838f7021489",
      "metadata": {},
      "outputs": [],
      "source": [
        "The plot above shows the binning result for the attribute \"close\".\n"
      ]
    },
    {
      "cell_type": "markdown",
      "id": "9ff0a33d-9a01-4a8b-821d-d68061faaf54",
      "metadata": {},
      "outputs": [],
      "source": [
        "## Indicator Variable (or Dummy Variable)\n<b>What is an indicator variable?</b>\n<p>\n    An indicator variable (or dummy variable) is a numerical variable used to label categories. They are called 'dummies' because the numbers themselves don't have inherent meaning. \n</p>\n\n<b>Why we use indicator variables?</b>\n\n<p>\n    We use indicator variables so we can use categorical variables for regression analysis in the later modules.\n</p>\n<b>Example</b>\n<p>\n    We see the column \"close-binned\" has two unique values: \"Low\",\"Medium\" and \"High\". Regression doesn't understand words, only numbers. To use this attribute in regression analysis, we convert \"open-binned\" to indicator variables.\n</p>\n\n<p>\n    We will use pandas' method 'get_dummies' to assign numerical values to different categories of fuel type. \n</p>\n"
      ]
    },
    {
      "cell_type": "code",
      "id": "957c32ba-8842-416f-b117-cdd72b0f7eb3",
      "metadata": {},
      "outputs": [],
      "source": [
        "df.columns"
      ]
    },
    {
      "cell_type": "markdown",
      "id": "bf469177-2583-4da7-a595-5a221baa1189",
      "metadata": {},
      "outputs": [],
      "source": [
        "Get the indicator variables and assign it to data frame \"dummy_variable\\_1\":\n"
      ]
    },
    {
      "cell_type": "code",
      "id": "fe4d7a13-8216-4200-816c-d7f037d1c754",
      "metadata": {},
      "outputs": [],
      "source": [
        "dummy_variable_1 = pd.get_dummies(df[\"close-binned\"])\ndummy_variable_1.head()"
      ]
    },
    {
      "cell_type": "markdown",
      "id": "18a58337-4c89-4c4d-9d64-548ed2f0bca6",
      "metadata": {},
      "outputs": [],
      "source": [
        "Change the column names for clarity:\n"
      ]
    },
    {
      "cell_type": "code",
      "id": "e2ddd6c8-fa43-4d87-9f53-abace593fcc6",
      "metadata": {},
      "outputs": [],
      "source": [
        "dummy_variable_1.rename(columns={'Low':'close_low', 'Medium':'close_medium', 'High':'close_high'}, inplace=True)\ndummy_variable_1.head()"
      ]
    },
    {
      "cell_type": "markdown",
      "id": "9a2dfb80-3ac1-4a3b-a0cb-5390036a7e15",
      "metadata": {},
      "outputs": [],
      "source": [
        "In the dataframe, column 'close-binned' has values for 'low','medium' and 'high' as 0s and 1s now.\n"
      ]
    },
    {
      "cell_type": "code",
      "id": "fbf80d81-636b-47bc-9074-a9aca353078c",
      "metadata": {},
      "outputs": [],
      "source": [
        "# merge data frame \"df\" and \"dummy_variable_1\" \ndf = pd.concat([df, dummy_variable_1], axis=1)\n\n# drop original column \"fuel-type\" from \"df\"\ndf.drop(\"close-binned\", axis = 1, inplace=True)"
      ]
    },
    {
      "cell_type": "markdown",
      "id": "bd0b675c-8242-4ace-939c-99604f675987",
      "metadata": {},
      "outputs": [],
      "source": [
        "The last three columns are now the indicator variable. They're all 0s and 1s now.\n"
      ]
    },
    {
      "cell_type": "markdown",
      "id": "c39d8c4c-b48b-40b8-a9a3-f07e0387ff4a",
      "metadata": {},
      "outputs": [],
      "source": [
        "<div class=\"alert alert-danger alertdanger\" style=\"margin-top: 20px\">\n    <b style=\"font-size: 2em; font-weight: bold;\"> Question  #4: </b><br>\n    <b>Similar to before, create an indicator variable for the column \"rec_count\"</b>\n</div>\n"
      ]
    },
    {
      "cell_type": "code",
      "id": "7a24ca69-6cad-4cbe-8c35-bbe1a53475e0",
      "metadata": {},
      "outputs": [],
      "source": [
        "# Write your code below and press Shift+Enter to execute \ngroup_names = ['Low', 'Medium', 'High']\n\nbins = np.linspace(min(df[\"Rec_count\"]), max(df[\"Rec_count\"]), 4)\n\ndf['rec_count-binned'] = pd.cut(df['Rec_count'], bins, labels=group_names, include_lowest=True )\ncolumns={'Low':'rec_count_low', 'Medium':'rec_count_medium', 'High':'rec_count_high'}\n\n# get indicator variables of aspiration and assign it to data frame \"dummy_variable_2\"\ndummy_variable_2 = pd.get_dummies(df['rec_count-binned'])\n\n# change column names for clarity\ndummy_variable_2.rename(columns={'Low':'rec_count_low', 'Medium':'rec_count_medium', 'High':'rec_count_high'}, inplace=True)\n\n# show first 5 instances of data frame \"dummy_variable_1\"\ndummy_variable_2.head()"
      ]
    },
    {
      "cell_type": "markdown",
      "id": "df396c0d-dbfc-4b7f-8653-190c81b15bdd",
      "metadata": {},
      "outputs": [],
      "source": [
        "<details><summary>Click here for the solution</summary>\n\n```python\ngroup_names = ['Low', 'Medium', 'High']\n\nbins = np.linspace(min(df[\"Rec_count\"]), max(df[\"Rec_count\"]), 4)\n\ndf['rec_count-binned'] = pd.cut(df['Rec_count'], bins, labels=group_names, include_lowest=True )\ncolumns={'Low':'rec_count_low', 'Medium':'rec_count_medium', 'High':'rec_count_high'}\n\n# get indicator variables of aspiration and assign it to data frame \"dummy_variable_2\"\ndummy_variable_2 = pd.get_dummies(df['rec_count-binned'])\n\n# change column names for clarity\ndummy_variable_2.rename(columns={'Low':'rec_count_low', 'Medium':'rec_count_medium', 'High':'rec_count_high'}, inplace=True)\n\n# show first 5 instances of data frame \"dummy_variable_1\"\ndummy_variable_2.head()\n\n```\n\n</details>\n"
      ]
    },
    {
      "cell_type": "markdown",
      "id": "90c45c42-7041-4a28-8c03-b5071dbe361c",
      "metadata": {},
      "outputs": [],
      "source": [
        "<div class=\"alert alert-danger alertdanger\" style=\"margin-top: 20px\">\n    <b style=\"font-size: 2em; font-weight: bold;\"> Question  #5: </b><br>\n    <b>Merge the new dataframe to the original dataframe.</b>\n</div>\n"
      ]
    },
    {
      "cell_type": "code",
      "id": "b0f4904a-b910-4cc9-8498-0b7273714a8b",
      "metadata": {},
      "outputs": [],
      "source": [
        "# Write your code below and press Shift+Enter to execute \n\n# merge the new dataframe to the original datafram\ndf = pd.concat([df, dummy_variable_2], axis=1)\n\ndf.head()\n"
      ]
    },
    {
      "cell_type": "markdown",
      "id": "76ac8726-6576-4b98-b646-890cd879d06b",
      "metadata": {},
      "outputs": [],
      "source": [
        "<details><summary>Click here for the solution</summary>\n\n```python\n# merge the new dataframe to the original datafram\ndf = pd.concat([df, dummy_variable_2], axis=1)\n\ndf.head()\n\n```\n\n</details>\n"
      ]
    },
    {
      "cell_type": "code",
      "id": "dfec900d-4dd6-43fa-ab9e-ed29f1e979b3",
      "metadata": {},
      "outputs": [],
      "source": [
        "df.head()"
      ]
    },
    {
      "cell_type": "code",
      "id": "193b12a5-c1e4-457f-8dc9-a8dbf758edb0",
      "metadata": {},
      "outputs": [],
      "source": [
        "df = df.set_index('Ts')\nresample_df = pd.DataFrame()\nresample_df['Open'] = df['Open'].resample('5min').first()\nresample_df['High'] = df['High'].resample('5min').max()\nresample_df['Low'] = df['Low'].resample('5min').min()\nresample_df['Close'] = df['Close'].resample('5min').last()\nresample_df['Volume'] = df['Volume'].resample('5min').sum()\n\nresample_df.to_csv(\"resampl.csv\")\nresample_df.head()\ndf.to_csv(\"Lab2DataSet.csv\")"
      ]
    },
    {
      "cell_type": "markdown",
      "id": "71e0a3af-400b-494f-8dba-cd3af9f92bb9",
      "metadata": {},
      "outputs": [],
      "source": [
        "#### Save the new csv:\n\n> Note : The  csv file cannot be viewed in the jupyterlite based SN labs environment.However you can Click <a href=\"https://cf-courses-data.s3.us.cloud-object-storage.appdomain.cloud/IBMDeveloperSkillsNetwork-DA0101EN-SkillsNetwork/labs/Module%202/DA0101EN-2-Review-Data-Wrangling.ipynb?utm_medium=Exinfluencer&utm_source=Exinfluencer&utm_content=000026UJ&utm_term=10006555&utm_id=NA-SkillsNetwork-Channel-SkillsNetworkCoursesIBMDeveloperSkillsNetworkDA0101ENSkillsNetwork20235326-2022-01-01\">HERE</a> to download the lab notebook (.ipynb) to your local machine and view the csv file once the notebook is executed.\n"
      ]
    },
    {
      "cell_type": "markdown",
      "id": "9577d7ee-b840-4361-b23a-97f3d3f04d2c",
      "metadata": {},
      "outputs": [],
      "source": [
        "# **Thank you for completing this lab!**\n\n## Author\n\n<a href=\"https://author.skills.network/instructors/ostap_liashenyk\" target=\"_blank\" >Ostap Liashenyk</a>\n\n<a href=\"https://author.skills.network/instructors/yaroslav_vyklyuk_2?utm_medium=Exinfluencer&utm_source=Exinfluencer&utm_content=000026UJ&utm_term=10006555&utm_id=NA-SkillsNetwork-Channel-SkillsNetworkGuidedProjectsIBMSkillsNetworkGPXX0QGDEN2306-2023-01-01\">Prof. Yaroslav Vyklyuk, DrSc, PhD</a>\n\n<a href=\"https://author.skills.network/instructors/mariya_fleychuk?utm_medium=Exinfluencer&utm_source=Exinfluencer&utm_content=000026UJ&utm_term=10006555&utm_id=NA-SkillsNetwork-Channel-SkillsNetworkGuidedProjectsIBMSkillsNetworkGPXX0QGDEN2306-2023-01-01\">Prof. Mariya Fleychuk, DrSc, PhD</a>\n\n\n\n\n## Change Log\n\n| Date (YYYY-MM-DD) | Version | Changed By      | Change Description                                         |\n| ----------------- | ------- | ----------------| ---------------------------------------------------------- |\n|     2023-04-01    |   1.0   | Ostap Liashenyk | Creation of the lab                                        |\n\n<hr>\n\n## <h3 align=\"center\"> © IBM Corporation 2023. All rights reserved. </h3>"
      ]
    },
    {
      "cell_type": "code",
      "id": "37c6cb5d-8511-4b34-b6bc-9062b9103f55",
      "metadata": {},
      "outputs": [],
      "source": [
        ""
      ]
    }
  ],
  "metadata": {
    "language_info": {
      "name": ""
    },
    "kernelspec": {
      "name": "",
      "display_name": ""
    }
  },
  "nbformat": 4,
  "nbformat_minor": 4
}