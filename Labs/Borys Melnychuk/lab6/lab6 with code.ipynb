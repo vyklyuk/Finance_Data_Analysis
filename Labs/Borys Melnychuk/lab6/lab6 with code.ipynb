{
  "cells": [
    {
      "cell_type": "markdown",
      "id": "b5a24bbe-5244-442e-98b7-5fc87fafc506",
      "metadata": {},
      "outputs": [],
      "source": [
        "<center>\n    <img src=\"https://cf-courses-data.s3.us.cloud-object-storage.appdomain.cloud/assets/logos/SN_web_lightmode.png\" width=\"500\" alt=\"cognitiveclass.ai logo\"  />\n</center>\n\n# **Investigation of MATIC/BUSD exchange rate dynamic,  calculation and analysis of separate  technical financial indicators of cryptocurrency market (ATR, OBV, RSI, AD)**\n\n## **Lab 6. Final assignment**\n\n\nEstimated time needed: **2** hours\n\n## **Objectives**\n\nAfter completing this lab you will be able to:\n\n*   Be confident about your data analysis skills"
      ]
    },
    {
      "cell_type": "markdown",
      "id": "722d0b0e-c1f5-4b1c-8aa3-4910e067a180",
      "metadata": {},
      "outputs": [],
      "source": [
        "## **Table of Contents**\n\n<div class=\"alert alert-block alert-info\" style=\"margin-top: 20px\">\n<ol>\n    <li>Question 1</li>\n    <li>Question 2</li>\n    <li>Question 3</li>\n    <ul>\n        <li>Bollinger Bands (BB)</li>\n        <li>Moving Average (MA)</li>\n        <li>Ultimate Oscillator (UO)</li>\n    </ul>\n    <li>Question 4</li>\n    <li>Question 5</li>\n    <li>Question 6</li>\n    <ul>\n        <li>Pearson Correlation</li>\n    </ul>\n    <li>Question 7</li>\n    <ul>\n        <li>Mean Squared Error (MSE)</li>\n        <li>R-squared</li>\n    </ul>\n    <li>Question 8</li>\n    <li>Question 9</li>\n    <li>Question 10</li>\n    <li>Sources</li>\n</ol>\n\n</div>\n\n<hr>\n"
      ]
    },
    {
      "cell_type": "markdown",
      "id": "b53f3972-5920-49c4-a641-dc1b25bd33f6",
      "metadata": {},
      "outputs": [],
      "source": [
        "## **Dataset Description**\n\n### **Files**\n* #### **MATICBUSD_trades_1m_preprocessed.csv** - the file contains historical changes of the pair **MATIC/BUSD** and ATR, OBV, RSI, AD indicators for the period from 11/11/2022 to 12/29/2022 with an aggregation time of 1 minute\n\n### **Columns**\n\n* #### `Ts` - the timestamp of the record\n* #### `Open` -  the price of the asset at the beginning of the trading period\n* #### `High` -  the highest price of the asset during the trading period\n* #### `Low` - the lowest price of the asset during the trading period.\n* #### `Close` - the price of the asset at the end of the trading period\n* #### `Volume` - the total number of shares or contracts of a particular asset that are traded during a given period\n* #### `Rec_count` -  the number of individual trades or transactions that have been executed during a given time period\n* #### `Avg_price` - the average price at which a particular asset has been bought or sold during a given period\n* #### `ATR` - average true range indicator\n* #### `OBV` - on-balance volume indicator\n* #### `RSI` - relative strength index indicator\n* #### `AD` - accumulation / distribution indicator"
      ]
    },
    {
      "cell_type": "code",
      "id": "04a7383e-f272-40a0-b7c9-40e4f2b07be9",
      "metadata": {},
      "outputs": [],
      "source": [
        "# install specific version of libraries used in lab\n# ! conda install -q -y pandas\n# ! conda install -q -y numpy\n! conda install -q -y -c anaconda scikit-learn\n! conda install -q -y -c conda-forge ta-lib"
      ]
    },
    {
      "cell_type": "code",
      "id": "047bf5b6-08c5-4006-b8c5-3d371fa04cd6",
      "metadata": {},
      "outputs": [],
      "source": [
        "import pandas as pd\nimport numpy as np\nimport talib\nfrom sklearn.linear_model import LinearRegression, Ridge\nfrom sklearn.metrics import mean_squared_error, r2_score\nfrom sklearn.model_selection import train_test_split, cross_val_score, GridSearchCV\n\npd.set_option(\"display.precision\", 4)\npd.options.display.float_format = \"{:.4f}\".format"
      ]
    },
    {
      "cell_type": "code",
      "id": "e7556699-289d-48f2-8996-d28931729755",
      "metadata": {},
      "outputs": [],
      "source": [
        "path = \"https://cf-courses-data.s3.us.cloud-object-storage.appdomain.cloud/IBMSkillsNetwork-GPXX03MTEN/MATICBUSD_trades_1m.csv\""
      ]
    },
    {
      "cell_type": "markdown",
      "id": "56e29568-d884-4da4-90d8-b45faaef8757",
      "metadata": {},
      "outputs": [],
      "source": [
        "<div class=\"alert alert-danger alertdanger\" style=\"margin-top: 20px\">\n    \n# **Question #1:**\n\n**Read the dataset with parameter `filepath_or_buffer` as `path`, parse column \"ts\" as datetime and set it as index. The dataset assign to variable `df`**\n</div>"
      ]
    },
    {
      "cell_type": "code",
      "id": "1ae6a934-4ee8-44f4-bc9e-4de562ec6d46",
      "metadata": {},
      "outputs": [],
      "source": [
        "df = pd.read_csv(path, index_col=0, parse_dates=[\"ts\"])\ndf = df.set_index(\"ts\")"
      ]
    },
    {
      "cell_type": "markdown",
      "id": "fa5deb66-a2a3-40a3-84c8-0c6644ca4467",
      "metadata": {},
      "outputs": [],
      "source": [
        "<div class=\"alert alert-danger alertdanger\" style=\"margin-top: 20px\">\n    \n# **Question #2:**\n    \n**Show the first 5 rows of the dataset**\n\n</div>"
      ]
    },
    {
      "cell_type": "code",
      "id": "5f8af28c-39dd-4f94-bb29-fc70e7fbf7d8",
      "metadata": {},
      "outputs": [],
      "source": [
        "df.head(5)"
      ]
    },
    {
      "cell_type": "markdown",
      "id": "e0f5cb21-6773-44c0-aed4-3cce7afcf8a7",
      "metadata": {},
      "outputs": [],
      "source": [
        "<div class=\"alert alert-danger alertdanger\" style=\"margin-top: 20px\">\n\n# **Question #3:**\n    \n**Calculate technicals indicators such as: Bollinger Bands (BB), Moving Average (MA), Ultimate Oscillator (UO) using library `talib` and append them to the dataset. Show the tail of the dataset**\n    \n**Hint: calculate BB and MA based on \"close\" column. Timeperiod for MA, BB = 29. Timeperiods for UO (`timeperiod1=7`, `timeperiod2=14`, `timeperiod3=28`)**\n</div>"
      ]
    },
    {
      "cell_type": "markdown",
      "id": "8eabad04-26d0-42f5-8f33-5f062e716e46",
      "metadata": {},
      "outputs": [],
      "source": [
        "## **Bollinger Bands (BB)**\n\nA **Bollinger Band** is a technical analysis tool defined by a set of trendlines. They are plotted as two standard deviations, both positively and negatively, away from a **simple moving average** (**SMA**) of a security's price and can be adjusted to user preferences.\n\n**Bollinger Bands** was developed by technical trader John Bollinger and designed to give investors a higher probability of identifying when an asset is oversold or overbought. "
      ]
    },
    {
      "cell_type": "markdown",
      "id": "26ce0f60-2a5a-4499-9066-b70b15c621a5",
      "metadata": {},
      "outputs": [],
      "source": [
        "<center><img src=\"https://cf-courses-data.s3.us.cloud-object-storage.appdomain.cloud/IBMSkillsNetwork-GPXX03MTEN/dotdash_INV-final-Bollinger-Band-Definition-June-2021-01-518977e3031d405497003f1747a3c250.webp\" alt=\"bollinger-bands\" /></center>\n<center>The example of Bollinger Bands</center>"
      ]
    },
    {
      "cell_type": "markdown",
      "id": "766a8545-34ed-4412-a6f3-bb27c0f7382d",
      "metadata": {},
      "outputs": [],
      "source": [
        "**Bollinger Bands Formula**:\n\n<h3 style=\"margin-top: 0px; margin-bottom: 0px\">$$BOLU = MA(TP,n) + m * \\sigma[TP,n]$$</h3>\n<h3 style=\"margin-top: 0px; margin-bottom: 0px\">$$BOLM = MA(TP,n)$$</h3>\n<h3 style=\"margin-top: 0px; margin-bottom: 0px\">$$BOLD = MA(TP,n) - m * \\sigma[TP,n]$$</h3>\n<h3 style=\"margin-top: 0px; margin-bottom: 0px\">$$\\text{where:}$$</h3>\n<h3 style=\"margin-top: 0px; margin-bottom: 0px\">$$BOLU = \\text{Upper Bollinger Band}$$</h3>\n<h3 style=\"margin-top: 0px; margin-bottom: 0px\">$$BOLM = \\text{Middle Bollinger Band}$$</h3>\n<h3 style=\"margin-top: 0px; margin-bottom: 0px\">$$BOLD = \\text{Lower Bollinger Band}$$</h3>\n<h3 style=\"margin-top: 0px; margin-bottom: 0px\">$$MA = \\text{Moving Average}$$</h3>\n<h3 style=\"margin-top: 0px; margin-bottom: 0px\">$$TP (\\text{typical price}) = \\frac{(High \\; + \\; Low \\; + \\; Close)}{3}$$</h3>\n<h3 style=\"margin-top: 0px; margin-bottom: 0px\">$$n = \\text{Number of days in smoothind period (typically 20)}$$</h3>\n<h3 style=\"margin-top: 0px; margin-bottom: 0px\">$$m = \\text{Number of standard deviations (typically 2)}$$</h3>\n<h3 style=\"margin-top: 0px; margin-bottom: 0px\">$$\\sigma[TP,n] = \\text{Standard Deviation over last} \\; n \\; \\text{periods of} \\; TP$$</h3>"
      ]
    },
    {
      "cell_type": "markdown",
      "id": "9d687a2b-0981-4efa-9aff-149c1f4c5bb3",
      "metadata": {},
      "outputs": [],
      "source": [
        "The description of function to calculate Bollinger Bands"
      ]
    },
    {
      "cell_type": "code",
      "id": "67309995-1d0f-4e13-996a-d199f4d74fe3",
      "metadata": {},
      "outputs": [],
      "source": [
        "?talib.BBANDS"
      ]
    },
    {
      "cell_type": "markdown",
      "id": "b13e489f-6c6d-4c87-a5d2-014baefab1cd",
      "metadata": {},
      "outputs": [],
      "source": [
        "## **Moving Average (MA)**\n\nIn finance, a **moving average** (**MA**) is a stock indicator commonly used in technical analysis. The reason for calculating the moving average of a stock is to help smooth out the price data by creating a constantly updated average price.\n\nBy calculating the **moving average**, the impacts of random, short-term fluctuations on the price of a stock over a specified time frame are mitigated. **Simple moving averages** (**SMAs**) use a simple arithmetic average of prices over some timespan, while **exponential moving averages** (**EMAs**) place greater weight on more recent prices than older ones over the time period. "
      ]
    },
    {
      "cell_type": "markdown",
      "id": "f00b71ff-dea8-48ae-b0ba-ce4d340fb0f5",
      "metadata": {},
      "outputs": [],
      "source": [
        "<center><img src=\"https://cf-courses-data.s3.us.cloud-object-storage.appdomain.cloud/IBMSkillsNetwork-GPXX03MTEN/dotdash_INV-final-Simple-Moving-Average-SMA-May-2021-01-98751e52a2d844a795d8d11434852d7c.webp\" alt=\"simple-moving-average\" /></center>\n\n<center>The example of Simple Moving Average</center>"
      ]
    },
    {
      "cell_type": "markdown",
      "id": "864ddca2-af00-43e3-a44b-fec09f1a479f",
      "metadata": {},
      "outputs": [],
      "source": [
        "**Simple Moving Average Formula**:\n\n<h3 style=\"margin-top: 0px; margin-bottom: 0px\">$$SMA = \\frac{1}{n} \\sum_{i}^{n} A_{i}$$</h3>\n<h3 style=\"margin-top: 0px; margin-bottom: 0px\">$$\\text{where:}$$</h3>\n<h3 style=\"margin-top: 0px; margin-bottom: 0px\">$$SMA = \\text{Simple Moving Average}$$</h3>\n<h3 style=\"margin-top: 0px; margin-bottom: 0px\">$$A = \\text{Average in period} \\; n$$</h3>\n<h3 style=\"margin-top: 0px; margin-bottom: 0px\">$$n = \\text{Number of time periods}$$</h3>"
      ]
    },
    {
      "cell_type": "markdown",
      "id": "9dbcbce9-c037-4be1-8384-2c60c9227309",
      "metadata": {},
      "outputs": [],
      "source": [
        "The description of function to calculate Moving Average"
      ]
    },
    {
      "cell_type": "code",
      "id": "a2693cc6-368f-492d-a5ec-bfedbeb7461b",
      "metadata": {},
      "outputs": [],
      "source": [
        "?talib.MA"
      ]
    },
    {
      "cell_type": "markdown",
      "id": "9e9bd7ed-7e81-47b3-82df-636864ce5cc0",
      "metadata": {},
      "outputs": [],
      "source": [
        "## **Ultimate Oscillator (UO)**\n\nThe **Ultimate Oscillator** is a technical indicator that was developed by Larry Williams in 1976 to measure the price momentum of an asset across multiple timeframes. By using the weighted average of three different timeframes the indicator has less volatility and fewer trade signals compared to other oscillators that rely on a single timeframe. Buy and sell signals are generated following divergences. The **Ultimately Oscillator** generates fewer divergence signals than other oscillators due to its multi-timeframe construction. "
      ]
    },
    {
      "cell_type": "markdown",
      "id": "30f4c3fd-3f97-4258-8b05-be88734b49ef",
      "metadata": {},
      "outputs": [],
      "source": [
        "<center><img src=\"https://cf-courses-data.s3.us.cloud-object-storage.appdomain.cloud/IBMSkillsNetwork-GPXX03MTEN/UltimateOscillator-5c93b21dc9e77c0001faafcf.webp\" alt=\"ultimate-oscillator\" /></center>\n\n<center>The example of Ultimate Oscillator</center>"
      ]
    },
    {
      "cell_type": "markdown",
      "id": "6d682455-6e01-4cea-95df-1131e6431f5f",
      "metadata": {},
      "outputs": [],
      "source": [
        "**Ultimate Oscillator Formula**:\n\n<h3 style=\"margin-top: 0px; margin-bottom: 0px\">$$UO = [\\frac{(A_{7} \\; * \\;4) \\; + \\; (A_{14} \\; * \\; 2) \\; + \\; A_{28}}{4 \\; + \\; 2 \\; + \\; 1}] * 100$$</h3>\n<h3 style=\"margin-top: 0px; margin-bottom: 0px\">$$\\text{where:}$$</h3>\n<h3 style=\"margin-top: 0px; margin-bottom: 0px\">$$UO = \\text{Ultimate Oscillator}$$</h3>\n<h3 style=\"margin-top: 0px; margin-bottom: 0px\">$$A_{i} = \\frac{\\sum_{i=1}^{n} BP}{\\sum_{i=1}^{n} TR}$$</h3>\n<h3 style=\"margin-top: 0px; margin-bottom: 0px\">$$\\text{Buying Pressure} \\; (BP) = Close - Min(Low; PC)$$</h3>\n<h3 style=\"margin-top: 0px; margin-bottom: 0px\">$$PC = \\text{Prior Close}$$</h3>\n<h3 style=\"margin-top: 0px; margin-bottom: 0px\">$$\\text{True Range} (TR) = Max(High; Prior \\; Close) - Min(Low; Prior \\; Close)$$</h3>"
      ]
    },
    {
      "cell_type": "markdown",
      "id": "72f0e32a-1000-48aa-b691-a1e0a23db1c7",
      "metadata": {},
      "outputs": [],
      "source": [
        "The description of function to calculate Ultimate Oscillator"
      ]
    },
    {
      "cell_type": "code",
      "id": "73f60c54-dfa3-42e2-b5d5-02efc59df1d5",
      "metadata": {},
      "outputs": [],
      "source": [
        "?talib.ULTOSC"
      ]
    },
    {
      "cell_type": "code",
      "id": "45c94863-0276-4341-8996-eb4ff6a1b7f2",
      "metadata": {},
      "outputs": [],
      "source": [
        "# Calculating tech indicators\ndf[\"MA\"] = talib.MA(df[\"close\"], timeperiod=29)\ndf[\"BBANDS_up\"], df[\"BBANDS_mid\"], df[\"BBANDS_low\"] = talib.BBANDS(df[\"close\"], timeperiod=29)\ndf[\"ULTOSC\"] = talib.ULTOSC(df[\"high\"], df[\"low\"], df[\"close\"], \n                            timeperiod1=7, timeperiod2=14, timeperiod3=28)\n\ndf[[\"MA\", \"BBANDS_up\", \"BBANDS_mid\", \"BBANDS_low\", \"ULTOSC\"]].tail()"
      ]
    },
    {
      "cell_type": "markdown",
      "id": "b41da8d9-ac1b-4860-9763-b22c1555ef51",
      "metadata": {},
      "outputs": [],
      "source": [
        "<div class=\"alert alert-danger alertdanger\" style=\"margin-top: 20px\">\n\n# **Question #4:**\n    \n**Drop rows that contains `NaN`'s and resample data to 15 minutes and then drop `NaN`'s again (because some data is missing for more than 15 minutes). Show the results**\n</div>\n"
      ]
    },
    {
      "cell_type": "code",
      "id": "165672eb-692a-433a-a002-1715e2e85123",
      "metadata": {},
      "outputs": [],
      "source": [
        "df = df.dropna()\ndf = df.resample(\"15min\").agg({\n    \"open\": \"first\",\n    \"high\": \"max\",\n    \"low\": \"min\",\n    \"close\": \"last\",\n    \"avg_price\": \"mean\",\n    \"volume\": \"sum\",\n    \"rec_count\": \"sum\",\n    \"MA\": \"mean\",\n    \"ULTOSC\": \"mean\",\n    \"BBANDS_up\": \"mean\",\n    \"BBANDS_mid\": \"mean\",\n    \"BBANDS_low\": \"mean\"\n})\ndf = df.dropna()\n\ndf.head()"
      ]
    },
    {
      "cell_type": "markdown",
      "id": "701ca6a5-fd69-474f-8a54-0960b4f0c5ca",
      "metadata": {},
      "outputs": [],
      "source": [
        "<div class=\"alert alert-danger alertdanger\" style=\"margin-top: 20px\">\n\n# **Question #5:**\n    \n**Add `NaN`'s to column \"open\" using `spoil_df` function and restore the data using `pchip` interpolation. Show the results**\n</div>"
      ]
    },
    {
      "cell_type": "code",
      "id": "75837d64-6f5e-4617-a9d8-cb4a9fd311b2",
      "metadata": {},
      "outputs": [],
      "source": [
        "def spoil_df(df: pd.DataFrame, cols: list = [\"open\"], p=0.1):\n    \"\"\"\n    This function sets the column element `cols` to NaN with probability 0.1\n    \n    parameters\n    ----------\n    df: pd.DataFrame\n        Dataframe to perform calculations on\n    cols: list\n        List of columns to set NaN's\n    \"\"\"\n    rng = np.random.default_rng(seed=42)\n    new_df = df.copy()\n    \n    for col in cols:\n        m = rng.random(len(df))\n        l1 = p\n        mask1 = m < l1 # NaN\n        new_df.loc[mask1, col] = np.NaN\n        \n    return new_df"
      ]
    },
    {
      "cell_type": "code",
      "id": "4a56c1af-f17a-4d6d-87ed-a3fcecda29ae",
      "metadata": {},
      "outputs": [],
      "source": [
        "df = spoil_df(df, [\"open\"], 0.1)\ndf[\"open\"] = df[\"open\"].interpolate(\"pchip\")\ndf.head()"
      ]
    },
    {
      "cell_type": "markdown",
      "id": "e7462ae0-f342-4cf1-92df-4e99920e02c8",
      "metadata": {},
      "outputs": [],
      "source": [
        "<div class=\"alert alert-danger alertdanger\" style=\"margin-top: 20px\">\n\n# **Question #6:**\n    \n**Find correlation between \"avg_price\" and technical indicators**\n</div>"
      ]
    },
    {
      "cell_type": "markdown",
      "id": "b3c5bbda-0fa3-436f-9281-845fc55a57d6",
      "metadata": {},
      "outputs": [],
      "source": [
        "## **Pearson Correlation**\n\nThe **Pearson Correlation** measures the linear dependence between two variables $X$ and $Y$. The Pearson correlation coefficient attempts to establish a line of best fit through a dataset of two variables by essentially laying out the expected values and the resulting Pearson's correlation coefficient indicates how far away the actual dataset is from the expected values. Depending on the sign of our Pearson's correlation coefficient, we can end up with either a negative or positive correlation if there is any sort of relationship between the variables of our data set.\n\nThe resulting coefficient is a value between -1 and 1 inclusive, where:\n\n- **1**: Perfect positive linear correlation.\n- **0**: No linear correlation, the two variables most likely do not affect each other.\n- **-1**: Perfect negative linear correlation."
      ]
    },
    {
      "cell_type": "markdown",
      "id": "23afcd2f-7040-441c-8576-be46d5bc7c54",
      "metadata": {},
      "outputs": [],
      "source": [
        "The population correlation coefficient $ \\rho_{X,Y}$ between two random variables $X$ and $Y$ with expected values $\\mu _{X}$ and $\\mu _{Y}$ and standard deviations $\\sigma _{X}$ and $\\sigma_Y$ is defined as:\n\n<center><h3>$\\rho_{X,Y} = \\operatorname{corr}(X, Y) = \\frac{\\operatorname{cov}(X,Y)}{\\sigma _{X} \\sigma_Y} = \\frac{\\operatorname{E}[(X \\; - \\; \\mu_{X})(Y \\; - \\; \\mu_{Y})]}{\\sigma _{X} \\sigma_Y}, \\quad \\text{if} \\; \\sigma_{X} \\sigma_Y > 0 $</h3></center>"
      ]
    },
    {
      "cell_type": "code",
      "id": "f7fc79f8-f895-422c-9f7d-8df22791558d",
      "metadata": {},
      "outputs": [],
      "source": [
        "df[[\"avg_price\", \"MA\", \"ULTOSC\", \"BBANDS_up\", \"BBANDS_mid\", \"BBANDS_low\"]].corr()"
      ]
    },
    {
      "cell_type": "markdown",
      "id": "f1eb20b1-d76c-4634-a904-000e604bdde2",
      "metadata": {},
      "outputs": [],
      "source": [
        "We can see that **\"BBANDS_mid\"** is equal to **\"MA\"** so we will use only **\"MA\"** for model training"
      ]
    },
    {
      "cell_type": "markdown",
      "id": "af086947-dd8a-488e-940b-56ae58228992",
      "metadata": {},
      "outputs": [],
      "source": [
        "<div class=\"alert alert-danger alertdanger\" style=\"margin-top: 20px\">\n\n# **Question #7:**\n    \n**Build MLR (Multiple Linear Regression) model using technical indicators as inputs and calculate $MSE$ and $R^2$. Show the results**\n    \n**Hint: use `mean_squared_error` and `score` functions**\n</div>"
      ]
    },
    {
      "cell_type": "markdown",
      "id": "55e71311-ec93-409b-940a-420111a4b9dd",
      "metadata": {},
      "outputs": [],
      "source": [
        "## **Mean Squared Error (MSE)**\n\nThe **Mean Squared Error** measures the average of the squares of errors. That is, the difference between actual value ($y$) and the estimated value ($\\widehat{y}$).\n\nThe formula of $MSE$"
      ]
    },
    {
      "cell_type": "markdown",
      "id": "01243fb8-e766-42e7-a8db-ab2b82a077ef",
      "metadata": {},
      "outputs": [],
      "source": [
        "<h3 style=\"margin-top: 0px; margin-bottom: 0px\">$$MSE = \\frac{1}{n}{\\sum_{i=1}^{n} (y_{i} - \\widehat{y_{i}})^2}$$</h3>\n<h3 style=\"margin-top: 0px; margin-bottom: 0px\">$$\\text{where:}$$</h3>\n<h3 style=\"margin-top: 0px; margin-bottom: 0px\">$$y_{i} = \\text{actual value}$$</h3>\n<h3 style=\"margin-top: 0px; margin-bottom: 0px\">$$\\widehat{y_{i}} = \\text{predicted value}$$</h3>\n<h3 style=\"margin-top: 0px; margin-bottom: 0px\">$$n = \\text{number of the samples}$$</h3>"
      ]
    },
    {
      "cell_type": "markdown",
      "id": "a3f10d02-ebca-4857-a022-b24bfc538ee8",
      "metadata": {},
      "outputs": [],
      "source": [
        "## **R-squared**\n\n**R squared**, also known as the coefficient of determination, is a measure to indicate how close the data is to the fitted regression line.\n\nThe value of the R-squared is the percentage of variation of the response variable ($y$) that is explained by a linear model.\n\n**R-squared** values range from 0 to 1 and are commonly stated as percentages from 0% to 100%. An R-squared of 100% means that all movements of a security (or another dependent variable) are completely explained by movements in the index (or the independent variable(s) you are interested in).\n\nIn finance, an **R-Squared** above 0.7 would generally be seen as showing a high level of correlation, whereas a measure below 0.4 would show a low correlation.\n\nThe formula of $R^2$"
      ]
    },
    {
      "cell_type": "markdown",
      "id": "3da56474-fc21-4deb-aa36-b1f4cb124e75",
      "metadata": {},
      "outputs": [],
      "source": [
        "<h3 style=\"margin-top: 0px; margin-bottom: 0px\">$$R^2 = 1 - \\frac{\\sum_{i=1}^{n}(y_{i}-\\widehat{y_{i}})^2}{\\sum_{i=1}^{n}(y_{i}-\\overline{y})^2}$$</h3>\n<h3 style=\"margin-top: 0px; margin-bottom: 0px\">$$\\text{where:}$$</h3>\n<h3 style=\"margin-top: 0px; margin-bottom: 0px\">$$y_{i} = \\text{actual value}$$</h3>\n<h3 style=\"margin-top: 0px; margin-bottom: 0px\">$$\\widehat{y_{i}} = \\text{predicted value}$$</h3>\n<h3 style=\"margin-top: 0px; margin-bottom: 0px\">$$\\overline{y} = \\text{mean value}$$</h3>\n<h3 style=\"margin-top: 0px; margin-bottom: 0px\">$$n = \\text{number of the samples}$$</h3>"
      ]
    },
    {
      "cell_type": "code",
      "id": "bddd6984-50e6-4a07-b2c5-3403a0f85357",
      "metadata": {},
      "outputs": [],
      "source": [
        "inputs = df[[\"MA\", \"ULTOSC\", \"BBANDS_up\", \"BBANDS_low\"]]\ny = df[\"avg_price\"]\n\nmlr = LinearRegression()\nmlr.fit(inputs, y)\ny_mlr = mlr.predict(inputs)\n\nmse = mean_squared_error(y, y_mlr)\nr2 = mlr.score(inputs, y)\n\nprint(\"MSE: %.7f\" % mse)\nprint(\"R-squared: %.7f\" % r2)"
      ]
    },
    {
      "cell_type": "markdown",
      "id": "8392b17e-9e8c-45d6-9095-1b0ab08984f4",
      "metadata": {},
      "outputs": [],
      "source": [
        "<div class=\"alert alert-danger alertdanger\" style=\"margin-top: 20px\">\n\n# **Question #8:**\n    \n**Split the dataset into train (80%) and test (20%), parameter `shuffle` set to False. Build 3 Ridge models with parameter alpha of (0.01, 0.1, 1) using technical indicators as inputs. Create a dict of the models (key should be equal to alpha) and calculate $MSE$ and $R^2$ on test data. Show the results**\n\n**Hint: use `train_test_split` function**\n</div>"
      ]
    },
    {
      "cell_type": "code",
      "id": "0980487d-9534-462a-9492-bea220a4eb0f",
      "metadata": {},
      "outputs": [],
      "source": [
        "alphas = [0.01, 0.1, 1]\nmodels = {}\nx_train, x_test, y_train, y_test = train_test_split(inputs, y, test_size=0.2, shuffle=False)\n\nfor alpha in alphas:\n    ridge = Ridge(alpha=alpha)\n    ridge.fit(x_train, y_train)\n    y_ridge = ridge.predict(x_test)\n\n    mse = mean_squared_error(y_test, y_ridge)\n    r2 = r2_score(y_test, y_ridge)\n    models[f\"{alpha}\"] = ridge\n    \n    print(f\"Alpha = {alpha}, MSE: %.7f\" % mse)\n    print(f\"Alpha = {alpha}, R-squared: %.7f\" % r2)"
      ]
    },
    {
      "cell_type": "markdown",
      "id": "4cc77cfb-3541-4f64-b9ba-2fdf4ae65c31",
      "metadata": {},
      "outputs": [],
      "source": [
        "<div class=\"alert alert-danger alertdanger\" style=\"margin-top: 20px\">\n    \n# **Question #9:**\n\n**Create a ridge model and perform Grid-Search with parameter alpha of (0.01, 0.1, 1) and `cv=5`. Train the model on train data obtained in Question #8. Calculate $R^2$ of the best model on test data. Show the results**\n</div>"
      ]
    },
    {
      "cell_type": "code",
      "id": "f2181491-b769-48eb-a90b-9d3c76e63070",
      "metadata": {},
      "outputs": [],
      "source": [
        "parameters = [{\"alpha\": [0.01, 0.1, 1]}]\nridge_model = Ridge()\n\ngrid = GridSearchCV(ridge_model, parameters, cv=5)\ngrid.fit(x_train, y_train)\nbest_rm = grid.best_estimator_\n\nprint(\"R^2 of the best model: %.4f\" % best_rm.score(x_test, y_test))"
      ]
    },
    {
      "cell_type": "markdown",
      "id": "b58d8b8c-c636-481c-af73-f8b7fea7970e",
      "metadata": {},
      "outputs": [],
      "source": [
        "<div class=\"alert alert-danger alertdanger\" style=\"margin-top: 20px\">\n    \n# **Question #10:**\n    \n**Calculate cross-validation score ($R^2$) using `cross_val_score` using previous models as the estimators, set parameter `cv=5`. Average the results and show them***\n</div>"
      ]
    },
    {
      "cell_type": "code",
      "id": "c82fb129-848c-40af-be4e-4b29fd83d5cc",
      "metadata": {},
      "outputs": [],
      "source": [
        "for model_alpha in models:\n    cv_score = cross_val_score(models[model_alpha], inputs, y, cv=5).mean()\n    print(f\"Cross-validation score for model with alpha = {model_alpha}: %.4f\" % cv_score)"
      ]
    },
    {
      "cell_type": "markdown",
      "id": "0f7b765b-40ca-4fb4-8352-721ec321ee38",
      "metadata": {},
      "outputs": [],
      "source": [
        "# **11. Sources**:\n\n<ul>\n    <li><a href=\"https://www.investopedia.com/terms/b/bollingerbands.asp\" target=\"_blank\">https://www.investopedia.com/terms/b/bollingerbands.asp</a></li>\n    <li><a href=\"https://www.investopedia.com/terms/m/movingaverage.asp\" target=\"_blank\">https://www.investopedia.com/terms/m/movingaverage.asp</a></li>\n    <li><a href=\"https://www.investopedia.com/terms/u/ultimateoscillator.asp\" target=\"_blank\">https://www.investopedia.com/terms/u/ultimateoscillator.asp</a></li>\n</ul>"
      ]
    },
    {
      "cell_type": "markdown",
      "id": "015d7b92-9aef-43dd-9f97-a2b1b495ce68",
      "metadata": {},
      "outputs": [],
      "source": [
        "# **Thank you for completing this lab!**\n\n## Author\n\n<a href=\"https://author.skills.network/instructors/borys_melnychuk\" target=\"_blank\" >Borys Melnychuk</a>\n\n<a href=\"https://author.skills.network/instructors/yaroslav_vyklyuk_2?utm_medium=Exinfluencer&utm_source=Exinfluencer&utm_content=000026UJ&utm_term=10006555&utm_id=NA-SkillsNetwork-Channel-SkillsNetworkGuidedProjectsIBMSkillsNetworkGPXX0QGDEN2306-2023-01-01\">Prof. Yaroslav Vyklyuk, DrSc, PhD</a>\n\n<a href=\"https://author.skills.network/instructors/mariya_fleychuk?utm_medium=Exinfluencer&utm_source=Exinfluencer&utm_content=000026UJ&utm_term=10006555&utm_id=NA-SkillsNetwork-Channel-SkillsNetworkGuidedProjectsIBMSkillsNetworkGPXX0QGDEN2306-2023-01-01\">Prof. Mariya Fleychuk, DrSc, PhD</a>\n\n\n\n## Change Log\n\n| Date (YYYY-MM-DD) | Version | Changed By      | Change Description                                         |\n| ----------------- | ------- | ----------------| ---------------------------------------------------------- |\n|     2023-04-01    |   1.0   | Borys Melnychuk | Creation of the lab                                        |\n\n<hr>\n\n## <h3 align=\"center\"> © IBM Corporation 2023. All rights reserved. </h3>\n"
      ]
    }
  ],
  "metadata": {
    "language_info": {
      "name": ""
    },
    "kernelspec": {
      "name": "",
      "display_name": ""
    }
  },
  "nbformat": 4,
  "nbformat_minor": 4
}