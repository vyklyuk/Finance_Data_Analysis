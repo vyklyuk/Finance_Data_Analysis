{
  "cells": [
    {
      "cell_type": "markdown",
      "id": "e40de8d9-6b38-44a8-98b5-cb7f610f1f89",
      "metadata": {},
      "outputs": [],
      "source": [
        "<center>\n    <img src=\"https://cf-courses-data.s3.us.cloud-object-storage.appdomain.cloud/assets/logos/SN_web_lightmode.png\" width=\"500\" alt=\"cognitiveclass.ai logo\"  />\n</center>\n\n# **Investigation of MATIC/BUSD exchange rate dynamic,  calculation and analysis of separate  technical financial indicators of cryptocurrency market (ATR, OBV, RSI, AD)**\n\n## **Lab 6. Final assignment**\n\n\nEstimated time needed: **2** hours\n\n## **Objectives**\n\nAfter completing this lab you will be able to:\n\n*   Be confident about your data analysis skills"
      ]
    },
    {
      "cell_type": "markdown",
      "id": "14107e90-9d88-41b0-b295-22766e2e457e",
      "metadata": {},
      "outputs": [],
      "source": [
        "## **Table of Contents**\n\n<div class=\"alert alert-block alert-info\" style=\"margin-top: 20px\">\n<ol>\n    <li>Question 1</li>\n    <li>Question 2</li>\n    <li>Question 3</li>\n    <ul>\n        <li>Bollinger Bands (BB)</li>\n        <li>Moving Average (MA)</li>\n        <li>Ultimate Oscillator (UO)</li>\n    </ul>\n    <li>Question 4</li>\n    <li>Question 5</li>\n    <li>Question 6</li>\n    <ul>\n        <li>Pearson Correlation</li>\n    </ul>\n    <li>Question 7</li>\n    <ul>\n        <li>Mean Squared Error (MSE)</li>\n        <li>R-squared</li>\n    </ul>\n    <li>Question 8</li>\n    <li>Question 9</li>\n    <li>Question 10</li>\n    <li>Sources</li>\n</ol>\n\n</div>\n\n<hr>\n"
      ]
    },
    {
      "cell_type": "markdown",
      "id": "0eaf64d3-6a86-4590-95d4-9bde6e1ca542",
      "metadata": {},
      "outputs": [],
      "source": [
        "## **Dataset Description**\n\n### **Files**\n* #### **MATICBUSD_trades_1m_preprocessed.csv** - the file contains historical changes of the pair **MATIC/BUSD** and ATR, OBV, RSI, AD indicators for the period from 11/11/2022 to 12/29/2022 with an aggregation time of 1 minute\n\n### **Columns**\n\n* #### `Ts` - the timestamp of the record\n* #### `Open` -  the price of the asset at the beginning of the trading period\n* #### `High` -  the highest price of the asset during the trading period\n* #### `Low` - the lowest price of the asset during the trading period.\n* #### `Close` - the price of the asset at the end of the trading period\n* #### `Volume` - the total number of shares or contracts of a particular asset that are traded during a given period\n* #### `Rec_count` -  the number of individual trades or transactions that have been executed during a given time period\n* #### `Avg_price` - the average price at which a particular asset has been bought or sold during a given period\n* #### `ATR` - average true range indicator\n* #### `OBV` - on-balance volume indicator\n* #### `RSI` - relative strength index indicator\n* #### `AD` - accumulation / distribution indicator"
      ]
    },
    {
      "cell_type": "code",
      "id": "6d545d58-e31b-4425-b588-8b0cee2bdc3a",
      "metadata": {},
      "outputs": [],
      "source": [
        "# install specific version of libraries used in lab\n# ! conda install -q -y pandas\n# ! conda install -q -y numpy\n! conda install -q -y -c anaconda scikit-learn\n! conda install -q -y -c conda-forge ta-lib"
      ]
    },
    {
      "cell_type": "code",
      "id": "0ed7fd61-fcc1-430f-bb5b-8e480fd47731",
      "metadata": {},
      "outputs": [],
      "source": [
        "import pandas as pd\nimport numpy as np\nimport talib\nfrom sklearn.linear_model import LinearRegression, Ridge\nfrom sklearn.metrics import mean_squared_error, r2_score\nfrom sklearn.model_selection import train_test_split, cross_val_score, GridSearchCV\n\npd.set_option(\"display.precision\", 4)\npd.options.display.float_format = \"{:.4f}\".format"
      ]
    },
    {
      "cell_type": "code",
      "id": "98c5cbe9-f0f8-48b9-8881-aa9fef3a38c2",
      "metadata": {},
      "outputs": [],
      "source": [
        "path = \"https://cf-courses-data.s3.us.cloud-object-storage.appdomain.cloud/IBMSkillsNetwork-GPXX03MTEN/MATICBUSD_trades_1m.csv\""
      ]
    },
    {
      "cell_type": "markdown",
      "id": "ccce2688-e897-45e6-b055-9b7d2d21b3f3",
      "metadata": {},
      "outputs": [],
      "source": [
        "<div class=\"alert alert-danger alertdanger\" style=\"margin-top: 20px\">\n    \n# **Question #1:**\n\n**Read the dataset with parameter `filepath_or_buffer` as `path`, parse column \"ts\" as datetime and set it as index. The dataset assign to variable `df`**\n</div>"
      ]
    },
    {
      "cell_type": "code",
      "id": "ea5b1bb7-5ca7-4bf9-a0e4-4b909818e1e2",
      "metadata": {},
      "outputs": [],
      "source": [
        "# Write your solution here\n"
      ]
    },
    {
      "cell_type": "markdown",
      "id": "1449e2e6-06eb-4998-901b-17150cb0c229",
      "metadata": {},
      "outputs": [],
      "source": [
        "<div class=\"alert alert-danger alertdanger\" style=\"margin-top: 20px\">\n    \n# **Question #2:**\n    \n**Show the first 5 rows of the dataset**\n\n</div>"
      ]
    },
    {
      "cell_type": "code",
      "id": "8189183c-9961-4cc7-adab-bb22aed7161c",
      "metadata": {},
      "outputs": [],
      "source": [
        "# Write your solution here\n"
      ]
    },
    {
      "cell_type": "markdown",
      "id": "5be3573a-2b59-4e51-84f4-d06a7504d0aa",
      "metadata": {},
      "outputs": [],
      "source": [
        "<div class=\"alert alert-danger alertdanger\" style=\"margin-top: 20px\">\n\n# **Question #3:**\n    \n**Calculate technicals indicators such as: Bollinger Bands (BB), Moving Average (MA), Ultimate Oscillator (UO) using library `talib` and append them to the dataset. Show the tail of the dataset**\n    \n**Hint: calculate BB and MA based on \"close\" column. Timeperiod for MA, BB = 29. Timeperiods for UO (`timeperiod1=7`, `timeperiod2=14`, `timeperiod3=28`)**\n</div>"
      ]
    },
    {
      "cell_type": "markdown",
      "id": "5fde749a-b25a-46d3-8db3-6b438192d373",
      "metadata": {},
      "outputs": [],
      "source": [
        "## **Bollinger Bands (BB)**\n\nA **Bollinger Band** is a technical analysis tool defined by a set of trendlines. They are plotted as two standard deviations, both positively and negatively, away from a **simple moving average** (**SMA**) of a security's price and can be adjusted to user preferences.\n\n**Bollinger Bands** was developed by technical trader John Bollinger and designed to give investors a higher probability of identifying when an asset is oversold or overbought. "
      ]
    },
    {
      "cell_type": "markdown",
      "id": "1485e9ae-0531-40f3-ac7d-9a153ee59cc4",
      "metadata": {},
      "outputs": [],
      "source": [
        "<center><img src=\"https://cf-courses-data.s3.us.cloud-object-storage.appdomain.cloud/IBMSkillsNetwork-GPXX03MTEN/dotdash_INV-final-Bollinger-Band-Definition-June-2021-01-518977e3031d405497003f1747a3c250.webp\" alt=\"bollinger-bands\" /></center>\n<center>The example of Bollinger Bands</center>"
      ]
    },
    {
      "cell_type": "markdown",
      "id": "557b9176-efa5-4289-b5d2-24fa27b40e25",
      "metadata": {},
      "outputs": [],
      "source": [
        "**Bollinger Bands Formula**:\n\n<h3 style=\"margin-top: 0px; margin-bottom: 0px\">$$BOLU = MA(TP,n) + m * \\sigma[TP,n]$$</h3>\n<h3 style=\"margin-top: 0px; margin-bottom: 0px\">$$BOLM = MA(TP,n)$$</h3>\n<h3 style=\"margin-top: 0px; margin-bottom: 0px\">$$BOLD = MA(TP,n) - m * \\sigma[TP,n]$$</h3>\n<h3 style=\"margin-top: 0px; margin-bottom: 0px\">$$\\text{where:}$$</h3>\n<h3 style=\"margin-top: 0px; margin-bottom: 0px\">$$BOLU = \\text{Upper Bollinger Band}$$</h3>\n<h3 style=\"margin-top: 0px; margin-bottom: 0px\">$$BOLM = \\text{Middle Bollinger Band}$$</h3>\n<h3 style=\"margin-top: 0px; margin-bottom: 0px\">$$BOLD = \\text{Lower Bollinger Band}$$</h3>\n<h3 style=\"margin-top: 0px; margin-bottom: 0px\">$$MA = \\text{Moving Average}$$</h3>\n<h3 style=\"margin-top: 0px; margin-bottom: 0px\">$$TP (\\text{typical price}) = \\frac{(High \\; + \\; Low \\; + \\; Close)}{3}$$</h3>\n<h3 style=\"margin-top: 0px; margin-bottom: 0px\">$$n = \\text{Number of days in smoothind period (typically 20)}$$</h3>\n<h3 style=\"margin-top: 0px; margin-bottom: 0px\">$$m = \\text{Number of standard deviations (typically 2)}$$</h3>\n<h3 style=\"margin-top: 0px; margin-bottom: 0px\">$$\\sigma[TP,n] = \\text{Standard Deviation over last} \\; n \\; \\text{periods of} \\; TP$$</h3>"
      ]
    },
    {
      "cell_type": "markdown",
      "id": "5ef4e435-6358-4fb8-b0e9-e60975b75409",
      "metadata": {},
      "outputs": [],
      "source": [
        "The description of function to calculate Bollinger Bands"
      ]
    },
    {
      "cell_type": "code",
      "id": "15932b67-04a8-4f72-acd8-21e43c764f9b",
      "metadata": {},
      "outputs": [],
      "source": [
        "?talib.BBANDS"
      ]
    },
    {
      "cell_type": "markdown",
      "id": "212f3421-50f8-431d-b4cf-11b1eed4faba",
      "metadata": {},
      "outputs": [],
      "source": [
        "## **Moving Average (MA)**\n\nIn finance, a **moving average** (**MA**) is a stock indicator commonly used in technical analysis. The reason for calculating the moving average of a stock is to help smooth out the price data by creating a constantly updated average price.\n\nBy calculating the **moving average**, the impacts of random, short-term fluctuations on the price of a stock over a specified time frame are mitigated. **Simple moving averages** (**SMAs**) use a simple arithmetic average of prices over some timespan, while **exponential moving averages** (**EMAs**) place greater weight on more recent prices than older ones over the time period. "
      ]
    },
    {
      "cell_type": "markdown",
      "id": "cf7ca827-ac58-41ae-8f84-8b65e36f249d",
      "metadata": {},
      "outputs": [],
      "source": [
        "<center><img src=\"https://cf-courses-data.s3.us.cloud-object-storage.appdomain.cloud/IBMSkillsNetwork-GPXX03MTEN/dotdash_INV-final-Simple-Moving-Average-SMA-May-2021-01-98751e52a2d844a795d8d11434852d7c.webp\" alt=\"simple-moving-average\" /></center>\n\n<center>The example of Simple Moving Average</center>"
      ]
    },
    {
      "cell_type": "markdown",
      "id": "0a1cdd53-9ab9-4aed-8503-dd801c44ab36",
      "metadata": {},
      "outputs": [],
      "source": [
        "**Simple Moving Average Formula**:\n\n<h3 style=\"margin-top: 0px; margin-bottom: 0px\">$$SMA = \\frac{1}{n} \\sum_{i}^{n} A_{i}$$</h3>\n<h3 style=\"margin-top: 0px; margin-bottom: 0px\">$$\\text{where:}$$</h3>\n<h3 style=\"margin-top: 0px; margin-bottom: 0px\">$$SMA = \\text{Simple Moving Average}$$</h3>\n<h3 style=\"margin-top: 0px; margin-bottom: 0px\">$$A = \\text{Average in period} \\; n$$</h3>\n<h3 style=\"margin-top: 0px; margin-bottom: 0px\">$$n = \\text{Number of time periods}$$</h3>"
      ]
    },
    {
      "cell_type": "markdown",
      "id": "f6d03450-7193-4137-8204-1cf0ea28c01c",
      "metadata": {},
      "outputs": [],
      "source": [
        "The description of function to calculate Moving Average"
      ]
    },
    {
      "cell_type": "code",
      "id": "6738f953-4063-4142-8d5d-4a39895e9e5c",
      "metadata": {},
      "outputs": [],
      "source": [
        "?talib.MA"
      ]
    },
    {
      "cell_type": "markdown",
      "id": "1d5cba74-480e-46fd-8c8e-144978c61519",
      "metadata": {},
      "outputs": [],
      "source": [
        "## **Ultimate Oscillator (UO)**\n\nThe **Ultimate Oscillator** is a technical indicator that was developed by Larry Williams in 1976 to measure the price momentum of an asset across multiple timeframes. By using the weighted average of three different timeframes the indicator has less volatility and fewer trade signals compared to other oscillators that rely on a single timeframe. Buy and sell signals are generated following divergences. The **Ultimately Oscillator** generates fewer divergence signals than other oscillators due to its multi-timeframe construction. "
      ]
    },
    {
      "cell_type": "markdown",
      "id": "68992f71-99fd-45dc-aec3-552ee7e602f7",
      "metadata": {},
      "outputs": [],
      "source": [
        "<center><img src=\"https://cf-courses-data.s3.us.cloud-object-storage.appdomain.cloud/IBMSkillsNetwork-GPXX03MTEN/UltimateOscillator-5c93b21dc9e77c0001faafcf.webp\" alt=\"ultimate-oscillator\" /></center>\n\n<center>The example of Ultimate Oscillator</center>"
      ]
    },
    {
      "cell_type": "markdown",
      "id": "708eae16-3650-4520-9104-5920c8679f27",
      "metadata": {},
      "outputs": [],
      "source": [
        "**Ultimate Oscillator Formula**:\n\n<h3 style=\"margin-top: 0px; margin-bottom: 0px\">$$UO = [\\frac{(A_{7} \\; * \\;4) \\; + \\; (A_{14} \\; * \\; 2) \\; + \\; A_{28}}{4 \\; + \\; 2 \\; + \\; 1}] * 100$$</h3>\n<h3 style=\"margin-top: 0px; margin-bottom: 0px\">$$\\text{where:}$$</h3>\n<h3 style=\"margin-top: 0px; margin-bottom: 0px\">$$UO = \\text{Ultimate Oscillator}$$</h3>\n<h3 style=\"margin-top: 0px; margin-bottom: 0px\">$$A_{i} = \\frac{\\sum_{i=1}^{n} BP}{\\sum_{i=1}^{n} TR}$$</h3>\n<h3 style=\"margin-top: 0px; margin-bottom: 0px\">$$\\text{Buying Pressure} \\; (BP) = Close - Min(Low; PC)$$</h3>\n<h3 style=\"margin-top: 0px; margin-bottom: 0px\">$$PC = \\text{Prior Close}$$</h3>\n<h3 style=\"margin-top: 0px; margin-bottom: 0px\">$$\\text{True Range} (TR) = Max(High; Prior \\; Close) - Min(Low; Prior \\; Close)$$</h3>"
      ]
    },
    {
      "cell_type": "markdown",
      "id": "1f4698dd-334e-44b1-8d22-bae84749f5c7",
      "metadata": {},
      "outputs": [],
      "source": [
        "The description of function to calculate Ultimate Oscillator"
      ]
    },
    {
      "cell_type": "code",
      "id": "eafa813c-08a6-4446-ab75-78885a51b07f",
      "metadata": {},
      "outputs": [],
      "source": [
        "?talib.ULTOSC"
      ]
    },
    {
      "cell_type": "code",
      "id": "e1b6bf3b-f56e-4d5a-8495-33b84623bbd4",
      "metadata": {},
      "outputs": [],
      "source": [
        "# Write your solution here\n"
      ]
    },
    {
      "cell_type": "markdown",
      "id": "e7a8e442-973e-4f75-876e-aa86eb538ec2",
      "metadata": {},
      "outputs": [],
      "source": [
        "<div class=\"alert alert-danger alertdanger\" style=\"margin-top: 20px\">\n\n# **Question #4:**\n    \n**Drop rows that contains `NaN`'s and resample data to 15 minutes and then drop `NaN`'s again (because some data is missing for more than 15 minutes). Show the results**\n</div>\n"
      ]
    },
    {
      "cell_type": "code",
      "id": "3223011a-0486-4159-84c5-2aed56fad673",
      "metadata": {},
      "outputs": [],
      "source": [
        "# Write your solution here\n"
      ]
    },
    {
      "cell_type": "markdown",
      "id": "5457b18d-2f92-4408-996e-24bc731de94d",
      "metadata": {},
      "outputs": [],
      "source": [
        "<div class=\"alert alert-danger alertdanger\" style=\"margin-top: 20px\">\n\n# **Question #5:**\n    \n**Add `NaN`'s to column \"open\" using `spoil_df` function and restore the data using `pchip` interpolation. Show the results**\n</div>"
      ]
    },
    {
      "cell_type": "code",
      "id": "ca8d5f71-aba2-4266-b6a7-a98ed312b74e",
      "metadata": {},
      "outputs": [],
      "source": [
        "def spoil_df(df: pd.DataFrame, cols: list = [\"open\"], p=0.1):\n    \"\"\"\n    This function sets the column element `cols` to NaN with probability 0.1\n    \n    parameters\n    ----------\n    df: pd.DataFrame\n        Dataframe to perform calculations on\n    cols: list\n        List of columns to set NaN's\n    \"\"\"\n    rng = np.random.default_rng(seed=42)\n    new_df = df.copy()\n    \n    for col in cols:\n        m = rng.random(len(df))\n        l1 = p\n        mask1 = m < l1 # NaN\n        new_df.loc[mask1, col] = np.NaN\n        \n    return new_df"
      ]
    },
    {
      "cell_type": "code",
      "id": "fce7251a-ec3b-4455-b0da-95e88ca52241",
      "metadata": {},
      "outputs": [],
      "source": [
        "# Write your solution here\n"
      ]
    },
    {
      "cell_type": "markdown",
      "id": "a6c4d03a-24f6-4c3f-99bb-44b0be267441",
      "metadata": {},
      "outputs": [],
      "source": [
        "<div class=\"alert alert-danger alertdanger\" style=\"margin-top: 20px\">\n\n# **Question #6:**\n    \n**Find correlation between \"avg_price\" and technical indicators**\n</div>"
      ]
    },
    {
      "cell_type": "markdown",
      "id": "cf62fd3f-c697-4355-a584-455d7ccbd11f",
      "metadata": {},
      "outputs": [],
      "source": [
        "## **Pearson Correlation**\n\nThe **Pearson Correlation** measures the linear dependence between two variables $X$ and $Y$. The Pearson correlation coefficient attempts to establish a line of best fit through a dataset of two variables by essentially laying out the expected values and the resulting Pearson's correlation coefficient indicates how far away the actual dataset is from the expected values. Depending on the sign of our Pearson's correlation coefficient, we can end up with either a negative or positive correlation if there is any sort of relationship between the variables of our data set.\n\nThe resulting coefficient is a value between -1 and 1 inclusive, where:\n\n- **1**: Perfect positive linear correlation.\n- **0**: No linear correlation, the two variables most likely do not affect each other.\n- **-1**: Perfect negative linear correlation."
      ]
    },
    {
      "cell_type": "markdown",
      "id": "76263aa2-6f62-4f5d-ad44-18cc8beb0a6c",
      "metadata": {},
      "outputs": [],
      "source": [
        "The population correlation coefficient $ \\rho_{X,Y}$ between two random variables $X$ and $Y$ with expected values $\\mu _{X}$ and $\\mu _{Y}$ and standard deviations $\\sigma _{X}$ and $\\sigma_Y$ is defined as:\n\n<center><h3>$\\rho_{X,Y} = \\operatorname{corr}(X, Y) = \\frac{\\operatorname{cov}(X,Y)}{\\sigma _{X} \\sigma_Y} = \\frac{\\operatorname{E}[(X \\; - \\; \\mu_{X})(Y \\; - \\; \\mu_{Y})]}{\\sigma _{X} \\sigma_Y}, \\quad \\text{if} \\; \\sigma_{X} \\sigma_Y > 0 $</h3></center>"
      ]
    },
    {
      "cell_type": "code",
      "id": "788dd8c6-a136-4c1e-a323-51a002679a8e",
      "metadata": {},
      "outputs": [],
      "source": [
        "# Write your solution here\n"
      ]
    },
    {
      "cell_type": "markdown",
      "id": "09d16d3a-d7e4-42e9-93aa-893a98c32d2b",
      "metadata": {},
      "outputs": [],
      "source": [
        "We can see that **\"BBANDS_mid\"** is equal to **\"MA\"** so we will use only **\"MA\"** for model training"
      ]
    },
    {
      "cell_type": "markdown",
      "id": "85789f1d-95c4-4a89-9f70-84e0a5b5425e",
      "metadata": {},
      "outputs": [],
      "source": [
        "<div class=\"alert alert-danger alertdanger\" style=\"margin-top: 20px\">\n\n# **Question #7:**\n    \n**Build MLR (Multiple Linear Regression) model using technical indicators as inputs and calculate $MSE$ and $R^2$. Show the results**\n    \n**Hint: use `mean_squared_error` and `score` functions**\n</div>"
      ]
    },
    {
      "cell_type": "markdown",
      "id": "e8261810-2c9f-4cbf-8835-b29749e545dd",
      "metadata": {},
      "outputs": [],
      "source": [
        "## **Mean Squared Error (MSE)**\n\nThe **Mean Squared Error** measures the average of the squares of errors. That is, the difference between actual value ($y$) and the estimated value ($\\widehat{y}$).\n\nThe formula of $MSE$"
      ]
    },
    {
      "cell_type": "markdown",
      "id": "72f7365f-e303-4e29-88b0-67977cf2506a",
      "metadata": {},
      "outputs": [],
      "source": [
        "<h3 style=\"margin-top: 0px; margin-bottom: 0px\">$$MSE = \\frac{1}{n}{\\sum_{i=1}^{n} (y_{i} - \\widehat{y_{i}})^2}$$</h3>\n<h3 style=\"margin-top: 0px; margin-bottom: 0px\">$$\\text{where:}$$</h3>\n<h3 style=\"margin-top: 0px; margin-bottom: 0px\">$$y_{i} = \\text{actual value}$$</h3>\n<h3 style=\"margin-top: 0px; margin-bottom: 0px\">$$\\widehat{y_{i}} = \\text{predicted value}$$</h3>\n<h3 style=\"margin-top: 0px; margin-bottom: 0px\">$$n = \\text{number of the samples}$$</h3>"
      ]
    },
    {
      "cell_type": "markdown",
      "id": "4830ae08-8440-4fba-a564-2bb93a841468",
      "metadata": {},
      "outputs": [],
      "source": [
        "## **R-squared**\n\n**R squared**, also known as the coefficient of determination, is a measure to indicate how close the data is to the fitted regression line.\n\nThe value of the R-squared is the percentage of variation of the response variable ($y$) that is explained by a linear model.\n\n**R-squared** values range from 0 to 1 and are commonly stated as percentages from 0% to 100%. An R-squared of 100% means that all movements of a security (or another dependent variable) are completely explained by movements in the index (or the independent variable(s) you are interested in).\n\nIn finance, an **R-Squared** above 0.7 would generally be seen as showing a high level of correlation, whereas a measure below 0.4 would show a low correlation.\n\nThe formula of $R^2$"
      ]
    },
    {
      "cell_type": "markdown",
      "id": "d520488f-06ba-4ed1-8521-6f2a46946593",
      "metadata": {},
      "outputs": [],
      "source": [
        "<h3 style=\"margin-top: 0px; margin-bottom: 0px\">$$R^2 = 1 - \\frac{\\sum_{i=1}^{n}(y_{i}-\\widehat{y_{i}})^2}{\\sum_{i=1}^{n}(y_{i}-\\overline{y})^2}$$</h3>\n<h3 style=\"margin-top: 0px; margin-bottom: 0px\">$$\\text{where:}$$</h3>\n<h3 style=\"margin-top: 0px; margin-bottom: 0px\">$$y_{i} = \\text{actual value}$$</h3>\n<h3 style=\"margin-top: 0px; margin-bottom: 0px\">$$\\widehat{y_{i}} = \\text{predicted value}$$</h3>\n<h3 style=\"margin-top: 0px; margin-bottom: 0px\">$$\\overline{y} = \\text{mean value}$$</h3>\n<h3 style=\"margin-top: 0px; margin-bottom: 0px\">$$n = \\text{number of the samples}$$</h3>"
      ]
    },
    {
      "cell_type": "code",
      "id": "6232836e-87bd-41bc-98dd-1bf12313f25c",
      "metadata": {},
      "outputs": [],
      "source": [
        "# Write your solution here\n"
      ]
    },
    {
      "cell_type": "markdown",
      "id": "1b11bd16-c0d6-4d10-8e11-d2b65da5bfe6",
      "metadata": {},
      "outputs": [],
      "source": [
        "<div class=\"alert alert-danger alertdanger\" style=\"margin-top: 20px\">\n\n# **Question #8:**\n    \n**Split the dataset into train (80%) and test (20%), parameter `shuffle` set to False. Build 3 Ridge models with parameter alpha of (0.01, 0.1, 1) using technical indicators as inputs. Create a dict of the models (key should be equal to alpha) and calculate $MSE$ and $R^2$ on test data. Show the results**\n\n**Hint: use `train_test_split` function**\n</div>"
      ]
    },
    {
      "cell_type": "code",
      "id": "caf7be49-9bd8-4332-b845-ec38f864d39d",
      "metadata": {},
      "outputs": [],
      "source": [
        "# Write your solution here\n"
      ]
    },
    {
      "cell_type": "markdown",
      "id": "e05e02c1-28b6-4dd8-be2d-ccf475a51d36",
      "metadata": {},
      "outputs": [],
      "source": [
        "<div class=\"alert alert-danger alertdanger\" style=\"margin-top: 20px\">\n    \n# **Question #9:**\n\n**Create a ridge model and perform Grid-Search with parameter alpha of (0.01, 0.1, 1) and `cv=5`. Train the model on train data obtained in Question #8. Calculate $R^2$ of the best model on test data. Show the results**\n</div>"
      ]
    },
    {
      "cell_type": "code",
      "id": "771e2c6c-a7c4-4729-9597-f1a77bdf4777",
      "metadata": {},
      "outputs": [],
      "source": [
        "# Write your solution here\n"
      ]
    },
    {
      "cell_type": "markdown",
      "id": "9f3e9141-a3d8-4730-8b43-c12efb57ba46",
      "metadata": {},
      "outputs": [],
      "source": [
        "<div class=\"alert alert-danger alertdanger\" style=\"margin-top: 20px\">\n    \n# **Question #10:**\n    \n**Calculate cross-validation score ($R^2$) using `cross_val_score` using previous models as the estimators, set parameter `cv=5`. Average the results and show them***\n</div>"
      ]
    },
    {
      "cell_type": "code",
      "id": "d8e3b0d1-6d0b-4c9d-9ca7-4d96e1509cce",
      "metadata": {},
      "outputs": [],
      "source": [
        "# Write your solution here\n"
      ]
    },
    {
      "cell_type": "markdown",
      "id": "8ccfd8b4-9e35-4278-9b5c-7240fdd4da7a",
      "metadata": {},
      "outputs": [],
      "source": [
        "# **11. Sources**:\n\n<ul>\n    <li><a href=\"https://www.investopedia.com/terms/b/bollingerbands.asp\" target=\"_blank\">https://www.investopedia.com/terms/b/bollingerbands.asp</a></li>\n    <li><a href=\"https://www.investopedia.com/terms/m/movingaverage.asp\" target=\"_blank\">https://www.investopedia.com/terms/m/movingaverage.asp</a></li>\n    <li><a href=\"https://www.investopedia.com/terms/u/ultimateoscillator.asp\" target=\"_blank\">https://www.investopedia.com/terms/u/ultimateoscillator.asp</a></li>\n</ul>"
      ]
    },
    {
      "cell_type": "markdown",
      "id": "994d3f2a-f268-4417-9333-082b0dad415d",
      "metadata": {},
      "outputs": [],
      "source": [
        "# **Thank you for completing this lab!**\n\n## Author\n\n<a href=\"https://author.skills.network/instructors/borys_melnychuk\" target=\"_blank\" >Borys Melnychuk</a>\n\n<a href=\"https://author.skills.network/instructors/yaroslav_vyklyuk_2?utm_medium=Exinfluencer&utm_source=Exinfluencer&utm_content=000026UJ&utm_term=10006555&utm_id=NA-SkillsNetwork-Channel-SkillsNetworkGuidedProjectsIBMSkillsNetworkGPXX0QGDEN2306-2023-01-01\">Prof. Yaroslav Vyklyuk, DrSc, PhD</a>\n\n<a href=\"https://author.skills.network/instructors/mariya_fleychuk?utm_medium=Exinfluencer&utm_source=Exinfluencer&utm_content=000026UJ&utm_term=10006555&utm_id=NA-SkillsNetwork-Channel-SkillsNetworkGuidedProjectsIBMSkillsNetworkGPXX0QGDEN2306-2023-01-01\">Prof. Mariya Fleychuk, DrSc, PhD</a>\n\n\n\n## Change Log\n\n| Date (YYYY-MM-DD) | Version | Changed By      | Change Description                                         |\n| ----------------- | ------- | ----------------| ---------------------------------------------------------- |\n|     2023-04-01    |   1.0   | Borys Melnychuk | Creation of the lab                                        |\n\n<hr>\n\n## <h3 align=\"center\"> © IBM Corporation 2023. All rights reserved. </h3>\n"
      ]
    }
  ],
  "metadata": {
    "language_info": {
      "name": ""
    },
    "kernelspec": {
      "name": "",
      "display_name": ""
    }
  },
  "nbformat": 4,
  "nbformat_minor": 4
}