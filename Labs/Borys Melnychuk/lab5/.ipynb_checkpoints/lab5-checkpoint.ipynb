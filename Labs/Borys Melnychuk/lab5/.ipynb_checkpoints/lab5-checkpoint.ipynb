{
  "cells": [
    {
      "cell_type": "markdown",
      "id": "f46f7a14-42a4-4bcb-bd42-eda5cec21221",
      "metadata": {},
      "outputs": [],
      "source": [
        "<center>\n    <img src=\"https://cf-courses-data.s3.us.cloud-object-storage.appdomain.cloud/assets/logos/SN_web_lightmode.png\" width=\"500\" alt=\"cognitiveclass.ai logo\"  />\n</center>\n\n#  **Investigation of MATIC/BUSD exchange rate dynamic,  calculation and analysis of separate  technical financial indicators of cryptocurrency market (ATR, OBV, RSI, AD)**\n\n## **Lab 5. Model Evaluation and Refinement**\n\n\nEstimated time needed: **30** minutes\n\n## **Objectives**\n\nAfter completing this lab you will be able to:\n\n*   Evaluate and refine prediction models\n*   Use Grid Search, Cross-Validation"
      ]
    },
    {
      "cell_type": "markdown",
      "id": "551c3df1-d572-40eb-b467-de4a4825e2f3",
      "metadata": {},
      "outputs": [],
      "source": [
        "## **Table of Contents**\n\n<div class=\"alert alert-block alert-info\" style=\"margin-top: 20px\">\n<ol>\n    <li>Import Data</li>\n    <li>Model Evaluation</li>\n    <ul>\n        <li>Functions for Plotting</li>\n        <li>Training and Testing</li>\n        <li>Cross-Validation</li>\n    </ul>\n    <li>Overfitting, Underfitting and Model Selection</li>\n    <ul>\n       <li>Overfitting</li> \n    </ul>\n    <li>Ridge Regression</li>\n    <li>Grid Search</li>\n    <li>Sources</li>\n</ol>\n\n</div>\n\n<hr>\n"
      ]
    },
    {
      "cell_type": "markdown",
      "id": "5f83654a-2d38-4330-b7cc-0daba50cd123",
      "metadata": {},
      "outputs": [],
      "source": [
        "## **Dataset Description**\n\n### **Files**\n* #### **MATICBUSD_trades_1m_preprocessed.csv** - the file contains historical changes of the pair **MATIC/BUSD** and ATR, OBV, RSI, AD indicators for the period from 11/11/2022 to 12/29/2022 with an aggregation time of 1 minute\n\n### **Columns**\n\n* #### `Ts` - the timestamp of the record\n* #### `Open` -  the price of the asset at the beginning of the trading period\n* #### `High` -  the highest price of the asset during the trading period\n* #### `Low` - the lowest price of the asset during the trading period.\n* #### `Close` - the price of the asset at the end of the trading period\n* #### `Volume` - the total number of shares or contracts of a particular asset that are traded during a given period\n* #### `Rec_count` -  the number of individual trades or transactions that have been executed during a given time period\n* #### `Avg_price` - the average price at which a particular asset has been bought or sold during a given period\n* #### `ATR` - average true range indicator\n* #### `OBV` - on-balance volume indicator\n* #### `RSI` - relative strength index indicator\n* #### `AD` - accumulation / distribution indicator"
      ]
    },
    {
      "cell_type": "markdown",
      "id": "83349d30-8750-42eb-8652-efcaa5295f91",
      "metadata": {},
      "outputs": [],
      "source": [
        "# **1. Import Data**"
      ]
    },
    {
      "cell_type": "markdown",
      "id": "a9e96f9a-d201-4ef6-be64-1930373748c8",
      "metadata": {},
      "outputs": [],
      "source": [
        "Run the following cell to install required libraries:\n"
      ]
    },
    {
      "cell_type": "code",
      "id": "6aa49977-5d51-4513-994c-2450973d4bdb",
      "metadata": {},
      "outputs": [],
      "source": [
        "# install specific version of libraries used in lab\n# ! conda install -q -y pandas\n! conda install -q -y numpy\n! conda install -q -y -c anaconda scikit-learn\n# ! conda install -q -y -c anaconda ipywidgets\n# ! conda install -q -y tqdm"
      ]
    },
    {
      "cell_type": "code",
      "id": "b7d7a984-37da-4055-928f-927d1008dc8c",
      "metadata": {},
      "outputs": [],
      "source": [
        "import pandas as pd\nimport numpy as np\nfrom ipywidgets import interact, interactive, fixed, interact_manual\n\nfrom sklearn.linear_model import LinearRegression, Ridge\nfrom sklearn.model_selection import cross_val_score, cross_val_predict, GridSearchCV, train_test_split\nfrom sklearn.preprocessing import PolynomialFeatures\nfrom sklearn.metrics import r2_score, mean_squared_error\nfrom sklearn import set_config\n\nimport matplotlib.pyplot as plt\nimport seaborn as sns\nfrom tqdm import tqdm\nimport warnings\n\nwarnings.filterwarnings(\"ignore\")\nset_config(\"diagram\")\n\n# setting hyperparameters\nWIDTH, HEIGHT = 12, 10"
      ]
    },
    {
      "cell_type": "markdown",
      "id": "9fe2ce67-85c9-4a5e-b1ec-be8c8946f005",
      "metadata": {},
      "outputs": [],
      "source": [
        "This dataset was hosted <a href=\"https://cf-courses-data.s3.us.cloud-object-storage.appdomain.cloud/IBMSkillsNetwork-GPXX08XFEN/MATICBUSD_trades_1m_preprocessed.csv\">HERE</a>\n"
      ]
    },
    {
      "cell_type": "code",
      "id": "e50a8245-417d-46cd-bbe9-953a411f6651",
      "metadata": {},
      "outputs": [],
      "source": [
        "path = \"https://cf-courses-data.s3.us.cloud-object-storage.appdomain.cloud/IBMSkillsNetwork-GPXX08XFEN/MATICBUSD_trades_1m_preprocessed.csv\""
      ]
    },
    {
      "cell_type": "markdown",
      "id": "0f0c1541-433d-4078-b099-3c4e6ac84d15",
      "metadata": {},
      "outputs": [],
      "source": [
        "Let's read and print the dataset"
      ]
    },
    {
      "cell_type": "code",
      "id": "586f923d-fd7f-4401-b379-5ce672945be0",
      "metadata": {},
      "outputs": [],
      "source": [
        "df = pd.read_csv(path)\ndf.head()"
      ]
    },
    {
      "cell_type": "markdown",
      "id": "97d9346b-2aef-4b78-a03e-de074eab1577",
      "metadata": {},
      "outputs": [],
      "source": [
        "We need to drop first 15 `NaN`'s"
      ]
    },
    {
      "cell_type": "code",
      "id": "dc1e4f64-5cc1-4a37-b97d-f7428b6452b3",
      "metadata": {},
      "outputs": [],
      "source": [
        "df = df.dropna()"
      ]
    },
    {
      "cell_type": "markdown",
      "id": "21a9deaa-b0ea-4fcc-98de-940ab908ca43",
      "metadata": {},
      "outputs": [],
      "source": [
        "# **2. Model evaluation**"
      ]
    },
    {
      "cell_type": "markdown",
      "id": "71c640ca-3146-4cff-b30c-e34a0f699a77",
      "metadata": {},
      "outputs": [],
      "source": [
        "## **Functions for Plotting**"
      ]
    },
    {
      "cell_type": "markdown",
      "id": "85226359-bbb0-4223-ae52-0703d0384242",
      "metadata": {},
      "outputs": [],
      "source": [
        "Let's define 2 functions: <code>dist_plot</code> (for plotting distributions) and <code>poly_plot</code> (for plotting Polynomial Regression)"
      ]
    },
    {
      "cell_type": "code",
      "id": "952264cf-969b-4886-bbe0-2b08778c6f93",
      "metadata": {},
      "outputs": [],
      "source": [
        "def dist_plot(y: pd.Series, y_pred: pd.Series, title: str) -> None:\n    \"\"\"\n    Plots distribution plot of `y` and `y_pred` with title = `title`\n    \n    Parameters\n    ----------\n    y: pd.Series\n        True values\n    y_pred: pd.Series\n        Predicted values\n    title: str\n        The title of plot\n    \"\"\"\n    plt.figure(figsize=(WIDTH, HEIGHT))\n    \n    temp_df = pd.DataFrame({\"y\": y, \"y_pred\": y_pred})\n    temp_df.plot.kde(figsize=(WIDTH, HEIGHT))\n\n    plt.title(title)\n    plt.xlabel(\"Price (in BUSD)\", labelpad=0.02)\n    plt.ylabel(\"Proportion\")\n\n    plt.show()"
      ]
    },
    {
      "cell_type": "code",
      "id": "beebafed-5c12-4d4b-a42f-578a053649f3",
      "metadata": {},
      "outputs": [],
      "source": [
        "def poly_plot(x_train: pd.Series, x_test: pd.Series, y_train: pd.Series, y_test: pd.Series, lr: LinearRegression, poly_transform: PolynomialFeatures, indicator: str) -> None:\n    \"\"\"\n    Plots plot of polynomial regression\n    \n    Parameters\n    ----------\n    x_train: pd.Series\n        Train x\n    x_test: pd.Series\n        Test x\n    y_train: pd.Series\n        Train y\n    y_test: pd.Series\n        Test y\n    lr: sklearn.linear_model.LinearRegression\n        Model of LinearRegression\n    pr: sklearn.preprocessing.PolynomialFeatures\n        Polynomial features\n    indicator: str\n        x-label\n    \"\"\"\n    plt.figure(figsize=(WIDTH, HEIGHT))\n \n    x_max = max([x_train.values.max(), x_test.values.max()])\n    x_min = min([x_train.values.min(), x_test.values.min()])\n    x = np.arange(x_min, x_max, 100)\n\n    plt.plot(x_train, y_train, \"ro\", label=\"Training Data\")\n    plt.plot(x_test, y_test, \"go\", label=\"Test Data\")\n    plt.plot(x, lr.predict(poly_transform.fit_transform(x.reshape(-1, 1))), label=\"Predicted Function\")\n    \n    plt.title(\"Plot of train, test data and predicted function\")\n    plt.xlabel(indicator)\n    plt.ylabel(\"Price\")\n    plt.legend()"
      ]
    },
    {
      "cell_type": "markdown",
      "id": "fef79659-2bcd-4a41-aa9d-0f6260e53fb5",
      "metadata": {},
      "outputs": [],
      "source": [
        "## **Training and Testing**\n\n<center>\n    <img src=\"https://cf-courses-data.s3.us.cloud-object-storage.appdomain.cloud/IBMSkillsNetwork-GPXX08XFEN/PartitionTwoSets.svg\" alt=\"train-test-dataset\" />\n</center>\n\n<center>We split the dataset into 2 parts. One for training, the other for testing</center>"
      ]
    },
    {
      "cell_type": "markdown",
      "id": "fd7fb6dd-eed0-4b9c-ac49-0ce7d694c4eb",
      "metadata": {},
      "outputs": [],
      "source": [
        "Splitting a dataset into **training** and **testing** datasets is a critical step in developing machine learning models. Here are some reasons why:\n\n1. Avoiding overfitting: Machine learning models aim to find patterns in data and learn from them. However, if the model becomes too complex, it may fit the training data too closely, capturing noise in the data rather than generalizing to new data. Splitting the dataset into training and testing sets allows us to assess whether the model is overfitting to the training data.\n\n2. Evaluating model performance: Splitting the dataset into training and testing sets allows us to evaluate the performance of the model on new, unseen data. By testing the model on the testing set, we can assess how well the model generalizes to new data and avoid overestimating the model's performance.\n\n3. Hyperparameter tuning: Splitting the dataset into training and validation sets allows us to tune the hyperparameters of the model. Hyperparameters are parameters that are not learned from the data but are set before training the model, such as the learning rate or the number of layers in a neural network. By evaluating the model's performance on the validation set, we can tune the hyperparameters to improve the model's performance."
      ]
    },
    {
      "cell_type": "markdown",
      "id": "5bad3071-fb80-4d54-abc8-c62f24a2e094",
      "metadata": {},
      "outputs": [],
      "source": [
        "**Overfitting** will be discussed a bit later. Let's assign target value to <code>y_data</code>"
      ]
    },
    {
      "cell_type": "code",
      "id": "cdadb092-1dc1-4699-b1df-f10e74b6b0d5",
      "metadata": {},
      "outputs": [],
      "source": [
        "y_data = df[\"Avg_price\"]"
      ]
    },
    {
      "cell_type": "markdown",
      "id": "b54da01b-d5a2-485d-8669-db73c8124aa2",
      "metadata": {},
      "outputs": [],
      "source": [
        "Drop price data in dataframe <code>x_data</code>:\n"
      ]
    },
    {
      "cell_type": "code",
      "id": "1c47c2ca-1c5d-46dd-b8ce-2a6b1e890266",
      "metadata": {},
      "outputs": [],
      "source": [
        "x_data = df.drop(\"Avg_price\", axis=1)"
      ]
    },
    {
      "cell_type": "markdown",
      "id": "232223da-a888-4e63-8790-4948fb04311c",
      "metadata": {},
      "outputs": [],
      "source": [
        "Now, we split our data into training and testing data using the function <code>train_test_split</code>. This function splits arrays or matrices into random train and test subsets.\n"
      ]
    },
    {
      "cell_type": "code",
      "id": "6c1c73cc-2078-4815-9f25-35c16bb10540",
      "metadata": {},
      "outputs": [],
      "source": [
        "x_train, x_test, y_train, y_test = train_test_split(x_data, y_data, test_size=0.10, shuffle=False)\n\nprint(\"Number of test samples :\", x_test.shape[0])\nprint(\"Number of training samples:\", x_train.shape[0])"
      ]
    },
    {
      "cell_type": "markdown",
      "id": "441b6a81-e34d-4a21-a93f-993453d999d4",
      "metadata": {},
      "outputs": [],
      "source": [
        "The <code>test_size</code> parameter sets the proportion of data that is split into the testing set. In the above, the testing set is 10% of the total dataset.\n"
      ]
    },
    {
      "cell_type": "markdown",
      "id": "a4e3ac0a-3ff2-4296-ae20-0cb8e9ef1a99",
      "metadata": {},
      "outputs": [],
      "source": [
        "<div class=\"alert alert-danger alertdanger\" style=\"margin-top: 20px\">\n\n# **Question  #1):**\n\n**Use the function `train_test_split` to split up the dataset such that 40% of the data samples will be utilized for testing and `shuffle=False`. Print the shape of train and test $x$**\n\n</div>\n"
      ]
    },
    {
      "cell_type": "code",
      "id": "84eef885-9787-401c-be77-aeadf25939af",
      "metadata": {},
      "outputs": [],
      "source": [
        "# Write your code below and press Shift+Enter to execute \n"
      ]
    },
    {
      "cell_type": "markdown",
      "id": "18c0fa94-9bf0-48c3-8fb1-22f97c381a64",
      "metadata": {},
      "outputs": [],
      "source": [
        "<details><summary>Click here for the solution</summary>\n\n```python\nx_train1, x_test1, y_train1, y_test1 = train_test_split(x_data, y_data, test_size=0.4, shuffle=False) \nprint(\"Number of test samples :\", x_test1.shape[0])\nprint(\"Number of training samples:\", x_train1.shape[0])\n```\n\n</details>\n"
      ]
    },
    {
      "cell_type": "markdown",
      "id": "c6afebd3-9d55-45f3-a982-b3b123d63642",
      "metadata": {},
      "outputs": [],
      "source": [
        "We create a Linear Regression object:\n"
      ]
    },
    {
      "cell_type": "code",
      "id": "8d10bad4-ff6e-447b-892e-1962dcec92bc",
      "metadata": {},
      "outputs": [],
      "source": [
        "lre = LinearRegression()\nlre"
      ]
    },
    {
      "cell_type": "markdown",
      "id": "9f187800-6602-408d-9b3c-f5554b4b6b99",
      "metadata": {},
      "outputs": [],
      "source": [
        "We fit the model using the feature **\"AD\"**:\n"
      ]
    },
    {
      "cell_type": "code",
      "id": "f4682247-12b7-498b-8f71-7674e2e10370",
      "metadata": {},
      "outputs": [],
      "source": [
        "lre.fit(x_train[[\"AD\"]], y_train)"
      ]
    },
    {
      "cell_type": "markdown",
      "id": "52d17493-649c-4cc1-859e-a1435a1c2551",
      "metadata": {},
      "outputs": [],
      "source": [
        "Let's calculate the $R^2$ on the test data:\n"
      ]
    },
    {
      "cell_type": "code",
      "id": "d3805a88-6e7e-491e-8578-ad42d0e78057",
      "metadata": {},
      "outputs": [],
      "source": [
        "lre.score(x_test[[\"AD\"]], y_test)"
      ]
    },
    {
      "cell_type": "markdown",
      "id": "0a699ad6-5c58-4da4-8490-3f362867d23a",
      "metadata": {},
      "outputs": [],
      "source": [
        "We can see the $R^2$ of the test dataset is negative. $R^2$ is negative only when the chosen model does not follow the trend of the data, so fits worse than a horizontal line   "
      ]
    },
    {
      "cell_type": "code",
      "id": "44f1ae5f-237a-456c-bbc1-6e575dd5a097",
      "metadata": {},
      "outputs": [],
      "source": [
        "lre.score(x_train[[\"AD\"]], y_train)"
      ]
    },
    {
      "cell_type": "markdown",
      "id": "b029212a-07a0-4c95-bcf8-d36704e81876",
      "metadata": {},
      "outputs": [],
      "source": [
        "As we cannot judge by $R^2$ let's calculate $MSE$ and compare them"
      ]
    },
    {
      "cell_type": "code",
      "id": "d1216747-f977-4cdc-845e-277a33e72bd2",
      "metadata": {},
      "outputs": [],
      "source": [
        "mean_squared_error(y_train, lre.predict(x_train[[\"AD\"]]))"
      ]
    },
    {
      "cell_type": "code",
      "id": "cb4d7c3a-25c9-437a-b267-60a6bf34f4a6",
      "metadata": {},
      "outputs": [],
      "source": [
        "mean_squared_error(y_test, lre.predict(x_test[[\"AD\"]]))"
      ]
    },
    {
      "cell_type": "markdown",
      "id": "e8985af1-2ef6-4dc1-ad7e-8a113f751a36",
      "metadata": {},
      "outputs": [],
      "source": [
        "$MSE$ calculated from the train dataset is half the $MSE$ calculated from the test dataset what means the loss of train dataset is less than test one"
      ]
    },
    {
      "cell_type": "markdown",
      "id": "e42c6764-c0ab-4868-90b5-df9c43277256",
      "metadata": {},
      "outputs": [],
      "source": [
        "<div class=\"alert alert-danger alertdanger\" style=\"margin-top: 20px\">\n\n# **Question  #2):**\n    \n**Split dataset (40% for testing, 60% for training, `shuffle=False`). Create LinearRegression `lre2` and train on the train data. Find the $R^2$ and $MSE$ on the test data using 40% of the dataset for testing.**\n    \n</div>\n"
      ]
    },
    {
      "cell_type": "code",
      "id": "27d64c77-d806-4092-a196-28f6278f6564",
      "metadata": {},
      "outputs": [],
      "source": [
        "# Write your code below and press Shift+Enter to execute \n"
      ]
    },
    {
      "cell_type": "markdown",
      "id": "73ad11f2-bf6c-46dc-b4c1-9036bdbfbe48",
      "metadata": {},
      "outputs": [],
      "source": [
        "<details><summary>Click here for the solution</summary>\n\n```python\nx_train2, x_test2, y_train2, y_test2 = train_test_split(x_data, y_data, test_size=0.4, shuffle=False)\nlre2 = LinearRegression()\nlre2.fit(x_train2[[\"AD\"]], y_train2)\nprint(f'R-squared: {lre2.score(x_test2[[\"AD\"]], y_test2)}, MSE: {mean_squared_error(y_test2, lre2.predict(x_test2[[\"AD\"]]) ) }')\n```\n\n</details>\n"
      ]
    },
    {
      "cell_type": "markdown",
      "id": "249f0223-4021-4669-9b03-da2c6cfedfb0",
      "metadata": {},
      "outputs": [],
      "source": [
        "Sometimes you do not have sufficient testing data; as a result, you may want to perform cross-validation. Let's go over several methods that you can use for cross-validation.\n"
      ]
    },
    {
      "cell_type": "markdown",
      "id": "7cbb8988-1ff8-43ac-babc-48b180b89cb2",
      "metadata": {},
      "outputs": [],
      "source": [
        "## **Cross-Validation**\n"
      ]
    },
    {
      "cell_type": "markdown",
      "id": "61992562-6595-4a13-937b-d389836ba2d8",
      "metadata": {},
      "outputs": [],
      "source": [
        "<center>\n    <img src=\"https://cf-courses-data.s3.us.cloud-object-storage.appdomain.cloud/IBMSkillsNetwork-GPXX08XFEN/1676051591395.jpg\" alt=\"cross-validation\" />\n</center>\n\n<center>The Example of 4-fold cross-validation</center>"
      ]
    },
    {
      "cell_type": "markdown",
      "id": "298f8c67-132f-4cff-9150-4ce65d49b1aa",
      "metadata": {},
      "outputs": [],
      "source": [
        "**Cross-validation**, sometimes called **rotation estimation** or **out-of-sample testing**, is any of various similar model validation techniques for assessing how the results of a statistical analysis will generalize to an independent data set. **Cross-validation** is a resampling method that uses different portions of the data to test and train a model on different iterations. \n\nIt is mainly used in settings where the goal is prediction, and one wants to estimate how accurately a predictive model will perform in practice. In a prediction problem, a model is usually given a dataset of known data on which training is run (training dataset), and a dataset of unknown data (or first seen data) against which the model is tested (called the validation dataset or testing set). \n\nThe goal of **cross-validation** is to test the model's ability to predict new data that was not used in estimating it, in order to flag problems like overfitting or selection bias and to give an insight on how the model will generalize to an independent dataset (i.e., an unknown dataset, for instance from a real problem)."
      ]
    },
    {
      "cell_type": "markdown",
      "id": "bc0a56d3-ff0e-4b2a-b5c4-7ee1596fd310",
      "metadata": {},
      "outputs": [],
      "source": [
        "We input the object, the feature (**\"AD\"**), and the target data (`y_data`). The parameter `cv` determines the number of folds. In this case, it is 4.\n"
      ]
    },
    {
      "cell_type": "code",
      "id": "c535ea69-4f22-4022-8494-3d9c80c17b1d",
      "metadata": {},
      "outputs": [],
      "source": [
        "R_cross = cross_val_score(lre, x_data[[\"AD\"]], y_data, cv=4, scoring=\"r2\")"
      ]
    },
    {
      "cell_type": "markdown",
      "id": "a6ce9d8f-1ef5-4b22-8704-4b1641336c19",
      "metadata": {},
      "outputs": [],
      "source": [
        "The default scoring is $R^2$ Each element in the array has the average $R^2$</sup> value for the fold:\n"
      ]
    },
    {
      "cell_type": "code",
      "id": "acc3d067-f03c-4670-b972-6c0bb5445e7b",
      "metadata": {},
      "outputs": [],
      "source": [
        "R_cross"
      ]
    },
    {
      "cell_type": "markdown",
      "id": "d723df23-d667-401f-9e21-a062ce0d6e4e",
      "metadata": {},
      "outputs": [],
      "source": [
        "Since the model predicts data badly we get negative $R^2$ score. We can calculate the average and standard deviation of our estimate:"
      ]
    },
    {
      "cell_type": "code",
      "id": "7719f028-b9ed-4dfb-856b-790a4f9c54b5",
      "metadata": {},
      "outputs": [],
      "source": [
        "print(\"The mean of the folds are\", R_cross.mean(), \"and the standard deviation is\", R_cross.std())"
      ]
    },
    {
      "cell_type": "markdown",
      "id": "2d14b8ad-00f7-4cbe-a1dd-84a66b19d8a7",
      "metadata": {},
      "outputs": [],
      "source": [
        "<div class=\"alert alert-danger alertdanger\" style=\"margin-top: 20px\">\n\n# **Question  #3):**\n\n**Calculate the average $R^2$ using two folds, then find the average $R^2$ for the second fold utilizing the \"AD\" feature:**\n    \n</div>\n"
      ]
    },
    {
      "cell_type": "code",
      "id": "272bc4b2-9021-4bf8-bac0-5c304147c823",
      "metadata": {},
      "outputs": [],
      "source": [
        "# Write your code below and press Shift+Enter to execute \n"
      ]
    },
    {
      "cell_type": "markdown",
      "id": "5f3ff17d-76b2-4b89-a7f2-debbd21a779b",
      "metadata": {},
      "outputs": [],
      "source": [
        "<details><summary>Click here for the solution</summary>\n\n```python\nR_cross_2 = cross_val_score(lre, x_data[[\"AD\"]], y_data, cv=2)\nR_cross_2.mean()\n\n```\n\n</details>\n"
      ]
    },
    {
      "cell_type": "markdown",
      "id": "72fde357-280e-4b92-a43a-7c403384fb00",
      "metadata": {},
      "outputs": [],
      "source": [
        "You can also use the function <code>cross_val_predict</code> to predict the output. The function splits up the data into the specified number of folds, with one fold for testing and the other folds are used for training. "
      ]
    },
    {
      "cell_type": "markdown",
      "id": "4e69369a-de9d-4517-907c-cc18fc50692e",
      "metadata": {},
      "outputs": [],
      "source": [
        "We input the object, the feature \"AD\", and the target data y_data. The parameter <code>cv</code> determines the number of folds. In this case, it is 4. We can produce an output:\n"
      ]
    },
    {
      "cell_type": "code",
      "id": "bf32970d-7df1-49d9-a6c6-c63ac05ab753",
      "metadata": {},
      "outputs": [],
      "source": [
        "y_cvp = cross_val_predict(lre, x_data[[\"AD\"]], y_data, cv=4)\ny_cvp[0:5]"
      ]
    },
    {
      "cell_type": "markdown",
      "id": "2d0086cb-ed2b-4fcd-ab12-ec2a43de7813",
      "metadata": {},
      "outputs": [],
      "source": [
        "Let's plot our predicted values and compare them to actual ones"
      ]
    },
    {
      "cell_type": "code",
      "id": "c022f17f-ac44-4c36-a5ba-7bbf918ac39c",
      "metadata": {},
      "outputs": [],
      "source": [
        "plt.figure(figsize=(WIDTH, HEIGHT))\nplt.plot(df[[\"AD\"]], y_data, label=\"Avg_price\")\nplt.plot(df[[\"AD\"]], y_cvp, label=\"Avg_price predicted\")\nplt.title(\"Plot of actual Avg_price vs predicted by cv\")\nplt.xlabel(\"AD\")\nplt.ylabel(\"Price (in BUSD)\")\nplt.legend()"
      ]
    },
    {
      "cell_type": "markdown",
      "id": "bb79f67f-0a93-4e67-97f0-3adab4958009",
      "metadata": {},
      "outputs": [],
      "source": [
        "How we can see our model predicts datapoints badly what we mentioned above"
      ]
    },
    {
      "cell_type": "markdown",
      "id": "af8378a9-ff11-4c6d-839c-9a228a740e98",
      "metadata": {},
      "outputs": [],
      "source": [
        "# **3. Overfitting, Underfitting and Model Selection**\n\nIt turns out that the test data, sometimes referred to as the \"out of sample data\", is a much better measure of how well your model performs in the real world.  One reason for this is overfitting.\n\nLet's go over some examples. It turns out these differences are more apparent in Multiple Linear Regression and Polynomial Regression so we will explore overfitting in that context.\n"
      ]
    },
    {
      "cell_type": "markdown",
      "id": "35a9699b-5267-4af1-8a11-eef3a085e241",
      "metadata": {},
      "outputs": [],
      "source": [
        "Let's create Multiple Linear Regression objects and train the model using **\"ATR\"**, **\"OBV\"**, **\"RSI\"**, **\"AD\"** as features.\n"
      ]
    },
    {
      "cell_type": "code",
      "id": "eaabf7fc-ad6a-4bb0-a020-9cedcb800f4e",
      "metadata": {},
      "outputs": [],
      "source": [
        "lr = LinearRegression()\nlr.fit(x_train[[\"ATR\", \"OBV\", \"RSI\", \"AD\"]], y_train)"
      ]
    },
    {
      "cell_type": "markdown",
      "id": "7d577884-0bf4-467f-b4a8-04254ff91f7d",
      "metadata": {},
      "outputs": [],
      "source": [
        "Prediction using training data:\n"
      ]
    },
    {
      "cell_type": "code",
      "id": "af181c67-29d3-4bf2-bce2-9406dd446f41",
      "metadata": {},
      "outputs": [],
      "source": [
        "y_lr_train = lr.predict(x_train[[\"ATR\", \"OBV\", \"RSI\", \"AD\"]])\ny_lr_train[0:5]"
      ]
    },
    {
      "cell_type": "markdown",
      "id": "31cb294f-945f-4ab3-808d-5e2e21b61fb2",
      "metadata": {},
      "outputs": [],
      "source": [
        "Prediction using test data:\n"
      ]
    },
    {
      "cell_type": "code",
      "id": "70dd3aa3-25d9-431a-a510-5778e7839d8d",
      "metadata": {},
      "outputs": [],
      "source": [
        "y_lr_test = lr.predict(x_test[[\"ATR\", \"OBV\", \"RSI\", \"AD\"]])\ny_lr_test[0:5]"
      ]
    },
    {
      "cell_type": "markdown",
      "id": "5103f1ec-f6bd-4246-a0f5-b42f76c8e8ed",
      "metadata": {},
      "outputs": [],
      "source": [
        "Let's perform some model evaluation using our training and testing data separately. Let's examine the distribution of the predicted values of the training data.\n"
      ]
    },
    {
      "cell_type": "code",
      "id": "c7431920-1b16-42f9-ac96-f460a4c25eb4",
      "metadata": {},
      "outputs": [],
      "source": [
        "title = \"Distribution plot of predicted values using training data\"\ndist_plot(y_train, y_lr_train, title)"
      ]
    },
    {
      "cell_type": "markdown",
      "id": "d881dffe-51fd-4103-a9fb-db4ec6fc0759",
      "metadata": {},
      "outputs": [],
      "source": [
        "**Figure 1:** Plot of predicted values using the training data compared to the actual values of the training data.\n"
      ]
    },
    {
      "cell_type": "markdown",
      "id": "20c436a3-366d-4829-9306-837a5df18ed3",
      "metadata": {},
      "outputs": [],
      "source": [
        "So far, the model seems to be doing well in learning from the training dataset. But what happens when the model encounters new data from the testing dataset? When the model generates new values from the test data, we see the distribution of the predicted values is much different from the actual target values.\n"
      ]
    },
    {
      "cell_type": "code",
      "id": "e3d02c79-d901-4dbb-8276-7119513c2742",
      "metadata": {},
      "outputs": [],
      "source": [
        "title = \"Distribution plot of predicted values using test data\"\ndist_plot(y_test, y_lr_test, title)"
      ]
    },
    {
      "cell_type": "markdown",
      "id": "eac8e307-d1ae-409a-adf6-c79b72a591bc",
      "metadata": {},
      "outputs": [],
      "source": [
        "**Figure 2:** Plot of predicted value using the test data compared to the actual values of the test data.\n"
      ]
    },
    {
      "cell_type": "markdown",
      "id": "224d35aa-1603-4b48-a79a-a2197a921bfd",
      "metadata": {},
      "outputs": [],
      "source": [
        "Comparing **Figure 1** and **Figure 2**, we can see that values in **Figure 1** are much closer than in **Figure 2**. This difference in **Figure 2** is apparent in the range of $(0.76; 0.81)$ and $(0.82; 0.85)$. This is where the shape of the distribution is a bit different. Let's see if polynomial regression also exhibits a drop in the prediction accuracy when analysing the test dataset.\n"
      ]
    },
    {
      "cell_type": "markdown",
      "id": "a9d08c69-77a0-4a53-9091-bfd4f058d611",
      "metadata": {},
      "outputs": [],
      "source": [
        "## **Overfitting**\n\n<center>\n    <img src=\"https://cf-courses-data.s3.us.cloud-object-storage.appdomain.cloud/IBMSkillsNetwork-GPXX08XFEN/6360ef2568a0381c60b26049_overfitting-and-underfitting-in-machine-learning-1.png\" alt=\"overfitting\" />\n</center>\n\n<center>The example of overfitting</center>"
      ]
    },
    {
      "cell_type": "markdown",
      "id": "eab0a608-b5e3-4ae4-8f55-d1a6acd323ed",
      "metadata": {},
      "outputs": [],
      "source": [
        "**Overfitting** is an undesirable machine learning behavior that occurs when the machine learning model gives accurate predictions for training data but not for new data. When data scientists use machine learning models for making predictions, they first train the model on a known data set. Then, based on this information, the model tries to predict outcomes for new data sets. An overfit model can give inaccurate predictions and cannot perform well for all types of new data.\n\n**Overfitting** occurs when the model fits the noise, but not the underlying process. Therefore, when testing your model using the test set, your model does not perform as well since it is modelling noise, not the underlying process that generated the relationship. Let's create a degree 5 polynomial model."
      ]
    },
    {
      "cell_type": "markdown",
      "id": "a084e297-8a25-4f00-963d-9610416eb52d",
      "metadata": {},
      "outputs": [],
      "source": [
        "Let's use 55 percent of the data for training and the rest for testing:\n"
      ]
    },
    {
      "cell_type": "code",
      "id": "7b96d7ba-445c-4c05-94c7-77fcebfeef46",
      "metadata": {},
      "outputs": [],
      "source": [
        "x_train, x_test, y_train, y_test = train_test_split(x_data, y_data, test_size=0.45, shuffle=False)"
      ]
    },
    {
      "cell_type": "markdown",
      "id": "085f1ba1-7f16-456d-aea6-183d25d10651",
      "metadata": {},
      "outputs": [],
      "source": [
        "We will perform a degree 5 polynomial transformation on the feature \"AD\".\n"
      ]
    },
    {
      "cell_type": "code",
      "id": "6385a2f5-4dfd-47fe-b392-f9d46248e35e",
      "metadata": {},
      "outputs": [],
      "source": [
        "pr = PolynomialFeatures(degree=5)\nx_train_pr = pr.fit_transform(x_train[[\"AD\"]])\nx_test_pr = pr.fit_transform(x_test[[\"AD\"]])\npr"
      ]
    },
    {
      "cell_type": "markdown",
      "id": "0e8f2d9b-7923-4a1a-a285-882e31008e60",
      "metadata": {},
      "outputs": [],
      "source": [
        "Now, let's create a Linear Regression model `poly` and train it.\n"
      ]
    },
    {
      "cell_type": "code",
      "id": "e8d6240a-fae9-4f0c-ad06-262daa87c964",
      "metadata": {},
      "outputs": [],
      "source": [
        "poly = LinearRegression()\npoly.fit(x_train_pr, y_train)"
      ]
    },
    {
      "cell_type": "markdown",
      "id": "741bc395-b28d-4e16-ae8f-a2ab88cc04e4",
      "metadata": {},
      "outputs": [],
      "source": [
        "We can see the output of our model using the method <code>predict</code>. We assign the values to `y_hat`.\n"
      ]
    },
    {
      "cell_type": "code",
      "id": "50fecbc7-a8c7-4200-8c80-238385fcb453",
      "metadata": {},
      "outputs": [],
      "source": [
        "y_poly = poly.predict(x_test_pr)\ny_poly[0:5]"
      ]
    },
    {
      "cell_type": "markdown",
      "id": "2682979a-647a-4bef-8b4b-3021cd983b52",
      "metadata": {},
      "outputs": [],
      "source": [
        "Let's take the first five predicted values and compare it to the actual targets.\n"
      ]
    },
    {
      "cell_type": "code",
      "id": "804fbab1-ffa2-4879-b3a8-4997a53c788b",
      "metadata": {},
      "outputs": [],
      "source": [
        "print(\"Predicted values:\", y_poly[0:4])\nprint(\"True values:\", y_test[0:4].values)"
      ]
    },
    {
      "cell_type": "markdown",
      "id": "370ede7d-818c-40f0-a4e0-6d181d4941a3",
      "metadata": {},
      "outputs": [],
      "source": [
        "We will use the function <code>poly_plot</code> that we defined at the beginning of the lab to display the training data, testing data, and the predicted function.\n"
      ]
    },
    {
      "cell_type": "code",
      "id": "094af308-07b0-4f44-98ac-fb198278302a",
      "metadata": {},
      "outputs": [],
      "source": [
        "poly_plot(x_train[[\"AD\"]], x_test[[\"AD\"]], y_train, y_test, poly, pr, \"AD\")"
      ]
    },
    {
      "cell_type": "markdown",
      "id": "86f7dfdd-9ec5-4ae1-a953-eca101db05cf",
      "metadata": {},
      "outputs": [],
      "source": [
        "**Figure 3:** A polynomial regression model where red dots represent training data, green dots represent test data, and the blue line represents the model prediction.\n"
      ]
    },
    {
      "cell_type": "markdown",
      "id": "bf6d505e-84cb-4a96-9b2d-e612ba8a91b4",
      "metadata": {},
      "outputs": [],
      "source": [
        "Let's calculate $R^2$ for train and test dataset"
      ]
    },
    {
      "cell_type": "markdown",
      "id": "ccfd5499-aa2d-4bb4-b120-e3da59776751",
      "metadata": {},
      "outputs": [],
      "source": [
        "$R^2$ of the training data:\n"
      ]
    },
    {
      "cell_type": "code",
      "id": "3d5b5e4c-bdee-4250-b80f-aca83f8e4647",
      "metadata": {},
      "outputs": [],
      "source": [
        "poly.score(x_train_pr, y_train)"
      ]
    },
    {
      "cell_type": "markdown",
      "id": "6aab3707-ccf8-447a-b0e0-c17f5b8dcb3f",
      "metadata": {},
      "outputs": [],
      "source": [
        "$R^2$ of the test data:\n"
      ]
    },
    {
      "cell_type": "code",
      "id": "17112d24-654e-435a-b240-2c97baaebe5b",
      "metadata": {},
      "outputs": [],
      "source": [
        "poly.score(x_test_pr, y_test)"
      ]
    },
    {
      "cell_type": "markdown",
      "id": "6d237140-a5f7-4e2f-bddf-086bbab1c28f",
      "metadata": {},
      "outputs": [],
      "source": [
        "We got negative $R^2$ score calculated from test dataset again. That means that our model predicts unseen datapoints not good"
      ]
    },
    {
      "cell_type": "markdown",
      "id": "8f32b95a-9cf0-4f87-aec7-727ffb244788",
      "metadata": {},
      "outputs": [],
      "source": [
        "Let's see how the $MSE$ changes on the test data for different order polynomials and then plot the results:\n"
      ]
    },
    {
      "cell_type": "code",
      "id": "00127c95-e2c3-4889-87c4-3eb304d7e54c",
      "metadata": {},
      "outputs": [],
      "source": [
        "mse_test = []\n\norder = [1, 2, 3, 4]\nfor n in order:\n    pr = PolynomialFeatures(degree=n)\n    x_train_pr = pr.fit_transform(x_train[[\"AD\"]])\n    x_test_pr = pr.fit_transform(x_test[[\"AD\"]])\n    \n    lrt = LinearRegression()\n    lrt.fit(x_train_pr, y_train)\n    \n    mse = mean_squared_error(y_test, lrt.predict(x_test_pr) )\n    mse_test.append(mse)\n\nplt.figure(figsize=(WIDTH, HEIGHT))\nplt.plot(order, mse_test)\nplt.xlabel(\"Order\")\nplt.ylabel(\"MSE\")\nplt.title(\"MSE using test data\")"
      ]
    },
    {
      "cell_type": "markdown",
      "id": "9089c989-46c3-4028-8b19-64df58854378",
      "metadata": {},
      "outputs": [],
      "source": [
        "We see with increasing order of polynomial $MSE$ increases as well\n"
      ]
    },
    {
      "cell_type": "markdown",
      "id": "d9ad4716-6f7b-4a88-805a-43a820ac6b3c",
      "metadata": {},
      "outputs": [],
      "source": [
        "The following function will be used in the next section. Please run the cell below.\n"
      ]
    },
    {
      "cell_type": "code",
      "id": "89bd5569-d62b-441d-8c56-4b0074248223",
      "metadata": {},
      "outputs": [],
      "source": [
        "def f(order: tuple, test_size: tuple, indicator: str) -> None:\n    \"\"\"\n    Plots train, test data and predicted function with test_size = `test_size` and order = `order`\n    \n    Parameters\n    ----------\n    order: tuple\n        Tuple of orders\n    test_size: tuple\n        Tuple of test sizes\n    indicator: str\n        The indicator\n    \"\"\"\n    x_train, x_test, y_train, y_test = train_test_split(x_data, y_data, test_size=test_size, shuffle=False)\n    pr = PolynomialFeatures(degree=order)\n    x_train_pr = pr.fit_transform(x_train[[\"AD\"]])\n    x_test_pr = pr.fit_transform(x_test[[\"AD\"]])\n    \n    poly = LinearRegression()\n    poly.fit(x_train_pr, y_train)\n    \n    poly_plot(x_train[[\"AD\"]], x_test[[\"AD\"]], y_train, y_test, poly, pr, indicator)\n    plt.show()"
      ]
    },
    {
      "cell_type": "markdown",
      "id": "38a2344d-6480-4c98-8119-9fb10ea8c110",
      "metadata": {},
      "outputs": [],
      "source": [
        "The following interface allows you to experiment with different polynomial orders and different amounts of data.\n"
      ]
    },
    {
      "cell_type": "code",
      "id": "2e324b86-5680-483c-9e8c-1f490d303f0a",
      "metadata": {},
      "outputs": [],
      "source": [
        "interact(f, order=(0, 6, 1), test_size=(0.05, 0.95, 0.05), indicator=\"AD\")"
      ]
    },
    {
      "cell_type": "markdown",
      "id": "f67056c5-d630-4a51-92b4-2ae17c4d0558",
      "metadata": {},
      "outputs": [],
      "source": [
        "We can move this slider and change the order and we will see how our predicted function changes. As we increase order out function gets complicated. As we increase <code>test_size</code> number of red increases"
      ]
    },
    {
      "cell_type": "markdown",
      "id": "e913e212-9b42-470b-bc5a-25c659330168",
      "metadata": {},
      "outputs": [],
      "source": [
        "<div class=\"alert alert-danger alertdanger\" style=\"margin-top: 20px\">\n    \n# **Question  #4 a):**\n\n**We can perform polynomial transformations with more than one feature. Create a `PolynomialFeatures` object `pr1` of degree two.**\n\n</div>\n"
      ]
    },
    {
      "cell_type": "code",
      "id": "dfebb025-510a-4d0c-834f-b4e9c8a681cf",
      "metadata": {},
      "outputs": [],
      "source": [
        "# Write your code below and press Shift+Enter to execute \n"
      ]
    },
    {
      "cell_type": "markdown",
      "id": "54ede4c9-96b2-4b54-b8ba-4ed876fe37b6",
      "metadata": {},
      "outputs": [],
      "source": [
        "<details><summary>Click here for the solution</summary>\n\n```python\npr1 = PolynomialFeatures(degree=2)\n\n```\n\n</details>\n"
      ]
    },
    {
      "cell_type": "markdown",
      "id": "ccad4278-b22c-4470-8df6-534a501d0d5e",
      "metadata": {},
      "outputs": [],
      "source": [
        "<div class=\"alert alert-danger alertdanger\" style=\"margin-top: 20px\">\n    \n# **Question  #4 b):**\n\n**Transform the training and testing samples for the features \"ATR\", \"OBV\", \"RSI\", \"AD\". Hint: use the method `fit_transform`**\n</div>\n"
      ]
    },
    {
      "cell_type": "code",
      "id": "49e01120-c21e-4d8a-a2bd-2fe3c2e3e1d0",
      "metadata": {},
      "outputs": [],
      "source": [
        "# Write your code below and press Shift+Enter to execute \n"
      ]
    },
    {
      "cell_type": "markdown",
      "id": "becf16f6-5d4a-4a93-9fc0-84f074eb13db",
      "metadata": {},
      "outputs": [],
      "source": [
        "<details><summary>Click here for the solution</summary>\n\n```python\nx_train_pr1 = pr1.fit_transform(x_train[[\"ATR\", \"OBV\", \"RSI\", \"AD\"]])\nx_test_pr1 = pr1.fit_transform(x_test[[\"ATR\", \"OBV\", \"RSI\", \"AD\"]])\n\n\n```\n\n</details>\n"
      ]
    },
    {
      "cell_type": "markdown",
      "id": "63e771d0-9fb6-4e37-b827-dd64c162d3d5",
      "metadata": {},
      "outputs": [],
      "source": [
        "<!-- The answer is below:\n\nx_train_pr1=pr.fit_transform(x_train[['horsepower', 'curb-weight', 'engine-size', 'highway-mpg']])\nx_test_pr1=pr.fit_transform(x_test[['horsepower', 'curb-weight', 'engine-size', 'highway-mpg']])\n\n-->\n"
      ]
    },
    {
      "cell_type": "markdown",
      "id": "82d78b0b-f3ee-41d4-b927-f54592beb2d2",
      "metadata": {},
      "outputs": [],
      "source": [
        "<div class=\"alert alert-danger alertdanger\" style=\"margin-top: 20px\">\n    \n# **Question  #4 c):**\n\n**How many dimensions does the new feature have?**\n\n**Hint: use the attribute `.shape`.**\n    \n</div>\n"
      ]
    },
    {
      "cell_type": "code",
      "id": "30e677b8-cf56-47e3-a579-c9846a01f10c",
      "metadata": {},
      "outputs": [],
      "source": [
        "# Write your code below and press Shift+Enter to execute \n"
      ]
    },
    {
      "cell_type": "markdown",
      "id": "bf3e648e-6ca7-4b0b-b1d7-1705e0d0819e",
      "metadata": {},
      "outputs": [],
      "source": [
        "<details><summary>Click here for the solution</summary>\n\n```python\n# there are now 15 features\nx_train_pr1.shape\n```\n\n</details>\n"
      ]
    },
    {
      "cell_type": "markdown",
      "id": "f454e5f9-32ea-498f-8911-75bc16451df3",
      "metadata": {},
      "outputs": [],
      "source": [
        "<div class=\"alert alert-danger alertdanger\" style=\"margin-top: 20px\">\n    \n# **Question  #4 d):**\n\n**Create a linear regression model `poly1`. Train the object using the method `fit` using the polynomial features.**\n    \n</div>\n"
      ]
    },
    {
      "cell_type": "code",
      "id": "37b30106-b00f-44d5-a3fc-a0e7a8164507",
      "metadata": {},
      "outputs": [],
      "source": [
        "# Write your code below and press Shift+Enter to execute \n"
      ]
    },
    {
      "cell_type": "markdown",
      "id": "5da6005e-38ba-46ee-92ab-0696844e7a38",
      "metadata": {},
      "outputs": [],
      "source": [
        "<details><summary>Click here for the solution</summary>\n\n```python\npoly1 = LinearRegression()\npoly1.fit(x_train_pr1, y_train)\n```\n\n</details>\n"
      ]
    },
    {
      "cell_type": "markdown",
      "id": "5b045c1b-614a-4516-b547-5223b1df3f94",
      "metadata": {},
      "outputs": [],
      "source": [
        "<div class=\"alert alert-danger alertdanger\" style=\"margin-top: 20px\">\n    \n# **Question  #4 e):**\n    \n**Use the method  `predict` to predict an output on the polynomial features, then use the function `dist_plot` to display the distribution of the predicted test output vs the actual test data.**\n    \n</div>\n"
      ]
    },
    {
      "cell_type": "code",
      "id": "94b53169-f089-4e67-acd7-eb65cfd9d389",
      "metadata": {},
      "outputs": [],
      "source": [
        "# Write your code below and press Shift+Enter to execute \n"
      ]
    },
    {
      "cell_type": "markdown",
      "id": "9df2390e-120c-42fe-b2d3-4513ac71b4e3",
      "metadata": {},
      "outputs": [],
      "source": [
        "<details><summary>Click here for the solution</summary>\n\n```python\ny_poly1 = poly1.predict(x_test_pr1)\n\ntitle = \"Distribution plot of predicted values using test data\"\n\ndist_plot(y_test, y_poly1, title)\n\n```\n\n</details>\n"
      ]
    },
    {
      "cell_type": "markdown",
      "id": "0957f8ad-bb0a-459d-afe2-73e94f2ac60f",
      "metadata": {},
      "outputs": [],
      "source": [
        "<div class=\"alert alert-danger alertdanger\" style=\"margin-top: 20px\">\n\n# **Question  #4 f):**\n\n**Using the distribution plot above, describe (in words) the two regions where the predicted prices are less accurate than the actual prices.**\n\n</div>\n"
      ]
    },
    {
      "cell_type": "code",
      "id": "41dd9df1-70e5-4b76-9a84-282a4d4db1d4",
      "metadata": {},
      "outputs": [],
      "source": [
        "# Write your code below and press Shift+Enter to execute \n"
      ]
    },
    {
      "cell_type": "markdown",
      "id": "8cffa7ba-683c-4e69-afd5-164a8ef2549c",
      "metadata": {},
      "outputs": [],
      "source": [
        "<details><summary>Click here for the solution</summary>\n\n```python\n# 1. 0.75 - 0.81 We see how `y_pred` is much lower than `y`\n# 2. 0.81 - 0.89 `y_pred` increased too much\n```\n\n</details>\n"
      ]
    },
    {
      "cell_type": "markdown",
      "id": "61b14a49-da24-44e8-8889-231f84977589",
      "metadata": {},
      "outputs": [],
      "source": [
        "# **4. Ridge Regression**\n"
      ]
    },
    {
      "cell_type": "markdown",
      "id": "8b8617dc-4a0e-45ee-9226-65f04e997746",
      "metadata": {},
      "outputs": [],
      "source": [
        "**Ridge regression** is a method of estimating the coefficients of multiple-regression models in scenarios where the independent variables are highly correlated. It has been used in many fields including econometrics, chemistry, and engineering. Also known as Tikhonov regularization, named for Andrey Tikhonov, it is a method of regularization of ill-posed problems. It is particularly useful to mitigate the problem of multicollinearity in linear regression, which commonly occurs in models with large numbers of parameters. In general, the method provides improved efficiency in parameter estimation problems in exchange for a tolerable amount of bias (see bias–variance tradeoff).\n\n\nIn this section, we will review Ridge Regression and see how the parameter alpha changes the model. Just a note, here our test data will be used as validation data.\n"
      ]
    },
    {
      "cell_type": "markdown",
      "id": "ec493e5f-d16d-4921-ad34-ba4fea2907ef",
      "metadata": {},
      "outputs": [],
      "source": [
        "Let's perform a degree two polynomial transformation on our data.\n"
      ]
    },
    {
      "cell_type": "code",
      "id": "d6da8a56-93e3-476a-8b36-49c38297fc0d",
      "metadata": {},
      "outputs": [],
      "source": [
        "pr = PolynomialFeatures(degree=2)\nx_train_pr = pr.fit_transform(x_train[[\"ATR\", \"OBV\", \"RSI\", \"AD\"]])\nx_test_pr = pr.fit_transform(x_test[[\"ATR\", \"OBV\", \"RSI\", \"AD\"]])"
      ]
    },
    {
      "cell_type": "markdown",
      "id": "71587209-9bbc-401e-abeb-7e6aeac32ed0",
      "metadata": {},
      "outputs": [],
      "source": [
        "Let's create a <code>Ridge</code> regression object, setting the regularization parameter (alpha) to 1\n"
      ]
    },
    {
      "cell_type": "code",
      "id": "a1976f06-c7be-4a0d-96eb-5b0c4f219621",
      "metadata": {},
      "outputs": [],
      "source": [
        "rm = Ridge(alpha=1)"
      ]
    },
    {
      "cell_type": "markdown",
      "id": "074df9ac-16a2-4f8b-96ea-561cbab673b2",
      "metadata": {},
      "outputs": [],
      "source": [
        "Like regular regression, you can fit the model using the method <code>fit</code>\n"
      ]
    },
    {
      "cell_type": "code",
      "id": "c5c205fc-5955-4cc1-a933-516e8e5c8c44",
      "metadata": {},
      "outputs": [],
      "source": [
        "rm.fit(x_train_pr, y_train)"
      ]
    },
    {
      "cell_type": "markdown",
      "id": "c9e2766d-8458-4fc8-9aba-42dd2741c4f0",
      "metadata": {},
      "outputs": [],
      "source": [
        "Similarly, you can obtain a prediction:\n"
      ]
    },
    {
      "cell_type": "code",
      "id": "cdc22ea1-dfed-4df2-85e6-862f5442ad1d",
      "metadata": {},
      "outputs": [],
      "source": [
        "y_pr = rm.predict(x_test_pr)"
      ]
    },
    {
      "cell_type": "markdown",
      "id": "80971959-e557-47f9-b643-276203629ba7",
      "metadata": {},
      "outputs": [],
      "source": [
        "Let's compare the first five predicted samples to our test set:\n"
      ]
    },
    {
      "cell_type": "code",
      "id": "eb498ca5-91ea-4579-ab4e-662651acedfc",
      "metadata": {},
      "outputs": [],
      "source": [
        "print(\"Predicted:\", y_pr[0:4])\nprint(\"Test set :\", y_test[0:4].values)"
      ]
    },
    {
      "cell_type": "markdown",
      "id": "31a13565-cd6a-40f2-bd87-b5b544850b14",
      "metadata": {},
      "outputs": [],
      "source": [
        "We select the value of alpha that minimizes the test error. To do so, we can use a for loop. We have also created a progress bar to see how many iterations we have completed so far.\n"
      ]
    },
    {
      "cell_type": "code",
      "id": "141a71c6-94b8-4a5e-818f-ba0cc0739dd4",
      "metadata": {},
      "outputs": [],
      "source": [
        "R_squared_test = []\nR_squared_train = []\n\nalphas = np.array(range(0, 5))\npbar = tqdm(alphas)\n\nfor alpha in pbar:\n    ridge_model = Ridge(alpha=alpha) \n    ridge_model.fit(x_train_pr, y_train)\n    test_score, train_score = ridge_model.score(x_test_pr, y_test), ridge_model.score(x_train_pr, y_train)\n    \n    pbar.set_postfix({\"Test Score\": test_score, \"Train Score\": train_score})\n\n    R_squared_test.append(test_score)\n    R_squared_train.append(train_score)"
      ]
    },
    {
      "cell_type": "markdown",
      "id": "33a9e038-9efb-4e6c-92e6-23a7e5ccec93",
      "metadata": {},
      "outputs": [],
      "source": [
        "We can plot out the value of $R^2$ for different alphas:\n"
      ]
    },
    {
      "cell_type": "code",
      "id": "a09a3da6-97af-4e59-8aab-5dc3e6ad314c",
      "metadata": {},
      "outputs": [],
      "source": [
        "plt.figure(figsize=(WIDTH, HEIGHT))\nplt.plot(alphas, R_squared_test, label=\"validation data\")\nplt.plot(alphas, R_squared_train, \"r\", label=\"training Data\")\nplt.title(\"Plot of Alpha vs R-squared\")\nplt.xlabel(\"Alpha\")\nplt.ylabel(\"R-squared\")\nplt.legend()"
      ]
    },
    {
      "cell_type": "markdown",
      "id": "3bf5ec14-9c44-4f0d-b8da-2cf0fe99c174",
      "metadata": {},
      "outputs": [],
      "source": [
        "**Figure 4:** The blue line represents the $R^2$ of the validation data, and the red line represents the $R^2$ of the training data. We see an improvement when order gets 1 but $R^2$ remains the same after that. The x-axis represents the different values of alphas.\n"
      ]
    },
    {
      "cell_type": "markdown",
      "id": "c195b3e5-fb7d-4f77-969e-b67fd0c832b9",
      "metadata": {},
      "outputs": [],
      "source": [
        "Here the model is built and tested on the same data, so the training and test data are the same.\n\nThe red line in **Figure 4** represents the $R^2$ of the training data. $R^2$ remains the same over alpha from 0 to 4\n"
      ]
    },
    {
      "cell_type": "markdown",
      "id": "95eb41eb-d1b2-48c7-abcb-021671d40e42",
      "metadata": {},
      "outputs": [],
      "source": [
        "<div class=\"alert alert-danger alertdanger\" style=\"margin-top: 20px\">\n\n# **Question  #5):**\n\n**Perform Ridge regression. Calculate the $R^2$ using the polynomial features, use the training data to train the model and use the test data to test the model. The parameter alpha should be set to 10.**\n\n</div>\n"
      ]
    },
    {
      "cell_type": "code",
      "id": "0d96c2b9-849d-424e-be46-fefab3a6c7e6",
      "metadata": {},
      "outputs": [],
      "source": [
        "# Write your code below and press Shift+Enter to execute \n"
      ]
    },
    {
      "cell_type": "markdown",
      "id": "b6187079-9195-4a49-97ff-f7af9f51bac1",
      "metadata": {},
      "outputs": [],
      "source": [
        "<details><summary>Click here for the solution</summary>\n\n```python\nridge_model2 = Ridge(alpha=10) \nridge_model2.fit(x_train_pr, y_train)\nridge_model2.score(x_test_pr, y_test)\n\n```\n\n</details>\n"
      ]
    },
    {
      "cell_type": "markdown",
      "id": "e286aa0b-8be7-478e-b1bc-f4cb68d934ed",
      "metadata": {},
      "outputs": [],
      "source": [
        "# **5. Grid Search**\n\n<center>\n    <img src=\"https://cf-courses-data.s3.us.cloud-object-storage.appdomain.cloud/IBMSkillsNetwork-GPXX08XFEN/An-introduction-to-GridSearchCV-and-RandomizedSearchCV-Image.webp\" alt=\"grid-search\" />\n</center>\n\n<center>The example of how Grid Search works</center>"
      ]
    },
    {
      "cell_type": "markdown",
      "id": "c3a762ce-7cef-4271-8380-0cb9160e0162",
      "metadata": {},
      "outputs": [],
      "source": [
        "`GridSearchCV` is the process of performing hyperparameter tuning in order to determine the optimal values for a given model. The performance of a model significantly depends on the value of hyperparameters. Note that there is no way to know in advance the best values for hyperparameters so ideally, we need to try all possible values to know the optimal values. Doing this manually could take a considerable amount of time and resources and thus we use GridSearchCV to automate the tuning of hyperparameters."
      ]
    },
    {
      "cell_type": "markdown",
      "id": "58c55e86-94c4-47d4-a490-1dbf1b4d5144",
      "metadata": {},
      "outputs": [],
      "source": [
        "The term alpha is a hyperparameter. Sklearn has the class <code>GridSearchCV</code> to make the process of finding the best hyperparameter simpler.\n"
      ]
    },
    {
      "cell_type": "markdown",
      "id": "b4a9e3b5-8773-4e8b-8ebd-b6cb988badc1",
      "metadata": {},
      "outputs": [],
      "source": [
        "We create a dictionary of parameter values:\n"
      ]
    },
    {
      "cell_type": "code",
      "id": "cd44f80e-3c83-4d6a-9580-32b41acc8d81",
      "metadata": {},
      "outputs": [],
      "source": [
        "parameters = [{\"alpha\": [0.01, 0.1, 1, 10]}]\nparameters"
      ]
    },
    {
      "cell_type": "markdown",
      "id": "0bd0c9ee-3f2d-42e5-a634-255028da7641",
      "metadata": {},
      "outputs": [],
      "source": [
        "Create a <code>Ridge</code> regression object:\n"
      ]
    },
    {
      "cell_type": "code",
      "id": "96c44b75-ce99-49f2-97da-bb1367e61d69",
      "metadata": {},
      "outputs": [],
      "source": [
        "rr = Ridge()\nrr"
      ]
    },
    {
      "cell_type": "markdown",
      "id": "766e69af-5a5c-47da-8b7b-b7c22fb6400e",
      "metadata": {},
      "outputs": [],
      "source": [
        "Create a ridge grid search object:\n"
      ]
    },
    {
      "cell_type": "code",
      "id": "0f200baf-3ce9-4ed5-9044-30ad5c2ac0ce",
      "metadata": {},
      "outputs": [],
      "source": [
        "grid = GridSearchCV(rr, parameters, cv=4)"
      ]
    },
    {
      "cell_type": "markdown",
      "id": "1f406df1-7d5b-406e-8263-88a441f84cba",
      "metadata": {},
      "outputs": [],
      "source": [
        "Fit the model:\n"
      ]
    },
    {
      "cell_type": "code",
      "id": "c501d495-57e1-48ac-a564-baa01611bff0",
      "metadata": {},
      "outputs": [],
      "source": [
        "grid.fit(x_data[[\"ATR\", \"OBV\", \"RSI\", \"AD\"]], y_data)"
      ]
    },
    {
      "cell_type": "markdown",
      "id": "0bf7c7c4-d272-4ceb-812b-bc646cb68a60",
      "metadata": {},
      "outputs": [],
      "source": [
        "The object finds the best parameter values on the validation data. We can obtain the estimator with the best parameters and assign it to the variable `best_RR` as follows:\n"
      ]
    },
    {
      "cell_type": "code",
      "id": "3bb094fe-f943-4dfd-8bbf-6a736449e5d2",
      "metadata": {},
      "outputs": [],
      "source": [
        "best_rr = grid.best_estimator_\nbest_rr"
      ]
    },
    {
      "cell_type": "markdown",
      "id": "0c2cf9e9-307f-4cc0-9601-345df3057c3e",
      "metadata": {},
      "outputs": [],
      "source": [
        "We now test our model on the test data:\n"
      ]
    },
    {
      "cell_type": "code",
      "id": "bcc52046-9d54-455b-ab39-54b871010cef",
      "metadata": {},
      "outputs": [],
      "source": [
        "best_rr.score(x_test[[\"ATR\", \"OBV\", \"RSI\", \"AD\"]], y_test)"
      ]
    },
    {
      "cell_type": "markdown",
      "id": "6c44bba4-f995-4ee5-a497-8293f8e8695c",
      "metadata": {},
      "outputs": [],
      "source": [
        "Let's see predicted values by the best model and compare them to actual ones"
      ]
    },
    {
      "cell_type": "code",
      "id": "141bb76f-2f26-4f95-b8fa-17463b233d52",
      "metadata": {},
      "outputs": [],
      "source": [
        "y_rr = best_rr.predict(x_test[[\"ATR\", \"OBV\", \"RSI\", \"AD\"]])\ndist_plot(y_test, y_rr, \"Plot of distributions of `y_test` and `y_rr`\")"
      ]
    },
    {
      "cell_type": "markdown",
      "id": "6c3af34e-387d-4550-904f-2e2cfd530728",
      "metadata": {},
      "outputs": [],
      "source": [
        "Despite the high $R^2$ score, the distributions are not very close compared to multiple linear regression"
      ]
    },
    {
      "cell_type": "markdown",
      "id": "44055fb7-2e11-4174-8da9-8392081548c3",
      "metadata": {},
      "outputs": [],
      "source": [
        "# **Conclusion:**\n\nWe learned how to split our dataset into train and test datasets. We found out what **overfitting**, **Ridge regression**, **Grid Search**, **Cross-validation** are and learned how to use these model and we got the best model with $R^2$ of 0.762"
      ]
    },
    {
      "cell_type": "markdown",
      "id": "b26bf41e-5c38-48c1-826d-b557ac870639",
      "metadata": {},
      "outputs": [],
      "source": [
        "# **6. Sources**\n\n<ul>\n    <li><a target=\"_blank\" href=\"https://en.wikipedia.org/wiki/Cross-validation_(statistics)\">https://en.wikipedia.org/wiki/Cross-validation_(statistics)</a></li>\n    <li><a target=\"_blank\" href=\"https://aws.amazon.com/what-is/overfitting/\">https://aws.amazon.com/what-is/overfitting/</a></li>\n    <li><a target=\"_blank\" href=\"https://en.wikipedia.org/wiki/Ridge_regression\">https://en.wikipedia.org/wiki/Ridge_regression</a></li>\n    <li><a target=\"_blank\" href=\"https://www.mygreatlearning.com/blog/gridsearchcv/\">https://www.mygreatlearning.com/blog/gridsearchcv/</a></li>\n</ul>"
      ]
    },
    {
      "cell_type": "markdown",
      "id": "9c8e3fa1-5a65-4730-b979-5a6a24b528a4",
      "metadata": {},
      "outputs": [],
      "source": [
        "# **Thank you for completing this lab!**\n\n## Author\n\n<a href=\"https://author.skills.network/instructors/borys_melnychuk\" target=\"_blank\" >Borys Melnychuk</a>\n\n<a href=\"https://author.skills.network/instructors/yaroslav_vyklyuk_2?utm_medium=Exinfluencer&utm_source=Exinfluencer&utm_content=000026UJ&utm_term=10006555&utm_id=NA-SkillsNetwork-Channel-SkillsNetworkGuidedProjectsIBMSkillsNetworkGPXX0QGDEN2306-2023-01-01\">Prof. Yaroslav Vyklyuk, DrSc, PhD</a>\n\n<a href=\"https://author.skills.network/instructors/mariya_fleychuk?utm_medium=Exinfluencer&utm_source=Exinfluencer&utm_content=000026UJ&utm_term=10006555&utm_id=NA-SkillsNetwork-Channel-SkillsNetworkGuidedProjectsIBMSkillsNetworkGPXX0QGDEN2306-2023-01-01\">Prof. Mariya Fleychuk, DrSc, PhD</a>\n\n\n\n## Change Log\n\n| Date (YYYY-MM-DD) | Version | Changed By      | Change Description                                         |\n| ----------------- | ------- | ----------------| ---------------------------------------------------------- |\n|     2023-03-25    |   1.0   | Borys Melnychuk | Creation of the lab                                        |\n\n<hr>\n\n## <h3 align=\"center\"> © IBM Corporation 2023. All rights reserved. </h3>\n"
      ]
    }
  ],
  "metadata": {
    "language_info": {
      "name": ""
    },
    "kernelspec": {
      "name": "",
      "display_name": ""
    }
  },
  "nbformat": 4,
  "nbformat_minor": 4
}