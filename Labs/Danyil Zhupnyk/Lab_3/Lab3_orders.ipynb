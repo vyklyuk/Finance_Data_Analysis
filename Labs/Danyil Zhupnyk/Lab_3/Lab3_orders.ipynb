{
  "cells": [
    {
      "cell_type": "markdown",
      "id": "6471195d-0acd-403a-ad24-80ffc495aaca",
      "metadata": {},
      "outputs": [],
      "source": [
        "<center>\n    <img src=\"https://cf-courses-data.s3.us.cloud-object-storage.appdomain.cloud/assets/logos/SN_web_lightmode.png\" width=\"400\" alt=\"cognitiveclass.ai logo\"  />\n</center>\n\n## Investigation on Saldo  on price BTC, size BTC\n\n## Lab 3. Data Analysis with Python\n\nEstimated time needed: **30** minutes\n\n## Objectives\n\nAfter completing this lab you will be able to:\n\n*   Explore features or charecteristics to predict price of cryptocurrency\n"
      ]
    },
    {
      "cell_type": "markdown",
      "id": "3e7bf344-919f-4bd6-8365-3cf5f62d67a7",
      "metadata": {},
      "outputs": [],
      "source": [
        "## Table of Contents\n\n<div class=\"alert alert-block alert-info\" style=\"margin-top: 20px\">\n<ol>\n    <li><a href=\"https://#import_data\">Import Data from Module</a></li>\n    <li><a href=\"https://#pattern_visualization\">Analyzing Individual Feature Patterns using Visualization</a></li>\n    <li><a href=\"https://#discriptive_statistics\">Descriptive Statistical Analysis</a></li>\n    <li><a href=\"https://#basic_grouping\">Basics of Grouping</a></li>\n    <li><a href=\"https://#correlation_causation\">Correlation and Causation</a></li>\n    <li><a href=\"https://#durbin-watson\">Durbin Watson Test</a></li>\n    <li><a href=\"https://#granger\">Granger Causality Test</a></li>\n</ol>\n\n</div>\n\n<hr>\n"
      ]
    },
    {
      "cell_type": "markdown",
      "id": "9b342137-06f9-4e47-acea-0773729cf501",
      "metadata": {},
      "outputs": [],
      "source": [
        "## What are the main characteristics that have the most impact on the cryptocurrency price?\n"
      ]
    },
    {
      "cell_type": "markdown",
      "id": "c9acfb41-0226-413c-a100-e879724fecac",
      "metadata": {},
      "outputs": [],
      "source": [
        "# 1. Import Data\n"
      ]
    },
    {
      "cell_type": "markdown",
      "id": "a3222f32-7801-4718-861a-ee8829aa0258",
      "metadata": {},
      "outputs": [],
      "source": [
        "### Setup\n"
      ]
    },
    {
      "cell_type": "markdown",
      "id": "87a7f42c-619f-4fdc-ab04-09cb4fc4d912",
      "metadata": {},
      "outputs": [],
      "source": [
        "If you run the lab locally using Anaconda, you can load the correct library and versions by uncommenting the following:\n"
      ]
    },
    {
      "cell_type": "code",
      "id": "9fb08430-a434-4baf-94e5-5f560ec56dee",
      "metadata": {},
      "outputs": [],
      "source": [
        "#If you run the lab locally using Anaconda, you can load the correct library and versions by uncommenting the following:\n#install specific version of libraries used in lab\n#! mamba install pandas==1.3.3\n#! mamba install numpy=1.21.2\n#! mamba install scipy=1.7.1-y\n#!  mamba install seaborn=0.9.0-y\n! mamba install mplfinance -y\n! mamba install astropy -y"
      ]
    },
    {
      "cell_type": "markdown",
      "id": "c2aec344-ad12-4615-b606-f77337231a85",
      "metadata": {},
      "outputs": [],
      "source": [
        "Import libraries:"
      ]
    },
    {
      "cell_type": "code",
      "id": "75b4221b-6301-4c9e-9f7c-5789386426c8",
      "metadata": {},
      "outputs": [],
      "source": [
        "import warnings\nwarnings.simplefilter(action='ignore', category=FutureWarning)\n\nfrom typing import List\nimport pandas as pd\nimport numpy as np\nfrom scipy import stats\nimport statsmodels.api as sm\nfrom statsmodels.stats.stattools import durbin_watson\nfrom statsmodels.tsa.stattools import grangercausalitytests\n\nimport matplotlib.pyplot as plt\nimport seaborn as sns\n%matplotlib inline \n\nfrom astropy.visualization import astropy_mpl_style\nimport itertools\nfrom itertools import combinations\nfrom IPython.display import display"
      ]
    },
    {
      "cell_type": "markdown",
      "id": "c154030e-a685-408a-b5ea-d87d313c41f0",
      "metadata": {},
      "outputs": [],
      "source": [
        "First, we assign the URL of the dataset to <code>\"path\"</code<>.\n"
      ]
    },
    {
      "cell_type": "code",
      "id": "60253357-261c-479b-be74-584a2ff035d6",
      "metadata": {},
      "outputs": [],
      "source": [
        "path = \"https://cf-courses-data.s3.us.cloud-object-storage.appdomain.cloud/IBMSkillsNetwork-GPXX0MADEN/clean_df%20(4).csv\""
      ]
    },
    {
      "cell_type": "markdown",
      "id": "6d549220-0add-4291-919b-3d49c672d36b",
      "metadata": {},
      "outputs": [],
      "source": [
        "Use the Pandas method <code>read_csv()</code> to load the data from the web address. Set the parameter  <code>index_col=0</code> in order to use the first column of cvs file as the index of the dataframe."
      ]
    },
    {
      "cell_type": "code",
      "id": "35811015-3376-48e1-97bb-27dd99dafa17",
      "metadata": {},
      "outputs": [],
      "source": [
        "df = pd.read_csv(path, index_col=0)"
      ]
    },
    {
      "cell_type": "markdown",
      "id": "8bf90cfd-70c9-4490-815f-45f4fe02bd6f",
      "metadata": {},
      "outputs": [],
      "source": [
        "Set dataframe index column type to <strong>datetime</strong> using <code>pd.to_datetime()</code> method for correct time series analysis. "
      ]
    },
    {
      "cell_type": "code",
      "id": "5aefe0c3-40c4-43a7-beb9-f9dba2c4a2a4",
      "metadata": {},
      "outputs": [],
      "source": [
        "df.index = pd.to_datetime(df.index)"
      ]
    },
    {
      "cell_type": "markdown",
      "id": "174842c3-56f2-403a-a66d-45728e7ef207",
      "metadata": {},
      "outputs": [],
      "source": [
        "In the previous lab we calculated technical financial indicators. Since the values of previous periods had to be taken into account for their calculation, the first few lines of the dataframe contain `NaN` values.\n\nWe will use different methods for recovering missing data in this module that do not work correctly with recovering data in the first rows of time series. Therefore, we need to remove `NaN` values with `df.dropna(inplace=True)` method."
      ]
    },
    {
      "cell_type": "code",
      "id": "3570f5f3-9073-45d3-9c96-11517adcf8e8",
      "metadata": {},
      "outputs": [],
      "source": [
        "df.dropna(inplace=True)\ndf.head()"
      ]
    },
    {
      "cell_type": "markdown",
      "id": "407a9528-3855-4a90-9daa-d15444838acb",
      "metadata": {},
      "outputs": [],
      "source": [
        "Let's check the dimensionality of our dataframe."
      ]
    },
    {
      "cell_type": "code",
      "id": "d0abe316-986a-4888-b3bf-d3c86f6fb018",
      "metadata": {},
      "outputs": [],
      "source": [
        "df.shape"
      ]
    },
    {
      "cell_type": "markdown",
      "id": "439863bd-475d-433c-9060-fb485355b77f",
      "metadata": {},
      "outputs": [],
      "source": [
        "# 2. Analyzing Individual Feature Patterns Using Visualization\n"
      ]
    },
    {
      "cell_type": "markdown",
      "id": "d46993e5-69c0-478b-8ac8-18fb96101b73",
      "metadata": {},
      "outputs": [],
      "source": [
        "### How to choose the right visualization method?\n<p>When visualizing individual variables, it is important to first understand what type of variable you are dealing with. This will help us find the right visualization method for that variable.</p>\n"
      ]
    },
    {
      "cell_type": "code",
      "id": "4703d5a2-f263-49ac-9071-9dbf2411346f",
      "metadata": {},
      "outputs": [],
      "source": [
        "# list the data types for each column\nprint(df.dtypes)"
      ]
    },
    {
      "cell_type": "markdown",
      "id": "b2f3b94f-abc6-4e54-a3c4-14da8e179957",
      "metadata": {},
      "outputs": [],
      "source": [
        "As you can see, all columns have correct types regarding their meanings. "
      ]
    },
    {
      "cell_type": "markdown",
      "id": "fb200b8b-52fb-4dee-9b58-a44d21d6dda8",
      "metadata": {},
      "outputs": [],
      "source": [
        "### Visualization"
      ]
    },
    {
      "cell_type": "markdown",
      "id": "2be16dc8-3292-4b62-a572-f18be447ddd5",
      "metadata": {},
      "outputs": [],
      "source": [
        "Let's downsample the series intervals."
      ]
    },
    {
      "cell_type": "code",
      "id": "cafd4120-3d5e-4d20-a1cf-4a5a3b603c75",
      "metadata": {},
      "outputs": [],
      "source": [
        "df_visual = df.copy()\n\ndf_visual = df_visual.loc[:, [\"price BTC\", \"size BTC\", \"Saldo\"]].resample(\"1H\").agg({\n    \"price BTC\": \"first\",\n    \"size BTC\": \"sum\",\n    \"Saldo\": \"last\"\n})\ndf_visual.head()\n"
      ]
    },
    {
      "cell_type": "markdown",
      "id": "298ddf7a-8693-4351-9936-cc0f7e0d25bd",
      "metadata": {},
      "outputs": [],
      "source": [
        "<strong>matplotlib.pyplot</strong> is a state-based interface to matplotlib. It provides an implicit, MATLAB-like, way of plotting.<br>\nIt also opens figures on your screen, and acts as the figure GUI manager."
      ]
    },
    {
      "cell_type": "markdown",
      "id": "df8b794b-c664-451a-b779-0f6799a0b6ca",
      "metadata": {},
      "outputs": [],
      "source": [
        "Now let's plot."
      ]
    },
    {
      "cell_type": "code",
      "id": "178dacb8-93be-436e-8440-faf4153d1405",
      "metadata": {},
      "outputs": [],
      "source": [
        "fig, axs = plt.subplots(nrows=3, ncols=1, figsize=(10, 8))\n\naxs[0].plot(df.index, df[\"price BTC\"])\naxs[0].set_title(\"price BTC\")\naxs[0].set_ylabel(\"Price\")\n\naxs[1].plot(df.index, df[\"size BTC\"])\naxs[1].set_title(\"size BTC\")\naxs[1].set_ylabel(\"Size\")\n\naxs[2].plot(df.index, df[\"Saldo\"])\naxs[2].set_title(\"Saldo\")\naxs[2].set_ylabel(\"Saldo\")\n\nplt.tight_layout()\n\nplt.show()\n"
      ]
    },
    {
      "cell_type": "markdown",
      "id": "d783381b-a584-4cc7-9c3d-26170990bee0",
      "metadata": {},
      "outputs": [],
      "source": [
        "From these charts we can follow the BTC asset \"prices\", \"size\" and \"Saldo\" getting a good overview of the price behavior."
      ]
    },
    {
      "cell_type": "markdown",
      "id": "bb8f7e09-2c27-4a15-88f9-389eee663c14",
      "metadata": {},
      "outputs": [],
      "source": [
        "Let's also look at the dependence of ASK and BID volume on Saldo"
      ]
    },
    {
      "cell_type": "code",
      "id": "71646e8e-b2ef-4d6c-bc4d-9db51097d902",
      "metadata": {},
      "outputs": [],
      "source": [
        "sns.violinplot(data=df[['Saldo', 'size ASK']])\n\nplt.xlabel('Saldo')\nplt.ylabel('size ASK')\nplt.title('Violinplot of Saldo and size ASK')\n\nplt.show()\n\nsns.violinplot(data=df[['Saldo', 'size BID']])\n\nplt.xlabel('Saldo')\nplt.ylabel('size BID')\nplt.title('Violinplot of Saldo and size BID')\n\nplt.show()"
      ]
    },
    {
      "cell_type": "code",
      "id": "bbf41a44-23c6-4567-9cee-f31deba79f99",
      "metadata": {},
      "outputs": [],
      "source": [
        "fig, ax = plt.subplots(1, 2, figsize=(10, 5))\n\nsns.violinplot(data=df[['Saldo', 'size ASK']], ax=ax[0])\nax[0].set_xlabel('Saldo')\nax[0].set_ylabel('size ASK')\nax[0].set_title('Violinplot of Saldo and size ASK')\n\n# sns.violinplot(x='Saldo', y='size BID', data=df, ax=ax[1])\n# ax[1].set_xlabel('Saldo')\n# ax[1].set_ylabel('size BID')\n# ax[1].set_title('Violinplot of Saldo and size BID')\n\nsns.violinplot(data=df[['Saldo', 'size BID']], ax=ax[1])\nax[1].set_xlabel('Saldo')\nax[1].set_ylabel('size BID')\nax[1].set_title('Violinplot of Saldo and size BID')\n\n\nplt.show()\n"
      ]
    },
    {
      "cell_type": "markdown",
      "id": "f1980932-f55f-4ebc-a5d7-4bb76c6f786e",
      "metadata": {},
      "outputs": [],
      "source": [
        "## Correlation "
      ]
    },
    {
      "cell_type": "markdown",
      "id": "16697527-0bb0-48ad-b903-b9eeab5a8547",
      "metadata": {},
      "outputs": [],
      "source": [
        "### What is a correlation?\n\nA statistical measure known as <strong>correlation</strong> expresses how closely two variables are related linearly (meaning they change together at a constant rate). It's a typical technique for describing straightforward connections without explicitly stating cause and effect."
      ]
    },
    {
      "cell_type": "markdown",
      "id": "0dc80408-0b64-471a-915c-9576c863a876",
      "metadata": {},
      "outputs": [],
      "source": [
        "We can calculate the correlation between different variables. For instance, for types <code>int64</code> or <code>float64</code> using the method <code>corr()</code>:\n"
      ]
    },
    {
      "cell_type": "raw",
      "id": "f29ecdca-9473-4cc6-a753-94c60bcd2b59",
      "metadata": {},
      "outputs": [],
      "source": [
        "dataframe.corr()"
      ]
    },
    {
      "cell_type": "markdown",
      "id": "683aff8d-1d7d-4521-a4de-763c52717f94",
      "metadata": {},
      "outputs": [],
      "source": [
        "Let's calculate the correlation for BTCBUSD currency paramters and its indicators."
      ]
    },
    {
      "cell_type": "code",
      "id": "9a203293-018f-49c7-8de3-539e27df9137",
      "metadata": {},
      "outputs": [],
      "source": [
        "# find correlation\ncorr = df.corr()\ncorr"
      ]
    },
    {
      "cell_type": "markdown",
      "id": "5306738c-e754-4f1e-b955-b947bf274b68",
      "metadata": {},
      "outputs": [],
      "source": [
        "### How to interpret correlation results?"
      ]
    },
    {
      "cell_type": "markdown",
      "id": "dac2e204-319e-4351-b21c-f6b2c65f59b8",
      "metadata": {},
      "outputs": [],
      "source": [
        "The magnitude of the correlation coefficient indicates the strength of the association. A correlation of -1.0 indicates a perfect negative correlation, and a correlation of 1.0 indicates a perfect positive correlation. If the correlation coefficient is greater than zero, it is a positive relationship. Conversely, if the value is less than zero, it is a negative relationship."
      ]
    },
    {
      "cell_type": "markdown",
      "id": "5e2bd490-6a74-4a20-b773-c6b56014864a",
      "metadata": {},
      "outputs": [],
      "source": [
        "To better understand the concept of correlation we should visualize the strength of relationships between numerical variables using <b>correlation heatmaps</b>. \n\n### What is Correlation Heatmap? \n\n<strong>Correlation heatmaps</strong> are a type of plot that visualize the strength of relationships between numerical variables. \n\nCorrelation plots are used to understand which variables are related to each other and the strength of this relationship.\n"
      ]
    },
    {
      "cell_type": "code",
      "id": "8ef49552-a11a-4ed0-add0-3180b24f7e53",
      "metadata": {},
      "outputs": [],
      "source": [
        "sns.heatmap(corr)"
      ]
    },
    {
      "cell_type": "markdown",
      "id": "5eabea79-05b0-4756-8716-410f6fdf01ca",
      "metadata": {},
      "outputs": [],
      "source": [
        "### How do you interpret a correlation heatmap?\n\nCorrelation ranges from -1 to +1. Values closer to 0 means there is no linear trend between the two variables. The closer the correlation is to 1, the more positively associated they are. The diagonal elements are always one. \n\n From the heatmap, it can be seen that the most correlated among the indicators for the price of our cryptocurrency are the Volume and NATR parameters. However, their correlation values are not that high."
      ]
    },
    {
      "cell_type": "markdown",
      "id": "7c794bac-b047-4d7c-8b5d-80a79642d9ec",
      "metadata": {},
      "outputs": [],
      "source": [
        "We will study correlation more precisely (Pearson correlation in-depth) at the end of the notebook.\n"
      ]
    },
    {
      "cell_type": "markdown",
      "id": "f377f242-5a3b-4042-8722-e0069c9b63a5",
      "metadata": {},
      "outputs": [],
      "source": [
        "<div class=\"alert alert-danger alertdanger\" style=\"margin-top: 20px\">\n<h1> Question  #1: </h1>\n\n<p>Find the correlation between the BTC currency price and its size columns. Build heatmap to understand the resuluts more precisely.</p>\n</div>\n"
      ]
    },
    {
      "cell_type": "code",
      "id": "248b3d92-ee13-4d5d-bb93-ccc76e1db6d9",
      "metadata": {},
      "outputs": [],
      "source": [
        "# Write your code below and press Shift+Enter to execute"
      ]
    },
    {
      "cell_type": "markdown",
      "id": "fce6f776-e84f-42e5-8423-a2bb3c5b3304",
      "metadata": {},
      "outputs": [],
      "source": [
        "<details><summary>Click here for the solution</summary>\n\n```python\n# find correlation\ncorr = df[['price BTC', 'size BTC']].corr()\ncorr\n```\n\n</details>"
      ]
    },
    {
      "cell_type": "code",
      "id": "56ebb434-33d9-4082-924a-6114ec72a399",
      "metadata": {},
      "outputs": [],
      "source": [
        "# Write your code below and press Shift+Enter to execute"
      ]
    },
    {
      "cell_type": "markdown",
      "id": "6c53caff-5e82-4486-8845-8493115e890f",
      "metadata": {},
      "outputs": [],
      "source": [
        "<details><summary>Click here for the solution</summary>\n\n```python\n# build heatmap\nsns.heatmap(corr, annot=True)\n```\n\n</details>\n"
      ]
    },
    {
      "cell_type": "markdown",
      "id": "e0e0b604-b975-4cf6-848b-15bfa6eb0b16",
      "metadata": {},
      "outputs": [],
      "source": [
        "The Volume and NATR parameters are the two price indicators for our coin that have the highest correlation, as can be seen from the heatmap. Their correlation values are not very great, though.\nIt is also noticeable how the parameters NATR and TRANGE are highly correlated with Volume. They can be useful for determining his future performance."
      ]
    },
    {
      "cell_type": "markdown",
      "id": "d938af15-79b0-4f47-a947-853adf535b70",
      "metadata": {},
      "outputs": [],
      "source": [
        "## Continuous Numerical Variables\n\n### What are Continuous numerical variables?\n\n<p><strong>Continuous numerical variables</strong> are variables that may contain any value within some range. They can be of type <code>int64</code> or <code>float64</code>. A great way to visualize these variables is by using scatterplots with fitted lines.</p>\n\n<p>In order to start understanding the <em>linear relationship</em> between an individual variable and the price, we can use <code>regplot</code> which plots the <strong>scatterplot</strong> plus the fitted regression line for the data.</p>\n\n<pre>\n<strong>A scatter plot</strong> is a type of plot or mathematical diagram using Cartesian coordinates to display values for typically two variables for a set of data.\n</pre>"
      ]
    },
    {
      "cell_type": "markdown",
      "id": "6f1336ab-634f-41c0-9785-1383029a4ba8",
      "metadata": {},
      "outputs": [],
      "source": [
        "Let's see several examples of different linear relationships:\n"
      ]
    },
    {
      "cell_type": "markdown",
      "id": "c50f66c5-0d04-483a-8668-da7715a7b08b",
      "metadata": {},
      "outputs": [],
      "source": [
        "### Weak Linear Relationship\n"
      ]
    },
    {
      "cell_type": "markdown",
      "id": "e80b4c3a-61ca-4733-9233-095b6f7d07dd",
      "metadata": {},
      "outputs": [],
      "source": [
        "Firstly, we declare custom <code>regplot()</code> function responsible of plotting linear regression."
      ]
    },
    {
      "cell_type": "code",
      "id": "aca68f20-3c83-4d22-af00-d0ef73090b35",
      "metadata": {},
      "outputs": [],
      "source": [
        "def regplot(pd: pd.DataFrame, x: str, y: str) -> None:\n    \"\"\" Return data plot and a linear regression model fit.\n    \"\"\"\n    sns.regplot(x=x, y=y, data=pd)\n    plt.ylim(0,)\n\n    plt.xlabel(f\"{x}, BTC\")\n    plt.ylabel(f\"{y}, BTC\")\n    plt.show()"
      ]
    },
    {
      "cell_type": "markdown",
      "id": "34f97591-cd2c-48ad-bf3e-e82d44eb235e",
      "metadata": {},
      "outputs": [],
      "source": [
        "Let's find the scatterplot of \"price BTC\" and \"size BTC\". "
      ]
    },
    {
      "cell_type": "code",
      "id": "f66a59ed-cde3-4e3a-b2a7-1c34ac2da3e7",
      "metadata": {},
      "outputs": [],
      "source": [
        "# Open ETHBUSD price as potential predictor variable of BTCBUSD price\nregplot(df, 'Saldo', 'size BTC')"
      ]
    },
    {
      "cell_type": "markdown",
      "id": "bd09e583-8775-43a7-8f74-01ca3419bd5e",
      "metadata": {},
      "outputs": [],
      "source": [
        "<p>Volume does not seem like a good predictor of the price at all since the regression line is close to horizontal. Also, the data points are very scattered and far from the fitted line, showing lots of variability. Therefore, it's not a reliable variable.</p>"
      ]
    },
    {
      "cell_type": "markdown",
      "id": "e99a209b-0c75-4688-98e6-26e8b7168db6",
      "metadata": {},
      "outputs": [],
      "source": [
        "We can examine the correlation between BTC price and size and see that it's approximately 0.250284.\n"
      ]
    },
    {
      "cell_type": "code",
      "id": "b55a3f2c-e741-4e8f-a1fd-163508a33da9",
      "metadata": {},
      "outputs": [],
      "source": [
        "df[['Saldo', 'size BTC']].corr()"
      ]
    },
    {
      "cell_type": "markdown",
      "id": "7204fc94-157c-48fb-a83f-04b59eb1cc8b",
      "metadata": {},
      "outputs": [],
      "source": [
        " <div class=\"alert alert-danger alertdanger\" style=\"margin-top: 20px\">\n<h1> Question #2 a): </h1>\n\n<p>Find the correlation \"price BTC\" and \"Saldo\".</p>\n<p>Hint: if you would like to select those columns, use the following syntax: <code>df[['price BTC','Saldo']]</code>.  </p>\n</div>\n"
      ]
    },
    {
      "cell_type": "code",
      "id": "3a429459-937e-4cfd-b847-71ef70ad6c9f",
      "metadata": {},
      "outputs": [],
      "source": [
        "# Write your code below and press Shift+Enter to execute"
      ]
    },
    {
      "cell_type": "markdown",
      "id": "5305694a-ac1c-489e-856d-d4f6fc28952a",
      "metadata": {},
      "outputs": [],
      "source": [
        "<details><summary>Click here for the solution</summary>\n\n```python\n# find the correlation\ndf[[\"price BTC\", \"Saldo\"]].corr()\n```\n\n</details>\n"
      ]
    },
    {
      "cell_type": "markdown",
      "id": "e463ef91-ac72-4b86-801e-e1002b840da6",
      "metadata": {},
      "outputs": [],
      "source": [
        "<div class=\"alert alert-danger alertdanger\" style=\"margin-top: 20px\">\n<h1>Question #3 b):</h1>\n\n<p>Given the correlation results between \"price BTC\" and \"Saldo\", do you expect a linear relationship?</p> \n<p>Verify your results using the function <code>regplot()</code>.</p>\n</div>\n"
      ]
    },
    {
      "cell_type": "code",
      "id": "581bdf10-0380-4c88-9589-2634a0235cf0",
      "metadata": {},
      "outputs": [],
      "source": [
        "# Write your code below and press Shift+Enter to execute "
      ]
    },
    {
      "cell_type": "markdown",
      "id": "169ef94d-5fdb-4ea6-ac44-fedefb82d07b",
      "metadata": {},
      "outputs": [],
      "source": [
        "<details><summary>Click here for the solution</summary>\n\n```python\n\n#There is a weak correlation between the variables. As such regression will not work well. We can see this using \"regplot\" to demonstrate this.\n\n#Code: \nregplot(df, 'price BTC', 'Saldo')\n\n```\n\n</details>\n"
      ]
    },
    {
      "cell_type": "markdown",
      "id": "337611b5-8fa1-4d53-970f-5f00d421c727",
      "metadata": {},
      "outputs": [],
      "source": [
        "### Categorical Variables\n\n<p><strong>Categorical variables</strong> are variables that describe a 'characteristic' of a data unit, and are selected from a small group of categories. The categorical variables can have the type <code>object</code> or <code>int64</code>. A good way to visualize categorical variables is by using <strong>boxplots.</strong></p>\n"
      ]
    },
    {
      "cell_type": "markdown",
      "id": "44ef0270-45a9-4d3a-be6c-f8a618d35983",
      "metadata": {},
      "outputs": [],
      "source": [
        "Let's create the following categorical values: "
      ]
    },
    {
      "cell_type": "code",
      "id": "ad756b03-7d9a-4b6d-9c4e-a9ada6918fe6",
      "metadata": {},
      "outputs": [],
      "source": [
        "group_names = [\"Low\", \"Medium\", \"High\"]"
      ]
    },
    {
      "cell_type": "markdown",
      "id": "078acaab-d08c-4e39-8c5b-14290f70a662",
      "metadata": {},
      "outputs": [],
      "source": [
        "Similiar to previous module, declare a function to create categorical variables for a given dataframe column.  "
      ]
    },
    {
      "cell_type": "code",
      "id": "5426a9b7-bf1b-44be-bff6-f6aeed8a5478",
      "metadata": {},
      "outputs": [],
      "source": [
        "def to_categorical(column: pd.Series, categories: List[str]) -> pd.Series:\n    \"\"\" Return categorical variables for a given dataframe column.\n    \"\"\"\n    bins = np.linspace(min(column), max(column), len(categories) + 1)\n    return pd.cut(column, bins, labels=categories, include_lowest=True)"
      ]
    },
    {
      "cell_type": "markdown",
      "id": "3f4b4de5-a1c2-4194-9bca-8513c2b6e27c",
      "metadata": {},
      "outputs": [],
      "source": [
        "Let's use declared function on Saldo."
      ]
    },
    {
      "cell_type": "code",
      "id": "ca1eeb7e-b2c4-40e6-bbb9-36115c0b0825",
      "metadata": {},
      "outputs": [],
      "source": [
        "df['Saldo_binned'] = to_categorical(df['Saldo'], group_names)\ndf[['Saldo', 'Saldo_binned']].head()"
      ]
    },
    {
      "cell_type": "code",
      "id": "ea1a8938-fa78-47c9-93c6-8601d1b95d27",
      "metadata": {},
      "outputs": [],
      "source": [
        "df['Saldo_binned'].value_counts()"
      ]
    },
    {
      "cell_type": "markdown",
      "id": "a518b27b-4a4e-4b20-93ba-b9b2a40739ce",
      "metadata": {},
      "outputs": [],
      "source": [
        "Great! Now we are one step closer to fully understand our dataset."
      ]
    },
    {
      "cell_type": "markdown",
      "id": "952abd39-08d8-494e-be16-ede27fede217",
      "metadata": {},
      "outputs": [],
      "source": [
        "### Visualization of categorical variables"
      ]
    },
    {
      "cell_type": "markdown",
      "id": "f71cbe92-f50f-4917-b442-78e650d6f126",
      "metadata": {},
      "outputs": [],
      "source": [
        "#### What is  a boxplot?\n\n<strong><em>A boxplot</em></strong> is a graph that gives you a good indication of how the values in the data are spread out. We use a boxplot below to analyze the relationship between a categorical feature and a continuous feature."
      ]
    },
    {
      "cell_type": "markdown",
      "id": "cde391a2-767b-4c64-99e7-ca99109ddeb1",
      "metadata": {},
      "outputs": [],
      "source": [
        "Let's look at the relationship between <strong>\"Saldo\"</strong> and <strong>\"Saldo_binned\"</strong>. "
      ]
    },
    {
      "cell_type": "code",
      "id": "56c1c0ee-f74a-4a15-a529-2171947ffb52",
      "metadata": {},
      "outputs": [],
      "source": [
        "sns.boxplot(x='Saldo', y='Saldo_binned', data=df)"
      ]
    },
    {
      "cell_type": "markdown",
      "id": "de4b9f37-f7d3-43c6-a630-3109853e0922",
      "metadata": {},
      "outputs": [],
      "source": [
        "Here we see that the distribution of price between these three categories are distinct enough to take in which catagery price will be."
      ]
    },
    {
      "cell_type": "markdown",
      "id": "7a263c7c-28ad-4891-b73f-7ed5b666ed52",
      "metadata": {},
      "outputs": [],
      "source": [
        "<div class=\"alert alert-danger alertdanger\" style=\"margin-top: 20px\">\n<h1>Question 3:</h1>\n\n<p>Create the same categories fo  Saldo and indicators size BTC, price BTC.</p>\n<p>Hint: use declared <code>to_categorical()</code> function.</p>\n</div>\n"
      ]
    },
    {
      "cell_type": "code",
      "id": "6a77c16e-c078-49e5-b06b-2e932e2c9e05",
      "metadata": {},
      "outputs": [],
      "source": [
        "# Write your code below and press Shift+Enter to execute\nindicators = ['Saldo', 'price BTC','size BTC']\nfor indicator in indicators:\n    df[f'{indicator}_binned'] = to_categorical(df[indicator], group_names)\n\n# filter display categorical columns\ndf.filter(regex='_binned').head()"
      ]
    },
    {
      "cell_type": "markdown",
      "id": "e042db78-4c9e-4bd2-8bc0-0dff8574bd25",
      "metadata": {},
      "outputs": [],
      "source": [
        "<details><summary>Click here for the solution</summary>\n\n```python \n# create categories for currencies price\nindicators = ['Saldo', 'price BTC','size BTC']\nfor indicator in indicators:\n    df[f'{indicator}_binned'] = to_categorical(df[indicator], group_names)\n\n# filter display categorical columns\ndf.filter(regex='_binned').head()\n\n```\n\n</details>\n"
      ]
    },
    {
      "cell_type": "markdown",
      "id": "5d9cf958-014c-4ab0-8a69-ef2b2ef0f610",
      "metadata": {},
      "outputs": [],
      "source": [
        "# 3. Descriptive Statistical Analysis\n"
      ]
    },
    {
      "cell_type": "markdown",
      "id": "c06aae7c-691a-474e-87a1-75731cb26a1b",
      "metadata": {},
      "outputs": [],
      "source": [
        "<p>Let's first take a look at the variables by utilizing a description method.</p>\n\n<p>The <b>describe</b> function automatically computes basic statistics for all continuous variables. Any NaN values are automatically skipped in these statistics.</p>\n\nThis will show:\n\n<ul>\n    <li>the count of that variable</li>\n    <li>the mean</li>\n    <li>the standard deviation (std)</li> \n    <li>the minimum value</li>\n    <li>the IQR (Interquartile Range: 25%, 50% and 75%)</li>\n    <li>the maximum value</li>\n<ul>\n"
      ]
    },
    {
      "cell_type": "markdown",
      "id": "70432574-9b8f-4ebf-8c61-6a36dac054bb",
      "metadata": {},
      "outputs": [],
      "source": [
        "We can apply the method \"describe\" as follows:\n"
      ]
    },
    {
      "cell_type": "code",
      "id": "aefbc983-3b87-4507-adaf-924ad4bad727",
      "metadata": {},
      "outputs": [],
      "source": [
        "df.describe()"
      ]
    },
    {
      "cell_type": "markdown",
      "id": "ba52244f-fba5-45fe-b2af-6cd64dbd68f6",
      "metadata": {},
      "outputs": [],
      "source": [
        "The default setting of \"describe\" skips variables of type object. We can apply the method \"describe\" on the variables of type 'object' as follows:\n"
      ]
    },
    {
      "cell_type": "code",
      "id": "4ba958e9-bc49-4479-a8ed-3d450d1f3538",
      "metadata": {},
      "outputs": [],
      "source": [
        "df.describe(include=['category'])"
      ]
    },
    {
      "cell_type": "markdown",
      "id": "36972261-e057-4f3a-b3e3-8d4f22a8e94e",
      "metadata": {},
      "outputs": [],
      "source": [
        "### Value Counts\n"
      ]
    },
    {
      "cell_type": "markdown",
      "id": "aee61d9c-f82a-43e4-9809-6cbd57db9704",
      "metadata": {},
      "outputs": [],
      "source": [
        "<p><strong>Value counts</strong> is a good way of understanding how many units of each characteristic/variable we have. We can apply the <code>value_counts()</code> method on the column <strong>\"Saldo_binned\"</strong>. Don’t forget the method <code>value_counts()</code> only works on pandas series, not pandas dataframes. As a result, we only include one bracket <code>df['Saldo_binned']</code>, not two brackets <code>df[['Saldo_binned']]</code>.</p>\n"
      ]
    },
    {
      "cell_type": "code",
      "id": "3097eb44-62e7-4332-83c0-b1ca8d02e95e",
      "metadata": {},
      "outputs": [],
      "source": [
        "df['Saldo_binned'].value_counts()"
      ]
    },
    {
      "cell_type": "markdown",
      "id": "d1137a51-5a93-4b03-8c1a-368133bfad31",
      "metadata": {},
      "outputs": [],
      "source": [
        "We can convert the series to a dataframe as follows:\n"
      ]
    },
    {
      "cell_type": "code",
      "id": "964baf8b-9908-49aa-b92d-e47eb5b3dfef",
      "metadata": {},
      "outputs": [],
      "source": [
        "df['Saldo_binned'].value_counts().to_frame()"
      ]
    },
    {
      "cell_type": "markdown",
      "id": "7b40a02f-dcc3-47d7-a0af-5d9139a84db8",
      "metadata": {},
      "outputs": [],
      "source": [
        "Let's repeat the above steps but save the results to the dataframe <strong>\"Saldo_binned_counts\"</strong> and rename the column <strong>\"Saldo_binned\"</strong> to <strong>\"value_counts\"</strong>."
      ]
    },
    {
      "cell_type": "code",
      "id": "f9cba89b-dfc5-4436-9a3c-9492f5ca7af0",
      "metadata": {},
      "outputs": [],
      "source": [
        "Saldo_binned_counts = df['Saldo_binned'].value_counts().to_frame()\nSaldo_binned_counts.rename(columns={'Saldo_binned': 'value_counts'}, inplace=True)\nSaldo_binned_counts"
      ]
    },
    {
      "cell_type": "markdown",
      "id": "f8321704-09cd-41ab-a937-0fa69c1ee350",
      "metadata": {},
      "outputs": [],
      "source": [
        "Now let's rename the index to <strong>\"Saldo_binned_counts\"</strong>:"
      ]
    },
    {
      "cell_type": "code",
      "id": "2a3f2499-0dcc-4255-b88f-9c6bab9671fa",
      "metadata": {},
      "outputs": [],
      "source": [
        "Saldo_binned_counts.index.name = 'category'\nSaldo_binned_counts"
      ]
    },
    {
      "cell_type": "markdown",
      "id": "63b52de2-6f6e-4b8a-a6ec-77b0b01ed75d",
      "metadata": {},
      "outputs": [],
      "source": [
        "Now let's add indicators into this dataframe:"
      ]
    },
    {
      "cell_type": "code",
      "id": "218551a2-657d-458b-a274-019a2e85575a",
      "metadata": {},
      "outputs": [],
      "source": [
        "category_count = Saldo_binned_counts.copy()\ncategory_count.rename(columns = {'value_counts':'Saldo_value_counts'}, inplace = True)\n\nfor indicator in indicators:\n    column_name = f'{indicator}_binned'\n    # count number of values\n    counts = df[column_name].value_counts().to_frame()\n    # add new column to category_count\n    category_count[f'{indicator}_value_counts'] = counts\n\ncategory_count"
      ]
    },
    {
      "cell_type": "markdown",
      "id": "e0e67669-72d2-4269-9e0c-f28b6967d9b9",
      "metadata": {},
      "outputs": [],
      "source": [
        "# 4. Basics of Grouping\n"
      ]
    },
    {
      "cell_type": "markdown",
      "id": "51a4cd21-b1e2-4c98-b0bc-d79dc7ecc9dc",
      "metadata": {},
      "outputs": [],
      "source": [
        "<p>The <code>groupby</code> method groups data by different categories. The data is grouped based on one or several variables, and analysis is performed on the individual groups.</p>\n\n<p>For example, let's group by the variable <strong>\"Saldo\"</strong>. We see that there are 5 different categories of price.</p>\n"
      ]
    },
    {
      "cell_type": "code",
      "id": "3d1b3d0f-5653-4331-ade6-0f1e2b582f41",
      "metadata": {},
      "outputs": [],
      "source": [
        "df['Saldo_binned'].unique()"
      ]
    },
    {
      "cell_type": "markdown",
      "id": "1f7bb4d2-8fc2-438e-a376-9292c2a78754",
      "metadata": {},
      "outputs": [],
      "source": [
        "<p>If we want to know, on average, which type of <strong>\"Saldo\"</strong> is most valuable, we can group <strong>\"Saldo\"</strong> and then average them.</p>\n\n<p>We can select the columns <code>'Saldo_binned'</code>, <code>'Saldo'</code> then assign it to the variable <strong>\"df_group_one\".</strong></p>\n"
      ]
    },
    {
      "cell_type": "code",
      "id": "2e9af1e1-0580-4d80-afe7-7e427f5d6c20",
      "metadata": {},
      "outputs": [],
      "source": [
        "df_group_one = df[['Saldo_binned', 'Saldo']]"
      ]
    },
    {
      "cell_type": "markdown",
      "id": "3f70cc6c-16ea-4df9-b17a-de4b8117e28f",
      "metadata": {},
      "outputs": [],
      "source": [
        "We can then calculate the price for each of the different categories of data.\n"
      ]
    },
    {
      "cell_type": "code",
      "id": "0ccea7d8-d083-4ac8-8004-fb781b569443",
      "metadata": {},
      "outputs": [],
      "source": [
        "# grouping results\ndf_group_one = df_group_one.groupby(['Saldo_binned'], as_index=True).mean()\ndf_group_one"
      ]
    },
    {
      "cell_type": "markdown",
      "id": "8af03092-c59d-4a84-bdf8-04a055d68348",
      "metadata": {},
      "outputs": [],
      "source": [
        "<p>You can also group by others variables. For example, let's group by both <code>'Saldo_binned'</code> and <code>'size BTC_binned'</code>. We can store the results in the variable <code>'grouped_test_1'</code>.</p>\n"
      ]
    },
    {
      "cell_type": "code",
      "id": "c88caf7d-c0e9-4d1c-b023-f4827f3cd774",
      "metadata": {},
      "outputs": [],
      "source": [
        "# grouping results\ndf_gptest = df[['Saldo_binned','size BTC_binned','price BTC']]\ngrouped_test1 = df_gptest.groupby(['Saldo_binned','size BTC_binned'],as_index=False).mean()\ngrouped_test1"
      ]
    },
    {
      "cell_type": "markdown",
      "id": "e726b566-1b61-480e-be1e-8bb553c09d73",
      "metadata": {},
      "outputs": [],
      "source": [
        "Also we can use a crossed table to see how many values correspond to each other in the table."
      ]
    },
    {
      "cell_type": "code",
      "id": "ef15f177-ca87-4935-8b8c-51d27c84afad",
      "metadata": {},
      "outputs": [],
      "source": [
        "crossed_table = pd.crosstab(df['Saldo_binned'], df['size BTC_binned'])\ncrossed_table"
      ]
    },
    {
      "cell_type": "markdown",
      "id": "ba91be40-69b3-4309-9e78-2e0db61b6a75",
      "metadata": {},
      "outputs": [],
      "source": [
        "### Visualization of relationships "
      ]
    },
    {
      "cell_type": "markdown",
      "id": "01a7667b-904e-4aee-a5c5-b0b463325426",
      "metadata": {},
      "outputs": [],
      "source": [
        "Visualization methods show relationships and connections between the data or show correlations between two or more variables.\n\nExecute the following to adjust astropy."
      ]
    },
    {
      "cell_type": "code",
      "id": "2ebac2b3-e9f8-4f67-8dfa-2abf9b707d7f",
      "metadata": {},
      "outputs": [],
      "source": [
        "astropy_mpl_style['axes.grid'] = False\nplt.style.use(astropy_mpl_style)"
      ]
    },
    {
      "cell_type": "markdown",
      "id": "abf6c12b-8aea-4a25-9dc5-9522f630a2a0",
      "metadata": {},
      "outputs": [],
      "source": [
        "Let's use a heat map to visualize the relationship between <strong>Saldo_binned</strong> <em>vs.</em> <strong>size BTC_binned</strong>.\n"
      ]
    },
    {
      "cell_type": "code",
      "id": "bb776f81-5618-47ee-8d36-e0995f90f710",
      "metadata": {},
      "outputs": [],
      "source": [
        "#use the grouped results\nplt.pcolor(crossed_table, cmap='RdBu')\nplt.colorbar()\nplt.show()"
      ]
    },
    {
      "cell_type": "markdown",
      "id": "bd38edc3-16c5-4ef2-b2b6-0e2687fc8f52",
      "metadata": {},
      "outputs": [],
      "source": [
        "<p>The heatmap plots the target variable <em>(price)</em> proportional to colour with respect to the variables <strong>'Saldo_binned'</strong> and <strong>'size BTC_binned'</strong> on the vertical and horizontal axis, respectively. This allows us to visualize  <strong>'Saldo_binned'</strong> and <strong>'size BTC_binned'.</strong></p>\n\n<p>The default labels convey no useful information to us. Let's change that:</p>\n"
      ]
    },
    {
      "cell_type": "code",
      "id": "91fd7b70-cea6-45b7-8472-1679eff1a2a0",
      "metadata": {},
      "outputs": [],
      "source": [
        "fig, ax = plt.subplots()\nim = ax.pcolor(crossed_table, cmap='RdBu')\n\n#label names\nrow_lables = crossed_table.columns.categories\ncol_labels = crossed_table.index\n\n#move ticks and labels to the center\nax.set_xticks(np.arange(crossed_table.shape[1]) + 0.5, minor=False)\nax.set_yticks(np.arange(crossed_table.shape[0]) + 0.5, minor=False)\n\n#insert labels\nax.set_xticklabels(col_labels, minor=False)\nax.set_yticklabels(row_lables, minor=False)\n\nplt.xlabel(\"Saldo\")\nplt.ylabel(\"size BTC\")\n\n#rotate label if too long\nplt.xticks(rotation=90)\n\nfig.colorbar(im, label='Count')\nplt.show()"
      ]
    },
    {
      "cell_type": "markdown",
      "id": "851c1869-3fa2-4a12-aaf4-0179c860b3ee",
      "metadata": {},
      "outputs": [],
      "source": [
        "<p>Visualization is very important in data science, and Python visualization packages provide great freedom. We will go more in-depth in a separate Python visualizations course.</p>\n\n<p>The main question we want to answer in this module is <strong><em>\"What are the main characteristics that have the most impact on the price of cryptocurrency?\"</em></strong>.</p>\n\n<p>To get a better measure of the important characteristics, we look at the correlation of our currency with indicators and other cryptocurrencies. In other words: <strong><em>how is the price dependent on other variables?</em></strong></p>\n"
      ]
    },
    {
      "cell_type": "markdown",
      "id": "fc00d398-7d48-49b3-bb23-0a93f4061082",
      "metadata": {},
      "outputs": [],
      "source": [
        "# 5. Correlation and Causation\n"
      ]
    },
    {
      "cell_type": "markdown",
      "id": "94bcef6c-2fe8-4021-a571-0a0f41636c6d",
      "metadata": {},
      "outputs": [],
      "source": [
        "<h4>What is correlation and causation?<h4>\n\n<strong>Correlation</strong>: a measure of the extent of interdependence between variables.\n\n<strong>Causation</strong>: the relationship between cause and effect between two variables.\n\n<em><strong>It is important to know the difference between these two</strong></em>.\n\n<li>Correlation does not imply causation.</li>\n<li>Determining correlation is much simpler than the determining causation as causation may require independent experimentation.</li>"
      ]
    },
    {
      "cell_type": "markdown",
      "id": "f30c3ed7-e67c-4423-9003-7b7453aced8d",
      "metadata": {},
      "outputs": [],
      "source": [
        "<h4>Pearson Correlation</h4>\n<p><strong><em>The Pearson Correlation</em></strong> measures the linear dependence between two variables X and Y. In addition, It estimates the relationship strength between the two continuous variables.</p>\n<p>The resulting coefficient is a value between <strong>-1</strong> and <strong>1</strong> inclusive, where:</p>\n<ul>\n    <li><strong>1</strong>: Perfect positive linear correlation.</li>\n    <li><strong>0</strong>: No linear correlation, the two variables most likely do not affect each other.</li>\n    <li><strong>-1</strong>: Perfect negative linear correlation.</li>\n</ul>\n\nThe formula for Perason Correaltion between X and Y is represented as:\n\n$$\nr = \\frac{n \\sum \\limits _{i=1} ^{n} xy - \\sum \\limits _{i=1} ^{n} x \\sum \\limits _{i=1} ^{n} y}{\\sqrt{[n \\sum \\limits _{i=1} ^{n} x^2 - (\\sum \\limits _{i=1} ^{n} x)^2][n \\sum \\limits _{i=1} ^{n} y^2 - (\\sum \\limits _{i=1} ^{n} y)^2]}}\n$$"
      ]
    },
    {
      "cell_type": "markdown",
      "id": "1311ac58-d4d7-42cb-831b-923db23c3741",
      "metadata": {},
      "outputs": [],
      "source": [
        "<p>Pearson Correlation is the default method of the function <code>corr()</code>. Like before, we can calculate the Pearson Correlation of the <code>int64</code> or <code>'float64'</code> variables.</p>\n"
      ]
    },
    {
      "cell_type": "code",
      "id": "4fe56dfa-3d1c-4457-aea4-55bd07501a3f",
      "metadata": {},
      "outputs": [],
      "source": [
        "df.corr()"
      ]
    },
    {
      "cell_type": "markdown",
      "id": "75c6801c-4bdf-4195-882d-53e503e5505d",
      "metadata": {},
      "outputs": [],
      "source": [
        "Sometimes we would like to know the significant of the correlation estimate.\n"
      ]
    },
    {
      "cell_type": "markdown",
      "id": "5c663ca9-bd8a-41d4-8de0-fa504d64f559",
      "metadata": {},
      "outputs": [],
      "source": [
        "#### <strong>P-value</strong>\n\n#### <strong>What is this P-value?</strong> \n\n<em><strong>The P-value</strong></em> is the probability value that the correlation between these two variables is statistically significant. Normally, we choose a significance level of 0.05, which means that we are 95% confident that the correlation between the variables is significant.\n\nBy convention, when\n\n<ul>\n    <li><em>the p-value</em> is $<$ <strong>0.001</strong>: we say there is strong evidence that the correlation is significant.</li>\n    <li><em>the p-value</em> is $<$ <strong>0.05</strong>: there is moderate evidence that the correlation is significant.</li>\n    <li><em>the p-value</em> is $<$ <strong>0.1</strong>: there is weak evidence that the correlation is significant.</li>\n    <li><em>the p-value</em> is $>$ <strong>0.1</strong>: there is no evidence that the correlation is significant.</li>\n</ul>\n"
      ]
    },
    {
      "cell_type": "markdown",
      "id": "13fcf85c-ff87-4a3b-9b74-102049b32f36",
      "metadata": {},
      "outputs": [],
      "source": [
        "Let's calculate the  Pearson Correlation Coefficient and P-value of our currency price and indicators.\n"
      ]
    },
    {
      "cell_type": "code",
      "id": "98dad48e-ea1e-4890-b8dd-b8032b20bce6",
      "metadata": {},
      "outputs": [],
      "source": [
        "df_stats = pd.DataFrame({\"indicator\":[], \"pearson\": [], \"p-value\": []})\n\nfor indicator in indicators:\n    pearson_coef, p_value = stats.pearsonr(df['price BTC'], df[indicator])\n    df_stats.loc[len(df_stats.index)] = [indicator, pearson_coef, p_value]\n\ndf_stats.set_index('indicator', inplace=True)\ndf_stats"
      ]
    },
    {
      "cell_type": "markdown",
      "id": "5c45fa6c-934b-4c7b-898a-4fbb80088db7",
      "metadata": {},
      "outputs": [],
      "source": [
        "#### Conclusion:\n<p>Since the <strong><em>p-value is $<$ 0.001</em></strong>, the correlation between our currency price and the others parameters is statistically significant, although the linear relationship isn't strong ar the correlation values are too small and approach zero.</p>\n"
      ]
    },
    {
      "cell_type": "markdown",
      "id": "6d31a799-42cd-4e4b-9c86-6583b94bfbe3",
      "metadata": {},
      "outputs": [],
      "source": [
        "# 7. Durbin Watson Test"
      ]
    },
    {
      "cell_type": "markdown",
      "id": "4c4dfd66-daee-44e8-9462-71012a236696",
      "metadata": {},
      "outputs": [],
      "source": [
        "#### What Is the Durbin Watson Statistic? \n\n<strong>The Durbin Watson (DW) statistic</strong> is a test for autocorrelation in the residuals from a statistical model or regression analysis. The Durbin-Watson statistic will always have <em>a value ranging between 0 and 4</em>.\n\n<li><strong>a value of 2.0</strong> indicates there is no autocorrelation detected in the sample.</li> \n<li><strong>values from 0 to less than 2</strong> point to positive autocorrelation</li>\n<li><strong>values from 2 to 4</strong> means negative autocorrelation</li>\n\n<br>\n<p>\nA rule of thumb is that DW test statistic values <em><strong> in the range of 1.5 to 2.5 are relatively normal</strong></em>. Values outside this range could, however, be a cause for concern. \n</p>"
      ]
    },
    {
      "cell_type": "markdown",
      "id": "664c1c6a-ccea-4bdf-8287-7ec95908e855",
      "metadata": {},
      "outputs": [],
      "source": [
        "This test uses the following hypotheses:\n<li><strong>$H_0$ (null hypothesis):</strong> There is no correlation among the residuals.</li>\n<li><strong>$H_A$ (alternative hypothesis):</strong> The residuals are autocorrelated.</li>"
      ]
    },
    {
      "cell_type": "markdown",
      "id": "55260c6c-1600-471a-a597-cae9ac042029",
      "metadata": {},
      "outputs": [],
      "source": [
        "Let's implement a function that creates regression models:"
      ]
    },
    {
      "cell_type": "code",
      "id": "f9ebb568-a636-45e3-ad5c-477d18d986e0",
      "metadata": {},
      "outputs": [],
      "source": [
        "def get_reg(x: pd.Series, y: pd.Series):\n    \"\"\" Return regression model.\n    \"\"\"\n    # to get intercept\n    X = sm.add_constant(x)\n    # fit the regression model\n    reg = sm.OLS(y, X).fit()\n    return reg"
      ]
    },
    {
      "cell_type": "markdown",
      "id": "f833a603-95bc-48da-8a4a-f3461e0b0d2c",
      "metadata": {},
      "outputs": [],
      "source": [
        "Now let's test this function and perform Durbin Watson Test."
      ]
    },
    {
      "cell_type": "code",
      "id": "23f2b894-ea92-43c7-9d99-8d7b7a7b106a",
      "metadata": {},
      "outputs": [],
      "source": [
        "# independent\nX = df['Saldo']\n# dependent\ny = df['price BTC']\nreg = get_reg(X, y)"
      ]
    },
    {
      "cell_type": "code",
      "id": "2c476cd9-2416-4b6a-87ba-226ded308365",
      "metadata": {},
      "outputs": [],
      "source": [
        "print('DW test stats:', durbin_watson(resids=np.array(reg.resid)))"
      ]
    },
    {
      "cell_type": "markdown",
      "id": "bc6deb0e-3ed1-4f2e-885b-6017cbd3a2e1",
      "metadata": {},
      "outputs": [],
      "source": [
        "Now that we now how to calculate Durbin-Watson we can evaluate it for the main and indicators with other currencies."
      ]
    },
    {
      "cell_type": "code",
      "id": "70ccee47-5ab3-4404-bede-5f94ce93be5e",
      "metadata": {},
      "outputs": [],
      "source": [
        "df_durbin = pd.DataFrame({'indicator':[], 'durbin-watson': []})\n\nfor indicator in indicators:\n    # independent\n    X = df[\"Saldo\"]\n    # dependent\n    y = df['price BTC']\n    reg = get_reg(X, y)\n    dw = durbin_watson(resids=np.array(reg.resid))\n    df_durbin.loc[len(df_durbin.index)] = [indicator, dw]\n\ndf_durbin.set_index('indicator', inplace=True)\ndf_durbin"
      ]
    },
    {
      "cell_type": "markdown",
      "id": "37704b13-2cc0-48ee-b197-2e8aef979434",
      "metadata": {},
      "outputs": [],
      "source": [
        "According to the results of other indicators, we observe the same situation. The influence of indicators on the trend of changes in the price of cryptocurrency is not positively revealed."
      ]
    },
    {
      "cell_type": "markdown",
      "id": "deec086e-3ad6-4316-bec5-2d8bfe0e3c9c",
      "metadata": {},
      "outputs": [],
      "source": [
        "Let's calculate Durbin-Watson for all available indicator pairs."
      ]
    },
    {
      "cell_type": "code",
      "id": "8445a469-392d-4745-890a-7742d0f61088",
      "metadata": {},
      "outputs": [],
      "source": [
        "variables = [\"price BTC\",\"Saldo\"]\n\ncols = [f\"{variable}_dep\" for variable in variables]\nidxs = [f\"{variable}_ind\" for variable in variables]\n\ndw_df = pd.DataFrame(columns=cols, index=idxs)\n\nfor (curr1, curr2) in itertools.permutations(variables, 2):\n    \n    X = df[f\"{curr1}\"]  # independent\n    y = df[f\"{curr2}\"] # dependent\n    # to get intercept\n    X = sm.add_constant(X)\n    # fit the regression model\n    reg = sm.OLS(y, X).fit()\n    dw = durbin_watson(resids=np.array(reg.resid))\n    dw_df.loc[f\"{curr1}_ind\", f\"{curr2}_dep\"] = dw\n    \ndw_df"
      ]
    },
    {
      "cell_type": "markdown",
      "id": "c7787083-5365-4bac-94c9-b463035d339e",
      "metadata": {},
      "outputs": [],
      "source": [
        "Replace NaN values with empty values."
      ]
    },
    {
      "cell_type": "code",
      "id": "963ec446-67e5-4da5-995e-e2c85cc5a474",
      "metadata": {},
      "outputs": [],
      "source": [
        "np.fill_diagonal(dw_df.values, ' ')\ndw_df"
      ]
    },
    {
      "cell_type": "markdown",
      "id": "a09cb95c-2afd-4e24-bc31-742ec54698ae",
      "metadata": {},
      "outputs": [],
      "source": [
        "#### Conclusion"
      ]
    },
    {
      "cell_type": "markdown",
      "id": "c65a687e-0641-4f29-ab58-aae3b501779a",
      "metadata": {},
      "outputs": [],
      "source": [
        "Any value we choose will have a row for the independent value and a column for the dependent value.\n\nif we look at the column of the dependent variable price BTC, we will see that no indicator of independent variables (indicators) is in the range of 1.5-2.5. This tells that the listed indicators cannot be a good prediction for the Saldo."
      ]
    },
    {
      "cell_type": "markdown",
      "id": "3ff27f4e-9b13-4092-ab86-26ab0749997c",
      "metadata": {},
      "outputs": [],
      "source": [
        "# 8. Granger-Causality Test"
      ]
    },
    {
      "cell_type": "markdown",
      "id": "83e735d1-1bd1-4f9f-9f78-b06e3e56ea2c",
      "metadata": {},
      "outputs": [],
      "source": [
        "#### What is Granger-Causality test?\n\n<strong>The Granger causality test</strong> is a statistical hypothesis test for determining whether one time series is useful in forecasting another. If the probability value is less than in our case <em>P-value level</em>, then the hypothesis would be rejected at that level."
      ]
    },
    {
      "cell_type": "markdown",
      "id": "ede5a9e5-3604-416d-88d2-7278cd8c1e58",
      "metadata": {},
      "outputs": [],
      "source": [
        "#### What is the difference between correlation and Granger causality?\n\n<strong><em>Correlation</em></strong> is a measure of linear dependence between two random variables. So no additional variables are involved in the calculation of the correlation between X and Z, and also, in principle these variables may be just random variables and not time series.\n\n<strong><em>Granger causality</em></strong> is a concept of marginal predictability. So here the time dimension of the potential relationship between X and Z is important."
      ]
    },
    {
      "cell_type": "markdown",
      "id": "a91ccd2c-eaa3-4fb2-9c4d-0b8695c1b281",
      "metadata": {},
      "outputs": [],
      "source": [
        "#### What is the null hypothesis in Granger Causality test?\n\n<strong>The null hypothesis ($H_0$)</strong> for the test is that lagged x-values do not explain the variation in y. In other words, it assumes that $x_t$ doesn't Granger-cause $y_t$. Theoretically, you can run the Granger Test to find out if two variables are related at an instantaneous moment in time."
      ]
    },
    {
      "cell_type": "markdown",
      "id": "c56d6664-6688-41d4-b12e-c3aec8bb879f",
      "metadata": {},
      "outputs": [],
      "source": [
        "Let's visualize price trends movements through specific time period."
      ]
    },
    {
      "cell_type": "code",
      "id": "b4a1c520-5233-441b-b173-2696db6f09fa",
      "metadata": {},
      "outputs": [],
      "source": [
        "x = df.head().index\ny1 = df['price BTC'].head()\ny2 = df['Saldo'].head()\n\n# # Plot Line1 (Left Y Axis)\nfig, ax1 = plt.subplots(1,1,figsize=(16,9), dpi= 80)\nax1.plot(x, y1, color='tab:red')\n\n# # Plot Line2 (Right Y Axis)\n# instantiate a second axes that shares the same x-axis\nax2 = ax1.twinx()\nax2.plot(x, y2, color='tab:blue')\n\n# Decorations\n# ax1 (left Y axis)\nax1.set_xlabel('Time', fontsize=20)\nax1.tick_params(axis='x', rotation=0, labelsize=12)\nax1.set_ylabel('price BTC', color='tab:red', fontsize=20)\nax1.tick_params(axis='y', rotation=0, labelcolor='tab:red' )\nax1.grid(alpha=.4)\n\n# # ax2 (right Y axis)\nax2.set_ylabel('Saldo', color='tab:blue', fontsize=20)\nax2.tick_params(axis='y', rotation=0, labelsize=12, labelcolor='tab:blue')\nax2.set_title(\"Visualizing Leading Indicator Phenomenon\", fontsize=22)\n\nfig.tight_layout()\nplt.show()"
      ]
    },
    {
      "cell_type": "markdown",
      "id": "3ad9f0f8-8778-4049-9d32-54080aea2a12",
      "metadata": {},
      "outputs": [],
      "source": [
        "Let's import function implementing Granger Causality test from statsmodels module and declare Granger Causality test calculating function."
      ]
    },
    {
      "cell_type": "code",
      "id": "12142612-a8ba-4d75-88d8-0472429591f5",
      "metadata": {},
      "outputs": [],
      "source": [
        "def grangers_causation_matrix(data, maxlag, variables, test='ssr_chi2test', verbose=False):\n    \"\"\"Check Granger Causality of all possible combinations of the Time series.\n    The rows are the response variable, columns are predictors. The values in the table \n    are the P-Values. P-Values lesser than the significance level (0.05), implies \n    the Null Hypothesis that the coefficients of the corresponding past values is \n    zero, that is, the X does not cause Y can be rejected.\n\n    data      : pandas dataframe containing the time series variables\n    variables : list containing names of the time series variables.\n    \"\"\"\n    df = pd.DataFrame(np.zeros((len(variables), len(variables))), columns=variables, index=variables)\n    for c in df.columns:\n        for r in df.index:\n            test_result = grangercausalitytests(data[[r, c]], maxlag=maxlag, verbose=False)\n            p_values = [round(test_result[i+1][0][test][1],4) for i in range(maxlag)]\n            if verbose: print(f'Y = {r}, X = {c}, P Values = {p_values}')\n            min_p_value = np.min(p_values)\n            df.loc[r, c] = min_p_value\n    df.columns = [var + '_x' for var in variables]\n    df.index = [var + '_y' for var in variables]\n    return df"
      ]
    },
    {
      "cell_type": "markdown",
      "id": "9649d9e1-778b-4cbf-a9fb-589728e43d87",
      "metadata": {},
      "outputs": [],
      "source": [
        "Let's perform the Granger Causality test on the price of BTC and Saldo indicator."
      ]
    },
    {
      "cell_type": "code",
      "id": "306dfbf2-d721-488e-a5dd-0984cc71e1ae",
      "metadata": {},
      "outputs": [],
      "source": [
        "pd.options.display.float_format = '{:.4f}'.format\ngrangers_causation_matrix(df[['price BTC', 'Saldo']], 1, variables=['price BTC', 'Saldo'])"
      ]
    },
    {
      "cell_type": "markdown",
      "id": "d8fb1380-a45f-4b8b-ad74-2d35f0324f4c",
      "metadata": {},
      "outputs": [],
      "source": [
        "#### How are the P-values to be read?\n\nIf the P-value is less than 0.05, then, assuming a significance level of 0.05, we reject the null hypothesis that X does not generally cause Y.\nHence, the p-value for <strong>Saldo BTC_x</strong> and <strong>price BTC_y</strong> in the above table is equal to 0.0 determining that Saldo causes price BTC and that leads us to reject the null hypothesis.\n\n<em>Therefore, it is likely that the Saldo movement will be useful in projecting price BTC.</em>\n\n<p>\nHowever, <strong>Saldo_x</strong> and <strong>price BTC_y</strong> have P-values of 0.0018. We cannot rule out the null hypothesis because the P-value does not equal or fall below 0.05.\n\n<em>In other words, Saldo BTC can not be predicted from price BTC.</em>\n</p>"
      ]
    },
    {
      "cell_type": "markdown",
      "id": "20b3ffed-2aa4-4d2a-95b1-63ffa536e971",
      "metadata": {},
      "outputs": [],
      "source": [
        "## Let's calculate Granger Causality Test for many available indicators pairs."
      ]
    },
    {
      "cell_type": "code",
      "id": "925c22d5-ad52-4dd9-88a0-291788e13d16",
      "metadata": {},
      "outputs": [],
      "source": [
        "grangers_causation_matrix(df[['size BTC', 'price BTC']], 1, variables=['size BTC', 'price BTC'])"
      ]
    },
    {
      "cell_type": "code",
      "id": "e8b14e23-f73e-43cf-a25e-9d529f9cc1eb",
      "metadata": {},
      "outputs": [],
      "source": [
        "grangers_causation_matrix(df[['size BTC', 'Saldo']], 1, variables=['size BTC', 'Saldo'])"
      ]
    },
    {
      "cell_type": "markdown",
      "id": "5df14b38-7210-4b49-9220-b2df6eeca7e1",
      "metadata": {},
      "outputs": [],
      "source": [
        "### Thank you for completing this lab!\n\n## Author\n\n<a href=\"https://author.skills.network/instructors/danyil_zhupnyk\">Danyil Zhupnyk</a><br>\n<a href=\"https://author.skills.network/instructors/yaroslav_vyklyuk_2\">Prof. Yaroslav Vyklyuk, DrSc, PhD</a><br>\n<a href=\"https://author.skills.network/instructors/mariya_fleychuk\">Prof. Mariya Fleychuk, DrSc, PhD</a><br>\n\n## Change Log\n\n| Date (YYYY-MM-DD) | Version | Changed By | Change Description                 |\n| ----------------- | ------- | ---------- | ---------------------------------- |\n| 2023-03-11        | 1.0     | D.Zhupnyk  | Created Lab                        |\n\n<hr>\n\n## <h3 align=\"center\"> © IBM Corporation 2023. All rights reserved. <h3/>\n"
      ]
    },
    {
      "cell_type": "code",
      "id": "458b98b9-05e6-4091-8694-2b7d9e1dfba1",
      "metadata": {},
      "outputs": [],
      "source": [
        ""
      ]
    }
  ],
  "metadata": {
    "language_info": {
      "name": ""
    },
    "kernelspec": {
      "name": "",
      "display_name": ""
    }
  },
  "nbformat": 4,
  "nbformat_minor": 4
}