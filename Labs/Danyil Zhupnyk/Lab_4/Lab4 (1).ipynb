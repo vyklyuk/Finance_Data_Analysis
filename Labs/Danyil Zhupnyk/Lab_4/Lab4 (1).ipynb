{
  "cells": [
    {
      "cell_type": "markdown",
      "id": "1563cde0-7916-45b0-bc12-faaa328cabbb",
      "metadata": {},
      "outputs": [],
      "source": [
        "<center>\n    <img src=\"https://cf-courses-data.s3.us.cloud-object-storage.appdomain.cloud/assets/logos/SN_web_lightmode.png\" width=\"400\" alt=\"cognitiveclass.ai logo\"  />\n</center>\n\n# Model Development\n\n\n## Lab 3. Data Analysis with Python\n\nEstimated time needed: **30** minutes\n\n## Objectives\n\nAfter completing this lab you will be able to:\n\n*   Explore features or charecteristics to predict price of cryptocurrency\n"
      ]
    },
    {
      "cell_type": "markdown",
      "id": "f5143a2a-b38c-478a-a7d5-c83f15d936f8",
      "metadata": {},
      "outputs": [],
      "source": [
        "<p>In this section, we will develop several models that will predict the price of the BTC using the variables or features. This is just an estimate but should give us an objective idea of how much the BTC should cost.</p>\n"
      ]
    },
    {
      "cell_type": "markdown",
      "id": "28b24c1d-c94b-4a33-af83-71c79c9aa793",
      "metadata": {},
      "outputs": [],
      "source": [
        "\n<p>In data analytics, we often use <b>Model Development</b> to help us predict future observations from the data we have.</p>\n\n<p>A model will help us understand the exact relationship between different variables and how these variables are used to predict the result.</p>\n"
      ]
    },
    {
      "cell_type": "markdown",
      "id": "d6b41074-9687-4d02-9708-9c7bb60d5045",
      "metadata": {},
      "outputs": [],
      "source": [
        "## Setup\n"
      ]
    },
    {
      "cell_type": "markdown",
      "id": "10fda640-cbb3-4e47-b4b1-c291bfe40a6e",
      "metadata": {},
      "outputs": [],
      "source": [
        "Import libraries:\n"
      ]
    },
    {
      "cell_type": "markdown",
      "id": "0f625e78-1ccd-4bcd-a280-b405623d7e9c",
      "metadata": {},
      "outputs": [],
      "source": [
        "If you run the lab locally using Anaconda, you can load the correct library and versions by uncommenting the following:\n"
      ]
    },
    {
      "cell_type": "code",
      "id": "74998eb0-50d8-41a5-b079-f7736c367148",
      "metadata": {},
      "outputs": [],
      "source": [
        "#If you run the lab locally using Anaconda, you can load the correct library and versions by uncommenting the following:\n#install specific version of libraries used in lab\n! mamba install pandas -y\n! mamba install numpy -y\n! mamba install scikit-learn -y\n! mamba install seaborn -y"
      ]
    },
    {
      "cell_type": "code",
      "id": "01f1fe4e-182e-4581-b7c4-1ff21217d406",
      "metadata": {},
      "outputs": [],
      "source": [
        "import pandas as pd\nimport numpy as np\nimport warnings\nwarnings.simplefilter(action='ignore', category=FutureWarning)\n\nfrom typing import List\nimport pandas as pd\nimport numpy as np\nfrom scipy import stats\nimport statsmodels.api as sm\n\nimport matplotlib.pyplot as plt\nimport seaborn as sns\n%matplotlib inline \n\nfrom sklearn.preprocessing import PolynomialFeatures\nfrom sklearn.linear_model import LinearRegression\nfrom sklearn.pipeline import Pipeline\nfrom sklearn.preprocessing import StandardScaler\nfrom sklearn.metrics import mean_squared_error\nfrom sklearn.metrics import r2_score\nfrom sklearn.metrics import mean_absolute_error\nimport warnings\nwarnings.filterwarnings(\"ignore\")\n"
      ]
    },
    {
      "cell_type": "code",
      "id": "69b3362d-eea8-4bf1-9230-a38843398b7c",
      "metadata": {},
      "outputs": [],
      "source": [
        "pd.set_option(\"display.precision\", 2)\npd.options.display.float_format = '{:.2f}'.format"
      ]
    },
    {
      "cell_type": "markdown",
      "id": "791d1846-49c8-441c-b503-e1308199b816",
      "metadata": {},
      "outputs": [],
      "source": [
        "This dataset was hosted on IBM Cloud object. Click <a href=\"https://cocl.us/DA101EN_object_storage?utm_medium=Exinfluencer&utm_source=Exinfluencer&utm_content=000026UJ&utm_term=10006555&utm_id=NA-SkillsNetwork-Channel-SkillsNetworkCoursesIBMDeveloperSkillsNetworkDA0101ENSkillsNetwork20235326-2021-01-01\">HERE</a> for free storage.\n"
      ]
    },
    {
      "cell_type": "markdown",
      "id": "16f926e0-8a3b-4ac5-9733-1170a5dc1aca",
      "metadata": {},
      "outputs": [],
      "source": [
        "you will need to download the dataset; if you are running locally, please comment out the following\n"
      ]
    },
    {
      "cell_type": "code",
      "id": "9ab4accc-192f-45dc-ad2b-3d35fa23d396",
      "metadata": {},
      "outputs": [],
      "source": [
        "path = \"https://cf-courses-data.s3.us.cloud-object-storage.appdomain.cloud/IBMSkillsNetwork-GPXX0QWEEN/lab3_df.csv\""
      ]
    },
    {
      "cell_type": "markdown",
      "id": "116dedb6-f925-44a1-b409-5fd3d869329f",
      "metadata": {},
      "outputs": [],
      "source": [
        "Load the data and store it in dataframe `df`:\n"
      ]
    },
    {
      "cell_type": "code",
      "id": "589921a3-072a-43a1-8d89-583e5f5a5267",
      "metadata": {},
      "outputs": [],
      "source": [
        "df = pd.read_csv(\"lab3_df.csv\", header=0)"
      ]
    },
    {
      "cell_type": "markdown",
      "id": "01927721-0b8d-45c9-9630-e8efaa997e19",
      "metadata": {},
      "outputs": [],
      "source": [
        "# 1. Linear Regression and Multiple Linear Regression\n"
      ]
    },
    {
      "cell_type": "markdown",
      "id": "d4a5790f-5d97-4dd6-832c-477a1181aa2d",
      "metadata": {},
      "outputs": [],
      "source": [
        "#### Linear Regression\n"
      ]
    },
    {
      "cell_type": "markdown",
      "id": "300b3d3b-3000-4929-a02d-4ff888971ba1",
      "metadata": {},
      "outputs": [],
      "source": [
        "<p>One example of a Data  Model that we will be using is:</p>\n<b>Simple Linear Regression</b>\n\n<br>\n<p>Simple Linear Regression is a method to help us understand the relationship between two variables:</p>\n<ul>\n    <li>The predictor/independent variable (X)</li>\n    <li>The response/dependent variable (that we want to predict)(Y)</li>\n</ul>\n\n<p>The result of Linear Regression is a <b>linear function</b> that predicts the response (dependent) variable as a function of the predictor (independent) variable.</p>\n"
      ]
    },
    {
      "cell_type": "markdown",
      "id": "55835e87-fb18-4c1f-aac9-4b400371b6d3",
      "metadata": {},
      "outputs": [],
      "source": [
        "$$\nY: Response \\ Variable\\\\\\\\\\\\\\\\\\\\\nX: Predictor \\ Variables\n$$\n"
      ]
    },
    {
      "cell_type": "markdown",
      "id": "700f30d7-52b1-4293-b9d9-466ab72a5a49",
      "metadata": {},
      "outputs": [],
      "source": [
        "<b>Linear Function</b>\n$$\nYhat = a + b  X\n$$\n"
      ]
    },
    {
      "cell_type": "markdown",
      "id": "04bba5e4-133b-4265-be18-ca5e3df560f1",
      "metadata": {},
      "outputs": [],
      "source": [
        "<ul>\n    <li>a refers to the <b>intercept</b> of the regression line, in other words: the value of Y when X is 0</li>\n    <li>b refers to the <b>slope</b> of the regression line, in other words: the value with which Y changes when X increases by 1 unit</li>\n</ul>\n"
      ]
    },
    {
      "cell_type": "markdown",
      "id": "864128d2-870c-4337-809b-509acf0fc583",
      "metadata": {},
      "outputs": [],
      "source": [
        "#### Create the linear regression object:\n"
      ]
    },
    {
      "cell_type": "code",
      "id": "47745bc0-b931-45f3-901b-9e7623b49e1a",
      "metadata": {},
      "outputs": [],
      "source": [
        "lm = LinearRegression()\nlm"
      ]
    },
    {
      "cell_type": "markdown",
      "id": "d58a4508-f4d4-4dab-a7ce-0e4e6089ee5b",
      "metadata": {},
      "outputs": [],
      "source": [
        "#### How could \"Saldo\" help us predict price BTC?\n"
      ]
    },
    {
      "cell_type": "markdown",
      "id": "99568edb-b278-43b7-abb6-8d51db0bc760",
      "metadata": {},
      "outputs": [],
      "source": [
        "For this example, we want to look at how Saldo can help us predict price BTC.\nUsing simple linear regression, we will create a linear function with \"Saldo\" as the predictor variable and the \"price BTC\" as the response variable.\n"
      ]
    },
    {
      "cell_type": "code",
      "id": "82c0091c-36e1-405f-a59a-18c466d48bbb",
      "metadata": {},
      "outputs": [],
      "source": [
        "X = df[['Saldo']]\nY = df['price BTC']"
      ]
    },
    {
      "cell_type": "markdown",
      "id": "3eb732e5-4722-43a0-a1ee-8454c04b721b",
      "metadata": {},
      "outputs": [],
      "source": [
        "Fit the linear model using Saldo:\n"
      ]
    },
    {
      "cell_type": "code",
      "id": "385270aa-004b-4f92-b8a1-dc21d0f2b858",
      "metadata": {},
      "outputs": [],
      "source": [
        "lm.fit(X,Y)"
      ]
    },
    {
      "cell_type": "markdown",
      "id": "0d2572e8-6efa-4ac7-80ca-724b054d7829",
      "metadata": {},
      "outputs": [],
      "source": [
        "We can output a prediction:\n"
      ]
    },
    {
      "cell_type": "code",
      "id": "74a4a659-1207-4c27-8dee-1646104129f1",
      "metadata": {},
      "outputs": [],
      "source": [
        "Yhat = lm.predict(X)\nYhat = [\"{:.2f}\".format(y) for y in Yhat[0:5]]\nprint(Yhat)"
      ]
    },
    {
      "cell_type": "markdown",
      "id": "0d9e2a30-7145-4e76-9ea7-ee9885b43093",
      "metadata": {},
      "outputs": [],
      "source": [
        "#### What is the value of the intercept (a)?\n"
      ]
    },
    {
      "cell_type": "code",
      "id": "7e3f7c60-9038-43ab-b6b0-207b45b5492b",
      "metadata": {},
      "outputs": [],
      "source": [
        "lm.intercept_\nintercept_formatted = \"{:.2f}\".format(lm.intercept_)\nprint(intercept_formatted)"
      ]
    },
    {
      "cell_type": "markdown",
      "id": "703a9185-d098-492d-a4b2-217fb92c91ae",
      "metadata": {},
      "outputs": [],
      "source": [
        "#### What is the value of the slope (b)?\n"
      ]
    },
    {
      "cell_type": "code",
      "id": "a604c8d4-3315-477f-9e73-fa8d47def121",
      "metadata": {},
      "outputs": [],
      "source": [
        "lm.coef_\ncoef_formatted = [\"{:.2f}\".format(c) for c in lm.coef_]\nprint(coef_formatted)"
      ]
    },
    {
      "cell_type": "markdown",
      "id": "49d55ea0-13b7-490c-8639-64ea4a6eddec",
      "metadata": {},
      "outputs": [],
      "source": [
        "### What is the final estimated linear model we get?"
      ]
    },
    {
      "cell_type": "markdown",
      "id": "c53f479e-54ee-416f-90b6-dfc26096dc0a",
      "metadata": {},
      "outputs": [],
      "source": [
        "As we saw above, we should get a final linear model with the structure:\n"
      ]
    },
    {
      "cell_type": "markdown",
      "id": "3c9c191f-8a55-4fcc-94c6-ffc651008189",
      "metadata": {},
      "outputs": [],
      "source": [
        "$$\nYhat = a + b  X\n$$\n"
      ]
    },
    {
      "cell_type": "markdown",
      "id": "a8e4d447-c2c6-4948-8bde-d4176dea94aa",
      "metadata": {},
      "outputs": [],
      "source": [
        "<div class=\"alert alert-danger alertdanger\" style=\"margin-top: 20px\">\n<h1>Question #1 a): </h1>\n\n<b>Create a linear regression object called \"lm1\".</b>\n\n</div>\n"
      ]
    },
    {
      "cell_type": "code",
      "id": "a193f09d-7a88-4547-8b99-87cd2cd8c62f",
      "metadata": {},
      "outputs": [],
      "source": [
        "# Write your code below and press Shift+Enter to execute \nlm1 = LinearRegression()\nlm1"
      ]
    },
    {
      "cell_type": "markdown",
      "id": "204ddd04-2420-4412-8664-4544c83a1ac9",
      "metadata": {},
      "outputs": [],
      "source": [
        "<details><summary>Click here for the solution</summary>\n\n```python\nlm1 = LinearRegression()\nlm1\n```\n\n</details>\n"
      ]
    },
    {
      "cell_type": "markdown",
      "id": "20cb0d8f-348c-4e7b-914b-3de054c391fc",
      "metadata": {},
      "outputs": [],
      "source": [
        "<div class=\"alert alert-danger alertdanger\" style=\"margin-top: 20px\">\n<h1> Question #1 b): </h1>\n\n<b>Train the model using \"Saldo\" as the independent variable and \"price BTC\" as the dependent variable?</b>\n\n</div>"
      ]
    },
    {
      "cell_type": "code",
      "id": "8dda521c-fd51-4738-b783-a5274d698743",
      "metadata": {},
      "outputs": [],
      "source": [
        "# Write your code below and press Shift+Enter to execute \nlm1.fit(df[['Saldo']], df[['price BTC']])\nlm1"
      ]
    },
    {
      "cell_type": "markdown",
      "id": "cb6a5907-b36c-411d-9cd7-c5774383fe2a",
      "metadata": {},
      "outputs": [],
      "source": [
        "<details><summary>Click here for the solution</summary>\n\n```python\nlm1.fit(df[['Saldo']], df[['size ASK']])\nlm1\n```\n\n</details>\n"
      ]
    },
    {
      "cell_type": "markdown",
      "id": "9dfe35dc-1017-4f29-8ec9-67d83c176bb3",
      "metadata": {},
      "outputs": [],
      "source": [
        "<div class=\"alert alert-danger alertdanger\" style=\"margin-top: 20px\">\n<h1>Question #1 c):</h1>\n\n<b>Find the slope and intercept of the model.</b>\n\n</div>\n"
      ]
    },
    {
      "cell_type": "markdown",
      "id": "a43ffbc4-67f7-4de3-a26d-121078b4d103",
      "metadata": {},
      "outputs": [],
      "source": [
        "#### Slope\n"
      ]
    },
    {
      "cell_type": "code",
      "id": "384ec8e9-f07c-497b-acdf-ed0fd1f1bfcd",
      "metadata": {},
      "outputs": [],
      "source": [
        "# Write your code below and press Shift+Enter to execute \nlm1.coef_"
      ]
    },
    {
      "cell_type": "markdown",
      "id": "a218d2a8-92e1-4563-b3b5-6053f50b9f01",
      "metadata": {},
      "outputs": [],
      "source": [
        "<details><summary>Click here for the solution</summary>\n    \n```python\n# Slope \nlm1.coef_\n```\n</details>\n"
      ]
    },
    {
      "cell_type": "markdown",
      "id": "bcd05163-0278-44f6-aae4-814d87a279a5",
      "metadata": {},
      "outputs": [],
      "source": [
        "#### Intercept\n"
      ]
    },
    {
      "cell_type": "code",
      "id": "8084d619-b276-4c99-9df5-87205257e5bd",
      "metadata": {},
      "outputs": [],
      "source": [
        "# Write your code below and press Shift+Enter to execute \nlm1.intercept_"
      ]
    },
    {
      "cell_type": "markdown",
      "id": "93e4dad9-f18d-4d40-ae3d-61678abd98c9",
      "metadata": {},
      "outputs": [],
      "source": [
        "\n<details><summary>Click here for the solution</summary>\n\n```python\n# Intercept\nlm1.intercept_\n```\n\n</details>\n"
      ]
    },
    {
      "cell_type": "markdown",
      "id": "643029a0-33c7-46c3-8297-f2accc60d5b8",
      "metadata": {},
      "outputs": [],
      "source": [
        "<div class=\"alert alert-danger alertdanger\" style=\"margin-top: 20px\">\n<h1>Question #1 d): </h1>\n\n<b>What is the equation of the predicted line? You can use x and yhat or \"Saldo\" or \"price BTC\".</b>\n\n</div>\n"
      ]
    },
    {
      "cell_type": "code",
      "id": "15f9c880-89e5-422e-ad89-26516463264d",
      "metadata": {},
      "outputs": [],
      "source": [
        "# Write your code below and press Shift+Enter to execute \n# using X and Y  \nYhat=2.85 + 17162.38*X\n\nPrice=2.85 + 17162.38*df['Saldo']"
      ]
    },
    {
      "cell_type": "code",
      "id": "1a06269e-4f92-4c73-9918-0bdbe36a9fe6",
      "metadata": {},
      "outputs": [],
      "source": [
        "Price"
      ]
    },
    {
      "cell_type": "markdown",
      "id": "92c22e69-1bbc-49f4-b01e-976c7838ea03",
      "metadata": {},
      "outputs": [],
      "source": [
        "<details><summary>Click here for the solution</summary>\n\n```python\n# using X and Y  \nYhat=2.85 + 17162.38*X\n\nPrice=2.85 + 17162.38*df['Saldo']\n\n```\n\n</details>\n"
      ]
    },
    {
      "cell_type": "markdown",
      "id": "19007b71-114c-4cac-bf54-1a820be09e68",
      "metadata": {},
      "outputs": [],
      "source": [
        "#### Multiple Linear Regression\n"
      ]
    },
    {
      "cell_type": "markdown",
      "id": "3f2fc725-677a-44ad-8a2f-520d46f8f1f5",
      "metadata": {},
      "outputs": [],
      "source": [
        "<p>What if we want to predict car price using more than one variable?</p>\n\n<p>If we want to use more variables in our model to predict car price, we can use <b>Multiple Linear Regression</b>.\nMultiple Linear Regression is very similar to Simple Linear Regression, but this method is used to explain the relationship between one continuous response (dependent) variable and <b>two or more</b> predictor (independent) variables.\nMost of the real-world regression models involve multiple predictors. We will illustrate the structure by using four predictor variables, but these results can generalize to any integer:</p>\n"
      ]
    },
    {
      "cell_type": "markdown",
      "id": "f3d7a168-03b6-4d37-98a0-ac6d7c524de1",
      "metadata": {},
      "outputs": [],
      "source": [
        "$$\nY: Response \\ Variable\\\\\\\\\\\\\\\\\\\\\nX\\_1 :Predictor\\ Variable \\ 1\\\\\\\\\nX\\_2: Predictor\\ Variable \\ 2\\\\\\\\\nX\\_3: Predictor\\ Variable \\ 3\\\\\\\\\nX\\_4: Predictor\\ Variable \\ 4\\\\\\\\\n$$\n"
      ]
    },
    {
      "cell_type": "markdown",
      "id": "709616ca-b353-45be-b19d-1639c2c93edd",
      "metadata": {},
      "outputs": [],
      "source": [
        "$$\na: intercept\\\\\\\\\\\\\\\\\\\\\nb\\_1 :coefficients \\ of\\ Variable \\ 1\\\\\\\\\nb\\_2: coefficients \\ of\\ Variable \\ 2\\\\\\\\\nb\\_3: coefficients \\ of\\ Variable \\ 3\\\\\\\\\nb\\_4: coefficients \\ of\\ Variable \\ 4\\\\\\\\\n$$\n"
      ]
    },
    {
      "cell_type": "markdown",
      "id": "4834d40f-b7a0-455a-a17e-01c3bce26364",
      "metadata": {},
      "outputs": [],
      "source": [
        "The equation is given by:\n"
      ]
    },
    {
      "cell_type": "markdown",
      "id": "d7ebd8d3-a6a3-451f-9388-a3a820cc2fe1",
      "metadata": {},
      "outputs": [],
      "source": [
        "$$\nYhat = a + b\\_1 X\\_1 + b\\_2 X\\_2 + b\\_3 X\\_3 + b\\_4 X\\_4\n$$\n"
      ]
    },
    {
      "cell_type": "markdown",
      "id": "ee593f25-96c0-40e6-b0ee-c8e4bc2c1329",
      "metadata": {},
      "outputs": [],
      "source": [
        "<p>From the previous section  we know that other good predictors of price could be:</p>\n<ul>\n    <li>size ASK</li>\n    <li>price BTC</li>\n    <li>size BID</li>\n    <li>size BTC</li>\n</ul>\nLet's develop a model using these variables as the predictor variables.\n"
      ]
    },
    {
      "cell_type": "code",
      "id": "f26f89d2-f92f-485d-83da-b33f9812e864",
      "metadata": {},
      "outputs": [],
      "source": [
        "Z = df[['size ASK', 'size BID', 'price BTC', 'size BTC']]"
      ]
    },
    {
      "cell_type": "markdown",
      "id": "fb596f84-08d4-4e1e-8044-77684920ef62",
      "metadata": {},
      "outputs": [],
      "source": [
        "Fit the linear model using the four above-mentioned variables.\n"
      ]
    },
    {
      "cell_type": "code",
      "id": "0063f3f5-2bb3-46c7-b6c8-a8ba6abb7adf",
      "metadata": {},
      "outputs": [],
      "source": [
        "lm.fit(Z, df['Saldo'])"
      ]
    },
    {
      "cell_type": "markdown",
      "id": "1bff7ef7-eec1-44f2-b044-f8779edaec91",
      "metadata": {},
      "outputs": [],
      "source": [
        "What is the value of the intercept(a)?\n"
      ]
    },
    {
      "cell_type": "code",
      "id": "27bf2781-2135-4e9f-a461-e57aafbc2005",
      "metadata": {},
      "outputs": [],
      "source": [
        "lm.intercept_\nintercept_formatted = \"{:.2f}\".format(lm.intercept_)\nprint(intercept_formatted)"
      ]
    },
    {
      "cell_type": "markdown",
      "id": "e8550b25-8203-4ac5-aaf5-40b1ec59d300",
      "metadata": {},
      "outputs": [],
      "source": [
        "What are the values of the coefficients (b1, b2, b3, b4)?\n"
      ]
    },
    {
      "cell_type": "code",
      "id": "4f12f96e-6c1f-4cbb-86bc-9ddba2130b8d",
      "metadata": {},
      "outputs": [],
      "source": [
        "lm.coef_\nlm.coef_\ncoef_formatted = [\"{:.2f}\".format(c) for c in lm.coef_]\nprint(coef_formatted)"
      ]
    },
    {
      "cell_type": "markdown",
      "id": "4c9cf36c-eb5a-4143-bcc3-197aa5ad23b5",
      "metadata": {},
      "outputs": [],
      "source": [
        "What is the final estimated linear model that we get?\n"
      ]
    },
    {
      "cell_type": "markdown",
      "id": "84fcd31b-4d49-4367-b50e-d61cc081216d",
      "metadata": {},
      "outputs": [],
      "source": [
        "As we saw above, we should get a final linear function with the structure:\n\n$$\nYhat = a + b\\_1 X\\_1 + b\\_2 X\\_2 + b\\_3 X\\_3 + b\\_4 X\\_4\n$$\n\n"
      ]
    },
    {
      "cell_type": "markdown",
      "id": "2085ba63-1eae-4837-a740-8371b1679a1d",
      "metadata": {},
      "outputs": [],
      "source": [
        "<div class=\"alert alert-danger alertdanger\" style=\"margin-top: 20px\">\n<h1> Question  #2 a): </h1>\nCreate and train a Multiple Linear Regression model \"lm2\" where the response variable is \"Saldo\", and the predictor variable is \"size BTC\" and  \"price BTC\".\n</div>\n"
      ]
    },
    {
      "cell_type": "code",
      "id": "2397b515-72e8-4ca0-85c8-714cd636109f",
      "metadata": {},
      "outputs": [],
      "source": [
        "# Write your code below and press Shift+Enter to execute \nlm2 = LinearRegression()\nlm2.fit(df[['size BTC' , 'price BTC']],df['Saldo'])"
      ]
    },
    {
      "cell_type": "markdown",
      "id": "fbde332c-eab2-4c58-9aa1-29fc0d06ecb3",
      "metadata": {},
      "outputs": [],
      "source": [
        "<details><summary>Click here for the solution</summary>\n\n```python\nlm2 = LinearRegression()\nlm2.fit(df[['size BTC' , 'price BTC']],df['Saldo'])\n\n```\n\n</details>\n"
      ]
    },
    {
      "cell_type": "markdown",
      "id": "b8ddba3f-14cd-4d2e-9f0d-822bc8b77a8d",
      "metadata": {},
      "outputs": [],
      "source": [
        "<div class=\"alert alert-danger alertdanger\" style=\"margin-top: 20px\">\n<h1>Question  #2 b): </h1>\n<b>Find the coefficient of the model.</b>\n</div>\n"
      ]
    },
    {
      "cell_type": "code",
      "id": "ed8b5c7f-c48c-4511-9c74-8f3493ae14b8",
      "metadata": {},
      "outputs": [],
      "source": [
        "# Write your code below and press Shift+Enter to execute \nlm2.coef_"
      ]
    },
    {
      "cell_type": "markdown",
      "id": "52847e44-5ae3-4fe3-86cc-a380c783b8b4",
      "metadata": {},
      "outputs": [],
      "source": [
        "<details><summary>Click here for the solution</summary>\n\n```python\nlm2.coef_\n\n```\n\n</details>\n"
      ]
    },
    {
      "cell_type": "markdown",
      "id": "42a0658f-79bd-4b5a-b399-f7c4ca9cacb7",
      "metadata": {},
      "outputs": [],
      "source": [
        "## 2. Model Evaluation Using Visualization\n"
      ]
    },
    {
      "cell_type": "markdown",
      "id": "fa675089-9035-429f-a424-0286a6d64ba2",
      "metadata": {},
      "outputs": [],
      "source": [
        "Now that we've developed some models, how do we evaluate our models and choose the best one? One way to do this is by using a visualization.\n"
      ]
    },
    {
      "cell_type": "markdown",
      "id": "79d21595-a51b-46f4-8c1a-77df454eade0",
      "metadata": {},
      "outputs": [],
      "source": [
        "### Regression Plot\n"
      ]
    },
    {
      "cell_type": "markdown",
      "id": "221f0e88-a970-4de2-80c3-415a7e3fcb8a",
      "metadata": {},
      "outputs": [],
      "source": [
        "<p>When it comes to simple linear regression, an excellent way to visualize the fit of our model is by using <b>regression plots</b>.</p>\n\n<p>This plot will show a combination of a scattered data points (a <b>scatterplot</b>), as well as the fitted <b>linear regression</b> line going through the data. This will give us a reasonable estimate of the relationship between the two variables, the strength of the correlation, as well as the direction (positive or negative correlation).</p>\n"
      ]
    },
    {
      "cell_type": "markdown",
      "id": "13347fa2-921b-4887-9187-6daca1bb2f4b",
      "metadata": {},
      "outputs": [],
      "source": [
        "Let's visualize **Saldo** as potential predictor variable of price:\n"
      ]
    },
    {
      "cell_type": "code",
      "id": "4281cf27-0d0f-49d5-a57d-b50016d97a98",
      "metadata": {},
      "outputs": [],
      "source": [
        "width = 12\nheight = 10\nplt.figure(figsize=(width, height))\nsns.regplot(x=\"Saldo\", y=\"price BTC\", data=df)\nplt.ylim(0,)"
      ]
    },
    {
      "cell_type": "markdown",
      "id": "dfaa0115-3197-4f2e-84c8-a9d7f87cd0eb",
      "metadata": {},
      "outputs": [],
      "source": [
        "<p>We can see from this plot that price is negatively correlated to highway-mpg since the regression slope is negative.\n\nOne thing to keep in mind when looking at a regression plot is to pay attention to how scattered the data points are around the regression line. This will give you a good indication of the variance of the data and whether a linear model would be the best fit or not. If the data is too far off from the line, this linear model might not be the best model for this data.\n\nLet's compare this plot to the regression plot of \"price BTC\".</p>\n"
      ]
    },
    {
      "cell_type": "code",
      "id": "6ef8bf8c-3a17-42eb-96ff-84c7cc21d5ea",
      "metadata": {},
      "outputs": [],
      "source": [
        "plt.figure(figsize=(width, height))\nsns.regplot(x=\"price BTC\", y=\"size BTC\", data=df)\nplt.ylim(0,)"
      ]
    },
    {
      "cell_type": "markdown",
      "id": "81c4385d-1a9d-4e57-93c5-5c968f7db16a",
      "metadata": {},
      "outputs": [],
      "source": [
        "<div class=\"alert alert-danger alertdanger\" style=\"margin-top: 20px\">\n<h1>Question #3:</h1>\n<b>Given the regression plots above, is \"size ASK\" or \"size BID\" more strongly correlated with \"Saldo\"? Use the method  \".corr()\" to verify your answer.</b>\n</div>\n"
      ]
    },
    {
      "cell_type": "code",
      "id": "acbb2c00-2a63-4fe6-8d80-8a5e97807394",
      "metadata": {},
      "outputs": [],
      "source": [
        "# Write your code below and press Shift+Enter to execute \ndf[[\"size ASK\",\"size BID\",\"Saldo\"]].corr()"
      ]
    },
    {
      "cell_type": "markdown",
      "id": "c14fdd57-0579-4fdb-9594-fd18562040ba",
      "metadata": {},
      "outputs": [],
      "source": [
        "<details><summary>Click here for the solution</summary>\n\n```python\ndf[[\"size ASK\",\"size BID\",\"Saldo\"]].corr()\n\n```\n\n</details>\n"
      ]
    },
    {
      "cell_type": "markdown",
      "id": "1f784454-c6f4-47c2-b9e8-660e4e3de935",
      "metadata": {},
      "outputs": [],
      "source": [
        "### Residual Plot\n\n<p>A good way to visualize the variance of the data is to use a residual plot.</p>\n\n<p>What is a <b>residual</b>?</p>\n\n<p>The difference between the observed value (y) and the predicted value (Yhat) is called the residual (e). When we look at a regression plot, the residual is the distance from the data point to the fitted regression line.</p>\n\n<p>So what is a <b>residual plot</b>?</p>\n\n<p>A residual plot is a graph that shows the residuals on the vertical y-axis and the independent variable on the horizontal x-axis.</p>\n\n<p>What do we pay attention to when looking at a residual plot?</p>\n\n<p>We look at the spread of the residuals:</p>\n\n<p>- If the points in a residual plot are <b>randomly spread out around the x-axis</b>, then a <b>linear model is appropriate</b> for the data.\n\nWhy is that? Randomly spread out residuals means that the variance is constant, and thus the linear model is a good fit for this data.</p>\n"
      ]
    },
    {
      "cell_type": "code",
      "id": "ef78ba68-2f97-4c89-b42c-c07fb97d9566",
      "metadata": {},
      "outputs": [],
      "source": [
        "width = 12\nheight = 10\nplt.figure(figsize=(width, height))\nsns.residplot(x=df['Saldo'],y=df['price BTC'])\nplt.show()"
      ]
    },
    {
      "cell_type": "markdown",
      "id": "a7b7ca16-280e-4546-a390-8b11c7e46c54",
      "metadata": {},
      "outputs": [],
      "source": [
        "<i>What is this plot telling us?</i>\n\n<p>We can see from this residual plot that the residuals are not randomly spread around the x-axis, leading us to believe that maybe a non-linear model is more appropriate for this data.</p>\n"
      ]
    },
    {
      "cell_type": "markdown",
      "id": "c8b8667b-1442-4a7f-861a-bffd13badc4f",
      "metadata": {},
      "outputs": [],
      "source": [
        "### Multiple Linear Regression\n"
      ]
    },
    {
      "cell_type": "markdown",
      "id": "9814103d-56a1-4648-bd5e-c773cc374651",
      "metadata": {},
      "outputs": [],
      "source": [
        "<p>How do we visualize a model for Multiple Linear Regression? This gets a bit more complicated because you can't visualize it with regression or residual plot.</p>\n\n<p>One way to look at the fit of the model is by looking at the <b>distribution plot</b>. We can look at the distribution of the fitted values that result from the model and compare it to the distribution of the actual values.</p>\n"
      ]
    },
    {
      "cell_type": "markdown",
      "id": "90fb1918-b57c-4e24-b15c-c5bc33b48483",
      "metadata": {},
      "outputs": [],
      "source": [
        "First, let's make a prediction:\n"
      ]
    },
    {
      "cell_type": "code",
      "id": "1ceb3f50-0f05-4338-a3e0-87f7f8b43702",
      "metadata": {},
      "outputs": [],
      "source": [
        "Y_hat = lm.predict(Z)\n"
      ]
    },
    {
      "cell_type": "code",
      "id": "409ffb18-9df3-4b77-ba70-1670b0085e08",
      "metadata": {},
      "outputs": [],
      "source": [
        "plt.figure(figsize=(width, height))\n\n\nax1 = sns.distplot(df['price BTC'], hist=False, color=\"r\", label=\"Actual Value\")\nsns.distplot(Y_hat, hist=False, color=\"b\", label=\"Fitted Values\" , ax=ax1)\n\n\nplt.title('Actual vs Fitted Values for Price')\nplt.xlabel('Price BTC(in dollars)')\nplt.ylabel('Proportion')\n\nplt.show()\nplt.close()"
      ]
    },
    {
      "cell_type": "markdown",
      "id": "31e79495-573b-4f6a-9907-f287dfc9033a",
      "metadata": {},
      "outputs": [],
      "source": [
        "<p>We can see that the fitted values are reasonably close to the actual values since the two distributions overlap a bit. However, there is definitely some room for improvement.</p>\n"
      ]
    },
    {
      "cell_type": "markdown",
      "id": "c7223829-4a78-4d04-9fb1-50f971be25bc",
      "metadata": {},
      "outputs": [],
      "source": [
        "# 3. Polynomial Regression and Pipelines\n"
      ]
    },
    {
      "cell_type": "markdown",
      "id": "81339ee3-7ac9-4817-853e-a60bd8faecb8",
      "metadata": {},
      "outputs": [],
      "source": [
        "<p><b>Polynomial regression</b> is a particular case of the general linear regression model or multiple linear regression models.</p> \n<p>We get non-linear relationships by squaring or setting higher-order terms of the predictor variables.</p>\n\n<p>There are different orders of polynomial regression:</p>\n"
      ]
    },
    {
      "cell_type": "markdown",
      "id": "0c093dbb-f0da-4ee7-835d-5c6312383f36",
      "metadata": {},
      "outputs": [],
      "source": [
        "<center><b>Quadratic - 2nd Order</b></center>\n$$\nYhat = a + b_1 X +b_2 X^2 \n$$\n\n<center><b>Cubic - 3rd Order</b></center>\n$$\nYhat = a + b_1 X +b_2 X^2 +b_3 X^3\\\\\\\\\\\\\\\\\\\\\n$$\n\n<center><b>Higher-Order</b>:</center>\n$$\nY = a + b_1 X +b_2 X^2 +b_3 X^3 ....\\\\\\\\\n$$\n"
      ]
    },
    {
      "cell_type": "markdown",
      "id": "2d368e6e-8414-4b22-8b3d-8507b0976a6d",
      "metadata": {},
      "outputs": [],
      "source": [
        "<p>We saw earlier that a linear model did not provide the best fit while using \"Saldo\" as the predictor variable. Let's see if we can try fitting a polynomial model to the data instead.</p>\n"
      ]
    },
    {
      "cell_type": "markdown",
      "id": "553504a5-c5f4-4080-aa61-05699e4c1fb9",
      "metadata": {},
      "outputs": [],
      "source": [
        "<p>We will use the following function to plot the data:</p>\n"
      ]
    },
    {
      "cell_type": "code",
      "id": "5f37449f-b812-4ae8-abab-409b8ce3add3",
      "metadata": {},
      "outputs": [],
      "source": [
        "def PlotPolly(model, independent_variable, dependent_variabble, Name):\n    x_new = np.linspace(15, 55, 100)\n    y_new = model(x_new)\n\n    plt.plot(independent_variable, dependent_variabble, '.', x_new, y_new, '-')\n    plt.title('Polynomial Fit with Matplotlib')\n    ax = plt.gca()\n    ax.set_facecolor((0.898, 0.898, 0.898))\n    fig = plt.gcf()\n    plt.xlabel(Name)\n    plt.ylabel('Price BTC')\n\n    plt.show()\n    plt.close()"
      ]
    },
    {
      "cell_type": "markdown",
      "id": "20ca5a0b-bec5-471d-9bd8-696bfcd6e380",
      "metadata": {},
      "outputs": [],
      "source": [
        "Let's get the variables:\n"
      ]
    },
    {
      "cell_type": "code",
      "id": "1324531b-a8b0-4a7c-91e7-5dbf95f24a5c",
      "metadata": {},
      "outputs": [],
      "source": [
        "x = df['Saldo']\ny = df['price BTC']"
      ]
    },
    {
      "cell_type": "markdown",
      "id": "5f07cd89-ebe2-459d-aaf4-4c63afc68454",
      "metadata": {},
      "outputs": [],
      "source": [
        "Let's fit the polynomial using the function <b>polyfit</b>, then use the function <b>poly1d</b> to display the polynomial function.\n"
      ]
    },
    {
      "cell_type": "code",
      "id": "3beb9586-461a-4be0-93b3-04a463fdf18b",
      "metadata": {},
      "outputs": [],
      "source": [
        "# Here we use a polynomial of the 3rd order (cubic) \nf = np.polyfit(x, y, 3)\np = np.poly1d(f)\nprint(p)"
      ]
    },
    {
      "cell_type": "markdown",
      "id": "dd5d3ec7-030b-41ed-a739-0b8ee4e36024",
      "metadata": {},
      "outputs": [],
      "source": [
        "Let's plot the function:\n"
      ]
    },
    {
      "cell_type": "code",
      "id": "36981fd9-88b2-46f8-bd03-806376ed2289",
      "metadata": {},
      "outputs": [],
      "source": [
        "PlotPolly(p, x, y, 'size ASK')"
      ]
    },
    {
      "cell_type": "code",
      "id": "49929728-8382-48b8-b51d-e4003dfd8c93",
      "metadata": {},
      "outputs": [],
      "source": [
        "coeffs = np.polyfit(x, y, 3)\n\nfor i, coeff in enumerate(coeffs):\n    print(\"coeff{}: {:.2f}\".format(i, coeff))\n"
      ]
    },
    {
      "cell_type": "markdown",
      "id": "e85975c1-118e-4771-89ac-6544aae4365a",
      "metadata": {},
      "outputs": [],
      "source": [
        "<p>We can already see from plotting that this polynomial model performs better than the linear model. This is because the generated polynomial function  \"hits\" more of the data points.</p>\n"
      ]
    },
    {
      "cell_type": "markdown",
      "id": "c2199892-502c-49c2-85a5-48c026797fcf",
      "metadata": {},
      "outputs": [],
      "source": [
        "<div class=\"alert alert-danger alertdanger\" style=\"margin-top: 20px\">\n<h1>Question  #4:</h1>\n<b>Create 11 order polynomial model with the variables x and y from above.</b>\n</div>\n"
      ]
    },
    {
      "cell_type": "code",
      "id": "bd6677d3-489c-4fc6-9495-d1f8f4ee91fe",
      "metadata": {},
      "outputs": [],
      "source": [
        "# Write your code below and press Shift+Enter to execute"
      ]
    },
    {
      "cell_type": "markdown",
      "id": "c4869acf-4d07-401d-940a-883ec9cf4882",
      "metadata": {},
      "outputs": [],
      "source": [
        "<details><summary>Click here for the solution</summary>\n\n```python\n# Here we use a polynomial of the 11rd order (cubic) \nf1 = np.polyfit(x, y, 11)\np1 = np.poly1d(f1)\nprint(p1)\nPlotPolly(p1,x,y, 'size ASK')\n\n```\n\n</details>\n"
      ]
    },
    {
      "cell_type": "markdown",
      "id": "b8f5678e-219e-4c7c-8606-0d9b1b127a3c",
      "metadata": {},
      "outputs": [],
      "source": [
        "<p>The analytical expression for Multivariate Polynomial function gets complicated. For example, the expression for a second-order (degree=2) polynomial with two variables is given by:</p>\n"
      ]
    },
    {
      "cell_type": "markdown",
      "id": "d11547e3-ad05-42db-bc65-9a8dc7857762",
      "metadata": {},
      "outputs": [],
      "source": [
        "$$\nYhat = a + b\\_1 X\\_1 +b\\_2 X\\_2 +b\\_3 X\\_1 X\\_2+b\\_4 X\\_1^2+b\\_5 X\\_2^2\n$$\n"
      ]
    },
    {
      "cell_type": "markdown",
      "id": "ff7d753c-293a-4e0a-88ee-51d057750e33",
      "metadata": {},
      "outputs": [],
      "source": [
        "We create a <b>PolynomialFeatures</b> object of degree 2:\n"
      ]
    },
    {
      "cell_type": "code",
      "id": "25c35804-6595-4b8b-b973-86e21dbe3d45",
      "metadata": {},
      "outputs": [],
      "source": [
        "pr=PolynomialFeatures(degree=2)\npr"
      ]
    },
    {
      "cell_type": "code",
      "id": "3cbe8cdb-b8b5-4608-b946-f1b2111fc86a",
      "metadata": {},
      "outputs": [],
      "source": [
        "Z_pr=pr.fit_transform(Z)"
      ]
    },
    {
      "cell_type": "code",
      "id": "d3693813-9fe1-4556-95b5-39728b96b0c7",
      "metadata": {},
      "outputs": [],
      "source": [
        "Z.shape"
      ]
    },
    {
      "cell_type": "code",
      "id": "cccd80ee-51d3-48a7-803a-7f5189c60901",
      "metadata": {},
      "outputs": [],
      "source": [
        "Z_pr.shape"
      ]
    },
    {
      "cell_type": "markdown",
      "id": "d2aeda15-0050-4ef8-80be-836afa3c65e6",
      "metadata": {},
      "outputs": [],
      "source": [
        "## Pipeline\n"
      ]
    },
    {
      "cell_type": "markdown",
      "id": "30cb06f6-ad2d-422c-a418-4fbcf144bd02",
      "metadata": {},
      "outputs": [],
      "source": [
        "We create the pipeline by creating a list of tuples including the name of the model or estimator and its corresponding constructor.\n"
      ]
    },
    {
      "cell_type": "code",
      "id": "822c5d96-aeb5-44d7-a64b-a532be746490",
      "metadata": {},
      "outputs": [],
      "source": [
        "Input=[('scale',StandardScaler()), ('polynomial', PolynomialFeatures(include_bias=False)), ('model',LinearRegression())]"
      ]
    },
    {
      "cell_type": "markdown",
      "id": "b9611096-f130-4a48-a3b8-b32676b2a793",
      "metadata": {},
      "outputs": [],
      "source": [
        "We input the list as an argument to the pipeline constructor:\n"
      ]
    },
    {
      "cell_type": "code",
      "id": "18a90f81-405d-49e9-94f4-bb9ac080e353",
      "metadata": {},
      "outputs": [],
      "source": [
        "pipe=Pipeline(Input)\npipe"
      ]
    },
    {
      "cell_type": "markdown",
      "id": "c8c170bb-703e-4601-9139-b329b1548d19",
      "metadata": {},
      "outputs": [],
      "source": [
        "First, we convert the data type Z to type float to avoid conversion warnings that may appear as a result of StandardScaler taking float inputs.\n\nThen, we can normalize the data,  perform a transform and fit the model simultaneously.\n"
      ]
    },
    {
      "cell_type": "code",
      "id": "204b9f21-cb77-41cc-a4d6-c60b40d38429",
      "metadata": {},
      "outputs": [],
      "source": [
        "Z = Z.astype(float)\npipe.fit(Z,y)"
      ]
    },
    {
      "cell_type": "markdown",
      "id": "c4c00ac8-41f5-48de-bf19-fba8749daca3",
      "metadata": {},
      "outputs": [],
      "source": [
        "Similarly,  we can normalize the data, perform a transform and produce a prediction  simultaneously.\n"
      ]
    },
    {
      "cell_type": "code",
      "id": "85e285b4-b6a4-49d6-96e3-d4cd940e7f07",
      "metadata": {},
      "outputs": [],
      "source": [
        "ypipe = pipe.predict(Z)\nypipe_formatted = np.round(ypipe, 2)\nprint(ypipe_formatted[0:4])"
      ]
    },
    {
      "cell_type": "markdown",
      "id": "5e9ae8d7-f33c-4a06-94c7-2b420b641911",
      "metadata": {},
      "outputs": [],
      "source": [
        "<div class=\"alert alert-danger alertdanger\" style=\"margin-top: 20px\">\n<h1>Question #5:</h1>\n<b>Create a pipeline that standardizes the data, then produce a prediction using a linear regression model using the features Z and target y.</b>\n</div>\n"
      ]
    },
    {
      "cell_type": "code",
      "id": "b2217df1-230f-4358-a82d-c6d84bffd93f",
      "metadata": {},
      "outputs": [],
      "source": [
        "# Write your code below and press Shift+Enter to execute \n"
      ]
    },
    {
      "cell_type": "markdown",
      "id": "fc17fea1-d250-4005-a96c-56e74aa0d06b",
      "metadata": {},
      "outputs": [],
      "source": [
        "<details><summary>Click here for the solution</summary>\n\n```python\nInput=[('scale',StandardScaler()),('model',LinearRegression())]\n\npipe=Pipeline(Input)\n\npipe.fit(Z,y)\n\nypipe=pipe.predict(Z)\nypipe[0:10]\n\n```\n\n</details>\n"
      ]
    },
    {
      "cell_type": "markdown",
      "id": "206e4994-dcb2-4105-90bb-7ebd889ed0ff",
      "metadata": {},
      "outputs": [],
      "source": [
        "# 4. Measures for In-Sample Evaluation\n"
      ]
    },
    {
      "cell_type": "markdown",
      "id": "3e3615c0-7363-422f-ac5d-a715fb39689f",
      "metadata": {},
      "outputs": [],
      "source": [
        "<p>When evaluating our models, not only do we want to visualize the results, but we also want a quantitative measure to determine how accurate the model is.</p>\n\n<p>Two very important measures that are often used in Statistics to determine the accuracy of a model are:</p>\n<ul>\n    <li><b>$R^2$ / R-squared</b></li>\n    <li><b>Mean Squared Error (MSE)</b></li>\n</ul>\n\n<b>R-squared</b>\n\n<p>R squared, also known as the coefficient of determination, is a measure to indicate how close the data is to the fitted regression line.</p>\n\n<p>The value of the R-squared is the percentage of variation of the response variable (y) that is explained by a linear model.</p>\n\n<b>Mean Squared Error (MSE)</b>\n\n<p>The Mean Squared Error measures the average of the squares of errors. That is, the difference between actual value (y) and the estimated value (ŷ).</p>\n"
      ]
    },
    {
      "cell_type": "markdown",
      "id": "68a0fb48-27b3-4491-add2-fc8a83008a83",
      "metadata": {},
      "outputs": [],
      "source": [
        "### Model 1: Simple Linear Regression\n"
      ]
    },
    {
      "cell_type": "markdown",
      "id": "b6d6e68e-6041-446c-ba6c-f71acda8cef5",
      "metadata": {},
      "outputs": [],
      "source": [
        "Let's calculate the $R^2$:\n"
      ]
    },
    {
      "cell_type": "code",
      "id": "3be9ff2b-70c1-4941-b34c-093ee4cae4bd",
      "metadata": {},
      "outputs": [],
      "source": [
        "lm.fit(X, Y)\nr_squared = lm.score(X, Y)\nprint('The R-square is: {:.2f}'.format(r_squared))"
      ]
    },
    {
      "cell_type": "markdown",
      "id": "1e85aa84-81f2-4b8a-a779-4f72fce45d82",
      "metadata": {},
      "outputs": [],
      "source": [
        "Let's calculate the MSE:\n"
      ]
    },
    {
      "cell_type": "markdown",
      "id": "98634ad9-9b9d-45d1-9c74-a7bc16fae51c",
      "metadata": {},
      "outputs": [],
      "source": [
        "We can predict the output i.e., \"yhat\" using the predict method, where X is the input variable:\n"
      ]
    },
    {
      "cell_type": "code",
      "id": "9f908319-6958-43b4-be1e-38e06a29831b",
      "metadata": {},
      "outputs": [],
      "source": [
        "Yhat = lm.predict(X)\nYhat_formatted = [\"{:.2f}\".format(val) for val in Yhat[0:4]]\nprint('The output of the first four predicted value is: ', Yhat_formatted)\n"
      ]
    },
    {
      "cell_type": "markdown",
      "id": "279bc298-b0e2-4b81-9148-6eba78d7245a",
      "metadata": {},
      "outputs": [],
      "source": [
        "We can compare the predicted results with the actual results:\n"
      ]
    },
    {
      "cell_type": "code",
      "id": "878e401f-26b7-42e2-9622-b17b261599c4",
      "metadata": {},
      "outputs": [],
      "source": [
        "MSE = mean_squared_error(Y, Yhat)\nprint('The mean square error is: {:.2f}'.format(MSE))"
      ]
    },
    {
      "cell_type": "markdown",
      "id": "03da05d0-b04b-4faa-8e7c-2098065f21ba",
      "metadata": {},
      "outputs": [],
      "source": [
        "We can also calculate MAE"
      ]
    },
    {
      "cell_type": "markdown",
      "id": "5cb7559b-d278-4643-aced-a3eb4664d9b2",
      "metadata": {},
      "outputs": [],
      "source": [
        "### MAE"
      ]
    },
    {
      "cell_type": "code",
      "id": "8faf199f-19fd-40e2-9116-9714e94a0138",
      "metadata": {},
      "outputs": [],
      "source": [
        "MAE = mean_absolute_error(Y, Yhat)\nprint('The mean absolute error is: {:.2f}'.format(MAE))"
      ]
    },
    {
      "cell_type": "markdown",
      "id": "2dc4dac5-a49d-47da-b16a-1535cca2bcbb",
      "metadata": {},
      "outputs": [],
      "source": [
        "At least we need to calculete RMSE"
      ]
    },
    {
      "cell_type": "markdown",
      "id": "402d9e84-f4e7-48df-b1f3-906aae69bbb4",
      "metadata": {},
      "outputs": [],
      "source": [
        "### RMSE"
      ]
    },
    {
      "cell_type": "code",
      "id": "f686e6cd-b317-4c5c-9524-fd487b2cc34e",
      "metadata": {},
      "outputs": [],
      "source": [
        "MSE = mean_squared_error(Y, Yhat)\nRMSE = np.sqrt(MSE)\nprint('The root mean squared error is: {:.2f}'.format(RMSE))"
      ]
    },
    {
      "cell_type": "markdown",
      "id": "42c04b12-a69f-4894-95c0-f8c518ccb30c",
      "metadata": {},
      "outputs": [],
      "source": [
        "### Model 2: Multiple Linear Regression\n"
      ]
    },
    {
      "cell_type": "markdown",
      "id": "d34fca63-0ebb-40c4-bffd-49bd5521dc7c",
      "metadata": {},
      "outputs": [],
      "source": [
        "Let's calculate the $R^2$:\n"
      ]
    },
    {
      "cell_type": "code",
      "id": "cbdcb24c-1471-4197-a168-cb9f75c7523f",
      "metadata": {},
      "outputs": [],
      "source": [
        "# fit the model \nlm.fit(Z, df[['price BTC','size BTC','size ASK']])\n# Find the R^2\nprint('The R-square is: ', lm.score(Z, df[['price BTC','size BTC', 'size ASK']]))"
      ]
    },
    {
      "cell_type": "markdown",
      "id": "9ab851fa-5f75-4966-a1aa-72b0a2303cba",
      "metadata": {},
      "outputs": [],
      "source": [
        "Let's calculate the MSE.\n"
      ]
    },
    {
      "cell_type": "markdown",
      "id": "8e42d92d-c767-4bf6-ab9e-38293022e91e",
      "metadata": {},
      "outputs": [],
      "source": [
        "We produce a prediction:\n"
      ]
    },
    {
      "cell_type": "code",
      "id": "9759edcf-36ed-4d53-9a24-1a00e2bc47cb",
      "metadata": {},
      "outputs": [],
      "source": [
        "Y_predict_multifit = lm.predict(Z)"
      ]
    },
    {
      "cell_type": "markdown",
      "id": "aa6ace68-50f7-4bfb-8356-107fe9d08e17",
      "metadata": {},
      "outputs": [],
      "source": [
        "We compare the predicted results with the actual results:\n"
      ]
    },
    {
      "cell_type": "code",
      "id": "13d632be-6059-4373-ba83-102ca729c305",
      "metadata": {},
      "outputs": [],
      "source": [
        "MSE = mean_squared_error(df[['price BTC','size BTC', 'size ASK']], Y_predict_multifit)\nprint('Mean squared error (MSE):', MSE)"
      ]
    },
    {
      "cell_type": "markdown",
      "id": "bcc8c057-d87a-455d-97fe-ce307e1977b5",
      "metadata": {},
      "outputs": [],
      "source": [
        "We can also calculate the MAE:"
      ]
    },
    {
      "cell_type": "markdown",
      "id": "aa5d72aa-69ac-4def-bc01-d0486e2325a0",
      "metadata": {},
      "outputs": [],
      "source": [
        "### MAE"
      ]
    },
    {
      "cell_type": "code",
      "id": "2bd389e6-5eb1-47d5-8dec-8a3b5963b944",
      "metadata": {},
      "outputs": [],
      "source": [
        "MAE = mean_absolute_error(df[['price BTC','size BTC', 'size ASK']], Y_predict_multifit)\nprint('Mean absolute error (MAE):', MAE)"
      ]
    },
    {
      "cell_type": "markdown",
      "id": "61e76315-9f06-4986-abaa-35cc836c4eb9",
      "metadata": {},
      "outputs": [],
      "source": [
        "At least we can calculate RMSE"
      ]
    },
    {
      "cell_type": "markdown",
      "id": "979b3cdd-0895-4eba-bb30-befd4b243164",
      "metadata": {},
      "outputs": [],
      "source": [
        "### RMSE"
      ]
    },
    {
      "cell_type": "code",
      "id": "bce2d637-faee-4f4b-8632-9ca28f2b4c36",
      "metadata": {},
      "outputs": [],
      "source": [
        "RMSE = np.sqrt(mean_squared_error(df[['price BTC','size BTC', 'size ASK']], Y_predict_multifit))\nprint('Root mean squared error (RMSE):', RMSE)"
      ]
    },
    {
      "cell_type": "markdown",
      "id": "90530e41-9097-448f-bdb0-9fcf2e81c627",
      "metadata": {},
      "outputs": [],
      "source": [
        "### Model 3: Polynomial Fit\n"
      ]
    },
    {
      "cell_type": "markdown",
      "id": "b5b6d470-7904-425b-858a-db480fd4520e",
      "metadata": {},
      "outputs": [],
      "source": [
        "Let's calculate the R^2.\n"
      ]
    },
    {
      "cell_type": "markdown",
      "id": "337a92dd-a367-4338-9c73-b457d4b35c3f",
      "metadata": {},
      "outputs": [],
      "source": [
        "We apply the function to get the value of R^2:\n"
      ]
    },
    {
      "cell_type": "code",
      "id": "6937e878-0dc7-45e3-a759-b725c7f645b0",
      "metadata": {},
      "outputs": [],
      "source": [
        "r_squared = r2_score(y, p(x))\nprint('The R-square value is: {:.2f}'.format(r_squared))"
      ]
    },
    {
      "cell_type": "markdown",
      "id": "de5100d3-c73f-48b9-a77b-a48c6033f995",
      "metadata": {},
      "outputs": [],
      "source": [
        "### MSE\n"
      ]
    },
    {
      "cell_type": "markdown",
      "id": "50495d7d-7a05-46dc-8816-8b8085bd4d79",
      "metadata": {},
      "outputs": [],
      "source": [
        "We can also calculate the MSE:\n"
      ]
    },
    {
      "cell_type": "code",
      "id": "3eca3e0c-ebe9-4392-ac12-24043a384998",
      "metadata": {},
      "outputs": [],
      "source": [
        "MSE = mean_squared_error(y, p(x))\nprint('Mean squared error (MSE): {:.2f}'.format(MSE))"
      ]
    },
    {
      "cell_type": "markdown",
      "id": "720a29ee-26d2-483c-a5df-382e707c97fa",
      "metadata": {},
      "outputs": [],
      "source": [
        "### MAE\n"
      ]
    },
    {
      "cell_type": "markdown",
      "id": "74314683-3403-445b-9331-8c1d6080543d",
      "metadata": {},
      "outputs": [],
      "source": [
        "Next calculete the MAE "
      ]
    },
    {
      "cell_type": "code",
      "id": "dc6af464-451f-45d5-a3e9-f49aed0e63e3",
      "metadata": {},
      "outputs": [],
      "source": [
        "MAE = mean_absolute_error(y, p(x))\nprint('Mean absolute error (MAE): {:.2f}'.format(MAE))"
      ]
    },
    {
      "cell_type": "markdown",
      "id": "6d1d96ea-8c5d-4ec5-8c8c-d3ba60375f18",
      "metadata": {},
      "outputs": [],
      "source": [
        "### RMSE"
      ]
    },
    {
      "cell_type": "markdown",
      "id": "da92b90b-0db7-4c9f-b55d-3725117274ce",
      "metadata": {},
      "outputs": [],
      "source": [
        "At least calculate RMSE"
      ]
    },
    {
      "cell_type": "code",
      "id": "d3c3a7af-bf61-4285-be90-e31a15dbb266",
      "metadata": {},
      "outputs": [],
      "source": [
        "RMSE = np.sqrt(mean_squared_error(y, p(x)))\nprint('Root mean squared error (RMSE): {:.2f}'.format(RMSE))"
      ]
    },
    {
      "cell_type": "markdown",
      "id": "96dc8ecc-7223-4375-a100-4a4c5dcfa0e9",
      "metadata": {},
      "outputs": [],
      "source": [
        "## 5. Prediction and Decision Making\n### Prediction\n\n<p>In the previous section, we trained the model using the method <b>fit</b>. Now we will use the method <b>predict</b> to produce a prediction. Lets import <b>pyplot</b> for plotting; we will also be using some functions from numpy.</p>\n"
      ]
    },
    {
      "cell_type": "markdown",
      "id": "560f6907-948e-4c30-8dc3-76e63fa92a38",
      "metadata": {},
      "outputs": [],
      "source": [
        "Create a new input:\n"
      ]
    },
    {
      "cell_type": "code",
      "id": "9d37bb68-5188-46d6-821f-a1d1b3d70024",
      "metadata": {},
      "outputs": [],
      "source": [
        "new_input=np.arange(1, 100, 1).reshape(-1, 1)"
      ]
    },
    {
      "cell_type": "markdown",
      "id": "2eb1c215-fb62-4a57-b6d6-e3485552753d",
      "metadata": {},
      "outputs": [],
      "source": [
        "Fit the model:\n"
      ]
    },
    {
      "cell_type": "code",
      "id": "33cc7af3-fe5b-43c6-b607-7150fcec5bf6",
      "metadata": {},
      "outputs": [],
      "source": [
        "lm.fit(X, Y)\nlm"
      ]
    },
    {
      "cell_type": "markdown",
      "id": "969d4666-b60d-47f7-84a3-74a70d18aa93",
      "metadata": {},
      "outputs": [],
      "source": [
        "Produce a prediction:\n"
      ]
    },
    {
      "cell_type": "code",
      "id": "ee93330e-022d-44fe-9596-601484068e69",
      "metadata": {},
      "outputs": [],
      "source": [
        "yhat=lm.predict(new_input)\nyhat[0:5]"
      ]
    },
    {
      "cell_type": "markdown",
      "id": "483e50f0-795e-41f0-981f-70c884d30010",
      "metadata": {},
      "outputs": [],
      "source": [
        "We can plot the data:\n"
      ]
    },
    {
      "cell_type": "code",
      "id": "03a16df0-2970-48c1-a72b-4f9315d1f8b4",
      "metadata": {},
      "outputs": [],
      "source": [
        "plt.plot(new_input, yhat)\nplt.show()"
      ]
    },
    {
      "cell_type": "markdown",
      "id": "c3001c24-9bae-435d-b264-88323f543acf",
      "metadata": {},
      "outputs": [],
      "source": [
        "### Decision Making: Determining a Good Model Fit\n"
      ]
    },
    {
      "cell_type": "markdown",
      "id": "2a8580c0-43d8-4539-8578-89ab01b18220",
      "metadata": {},
      "outputs": [],
      "source": [
        "<p>Now that we have visualized the different models, and generated the R-squared and MSE values for the fits, how do we determine a good model fit?\n<ul>\n    <li><i>What is a good R-squared value?</i></li>\n</ul>\n</p>\n\n<p>When comparing models, <b>the model with the higher R-squared value is a better fit</b> for the data.\n<ul>\n    <li><i>What is a good MSE?</i></li>\n</ul>\n<p>When comparing models, <b>the model with the smallest MSE value is a better fit</b> for the data.</p>\n<ul>\n    <li><i>What is a good MAE?</i></li>\n</ul>\n<p>MAE is very intuitive and easy to understand, as it represents the average absolute difference between the predicted and actual values. It can be directly interpreted in the units of the target variable, which makes it easier to explain to non-technical stakeholders.</p>\n<ul>\n    <li><i>What is a good RMSE?</i></li>\n</ul>\n<p>RMSE is more sensitive to large errors compared to other evaluation metrics like MAE. This is because RMSE involves squaring the errors, which penalizes large errors more heavily than smaller errors.</p>\n</p>\n\n#### Let's take a look at the values for the different models.</h4>\n<p>Simple Linear Regression\n<ul>\n    <li>The R-square is:  0.5210689262130274</li>\n    <li>The mean square error is:  804825.5455906324</li>\n    <li>The mean absolute error is:  679.9525614042927</li>\n    <li>The root mean squared error is:  897.1206973371155</li>\n\n</ul>\n</p>\n\n<p>Multiple Linear Regression\n<ul>\n    <li>The R-square is: 1.0</li>\n    <li>The mean square error is:  3.688558810109126e-24</li>\n    <li>The mean absolute error is: 1.0608945831617553e-12</li>\n    <li>The root mean squared error is:  1.9205621078499715e-12</li>\n</ul>\n</p>\n\n<p>Polynomial Fit\n<ul>\n    <li>The R-square is:  0.6068683264642353</li>\n    <li>The mean square error is: 660642.900324975</li>\n    <li>The mean absolute error is:  573.8683591186245</li>\n    <li>The root mean squared error is:  812.7994219516738</li>\n</ul>\n</p>\n"
      ]
    },
    {
      "cell_type": "markdown",
      "id": "0e6fc1de-f7ee-43ac-b6cd-e659a89dc081",
      "metadata": {},
      "outputs": [],
      "source": [
        "### Simple Linear Regression Model (SLR) vs Multiple Linear Regression Model (MLR)\n"
      ]
    },
    {
      "cell_type": "markdown",
      "id": "36613011-117e-4657-8855-e3e4cda87a6b",
      "metadata": {},
      "outputs": [],
      "source": [
        "<p>The R-square for Simple Linear Regression is 0.52, which means that only 52% of the variance in the dependent variable can be explained by the independent variable. The mean square error (MSE) is 804825.55, which is quite large, indicating a large difference between the predicted and actual values. The mean absolute error (MAE) is 679.95, which is the average absolute difference between the predicted and actual values.\n\nOn the other hand, the R-square for Multiple Linear Regression is 1.0, which means that 100% of the variance in the dependent variable can be explained by the independent variables. The MSE is very small, 3.69e-24, which indicates that the model predictions are very close to the actual values. The MAE is also very small, 1.06e-12, indicating that the average absolute difference between the predicted and actual values is negligible. The root mean squared error (RMSE) is also very small, 1.92e-12, which confirms the accuracy of the model.\n\nIn conclusion, the multiple linear regression model is much more accurate than the simple linear regression model, as it has a higher R-square and much smaller MSE, MAE, and RMSE values.</p>\n"
      ]
    },
    {
      "cell_type": "markdown",
      "id": "64f6624e-e105-4c61-a7aa-9fe417499850",
      "metadata": {},
      "outputs": [],
      "source": [
        "<h3>Simple Linear Model (SLR) vs. Polynomial Fit</h3>\n"
      ]
    },
    {
      "cell_type": "markdown",
      "id": "f7cf92c4-daea-4320-afb5-ab3023d40dbd",
      "metadata": {},
      "outputs": [],
      "source": [
        "<p>The R-square for the Simple Linear Regression is 0.52 and the R-square for the Polynomial Fit is 0.61. This means that the Polynomial Fit model explains more of the variation in the dependent variable than the Simple Linear Regression model.\n\nThe mean square error (MSE) for the Polynomial Fit is smaller than that of the Simple Linear Regression, indicating that the predictions of the Polynomial Fit model are closer to the actual values. Similarly, the mean absolute error (MAE) for the Polynomial Fit is smaller than that of the Simple Linear Regression, indicating that the average absolute difference between the predicted and actual values is smaller in the Polynomial Fit model.\n\nFinally, the root mean squared error (RMSE) for the Polynomial Fit is also smaller than that of the Simple Linear Regression, indicating that the Polynomial Fit model is a better fit for the data.\n\nIn conclusion, the Polynomial Fit model outperforms the Simple Linear Regression model in terms of R-square, MSE, MAE, and RMSE. Therefore, the Polynomial Fit model is a better choice for predicting the dependent variable in this case.</p>\n\n"
      ]
    },
    {
      "cell_type": "markdown",
      "id": "a3075478-d555-44fa-a43d-1dfa716441c1",
      "metadata": {},
      "outputs": [],
      "source": [
        "<h3>Multiple Linear Regression (MLR) vs. Polynomial Fit</h3>\n"
      ]
    },
    {
      "cell_type": "markdown",
      "id": "f71f4105-1ff7-48ae-993a-300b047ccf24",
      "metadata": {},
      "outputs": [],
      "source": [
        "<p>Comparing the performance of Multiple Linear Regression and Polynomial Fit, we can see that the Multiple Linear Regression model has a perfect R-square of 1.0, indicating that it can perfectly explain the variation in the dependent variable with the given independent variables. On the other hand, the R-square of the Polynomial Fit model is 0.61, indicating that it can explain 61% of the variation in the dependent variable.\n\nThe mean square error (MSE) and mean absolute error (MAE) for the Multiple Linear Regression are extremely small, almost zero. This suggests that the model is fitting the data very well, and its predictions are very close to the actual values. Similarly, the root mean squared error (RMSE) is also extremely small, indicating that the Multiple Linear Regression model is an excellent fit for the data.\n\nThe Polynomial Fit model, on the other hand, has a higher MSE, MAE, and RMSE than the Multiple Linear Regression model. This suggests that the predictions of the Polynomial Fit model have more errors than the Multiple Linear Regression model.\n\nIn conclusion, while the Multiple Linear Regression model has a perfect fit, it may not necessarily be the best model for practical use since it may suffer from overfitting. The Polynomial Fit model, on the other hand, may not have a perfect fit, but it provides a better balance between overfitting and underfitting. Therefore, the choice between the two models ultimately depends on the specific application and the goals of the analysis.</p>\n"
      ]
    },
    {
      "cell_type": "markdown",
      "id": "800d0437-9103-48b9-be45-00f62233ce26",
      "metadata": {},
      "outputs": [],
      "source": [
        "### Thank you for completing this lab!\n\n## Author\n\n<a href=\"https://author.skills.network/instructors/danyil_zhupnyk\">Danyil Zhupnyk</a><br>\n<a href=\"https://author.skills.network/instructors/yaroslav_vyklyuk_2\">Prof. Yaroslav Vyklyuk, DrSc, PhD</a><br>\n<a href=\"https://author.skills.network/instructors/mariya_fleychuk\">Prof. Mariya Fleychuk, DrSc, PhD</a><br>\n\n## Change Log\n\n| Date (YYYY-MM-DD) | Version | Changed By | Change Description                 |\n| ----------------- | ------- | ---------- | ---------------------------------- |\n| 2023-03-18        | 1.0     | D.Zhupnyk  | Created Lab                        |\n\n<hr>\n\n## <h3 align=\"center\"> © IBM Corporation 2023. All rights reserved. <h3/>"
      ]
    },
    {
      "cell_type": "code",
      "id": "8e93ccaf-3be6-4e46-b73e-7171ba46aee4",
      "metadata": {},
      "outputs": [],
      "source": [
        ""
      ]
    }
  ],
  "metadata": {
    "language_info": {
      "name": ""
    },
    "kernelspec": {
      "name": "",
      "display_name": ""
    }
  },
  "nbformat": 4,
  "nbformat_minor": 4
}