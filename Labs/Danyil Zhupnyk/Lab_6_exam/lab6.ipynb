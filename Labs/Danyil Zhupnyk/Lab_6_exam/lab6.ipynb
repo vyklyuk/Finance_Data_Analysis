{
  "cells": [
    {
      "cell_type": "markdown",
      "id": "33b9f8d2-caf2-4f2b-b4b7-fbe395b4c3d8",
      "metadata": {},
      "outputs": [],
      "source": [
        "<center>\n    <img src=\"https://cf-courses-data.s3.us.cloud-object-storage.appdomain.cloud/assets/logos/SN_web_lightmode.png\" width=\"400\" alt=\"cognitiveclass.ai logo\"  />\n</center>\n\n# Analyze how to work with various financial indicators\n\nEstimated time needed: **30** minutes\n\n## Objectives\n\nAfter completing this lab you will be able to:\n\n*   Be confident about your data analysis skills\n"
      ]
    },
    {
      "cell_type": "markdown",
      "id": "64255245-a856-4e55-bf61-cc60b4ae51be",
      "metadata": {},
      "outputs": [],
      "source": [
        "You will need the following libraries:\n"
      ]
    },
    {
      "cell_type": "code",
      "id": "9d40e0e5-e31e-4ee9-b16c-f5630291c978",
      "metadata": {},
      "outputs": [],
      "source": [
        "! mamba install pandas -y\n! mamba install numpy -y\n! mamba install scikit-learn -y\n! mamba install ipywidgets -y\n! mamba install tqdm -y\n! mamba install seaborn -y\n! mamba install skipy -y"
      ]
    },
    {
      "cell_type": "code",
      "id": "63fe6114-e4f1-4030-88ce-acf0f0c0a744",
      "metadata": {},
      "outputs": [],
      "source": [
        "import pandas as pd\nimport numpy as np\nimport matplotlib.pyplot as plt\nimport matplotlib as mpl\nimport seaborn as sns\nfrom sklearn.linear_model import LinearRegression\nfrom sklearn.linear_model import Ridge\nfrom sklearn.model_selection import train_test_split\n\n\npd.set_option(\"display.precision\", 2)\npd.options.display.float_format = '{:.3f}'.format"
      ]
    },
    {
      "cell_type": "markdown",
      "id": "395c5840-bde0-47fd-8c01-b0bb5cb51030",
      "metadata": {},
      "outputs": [],
      "source": [
        "This function will download the dataset into your browser \n"
      ]
    },
    {
      "cell_type": "markdown",
      "id": "802af6d9-2162-42de-a787-68501e6be566",
      "metadata": {},
      "outputs": [],
      "source": [
        "<b>Importing the Data</b>\n"
      ]
    },
    {
      "cell_type": "markdown",
      "id": "d06fbbf5-7ebc-44ba-9a91-a624ed2ba4c4",
      "metadata": {},
      "outputs": [],
      "source": [
        "you will need to download the dataset; if you are running locally, please comment out the following \n"
      ]
    },
    {
      "cell_type": "code",
      "id": "356c4768-64f2-4983-93b1-9e0675b5989b",
      "metadata": {},
      "outputs": [],
      "source": [
        "path = 'https://cf-courses-data.s3.us.cloud-object-storage.appdomain.cloud/IBMSkillsNetwork-GPXX0L9FEN/clean_df%20(5).csv'"
      ]
    },
    {
      "cell_type": "markdown",
      "id": "f7ebbc03-8fe3-4f8a-a6af-41a0191b6586",
      "metadata": {},
      "outputs": [],
      "source": [
        "Load the csv:\n"
      ]
    },
    {
      "cell_type": "code",
      "id": "f4b1bf17-bcc6-4c46-9911-729ec1a34a79",
      "metadata": {},
      "outputs": [],
      "source": [
        "df= pd.read_csv(path, index_col=0)\ndf.index = pd.to_datetime(df.index)\ndf"
      ]
    },
    {
      "cell_type": "markdown",
      "id": "d79f5fc4-c9d2-45d2-9344-627d008f6782",
      "metadata": {},
      "outputs": [],
      "source": [
        "We use the method  <code>head()</code>  to display the first 5 columns of the dataframe:\n"
      ]
    },
    {
      "cell_type": "markdown",
      "id": "e39e68da-649b-41e4-9985-4f117e7f1648",
      "metadata": {},
      "outputs": [],
      "source": [
        "## Parabolic Stop and Reverse (PSAR)"
      ]
    },
    {
      "cell_type": "markdown",
      "id": "05e8a913-9762-495d-b01a-d0ad52018616",
      "metadata": {},
      "outputs": [],
      "source": [
        "Parabolic Stop and Reverse - is a technical indicator used to analyze the trend in the market. It was first developed by engineer J. Welles Wilder in 1978.\n\nPSAR provides signals for entering and exiting positions in the market. The indicator shows where the market may change its direction and provides information about a potential Stop Loss level.\n\nPSAR uses an algorithm that takes into account price and time to determine the entry and exit points of a position. The indicator takes the form of dots that can be located either above or below the prices, depending on the direction of the trend. If the price crosses the dots from below upwards, this may indicate a change in the trend from low to high, and if the dots cross the price from above downwards, this may indicate a change in the trend from high to low.\n\nPSAR also helps to determine the Stop Loss level, as the indicator is located close to the price that may become the exit point of the position. If the price crosses the PSAR dot, this can be a signal to close the position and preserve profits or minimize losses.\n\nConsidering all of the above, PSAR is a useful tool for technical analysis and risk management in the market.\""
      ]
    },
    {
      "cell_type": "markdown",
      "id": "655d7f9c-d116-462a-bcc6-a1b767528f8a",
      "metadata": {},
      "outputs": [],
      "source": [
        "<div class=\"alert alert-danger alertdanger\" style=\"margin-top: 20px\">\n<h1> Question #1: </h1>\n<b>Calculate the PSAR and add \"PSAR\" to the dataframe.And also visualize the result.</b>\n</div>\n"
      ]
    },
    {
      "cell_type": "code",
      "id": "f0a16c99-9ecb-46f4-b676-6cbd7e532d75",
      "metadata": {},
      "outputs": [],
      "source": [
        "# Write your code below and press Shift+Enter to execute \n"
      ]
    },
    {
      "cell_type": "code",
      "id": "76a8a90f-9545-4d45-b942-b6f136fa5e85",
      "metadata": {},
      "outputs": [],
      "source": [
        "# Configuring PSAR parameters\naf_initial = 0.02\naf_max = 0.2\naf = af_initial\nlong_position = True\npsar = []\n\n# Calculation of PSAR values\nfor i in range(len(df)):\n    if i == 0:\n        psar.append(df['price BID'][i] - (df['price ASK'][i] - df['price BID'][i]))\n        ep = df['price ASK'][i]\n        continue\n\n    if long_position:\n        if df['price BID'][i] < psar[i-1]:\n            long_position = False\n            psar.append(ep)\n            af = af_initial\n            ep = df['price BID'][i]\n            continue\n        else:\n            psar.append(psar[i-1] + af * (ep - psar[i-1]))\n            if df['price ASK'][i] > ep:\n                ep = df['price ASK'][i]\n                af = min(af + af_initial, af_max)\n    else:\n        if df['price ASK'][i] > psar[i-1]:\n            long_position = True\n            psar.append(ep)\n            af = af_initial\n            ep = df['price ASK'][i]\n            continue\n        else:\n            psar.append(psar[i-1] + af * (ep - psar[i-1]))\n            if df['price BID'][i] < ep:\n                ep = df['price BID'][i]\n                af = min(af + af_initial, af_max)\n\n# Adding PSAR to the existing dataframe\ndf['PSAR'] = psar\nfig, ax = plt.subplots(figsize=(12, 8))\nax.plot(df['price BTC'], label='price')\nax.plot(df['PSAR'], label='PSAR')\nax.legend(loc='upper left')\nax.set_xlabel(\"Date\")\nax.set_ylabel('Price')\nplt.show()\n"
      ]
    },
    {
      "cell_type": "markdown",
      "id": "97e8bfd9-bd12-4e9c-90c9-5186a79d0c4f",
      "metadata": {},
      "outputs": [],
      "source": [
        "## Keltner Channel"
      ]
    },
    {
      "cell_type": "markdown",
      "id": "db2e6e8f-0e3b-4926-9cce-7c3ff86214a6",
      "metadata": {},
      "outputs": [],
      "source": [
        "Keltner Channel is a technical indicator used to determine market trend and price volatility. It consists of three lines - the middle line, upper, and lower channels - which are calculated based on the average price over a period and additional calculation based on the standard deviation of prices from the average.\n\nKeltner channels allow traders to receive signals for entering and exiting positions based on a violation of price behavior in relation to the upper and lower channels. When the price crosses the upper channel, it may indicate that the market is overbought and there may be opportunities to exit the position. When the price crosses the lower channel, it may indicate that the market is oversold and there may be opportunities to enter a position.\n\nTypically, traders have the ability to adjust the number of periods used to calculate the average line and standard deviation to tailor the indicators to their own needs."
      ]
    },
    {
      "cell_type": "markdown",
      "id": "80b6fcc7-01e7-4c71-a138-fa04706cc1ef",
      "metadata": {},
      "outputs": [],
      "source": [
        " <div class=\"alert alert-danger alertdanger\" style=\"margin-top: 20px\">\n<h1> Question #2: </h1>\n<b>Calculate the Keltner Channel and add result to the dataframe.And also visualize the result.</b>\n</div>\n"
      ]
    },
    {
      "cell_type": "code",
      "id": "9b18cc9c-670d-464e-b01a-b83eb226f254",
      "metadata": {},
      "outputs": [],
      "source": [
        "# Write your code below and press Shift+Enter to execute \n"
      ]
    },
    {
      "cell_type": "code",
      "id": "a8bda4c8-6f44-4de9-9d2b-77dd4a0138f6",
      "metadata": {},
      "outputs": [],
      "source": [
        "n = 20\nmultiplier = 2\n\n# Розрахунок середньої ціни\navg_price = (df[\"price ASK\"] + df[\"price BID\"]) / 2\n\n# Розрахунок середньої ціни за n днів\navg_price_n = avg_price.rolling(window=n, min_periods=1).mean()\n\n# Розрахунок середнього діапазону цін за n днів\nrange_price_n = (df[\"price ASK\"] - df[\"price BID\"]).rolling(window=n, min_periods=1).mean()\n\n# Розрахунок верхньої та нижньої межі Keltner Channel\nupper_band = avg_price_n + multiplier * range_price_n\nlower_band = avg_price_n - multiplier * range_price_n\n\n# Створення DataFrame з результатами\nkc_df = pd.DataFrame({\"Upper Band\": upper_band, \"Lower Band\": lower_band})\nkc_df.index = df.index\n\n# Об'єднання kc_df зі старим df\ndf = pd.concat([df, kc_df], axis=1)\n\n# Видалення рядків з пропущеними значеннями\ndf.dropna(inplace=True)\n\n# Виведення результатів\nprint(df.head())\n\nfig, ax = plt.subplots(figsize=(10, 5))\n\nax.plot(df.index, df[\"price ASK\"], label=\"Price ASK\")\nax.plot(df.index, df[\"price BID\"], label=\"Price BID\")\nax.plot(df.index, df[\"Upper Band\"], label=\"Upper Band\")\nax.plot(df.index, df[\"Lower Band\"], label=\"Lower Band\")\n\nax.set_xlabel(\"Date\")\nax.set_ylabel(\"Price\")\nax.legend(loc=\"best\")\n\nplt.show()\n"
      ]
    },
    {
      "cell_type": "markdown",
      "id": "a61d69ec-56e9-4636-a038-1e39c771f3b7",
      "metadata": {},
      "outputs": [],
      "source": [
        "## Money Flow Index"
      ]
    },
    {
      "cell_type": "markdown",
      "id": "8c387fbf-f403-4d2c-8f98-721df5570a13",
      "metadata": {},
      "outputs": [],
      "source": [
        "The Money Flow Index (MFI) is a technical indicator used to measure buying and selling pressure in the stock market. It takes into account both price and volume data to determine whether a stock is being accumulated (bought) or distributed (sold) by investors."
      ]
    },
    {
      "cell_type": "raw",
      "id": "16adcdc0-5fac-431a-80d6-546e23cf1504",
      "metadata": {},
      "outputs": [],
      "source": [
        "Calculate Typical Price (TP) as the average of the ASK price and BID price:\nTP = (Price ASK + Price BID) / 2\n\nCalculate Money Flow (MF) using the ASK size and BID size values:\nMF = TP * (Size ASK + Size BID)\n\nDetermine the Positive Money Flow (PMF) and Negative Money Flow (NMF) for a given period. PMF is the sum of MF for days where the closing price is higher than the previous day's closing price, while NMF is the sum of MF for days where the closing price is lower than the previous day's closing price. If the price did not change, then the MF is not included.\n\nCalculate the Money Ratio (MR), which represents the ratio of PMF to NMF:\nMR = PMF / NMF\n\nCalculate the MFI, which is 100 minus (100 divided by (1 plus MR)):\nMFI = 100 - (100 / (1 + MR))"
      ]
    },
    {
      "cell_type": "markdown",
      "id": "282de2b8-731d-4303-989e-997341764cbb",
      "metadata": {},
      "outputs": [],
      "source": [
        "<div class=\"alert alert-danger alertdanger\" style=\"margin-top: 20px\">\n<h1>Question #3:</h1>\n\n<b>Calculate the MFI using the algorithm of actions that I have given you in a line below.</b>\n\n</div>\n"
      ]
    },
    {
      "cell_type": "code",
      "id": "2f08eaf3-a14e-4473-be6f-1116c4bbc46d",
      "metadata": {},
      "outputs": [],
      "source": [
        "# Write your code below and press Shift+Enter to execute \n"
      ]
    },
    {
      "cell_type": "code",
      "id": "3b3164c2-e19b-4e81-9228-a81d9d1b0cbb",
      "metadata": {},
      "outputs": [],
      "source": [
        "def calculate_mfi(df, period):\n    # Calculate typical price\n    tp = (df['price ASK'] + df['price BID']) / 2\n    \n    # Calculate money flow\n    mf = tp * (df['size ASK'] + df['size BID'])\n    \n    # Calculate positive and negative money flow\n    pmf = pd.Series(0, index=df.index)\n    pmf[df['price ASK'] > df['price ASK'].shift(1)] = mf\n    nmf = pd.Series(0, index=df.index)\n    nmf[df['price BID'] < df['price BID'].shift(1)] = mf\n    \n    # Calculate money ratio\n    mr = pmf.rolling(period).sum() / nmf.rolling(period).sum()\n    \n    # Calculate MFI\n    mfi = 100 - (100 / (1 + mr))\n    \n    # Return MFI values as a new DataFrame\n    return pd.DataFrame({'MFI': mfi})\n\n# Calculate MFI for a 14-day period using the df DataFrame\nmfi = calculate_mfi(df, 14)\n\n# Add MFI values to the DataFrame and remove any missing data\ndf['MFI'] = mfi\ndf.dropna(inplace=True)\n\n# Print MFI values\nprint(df['MFI'])"
      ]
    },
    {
      "cell_type": "markdown",
      "id": "c75a684f-f74e-4751-876a-9e45e3bda632",
      "metadata": {},
      "outputs": [],
      "source": [
        "<div class=\"alert alert-danger alertdanger\" style=\"margin-top: 20px\">\n<h1> Question  #4a: </h1>\n\n<p>Find the correlation between the BTC currency price and its size columns.</p>\n</div>\n"
      ]
    },
    {
      "cell_type": "code",
      "id": "f03db8b8-baca-4f24-a445-de9bf1515e99",
      "metadata": {},
      "outputs": [],
      "source": [
        "# Write your code below and press Shift+Enter to execute\ncorr = df[['price BTC', 'size BTC']].corr()\ncorr"
      ]
    },
    {
      "cell_type": "markdown",
      "id": "b7e757a7-f550-458b-b8b1-01d6d37f7e59",
      "metadata": {},
      "outputs": [],
      "source": [
        "<div class=\"alert alert-danger alertdanger\" style=\"margin-top: 20px\">\n<h1> Question  #4b: </h1>\n\n<p>Build heatmap to understand the resuluts more precisely.</p>\n</div>\n"
      ]
    },
    {
      "cell_type": "code",
      "id": "7db1c3d2-ffaa-403e-9879-5c008d0b4445",
      "metadata": {},
      "outputs": [],
      "source": [
        "# Write your code below and press Shift+Enter to execute\nsns.heatmap(corr, annot=True)"
      ]
    },
    {
      "cell_type": "markdown",
      "id": "b6a8e9d4-4e76-4c7b-ba3f-b6412b6829aa",
      "metadata": {},
      "outputs": [],
      "source": [
        "<div class=\"alert alert-danger alertdanger\" style=\"margin-top: 20px\">\n<h1>Question #5:</h1>\n\n<p>Given the correlation results between \"price BTC\" and \"size BTC\", do you expect a linear relationship?</p> \n<p>Verify your results using the function <code>sns.regplot()</code>.</p>\n</div>\n"
      ]
    },
    {
      "cell_type": "code",
      "id": "bb3a1722-af44-4064-a2ae-08875cf17b89",
      "metadata": {},
      "outputs": [],
      "source": [
        "# Write your code below and press Shift+Enter to execute\nsns.regplot(x='price BTC', y='size BTC', data=df)"
      ]
    },
    {
      "cell_type": "markdown",
      "id": "826b3841-69b3-4747-a1d0-fbe4f46eb8c1",
      "metadata": {},
      "outputs": [],
      "source": [
        "<h4>Before proceeding to the fifth question, activate the following line</h4>"
      ]
    },
    {
      "cell_type": "code",
      "id": "442f8c79-e1a1-4f1a-bda1-100836fc431c",
      "metadata": {},
      "outputs": [],
      "source": [
        "X = df[['Saldo']]\nY = df['price BTC']"
      ]
    },
    {
      "cell_type": "markdown",
      "id": "0cfe5633-350d-4484-9f97-4790d270b2b3",
      "metadata": {},
      "outputs": [],
      "source": [
        "<div class=\"alert alert-danger alertdanger\" style=\"margin-top: 20px\">\n<h1>Question #6a: </h1>\n\n<b>Create a linear regression object called \"lm1\".</b>\n\n</div>\n"
      ]
    },
    {
      "cell_type": "code",
      "id": "421f7dd3-2fb0-492c-beac-7a735c74a3a5",
      "metadata": {},
      "outputs": [],
      "source": [
        "# Write your code below and press Shift+Enter to execute \nlm1 = LinearRegression()\nlm1"
      ]
    },
    {
      "cell_type": "markdown",
      "id": "f1d13b62-ab68-4d65-b30b-8ec7f626473d",
      "metadata": {},
      "outputs": [],
      "source": [
        "<div class=\"alert alert-danger alertdanger\" style=\"margin-top: 20px\">\n<h1> Question #6b : </h1>\n\n<b>Train the model using \"Saldo\" as the independent variable and \"price BTC\" as the dependent variable?</b>\n\n</div>"
      ]
    },
    {
      "cell_type": "code",
      "id": "fad44384-0f02-45a0-9a34-c29fb9db2372",
      "metadata": {},
      "outputs": [],
      "source": [
        "lm1.fit(df[['Saldo']], df[['size ASK']])\nlm1"
      ]
    },
    {
      "cell_type": "markdown",
      "id": "1f1beb30-330f-4232-85ab-f619709c7c36",
      "metadata": {},
      "outputs": [],
      "source": [
        "<div class=\"alert alert-danger alertdanger\" style=\"margin-top: 20px\">\n<h1>Question #6c:</h1>\n\n<b>Find the slope and intercept of the model.</b>\n\n</div>\n"
      ]
    },
    {
      "cell_type": "markdown",
      "id": "d70b3477-e27e-4496-8d52-746225217a4d",
      "metadata": {},
      "outputs": [],
      "source": [
        "<h4>Slope</h4>"
      ]
    },
    {
      "cell_type": "code",
      "id": "34399f12-fce1-439e-8cc1-7612271dc829",
      "metadata": {},
      "outputs": [],
      "source": [
        "# Write your code below and press Shift+Enter to execute \nlm1.coef_"
      ]
    },
    {
      "cell_type": "markdown",
      "id": "5df4d09c-8d72-441d-a6c6-9be1ae3d66b9",
      "metadata": {},
      "outputs": [],
      "source": [
        "<h4>Intercept</h4>"
      ]
    },
    {
      "cell_type": "code",
      "id": "eeeafaab-d373-4b77-84b4-6918d34f938a",
      "metadata": {},
      "outputs": [],
      "source": [
        "# Write your code below and press Shift+Enter to execute \nlm1.intercept_"
      ]
    },
    {
      "cell_type": "markdown",
      "id": "8665237d-ae1d-48e1-9e05-fb36ae5f6f63",
      "metadata": {},
      "outputs": [],
      "source": [
        "<div class=\"alert alert-danger alertdanger\" style=\"margin-top: 20px\">\n<h1>Question #6d: </h1>\n\n<b>What is the equation of the predicted line? You can use  \"Saldo\" and \"price BTC\".</b>\n\n</div>\n"
      ]
    },
    {
      "cell_type": "code",
      "id": "5707605c-8cd3-48c5-b3e5-e3b8d97206d2",
      "metadata": {},
      "outputs": [],
      "source": [
        "# Write your code below and press Shift+Enter to execute \nPrice=0.38 + 465.42*df['Saldo']\nPrice"
      ]
    },
    {
      "cell_type": "markdown",
      "id": "7cd243ae-4b3b-4d5e-84ae-a15bba4d7419",
      "metadata": {},
      "outputs": [],
      "source": [
        "<div class=\"alert alert-danger alertdanger\" style=\"margin-top: 20px\">\n<h1>Question #7: </h1>\n\n<b>Calculate the dependence of Saldo on MFI, PSAR and Keltner Channel</b>\n\n</div>\n"
      ]
    },
    {
      "cell_type": "code",
      "id": "74b4933a-c6d6-45b5-8533-85a5c10c7039",
      "metadata": {},
      "outputs": [],
      "source": [
        "from sklearn.linear_model import Ridge\nfrom sklearn.model_selection import train_test_split\nimport numpy as np\nfrom tqdm import tqdm\n\nX = df[['PSAR', 'MFI', 'Lower Band', 'Upper Band']]\ny = df['Saldo']\n\n\nRsqu_test = []\nRsqu_train = []\ndummy1 = []\nAlpha =  np.array(range(0,1000,10))\npbar = tqdm(Alpha)\n\nx_train, x_test, y_train, y_test = train_test_split(X, y, test_size=0.15, shuffle=False)\nx_train_pr = x_train[['PSAR', 'MFI', 'Lower Band', 'Upper Band']]\nx_test_pr = x_test[['PSAR', 'MFI', 'Lower Band', 'Upper Band']]\n\nfor alpha in pbar:\n    RigeModel = Ridge(alpha=alpha)\n    RigeModel.fit(x_train_pr, y_train)\n    test_score, train_score = RigeModel.score(x_test_pr, y_test), RigeModel.score(x_train_pr, y_train)\n    pbar.set_postfix({\"Test Score\": test_score, \"Train Score\": train_score})\n    Rsqu_test.append(test_score)\n    Rsqu_train.append(train_score)\n "
      ]
    },
    {
      "cell_type": "code",
      "id": "f98e6fb2-684e-4ff3-8922-43e339197385",
      "metadata": {},
      "outputs": [],
      "source": [
        "width = 12\nheight = 10\nplt.figure(figsize=(width, height))\n\nplt.plot(Alpha, Rsqu_test, label='test score')\nplt.plot(Alpha, Rsqu_train, label='train score')\nplt.xlabel('alpha')\nplt.ylabel('R-squared')\nplt.legend()\nplt.show()"
      ]
    },
    {
      "cell_type": "code",
      "id": "52f8204f-6b0f-4844-8e54-1a750cf7b848",
      "metadata": {},
      "outputs": [],
      "source": [
        "ridge_model = Ridge(alpha=10)\nridge_model.fit(x_train_pr, y_train)\n\ny_pred = ridge_model.predict(x_test_pr)\nfig, ax = plt.subplots(figsize=(width, height))\nax.plot(y_test, label = \"Real Data\")\nax.plot(y_test.index, y_pred, label = \"Ridge Data\")\nax.set_xlabel('Date')\nax.legend(loc='upper left')\nimport matplotlib.dates as mdates\nmyFmt = mdates.DateFormatter('%m.%d %H:%M')\nax.xaxis.set_major_formatter(myFmt)\nplt.show()"
      ]
    },
    {
      "cell_type": "markdown",
      "id": "d6494865-741b-4d0e-9e86-cdd26d5a0d9a",
      "metadata": {},
      "outputs": [],
      "source": [
        "<a href=\"https://dataplatform.cloud.ibm.com/docs/content/wsj/analyze-data/share-notebooks.html/?utm_medium=Exinfluencer&utm_source=Exinfluencer&utm_content=000026UJ&utm_term=10006555&utm_id=NA-SkillsNetwork-Channel-SkillsNetworkCoursesIBMDeveloperSkillsNetworkDA0101ENSkillsNetwork20235326-2021-01-01\"> CLICK HERE</a> to see how to share your notebook\n"
      ]
    },
    {
      "cell_type": "markdown",
      "id": "722f5bff-dfda-4854-ba99-e5e9d633b277",
      "metadata": {},
      "outputs": [],
      "source": [
        "### Thank you for completing this lab!\n\n## Author\n\n<a href=\"https://author.skills.network/instructors/danyil_zhupnyk\">Danyil Zhupnyk</a><br>\n<a href=\"https://author.skills.network/instructors/yaroslav_vyklyuk_2\">Prof. Yaroslav Vyklyuk, DrSc, PhD</a><br>\n<a href=\"https://author.skills.network/instructors/mariya_fleychuk\">Prof. Mariya Fleychuk, DrSc, PhD</a><br>\n\n## Change Log\n\n| Date (YYYY-MM-DD) | Version | Changed By | Change Description                 |\n| ----------------- | ------- | ---------- | ---------------------------------- |\n| 2023-04-01        | 1.0     | D.Zhupnyk  | Created Lab                        |\n\n<hr>\n\n## <h3 align=\"center\"> © IBM Corporation 2023. All rights reserved. <h3/>\n"
      ]
    },
    {
      "cell_type": "code",
      "id": "a799697d-751a-47dc-a22c-118b8f59ae15",
      "metadata": {},
      "outputs": [],
      "source": [
        ""
      ]
    }
  ],
  "metadata": {
    "language_info": {
      "name": ""
    },
    "kernelspec": {
      "name": "",
      "display_name": ""
    }
  },
  "nbformat": 4,
  "nbformat_minor": 4
}