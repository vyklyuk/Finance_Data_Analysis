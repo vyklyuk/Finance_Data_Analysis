{
  "cells": [
    {
      "cell_type": "markdown",
      "id": "7b4458ee-344a-4227-8b6c-1aa62e6714b8",
      "metadata": {},
      "outputs": [],
      "source": [
        "<center>\n    <img src=\"https://cf-courses-data.s3.us.cloud-object-storage.appdomain.cloud/assets/logos/SN_web_lightmode.png\" width=\"400\" alt=\"cognitiveclass.ai logo\"  />\n</center>\n\n# Work with missing data, their further interpolation\n\n## Lab 2: Data Wrangling\n\nEstimated time needed: **30** minutes\n\n## Objectives\n\nAfter completing this lab you will be able to:\n\n*   Handle missing values\n*   Correct data format\n*   Standardize and normalize data\n"
      ]
    },
    {
      "cell_type": "markdown",
      "id": "a0dbde1f-3b2f-458a-9fd6-8eae8d5b5837",
      "metadata": {},
      "outputs": [],
      "source": [
        "<h2>Table of Contents</h2>\n\n<div class=\"alert alert-block alert-info\" style=\"margin-top: 20px\">\n<ul>\n    <li><a href=\"https://#identify_handle_missing_values\">1. Identify and handle missing values</a>\n        <ul>\n            <li><a href=\"https://#identify_missing_values\">Identify missing values</a></li>\n            <li><a href=\"https://#deal_missing_values\">Deal with missing values</a></li>\n            <li><a href=\"https://#correct_data_format\">Correct data format</a></li>\n        </ul>\n    </li>\n    <li><a href=\"https://#data_standardization\">2. Data standardization</a></li>\n    <li><a href=\"https://#data_normalization\">3. Data normalization (centering/scaling)</a></li>\n    <li><a href=\"https://#binning\">3. Binning and Indicator variable</a></li>\n</ul>\n\n</div>\n\n<hr>\n"
      ]
    },
    {
      "cell_type": "markdown",
      "id": "1cfc945d-af57-41ab-a47f-d1f3682b314a",
      "metadata": {},
      "outputs": [],
      "source": [
        "## What is the purpose of data wrangling?\n"
      ]
    },
    {
      "cell_type": "markdown",
      "id": "d7888f4e-98f7-44ff-a553-81819b49b99a",
      "metadata": {},
      "outputs": [],
      "source": [
        "Data wrangling is the process of converting data from the initial format to a format that may be better for analysis.\n"
      ]
    },
    {
      "cell_type": "markdown",
      "id": "4bdb27a3-489c-4d45-b41a-c24a12d460ff",
      "metadata": {},
      "outputs": [],
      "source": [
        "### Import data</h3>\n<p>\nАfter the end of the previous \"Lab_1\", we created a new dataset called \"df_all_1H\", which we will use in this laboratory <a href=\"https://1824251045.rsc.cdn77.org/web/algohouse/data/ETHBUSD_trades_1m.csv\">https://cf-courses-data.s3.us.cloud-object-storage.appdomain.cloud/IBMSkillsNetwork-GPXX0BWOEN/df_all_1H.csv</a>. \nWe will be using this dataset throughout this course.\n</p>\n"
      ]
    },
    {
      "cell_type": "markdown",
      "id": "efb7403a-444e-4684-98e0-49662967d7df",
      "metadata": {},
      "outputs": [],
      "source": [
        "### Import pandas\n"
      ]
    },
    {
      "cell_type": "markdown",
      "id": "480fd845-d195-4f48-ae93-57aaafe61f79",
      "metadata": {},
      "outputs": [],
      "source": [
        "If you run the lab locally using Anaconda, you can load the correct library and versions by uncommenting the following:\n"
      ]
    },
    {
      "cell_type": "code",
      "id": "4340b8d3-141e-466d-ab46-1681fd520c59",
      "metadata": {},
      "outputs": [],
      "source": [
        "#If you run the lab locally using Anaconda, you can load the correct library and versions by uncommenting the following:\n#install specific version of libraries used in lab\n#! mamba install pandas==1.3.3\n#! mamba install numpy=1.21.2\n! mamba install scikit-learn -y"
      ]
    },
    {
      "cell_type": "code",
      "id": "3fcced8f-0e4f-4a5c-bd69-3ff155f3be76",
      "metadata": {},
      "outputs": [],
      "source": [
        "import pandas as pd\nimport numpy as np\nfrom sklearn.metrics import mean_squared_error, mean_absolute_percentage_error\nfrom sklearn.preprocessing import MinMaxScaler\nimport requests\n%matplotlib inline\nimport matplotlib.pyplot as plt"
      ]
    },
    {
      "cell_type": "markdown",
      "id": "c813dba7-051a-4417-8c7d-77384c52b2c7",
      "metadata": {},
      "outputs": [],
      "source": [
        "## Reading the dataset from the URL\n"
      ]
    },
    {
      "cell_type": "markdown",
      "id": "4998ff02-c3ee-47f5-a7b6-67f3c97c83d1",
      "metadata": {},
      "outputs": [],
      "source": [
        "First, we assign the URL of the dataset to \"filename\".\n"
      ]
    },
    {
      "cell_type": "markdown",
      "id": "927823b0-d893-4ef4-8ff9-eaa1f859d4de",
      "metadata": {},
      "outputs": [],
      "source": [
        "This dataset was hosted on IBM Cloud object. Click <a href=\"https://1824251045.rsc.cdn77.org/web/algohouse/data/ETHBUSD_trades_1m.csv\">HERE</a> for free storage.\n"
      ]
    },
    {
      "cell_type": "code",
      "id": "ad7d962f-8b27-4d06-bbce-a38ac7a0755d",
      "metadata": {},
      "outputs": [],
      "source": [
        "filename = \"https://cf-courses-data.s3.us.cloud-object-storage.appdomain.cloud/IBMSkillsNetwork-GPXX0BWOEN/df_all_1H.csv\""
      ]
    },
    {
      "cell_type": "markdown",
      "id": "db261e68-8428-4bd4-868c-8c3e64c36174",
      "metadata": {},
      "outputs": [],
      "source": [
        "Use the Pandas method <b>read_csv()</b> to load the data from the web address. Set the parameter  \"names\" equal to the Python list \"headers\".\n"
      ]
    },
    {
      "cell_type": "code",
      "id": "b237ba50-acb0-449e-a852-bff8c4793e12",
      "metadata": {},
      "outputs": [],
      "source": [
        "df = pd.read_csv(filename, index_col=0)\ndf.index = pd.to_datetime(df.index)"
      ]
    },
    {
      "cell_type": "markdown",
      "id": "4842b3de-a14e-4776-86ff-044476a1f622",
      "metadata": {},
      "outputs": [],
      "source": [
        "Use the method <b>head()</b> to display the first five rows of the dataframe.\n"
      ]
    },
    {
      "cell_type": "code",
      "id": "3c1ad23b-1922-46c2-b910-1322dde49dae",
      "metadata": {},
      "outputs": [],
      "source": [
        "# To see what the data set looks like, we'll use the head() method.\ndf.head(40)"
      ]
    },
    {
      "cell_type": "markdown",
      "id": "eb6c7ecc-dcf8-4fa0-827e-72333696c1ee",
      "metadata": {},
      "outputs": [],
      "source": [
        "Our data now is clean but let's spoil them to show how we can deal with missing values and incorrect data\n\n<div>Let's define <b>spoil_df</b> function which produces incorrect data of 3 types:</div>\n\n<ol>\n    <li>Text data (we work with numbers)</li>\n    <li>Negative values (we work only with positive values)</li>\n    <li>Missing values (NaN)</li>\n</ol>"
      ]
    },
    {
      "cell_type": "code",
      "id": "b7327fa2-a456-4451-87e1-d95c57e10d43",
      "metadata": {},
      "outputs": [],
      "source": [
        "def spoil_df(df: pd.DataFrame, cols: list = [\"size BID\", \"price BID\", \"size BTC\", \"price ASK\"]):\n    rng = np.random.default_rng(seed=42)\n    new_df = df.copy()\n    for col in cols:\n        m = rng.random(len(df))\n        l1 = 0.008 # NaN\n        l2 = 0.009 # Text\n        l3 = 0.008 # Negative\n\n        mask1 = m < l1 # NaN\n        mask2 = (m >= l1) & (m < l1+l2) # Text\n        mask3 = (m >= l1+l2) & (m < l1+l2+l3) # Negative\n\n        new_df.loc[mask1, col] = np.NaN\n        new_df.loc[mask2, col] = \"?\"\n        new_df.loc[mask3, col] = -new_df.loc[mask3, col]\n    return new_df"
      ]
    },
    {
      "cell_type": "code",
      "id": "7349d2fe-20fb-479b-9586-a8fe1fd52999",
      "metadata": {},
      "outputs": [],
      "source": [
        "spoiled_df = spoil_df(df)"
      ]
    },
    {
      "cell_type": "code",
      "id": "038fc685-cb55-4571-a6f1-f1b105d27d3c",
      "metadata": {},
      "outputs": [],
      "source": [
        "spoiled_df.head(60)"
      ]
    },
    {
      "cell_type": "markdown",
      "id": "041600c9-d058-4e72-92e6-bb536e428a44",
      "metadata": {},
      "outputs": [],
      "source": [
        "As we can see, several question marks, negative values and NaN appeared in the dataframe; those are incorrect data which may hinders our further analysis.\n\n<div>So, how do we identify all that incorrect data and deal with it?</div> \n\n<b>How to work with incorrect data?</b>\n\nSteps for working with incorrect data:\n\n<ol>\n    <li>Identify incorrect data</li>\n    <li>Deal with incorrect data</li>\n    <li>Correct data format</li>\n</ol>\n"
      ]
    },
    {
      "cell_type": "markdown",
      "id": "9a8cae2a-7504-467e-b1b4-f1da99956eae",
      "metadata": {},
      "outputs": [],
      "source": [
        "## 1. Identify and handle incorrect values\n\n### Identify incorrect values\n### Convert \"?\" to NaN\nIn the our dataset, missing data comes with the question mark \"?\".\nWe replace \"?\" with NaN (Not a Number), Python's default missing value marker for reasons of computational speed and convenience. Here we use the function: \n <pre>.replace(A, B, inplace = True) </pre>\nto replace A by B.\n"
      ]
    },
    {
      "cell_type": "code",
      "id": "3b0fabdf-6b8f-4700-be73-68bde2467a27",
      "metadata": {},
      "outputs": [],
      "source": [
        "# replace \"?\" to NaN\nspoiled_df.replace(\"?\", np.nan, inplace = True)\nspoiled_df.head(60)"
      ]
    },
    {
      "cell_type": "markdown",
      "id": "38c85889-3bd4-48ae-b35a-cfe6b5cd7f74",
      "metadata": {},
      "outputs": [],
      "source": [
        "### Convert negative values to NaN"
      ]
    },
    {
      "cell_type": "markdown",
      "id": "c20310a9-2d26-4f8a-8ce5-6410c281c610",
      "metadata": {},
      "outputs": [],
      "source": [
        "To do this, we will perform the following actions:<br>\n    1)Let's create a list of column names num_cols that contains the columns \"size BID\", \"price BID\", \"size BTC\", \"price ASK\" and \"price BTC\".<br>\n    2)Let's convert the column values ​​from the num_cols list to the \"float\" type.<br>\n    3)Let's merge the \"ts\" column with the list of columns from the num_cols list, applying the .mask() method to replace values ​​less than zero with NaN. Assign the obtained result to the spoiled_df variable."
      ]
    },
    {
      "cell_type": "code",
      "id": "64f6bcbe-aef5-456f-9ba7-2c472f7f9b50",
      "metadata": {},
      "outputs": [],
      "source": [
        "# replace negative values to NaN\nnum_cols = [\"size BID\", \"price BID\", \"size BTC\" ,\"price BTC\", \"size ASK\", \"price ASK\"]\nspoiled_df[num_cols] = spoiled_df[num_cols].astype(\"float\")\nSaldo = spoiled_df[\"Saldo\"]\nspoiled_df = spoiled_df[num_cols].mask(spoiled_df[num_cols] < 0)\nspoiled_df[\"Saldo\"] = Saldo"
      ]
    },
    {
      "cell_type": "code",
      "id": "14a012cf-dca1-4a45-b6d9-1602ae27b6f8",
      "metadata": {},
      "outputs": [],
      "source": [
        "spoiled_df.head(40)"
      ]
    },
    {
      "cell_type": "markdown",
      "id": "bea15d4c-290b-4103-9afe-eecb531b0368",
      "metadata": {},
      "outputs": [],
      "source": [
        "### Evaluating for Missing Data\n\nThe missing values are converted by default. We use the following functions to identify these missing values. There are two methods to detect missing data:\n\n<ol>\n    <li><b>.isnull()</b></li>\n    <li><b>.notnull()</b></li>\n</ol>\nThe output is a boolean value indicating whether the value that is passed into the argument is in fact missing data.\n"
      ]
    },
    {
      "cell_type": "code",
      "id": "512124e3-fd9b-4284-a9dd-ebdf9eccd38e",
      "metadata": {},
      "outputs": [],
      "source": [
        "missing_data = spoiled_df.isnull()\nmissing_data.head(60)"
      ]
    },
    {
      "cell_type": "markdown",
      "id": "a5b472ae-b964-4ac2-9841-ce93da189fcb",
      "metadata": {},
      "outputs": [],
      "source": [
        "\"True\" means the value is a missing value while \"False\" means the value is not a missing value.\n"
      ]
    },
    {
      "cell_type": "markdown",
      "id": "ad92dcb1-1bb6-4e0f-87cb-07ae9da75b16",
      "metadata": {},
      "outputs": [],
      "source": [
        "### Count missing values in each column\n<p>\nUsing a for loop in Python, we can quickly figure out the number of missing values in each column. As mentioned above, \"True\" represents a missing value and \"False\" means the value is present in the dataset.  In the body of the for loop the method \".value_counts()\" counts the number of \"True\" values. \n</p>\n"
      ]
    },
    {
      "cell_type": "code",
      "id": "6d95150a-283c-4a5d-8939-05f02efc7980",
      "metadata": {},
      "outputs": [],
      "source": [
        "for column in missing_data.columns.values.tolist():\n    print(column)\n    print (missing_data[column].value_counts())\n    print(\"\")"
      ]
    },
    {
      "cell_type": "markdown",
      "id": "327ca98d-7550-49c1-97c3-2dc6d5aaf59f",
      "metadata": {},
      "outputs": [],
      "source": [
        "Based on the summary above, each column has 324 rows of data and three of the columns containing missing data:\n\n<ol>\n    <li>\"size BID\": 8 missing data</li>\n    <li>\"price BID\": 9 missing data</li>\n    <li>\"size BTC\": 11 missing data</li>\n    <li>\"price ASK\": 9 missing data</li>\n</ol>\n"
      ]
    },
    {
      "cell_type": "markdown",
      "id": "21b21534-c9c6-4541-9aae-a01a1397ba02",
      "metadata": {},
      "outputs": [],
      "source": [
        "### Deal with missing data\n<b>How to deal with missing data?</b>\n\n<ol>\n    <li>Drop data<br>\n        a. Drop the whole row<br>\n        b. Drop the whole column\n    </li>\n    <li>Replace data<br>\n        a. Replace it by mean<br>\n        b. Replace it by frequency<br>\n        c. Replace it based on other functions\n    </li>\n</ol>\n"
      ]
    },
    {
      "cell_type": "markdown",
      "id": "a0679a09-7961-4429-91ab-73ed5023e450",
      "metadata": {},
      "outputs": [],
      "source": [
        "Whole columns should be dropped only if most entries in the column are empty. In our dataset, none of the columns are empty enough to drop entirely.\nWe have some freedom in choosing which method to replace data; however, some methods may seem more reasonable than others. Our dataset is tied to time, so we use the pandas interpolator to preserve data quality:\n\n<b>Replace by pandas interpolation:</b>\n\n<ul>\n    <li>\"size BID\": 8 missing data, replace them with frequency\n    </li>\n    <li>\"price BID\": 9 missing data, replace them with model output</li>\n    <li>\"size BTC\": 11 missing data, replace them with model output</li>\n    <li>\"price ASK\": 9 missing data, replace them with model output</li>\n</ul>\n\n\n"
      ]
    },
    {
      "cell_type": "markdown",
      "id": "7a1e060a-6b23-470e-8ad9-19d3bc51bb07",
      "metadata": {},
      "outputs": [],
      "source": [
        "### Replacing with pandas interpolation\n"
      ]
    },
    {
      "cell_type": "markdown",
      "id": "a5c10dba-33fe-44a4-af6e-a6e9eba4f0f6",
      "metadata": {},
      "outputs": [],
      "source": [
        "Let's try different models for interpolation and take the best one"
      ]
    },
    {
      "cell_type": "code",
      "id": "6a4e581a-953e-40fe-958b-09aef24a6466",
      "metadata": {},
      "outputs": [],
      "source": [
        "def MSE(actual, predicted):\n    return np.square(np.subtract(np.array(actual), np.array(predicted))).mean()\n\ndef MAPE(Y_actual,Y_Predicted):\n    mape = np.mean(np.abs((Y_actual - Y_Predicted)/Y_actual))\n    return mape"
      ]
    },
    {
      "cell_type": "code",
      "id": "49272083-74e0-4f49-877b-cfa3de1499fa",
      "metadata": {},
      "outputs": [],
      "source": [
        "# Setting precision\npd.set_option(\"display.precision\", 10)\n# Methods without order\nmethods = [\"linear\", \"nearest\", \"slinear\", \"quadratic\", \"cubic\", \"piecewise_polynomial\", \"pchip\", \"akima\", \"cubicspline\"]\n# Methods with order\norder_methods = [\"spline\", \"polynomial\"]\nperformance = pd.DataFrame({\"name\": [], \"MSE\": [], \"MAPE\": []})\nfor method in methods:\n    # print(method)\n    nan_rows = spoiled_df[\"size BTC\"].isna()\n    interpolated_close = spoiled_df[\"size BTC\"].interpolate(method=method)\n    mse = MSE(interpolated_close[nan_rows], df.loc[nan_rows, \"size BTC\"])\n    mape = MAPE(df.loc[nan_rows, \"size BTC\"], interpolated_close[nan_rows])\n    performance.loc[len(performance.index)] = [method, mse, mape]\nfor method in order_methods:\n    for order in [3, 5]:\n        # print(f\"method: {method}, order: {order}\")\n        nan_rows = spoiled_df[\"size BTC\"].isna()\n        interpolated_close = spoiled_df[\"size BTC\"].interpolate(method=method, order=order)\n        mse = MSE(df.loc[nan_rows, \"size BTC\"], interpolated_close[nan_rows])\n        mape = MAPE(df.loc[nan_rows, \"size BTC\"], interpolated_close[nan_rows])\n        performance.loc[len(performance.index)] = [f\"{method}_{order}\", mse, mape]\n        \nperformance = performance.sort_values(by=[\"MAPE\", \"MSE\"], ascending=True)\nperformance[\"MAPE\"] = performance[\"MAPE\"] * 100\nperformance[\"MAPE\"] = performance[\"MAPE\"].astype(\"str\") \nperformance[\"MAPE\"] = performance[\"MAPE\"].str.slice(stop=8) + \"%\"\nperformance.head(15)"
      ]
    },
    {
      "cell_type": "markdown",
      "id": "48d33d2b-faaf-4d49-a8aa-5acb03c08ba9",
      "metadata": {},
      "outputs": [],
      "source": [
        "Since our time inputs are at large intervals our percentages are quite large. If you have a small time interval, you will have lower percentages."
      ]
    },
    {
      "cell_type": "markdown",
      "id": "5b272325-eaef-4493-bb0f-021041f334da",
      "metadata": {},
      "outputs": [],
      "source": [
        "How we can see the best model for interpolation is linear so we'll use it to replace NaN values"
      ]
    },
    {
      "cell_type": "code",
      "id": "64d140c8-2790-4f26-9ce7-7f1e424f429e",
      "metadata": {},
      "outputs": [],
      "source": [
        "spoiled_df['size BTC'].interpolate(method = 'linear', inplace=True)\nspoiled_df.head(40)"
      ]
    },
    {
      "cell_type": "code",
      "id": "27a9c4fc-dc67-42f1-8caf-47a7bdb7e76d",
      "metadata": {},
      "outputs": [],
      "source": [
        "spoiled_df['size BID'].interpolate(method = 'linear', inplace=True)\nspoiled_df.head(40)"
      ]
    },
    {
      "cell_type": "code",
      "id": "e20b367f-d559-4258-8ae2-5c28613b1dec",
      "metadata": {},
      "outputs": [],
      "source": [
        "spoiled_df['price BID'].interpolate(method = 'linear', inplace=True)\nspoiled_df.head(40)"
      ]
    },
    {
      "cell_type": "code",
      "id": "0937f05f-1dfb-495c-9aaf-c3d9bf4d2207",
      "metadata": {},
      "outputs": [],
      "source": [
        "spoiled_df['price ASK'].interpolate(method = 'linear', inplace=True)\nspoiled_df.head(40)"
      ]
    },
    {
      "cell_type": "code",
      "id": "30db1187-6a53-4a93-965d-7aff1aaf0145",
      "metadata": {},
      "outputs": [],
      "source": [
        "spoiled_df.isna().sum()"
      ]
    },
    {
      "cell_type": "markdown",
      "id": "e7fa1d3f-65da-4b5b-86ee-bd0035e677de",
      "metadata": {},
      "outputs": [],
      "source": [
        "<div class=\"alert alert-danger alertdanger\" style=\"margin-top: 20px\">\n<h1> Question  #1: </h1>\n\n<b>Based on the example above, replace NaN in \"price ASK\" column with the pandas interpolate.</b>\n\n</div>\n"
      ]
    },
    {
      "cell_type": "code",
      "id": "ebb20282-8473-4442-81a4-f1a937462282",
      "metadata": {},
      "outputs": [],
      "source": [
        "# Write your code below and press Shift+Enter to execute \nspoiled_df['price ASK'].interpolate(method = 'linear', inplace=True)\nspoiled_df.head(60)"
      ]
    },
    {
      "cell_type": "markdown",
      "id": "0dd205ec-9db0-49ec-9328-ff12db4cfeef",
      "metadata": {},
      "outputs": [],
      "source": [
        "<details><summary>Click here for the solution</summary>\n\n```python\nspoiled_df['price ASK'].interpolate(method = 'linear', inplace=True)\nspoiled_df.head(60)\n```\n\n</details>\n"
      ]
    },
    {
      "cell_type": "markdown",
      "id": "0c626bdb-b8ad-4411-864a-5a057d4dc08d",
      "metadata": {},
      "outputs": [],
      "source": [
        "<b>Good!</b> Now, we have a dataset with no missing values.\n"
      ]
    },
    {
      "cell_type": "markdown",
      "id": "47ffd30c-eb42-43df-b8cd-4b79be564ffb",
      "metadata": {},
      "outputs": [],
      "source": [
        "## Correct data format\n<b>We are almost there!</b>\n<p>The last step in data cleaning is checking and making sure that all data is in the correct format (int, float, text or other).</p>\n\nIn Pandas, we use:\n\n<p><b>.dtype()</b> to check the data type</p>\n<p><b>.astype()</b> to change the data type</p>\n"
      ]
    },
    {
      "cell_type": "markdown",
      "id": "fec557ca-8918-47fd-9f78-7c5fdfcb7963",
      "metadata": {},
      "outputs": [],
      "source": [
        "### Let's list the data types for each column\n"
      ]
    },
    {
      "cell_type": "code",
      "id": "922c13a1-05c7-4b02-b010-724567c350a1",
      "metadata": {},
      "outputs": [],
      "source": [
        "spoiled_df.dtypes"
      ]
    },
    {
      "cell_type": "markdown",
      "id": "24cb66fd-f6c5-465e-a9ff-a5be7c8e235e",
      "metadata": {},
      "outputs": [],
      "source": [
        "### Convert data types to proper format\n"
      ]
    },
    {
      "cell_type": "markdown",
      "id": "c4676ca5-a504-4d92-a726-e64b851927cb",
      "metadata": {},
      "outputs": [],
      "source": [
        "<p>As we can see above, our columns have the correct data type, but if later in the tutorial you need to change the data type, I will show you how to do it. Numerical variables should have type \"float\" or \"int\", and variables with timestamps have type \"datetime\". We have to convert data types into a proper format for each column using the \"astype()\" method.</p>\n<p>Let's look at the data conversion method as an example for you.</p>\n"
      ]
    },
    {
      "cell_type": "code",
      "id": "ca65b491-efcc-4dda-a43d-330e499c891c",
      "metadata": {},
      "outputs": [],
      "source": [
        "#spoiled_df[\"size BID\"] = spoiled_df[\"size BID\"].astype(\"float64\")\n#spoiled_df[\"price BID\"] = spoiled_df[\"price BID\"].astype(\"float64\")"
      ]
    },
    {
      "cell_type": "markdown",
      "id": "32b45ecc-38d3-4cef-a7c9-485c1a37bbfb",
      "metadata": {},
      "outputs": [],
      "source": [
        "<b>Wonderful!</b>\n\nNow we have finally obtained the cleaned dataset with no missing values with all data in its proper format.\n"
      ]
    },
    {
      "cell_type": "markdown",
      "id": "6163ef7c-0e5d-48c7-b5e4-434ce2052b8c",
      "metadata": {},
      "outputs": [],
      "source": [
        "# 2. Data Standardization\n<p>\nData is usually collected from different agencies in different formats.\n(Data standardization is also a term for a particular type of data normalization where we subtract the mean and divide by the standard deviation.)\n</p>\n\n<b>What is standardization?</b>\n\n<p>Standardization is the process of transforming data into a common format, allowing the researcher to make the meaningful comparison.\n</p>\n\n<b>Example</b>\n\n<p>Transform BTC TO EUR:</p>\n<p>We will need to apply <b>data transformation</b> to transform BTC into EUR.</p>\n"
      ]
    },
    {
      "cell_type": "markdown",
      "id": "aee103d0-f933-4802-be7d-116cddb00ceb",
      "metadata": {},
      "outputs": [],
      "source": [
        "<p>We can do many mathematical operations directly in Pandas.</p>\n"
      ]
    },
    {
      "cell_type": "code",
      "id": "bea45003-b57f-4e8a-abbc-93fbaf94dec5",
      "metadata": {},
      "outputs": [],
      "source": [
        "spoiled_df.head()"
      ]
    },
    {
      "cell_type": "markdown",
      "id": "e38f1b0a-2875-44b6-93c1-cb543de62f19",
      "metadata": {},
      "outputs": [],
      "source": [
        "Let's get the exchange rate and convert"
      ]
    },
    {
      "cell_type": "code",
      "id": "27194ecb-8ff8-4aa5-a039-60e0253e89ca",
      "metadata": {},
      "outputs": [],
      "source": [
        "# Convert mpg to USDT by mathematical operation\nres = requests.get(\"https://api.binance.com/sapi/v1/convert/exchangeInfo?fromAsset=BTC&toAsset=EUR\")\nif res.status_code != 200:\n    rate = 0.95\nelse:\n    res = res.json()\n    rate = float(res[0][\"toAssetMinAmount\"])\n    \nprint(f\"The exchange rate is 1 BTC = {rate} EUR\")\n\ncols_to_convert = [\"price BTC\"]\nfor col in cols_to_convert:\n    spoiled_df[f\"{col}_EUR\"] = spoiled_df[col] * rate\n\n# check your transformed data \nspoiled_df[[\"price BTC_EUR\"]].head()"
      ]
    },
    {
      "cell_type": "markdown",
      "id": "64069d92-485b-4789-ac22-c845d858a7c8",
      "metadata": {},
      "outputs": [],
      "source": [
        "<div class=\"alert alert-danger alertdanger\" style=\"margin-top: 20px\">\n<h1> Question  #2: </h1>\n\n<b>According to the example above, transform \"price ASK\" (BTC price) to EUR and name the column \"price_ASK_EUR\".</b>\n\n</div>\n"
      ]
    },
    {
      "cell_type": "code",
      "id": "13758448-7bc8-48da-aaab-f70f9df8504a",
      "metadata": {},
      "outputs": [],
      "source": [
        "# Write your code below and press Shift+Enter to execute "
      ]
    },
    {
      "cell_type": "markdown",
      "id": "7cff991b-f47a-4f26-bc99-e50a72f52ac6",
      "metadata": {},
      "outputs": [],
      "source": [
        "<details><summary>Click here for the solution</summary>\n\n```python\n# Convert mpg to USDT by mathematical operation\nres = requests.get(\"https://api.binance.com/sapi/v1/convert/exchangeInfo?fromAsset=BTC&toAsset=EUR\")\nif res.status_code != 200:\n    rate = 0.04588629\nelse:\n    res = res.json()\n    rate = float(res[0][\"toAssetMinAmount\"])\n    \nprint(f\"The exchange rate is 1 BTC = {rate} EUR\")\n\ncols_to_convert = [\"price ASK\"]\nfor col in cols_to_convert:\n    spoiled_df[f\"{col}_EUR\"] = spoiled_df[col] * rate\n\n# check your transformed data \nspoiled_df[[\"price ASK_EUR\"]].head()\n```\n\n</details>\n"
      ]
    },
    {
      "cell_type": "markdown",
      "id": "90eb0093-65ca-4c80-8f2a-276376a39879",
      "metadata": {},
      "outputs": [],
      "source": [
        "# 3. Data Normalization\n\n<b>Why normalization?</b>\n\n<p>Normalization is the process of transforming values of several variables into a similar range. Typical normalizations include scaling the variable so the variable average is 0, scaling the variable so the variance is 1, or scaling the variable so the variable values range from 0 to 1.\n</p>\n\n<b>Example</b>\n\n<p>To demonstrate normalization, let's say we want to scale the columns \"size BID\", \"price BID\" and \"price ASK\".</p>\n<p><b>Target:</b> would like to normalize those variables so their value ranges from 0 to 1</p>\n<p><b>Approach:</b> replace original value by (original value)/(maximum value), sklearn <b>MinMaxScaler</b></p>\n"
      ]
    },
    {
      "cell_type": "code",
      "id": "dd2ab881-a7d6-41ef-9923-dff878ce7c68",
      "metadata": {},
      "outputs": [],
      "source": [
        "# replace (original value) by (original value)/(maximum value)\nspoiled_df[\"size BID_norm\"] = spoiled_df[\"size BID\"] / spoiled_df[\"size BID\"].max()\nscaler = MinMaxScaler()\nspoiled_df[\"price BID_norm\"] = scaler.fit_transform(spoiled_df[\"price BID\"].to_numpy().reshape(-1, 1))"
      ]
    },
    {
      "cell_type": "code",
      "id": "87de2e74-ec80-42d6-b50c-41ebfc823013",
      "metadata": {},
      "outputs": [],
      "source": [
        "spoiled_df[[\"size BID_norm\", \"price BID_norm\"]].head()"
      ]
    },
    {
      "cell_type": "markdown",
      "id": "efbda2e0-9acc-4aff-9dfb-e62ebcf78e6b",
      "metadata": {},
      "outputs": [],
      "source": [
        "<div class=\"alert alert-danger alertdanger\" style=\"margin-top: 20px\">\n<h1> Question #3: </h1>\n\n<b>According to the example above, normalize the column \"price BID\" using sklearn <b>MinMaxScaler</b>.</b>\n\n</div>\n"
      ]
    },
    {
      "cell_type": "code",
      "id": "7871b7fb-d920-4727-8ecb-4527b8821803",
      "metadata": {},
      "outputs": [],
      "source": [
        "# Write your code below and press Shift+Enter to execute "
      ]
    },
    {
      "cell_type": "markdown",
      "id": "456d42bc-1a03-4448-ba41-9f03c0f2bf84",
      "metadata": {},
      "outputs": [],
      "source": [
        "<details><summary>Click here for the solution</summary>\n\n```python\nscaler = MinMaxScaler()\nspoiled_df[\"price BID_norm\"] = scaler.fit_transform(spoiled_df[\"price BID\"].to_numpy().reshape(-1, 1))\n\n\n# show the scaled column\nspoiled_df[[\"price BID_norm\"]].head()\n\n\n```\n\n</details>\n"
      ]
    },
    {
      "cell_type": "markdown",
      "id": "1f6a73ea-846b-4479-9b8d-fe56c7334f45",
      "metadata": {},
      "outputs": [],
      "source": [
        "Here we can see we've normalized \"size BID\", \"price BID\" and \"price ASK\" in the range of \\[0,1].\n"
      ]
    },
    {
      "cell_type": "markdown",
      "id": "525db160-a5b8-4860-8456-a957e182277c",
      "metadata": {},
      "outputs": [],
      "source": [
        "# 3. Binning and indicator variable\n<b>Why binning?</b>\n<p>\n    Binning is a process of transforming continuous numerical variables into discrete categorical 'bins' for grouped analysis.\n</p>\n\n<b>Example: </b>\n\n<p>In our dataset, \"size BID\" is a real valued variable. What if we want to break it down into 3 bins and see which bin sold the most? Can we rearrange them into three ‘bins' to simplify analysis? </p>\n\n<p>We will use the pandas method 'cut' to segment the 'size BID' column into 3 bins.</p>\n"
      ]
    },
    {
      "cell_type": "markdown",
      "id": "507bdd11-1b07-4656-b92c-70094393f1c1",
      "metadata": {},
      "outputs": [],
      "source": [
        "## Example of Binning Data In Pandas\n"
      ]
    },
    {
      "cell_type": "markdown",
      "id": "ef19af2f-6c30-4bc8-b966-c934b95c497f",
      "metadata": {},
      "outputs": [],
      "source": [
        "Let's plot the histogram of \"size BID bins\" to see what the distribution of \"size BID\" looks like.\n"
      ]
    },
    {
      "cell_type": "code",
      "id": "c93cbbcc-9321-4447-9455-740e9547a537",
      "metadata": {},
      "outputs": [],
      "source": [
        "plt.hist(spoiled_df[\"size BID\"])\n\n# set x/y labels and plot title\nplt.xlabel(\"size BID\")\nplt.ylabel(\"count\")\nplt.title(\"size BID bins\")"
      ]
    },
    {
      "cell_type": "code",
      "id": "395b4a34-4524-4e50-addc-f9ab19b46ee6",
      "metadata": {},
      "outputs": [],
      "source": [
        "bins = np.linspace(min(df[\"size BID\"]), max(df[\"size BID\"]), 4)\nbins"
      ]
    },
    {
      "cell_type": "code",
      "id": "fcdda1b3-6cdf-45a7-8af6-348df4fc4363",
      "metadata": {},
      "outputs": [],
      "source": [
        "spoiled_df[\"size BID\"].describe()"
      ]
    },
    {
      "cell_type": "markdown",
      "id": "577a3761-5214-4085-b109-5fd4e5d061b5",
      "metadata": {},
      "outputs": [],
      "source": [
        "We set group  names:\n"
      ]
    },
    {
      "cell_type": "code",
      "id": "6b7e1444-bcb3-44c2-b4ab-0981cdbfb5f1",
      "metadata": {},
      "outputs": [],
      "source": [
        "group_names = [\"Low\", \"Medium\", \"High\"]"
      ]
    },
    {
      "cell_type": "markdown",
      "id": "17efa25c-205a-4053-9172-0c924d7bbddf",
      "metadata": {},
      "outputs": [],
      "source": [
        "We apply the function <b>cut</b> to determine what each value of `spoiled_df[\"volume\"]` belongs to.\n"
      ]
    },
    {
      "cell_type": "code",
      "id": "8b3f3670-b8c9-418b-af4f-5c5eb632b6ee",
      "metadata": {},
      "outputs": [],
      "source": [
        "spoiled_df[\"size BID-binned\"] = pd.cut(spoiled_df[\"size BID\"], bins, labels=group_names, include_lowest=True)\nspoiled_df[[\"size BID\", \"size BID-binned\"]].head(20)"
      ]
    },
    {
      "cell_type": "markdown",
      "id": "d063fc93-6275-453c-b095-ccd11535a38b",
      "metadata": {},
      "outputs": [],
      "source": [
        "Let's see the \"size BID\" in each bin:\n"
      ]
    },
    {
      "cell_type": "code",
      "id": "185fc699-bb40-493d-9e69-1c6c5284079e",
      "metadata": {},
      "outputs": [],
      "source": [
        "spoiled_df[\"size BID-binned\"].value_counts()"
      ]
    },
    {
      "cell_type": "markdown",
      "id": "f16e5728-d2af-408e-87c2-7b76171dd2e8",
      "metadata": {},
      "outputs": [],
      "source": [
        "Let's plot the distribution of each bin:\n"
      ]
    },
    {
      "cell_type": "code",
      "id": "54b17181-dd86-4369-b99c-a405bd85a64c",
      "metadata": {},
      "outputs": [],
      "source": [
        "plt.bar(group_names, spoiled_df[\"size BID-binned\"].value_counts().sort_index())\n\n# set x/y labels and plot title\nplt.xlabel(\"size BID\")\nplt.ylabel(\"count\")\nplt.title(\"size BID bins\")"
      ]
    },
    {
      "cell_type": "markdown",
      "id": "1d9d9f44-65ce-4ea4-9418-e33cc9f25db4",
      "metadata": {},
      "outputs": [],
      "source": [
        "<p>\n    As we can see we managed to create 3 classes based on \"size BID\"\n</p>"
      ]
    },
    {
      "cell_type": "markdown",
      "id": "46132d13-fcca-48d6-9495-9380227f6a54",
      "metadata": {},
      "outputs": [],
      "source": [
        "### Bins Visualization\nNormally, a histogram is used to visualize the distribution of bins we created above. \n"
      ]
    },
    {
      "cell_type": "code",
      "id": "80ab53c7-fe9f-4eec-b863-432789bb053c",
      "metadata": {},
      "outputs": [],
      "source": [
        "# draw historgram of attribute \"size BID\" with bins = 3\nplt.hist(spoiled_df[\"size BID\"], bins = 3)\n\n# set x/y labels and plot title\nplt.xlabel(\"size BID\")\nplt.ylabel(\"count\")\nplt.title(\"size BID bins\")"
      ]
    },
    {
      "cell_type": "markdown",
      "id": "a2892501-0d85-4830-859f-0502674004fc",
      "metadata": {},
      "outputs": [],
      "source": [
        "The plot above shows the binning result for the attribute \"size BID\".\n"
      ]
    },
    {
      "cell_type": "markdown",
      "id": "ef333165-c2ad-494b-abce-ac5c033bebd5",
      "metadata": {},
      "outputs": [],
      "source": [
        "### Indicator Variable (or Dummy Variable)\n<b>What is an indicator variable?</b>\n<p>\n    An indicator variable (or dummy variable) is a numerical variable used to label categories. They are called \"dummies\" because the numbers themselves don't have inherent meaning. \n</p>\n\n<b>Why we use indicator variables?</b>\n\n<p>\n    We use indicator variables so we can use categorical variables for regression analysis in the later modules.\n</p>\n<b>Example</b>\n<p>\n    We see the column \"size BID-binned\" has three unique values: \"Low\", \"Medium\" or \"High\". Regression doesn't understand words, only numbers. To use this attribute in regression analysis, we convert \"rec_count-binned\" to indicator variables.\n</p>\n\n<p>\n    We will use pandas' method <b>get_dummies</b> to assign numerical values to different categories of \"close\". \n</p>\n"
      ]
    },
    {
      "cell_type": "markdown",
      "id": "6faee6ea-bb9e-493f-9815-9c76c494f06c",
      "metadata": {},
      "outputs": [],
      "source": [
        "Get the indicator variables and assign it to data frame \"dummy_variable\\_1\":\n"
      ]
    },
    {
      "cell_type": "code",
      "id": "7e043cad-7e59-4954-81c9-a6126b66c552",
      "metadata": {},
      "outputs": [],
      "source": [
        "dummy_variable_1 = pd.get_dummies(spoiled_df[\"size BID-binned\"], prefix=\"size BID\")\ndummy_variable_1.head()"
      ]
    },
    {
      "cell_type": "code",
      "id": "8b6ff736-b626-4525-84be-abd0fcf28a61",
      "metadata": {},
      "outputs": [],
      "source": [
        "# merge data frame \"spoiled_df\" and \"dummy_variable_1\" \nspoiled_df = pd.concat([spoiled_df, dummy_variable_1], axis=1)\n\n# drop original column \"rec_count-binned\" from \"spoiled_df\"\nspoiled_df.drop(\"size BID-binned\", axis = 1, inplace=True)"
      ]
    },
    {
      "cell_type": "code",
      "id": "ab8f0ef8-12b0-487e-9464-d300fbb23d85",
      "metadata": {},
      "outputs": [],
      "source": [
        "spoiled_df.head(10)"
      ]
    },
    {
      "cell_type": "markdown",
      "id": "6f453701-9253-4cd3-afe8-4fda7346eab1",
      "metadata": {},
      "outputs": [],
      "source": [
        "The last three columns are now the indicator variable representation of the volume variable. They're all 0s and 1s now.\n"
      ]
    },
    {
      "cell_type": "markdown",
      "id": "ab652610-7368-489b-96ae-5befc2f78376",
      "metadata": {},
      "outputs": [],
      "source": [
        "<div class=\"alert alert-danger alertdanger\" style=\"margin-top: 20px\">\n<h1> Question  #4: </h1>\n\n<b>Similar to before, create an indicator variable for the column \"ts_BTC\" (create spoiled_df[\"ts_BTC_month\"] = spoiled_df[\"ts_BTC\"].dt.month as category and then get_dummies from that column and then concatenate the spoiled_df) and merge the dataframes</b>\n\n</div>\n"
      ]
    },
    {
      "cell_type": "code",
      "id": "30f7369b-b29b-4042-9480-6d095d92b796",
      "metadata": {},
      "outputs": [],
      "source": [
        "# Write your code below and press Shift+Enter to execute \n"
      ]
    },
    {
      "cell_type": "markdown",
      "id": "bcbf5077-9c16-4af2-9f87-749d6cb0df67",
      "metadata": {},
      "outputs": [],
      "source": [
        "<details><summary>Click here for the solution</summary>\n\n```python\n# Create a new columnb\nspoiled_df[\"ts_BTC_month\"] = spoiled_df.index.month\n# get indicator variables of aspiration and assign it to data frame \"dummy_variable_2\"\ndummy_variable_2 = pd.get_dummies(spoiled_df[\"ts_BTC_month\"], prefix=\"ts\")\n# Concatenate df's\nspoiled_df = pd.concat([spoiled_df, dummy_variable_2], axis=1)\n# Drop original column \"ts_month\" from \"df\"\nspoiled_df.drop(\"ts_BTC_month\", axis=1, inplace=True)\nspoiled_df.head()\n\n```\n\n</details>\n"
      ]
    },
    {
      "cell_type": "markdown",
      "id": "6d9607ca-f69c-4ea4-81f1-4ab57bc04533",
      "metadata": {},
      "outputs": [],
      "source": [
        "# Resampling"
      ]
    },
    {
      "cell_type": "markdown",
      "id": "87da1ff4-8333-462e-87b1-6d4f70a476b4",
      "metadata": {},
      "outputs": [],
      "source": [
        "<b>What is resampling?</b>\n<p>\n    Data resampling is any process whereby data is gathered and expressed in a summary form\n</p>"
      ]
    },
    {
      "cell_type": "markdown",
      "id": "693dc6e6-4b1f-4236-baa5-314ccd490766",
      "metadata": {},
      "outputs": [],
      "source": [
        "After resampling we can use different aggregation functions such as:\n\n<ul>\n    <li><b>mean()</b></li>\n    <li><b>sum()</b></li>\n    <li><b>prod()</b></li>\n    <li><b>first()</b></li>\n    <li><b>last()</b></li>\n    <li><b>min()</b></li>\n    <li><b>max()</b></li>\n</ul>"
      ]
    },
    {
      "cell_type": "code",
      "id": "f435ce4d-9d14-46c1-867a-d2a4edaccea0",
      "metadata": {},
      "outputs": [],
      "source": [
        "spoiled_df[[\"price ASK\", \"size ASK\",\"price BID\",\"size BID\",\"price BTC\",\"size BTC\",\"Saldo\"]].resample(\"1H\").agg({\"price ASK\": \"mean\",\"size ASK\": \"sum\",\"price BID\": \"mean\",\"size BID\": \"sum\",\"price BTC\":\"mean\",\"size BTC\":\"sum\", \"Saldo\":\"mean\"})"
      ]
    },
    {
      "cell_type": "markdown",
      "id": "7da7438c-6cb9-455c-9f3b-9d857a0d2b2c",
      "metadata": {},
      "outputs": [],
      "source": [
        "How we can see we resampled data with aggregation time 1 hour so we reduced amount of the data and generalized it. And we can make assumptions on much wider time window"
      ]
    },
    {
      "cell_type": "markdown",
      "id": "b8cdba34-f2a3-40f6-b62d-4313c6e541c7",
      "metadata": {},
      "outputs": [],
      "source": [
        " <div class=\"alert alert-danger alertdanger\" style=\"margin-top: 20px\">\n<h1> Question  #5: </h1>\n\n<b>Apply resampling to \"spoiled_df\" with aggregation time 2 hour. Then apply <b>max()</b> function</b>\n\n</div>\n"
      ]
    },
    {
      "cell_type": "code",
      "id": "21deca07-2318-435a-868e-fd45d8e32aab",
      "metadata": {},
      "outputs": [],
      "source": [
        "# Write your code below and press Shift+Enter to execute \n"
      ]
    },
    {
      "cell_type": "markdown",
      "id": "a3e581e1-f86e-41b0-afb6-a5f514b5df05",
      "metadata": {},
      "outputs": [],
      "source": [
        "<details><summary>Click here for the solution</summary>\n\n```python\nspoiled_df[[\"price ASK\", \"size ASK\",\"price BID\",\"size BID\",\"price BTC\",\"size BTC\",\"Saldo\",\"price BTC_EUR\",\"price BID_norm\",\"size BID_norm\",\"size BID_Low\",\"size BID_Medium\",\"size BID_High\"]].resample('2h').max().head()\n```\n\n</details>\n"
      ]
    },
    {
      "cell_type": "code",
      "id": "efa59bf5-b877-4a98-a427-0a618a6f667c",
      "metadata": {},
      "outputs": [],
      "source": [
        "spoiled_df.to_csv(\"clean_df.csv\", index=True)"
      ]
    },
    {
      "cell_type": "markdown",
      "id": "7627ff76-6351-45f2-84b7-bdde7c6db54d",
      "metadata": {},
      "outputs": [],
      "source": [
        "Save the new csv:\n\n> Note : The  csv file cannot be viewed in the jupyterlite based SN labs environment.However you can Click <a href=\"https://cf-courses-data.s3.us.cloud-object-storage.appdomain.cloud/IBMDeveloperSkillsNetwork-DA0101EN-SkillsNetwork/labs/Module%202/DA0101EN-2-Review-Data-Wrangling.ipynb?utm_medium=Exinfluencer&utm_source=Exinfluencer&utm_content=000026UJ&utm_term=10006555&utm_id=NA-SkillsNetwork-Channel-SkillsNetworkCoursesIBMDeveloperSkillsNetworkDA0101ENSkillsNetwork20235326-2022-01-01\">HERE ???</a> to download the lab notebook (.ipynb) to your local machine and view the csv file once the notebook is executed.\n"
      ]
    },
    {
      "cell_type": "markdown",
      "id": "c23fabb2-4c77-4c75-b836-8e1945658866",
      "metadata": {},
      "outputs": [],
      "source": [
        "### Thank you for completing this lab!\n\n## Author\n\n<a href=\"https://author.skills.network/instructors/danyil_zhupnyk\">Danyil Zhupnyk</a><br>\n<a href=\"https://author.skills.network/instructors/yaroslav_vyklyuk_2\">Prof. Yaroslav Vyklyuk, DrSc, PhD</a><br>\n<a href=\"https://author.skills.network/instructors/mariya_fleychuk\">Prof. Mariya Fleychuk, DrSc, PhD</a><br>\n\n## Change Log\n\n| Date (YYYY-MM-DD) | Version | Changed By | Change Description                 |\n| ----------------- | ------- | ---------- | ---------------------------------- |\n| 2023-03-04        | 1.0     | D.Zhupnyk  | Created Lab                        |\n\n<hr>\n\n## <h3 align=\"center\"> © IBM Corporation 2023. All rights reserved. <h3/>"
      ]
    },
    {
      "cell_type": "code",
      "id": "5159db82-9037-4878-9159-a10c6a70916e",
      "metadata": {},
      "outputs": [],
      "source": [
        ""
      ]
    }
  ],
  "metadata": {
    "language_info": {
      "name": ""
    },
    "kernelspec": {
      "name": "",
      "display_name": ""
    }
  },
  "nbformat": 4,
  "nbformat_minor": 4
}