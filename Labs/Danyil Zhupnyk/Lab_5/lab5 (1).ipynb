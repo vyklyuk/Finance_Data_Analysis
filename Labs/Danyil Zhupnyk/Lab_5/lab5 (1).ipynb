{
  "cells": [
    {
      "cell_type": "markdown",
      "id": "72efa1a9-bdde-4166-acc2-4d65154d9663",
      "metadata": {},
      "outputs": [],
      "source": [
        "<center>\n    <img src=\"https://cf-courses-data.s3.us.cloud-object-storage.appdomain.cloud/assets/logos/SN_web_lightmode.png\" width=\"400\" alt=\"cognitiveclass.ai logo\"  />\n</center>\n\n\n# Model Evaluation and Refinement\n\nEstimated time needed: **30** minutes\n\n## Objectives\n\nAfter completing this lab you will be able to:\n\n*   Evaluate and refine prediction models\n"
      ]
    },
    {
      "cell_type": "markdown",
      "id": "3b72321e-46ff-4106-8383-231f2966fc04",
      "metadata": {},
      "outputs": [],
      "source": [
        "<h2>Table of Contents</h2>\n<ul>\n    <li><a href=\"https://#ref1\">Model Evaluation </a></li>\n    <li><a href=\"https://#ref2\">Over-fitting, Under-fitting and Model Selection </a></li>\n    <li><a href=\"https://#ref3\">Ridge Regression </a></li>\n    <li><a href=\"https://#ref4\">Grid Search</a></li>\n</ul>\n"
      ]
    },
    {
      "cell_type": "markdown",
      "id": "f3a56c6c-4c94-4424-a21f-ca9de26fd52a",
      "metadata": {},
      "outputs": [],
      "source": [
        "<h4>Setup</h4>\n"
      ]
    },
    {
      "cell_type": "markdown",
      "id": "52aa9f8a-f3b9-48ff-9aa7-3473dcffb693",
      "metadata": {},
      "outputs": [],
      "source": [
        "If you run the lab locally using Anaconda, you can load the correct library and versions by uncommenting the following:\n"
      ]
    },
    {
      "cell_type": "code",
      "id": "cb1b46c5-8880-45e3-8eea-d8c279400c9a",
      "metadata": {},
      "outputs": [],
      "source": [
        "#install specific version of libraries used in lab\n! mamba install pandas -y\n! mamba install numpy -y\n! mamba install scikit-learn -y\n! mamba install ipywidgets -y\n! mamba install tqdm -y"
      ]
    },
    {
      "cell_type": "code",
      "id": "799fbdbd-4764-463f-9a0d-0210b2330d12",
      "metadata": {},
      "outputs": [],
      "source": [
        "import pandas as pd\nimport numpy as np\n\nfrom ipywidgets import interact, interactive, fixed, interact_manual\n\nfrom sklearn.model_selection import train_test_split\nfrom sklearn.linear_model import LinearRegression\nfrom sklearn.model_selection import cross_val_score\nfrom sklearn.model_selection import cross_val_predict\nfrom sklearn.preprocessing import PolynomialFeatures\nfrom sklearn.linear_model import Ridge\nfrom sklearn.model_selection import GridSearchCV\n\nfrom tqdm import tqdm\n\n\nimport matplotlib.pyplot as plt\n%matplotlib inline\nimport seaborn as sns\nimport warnings"
      ]
    },
    {
      "cell_type": "code",
      "id": "8cfd2355-6347-46eb-a942-99ea3df3793b",
      "metadata": {},
      "outputs": [],
      "source": [
        "pd.set_option(\"display.precision\", 2)\npd.options.display.float_format = '{:.2f}'.format\nwarnings.filterwarnings('ignore')"
      ]
    },
    {
      "cell_type": "markdown",
      "id": "6d0174b4-ee13-4058-9ab2-7bad71cd0229",
      "metadata": {},
      "outputs": [],
      "source": [
        "This dataset was hosted on IBM Cloud object. Click <a href=\"https://cocl.us/DA101EN_object_storage?utm_medium=Exinfluencer&utm_source=Exinfluencer&utm_content=000026UJ&utm_term=10006555&utm_id=NA-SkillsNetwork-Channel-SkillsNetworkCoursesIBMDeveloperSkillsNetworkDA0101ENSkillsNetwork20235326-2021-01-01\">HERE</a> for free storage.\n"
      ]
    },
    {
      "cell_type": "code",
      "id": "c5d104ac-358d-45e8-ac77-ce21202e9bf2",
      "metadata": {},
      "outputs": [],
      "source": [
        "path = 'https://cf-courses-data.s3.us.cloud-object-storage.appdomain.cloud/IBMSkillsNetwork-GPXX08SMEN/lab3_df%20(1).csv'"
      ]
    },
    {
      "cell_type": "code",
      "id": "f40827b5-da99-426c-a51c-41cfee8f5d2b",
      "metadata": {},
      "outputs": [],
      "source": [
        "df = pd.read_csv(path, header = 0)"
      ]
    },
    {
      "cell_type": "markdown",
      "id": "7a9f6ed2-9c12-49ef-a783-7d21b5702c5a",
      "metadata": {},
      "outputs": [],
      "source": [
        "First, let's only use numeric data:\n"
      ]
    },
    {
      "cell_type": "code",
      "id": "0fd4050a-2160-431d-8d27-1ffb5ce1c2ee",
      "metadata": {},
      "outputs": [],
      "source": [
        "df=df._get_numeric_data()\ndf.head()"
      ]
    },
    {
      "cell_type": "markdown",
      "id": "b98b67f7-951f-438e-80fb-28e52719f86f",
      "metadata": {},
      "outputs": [],
      "source": [
        "<h2>Functions for Plotting</h2>\n"
      ]
    },
    {
      "cell_type": "code",
      "id": "abbaa666-ce60-4303-a28f-d6a7b244153f",
      "metadata": {},
      "outputs": [],
      "source": [
        "def DistributionPlot(RedFunction, BlueFunction, RedName, BlueName, Title):\n    width = 12\n    height = 10\n    plt.figure(figsize=(width, height))\n\n    ax1 = sns.distplot(RedFunction, hist=False, color=\"r\", label=RedName)\n    ax2 = sns.distplot(BlueFunction, hist=False, color=\"b\", label=BlueName, ax=ax1)\n\n    plt.title(Title)\n    plt.xlabel('Price (in dollars)')\n    plt.ylabel('Proportion')\n\n    plt.show()\n    plt.close()"
      ]
    },
    {
      "cell_type": "code",
      "id": "041492b7-f0a6-4d30-b9e1-2d53970ffd79",
      "metadata": {},
      "outputs": [],
      "source": [
        "def PollyPlot(xtrain, xtest, y_train, y_test, lr,poly_transform):\n    width = 12\n    height = 10\n    plt.figure(figsize=(width, height))\n    \n    \n    #training data \n    #testing data \n    # lr:  linear regression object \n    #poly_transform:  polynomial transformation object \n \n    xmax=max([xtrain.values.max(), xtest.values.max()])\n\n    xmin=min([xtrain.values.min(), xtest.values.min()])\n\n    x=np.arange(xmin, xmax, 0.1)\n\n\n    plt.plot(xtrain, y_train, 'ro', label='Training Data')\n    plt.plot(xtest, y_test, 'go', label='Test Data')\n    plt.plot(x, lr.predict(poly_transform.fit_transform(x.reshape(-1, 1))), label='Predicted Function')\n    plt.ylim([-10000, 60000])\n    plt.ylabel('Price')\n    plt.legend()"
      ]
    },
    {
      "cell_type": "markdown",
      "id": "3d86d2cc-eaf5-47a0-8f6e-204984eceb3b",
      "metadata": {},
      "outputs": [],
      "source": [
        "<h2 id=\"ref1\">Part 1: Training and Testing</h2>\n\n<p>An important step in testing your model is to split your data into training and testing data. We will place the target data <b>price</b> in a separate dataframe <b>y_data</b>:</p>\n"
      ]
    },
    {
      "cell_type": "code",
      "id": "03ad8b1a-a61e-449b-86ba-49119cd27f1b",
      "metadata": {},
      "outputs": [],
      "source": [
        "y_data = df['price BTC']"
      ]
    },
    {
      "cell_type": "markdown",
      "id": "257aeda2-31b4-41e1-9f87-37569389a150",
      "metadata": {},
      "outputs": [],
      "source": [
        "Drop price data in dataframe **x_data**:\n"
      ]
    },
    {
      "cell_type": "code",
      "id": "366c561c-27ff-4bcf-9d9f-6c56306fb83e",
      "metadata": {},
      "outputs": [],
      "source": [
        "x_data=df.drop('price BTC',axis=1)"
      ]
    },
    {
      "cell_type": "markdown",
      "id": "dcf6e16a-5f57-4e86-a0a6-1a383832fe77",
      "metadata": {},
      "outputs": [],
      "source": [
        "Now, we randomly split our data into training and testing data using the function <b>train_test_split</b>.\n"
      ]
    },
    {
      "cell_type": "code",
      "id": "abfa67d6-c7c8-400e-9030-fdc6fb902ff5",
      "metadata": {},
      "outputs": [],
      "source": [
        "x_train, x_test, y_train, y_test = train_test_split(x_data, y_data, test_size=0.10, shuffle = False)\n\n\nprint(\"number of test samples :\", x_test.shape[0])\nprint(\"number of training samples:\",x_train.shape[0])\n"
      ]
    },
    {
      "cell_type": "markdown",
      "id": "caf705e0-a183-499f-9d51-161c665e2f0f",
      "metadata": {},
      "outputs": [],
      "source": [
        "The <b>test_size</b> parameter sets the proportion of data that is split into the testing set. In the above, the testing set is 10% of the total dataset.\n"
      ]
    },
    {
      "cell_type": "markdown",
      "id": "caba85e4-515e-43f5-90e1-daf24ffbd440",
      "metadata": {},
      "outputs": [],
      "source": [
        "<div class=\"alert alert-danger alertdanger\" style=\"margin-top: 20px\">\n<h1> Question  #1):</h1>\n\n<b>Use the function \"train_test_split\" to split up the dataset such that 40% of the data samples will be utilized for testing. Set the parameter \"random_state\" equal to zero. The output of the function should be the following:  \"x_train1\" , \"x_test1\", \"y_train1\" and  \"y_test1\".</b>\n\n</div>\n"
      ]
    },
    {
      "cell_type": "code",
      "id": "ccd75afe-d93c-4593-b4ea-99048bd53019",
      "metadata": {},
      "outputs": [],
      "source": [
        "# Write your code below and press Shift+Enter to execute \nx_train1, x_test1, y_train1, y_test1 = train_test_split(x_data, y_data, test_size=0.4, shuffle = False) \nprint(\"number of test samples :\", x_test1.shape[0])\nprint(\"number of training samples:\",x_train1.shape[0])"
      ]
    },
    {
      "cell_type": "markdown",
      "id": "1d46243a-3577-4c65-b286-c50e24c53ab1",
      "metadata": {},
      "outputs": [],
      "source": [
        "<details><summary>Click here for the solution</summary>\n\n```python\nx_train1, x_test1, y_train1, y_test1 = train_test_split(x_data, y_data, test_size=0.4, shuffle = False) \nprint(\"number of test samples :\", x_test1.shape[0])\nprint(\"number of training samples:\",x_train1.shape[0])\n```\n\n</details>\n"
      ]
    },
    {
      "cell_type": "markdown",
      "id": "c39c6218-2385-49d3-a72d-7fffeef6f18f",
      "metadata": {},
      "outputs": [],
      "source": [
        "We create a Linear Regression object:\n"
      ]
    },
    {
      "cell_type": "code",
      "id": "f57c0149-040e-445d-9e4c-dce288f796e3",
      "metadata": {},
      "outputs": [],
      "source": [
        "lre=LinearRegression()"
      ]
    },
    {
      "cell_type": "markdown",
      "id": "181500ec-ccc6-4c18-9ec0-e9bcd0739ae5",
      "metadata": {},
      "outputs": [],
      "source": [
        "We fit the model using the feature \"Saldo\":\n"
      ]
    },
    {
      "cell_type": "code",
      "id": "79a034e9-47a2-4d40-8117-1347a8f0d270",
      "metadata": {},
      "outputs": [],
      "source": [
        "lre.fit(x_train[['Saldo']], y_train)"
      ]
    },
    {
      "cell_type": "markdown",
      "id": "d18f9fb8-c2a9-455e-a547-e5dbd01b7519",
      "metadata": {},
      "outputs": [],
      "source": [
        "Let's calculate the $R^2$ on the test data:\n"
      ]
    },
    {
      "cell_type": "markdown",
      "id": "27ff4942-c389-4a61-a5b8-959d3261fb36",
      "metadata": {},
      "outputs": [],
      "source": [
        "<div class=\"alert alert-danger alertdanger\" style=\"margin-top: 20px\">\nСтавте 2 знаки після коми\n\nВсюди по тексту лабораторну роботу\n</div>\n"
      ]
    },
    {
      "cell_type": "code",
      "id": "bc2e2cbf-ac8b-450a-b56b-3fcc4ee82c61",
      "metadata": {},
      "outputs": [],
      "source": [
        "lre.score(x_test[['Saldo']], y_test)\nprint(\"{:.3f}\".format(lre.score(x_test[['Saldo']], y_test)))"
      ]
    },
    {
      "cell_type": "markdown",
      "id": "7e2d32d4-65b4-4a5a-87c3-217b56bcada6",
      "metadata": {},
      "outputs": [],
      "source": [
        "We can see the $R^2$ is much smaller using the test data compared to the training data.\n"
      ]
    },
    {
      "cell_type": "code",
      "id": "a44446ff-ce23-4ef4-b7ff-6e5658f7dfa7",
      "metadata": {},
      "outputs": [],
      "source": [
        "lre.score(x_train[['Saldo']], y_train)\nprint(\"{:.3f}\".format(lre.score(x_train[['Saldo']], y_train)))"
      ]
    },
    {
      "cell_type": "markdown",
      "id": "f75e7429-aca4-4d2f-944d-1d376a3b0d72",
      "metadata": {},
      "outputs": [],
      "source": [
        "<div class=\"alert alert-danger alertdanger\" style=\"margin-top: 20px\">\n<h1> Question  #2): </h1>\n<b> \nFind the $R^2$  on the test data using 40% of the dataset for testing.\n</b>\n</div>\n"
      ]
    },
    {
      "cell_type": "code",
      "id": "0fcd43b2-a31a-4a9b-9553-e9fd3fe64bcc",
      "metadata": {},
      "outputs": [],
      "source": [
        "# Write your code below and press Shift+Enter to execute \nx_train1, x_test1, y_train1, y_test1 = train_test_split(x_data, y_data, test_size=0.4, shuffle = False)\nlre.fit(x_train1[['Saldo']],y_train1)\nlre.score(x_test1[['Saldo']],y_test1)"
      ]
    },
    {
      "cell_type": "markdown",
      "id": "b44a0a8c-7333-406b-a32b-d086cb253e7b",
      "metadata": {},
      "outputs": [],
      "source": [
        "<details><summary>Click here for the solution</summary>\n\n```python\nx_train1, x_test1, y_train1, y_test1 = train_test_split(x_data, y_data, test_size=0.4, shuffle = False)\nlre.fit(x_train1[['Saldo']],y_train1)\nlre.score(x_test1[['Saldo']],y_test1)\n\n```\n\n</details>\n"
      ]
    },
    {
      "cell_type": "markdown",
      "id": "fd11b4f7-65fa-4ae0-9e4d-b87d3762687f",
      "metadata": {},
      "outputs": [],
      "source": [
        "Sometimes you do not have sufficient testing data; as a result, you may want to perform cross-validation. Let's go over several methods that you can use for cross-validation.\n"
      ]
    },
    {
      "cell_type": "markdown",
      "id": "2e3509cd-bf0e-4931-ab67-62d14250bfec",
      "metadata": {},
      "outputs": [],
      "source": [
        "<h2>Cross-Validation Score</h2>\n"
      ]
    },
    {
      "cell_type": "markdown",
      "id": "3bc86064-c0c0-40a7-94a5-353544362dee",
      "metadata": {},
      "outputs": [],
      "source": [
        "We input the object, the feature (\"Saldo\"), and the target data (y_data). The parameter 'cv' determines the number of folds. In this case, it is 4.\n"
      ]
    },
    {
      "cell_type": "code",
      "id": "318ac711-c85d-4918-b136-4b1bc4fdb870",
      "metadata": {},
      "outputs": [],
      "source": [
        "Rcross = cross_val_score(lre, x_data[['Saldo']], y_data, cv=4)"
      ]
    },
    {
      "cell_type": "markdown",
      "id": "29fac1e3-5de9-44d2-b8bf-1b9ca2f24342",
      "metadata": {},
      "outputs": [],
      "source": [
        "The default scoring is $R^2$. Each element in the array has the average $R^2$ value for the fold:\n"
      ]
    },
    {
      "cell_type": "markdown",
      "id": "ad98f37f-b7f8-423c-aaea-1579c853ff21",
      "metadata": {},
      "outputs": [],
      "source": [
        "We can calculate the average and standard deviation of our estimate:\n"
      ]
    },
    {
      "cell_type": "code",
      "id": "e5541de4-1efe-4b9e-931c-40cb6801930b",
      "metadata": {},
      "outputs": [],
      "source": [
        "print(\"The mean of the folds are {:.2f} and the standard deviation is {:.2f}\".format(Rcross.mean(), Rcross.std()))"
      ]
    },
    {
      "cell_type": "markdown",
      "id": "bcee6cda-a21d-4913-ab1f-29de78667a5a",
      "metadata": {},
      "outputs": [],
      "source": [
        "We can use negative squared error as a score by setting the parameter  'scoring' metric to 'neg_mean_squared_error'.\n"
      ]
    },
    {
      "cell_type": "code",
      "id": "c6093317-ca2a-45e8-91c1-cae9cbf1d3e4",
      "metadata": {},
      "outputs": [],
      "source": [
        "print(\"Cross-validation scores: {:.2f}, {:.2f}\".format(*(-1 * cross_val_score(lre,x_data[['Saldo']], y_data,cv=4,scoring='neg_mean_squared_error'))))\n"
      ]
    },
    {
      "cell_type": "markdown",
      "id": "cf98a6df-af2d-44df-a0c0-135f5602155f",
      "metadata": {},
      "outputs": [],
      "source": [
        "<div class=\"alert alert-danger alertdanger\" style=\"margin-top: 20px\">\n<h1> Question  #3): </h1>\n<b> \nCalculate the average $R^2$ using two folds, then find the average $R^2$ for the second fold utilizing the \"Saldo\" feature: \n</b>\n</div>\n"
      ]
    },
    {
      "cell_type": "code",
      "id": "e53a1769-2f1e-4b6b-a52e-13c2ba941880",
      "metadata": {},
      "outputs": [],
      "source": [
        "# Write your code below and press Shift+Enter to execute \nRc=cross_val_score(lre,x_data[['Saldo']], y_data,cv=2)\nprint(\"Mean of Rc: {:.2f}\".format(Rc.mean()))"
      ]
    },
    {
      "cell_type": "markdown",
      "id": "2e7f48e4-2f45-4a7a-a50c-1cda00b53658",
      "metadata": {},
      "outputs": [],
      "source": [
        "<details><summary>Click here for the solution</summary>\n\n```python\nRc=cross_val_score(lre,x_data[['Saldo']], y_data,cv=2)\nRc.mean()\n\n```\n\n</details>\n"
      ]
    },
    {
      "cell_type": "markdown",
      "id": "4dc9a1f0-e7a6-4e6e-94cf-13d719700232",
      "metadata": {},
      "outputs": [],
      "source": [
        "You can also use the function 'cross_val_predict' to predict the output. The function splits up the data into the specified number of folds, with one fold for testing and the other folds are used for training. First, import the function:\n"
      ]
    },
    {
      "cell_type": "markdown",
      "id": "259df6b7-07a4-45ba-be23-6e53d3926408",
      "metadata": {},
      "outputs": [],
      "source": [
        "We input the object, the feature <b>\"Saldo\"</b>, and the target data <b>y_data</b>. The parameter 'cv' determines the number of folds. In this case, it is 4. We can produce an output:\n"
      ]
    },
    {
      "cell_type": "code",
      "id": "08ae32d0-5525-479f-895f-6b0c8b6bf51e",
      "metadata": {},
      "outputs": [],
      "source": [
        "yhat = cross_val_predict(lre,x_data[['Saldo']], y_data,cv=4)\nprint(\"yhat values (first 5): {:.2f}, {:.2f}, {:.2f}, {:.2f}, {:.2f}\".format(*yhat[0:5]))"
      ]
    },
    {
      "cell_type": "markdown",
      "id": "95db8af8-56ef-4e98-b943-c9266cdc0ca6",
      "metadata": {},
      "outputs": [],
      "source": [
        "<h2 id=\"ref2\">Part 2: Overfitting, Underfitting and Model Selection</h2>\n\n<p>It turns out that the test data, sometimes referred to as the \"out of sample data\", is a much better measure of how well your model performs in the real world.  One reason for this is overfitting.\n\nLet's go over some examples. It turns out these differences are more apparent in Multiple Linear Regression and Polynomial Regression so we will explore overfitting in that context.</p>\n"
      ]
    },
    {
      "cell_type": "code",
      "id": "77b59b3a-2113-4da4-bbff-16662b2cd924",
      "metadata": {},
      "outputs": [],
      "source": [
        "lr = LinearRegression()\nlr.fit(x_train[['Saldo', 'size BID', 'size BTC', 'size ASK']], y_train)"
      ]
    },
    {
      "cell_type": "markdown",
      "id": "fc64c83a-6bb7-450f-9d21-b85fed1d38f8",
      "metadata": {},
      "outputs": [],
      "source": [
        "Prediction using training data:\n"
      ]
    },
    {
      "cell_type": "code",
      "id": "761d49f6-8d16-4f13-b2b7-4a1454ac02ce",
      "metadata": {},
      "outputs": [],
      "source": [
        "yhat_train = lr.predict(x_train[['Saldo', 'size BID', 'size BTC', 'size ASK']])\nprint(\"yhat_train values (first 5): {:.2f}, {:.2f}, {:.2f}, {:.2f}, {:.2f}\".format(*yhat_train[0:5]))"
      ]
    },
    {
      "cell_type": "markdown",
      "id": "531cd8e5-d03d-48c5-8c65-df4f84c25c87",
      "metadata": {},
      "outputs": [],
      "source": [
        "Prediction using test data:\n"
      ]
    },
    {
      "cell_type": "code",
      "id": "f94e28e4-6bbd-4da3-949c-183778806234",
      "metadata": {},
      "outputs": [],
      "source": [
        "yhat_test = lr.predict(x_test[['Saldo', 'size BID', 'size BTC', 'size ASK']])\nprint(\"yhat_test values (first 5): {:.2f}, {:.2f}, {:.2f}, {:.2f}, {:.2f}\".format(*yhat_test[0:5]))"
      ]
    },
    {
      "cell_type": "code",
      "id": "1125973b-e6b0-49f4-8e95-574895e84000",
      "metadata": {},
      "outputs": [],
      "source": [
        "Title = 'Distribution  Plot of  Predicted Value Using Training Data vs Training Data Distribution'\nDistributionPlot(y_train, yhat_train, \"Actual Values (Train)\", \"Predicted Values (Train)\", Title)"
      ]
    },
    {
      "cell_type": "markdown",
      "id": "308d59be-b8db-4191-8fd0-7212fd0493bc",
      "metadata": {},
      "outputs": [],
      "source": [
        "Figure 1: Plot of predicted values using the training data compared to the actual values of the training data.\n"
      ]
    },
    {
      "cell_type": "markdown",
      "id": "e3a8916e-ecff-46b2-9bed-db50b52bafab",
      "metadata": {},
      "outputs": [],
      "source": [
        "So far, the model seems to be doing well in learning from the training dataset. But what happens when the model encounters new data from the testing dataset? When the model generates new values from the test data, we see the distribution of the predicted values is much different from the actual target values.\n"
      ]
    },
    {
      "cell_type": "code",
      "id": "f1aef1d8-661f-44c6-bf58-d30a547862c3",
      "metadata": {},
      "outputs": [],
      "source": [
        "Title='Distribution  Plot of  Predicted Value Using Test Data vs Data Distribution of Test Data'\nDistributionPlot(y_test,yhat_test,\"Actual Values (Test)\",\"Predicted Values (Test)\",Title)"
      ]
    },
    {
      "cell_type": "markdown",
      "id": "9347a98c-3422-4e6a-b540-5a54eeeecdf2",
      "metadata": {},
      "outputs": [],
      "source": [
        "Figure 2: Plot of predicted value using the test data compared to the actual values of the test data.\n"
      ]
    },
    {
      "cell_type": "markdown",
      "id": "bde16fb6-053b-435a-b9f3-3c657fe544e2",
      "metadata": {},
      "outputs": [],
      "source": [
        "<h4>Overfitting</h4>\n<p>Overfitting occurs when the model fits the noise, but not the underlying process. Therefore, when testing your model using the test set, your model does not perform as well since it is modelling noise, not the underlying process that generated the relationship. Let's create a degree 5 polynomial model.</p>\n"
      ]
    },
    {
      "cell_type": "markdown",
      "id": "6771c952-61e7-490e-8e1a-a2616fbba17a",
      "metadata": {},
      "outputs": [],
      "source": [
        "Let's use 55 percent of the data for training and the rest for testing:\n"
      ]
    },
    {
      "cell_type": "code",
      "id": "8bfacf5b-fbcb-4ca3-addc-4c8ba24dda70",
      "metadata": {},
      "outputs": [],
      "source": [
        "x_train, x_test, y_train, y_test = train_test_split(x_data, y_data, test_size=0.45, shuffle = False)"
      ]
    },
    {
      "cell_type": "markdown",
      "id": "7ba16ab4-0516-4e19-91c4-7d7c2d5cce5f",
      "metadata": {},
      "outputs": [],
      "source": [
        "We will perform a degree 5 polynomial transformation on the feature <b>'Saldo'</b>.\n"
      ]
    },
    {
      "cell_type": "code",
      "id": "381d0181-b8f6-45c6-95d2-7701814f1363",
      "metadata": {},
      "outputs": [],
      "source": [
        "pr = PolynomialFeatures(degree=5)\nx_train_pr = pr.fit_transform(x_train[['Saldo']])\nx_test_pr = pr.fit_transform(x_test[['Saldo']])\npr"
      ]
    },
    {
      "cell_type": "markdown",
      "id": "f5d9f8d0-d51a-4fee-a19a-c39119edc651",
      "metadata": {},
      "outputs": [],
      "source": [
        "Now, let's create a Linear Regression model \"poly\" and train it.\n"
      ]
    },
    {
      "cell_type": "code",
      "id": "d5ed9a87-057f-455d-84cd-dabdfa1efda2",
      "metadata": {},
      "outputs": [],
      "source": [
        "poly = LinearRegression()\npoly.fit(x_train_pr, y_train)"
      ]
    },
    {
      "cell_type": "markdown",
      "id": "fa111924-af49-4cf9-aa89-ed70c33cb83f",
      "metadata": {},
      "outputs": [],
      "source": [
        "We can see the output of our model using the method \"predict.\" We assign the values to \"yhat\".\n"
      ]
    },
    {
      "cell_type": "code",
      "id": "bf19c206-ccca-4e45-a250-ed40a3d4a30d",
      "metadata": {},
      "outputs": [],
      "source": [
        "yhat = poly.predict(x_test_pr)\nprint(\"yhat values (first 5): {:.2f}, {:.2f}, {:.2f}, {:.2f}, {:.2f}\".format(*yhat[0:5]))"
      ]
    },
    {
      "cell_type": "markdown",
      "id": "61263686-1f16-4bb5-b2cd-6efb15aca165",
      "metadata": {},
      "outputs": [],
      "source": [
        "Let's take the first five predicted values and compare it to the actual targets.\n"
      ]
    },
    {
      "cell_type": "code",
      "id": "15bf0af4-3ce0-4419-842f-4b356389b55e",
      "metadata": {},
      "outputs": [],
      "source": [
        "print(\"Predicted values: {:.2f}, {:.2f}, {:.2f}, {:.2f}\".format(*yhat[0:4]))\nprint(\"True values: {:.2f}, {:.2f}, {:.2f}, {:.2f}\".format(*y_test[0:4].values))"
      ]
    },
    {
      "cell_type": "markdown",
      "id": "84f9774c-e66f-40ae-a0ab-8803654b0056",
      "metadata": {},
      "outputs": [],
      "source": [
        "We will use the function \"PollyPlot\" that we defined at the beginning of the lab to display the training data, testing data, and the predicted function.\n"
      ]
    },
    {
      "cell_type": "code",
      "id": "4d8fbb6d-4057-472f-9e19-263c55cc5f3f",
      "metadata": {},
      "outputs": [],
      "source": [
        "PollyPlot(x_train[['Saldo']], x_test[['Saldo']], y_train, y_test, poly,pr)"
      ]
    },
    {
      "cell_type": "markdown",
      "id": "25bd8a10-a92e-455b-820f-66a244aed58c",
      "metadata": {},
      "outputs": [],
      "source": [
        "Figure 3: A polynomial regression model where red dots represent training data, green dots represent test data, and the blue line represents the model prediction.\n"
      ]
    },
    {
      "cell_type": "markdown",
      "id": "78875711-902a-478c-821d-b129829849c2",
      "metadata": {},
      "outputs": [],
      "source": [
        "$R^2$ of the training data:\n"
      ]
    },
    {
      "cell_type": "code",
      "id": "94dbca23-e659-4782-99e1-789e3481c2a4",
      "metadata": {},
      "outputs": [],
      "source": [
        "poly.score(x_train_pr, y_train)\nprint(\"{:.2f}\".format(poly.score(x_train_pr, y_train)))"
      ]
    },
    {
      "cell_type": "markdown",
      "id": "0e4301f9-0eb5-442d-822e-31643fff466a",
      "metadata": {},
      "outputs": [],
      "source": [
        "$R^2$ of the test data:\n"
      ]
    },
    {
      "cell_type": "code",
      "id": "b42690f7-e25c-4c09-a001-0c62eb1b95a7",
      "metadata": {},
      "outputs": [],
      "source": [
        "poly.score(x_test_pr, y_test)\nprint(\"{:.2f}\".format(poly.score(x_test_pr, y_test)))"
      ]
    },
    {
      "cell_type": "markdown",
      "id": "b9c5b3d7-a1c5-4b30-aa50-4d1d7e285f9f",
      "metadata": {},
      "outputs": [],
      "source": [
        "We see the $R^2$ for the training data is 0.21 while the $R^2$ on the test data was -5.29.  The lower the $R^2$, the worse the model. A negative $R^2$ is a sign of overfitting.\n"
      ]
    },
    {
      "cell_type": "markdown",
      "id": "131e475b-1b49-43a7-a081-e7bb074271a9",
      "metadata": {},
      "outputs": [],
      "source": [
        "Let's see how the $R^2$ changes on the test data for different order polynomials and then plot the results:\n"
      ]
    },
    {
      "cell_type": "code",
      "id": "14043bec-d33c-43ab-9271-a2c26c0aa17c",
      "metadata": {},
      "outputs": [],
      "source": [
        "Rsqu_test = []\n\norder = [1, 2, 3, 4]\nfor n in order:\n    pr = PolynomialFeatures(degree=n)\n    \n    x_train_pr = pr.fit_transform(x_train[['Saldo']])\n    \n    x_test_pr = pr.fit_transform(x_test[['Saldo']])    \n    \n    lr.fit(x_train_pr, y_train)\n    \n    Rsqu_test.append(lr.score(x_test_pr, y_test))\n\nplt.plot(order, Rsqu_test)\nplt.xlabel('order')\nplt.ylabel('R^2')\nplt.title('R^2 Using Test Data')\nplt.text(3, 0.75, 'Maximum R^2 ')    "
      ]
    },
    {
      "cell_type": "markdown",
      "id": "4d0931a6-0d51-41e2-8b83-810a678d7d39",
      "metadata": {},
      "outputs": [],
      "source": [
        "We see the $R^2$ gradually increases until an order three polynomial is used. Then, the $R^2$ dramatically decreases at an order four polynomial.\n"
      ]
    },
    {
      "cell_type": "markdown",
      "id": "459ac1b0-d0c2-40b0-a868-ee9177f062fa",
      "metadata": {},
      "outputs": [],
      "source": [
        "The following function will be used in the next section. Please run the cell below.\n"
      ]
    },
    {
      "cell_type": "code",
      "id": "1dd8139f-04df-46e0-9cf3-adb257dcccba",
      "metadata": {},
      "outputs": [],
      "source": [
        "# Generate some sample data\nx = np.linspace(0, 10, 100)\ny = np.sin(x) + np.random.normal(0, 0.1, size=len(x))\n\n# Split data into training and test sets\nx_train, x_test, y_train, y_test = train_test_split(x, y, test_size=0.2)\n\n# Create polynomial features for training and test sets\npoly = PolynomialFeatures(degree=2)\nX_train_poly = poly.fit_transform(x_train.reshape(-1, 1))\nX_test_poly = poly.transform(x_test.reshape(-1, 1))\n\n# Fit linear regression model to training data\nlin_reg = LinearRegression()\nlin_reg.fit(X_train_poly, y_train)\n\n# Predict on test data and calculate R^2 score\ny_pred = lin_reg.predict(X_test_poly)\nr2_score = lin_reg.score(X_test_poly, y_test)\n\n# Plot the test data and polynomial fit\nplt.scatter(x_test, y_test)\nplt.scatter(x_test, y_pred, color='red')\nplt.title(f\"Polynomial Regression (degree=2)\\nTest $R^2$ score: {r2_score:.2f}\")\nplt.show()\n"
      ]
    },
    {
      "cell_type": "code",
      "id": "eb11a6fa-c6b2-42f8-a59d-ab681475341e",
      "metadata": {},
      "outputs": [],
      "source": [
        "def f(order, test_data):\n    x_train, x_test, y_train, y_test = train_test_split(x, y, test_size=0.2)\n    # Create polynomial features for training and test sets\n    poly = PolynomialFeatures(degree=order)\n    X_train_poly = poly.fit_transform(x_train.reshape(-1, 1))\n    X_test_poly = poly.transform(x_test.reshape(-1, 1))\n\n    # Fit linear regression model to training data\n    lin_reg = LinearRegression()\n    lin_reg.fit(X_train_poly, y_train)\n\n    # Predict on test data and calculate R^2 score\n    y_pred = lin_reg.predict(X_test_poly)\n    r2_score = lin_reg.score(X_test_poly, y_test)\n\n    # Plot the test data and polynomial fit\n    plt.scatter(x_test, y_test)\n    plt.scatter(x_test, y_pred, color='red')\n    plt.title(f\"Polynomial Regression (degree=2)\\nTest $R^2$ score: {r2_score:.2f}\")\n    plt.show()\n"
      ]
    },
    {
      "cell_type": "markdown",
      "id": "e857be9b-e2d1-490f-9442-fe42d7191143",
      "metadata": {},
      "outputs": [],
      "source": [
        "The following interface allows you to experiment with different polynomial orders and different amounts of data.\n"
      ]
    },
    {
      "cell_type": "code",
      "id": "da414f15-fe3a-47e8-9edb-efa71eb92762",
      "metadata": {},
      "outputs": [],
      "source": [
        "interact(f, order=(0, 6, 1), test_data=(0.05, 0.95, 0.05))"
      ]
    },
    {
      "cell_type": "markdown",
      "id": "77cc6606-5fd4-422e-ad5c-39018d2fe8fe",
      "metadata": {},
      "outputs": [],
      "source": [
        "<div class=\"alert alert-danger alertdanger\" style=\"margin-top: 20px\">\n<h1> Question  #4a):</h1>\n\n<b>We can perform polynomial transformations with more than one feature. Create a \"PolynomialFeatures\" object \"pr1\" of degree two.</b>\n\n</div>\n"
      ]
    },
    {
      "cell_type": "code",
      "id": "da299787-d3a8-4bf2-a987-9daef06d8308",
      "metadata": {},
      "outputs": [],
      "source": [
        "# Write your code below and press Shift+Enter to execute \npr1=PolynomialFeatures(degree=2)\n"
      ]
    },
    {
      "cell_type": "markdown",
      "id": "e6e135c3-368d-4f2a-a5d2-b5375ff15daf",
      "metadata": {},
      "outputs": [],
      "source": [
        "<details><summary>Click here for the solution</summary>\n\n```python\npr1=PolynomialFeatures(degree=2)\n\n```\n\n</details>\n"
      ]
    },
    {
      "cell_type": "markdown",
      "id": "95a1167c-cbfd-4c1b-9313-205d5a726f68",
      "metadata": {},
      "outputs": [],
      "source": [
        "<div class=\"alert alert-danger alertdanger\" style=\"margin-top: 20px\">\n<h1> Question  #4b): </h1>\n\n<b> \n Transform the training and testing samples for the features 'Saldo', 'size BID', 'size BTC', 'size ASK'. Hint: use the method \"fit_transform\".</b>\n</div>\n"
      ]
    },
    {
      "cell_type": "code",
      "id": "b81d5bc4-47c7-441c-bb80-5a06c409af41",
      "metadata": {},
      "outputs": [],
      "source": [
        "# Write your code below and press Shift+Enter to execute \nx_train, x_test, y_train, y_test = train_test_split(x_data, y_data, test_size=0.2, shuffle = False)\n\nx_train_pr1=pr1.fit_transform(x_train[['Saldo', 'size BID', 'size BTC', 'size ASK']])\n\nx_test_pr1=pr1.fit_transform(x_test[['Saldo', 'size BID', 'size BTC', 'size ASK']])"
      ]
    },
    {
      "cell_type": "markdown",
      "id": "1e7c472c-92af-42ab-b43b-aad6e769b054",
      "metadata": {},
      "outputs": [],
      "source": [
        "<details><summary>Click here for the solution</summary>\n\n```python\nx_train, x_test, y_train, y_test = train_test_split(x_data, y_data, test_size=0.2, shuffle = False)\n\nx_train_pr1=pr1.fit_transform(x_train[['Saldo', 'size BID', 'size BTC', 'size ASK']])\n\nx_test_pr1=pr1.fit_transform(x_test[['Saldo', 'size BID', 'size BTC', 'size ASK']])\n\n\n```\n\n</details>\n"
      ]
    },
    {
      "cell_type": "markdown",
      "id": "96ff6c50-df56-47f1-a565-2e83e3baef28",
      "metadata": {},
      "outputs": [],
      "source": [
        "<!-- The answer is below:\n\nx_train_pr1=pr.fit_transform(x_train[['horsepower', 'curb-weight', 'engine-size', 'highway-mpg']])\nx_test_pr1=pr.fit_transform(x_test[['horsepower', 'curb-weight', 'engine-size', 'highway-mpg']])\n\n-->\n"
      ]
    },
    {
      "cell_type": "markdown",
      "id": "013a6b4f-ef75-468e-b789-53a804ec1203",
      "metadata": {},
      "outputs": [],
      "source": [
        "<div class=\"alert alert-danger alertdanger\" style=\"margin-top: 20px\">\n<h1> Question  #4c): </h1>\n<b> \nHow many dimensions does the new feature have? Hint: use the attribute \"shape\".\n</b>\n</div>\n"
      ]
    },
    {
      "cell_type": "code",
      "id": "676a4f6a-686a-438d-84e7-fa7730345470",
      "metadata": {},
      "outputs": [],
      "source": [
        "# Write your code below and press Shift+Enter to execute \nx_train_pr1.shape"
      ]
    },
    {
      "cell_type": "markdown",
      "id": "7b66c1c5-67a9-4d92-b536-918b9e914f94",
      "metadata": {},
      "outputs": [],
      "source": [
        "<details><summary>Click here for the solution</summary>\n\n```python\nx_train_pr1.shape #there are now 15 features\n\n\n```\n\n</details>\n"
      ]
    },
    {
      "cell_type": "markdown",
      "id": "68704978-9905-4915-9ed7-b09533a0c164",
      "metadata": {},
      "outputs": [],
      "source": [
        "<div class=\"alert alert-danger alertdanger\" style=\"margin-top: 20px\">\n<h1> Question  #4d): </h1>\n\n<b> \nCreate a linear regression model \"poly1\". Train the object using the method \"fit\" using the polynomial features.</b>\n</div>\n"
      ]
    },
    {
      "cell_type": "code",
      "id": "aca80349-c543-45be-802e-3e9bf7f5c18f",
      "metadata": {},
      "outputs": [],
      "source": [
        "# Write your code below and press Shift+Enter to execute \npoly1=LinearRegression().fit(x_train_pr1,y_train)"
      ]
    },
    {
      "cell_type": "markdown",
      "id": "d9c5455a-1f0d-4c5c-8baa-2224cd002a47",
      "metadata": {},
      "outputs": [],
      "source": [
        "<details><summary>Click here for the solution</summary>\n\n```python\npoly1=LinearRegression().fit(x_train_pr1,y_train)\n\n\n```\n\n</details>\n"
      ]
    },
    {
      "cell_type": "markdown",
      "id": "8b3c9b8a-0b9b-4c7d-b0a0-e6e6593b485f",
      "metadata": {},
      "outputs": [],
      "source": [
        " <div class=\"alert alert-danger alertdanger\" style=\"margin-top: 20px\">\n<h1> Question  #4e): </h1>\n<b>Use the method  \"predict\" to predict an output on the polynomial features, then use the function \"DistributionPlot\" to display the distribution of the predicted test output vs. the actual test data.</b>\n</div>\n"
      ]
    },
    {
      "cell_type": "code",
      "id": "eba59d4a-1d69-452c-b30a-3885a30f42e0",
      "metadata": {},
      "outputs": [],
      "source": [
        "# Write your code below and press Shift+Enter to execute \nyhat_test1=poly1.predict(x_test_pr1)\n\nTitle='Distribution  Plot of  Predicted Value Using Test Data vs Data Distribution of Test Data'\n\nDistributionPlot(y_test, yhat_test1, \"Actual Values (Test)\", \"Predicted Values (Test)\", Title)"
      ]
    },
    {
      "cell_type": "markdown",
      "id": "839bf01b-9bde-472e-8b5e-923112e66358",
      "metadata": {},
      "outputs": [],
      "source": [
        "<details><summary>Click here for the solution</summary>\n\n```python\nyhat_test1=poly1.predict(x_test_pr1)\n\nTitle='Distribution  Plot of  Predicted Value Using Test Data vs Data Distribution of Test Data'\n\nDistributionPlot(y_test, yhat_test1, \"Actual Values (Test)\", \"Predicted Values (Test)\", Title)\n\n```\n\n</details>\n"
      ]
    },
    {
      "cell_type": "markdown",
      "id": "fc9370b5-2387-4332-97a7-5f18a22bf940",
      "metadata": {},
      "outputs": [],
      "source": [
        "<div class=\"alert alert-danger alertdanger\" style=\"margin-top: 20px\">\n<h1> Question  #4f): </h1>\n\n<b>Using the distribution plot above, describe (in words) the two regions where the predicted prices are less accurate than the actual prices.</b>\n\n</div>\n"
      ]
    },
    {
      "cell_type": "code",
      "id": "63a1f49f-30f6-4a41-b402-5b3c9b43ce78",
      "metadata": {},
      "outputs": [],
      "source": [
        "# Write your code below and press Shift+Enter to execute \nprint(\"predicted values: {}\".format([\"{:.2f}\".format(val) for val in yhat[0:4]]))\nprint(\"True values: {}\".format([\"{:.2f}\".format(val) for val in y_test[0:4].values]))"
      ]
    },
    {
      "cell_type": "markdown",
      "id": "10fc0bd0-8778-4081-8234-9319d8aa7b54",
      "metadata": {},
      "outputs": [],
      "source": [
        "<details><summary>Click here for the solution</summary>\n\n```python\nprint(\"predicted values: {}\".format([\"{:.2f}\".format(val) for val in yhat[0:4]]))\nprint(\"True values: {}\".format([\"{:.2f}\".format(val) for val in y_test[0:4].values]))\n\n```\n\n</details>\n"
      ]
    },
    {
      "cell_type": "markdown",
      "id": "ce4820b5-362d-4fde-9c8a-13f586aa13e9",
      "metadata": {},
      "outputs": [],
      "source": [
        "<h2 id=\"ref3\">Part 3: Ridge Regression</h2> \n"
      ]
    },
    {
      "cell_type": "markdown",
      "id": "dbf6c0a8-1bc5-4593-a1a2-c6635b7fb5c0",
      "metadata": {},
      "outputs": [],
      "source": [
        "In this section, we will review Ridge Regression and see how the parameter alpha changes the model. Just a note, here our test data will be used as validation data.\n"
      ]
    },
    {
      "cell_type": "markdown",
      "id": "0d7e6a1c-954b-42ef-8f84-88c4244c1aa5",
      "metadata": {},
      "outputs": [],
      "source": [
        "Let's perform a degree two polynomial transformation on our data.\n"
      ]
    },
    {
      "cell_type": "code",
      "id": "a88b6052-3b64-4c23-83a1-42dfbbdf6a3e",
      "metadata": {},
      "outputs": [],
      "source": [
        "pr=PolynomialFeatures(degree=2)\nx_train_pr=pr.fit_transform(x_train[['Saldo', 'size BID', 'size BTC', 'size ASK','price ASK','price BID']])\nx_test_pr=pr.fit_transform(x_test[['Saldo', 'size BID', 'size BTC', 'size ASK','price ASK','price BID']])"
      ]
    },
    {
      "cell_type": "markdown",
      "id": "eb56b058-e45e-4d4e-9ce3-04b5d0bd60d4",
      "metadata": {},
      "outputs": [],
      "source": [
        "Let's create a Ridge regression object, setting the regularization parameter (alpha) to 0.1\n"
      ]
    },
    {
      "cell_type": "code",
      "id": "89c04af2-5095-41e7-9bc3-98c4d8ce81c1",
      "metadata": {},
      "outputs": [],
      "source": [
        "RigeModel=Ridge(alpha=1)"
      ]
    },
    {
      "cell_type": "markdown",
      "id": "f8f73102-8b91-432d-9687-07532b04de64",
      "metadata": {},
      "outputs": [],
      "source": [
        "Like regular regression, you can fit the model using the method <b>fit</b>.\n"
      ]
    },
    {
      "cell_type": "code",
      "id": "800fe140-e63b-40bc-aaa5-5456cb0604f8",
      "metadata": {},
      "outputs": [],
      "source": [
        "RigeModel.fit(x_train_pr, y_train)"
      ]
    },
    {
      "cell_type": "markdown",
      "id": "e1d98518-04e0-42c2-bfb8-9f2ebc46543b",
      "metadata": {},
      "outputs": [],
      "source": [
        "Similarly, you can obtain a prediction:\n"
      ]
    },
    {
      "cell_type": "code",
      "id": "ad7bc6c5-5573-4963-bfe4-ba5eec145574",
      "metadata": {},
      "outputs": [],
      "source": [
        "yhat = RigeModel.predict(x_test_pr)"
      ]
    },
    {
      "cell_type": "markdown",
      "id": "c5344c0e-bd7c-4fbe-9824-3db74a3b9d68",
      "metadata": {},
      "outputs": [],
      "source": [
        "Let's compare the first five predicted samples to our test set:\n"
      ]
    },
    {
      "cell_type": "code",
      "id": "f9e9f3e2-4994-4d5c-b335-9db20d8d5ce2",
      "metadata": {},
      "outputs": [],
      "source": [
        "print('predicted: {}'.format([format(x, '.2f') for x in yhat[0:4]]))\nprint('test set : {}'.format([format(x, '.2f') for x in y_test[0:4].values]))"
      ]
    },
    {
      "cell_type": "markdown",
      "id": "0dc8eb21-6a04-40fb-a8f9-12560fafdf5a",
      "metadata": {},
      "outputs": [],
      "source": [
        "We select the value of alpha that minimizes the test error. To do so, we can use a for loop. We have also created a progress bar to see how many iterations we have completed so far.\n"
      ]
    },
    {
      "cell_type": "markdown",
      "id": "f7575b36-0f0b-4a6e-a887-1829b1518847",
      "metadata": {},
      "outputs": [],
      "source": [
        "<div class=\"alert alert-danger alertdanger\" style=\"margin-top: 20px\">\nУ вас щось тут некоректно з відображенням pbar!!!\n    \nТакож проблеми з графіком нижче, що Щось ви на те розраховуєте\n</div>\n"
      ]
    },
    {
      "cell_type": "code",
      "id": "1eec09c9-9985-4b62-861a-69b6e0ba6066",
      "metadata": {},
      "outputs": [],
      "source": [
        "Rsqu_test = []\nRsqu_train = []\ndummy1 = []\nAlpha = 5 * np.array(range(0,1000))\npbar = tqdm(Alpha)\n\nfor alpha in pbar:\n    RigeModel = Ridge(alpha=alpha)\n    RigeModel.fit(x_train_pr, y_train)\n    test_score, train_score = RigeModel.score(x_test_pr, y_test), RigeModel.score(x_train_pr, y_train)\n    pbar.set_postfix({\"Test Score\": test_score, \"Train Score\": train_score})\n    Rsqu_test.append(test_score)\n    Rsqu_train.append(train_score)"
      ]
    },
    {
      "cell_type": "code",
      "id": "cffba107-f7c9-48b7-90ce-a36422c5c01e",
      "metadata": {},
      "outputs": [],
      "source": [
        "print(y_train)"
      ]
    },
    {
      "cell_type": "markdown",
      "id": "004713c1-8751-474a-894a-7c4cb6299b2a",
      "metadata": {},
      "outputs": [],
      "source": [
        "We can plot out the value of $R^2$ for different alphas:\n"
      ]
    },
    {
      "cell_type": "code",
      "id": "7cc0a4e0-5706-4655-9684-0251fb0be62f",
      "metadata": {},
      "outputs": [],
      "source": [
        "width = 12\nheight = 10\nplt.figure(figsize=(width, height))\n\nplt.plot(Alpha,Rsqu_test, label='validation data  ')\nplt.plot(Alpha,Rsqu_train, 'r', label='training Data ')\nplt.xlabel('alpha')\nplt.ylabel('$R^2$')\nplt.legend()"
      ]
    },
    {
      "cell_type": "markdown",
      "id": "9ceecee1-d837-4cc1-82f5-f4d838af55e0",
      "metadata": {},
      "outputs": [],
      "source": [
        "**Figure 4**: The blue line represents the $R^2$ of the validation data, and the red line represents the $R^2$ of the training data. The x-axis represents the different values of Alpha.\n"
      ]
    },
    {
      "cell_type": "markdown",
      "id": "98e92b18-d6da-41c2-8ae4-8f503d0bc8c9",
      "metadata": {},
      "outputs": [],
      "source": [
        "Here the model is built and tested on the same data, so the training and test data are the same.\n\nThe red line in Figure 4 represents the $R^2$ of the training data. As alpha increases the $R^2$ decreases. Therefore, as alpha increases, the model performs worse on the training data\n\nThe blue line represents the $R^2$ on the validation data. As the value for alpha increases, the $R^2$ increases and converges at a point.\n"
      ]
    },
    {
      "cell_type": "markdown",
      "id": "1c191dad-a2c4-49eb-8911-235f02909f04",
      "metadata": {},
      "outputs": [],
      "source": [
        "<div class=\"alert alert-danger alertdanger\" style=\"margin-top: 20px\">\n<h1> Question  #5): </h1>\n\nPerform Ridge regression. Calculate the $R^2$ using the polynomial features, use the training data to train the model and use the test data to test the model. The parameter alpha should be set to 10.\n\n</div>\n"
      ]
    },
    {
      "cell_type": "code",
      "id": "b2f153f9-03c3-43bf-9b97-b22164288d13",
      "metadata": {},
      "outputs": [],
      "source": [
        "# Write your code below and press Shift+Enter to execute \n"
      ]
    },
    {
      "cell_type": "markdown",
      "id": "756ceba8-6d5b-40de-ac08-4089d6bf97c8",
      "metadata": {},
      "outputs": [],
      "source": [
        "<details><summary>Click here for the solution</summary>\n\n```python\nRigeModel = Ridge(alpha=10) \nRigeModel.fit(x_train_pr, y_train)\nRigeModel.score(x_test_pr, y_test)\n\n```\n\n</details>\n"
      ]
    },
    {
      "cell_type": "markdown",
      "id": "9ef1455c-cbf9-486d-8b59-bb61cf62fce1",
      "metadata": {},
      "outputs": [],
      "source": [
        "<h2 id=\"ref4\">Part 4: Grid Search</h2>\n"
      ]
    },
    {
      "cell_type": "markdown",
      "id": "92936cd4-c289-43b5-a291-21244c838eb8",
      "metadata": {},
      "outputs": [],
      "source": [
        "The term alpha is a hyperparameter. Sklearn has the class <b>GridSearchCV</b> to make the process of finding the best hyperparameter simpler.\n"
      ]
    },
    {
      "cell_type": "markdown",
      "id": "b9b81549-8598-4525-9b1c-b21e6a750faa",
      "metadata": {},
      "outputs": [],
      "source": [
        "We create a dictionary of parameter values:\n"
      ]
    },
    {
      "cell_type": "code",
      "id": "48ad416a-1440-4dd9-b3ab-0d9de27e18e5",
      "metadata": {},
      "outputs": [],
      "source": [
        "parameters1= [{'alpha': [0.001,0.1,1, 10, 100, 1000, 10000, 100000, 100000]}]\nparameters1"
      ]
    },
    {
      "cell_type": "markdown",
      "id": "f5953089-542b-48c6-a2e0-0e08e74693de",
      "metadata": {},
      "outputs": [],
      "source": [
        "Create a Ridge regression object:\n"
      ]
    },
    {
      "cell_type": "code",
      "id": "ea041be3-c02f-4a18-b5de-f7406f08b098",
      "metadata": {},
      "outputs": [],
      "source": [
        "RR=Ridge()\nRR"
      ]
    },
    {
      "cell_type": "markdown",
      "id": "5e802548-d307-4c46-9534-6ecc49d816f5",
      "metadata": {},
      "outputs": [],
      "source": [
        "Create a ridge grid search object:\n"
      ]
    },
    {
      "cell_type": "code",
      "id": "b979cc14-741f-4765-ad72-2e7f9c4d9f77",
      "metadata": {},
      "outputs": [],
      "source": [
        "Grid1 = GridSearchCV(RR, parameters1,cv=4)"
      ]
    },
    {
      "cell_type": "markdown",
      "id": "a6f18b10-efea-4254-a06c-273907f204b5",
      "metadata": {},
      "outputs": [],
      "source": [
        "\nFit the model:\n"
      ]
    },
    {
      "cell_type": "code",
      "id": "89a863a3-a553-40c2-975f-b7fa73d26306",
      "metadata": {},
      "outputs": [],
      "source": [
        "Grid1.fit(x_data[['Saldo', 'size BID', 'size BTC', 'size ASK']], y_data)"
      ]
    },
    {
      "cell_type": "markdown",
      "id": "b777d229-b5fd-4bd0-8c43-56d89274e4d8",
      "metadata": {},
      "outputs": [],
      "source": [
        "The object finds the best parameter values on the validation data. We can obtain the estimator with the best parameters and assign it to the variable BestRR as follows:\n"
      ]
    },
    {
      "cell_type": "code",
      "id": "213883f1-482b-409f-9929-cc215f55692d",
      "metadata": {},
      "outputs": [],
      "source": [
        "BestRR=Grid1.best_estimator_\nBestRR"
      ]
    },
    {
      "cell_type": "markdown",
      "id": "b1439dee-b742-4b5f-975d-3c116a64529e",
      "metadata": {},
      "outputs": [],
      "source": [
        "We now test our model on the test data:\n"
      ]
    },
    {
      "cell_type": "code",
      "id": "b1b4c2c7-7495-4ee4-a8c6-cfa4d1589868",
      "metadata": {},
      "outputs": [],
      "source": [
        "print('Score: {:.2f}'.format(BestRR.score(x_test[['Saldo', 'size BID', 'size BTC', 'size ASK']], y_test)))"
      ]
    },
    {
      "cell_type": "markdown",
      "id": "850881a0-fef1-4330-8cc9-b628fb220817",
      "metadata": {},
      "outputs": [],
      "source": [
        "### Thank you for completing this lab!\n\n## Author\n\n<a href=\"https://author.skills.network/instructors/danyil_zhupnyk\">Danyil Zhupnyk</a><br>\n<a href=\"https://author.skills.network/instructors/yaroslav_vyklyuk_2\">Prof. Yaroslav Vyklyuk, DrSc, PhD</a><br>\n<a href=\"https://author.skills.network/instructors/mariya_fleychuk\">Prof. Mariya Fleychuk, DrSc, PhD</a><br>\n\n## Change Log\n\n| Date (YYYY-MM-DD) | Version | Changed By | Change Description                 |\n| ----------------- | ------- | ---------- | ---------------------------------- |\n| 2023-03-25        | 1.0     | D.Zhupnyk  | Created Lab                        |\n\n<hr>\n\n## <h3 align=\"center\"> © IBM Corporation 2023. All rights reserved. <h3/>\n"
      ]
    },
    {
      "cell_type": "code",
      "id": "59cd1f58-dea6-4236-ae8a-2716ec2c5a97",
      "metadata": {},
      "outputs": [],
      "source": [
        ""
      ]
    }
  ],
  "metadata": {
    "language_info": {
      "name": ""
    },
    "kernelspec": {
      "name": "",
      "display_name": ""
    }
  },
  "nbformat": 4,
  "nbformat_minor": 4
}