{
  "cells": [
    {
      "cell_type": "markdown",
      "id": "949daf3a-83c7-43d4-b488-1e5a44468e99",
      "metadata": {},
      "outputs": [],
      "source": [
        "<center>\n    <img src=\"https://cf-courses-data.s3.us.cloud-object-storage.appdomain.cloud/IBMSkillsNetwork-GPXX05JMEN/SN_web_lightmode.png?1679513184440\" width=\"300\" alt=\"cognitiveclass.ai logo\">\n</center>\n\n# Investigation of BTC/BUSD cryptocurrency using ADOSC, NATR, TRANGE indicators, and other cryptocurrencies.\n\n## Lab 6. Self Evaluation\n\nEstimated time needed: **30** minutes\n\n## Objectives\n\nAfter completing this lab you will be able to:\n\n*   Be confident about your data analysis skills\n\n\n<h3>Table of Contents</h3>\n\n<div class=\"alert alert-block alert-info\" style=\"margin-top: 20px\">\n<ol>\n    <li><u>Setup</u></li>\n    <li><u>Question to solve</u></li>\n</ol>\n</div>\n\n<hr>"
      ]
    },
    {
      "cell_type": "markdown",
      "id": "bef2922e-dd1e-4094-9e0b-ba2d542f75aa",
      "metadata": {},
      "outputs": [],
      "source": [
        "#### ***Dataset description***\n\nThe dataset used in this lab contains time-series data on various attributes related to Bitcoin (BTC) and other cryptocurrencies, aggregated at 1-minute intervals. The dataset index represents the time period for which the data is reported(1 minute). Also the dataset contains binned average prices of other cryptocurrencies. \n\n<hr>\n\n**Attributes:**\n\n* ***General:***\n    * `open` - the opening price of a **BTC** during a specific time period.\n    * `high` - the highest price of a **BTC** during a specific time period.\n    * `low` - the lowest price of a **BTC** during a specific time period.\n    * `close` - the closing price of a **BTC** during a specific time period.\n    * `rec_count` - the number of records or data points in the dataset for a given time period.\n    * `volume` - the total amount of trading activity (buying and selling) for a **BTC** during a specific time period.\n    * `avg_price` - the average price of a **BTC** during a specific time period.\n\n\n* ***Indicators***\n    * `ADOSC` - an indicator used in technical analysis to measure the momentum of buying and selling pressure for ***Bitcoin***.\n    * `NATR` - an indicator used in technical analysis to measure the volatility of ***Bitcoin***.\n    * `TRANGE` - an indicator used in technical analysis to measure the range of prices (from high to low) for ***Bitcoin*** during a specific time period.\n\n\n* ***Other cryptocurrencies:***\n    * `ape_avg_price` - the average price of ***APE*** during a specific time period.\n    * `bnb_avg_price` - the average price of ***BNB*** during a specific time period.\n    * `doge_avg_price` - the average price of ***DOGE coin*** during a specific time period.\n    * `eth_avg_price` - the average price of ***Ethereum*** during a specific time period.\n    * `xrp_avg_price` - the average price of ***XRP*** during a specific time period.\n    * `matic_avg_price` - the average price of ***MATIC*** during a specific time period.\n* ***Categorical:***\n    * `category` - binned ***average price for BTC(`avg_price`)*** to bins: `high`, `medium-high`, `medium`, `medium-low`, `low`.\n    * `ape_category` - binned `ape_avg_price` to bins: `high`, `medium-high`, `medium`, `medium-low`, `low`.\n    * `bnb_category` - binned `bnb_avg_price` to bins: `high`, `medium-high`, `medium`, `medium-low`, `low`.\n    * `doge_category` - binned `doge_avg_price` to bins: `high`, `medium-high`, `medium`, `medium-low`, `low`.\n    * `eth_category` - binned `eth_avg_price` to bins: `high`, `medium-high`, `medium`, `medium-low`, `low`.\n    * `xrp_category` - binned `xrp_avg_price` to bins: `high`, `medium-high`, `medium`, `medium-low`, `low`.\n    * `matic_category` - binned `matic_avg_price` to bins: `high`, `medium-high`, `medium`, `medium-low`, `low`.\n    \n<hr>\n\n*The indicators `ADOSC`, `NATR`, and `TRANGE` are used in technical analysis to provide insights into the momentum, volatility, and price ranges of financial instruments or assets. The other attributes represent the average prices of different cryptocurrencies during a specific time period.*\n\n<hr>"
      ]
    },
    {
      "cell_type": "markdown",
      "id": "99df9476-d4c6-42fb-a182-d50100055e98",
      "metadata": {},
      "outputs": [],
      "source": [
        "## Setup"
      ]
    },
    {
      "cell_type": "markdown",
      "id": "021e3b16-9df8-40f8-b4df-48c050bdb31d",
      "metadata": {},
      "outputs": [],
      "source": [
        "You will need the following libraries:\n"
      ]
    },
    {
      "cell_type": "code",
      "id": "e0644a88-f4b5-442a-b2b3-0410125e1d89",
      "metadata": {},
      "outputs": [],
      "source": [
        "!mamba install pandas -y\n!mamba install numpy -y\n!mamba install matplotlib -y\n!mamba install scipy -y\n!mamba install seaborn -y \n!mamba install statsmodels -y\n!mamba install scikit-learn -y \n!mamba install tqdm -y\n!mamba install -c conda-forge ta-lib -y"
      ]
    },
    {
      "cell_type": "code",
      "id": "90cd4869-7ccf-4ce8-accc-1be4355095d6",
      "metadata": {},
      "outputs": [],
      "source": [
        "import warnings\nwarnings.filterwarnings(\"ignore\", category=DeprecationWarning)\n\nimport talib\nimport pandas as pd\nimport numpy as np\nimport seaborn as sns\nimport matplotlib as mpl\nimport matplotlib.pyplot as plt\n\nfrom sklearn.linear_model import LinearRegression\nfrom sklearn.model_selection import train_test_split\nfrom sklearn.metrics import r2_score, mean_absolute_error, mean_squared_error\nfrom sklearn.pipeline import Pipeline\nfrom sklearn.preprocessing import StandardScaler,PolynomialFeatures\nfrom sklearn.linear_model import Ridge\nfrom sklearn.model_selection import GridSearchCV\n# add your own import's, if needed"
      ]
    },
    {
      "cell_type": "markdown",
      "id": "ddba1981-8a5b-4123-83c1-4dd2f05f9d73",
      "metadata": {},
      "outputs": [],
      "source": [
        "Initializing path to data"
      ]
    },
    {
      "cell_type": "code",
      "id": "55afb2ef-e894-4bc4-a651-53168ca4b0cb",
      "metadata": {},
      "outputs": [],
      "source": [
        "path = 'https://cf-courses-data.s3.us.cloud-object-storage.appdomain.cloud/IBMSkillsNetwork-GPXX05JMEN/BTCBUSD_1min_categories.csv'"
      ]
    },
    {
      "cell_type": "markdown",
      "id": "d9882c56-7788-4296-b4a0-8f9caf516f16",
      "metadata": {},
      "outputs": [],
      "source": [
        "Load the csv:\n"
      ]
    },
    {
      "cell_type": "code",
      "id": "22d9ff5d-50f7-470b-a754-0ff23403a320",
      "metadata": {},
      "outputs": [],
      "source": [
        "df = pd.read_csv(path)"
      ]
    },
    {
      "cell_type": "markdown",
      "id": "c2d581ae-7080-4abe-ae90-736dd1f8d6bb",
      "metadata": {},
      "outputs": [],
      "source": [
        "We use the method  <code>head()</code>  to display the first 5 columns of the dataframe:\n"
      ]
    },
    {
      "cell_type": "code",
      "id": "17773da4-095b-4845-9003-fabcc4c866af",
      "metadata": {},
      "outputs": [],
      "source": [
        "df.head()"
      ]
    },
    {
      "cell_type": "code",
      "id": "941d0a3f-edb5-4b81-9ce5-d9e2795377b6",
      "metadata": {},
      "outputs": [],
      "source": [
        "df.shape"
      ]
    },
    {
      "cell_type": "code",
      "id": "32f2f20f-c31a-4e9f-a88c-1f93f7509bd6",
      "metadata": {},
      "outputs": [],
      "source": [
        "df.columns"
      ]
    },
    {
      "cell_type": "code",
      "id": "0c2af186-f7eb-468a-83fa-d7dba2cdcce2",
      "metadata": {},
      "outputs": [],
      "source": [
        "df = df[['ts', 'open', 'high', 'low', 'close', 'rec_count', 'volume',\n       'avg_price', 'NATR']]"
      ]
    },
    {
      "cell_type": "code",
      "id": "902ef5c9-7d52-4b52-b394-10edf60a4445",
      "metadata": {},
      "outputs": [],
      "source": [
        "df.columns"
      ]
    },
    {
      "cell_type": "markdown",
      "id": "7b6d01a4-bfa1-4048-bc8d-a800b3980a42",
      "metadata": {},
      "outputs": [],
      "source": [
        "## Question to solve"
      ]
    },
    {
      "cell_type": "markdown",
      "id": "2c168989-d5ff-46f4-9abb-f3e16c81beb3",
      "metadata": {},
      "outputs": [],
      "source": [
        "**Question 1**:  Calculate Technical indicators. \n\nThis question consists of several subquestions, and every indicator is described here. Also, **you can use any library to calculate these indicators and write your own methods to perform such computations**. "
      ]
    },
    {
      "cell_type": "markdown",
      "id": "7fe1bc2b-f536-444b-b60c-48c40d7951b8",
      "metadata": {},
      "outputs": [],
      "source": [
        "### TRIX(Triple Exponential Average)"
      ]
    },
    {
      "cell_type": "markdown",
      "id": "bc38ab8d-d106-4bca-aaba-1729c2eabd1f",
      "metadata": {},
      "outputs": [],
      "source": [
        "The **Triple Exponential Average (TRIX) is a momentum oscillator that is calculated by smoothing the price data three times**. It is **used to identify overbought and oversold conditions**, as well as to **generate buy and sell signals**.\n\nThe TRIX calculation is as follows:\n\n* $EMA1=EMA(close,n)$\n\n* $EMA2=EMA(EMA1,n)$\n\n* $EMA3=EMA(EMA2,n)$\n\n$$TRIX = \\frac{EMA3 - EMA3_prev}{EMA3_prev}$$\n\nwhere:\n\n$close$ is the closing price of the asset\n\n$n$ is the number of periods used for the moving average\n\n$EMA$ is the exponential moving average\n\n$EMA1$ is the first smoothed value\n\n$EMA2$ is the second smoothed value\n\n$EMA3$ is the third smoothed value\n\n$EMA3_{prev}$ is the previous value of the third smoothed value\n\n$TRIX$ is the TRIX value at a given point in time\n\nThe TRIX indicator is typically plotted as a line chart that oscillates around the zero line. **When the TRIX line crosses above the zero line, it is considered a bullish signal, and when it crosses below the zero line, it is considered a bearish signal**. Traders also look for divergence between the TRIX and price action as an indication of a potential trend reversal."
      ]
    },
    {
      "cell_type": "markdown",
      "id": "93b6e6a1-6720-47e0-a433-626eefaf61bb",
      "metadata": {},
      "outputs": [],
      "source": [
        "***Question 1.1:*** Calculate TRIX(use `timeperiod=10`) and check how many NaN values you have in your `pd.Series` or `np.array`."
      ]
    },
    {
      "cell_type": "code",
      "id": "6666a3f9-66af-4005-86e0-f289ebd8c9b6",
      "metadata": {},
      "outputs": [],
      "source": [
        "# your code goes here\ntrix = talib.TRIX(df['close'], timeperiod=10)\ntrix[-20:]"
      ]
    },
    {
      "cell_type": "markdown",
      "id": "efb7fe33-cc36-4da0-bcfe-bd518e033100",
      "metadata": {},
      "outputs": [],
      "source": [
        "Looking on how many NaN values do we have:"
      ]
    },
    {
      "cell_type": "code",
      "id": "31503289-75da-46ec-921f-b8b20f5160cc",
      "metadata": {},
      "outputs": [],
      "source": [
        "# your code goes here\ntrix.count()"
      ]
    },
    {
      "cell_type": "markdown",
      "id": "8ece361d-79fb-4a4d-a4ca-2dfd0e927863",
      "metadata": {},
      "outputs": [],
      "source": [
        "### Fibonacci retracement"
      ]
    },
    {
      "cell_type": "markdown",
      "id": "97964b95-b70a-4e31-8067-cbacb8f5410e",
      "metadata": {},
      "outputs": [],
      "source": [
        "The formula for Fibonacci retracement is:\n$$R=C+(H−C)×P$$\n\nwhere:\n\n* $R$ is the retracement level\n* $C$ is the closing price of the asset\n* $H$ is the highest price of the asset over the selected time period\n* $P$ is the Fibonacci ratio, usually one of the following: 0.236, 0.382, 0.500, 0.618, or 0.786."
      ]
    },
    {
      "cell_type": "markdown",
      "id": "00a3c31e-c1e3-47f7-a012-09f030283bc5",
      "metadata": {},
      "outputs": [],
      "source": [
        "***Question 1.2:*** Create method that calculates fibonacci retracement levels and display them:"
      ]
    },
    {
      "cell_type": "code",
      "id": "45763314-704e-4022-b73c-e8644d649ed1",
      "metadata": {},
      "outputs": [],
      "source": [
        "# your code goes here\np = np.array([0.236, 0.382, 0.5, 0.618, 0.786])\ndef calculate_fib_retracement(df: pd.DataFrame, p:np.array=np.array([0.236, 0.382, 0.5, 0.618, 0.786])):\n    c = df['close'].values\n    h = df['high'].values\n    r = list()\n\n    for i in range(len(df)):\n        price_range = h[i] - c[i]\n        levels = c[i] + price_range * p\n        r.append(levels)\n\n    return np.array(r)\n\nfibonacci_levels = calculate_fib_retracement(df, p)\nprint(len(fibonacci_levels))\nprint(fibonacci_levels[:10])"
      ]
    },
    {
      "cell_type": "markdown",
      "id": "384af2cd-f203-4077-9d32-0cccc6f1fcac",
      "metadata": {},
      "outputs": [],
      "source": [
        "### MOM(momentum indicator):"
      ]
    },
    {
      "cell_type": "markdown",
      "id": "e562b344-a9b0-45c1-b89e-705e391189e7",
      "metadata": {},
      "outputs": [],
      "source": [
        "**The momentum indicator, often abbreviated as MOM, measures the change in price of a security over a specific time period. It is calculated by subtracting the closing price from the closing price X days ago.** The **formula for the momentum indicator**:\n\n$$MOM=C_t - C_{t-x}$$\n\nWhere:\n\n* $C_t$ represents the closing price of the security on the current day.\n* $C_{t-X}$ represents the closing price of the security X days ago.\n\nThe **momentum indicator is typically used to identify trends and potential reversal points.** If the **momentum indicator is positive, it suggests that the security is gaining upward momentum**, while a **negative momentum reading suggests downward momentum**. Traders often use the momentum indicator in conjunction with other technical analysis tools to confirm or negate potential trade signals."
      ]
    },
    {
      "cell_type": "markdown",
      "id": "a8125a45-c6fa-464a-a067-93dcd8d776a6",
      "metadata": {},
      "outputs": [],
      "source": [
        "***Question 1.3:*** Calculate MOM(momentum indicator) use a `timeperiod=5`; display values; find out how many NaN values you have:"
      ]
    },
    {
      "cell_type": "code",
      "id": "d86cdee6-f5a4-41fc-acdf-5d52a7b01aac",
      "metadata": {},
      "outputs": [],
      "source": [
        "# your code goes here\nmom = talib.MOM(df['close'], timeperiod=5)\nmom"
      ]
    },
    {
      "cell_type": "markdown",
      "id": "d13e2660-83d9-455c-85d4-d1e9acd79cdc",
      "metadata": {},
      "outputs": [],
      "source": [
        "Looking on how many NaN values do we have:"
      ]
    },
    {
      "cell_type": "code",
      "id": "cbb53944-ae8c-4d51-bda4-4c5f89183c46",
      "metadata": {},
      "outputs": [],
      "source": [
        "# your code goes here\nmom.count()"
      ]
    },
    {
      "cell_type": "markdown",
      "id": "42ecdf72-283f-4ce9-9eb8-9cac1eaba83b",
      "metadata": {},
      "outputs": [],
      "source": [
        "### New indicators inside our DataFrame"
      ]
    },
    {
      "cell_type": "markdown",
      "id": "59dcf8af-1fb0-4d65-8599-9a2fc6e0b8c3",
      "metadata": {},
      "outputs": [],
      "source": [
        "***Question 1.4:*** Add new indicators to main `pd.DataFrame` and drop all rows that have NaN values inside of them(do not forget to check if you have done everything correctly):"
      ]
    },
    {
      "cell_type": "markdown",
      "id": "df9ffb3f-cf73-4951-a2dd-c266f663c555",
      "metadata": {},
      "outputs": [],
      "source": [
        "Adding technical indicators to our pd.DataFrame:"
      ]
    },
    {
      "cell_type": "code",
      "id": "a166e7cb-d4bf-4e9e-9ea1-d88c91ce18a7",
      "metadata": {},
      "outputs": [],
      "source": [
        "# you code goes here\ndf[\"trix\"] = pd.Series(trix) \nfor i, v in enumerate(p):\n    df[f\"fib_retracement_{v}\"] = fibonacci_levels[:, i]\ndf[\"mom\"] = pd.Series(mom)\ndf.head()"
      ]
    },
    {
      "cell_type": "markdown",
      "id": "f631b84b-b24c-47c7-9e91-65e84f3599e4",
      "metadata": {},
      "outputs": [],
      "source": [
        "Deleting rows with empty values:"
      ]
    },
    {
      "cell_type": "code",
      "id": "a1b345f1-0265-461f-a3a6-75631050f767",
      "metadata": {},
      "outputs": [],
      "source": [
        "# you code goes here\ndf = df.dropna()\ndf.count()"
      ]
    },
    {
      "cell_type": "markdown",
      "id": "9114b105-3437-43d0-b451-8359d53dfe00",
      "metadata": {},
      "outputs": [],
      "source": [
        "**Question 2**:  Display the data types of each column using the attribute `dtype`.\n"
      ]
    },
    {
      "cell_type": "code",
      "id": "4d581425-3a23-4fc6-8fac-781bb8a17482",
      "metadata": {},
      "outputs": [],
      "source": [
        "df.dtypes"
      ]
    },
    {
      "cell_type": "markdown",
      "id": "d1bc8914-d23e-4f61-bea3-e8f5ccda07d4",
      "metadata": {},
      "outputs": [],
      "source": [
        "**Question 3** Create correlation matrix and heatmap.\n"
      ]
    },
    {
      "cell_type": "code",
      "id": "a0058bb0-45eb-4334-bb7c-f647b5f82800",
      "metadata": {},
      "outputs": [],
      "source": [
        "corr = df.corr()\n\nplt.figure(figsize=(50, 50))\nsns.heatmap(corr, annot=True, cmap='coolwarm')\n\nplt.show()"
      ]
    },
    {
      "cell_type": "markdown",
      "id": "a2a244c7-595d-411f-ac84-5ae8edb1a558",
      "metadata": {},
      "outputs": [],
      "source": [
        "**Question 4:** Draw `regplot` between TRIX and average price field.\n"
      ]
    },
    {
      "cell_type": "code",
      "id": "c8c77d36-6f0b-404c-b54b-607f306d72f9",
      "metadata": {},
      "outputs": [],
      "source": [
        "width = 12\nheight = 10\nplt.figure(figsize=(width, height))\nsns.regplot(x='trix', y='avg_price', data=df, line_kws={\"color\": \"k\"})\nplt.ylim(df['avg_price'].min(),df['avg_price'].max())"
      ]
    },
    {
      "cell_type": "markdown",
      "id": "836baecb-2cad-44e8-b2c3-746c82f8b521",
      "metadata": {},
      "outputs": [],
      "source": [
        "**Question 5:** Split data into train and test datasets. Do not forget to use `shuffle=False`.\n"
      ]
    },
    {
      "cell_type": "code",
      "id": "d3b908c2-3d40-4f76-8b1c-ccb9a462249a",
      "metadata": {},
      "outputs": [],
      "source": [
        "# y is a target value column - the value we want to predict\ny = df['avg_price']\n# deleting target column from X dataset\nX = df.drop('avg_price', axis=1)\n\nX_train, X_test, y_train, y_test = train_test_split(X, y, test_size=0.10, shuffle=False)"
      ]
    },
    {
      "cell_type": "markdown",
      "id": "64253cef-fd12-4de9-99a8-3f04bb98c0d9",
      "metadata": {},
      "outputs": [],
      "source": [
        "**Question 6:** Create Linear Regression model."
      ]
    },
    {
      "cell_type": "code",
      "id": "7a55eb14-4877-449a-b463-85aa95f529d5",
      "metadata": {},
      "outputs": [],
      "source": [
        "lr = LinearRegression()"
      ]
    },
    {
      "cell_type": "markdown",
      "id": "4d3fe479-50a2-4ff7-b31d-0e6cdde4054e",
      "metadata": {},
      "outputs": [],
      "source": [
        "**Question 7:** Fit training data into the model, use `trix` to predict `avg_price`.\n"
      ]
    },
    {
      "cell_type": "code",
      "id": "e8fe4582-0fcb-49b0-ac94-d3f66448a21a",
      "metadata": {},
      "outputs": [],
      "source": [
        "lr.fit(X_train[['trix']], y_train)"
      ]
    },
    {
      "cell_type": "markdown",
      "id": "a97aeb17-92ec-43b7-9b4d-2148165340a2",
      "metadata": {},
      "outputs": [],
      "source": [
        "**Note:** Please use `test_size = 0.10` for the following questions.\n"
      ]
    },
    {
      "cell_type": "markdown",
      "id": "c80e49fd-6550-4acd-8945-b2f72c7b3c0a",
      "metadata": {},
      "outputs": [],
      "source": [
        "**Question 8:** Calculate test and train metrics: $R^2$, **MSE, RMSE, MAE** for linear regression model you created previously.\n"
      ]
    },
    {
      "cell_type": "code",
      "id": "3192d23b-d4e4-4ab3-bdf7-a27debbf7535",
      "metadata": {},
      "outputs": [],
      "source": [
        "def get_metrics(y_real, y_pred) -> tuple:\n    \"\"\"\n    :returns tuple of metrics(MSE, RMSE, MAE)\n    \"\"\"\n    mse = mean_squared_error(y_real, y_pred)\n    rmse = np.sqrt(mse)\n    mae = mean_squared_error(y_real, y_pred)\n    return mse, rmse, mae\n\nprint(f\"Train R^2: {lr.score(X_train[['trix']], y_train):.4f}; Test R^2: {lr.score(X_test[['trix']], y_test):.4f}\")\nlr_y_pred_train = lr.predict(X_train[['trix']])\nlr_y_pred_test = lr.predict(X_test[['trix']])\n\nlr_train_metrics_ = get_metrics(y_train, lr_y_pred_train)\nlr_test_metrics_ = get_metrics(y_test, lr_y_pred_test)\nprint(f\"Train mse: {lr_train_metrics_[0]:.4f}; rmse: {lr_train_metrics_[1]:.4f}, mae: {lr_train_metrics_[2]:.4f}\")\nprint(f\"Test mse: {lr_test_metrics_[0]:.4f}; rmse: {lr_test_metrics_[1]:.4f} mae: {lr_test_metrics_[2]:.4f}\")"
      ]
    },
    {
      "cell_type": "markdown",
      "id": "b0e0f29d-a969-4b10-8d58-d7bb908b9957",
      "metadata": {},
      "outputs": [],
      "source": [
        "**Question 9**: Create and fit a Ridge regression object using the training data(using `trix` and `natr` to calculate `avg_price`), setting the regularization parameter to 0.1 calculate train and test metrics.\n"
      ]
    },
    {
      "cell_type": "code",
      "id": "91d0af13-d2f2-4967-bc08-36a18276f871",
      "metadata": {},
      "outputs": [],
      "source": [
        "RR=Ridge(alpha=1.0)\nRR.fit(X_train[['trix', 'NATR']], y_train)\nprint(f\"Train r^2: {RR.score(X_train[['trix', 'NATR']], y_train):.4f}, Test r^2: {RR.score(X_test[['trix', 'NATR']], y_test):.4f}\")"
      ]
    },
    {
      "cell_type": "markdown",
      "id": "82902341-3407-4e39-b3d7-e6aaf1a02240",
      "metadata": {},
      "outputs": [],
      "source": [
        "**Question 10**: Find better regularization parameter(or prove that the one we used above it the best) using `GridSearchCV`, calculate $R^2$, "
      ]
    },
    {
      "cell_type": "markdown",
      "id": "02696926-0ac5-4671-8eb7-99870dc2d179",
      "metadata": {},
      "outputs": [],
      "source": [
        "Finding best estimator and fitting train data into it:"
      ]
    },
    {
      "cell_type": "code",
      "id": "401c3b1a-56dc-4884-ba5b-e09ef939c26b",
      "metadata": {},
      "outputs": [],
      "source": [
        "# you code goes here\nparameters1= [{'alpha': [0.001,0.1,1, 10, 100, 1000, 10000, 100000, 100000]}]\nGrid1 = GridSearchCV(RR, parameters1,cv=4)\n\nGrid1.fit(X_train[['trix', 'NATR']], y_train)\nBestRR=Grid1.best_estimator_\nprint(BestRR)"
      ]
    },
    {
      "cell_type": "markdown",
      "id": "a77e001d-6cc1-4e1a-b6b9-32adcaf11484",
      "metadata": {},
      "outputs": [],
      "source": [
        "Calculating $R^2$ for the model with best estimator:"
      ]
    },
    {
      "cell_type": "code",
      "id": "b3855fca-9641-4a7d-ae00-7c62bd7cbd08",
      "metadata": {},
      "outputs": [],
      "source": [
        "# you code goes here\nprint(f\" {BestRR.score(X_train[['trix', 'NATR']], y_train):.4f}, {BestRR.score(X_test[['trix', 'NATR']], y_test):.4f}\")"
      ]
    },
    {
      "cell_type": "markdown",
      "id": "6492ff6f-9038-45dc-a912-103ad03d3d82",
      "metadata": {},
      "outputs": [],
      "source": [
        "Making predictions on test data and visualizing the results:"
      ]
    },
    {
      "cell_type": "code",
      "id": "4f591a5d-048d-433d-890b-fc16d4a19df3",
      "metadata": {},
      "outputs": [],
      "source": [
        "rr_predicted = BestRR.predict(X_test[['trix', 'NATR']])\n\ndata = {'Predicted': rr_predicted, 'Actual': y_test}\ndf = pd.DataFrame(data)\n\n# Use seaborn to create a scatter plot with a regression line\nsns.lmplot(x='Predicted', y='Actual', data=df, scatter_kws={'color': 'blue'}, line_kws={'color': 'red'})\n\n# Display the plot\nplt.show()"
      ]
    },
    {
      "cell_type": "markdown",
      "id": "293e958e-cad1-4f25-8a77-47f574b43d6c",
      "metadata": {},
      "outputs": [],
      "source": [
        "# **Thank you for completing Lab 6!**\n\n## Authors\n\n<a href=\"https://author.skills.network/instructors/nazar_kohut\">Nazar Kohut</a>\n\n<a href=\"https://author.skills.network/instructors/yaroslav_vyklyuk_2?utm_medium=Exinfluencer&utm_source=Exinfluencer&utm_content=000026UJ&utm_term=10006555&utm_id=NA-SkillsNetwork-Channel-SkillsNetworkGuidedProjectsIBMSkillsNetworkGPXX0QGDEN2306-2023-01-01\">Prof. Yaroslav Vyklyuk, DrSc, PhD</a>\n\n<a href=\"https://author.skills.network/instructors/mariya_fleychuk?utm_medium=Exinfluencer&utm_source=Exinfluencer&utm_content=000026UJ&utm_term=10006555&utm_id=NA-SkillsNetwork-Channel-SkillsNetworkGuidedProjectsIBMSkillsNetworkGPXX0QGDEN2306-2023-01-01\">Prof. Mariya Fleychuk, DrSc, PhD</a>\n\n\n## Change Log\n\n| Date (YYYY-MM-DD) | Version | Changed By   | Change Description                                         |\n| ----------------- | ------- | -------------| ---------------------------------------------------------- |\n|     2023-01-04    |   1.0   | Nazar Kohut  | Lab created                                                |\n\n<hr>\n\n## <h3 align=\"center\"> © IBM Corporation 2023. All rights reserved. <h3/>"
      ]
    }
  ],
  "metadata": {
    "language_info": {
      "name": ""
    },
    "kernelspec": {
      "name": "",
      "display_name": ""
    }
  },
  "nbformat": 4,
  "nbformat_minor": 4
}