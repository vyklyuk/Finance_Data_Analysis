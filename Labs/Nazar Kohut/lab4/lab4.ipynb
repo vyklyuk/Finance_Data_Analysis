{
  "cells": [
    {
      "cell_type": "markdown",
      "id": "d068f260-e549-49e1-afc9-b466ba87db76",
      "metadata": {},
      "outputs": [],
      "source": [
        "<center>\n    <img src=\"https://cf-courses-data.s3.us.cloud-object-storage.appdomain.cloud/IBMSkillsNetwork-GPXX0GJYEN/SN_web_lightmode.png?1677849873482\" width=\"300\" alt=\"cognitiveclass.ai logo\">\n</center>\n\n# Investigation of BTC/BUSD cryptocurrency using ADOSC, NATR, TRANGE indicators, and other cryptocurrencies.\n\n\n## Lab 4. Model development.\n\nEstimated time needed: **30** minutes\n\n## Objectives\n\nAfter completing this lab you will be able to:\n\n*   Develop prediction models\n\n\n<h3>Table of Contents</h3>\n\n<div class=\"alert alert-block alert-info\" style=\"margin-top: 20px\">\n<ol>\n    <li><u>Linear Regression and Multiple Linear Regression</u></li>\n        <ul>\n            <li><u>Linear Regression</u></li>\n            <li><u>Multiple Linear Regression</u></li>\n        </ul>\n    <li><u>Model Evaluation Using Visualization</u></li>\n    <li><u>Polynomial Regression and Pipelines</u></li>\n        <ul>\n            <li><u>Polynomial Regression</u></li>\n            <li><u>Pipeline</u></li>\n        </ul>\n    <li><u> Measures for In-Sample Evaluation</u></li>\n        <ul>\n            <li><u> Simple Linear Regression</u></li>\n            <li><u>Multiple Linear Regression</u></li>\n            <li><u>Polynomial Fit</u></li>\n        </ul>\n</ol>\n\n</div>\n\n<hr>\n"
      ]
    },
    {
      "cell_type": "markdown",
      "id": "700ca47e-c0b7-4cc4-88a0-9c005c792934",
      "metadata": {},
      "outputs": [],
      "source": [
        "#### ***Dataset description***\n\nThe dataset used in this lab contains time-series data on various attributes related to Bitcoin (BTC) and other cryptocurrencies, aggregated at 1-minute intervals. The dataset index represents the time period for which the data is reported(1 minute). Also the dataset contains binned average prices of other cryptocurrencies. \n\n<hr>\n\n**Attributes:**\n\n* ***General:***\n    * `open` - the opening price of a **BTC** during a specific time period.\n    * `high` - the highest price of a **BTC** during a specific time period.\n    * `low` - the lowest price of a **BTC** during a specific time period.\n    * `close` - the closing price of a **BTC** during a specific time period.\n    * `rec_count` - the number of records or data points in the dataset for a given time period.\n    * `volume` - the total amount of trading activity (buying and selling) for a **BTC** during a specific time period.\n    * `avg_price` - the average price of a **BTC** during a specific time period.\n\n\n* ***Indicators***\n    * `ADOSC` - an indicator used in technical analysis to measure the momentum of buying and selling pressure for ***Bitcoin***.\n    * `NATR` - an indicator used in technical analysis to measure the volatility of ***Bitcoin***.\n    * `TRANGE` - an indicator used in technical analysis to measure the range of prices (from high to low) for ***Bitcoin*** during a specific time period.\n\n\n* ***Other cryptocurrencies:***\n    * `ape_avg_price` - the average price of ***APE*** during a specific time period.\n    * `bnb_avg_price` - the average price of ***BNB*** during a specific time period.\n    * `doge_avg_price` - the average price of ***DOGE coin*** during a specific time period.\n    * `eth_avg_price` - the average price of ***Ethereum*** during a specific time period.\n    * `xrp_avg_price` - the average price of ***XRP*** during a specific time period.\n    * `matic_avg_price` - the average price of ***MATIC*** during a specific time period.\n* ***Categorical:***\n    * `category` - binned ***average price for BTC(`avg_price`)*** to bins: `high`, `medium-high`, `medium`, `medium-low`, `low`.\n    * `ape_category` - binned `ape_avg_price` to bins: `high`, `medium-high`, `medium`, `medium-low`, `low`.\n    * `bnb_category` - binned `bnb_avg_price` to bins: `high`, `medium-high`, `medium`, `medium-low`, `low`.\n    * `doge_category` - binned `doge_avg_price` to bins: `high`, `medium-high`, `medium`, `medium-low`, `low`.\n    * `eth_category` - binned `eth_avg_price` to bins: `high`, `medium-high`, `medium`, `medium-low`, `low`.\n    * `xrp_category` - binned `xrp_avg_price` to bins: `high`, `medium-high`, `medium`, `medium-low`, `low`.\n    * `matic_category` - binned `matic_avg_price` to bins: `high`, `medium-high`, `medium`, `medium-low`, `low`.\n    \n<hr>\n\n*The indicators `ADOSC`, `NATR`, and `TRANGE` are used in technical analysis to provide insights into the momentum, volatility, and price ranges of financial instruments or assets. The other attributes represent the average prices of different cryptocurrencies during a specific time period.*\n\n<hr>"
      ]
    },
    {
      "cell_type": "markdown",
      "id": "673aeb25-1510-4e0f-a772-73fd92c39d84",
      "metadata": {},
      "outputs": [],
      "source": [
        "<h4>Setup</h4>\n"
      ]
    },
    {
      "cell_type": "code",
      "id": "eeea6853-d5b8-4655-b00d-c1f081cab6b7",
      "metadata": {},
      "outputs": [],
      "source": [
        "# uncomment this line if you use pip\n# !pip install pandas\n# !pip install --upgrade numpy\n# !pip install matplotlib\n# !pip install --upgrade scipy\n# !pip install seaborn\n# !pip install scikit-learn\n# !pip install statsmodels"
      ]
    },
    {
      "cell_type": "code",
      "id": "a9927de4-1629-4959-a8b5-225aa786a345",
      "metadata": {},
      "outputs": [],
      "source": [
        "!mamba install pandas -y\n!mamba install numpy -y\n!mamba install matplotlib -y\n!mamba install scipy -y\n!mamba install seaborn -y \n!mamba install statsmodels -y\n!mamba install scikit-learn -y "
      ]
    },
    {
      "cell_type": "markdown",
      "id": "d2eab8d0-06ca-488a-a0cd-58169fe518dc",
      "metadata": {},
      "outputs": [],
      "source": [
        "Import libraries:\n"
      ]
    },
    {
      "cell_type": "code",
      "id": "3ae5482a-2e25-46fb-82eb-3a72f918339d",
      "metadata": {},
      "outputs": [],
      "source": [
        "import warnings\nimport pandas as pd\nimport numpy as np\nimport matplotlib.pyplot as plt\nimport seaborn as sns\nimport statsmodels.api as sm\n\nfrom sklearn.linear_model import LinearRegression\nfrom sklearn.metrics import r2_score, mean_absolute_error, mean_squared_error\nfrom sklearn.model_selection import train_test_split\nfrom sklearn.pipeline import Pipeline\nfrom sklearn.preprocessing import StandardScaler, PolynomialFeatures\n\n%matplotlib inline "
      ]
    },
    {
      "cell_type": "markdown",
      "id": "a517ac67-e81e-47c3-9a80-7f8aab1027af",
      "metadata": {},
      "outputs": [],
      "source": [
        "Creating array with names of other currencies to easily access all columns related to other currencies. "
      ]
    },
    {
      "cell_type": "code",
      "id": "a63daba0-a16b-4e2f-86a8-bc69f9e710ad",
      "metadata": {},
      "outputs": [],
      "source": [
        "currencies = np.array(['ape', 'eth', 'bnb', 'xrp', 'doge', 'matic'])"
      ]
    },
    {
      "cell_type": "code",
      "id": "25a7330e-0ed9-47a7-8186-10726701d40a",
      "metadata": {},
      "outputs": [],
      "source": [
        "file_path = 'https://cf-courses-data.s3.us.cloud-object-storage.appdomain.cloud/IBMSkillsNetwork-GPXX0GJYEN/BTCBUSD_1min_categories.csv'"
      ]
    },
    {
      "cell_type": "code",
      "id": "8116b930-3ef4-4ccd-9466-3fc4ef50d523",
      "metadata": {},
      "outputs": [],
      "source": [
        "df = pd.read_csv(file_path, index_col='ts')\n\n# converting index to datetime\ndf.index = pd.to_datetime(df.index)\ndf.head()"
      ]
    },
    {
      "cell_type": "code",
      "id": "064b6fe1-e9e0-489e-8603-f849193de883",
      "metadata": {},
      "outputs": [],
      "source": [
        "# create a list of columns(names of other cryptocurrecies in format <name>_avg_price)\ncurrencies_avg_price = np.char.add(currencies, '_avg_price')\ncurrencies_avg_price"
      ]
    },
    {
      "cell_type": "code",
      "id": "919c7226-4c2d-49b0-b9c4-d6d1b5e0b071",
      "metadata": {},
      "outputs": [],
      "source": [
        "corr = df[np.append(currencies_avg_price, 'avg_price')].corr()\ncorr"
      ]
    },
    {
      "cell_type": "code",
      "id": "14b324b5-0418-43e8-aa88-b0a22cc7946a",
      "metadata": {},
      "outputs": [],
      "source": [
        "fig, ax = plt.subplots(figsize=(15,15))\nsns.heatmap(corr, cmap='RdBu', vmin=-1, vmax=1, annot=True)"
      ]
    },
    {
      "cell_type": "markdown",
      "id": "e8218477-3cf8-4244-884b-5e914cf011d0",
      "metadata": {},
      "outputs": [],
      "source": [
        "## 1. Linear Regression and Multiple Linear Regression\n"
      ]
    },
    {
      "cell_type": "markdown",
      "id": "24fc8010-7cda-42ef-9cda-4cc9abc78a72",
      "metadata": {},
      "outputs": [],
      "source": [
        "### Linear Regression\n"
      ]
    },
    {
      "cell_type": "markdown",
      "id": "4ac07b37-835e-48ac-9a4c-ea34f562aa4d",
      "metadata": {},
      "outputs": [],
      "source": [
        "One example of a Data  Model that we will be using is:\n\n* **Simple Linear Regression**\n\n\nSimple Linear Regression is a method to help us understand the relationship between two variables:\n\n* The predictor/independent variable (X)\n* The response/dependent variable (that we want to predict)(Y)\n\n\nThe result of Linear Regression is a **linear function** that predicts the response (dependent) variable as a function of the predictor (independent) variable.\n"
      ]
    },
    {
      "cell_type": "markdown",
      "id": "d75814c5-0b2c-4e69-b2e7-3a22255df643",
      "metadata": {},
      "outputs": [],
      "source": [
        "$$\nY: Response \\ Variable\\\\\\\\\\\\\\\\\\\\\nX: Predictor \\ Variables\n$$\n"
      ]
    },
    {
      "cell_type": "markdown",
      "id": "ecfc1ddf-e98a-43d9-9810-fa967e479c63",
      "metadata": {},
      "outputs": [],
      "source": [
        "**Linear Function:**\n\n$$\n\\hat Y = a + b  X\n$$\n"
      ]
    },
    {
      "cell_type": "markdown",
      "id": "984748df-4dda-46f6-b7ba-74ba5deab49c",
      "metadata": {},
      "outputs": [],
      "source": [
        "<ul>\n    <li>a refers to the <b>intercept</b> of the regression line, in other words: the value of Y when X is 0</li>\n    <li>b refers to the <b>slope</b> of the regression line, in other words: the value with which Y changes when X increases by 1 unit</li>\n</ul>\n"
      ]
    },
    {
      "cell_type": "markdown",
      "id": "75ed2c3c-b552-4ddf-ae30-d4093107d33d",
      "metadata": {},
      "outputs": [],
      "source": [
        "##### Create the linear regression object:\n"
      ]
    },
    {
      "cell_type": "code",
      "id": "0cb1f685-56ea-4576-b487-bb1be682e2b3",
      "metadata": {},
      "outputs": [],
      "source": [
        "lm = LinearRegression()\nlm"
      ]
    },
    {
      "cell_type": "markdown",
      "id": "8a89b07b-93a7-497d-9b95-2212cd0f6e00",
      "metadata": {},
      "outputs": [],
      "source": [
        "<h4>How could other cryptocurrencies help us predict avarage price of our main cryptocurrency(BTC)?</h4>\n"
      ]
    },
    {
      "cell_type": "markdown",
      "id": "0a24886e-682e-4a77-a153-1b51433a31e5",
      "metadata": {},
      "outputs": [],
      "source": [
        "In previous lab we find out that **DOGE and APE** are more likely to affect or main currency(BTC) than other currencies.\nSo we will use these values for our linear regression models."
      ]
    },
    {
      "cell_type": "markdown",
      "id": "e36f1315-cf85-4ded-afed-c98874777772",
      "metadata": {},
      "outputs": [],
      "source": [
        "At the same time from correlation matrix we know that **DOGE** may be a good predictor of average price(it states that there is linear relationship between these values), that is why we will use **DOGE average price for our linear regression model**. Also, we may use **ETH, APE, XRP** values for other models."
      ]
    },
    {
      "cell_type": "code",
      "id": "fd33e26b-e5ce-44b2-8221-5f44d0d33773",
      "metadata": {},
      "outputs": [],
      "source": [
        "# y is a target value column - the value we want to predict\ny = df['avg_price']\n# deleting target column from X dataset\nX = df.drop('avg_price', axis=1)\n\nX_train, X_test, y_train, y_test = train_test_split(X, y, test_size=0.2, shuffle=False)"
      ]
    },
    {
      "cell_type": "markdown",
      "id": "c28d8e98-bc79-467c-9acb-2fb45dee7137",
      "metadata": {},
      "outputs": [],
      "source": [
        "Let's examine shapes:"
      ]
    },
    {
      "cell_type": "code",
      "id": "89967926-dc0d-4ee1-8361-5668732d7388",
      "metadata": {},
      "outputs": [],
      "source": [
        "print(f' X train shape: {X_train.shape}\\n X test shape: {X_test.shape}\\n Y train shape: {y_train.shape}\\n Y test shape: {y_test.shape}')"
      ]
    },
    {
      "cell_type": "markdown",
      "id": "5a5f5cb5-cb84-4d89-87b4-3b86e63a28e2",
      "metadata": {},
      "outputs": [],
      "source": [
        "Fit the linear model using ape_avg_price:\n"
      ]
    },
    {
      "cell_type": "code",
      "id": "d956db00-8f20-43fe-81f6-45677aff6c97",
      "metadata": {},
      "outputs": [],
      "source": [
        "lm.fit(X_train[['doge_avg_price']], y_train)"
      ]
    },
    {
      "cell_type": "markdown",
      "id": "c2aa5b9d-248a-437c-85de-11596bfbc491",
      "metadata": {},
      "outputs": [],
      "source": [
        "We can predict some average price values using the method `predict`. To do that, we pass testing data as a parameter into `predict` method."
      ]
    },
    {
      "cell_type": "code",
      "id": "a179ebfd-50e7-4b64-be10-03df86ff57ed",
      "metadata": {},
      "outputs": [],
      "source": [
        "y_hat=lm.predict(X_test[['doge_avg_price']])\nprint(f\"Data used to predict values: {X_test[['doge_avg_price']][0:5]}\\n Predicted values: {y_hat[0:5]}\")"
      ]
    },
    {
      "cell_type": "markdown",
      "id": "f78635d1-9e94-4ca7-aa72-ab0aaaef25ec",
      "metadata": {},
      "outputs": [],
      "source": [
        "#### What is the value of the intercept (a)?\n"
      ]
    },
    {
      "cell_type": "code",
      "id": "1360e924-5267-4c29-bfca-408e43836407",
      "metadata": {},
      "outputs": [],
      "source": [
        "lm.intercept_"
      ]
    },
    {
      "cell_type": "markdown",
      "id": "c3abcb6c-8fb2-4701-9c4a-b87113aebf63",
      "metadata": {},
      "outputs": [],
      "source": [
        "#### What is the value of the slope (b)?\n"
      ]
    },
    {
      "cell_type": "code",
      "id": "f7c71282-29b3-458a-9f55-241d5c34d50d",
      "metadata": {},
      "outputs": [],
      "source": [
        "lm.coef_"
      ]
    },
    {
      "cell_type": "markdown",
      "id": "cd774a70-ad21-4f15-99ed-f1287afb72cf",
      "metadata": {},
      "outputs": [],
      "source": [
        "#### What is the final estimated linear model we get?\n"
      ]
    },
    {
      "cell_type": "markdown",
      "id": "45f6aba7-9099-40b7-a72a-50fd258800b8",
      "metadata": {},
      "outputs": [],
      "source": [
        "As we saw above, we should get a final linear model with the structure:\n"
      ]
    },
    {
      "cell_type": "markdown",
      "id": "bbe2a9a1-c22e-4653-b19a-afa76aba3c11",
      "metadata": {},
      "outputs": [],
      "source": [
        "$$\n\\hat Y = a + b  X\n$$\n"
      ]
    },
    {
      "cell_type": "markdown",
      "id": "652bbaa8-2e34-4465-aa36-55aebeb4771c",
      "metadata": {},
      "outputs": [],
      "source": [
        "Plugging in the actual values we get:\n"
      ]
    },
    {
      "cell_type": "markdown",
      "id": "66380f5c-ba84-436f-a487-ebe032570930",
      "metadata": {},
      "outputs": [],
      "source": [
        "<!-- <b>Price</b> = 38423.31 - 821.73 x <b>highway-mpg</b> -->\n\n$$Price(BTC) = 12246.2325 - 51507.52254 X$$\n"
      ]
    },
    {
      "cell_type": "markdown",
      "id": "08aeed45-8f1d-46db-bc20-7cdde3d66920",
      "metadata": {},
      "outputs": [],
      "source": [
        "<div class=\"alert alert-danger alertdanger\" style=\"margin-top: 20px\">\n  <b style=\"font-size: 2em; font-weight: bold;\"> Question #1 a):</b>\n\n  <b>Create a linear regression object called \"lm1\".</b>\n    \n</div>\n"
      ]
    },
    {
      "cell_type": "code",
      "id": "74bc2bcf-525a-4a83-ba27-3b160ae03d15",
      "metadata": {},
      "outputs": [],
      "source": [
        "# Write your code below and press Shift+Enter to execute "
      ]
    },
    {
      "cell_type": "markdown",
      "id": "0d166e3f-250d-4524-9bfa-c64b0e38bad6",
      "metadata": {},
      "outputs": [],
      "source": [
        "<details><summary>Click here for the solution</summary>\n\n```python\nlm1 = LinearRegression()\nlm1\n```\n\n</details>\n"
      ]
    },
    {
      "cell_type": "markdown",
      "id": "9453d676-365c-4522-8752-b8a3e9b9c87d",
      "metadata": {},
      "outputs": [],
      "source": [
        "<div class=\"alert alert-danger alertdanger\" style=\"margin-top: 20px\">\n  <b style=\"font-size: 2em; font-weight: bold;\"> Question #1 b):</b>\n\n  <b>Train the model using `eth_avg_price` as the independent variable and `avg_price` as the dependent variable?</b>\n    \n</div>\n"
      ]
    },
    {
      "cell_type": "code",
      "id": "85557d87-0771-4550-b2ec-58dba8118a73",
      "metadata": {},
      "outputs": [],
      "source": [
        "# Write your code below and press Shift+Enter to execute"
      ]
    },
    {
      "cell_type": "markdown",
      "id": "006da37c-1a31-42e2-a86f-7c209bc87bc4",
      "metadata": {},
      "outputs": [],
      "source": [
        "<details><summary>Click here for the solution</summary>\n\n```python\nlm1.fit(X_train[['eth_avg_price']], y_train)\nlm1\n```\n\n</details>\n"
      ]
    },
    {
      "cell_type": "markdown",
      "id": "de43f483-a912-4599-9f46-e9d32c0b9868",
      "metadata": {},
      "outputs": [],
      "source": [
        "<div class=\"alert alert-danger alertdanger\" style=\"margin-top: 20px\">\n  <b style=\"font-size: 2em; font-weight: bold;\"> Question #1 c):</b>\n\n  <b>Find the slope and intercept of the model.</b>\n    \n</div>\n"
      ]
    },
    {
      "cell_type": "markdown",
      "id": "7920c94c-2f09-4479-aee0-ea298580f677",
      "metadata": {},
      "outputs": [],
      "source": [
        "#### **Slope**\n"
      ]
    },
    {
      "cell_type": "code",
      "id": "0bf4f256-4435-4025-b157-db6b99210454",
      "metadata": {},
      "outputs": [],
      "source": [
        "# Write your code below and press Shift+Enter to execute "
      ]
    },
    {
      "cell_type": "markdown",
      "id": "b2eef22c-6a85-4b62-ba81-1a96dcd1550c",
      "metadata": {},
      "outputs": [],
      "source": [
        "<details><summary>Click here for the solution</summary>\n    \n```python\n# Slope(b)\nlm1.coef_\n```\n</details>\n"
      ]
    },
    {
      "cell_type": "markdown",
      "id": "c5634295-b686-4235-8702-e6b6b689f569",
      "metadata": {},
      "outputs": [],
      "source": [
        "#### **Intercept**\n"
      ]
    },
    {
      "cell_type": "code",
      "id": "b039a82a-f62e-4308-b56c-ac83b116de51",
      "metadata": {},
      "outputs": [],
      "source": [
        "# Write your code below and press Shift+Enter to execute "
      ]
    },
    {
      "cell_type": "markdown",
      "id": "b493bb2b-1d6d-41ca-b3b3-a4a991ae551b",
      "metadata": {},
      "outputs": [],
      "source": [
        "\n<details><summary>Click here for the solution</summary>\n\n```python\n# Intercept(a)\nlm1.intercept_\n```\n\n</details>\n"
      ]
    },
    {
      "cell_type": "markdown",
      "id": "fe56845c-ef84-4269-a91e-5d754e3974d8",
      "metadata": {},
      "outputs": [],
      "source": [
        "<div class=\"alert alert-danger alertdanger\" style=\"margin-top: 20px\">\n  <b style=\"font-size: 2em; font-weight: bold;\"> Question #1 d):</b>\n\n  <b>What is the equation of the predicted line? You can use x and yhat or `eth_avg_price` or `avg_price`.</b>\n    \n</div>"
      ]
    },
    {
      "cell_type": "code",
      "id": "85a8fec9-032b-4104-96d8-b75f48e263a3",
      "metadata": {},
      "outputs": [],
      "source": [
        "# Write your code below and press Shift+Enter to execute \n# using X and Y  \n"
      ]
    },
    {
      "cell_type": "markdown",
      "id": "339bcdc2-a43c-4808-8ffe-7263db9fc239",
      "metadata": {},
      "outputs": [],
      "source": [
        "<details><summary>Click here for the solution</summary>\n\n```python\n# using X and Y  \ny_hat_=5.4691 + 9941.5855*X\n# or \nPrice=5.4691 + 9941.5855*X_test[['eth_avg_price']]\n\n```\n\n</details>\n"
      ]
    },
    {
      "cell_type": "markdown",
      "id": "010af248-b85a-4bf6-a568-b77d408e1c3e",
      "metadata": {},
      "outputs": [],
      "source": [
        "##### **LR with statsmodels**"
      ]
    },
    {
      "cell_type": "markdown",
      "id": "78d4b42f-f340-4eeb-af47-db3e8b491905",
      "metadata": {},
      "outputs": [],
      "source": [
        "Now let's create a linear regression model using `statsmodels`. The model from this library may look a bit more challenging to understand initially, but it has some advantages. Later, you will see the difference between `sklearn` and `statsmodels` linear regressions."
      ]
    },
    {
      "cell_type": "markdown",
      "id": "01fc0e90-2c77-4451-b9b3-528c4a27de01",
      "metadata": {},
      "outputs": [],
      "source": [
        "We will use **DOGE average price as the predictor** of average price."
      ]
    },
    {
      "cell_type": "markdown",
      "id": "13dd7aa7-ea65-4ccc-9fdc-6faf9e61f539",
      "metadata": {},
      "outputs": [],
      "source": [
        "Before we train the model we need to add the column of ones to the inputs if you want `statsmodels` to calculate the intercept `𝑏₀`. It doesn’t take `𝑏₀` into account by default. "
      ]
    },
    {
      "cell_type": "markdown",
      "id": "0afaaf71-cb4d-4f1f-9ba3-2bf7b1648520",
      "metadata": {},
      "outputs": [],
      "source": [
        "You can add the column of ones to `X_train` using `add_constant()` function, which takes `X_train` as input array and returns a new array with the column of ones inserted at the beginning."
      ]
    },
    {
      "cell_type": "code",
      "id": "d84d16b0-5035-4516-ba23-59e85417c129",
      "metadata": {},
      "outputs": [],
      "source": [
        "# Current version of statsmodels shows future warning which we can ignore(this warning is caused by library and may be fixed in future)\nwarnings.filterwarnings('ignore', category=FutureWarning)\n\nX_train_stats = sm.add_constant(X_train[\"doge_avg_price\"])\nX_train_stats"
      ]
    },
    {
      "cell_type": "markdown",
      "id": "fde41dda-7b3d-477b-86d4-3b3ddc3f3e9c",
      "metadata": {},
      "outputs": [],
      "source": [
        "Now, let's create the linear regression model and train it."
      ]
    },
    {
      "cell_type": "code",
      "id": "11bf19b3-2f2f-4542-8e54-47ec3d128ee6",
      "metadata": {},
      "outputs": [],
      "source": [
        "# create model object\nmodel = sm.OLS(y_train, X_train_stats)\n# train the model\nstats_lm = model.fit()"
      ]
    },
    {
      "cell_type": "markdown",
      "id": "43a9c302-74b6-4c18-80d4-302ec73253bb",
      "metadata": {},
      "outputs": [],
      "source": [
        "Add column of ones to `X_test` as well."
      ]
    },
    {
      "cell_type": "code",
      "id": "ceba3d28-ebc7-4909-b435-9458e78d2c6e",
      "metadata": {},
      "outputs": [],
      "source": [
        "X_test_stats = sm.add_constant(X_test[\"doge_avg_price\"])\nX_test_stats"
      ]
    },
    {
      "cell_type": "markdown",
      "id": "d0a2eb2e-5b97-4bc6-ba4e-fd5919d00b1a",
      "metadata": {},
      "outputs": [],
      "source": [
        "Predict values of average price using `predict` method:"
      ]
    },
    {
      "cell_type": "code",
      "id": "ed8fcc6d-a8b1-4539-883a-2c2466f408fa",
      "metadata": {},
      "outputs": [],
      "source": [
        "print('Predicted values:\\n')\nstats_lm.predict(X_test_stats)"
      ]
    },
    {
      "cell_type": "code",
      "id": "e4a99bd6-5bfd-48d4-a00d-847958ca04bf",
      "metadata": {},
      "outputs": [],
      "source": [
        "# Set future warnings back to default\nwarnings.filterwarnings('default', category=FutureWarning)"
      ]
    },
    {
      "cell_type": "markdown",
      "id": "a3ca8ab9-e31e-472b-9b9c-b2bd046c257c",
      "metadata": {},
      "outputs": [],
      "source": [
        "### Multiple Linear Regression\n"
      ]
    },
    {
      "cell_type": "markdown",
      "id": "c4d533ec-3124-4b8b-864a-f632784924ae",
      "metadata": {},
      "outputs": [],
      "source": [
        "<p>What if we want to average price using more than one variable?</p>\n\n<p>If we want to use more variables in our model to predict average price, we can use <b>Multiple Linear Regression</b>.\nMultiple Linear Regression is very similar to Simple Linear Regression, but this method is used to explain the relationship between one continuous response (dependent) variable and <b>two or more</b> predictor (independent) variables.\nMost of the real-world regression models involve multiple predictors. We will illustrate the structure by using four predictor variables, but these results can generalize to any integer:</p>\n"
      ]
    },
    {
      "cell_type": "markdown",
      "id": "1ddb7e17-0793-4bef-9f19-0ee397e903ad",
      "metadata": {},
      "outputs": [],
      "source": [
        "$$\nY: Response \\ Variable\\\\\\\\\\\\\\\\\\\\\nX\\_1 :Predictor\\ Variable \\ 1\\\\\\\\\nX\\_2: Predictor\\ Variable \\ 2\\\\\\\\\n...\\\\\\\\\nX\\_n: Predictor\\ Variable \\ n\\\\\\\\\n$$\n"
      ]
    },
    {
      "cell_type": "markdown",
      "id": "10aa161f-461d-4aa0-9e19-bd940cac128a",
      "metadata": {},
      "outputs": [],
      "source": [
        "$$\na: intercept\\\\\\\\\\\\\\\\\\\\\nb\\_1 :coefficients \\ of\\ Variable \\ 1\\\\\\\\\nb\\_2: coefficients \\ of\\ Variable \\ 2\\\\\\\\\n...\\\\\\\\\nb\\_n: coefficients \\ of\\ Variable \\ n\\\\\\\\\n$$\n"
      ]
    },
    {
      "cell_type": "markdown",
      "id": "6d928812-970c-4cfa-99d9-db0c0ef8ac7e",
      "metadata": {},
      "outputs": [],
      "source": [
        "The equation is given by:\n"
      ]
    },
    {
      "cell_type": "markdown",
      "id": "b2122f42-6fbf-45a2-a7ef-bc7139796151",
      "metadata": {},
      "outputs": [],
      "source": [
        "$$\nYhat = a + b_1 X_1 + b_2 X_2 + b_3 X_3 + b_4 X_4 + ... + b_n X_n\n$$\n"
      ]
    },
    {
      "cell_type": "markdown",
      "id": "9ff81f1c-77c5-4c4f-81f7-b15761a9a6ce",
      "metadata": {},
      "outputs": [],
      "source": [
        "<p>From the previous section  we know that other good predictors of price could be:</p>\n<ul>\n    <li>DOGE</li>\n    <li>ETH</li>\n    <li>XRP</li>\n</ul>\nLet's develop a model using these variables as the predictor variables.\n"
      ]
    },
    {
      "cell_type": "code",
      "id": "d9b9a295-f4ee-4142-8175-92dd47297509",
      "metadata": {},
      "outputs": [],
      "source": [
        "M_train = X_train[['doge_avg_price', 'eth_avg_price', 'xrp_avg_price']]\nM_test = X_test[['doge_avg_price', 'eth_avg_price', 'xrp_avg_price']]"
      ]
    },
    {
      "cell_type": "markdown",
      "id": "1317a20f-b04a-45e3-81f5-7026ad6a00d5",
      "metadata": {},
      "outputs": [],
      "source": [
        "Create model:"
      ]
    },
    {
      "cell_type": "code",
      "id": "104c19b7-5872-44f4-8ce0-a228cafacc2c",
      "metadata": {},
      "outputs": [],
      "source": [
        "mult_lm = LinearRegression()"
      ]
    },
    {
      "cell_type": "markdown",
      "id": "217bce60-185d-416e-a692-13545d2c9bdf",
      "metadata": {},
      "outputs": [],
      "source": [
        "Fit the linear model using the four above-mentioned variables.\n"
      ]
    },
    {
      "cell_type": "code",
      "id": "ae53d0b3-3e93-4715-977a-0a02f6a07b78",
      "metadata": {},
      "outputs": [],
      "source": [
        "mult_lm.fit(M_train, y_train)"
      ]
    },
    {
      "cell_type": "markdown",
      "id": "1bedfa30-d94a-4d8d-bd88-9f7ffb912701",
      "metadata": {},
      "outputs": [],
      "source": [
        "What is the value of the intercept(a)?\n"
      ]
    },
    {
      "cell_type": "code",
      "id": "72690595-2085-4971-899d-a754eb0389eb",
      "metadata": {},
      "outputs": [],
      "source": [
        "mult_lm.intercept_"
      ]
    },
    {
      "cell_type": "markdown",
      "id": "af7a5ffb-e8f8-46bd-9703-563ce07deae3",
      "metadata": {},
      "outputs": [],
      "source": [
        "What are the values of the coefficients (b1, b2, b3, b4)?\n"
      ]
    },
    {
      "cell_type": "code",
      "id": "17460890-7279-4479-85ca-b30019ed2381",
      "metadata": {},
      "outputs": [],
      "source": [
        "mult_lm.coef_"
      ]
    },
    {
      "cell_type": "markdown",
      "id": "f70e9627-0507-4f97-a614-52bc4c9f66e2",
      "metadata": {},
      "outputs": [],
      "source": [
        "What is the final estimated linear model that we get?\n"
      ]
    },
    {
      "cell_type": "code",
      "id": "cff29ee3-8e7b-456f-86a4-9ba364da98d5",
      "metadata": {},
      "outputs": [],
      "source": [
        "mult_lm_yhat = mult_lm.predict(M_test)\nmult_lm_yhat "
      ]
    },
    {
      "cell_type": "markdown",
      "id": "2bd6c525-4abb-46a1-8ea8-fd0003f2415c",
      "metadata": {},
      "outputs": [],
      "source": [
        "As we saw above, we should get a final linear function with the structure:\n\n$$\nYhat = a + b_1 X_1 + b_2 X_2 + b_3 X_3\n$$\n\nWhat is the linear function we get in this example?\n"
      ]
    },
    {
      "cell_type": "markdown",
      "id": "4548011c-935b-4117-bf87-205248e4b1c3",
      "metadata": {},
      "outputs": [],
      "source": [
        "$$Price = 8759.0594 + 9.0944 DOGE + 3.7751 ETH + 6.6993 XRP $$\n"
      ]
    },
    {
      "cell_type": "markdown",
      "id": "0f3fa140-f2b6-4fbd-9a87-4b50b760f256",
      "metadata": {},
      "outputs": [],
      "source": [
        "<div class=\"alert alert-danger alertdanger\" style=\"margin-top: 20px\">\n  <b style=\"font-size: 2em; font-weight: bold;\">Question  #2 a):</b>\n\n  <b>Create and train a Multiple Linear Regression model `mult_lm2` where the response variable is `price`, and the predictor variable are `eth_avg_price` and  `ape_avg_price`.</b>\n    \n</div>"
      ]
    },
    {
      "cell_type": "code",
      "id": "7092858c-22f4-471e-bf84-4377be09d820",
      "metadata": {},
      "outputs": [],
      "source": [
        "# Write your code below and press Shift+Enter to execute"
      ]
    },
    {
      "cell_type": "markdown",
      "id": "6ca2c60a-0690-4d56-8a67-c2e9fdb1c222",
      "metadata": {},
      "outputs": [],
      "source": [
        "<details><summary>Click here for the solution</summary>\n\n```python\nmult_lm2 = LinearRegression()\nmult_lm2.fit(X_train[[\"eth_avg_price\", \"ape_avg_price\"]], y_train)\n\n\n```\n\n</details>\n"
      ]
    },
    {
      "cell_type": "markdown",
      "id": "558b8ceb-105e-4c88-a62f-dfed280d0ab1",
      "metadata": {},
      "outputs": [],
      "source": [
        "<div class=\"alert alert-danger alertdanger\" style=\"margin-top: 20px\">\n  <b style=\"font-size: 2em; font-weight: bold;\"> Question  #2 b):</b>\n\n  <b>Find the coefficient of the model.</b>\n    \n</div>"
      ]
    },
    {
      "cell_type": "code",
      "id": "478106fa-bc7f-4896-a187-1ece9e3df92d",
      "metadata": {},
      "outputs": [],
      "source": [
        "# Write your code below and press Shift+Enter to execute"
      ]
    },
    {
      "cell_type": "markdown",
      "id": "53e9105d-452b-43fe-98ac-f91a8bb117e8",
      "metadata": {},
      "outputs": [],
      "source": [
        "<details><summary>Click here for the solution</summary>\n\n```python\nmult_lm2.coef_\n\n```\n\n</details>\n"
      ]
    },
    {
      "cell_type": "markdown",
      "id": "d784054c-c6fc-44d8-a89e-b27396f0c650",
      "metadata": {},
      "outputs": [],
      "source": [
        "## 2. Model Evaluation Using Visualization\n"
      ]
    },
    {
      "cell_type": "markdown",
      "id": "e9d788cd-36bd-416d-b909-c7c9cf5cf609",
      "metadata": {},
      "outputs": [],
      "source": [
        "Now that we've developed some models, how do we evaluate our models and choose the best one? One way to do this is by using a visualization.\n"
      ]
    },
    {
      "cell_type": "markdown",
      "id": "57f3c825-b0e5-4284-aac1-3ebd98db5173",
      "metadata": {},
      "outputs": [],
      "source": [
        "### Regression Plot\n"
      ]
    },
    {
      "cell_type": "markdown",
      "id": "39f41bed-3a41-4f5d-9d17-de53b784e3fe",
      "metadata": {},
      "outputs": [],
      "source": [
        "<p>When it comes to simple linear regression, an excellent way to visualize the fit of our model is by using <b>regression plots</b>.</p>\n\n<p>This plot will show a combination of a scattered data points (a <b>scatterplot</b>), as well as the fitted <b>linear regression</b> line going through the data. This will give us a reasonable estimate of the relationship between the two variables, the strength of the correlation, as well as the direction (positive or negative correlation).</p>\n"
      ]
    },
    {
      "cell_type": "markdown",
      "id": "005778bf-8358-4509-83a3-2bcc06e1df25",
      "metadata": {},
      "outputs": [],
      "source": [
        "Let's visualize **doge_avg_price** as potential predictor variable of price:\n"
      ]
    },
    {
      "cell_type": "code",
      "id": "791cb9c3-944a-414d-bc2a-43250b0eb28e",
      "metadata": {},
      "outputs": [],
      "source": [
        "width = 12\nheight = 10\nplt.figure(figsize=(width, height))\nsns.regplot(x='doge_avg_price', y='avg_price', data=df, line_kws={\"color\": \"k\"})\nplt.ylim(df['avg_price'].min(),df['avg_price'].max())"
      ]
    },
    {
      "cell_type": "markdown",
      "id": "6617ce1f-af0c-443f-9165-fb2901e4d30e",
      "metadata": {},
      "outputs": [],
      "source": [
        "One thing to keep in mind when looking at a regression plot is to pay attention to how scattered the data points are around the regression line. This will give you a good indication of the variance of the data and whether a linear model would be the best fit or not.\n\nLet's compare this plot to the regression plot of \"xrp_avg_price\".</p>\n"
      ]
    },
    {
      "cell_type": "code",
      "id": "0cc8d216-ca42-485c-879b-8e3579cd58f9",
      "metadata": {},
      "outputs": [],
      "source": [
        "plt.figure(figsize=(width, height))\nsns.regplot(x='xrp_avg_price', y=\"avg_price\", data=df, line_kws={\"color\": \"k\"})\nplt.ylim(df['avg_price'].min(),df['avg_price'].max())\n# plt.xlim(df['xrp_avg_price'].min(),)"
      ]
    },
    {
      "cell_type": "markdown",
      "id": "48d8ea91-8d47-4300-9fd4-5cd32c91902b",
      "metadata": {},
      "outputs": [],
      "source": [
        "<p>Comparing the regression plot of \"xrp_avg_price\" and \"doge_avg_price\", we see that the points for \"doge_avg_price\" are closer to the generated line. </p>\n"
      ]
    },
    {
      "cell_type": "markdown",
      "id": "6420ce3d-78da-4981-9e81-7fb766656dbb",
      "metadata": {},
      "outputs": [],
      "source": [
        "<div class=\"alert alert-danger alertdanger\" style=\"margin-top: 20px\">\n  <b style=\"font-size: 2em; font-weight: bold;\"> Question #3:</b>\n\n  <b>Given the regression plots above, is `doge_avg_price` or `xrp_avg_price` more strongly correlated with `avg_price`? Use the method  `.corr()` to verify your answer.</b>\n    \n</div>"
      ]
    },
    {
      "cell_type": "code",
      "id": "2e6a8a95-44f0-46f1-b74b-9e90297c1818",
      "metadata": {},
      "outputs": [],
      "source": [
        "# Write your code below and press Shift+Enter to execute "
      ]
    },
    {
      "cell_type": "markdown",
      "id": "99c831fc-1f91-41fa-8ee7-7bb2f3830c9b",
      "metadata": {},
      "outputs": [],
      "source": [
        "<details><summary>Click here for the solution</summary>\n\n```python\n# The variable \"highway-mpg\" has a stronger correlation with \"price\", it is approximate -0.704692  compared to \"peak-rpm\" which is approximate -0.101616. You can verify it using the following command:\n\ndf[[\"doge_avg_price\",\"xrp_avg_price\",\"avg_price\"]].corr()\n\n```\n\n</details>\n"
      ]
    },
    {
      "cell_type": "markdown",
      "id": "39fa5621-23f4-4cd1-99a6-c0a9fd80a987",
      "metadata": {},
      "outputs": [],
      "source": [
        "#### Residual Plot\n\n<p>A good way to visualize the variance of the data is to use a residual plot.</p>\n\n<p>What is a <b>residual</b>?</p>\n\n<p>The difference between the observed value (y) and the predicted value (Yhat) is called the residual (e). When we look at a regression plot, the residual is the distance from the data point to the fitted regression line.</p>\n\n<p>So what is a <b>residual plot</b>?</p>\n\n<p>A residual plot is a graph that shows the residuals on the vertical y-axis and the independent variable on the horizontal x-axis.</p>\n\n<p>What do we pay attention to when looking at a residual plot?</p>\n\n<p>We look at the spread of the residuals:</p>\n\n<p>- If the points in a residual plot are <b>randomly spread out around the x-axis</b>, then a <b>linear model is appropriate</b> for the data.\n\nWhy is that? Randomly spread out residuals means that the variance is constant, and thus the linear model is a good fit for this data.</p>\n"
      ]
    },
    {
      "cell_type": "code",
      "id": "ac8045d2-44a0-492f-bf9b-7b7e335d6469",
      "metadata": {},
      "outputs": [],
      "source": [
        "width = 12\nheight = 10\nplt.figure(figsize=(width, height))\nsns.residplot(x=df['doge_avg_price'],y=df['avg_price'])\nplt.show()"
      ]
    },
    {
      "cell_type": "markdown",
      "id": "79e87ce1-1b49-417d-98fb-2411fabb8ea1",
      "metadata": {},
      "outputs": [],
      "source": [
        "**What is this plot telling us?**\n\nWe can see from this residual plot that the residuals are not randomly spread around the x-axis, leading us to believe that maybe a non-linear model is more appropriate for this data.\n"
      ]
    },
    {
      "cell_type": "markdown",
      "id": "26c8811b-53a9-4ad6-b397-4712a9f6a162",
      "metadata": {},
      "outputs": [],
      "source": [
        "### Multiple Linear Regression\n"
      ]
    },
    {
      "cell_type": "markdown",
      "id": "f7b33039-aa71-4144-9e1a-960d721cc6ee",
      "metadata": {},
      "outputs": [],
      "source": [
        "<p>How do we visualize a model for Multiple Linear Regression? This gets a bit more complicated because you can't visualize it with regression or residual plot.</p>\n\n<p>One way to look at the fit of the model is by looking at the <b>distribution plot</b>. We can look at the distribution of the fitted values that result from the model and compare it to the distribution of the actual values.</p>\n"
      ]
    },
    {
      "cell_type": "markdown",
      "id": "868afa21-a52a-467c-9b8a-a798a5a0d6b2",
      "metadata": {},
      "outputs": [],
      "source": [
        "First, let's make a prediction:\n"
      ]
    },
    {
      "cell_type": "code",
      "id": "1c1fa58f-3be1-4444-9dfd-7c173e7afc2a",
      "metadata": {},
      "outputs": [],
      "source": [
        "mult_y_hat = mult_lm.predict(M_test)\nmult_y_hat"
      ]
    },
    {
      "cell_type": "code",
      "id": "2fdb30d8-df7b-4e7a-9c7a-8f0ac84795a9",
      "metadata": {},
      "outputs": [],
      "source": [
        "import sys\nwidth = 15\nheight = 12\n\nplt.figure(figsize=(width, height))\n\n\nsns.kdeplot(mult_y_hat)\nsns.kdeplot(y_test)\n\n\nplt.title('Actual vs Fitted Values for Price')\nplt.xlabel('Price')\nplt.ylabel('Proportion')\n\nplt.show()\nplt.close()"
      ]
    },
    {
      "cell_type": "markdown",
      "id": "4eb18cb5-2904-4434-b14c-dfbd926a7448",
      "metadata": {},
      "outputs": [],
      "source": [
        "<p>We can see that the fitted values are reasonably close to the actual values since the two distributions overlap a bit. However, there is definitely some room for improvement.</p>\n"
      ]
    },
    {
      "cell_type": "markdown",
      "id": "f9309b25-0f23-4334-886f-d5e7a590b324",
      "metadata": {},
      "outputs": [],
      "source": [
        "## 3. Polynomial Regression and Pipelines\n"
      ]
    },
    {
      "cell_type": "markdown",
      "id": "8693ba81-28f4-4805-94d5-1fd573df48a5",
      "metadata": {},
      "outputs": [],
      "source": [
        "### **Polynomial Regression**"
      ]
    },
    {
      "cell_type": "markdown",
      "id": "5172392d-5033-46c6-850f-83f3ff0da93c",
      "metadata": {},
      "outputs": [],
      "source": [
        "<p><b>Polynomial regression</b> is a particular case of the general linear regression model or multiple linear regression models.</p> \n<p>We get non-linear relationships by squaring or setting higher-order terms of the predictor variables.</p>\n\n<p>There are different orders of polynomial regression:</p>\n"
      ]
    },
    {
      "cell_type": "markdown",
      "id": "58685dec-1fb5-42ce-8958-f006b370542f",
      "metadata": {},
      "outputs": [],
      "source": [
        "<center><b>Quadratic - 2nd Order</b></center>\n$$\nYhat = a + b_1 X +b_2 X^2 \n$$\n\n<center><b>Cubic - 3rd Order</b></center>\n$$\nYhat = a + b_1 X +b_2 X^2 +b_3 X^3\\\\\\\\\\\\\\\\\\\\\n$$\n\n<center><b>Higher-Order</b>:</center>\n$$\nY = a + b_1 X +b_2 X^2 +b_3 X^3 ....\\\\\\\\\n$$\n"
      ]
    },
    {
      "cell_type": "markdown",
      "id": "48aeb400-3cc6-4737-855e-7fc6491ae3fb",
      "metadata": {},
      "outputs": [],
      "source": [
        "<p>We will use the following function to plot the data:</p>\n"
      ]
    },
    {
      "cell_type": "code",
      "id": "4b4fcebc-9127-4112-8d33-a8c103362465",
      "metadata": {},
      "outputs": [],
      "source": [
        "def PlotPolly(model, independent_variable, dependent_variabble, Name, minimum=0, maximum=1000, step=100):\n    x_new = np.linspace(minimum, maximum, step)\n    y_new = model(x_new)\n\n    plt.plot(independent_variable, dependent_variabble, '.', x_new, y_new, '-')\n    plt.title('Polynomial Fit with Matplotlib')\n    ax = plt.gca()\n    ax.set_facecolor((0.898, 0.898, 0.898))\n    plt.xlabel(Name)\n    # plt.ylabel('Price of Cars')\n\n    plt.show()\n    plt.close()"
      ]
    },
    {
      "cell_type": "markdown",
      "id": "c7f65339-dcfc-49c8-a437-57a01e30815a",
      "metadata": {},
      "outputs": [],
      "source": [
        "Let's get the variables:"
      ]
    },
    {
      "cell_type": "code",
      "id": "d5a234cf-eea1-4412-9a45-1103865105ac",
      "metadata": {},
      "outputs": [],
      "source": [
        "xp_train = X_train['doge_avg_price']\nyp_train = y_train\nxp_test = X_test['doge_avg_price']\nyp_test = y_test"
      ]
    },
    {
      "cell_type": "markdown",
      "id": "5e06e312-3634-4b56-a088-9852b5e14965",
      "metadata": {},
      "outputs": [],
      "source": [
        "Let's fit the polynomial using the function <b>polyfit</b>, then use the function <b>poly1d</b> to display the polynomial function.\n"
      ]
    },
    {
      "cell_type": "code",
      "id": "8c0d3462-32cc-4e79-b3f5-035358f83100",
      "metadata": {},
      "outputs": [],
      "source": [
        "# Here we use a polynomial of the 3rd order (cubic) \nf = np.polyfit(xp_train, yp_train, 3)\np = np.poly1d(f)\nprint(p)"
      ]
    },
    {
      "cell_type": "markdown",
      "id": "cb9d76c2-549f-472d-b8b7-b2a66be53541",
      "metadata": {},
      "outputs": [],
      "source": [
        "Let's plot the function:\n"
      ]
    },
    {
      "cell_type": "code",
      "id": "b6dc4165-d01f-463e-9add-c85dd7d8862a",
      "metadata": {},
      "outputs": [],
      "source": [
        "PlotPolly(p, xp_train, yp_train, 'doge_avg_price', minimum=df['doge_avg_price'].min(), maximum=df['doge_avg_price'].max(), step=10)"
      ]
    },
    {
      "cell_type": "markdown",
      "id": "b2b1a41d-fa22-49a2-b94a-6ef39fd9c29d",
      "metadata": {},
      "outputs": [],
      "source": [
        "<p>The analytical expression for Multivariate Polynomial function gets complicated. For example, the expression for a second-order (degree=2) polynomial with two variables is given by:</p>\n"
      ]
    },
    {
      "cell_type": "markdown",
      "id": "db3a86c3-b1fb-46e1-a565-941cfd301db8",
      "metadata": {},
      "outputs": [],
      "source": [
        "$$\n\\hat{Y} = a + b_1 X_1 +b_2 X_2 +b_3 X_1 X_2+b_4 X_1^2+b_5 X_2^2\n$$\n"
      ]
    },
    {
      "cell_type": "markdown",
      "id": "0bfbfd0d-5d68-4df8-a642-51a5c57946c5",
      "metadata": {},
      "outputs": [],
      "source": [
        "We can perform a polynomial transform on multiple features. First, we import the module:\n"
      ]
    },
    {
      "cell_type": "markdown",
      "id": "8f4f7edb-66ee-493e-9473-6dbbb0e08087",
      "metadata": {},
      "outputs": [],
      "source": [
        "We create a <b>PolynomialFeatures</b> object of degree 2:\n"
      ]
    },
    {
      "cell_type": "code",
      "id": "235b4e94-4e17-4490-9797-162910f6f5e4",
      "metadata": {},
      "outputs": [],
      "source": [
        "pr=PolynomialFeatures(degree=2)\npr"
      ]
    },
    {
      "cell_type": "code",
      "id": "bb067230-780c-409d-9139-03de051da3a1",
      "metadata": {},
      "outputs": [],
      "source": [
        "M_pr=pr.fit_transform(M_train)"
      ]
    },
    {
      "cell_type": "markdown",
      "id": "0a716df3-57ba-440c-a71e-dde7f2a13525",
      "metadata": {},
      "outputs": [],
      "source": [
        "In the original data, there are 201 samples and 4 features.\n"
      ]
    },
    {
      "cell_type": "code",
      "id": "6dcdfcd7-f80b-4c2b-b3c3-725dc24bac47",
      "metadata": {},
      "outputs": [],
      "source": [
        "M_train.shape"
      ]
    },
    {
      "cell_type": "markdown",
      "id": "a2991fc7-e09d-4508-a833-ca749bc71aa6",
      "metadata": {},
      "outputs": [],
      "source": [
        "After the transformation, there are 13341 samples and 10 features.\n"
      ]
    },
    {
      "cell_type": "code",
      "id": "fa546356-f1d7-40c8-afb3-15f67e97a669",
      "metadata": {},
      "outputs": [],
      "source": [
        "M_pr.shape"
      ]
    },
    {
      "cell_type": "markdown",
      "id": "3fb6d9a5-484c-46af-ba0b-e35193b32753",
      "metadata": {},
      "outputs": [],
      "source": [
        "### **Pipeline**\n"
      ]
    },
    {
      "cell_type": "markdown",
      "id": "81885394-14e7-4e06-a8b8-fc5003b9addf",
      "metadata": {},
      "outputs": [],
      "source": [
        "<p>Data Pipelines simplify the steps of processing the data. We use the module <b>Pipeline</b> to create a pipeline. We also use <b>StandardScaler</b> as a step in our pipeline.</p>\n"
      ]
    },
    {
      "cell_type": "markdown",
      "id": "cb375cb0-f533-4bc2-8214-e944981cff86",
      "metadata": {},
      "outputs": [],
      "source": [
        "We create the pipeline by creating a list of tuples including the name of the model or estimator and its corresponding constructor.\n"
      ]
    },
    {
      "cell_type": "code",
      "id": "d98783c7-7763-4405-9f39-9aa3c2087a2a",
      "metadata": {},
      "outputs": [],
      "source": [
        "Input=[('scale',StandardScaler()), ('polynomial', PolynomialFeatures(include_bias=False)), ('model',LinearRegression())]"
      ]
    },
    {
      "cell_type": "markdown",
      "id": "4583ab08-1410-4475-a05c-fed33db53397",
      "metadata": {},
      "outputs": [],
      "source": [
        "Let's set config to diagram mode, so we can display our pipeline."
      ]
    },
    {
      "cell_type": "code",
      "id": "f62d3a3c-ec15-4a92-97e9-9e695ba1e4e7",
      "metadata": {},
      "outputs": [],
      "source": [
        "set_config(display=\"diagram\")"
      ]
    },
    {
      "cell_type": "markdown",
      "id": "fc8b52c7-3cd9-4dd2-a996-1e20752916d4",
      "metadata": {},
      "outputs": [],
      "source": [
        "We input the list as an argument to the pipeline constructor:\n"
      ]
    },
    {
      "cell_type": "code",
      "id": "c758c2d0-23a0-4529-981f-c895be43ae0b",
      "metadata": {},
      "outputs": [],
      "source": [
        "pipe=Pipeline(Input)\npipe"
      ]
    },
    {
      "cell_type": "markdown",
      "id": "4d66b774-ef48-4786-942e-c0fe6f6bf799",
      "metadata": {},
      "outputs": [],
      "source": [
        "First, we convert the data type Z to type float to avoid conversion warnings that may appear as a result of StandardScaler taking float inputs.\n\nThen, we can normalize the data,  perform a transform and fit the model simultaneously.\n"
      ]
    },
    {
      "cell_type": "code",
      "id": "b7595d8b-33a0-4abd-bfab-f6ac40a29e2e",
      "metadata": {},
      "outputs": [],
      "source": [
        "M_train = M_train.astype(float)\npipe.fit(M_train,y_train)"
      ]
    },
    {
      "cell_type": "markdown",
      "id": "0e4db68d-6220-4293-ae42-49ba842562fe",
      "metadata": {},
      "outputs": [],
      "source": [
        "Similarly,  we can normalize the data, perform a transform and produce a prediction  simultaneously.\n"
      ]
    },
    {
      "cell_type": "code",
      "id": "4bb36516-f856-4cdf-8c71-8e0215f5abd6",
      "metadata": {},
      "outputs": [],
      "source": [
        "ypipe=pipe.predict(M_test)\nypipe[0:4]"
      ]
    },
    {
      "cell_type": "markdown",
      "id": "442b3cb1-6350-4b4d-92b4-b2ef256fba35",
      "metadata": {},
      "outputs": [],
      "source": [
        "<div class=\"alert alert-danger alertdanger\" style=\"margin-top: 20px\">\n  <b style=\"font-size: 2em; font-weight: bold;\"> Question #4:</b>\n\n  <b>Create a pipeline that standardizes the data, then produce a prediction using a linear regression model using the features Z and target y.</b>\n    \n</div>"
      ]
    },
    {
      "cell_type": "code",
      "id": "f24b4b40-3dee-4e53-b47e-04903490f4ef",
      "metadata": {},
      "outputs": [],
      "source": [
        "# Write your code below and press Shift+Enter to execute \n"
      ]
    },
    {
      "cell_type": "markdown",
      "id": "a8caa203-b949-4953-8824-e128fd5c2e98",
      "metadata": {},
      "outputs": [],
      "source": [
        "<details><summary>Click here for the solution</summary>\n\n```python\nInput=[('scale',StandardScaler()),('model',LinearRegression())]\n\npipe=Pipeline(Input)\n\npipe.fit(Z,y)\n\nypipe=pipe.predict(Z)\nypipe[0:10]\n\n```\n\n</details>\n"
      ]
    },
    {
      "cell_type": "markdown",
      "id": "330af1ce-8179-4f6b-abb1-f875552ab1ac",
      "metadata": {},
      "outputs": [],
      "source": [
        "## 4. Measures for In-Sample Evaluation\n"
      ]
    },
    {
      "cell_type": "markdown",
      "id": "a5962db4-9caf-4e10-99d1-01bcbd67bfa1",
      "metadata": {},
      "outputs": [],
      "source": [
        "<p>When evaluating our models, not only do we want to visualize the results, but we also want a quantitative measure to determine how accurate the model is.</p>\n\n<p>Important measures that are often used in Statistics to determine the accuracy of a model are:</p>\n<ul>\n    <li><b>$R^2$ / R-squared</b></li>\n    <li><b>Mean Squared Error (MSE)</b></li>\n    <li><b>Root Mean Squared Error (RMSE)</b></li>\n    <li><b>Mean absolute error (MAE)</b></li>\n</ul>\n"
      ]
    },
    {
      "cell_type": "markdown",
      "id": "9274044b-47f5-4771-80f7-1b4363e8dedf",
      "metadata": {},
      "outputs": [],
      "source": [
        "### Model 1: Simple Linear Regression\n"
      ]
    },
    {
      "cell_type": "markdown",
      "id": "0fd7a2bc-46e1-4841-8ea6-8ba970ab9576",
      "metadata": {},
      "outputs": [],
      "source": [
        "Let's calculate different metrics for linear regression model from previous section."
      ]
    },
    {
      "cell_type": "markdown",
      "id": "44c5196e-4577-40ff-81f7-1bb831cd8d7b",
      "metadata": {},
      "outputs": [],
      "source": [
        "**R-squared**\n\nR squared, also known as the coefficient of determination, is a **measure to indicate how close the data is to the fitted regression line**.\n\nThe value of the R-squared is the percentage of variation of the response variable (y) that is explained by a linear model."
      ]
    },
    {
      "cell_type": "markdown",
      "id": "5d9913af-59d9-4006-a1fc-cc8eeea92143",
      "metadata": {},
      "outputs": [],
      "source": [
        "Let's calculate the $R^2$:\n"
      ]
    },
    {
      "cell_type": "code",
      "id": "ef7a8645-9444-49b8-b0f3-4912becd493a",
      "metadata": {},
      "outputs": [],
      "source": [
        "# Find the R^2\nr2 = lm.score(X_test[['doge_avg_price']], y_test)\nprint(f\"The R-square is: {r2:.4f}\")"
      ]
    },
    {
      "cell_type": "markdown",
      "id": "e36dc395-254d-475a-8dfd-f49a6a537282",
      "metadata": {},
      "outputs": [],
      "source": [
        "We can say that \\~0.611% of the variation of the price is explained by this simple linear model \"horsepower_fit\".\n"
      ]
    },
    {
      "cell_type": "markdown",
      "id": "2899fa61-7f11-4b33-9e49-912d4242b359",
      "metadata": {},
      "outputs": [],
      "source": [
        "**Mean Squared Error**"
      ]
    },
    {
      "cell_type": "markdown",
      "id": "d52757ed-56d9-41b8-b262-56e97f25b5f4",
      "metadata": {},
      "outputs": [],
      "source": [
        "**MSE** is **the average squared difference between the predicted and actual values**(**the difference between actual value (y) and the estimated value (ŷ)**). Lower values indicate a better fit."
      ]
    },
    {
      "cell_type": "markdown",
      "id": "7b1f85ce-5715-44f4-b3d0-7e6ac43acb9d",
      "metadata": {},
      "outputs": [],
      "source": [
        "$$MSE = (1/n) * sum((\\hat{y} - y)^2)$$"
      ]
    },
    {
      "cell_type": "markdown",
      "id": "fb6596fb-2af9-4e6b-b39c-9533b0e5272a",
      "metadata": {},
      "outputs": [],
      "source": [
        "We are going to use 'y_hat' (predicted values that linear regression model gave us)."
      ]
    },
    {
      "cell_type": "markdown",
      "id": "782773c3-54e3-46ac-a178-bcfc1c2890a8",
      "metadata": {},
      "outputs": [],
      "source": [
        "Let's calculate the **Mean Squared Error (MSE)**:\n"
      ]
    },
    {
      "cell_type": "code",
      "id": "939ca427-cc8d-40f2-a946-b0f43f82e27e",
      "metadata": {},
      "outputs": [],
      "source": [
        "mse = mean_squared_error(y_test, y_hat)\nprint(f\"The mean square error of price and predicted value is: {mse:.4f}\")"
      ]
    },
    {
      "cell_type": "markdown",
      "id": "0adab3dd-40d0-402b-aa48-99c9e4340d83",
      "metadata": {},
      "outputs": [],
      "source": [
        "For more info on MSE refer to:\n1. [https://en.wikipedia.org/wiki/Mean_squared_error](https://en.wikipedia.org/wiki/Mean_squared_error)\n2. [https://statisticsbyjim.com/regression/mean-squared-error-mse/](https://statisticsbyjim.com/regression/mean-squared-error-mse/)"
      ]
    },
    {
      "cell_type": "markdown",
      "id": "af5ae93f-12d2-45d3-94f2-ce3bbf502b3e",
      "metadata": {},
      "outputs": [],
      "source": [
        "**Root Mean Squared Error**"
      ]
    },
    {
      "cell_type": "markdown",
      "id": "778e6165-d071-4a1a-95f3-a4e0e9477357",
      "metadata": {},
      "outputs": [],
      "source": [
        "It is easier to interpret RMSE than the MSE because it is in the same units as the target variable. A smaller RMSE indicates better accuracy of the predictions."
      ]
    },
    {
      "cell_type": "markdown",
      "id": "a5e6611c-a728-4339-a5a7-b0c34075b02e",
      "metadata": {},
      "outputs": [],
      "source": [
        "$$RMSE = \\sqrt{(1/n) * sum((\\hat{y} - y)^2)}$$"
      ]
    },
    {
      "cell_type": "markdown",
      "id": "e1acd15d-0bcc-402e-a485-82bc55fa9c5c",
      "metadata": {},
      "outputs": [],
      "source": [
        "Let's calculate **Root Mean Squared Error(RMSE)**:"
      ]
    },
    {
      "cell_type": "code",
      "id": "2dbff85c-76e2-4929-ae95-e6861323d660",
      "metadata": {},
      "outputs": [],
      "source": [
        "rmse = np.sqrt(mse)\nprint(f\"Root Mean Squared Error (RMSE): {rmse:.4f}\")"
      ]
    },
    {
      "cell_type": "markdown",
      "id": "dc11c92e-3371-4013-ae1e-a5c8a81c8899",
      "metadata": {},
      "outputs": [],
      "source": [
        "For more info on RMSE refer to:\n\n1. [https://en.wikipedia.org/wiki/Root-mean-square_deviation#:~:text=The%20root%2Dmean%2Dsquare%20deviation,estimator%20and%20the%20values%20observed](https://en.wikipedia.org/wiki/Root-mean-square_deviation#:~:text=The%20root%2Dmean%2Dsquare%20deviation,estimator%20and%20the%20values%20observed)\n2. [https://www.statisticshowto.com/probability-and-statistics/regression-analysis/rmse-root-mean-square-error/](https://www.statisticshowto.com/probability-and-statistics/regression-analysis/rmse-root-mean-square-error/)"
      ]
    },
    {
      "cell_type": "markdown",
      "id": "2c7d5443-f2ce-4372-bd71-ae5d96dec169",
      "metadata": {},
      "outputs": [],
      "source": [
        "**Mean Absolute Error(MAE)**"
      ]
    },
    {
      "cell_type": "markdown",
      "id": "aeb65dcd-d458-4297-a940-b8583ea28cd0",
      "metadata": {},
      "outputs": [],
      "source": [
        "$$MAE = (1/n) * sum(|\\hat{y} - y|)$$"
      ]
    },
    {
      "cell_type": "code",
      "id": "67d6270c-14cf-42de-9762-41ab40eada36",
      "metadata": {},
      "outputs": [],
      "source": [
        "mae = mean_absolute_error(y_test, y_hat)"
      ]
    },
    {
      "cell_type": "markdown",
      "id": "2a9a1786-4fe5-443f-9513-72d8560c717b",
      "metadata": {},
      "outputs": [],
      "source": [
        "Let's output previously calculated metrics: "
      ]
    },
    {
      "cell_type": "code",
      "id": "67cc9f8b-3c7a-4f2a-a132-f8f8f75a85b0",
      "metadata": {},
      "outputs": [],
      "source": [
        "print(f\" R2: {r2:.4f}\\n MSE: {mse:.4f}\\n RMSE: {rmse:.4f}\\n MAE: {mae:.4f}\")"
      ]
    },
    {
      "cell_type": "markdown",
      "id": "46587140-82c8-4627-8573-ac31b6b04937",
      "metadata": {},
      "outputs": [],
      "source": [
        "For more info on MAE refer to:\n1. [https://en.wikipedia.org/wiki/Mean_absolute_error](https://en.wikipedia.org/wiki/Mean_absolute_error)"
      ]
    },
    {
      "cell_type": "markdown",
      "id": "b46625fd-40b8-4fc8-8b2e-e69f89ed9d32",
      "metadata": {},
      "outputs": [],
      "source": [
        "If you remember we used `statsmodels` previously for linear regression, and we also said that you will see the difference later. "
      ]
    },
    {
      "cell_type": "markdown",
      "id": "568a59aa-af70-4e4b-b2f8-097998620b65",
      "metadata": {},
      "outputs": [],
      "source": [
        "In model we trained with `statsmodels` we can easily retrieve many metrics:"
      ]
    },
    {
      "cell_type": "code",
      "id": "8a1f194d-5f56-46b4-a48c-cd976490f911",
      "metadata": {},
      "outputs": [],
      "source": [
        "stats_lm.summary()"
      ]
    },
    {
      "cell_type": "code",
      "id": "25b0157c-b681-4932-a911-786a3da0de81",
      "metadata": {},
      "outputs": [],
      "source": [
        "# because we will calculate the same metrics for other models let's create method\ndef get_metrics(y_real, y_pred) -> tuple:\n    \"\"\"\n    :returns tuple of metrics(MSE, RMSE, MAE)\n    \"\"\"\n    mse = mean_squared_error(y_real, y_pred)\n    rmse = np.sqrt(mse)\n    mae = mean_squared_error(y_real, y_pred)\n    return mse, rmse, mae"
      ]
    },
    {
      "cell_type": "markdown",
      "id": "fb7093e7-c419-449e-9356-040db6a7a3ff",
      "metadata": {},
      "outputs": [],
      "source": [
        "### Model 2: Multiple Linear Regression\n"
      ]
    },
    {
      "cell_type": "markdown",
      "id": "6753fcfb-c363-448d-93d4-437c34b8ffa0",
      "metadata": {},
      "outputs": [],
      "source": [
        "Let's calculate the $R^2$:\n"
      ]
    },
    {
      "cell_type": "code",
      "id": "1c69db16-30e0-4906-bec1-c0318eebb172",
      "metadata": {},
      "outputs": [],
      "source": [
        "# Find the R^2\nr2 = mult_lm.score(M_test, y_test)\nprint(f\"The R-square is: {r2:.4f}\")"
      ]
    },
    {
      "cell_type": "markdown",
      "id": "4dbc7c1b-c8a4-48cc-815d-f2a47a3160b6",
      "metadata": {},
      "outputs": [],
      "source": [
        "We can say that \\~0.8152 % of the variation of price is explained by this multiple linear regression \"multi_fit\".\n"
      ]
    },
    {
      "cell_type": "markdown",
      "id": "5c46d119-0298-49fe-9fe7-5451e5430254",
      "metadata": {},
      "outputs": [],
      "source": [
        "As you can remember we store predictions for this model in mult_y_hat:"
      ]
    },
    {
      "cell_type": "code",
      "id": "35187215-b828-4229-bcc7-0f2bbd908139",
      "metadata": {},
      "outputs": [],
      "source": [
        "mult_y_hat"
      ]
    },
    {
      "cell_type": "markdown",
      "id": "d8a5604b-f1d0-45cb-8acb-20b5d04676bb",
      "metadata": {},
      "outputs": [],
      "source": [
        "Let's calculate our metrics(MSE, RMSE, MAE)"
      ]
    },
    {
      "cell_type": "code",
      "id": "b14221bd-c240-4541-8f2e-a2dfeb982a73",
      "metadata": {},
      "outputs": [],
      "source": [
        "mse, rmse, mae = get_metrics(y_test, mult_y_hat)"
      ]
    },
    {
      "cell_type": "markdown",
      "id": "d98e8b42-e41f-4a73-8f57-80a76b8094ca",
      "metadata": {},
      "outputs": [],
      "source": [
        "Let's output our metrics:"
      ]
    },
    {
      "cell_type": "code",
      "id": "bbeba46d-650f-4700-b531-3369aca1265a",
      "metadata": {},
      "outputs": [],
      "source": [
        "print(f\" R2: {r2:.4f}\\n MSE: {mse:.4f}\\n RMSE: {rmse:.4f}\\n MAE: {mae:.4f}\") # 4 float poinrts"
      ]
    },
    {
      "cell_type": "markdown",
      "id": "2693119e-d459-48e9-a09a-e7f36dd243e5",
      "metadata": {},
      "outputs": [],
      "source": [
        "### Model 3: Polynomial Fit\n"
      ]
    },
    {
      "cell_type": "markdown",
      "id": "da9e62ed-355a-4df7-954f-00d1d7dede41",
      "metadata": {},
      "outputs": [],
      "source": [
        "Let's calculate the $R^2$:\n"
      ]
    },
    {
      "cell_type": "markdown",
      "id": "e7e76fe0-cb56-4b70-918d-69413336f284",
      "metadata": {},
      "outputs": [],
      "source": [
        "We apply the function to get the value of **$R^2$**:\n"
      ]
    },
    {
      "cell_type": "code",
      "id": "52557f4c-b2bb-45a0-bc75-6fab7a7ceba7",
      "metadata": {},
      "outputs": [],
      "source": [
        "pol_y_hat = p(xp_test)\nr_squared = r2_score(yp_test, pol_y_hat)\nprint(f\"The R-square value is: {r_squared:.4f}\")"
      ]
    },
    {
      "cell_type": "markdown",
      "id": "1e7e9e74-8725-4f31-a476-f962768d9100",
      "metadata": {},
      "outputs": [],
      "source": [
        "We can say that \\~0.77 % of the variation of price is explained by this polynomial fit.\n"
      ]
    },
    {
      "cell_type": "markdown",
      "id": "091c883d-0cb1-4444-a1ff-e90048573eba",
      "metadata": {},
      "outputs": [],
      "source": [
        "We can also calculate the **MSE**:\n"
      ]
    },
    {
      "cell_type": "code",
      "id": "d0012d2f-53d8-4e9e-9941-24595a586839",
      "metadata": {},
      "outputs": [],
      "source": [
        "mse = mean_squared_error(yp_test, pol_y_hat)\n\nmse, rmse, mae = get_metrics(yp_test, p(xp_test))"
      ]
    },
    {
      "cell_type": "markdown",
      "id": "09f4e415-c8a5-4dce-aadc-7ff0b1aad961",
      "metadata": {},
      "outputs": [],
      "source": [
        "Let's output our metrics:"
      ]
    },
    {
      "cell_type": "code",
      "id": "a614dcd8-ab99-4084-a2e1-f2e4fa2a985a",
      "metadata": {},
      "outputs": [],
      "source": [
        "print(f\" R2: {r2:.4f}\\n MSE: {mse:.4f}\\n RMSE: {rmse:.4f}\\n MAE: {mae:.4f}\")"
      ]
    },
    {
      "cell_type": "markdown",
      "id": "2b8cfadb-4b42-4119-9286-5ad6f999094c",
      "metadata": {},
      "outputs": [],
      "source": [
        "### Simple Linear Regression Model (SLR) vs Multiple Linear Regression Model (MLR)\n"
      ]
    },
    {
      "cell_type": "markdown",
      "id": "d318e397-4310-4fcd-8d2b-08c2567a7643",
      "metadata": {},
      "outputs": [],
      "source": [
        "Usually, the more variables you have, the better your model is at predicting, but this is not always true. Sometimes you may not have enough data, you may run into numerical problems, or many of the variables may not be useful and even act as noise. As a result, you **should always check the MSE, RMSE, $R^2$,  MAE**."
      ]
    },
    {
      "cell_type": "markdown",
      "id": "26b500d8-fbe4-4326-8381-38f802f685c9",
      "metadata": {},
      "outputs": [],
      "source": [
        "<h2>Conclusion</h2>\n"
      ]
    },
    {
      "cell_type": "markdown",
      "id": "102a5423-76ff-4ba6-86ca-ed57db0625e7",
      "metadata": {},
      "outputs": [],
      "source": [
        "Comparing these three models, we conclude that **the MLR model is the best model to be able to predict price from our dataset**.\n"
      ]
    },
    {
      "cell_type": "markdown",
      "id": "b8e407e4-ba15-4895-a813-ed9e81c178cf",
      "metadata": {},
      "outputs": [],
      "source": [
        "# **Thank you for completing Lab 4!**\n\n## Authors\n\n<a href=\"https://author.skills.network/instructors/nazar_kohut\">Nazar Kohut</a>\n\n<a href=\"https://author.skills.network/instructors/yaroslav_vyklyuk_2?utm_medium=Exinfluencer&utm_source=Exinfluencer&utm_content=000026UJ&utm_term=10006555&utm_id=NA-SkillsNetwork-Channel-SkillsNetworkGuidedProjectsIBMSkillsNetworkGPXX0QGDEN2306-2023-01-01\">Prof. Yaroslav Vyklyuk, DrSc, PhD</a>\n\n<a href=\"https://author.skills.network/instructors/mariya_fleychuk?utm_medium=Exinfluencer&utm_source=Exinfluencer&utm_content=000026UJ&utm_term=10006555&utm_id=NA-SkillsNetwork-Channel-SkillsNetworkGuidedProjectsIBMSkillsNetworkGPXX0QGDEN2306-2023-01-01\">Prof. Mariya Fleychuk, DrSc, PhD</a>\n\n\n## Change Log\n\n| Date (YYYY-MM-DD) | Version | Changed By   | Change Description                                         |\n| ----------------- | ------- | -------------| ---------------------------------------------------------- |\n|     2023-18-03    |   1.0   | Nazar Kohut  | Lab created                                                |\n\n<hr>\n\n## <h3 align=\"center\"> © IBM Corporation 2023. All rights reserved. <h3/>"
      ]
    }
  ],
  "metadata": {
    "language_info": {
      "name": ""
    },
    "kernelspec": {
      "name": "",
      "display_name": ""
    }
  },
  "nbformat": 4,
  "nbformat_minor": 4
}