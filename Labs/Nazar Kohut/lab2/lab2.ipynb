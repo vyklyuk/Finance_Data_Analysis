{
  "cells": [
    {
      "cell_type": "markdown",
      "id": "22ae5c53-a780-495f-846a-f3c0fdc50ef0",
      "metadata": {},
      "outputs": [],
      "source": [
        "<center>\n    <img src=\"https://cf-courses-data.s3.us.cloud-object-storage.appdomain.cloud/IBMSkillsNetwork-GPXX04M1EN/SN_web_lightmode.png?1677234044475\" width=\"300\" alt=\"cognitiveclass.ai logo\"  />\n</center>\n\n# Financial Services: on the example of BTC/BUSD\n\n# Lab 2. Data Wrangling \n\nEstimated time needed: **30** minutes\n\n\n The tasks:\n* To find empty cells and handle missing values;\n* Analyze data format, find the wrong format and correct data format;\n* Standardize and normalize data series.\n\n## Objectives\n\nAfter completing this lab you will be able to:\n\n*   Handle missing values\n*   Correct data format\n*   Standardize and normalize data\n"
      ]
    },
    {
      "cell_type": "markdown",
      "id": "9fe97cd2-ed0c-44f4-b0aa-116c305257d1",
      "metadata": {},
      "outputs": [],
      "source": [
        "<h2>Table of Contents</h2>\n\n<div class=\"alert alert-block alert-info\" style=\"margin-top: 20px\">\n<ul>\n    <li><u>Identify and handle missing values</u>\n        <ul>\n            <li><u>Identify missing values</u></li>\n            <li><u>Deal with missing values</u></li>\n            <li><u>Correct data format</u></li>\n        </ul>\n    </li>\n    <li><u>Data standardization</u></li>\n    <li><u>Data normalization (centering/scaling)</u></li>\n    <li><u>Binning</u></li>\n    <li><u>Indicator variable</u></li>\n</ul>\n\n</div>\n\n<hr>\n"
      ]
    },
    {
      "cell_type": "markdown",
      "id": "7ce6e8d9-0129-4e3e-91c6-9ea7b36f45d8",
      "metadata": {},
      "outputs": [],
      "source": [
        "#### ***Dataset description***\n\nThe dataset used in this lab contains time-series data on various attributes related to Bitcoin (BTC) and other cryptocurrencies, aggregated at 1-minute intervals. The dataset index represents the time period for which the data is reported(1 minute).\n\n<hr>\n\n**Attributes:**\n\n* ***General:***\n    * `open` - the opening price of a **BTC** during a specific time period.\n    * `high` - the highest price of a **BTC** during a specific time period.\n    * `low` - the lowest price of a **BTC** during a specific time period.\n    * `close` - the closing price of a **BTC** during a specific time period.\n    * `rec_count` - the number of records or data points in the dataset for a given time period.\n    * `volume` - the total amount of trading activity (buying and selling) for a **BTC** during a specific time period.\n    * `avg_price` - the average price of a **BTC** during a specific time period.\n\n\n* ***Indicators***\n    * `ADOSC` - an indicator used in technical analysis to measure the momentum of buying and selling pressure for ***Bitcoin***.\n    * `NATR` - an indicator used in technical analysis to measure the volatility of ***Bitcoin***.\n    * `TRANGE` - an indicator used in technical analysis to measure the range of prices (from high to low) for ***Bitcoin*** during a specific time period.\n\n\n* ***Other cryptocurrencies:***\n    * `ape_avg_price` - the average price of ***APE*** during a specific time period.\n    * `bnb_avg_price` - the average price of ***BNB*** during a specific time period.\n    * `doge_avg_price` - the average price of ***DOGE coin*** during a specific time period.\n    * `eth_avg_price` - the average price of ***Ethereum*** during a specific time period.\n    * `xrp_avg_price` - the average price of ***XRP*** during a specific time period.\n    * `matic_avg_price` - the average price of ***MATIC*** during a specific time period.\n\n<hr>\n\n*The indicators `ADOSC`, `NATR`, and `TRANGE` are used in technical analysis to provide insights into the momentum, volatility, and price ranges of financial instruments or assets. The other attributes represent the average prices of different cryptocurrencies during a specific time period.*\n\n<hr>"
      ]
    },
    {
      "cell_type": "markdown",
      "id": "2d2cc8b2-2582-490c-b8c2-2f2533a68a31",
      "metadata": {},
      "outputs": [],
      "source": [
        "## What is the purpose of data wrangling?\n"
      ]
    },
    {
      "cell_type": "markdown",
      "id": "d89fce14-e330-427a-8fec-d072ca8efbc3",
      "metadata": {},
      "outputs": [],
      "source": [
        "Data wrangling is the process of converting data from the initial format to a format that may be better for analysis.\n"
      ]
    },
    {
      "cell_type": "markdown",
      "id": "d47ac71a-8e2c-4de7-9e49-32469860bbec",
      "metadata": {},
      "outputs": [],
      "source": [
        "### What is the average coin cost in USDT?\n"
      ]
    },
    {
      "cell_type": "markdown",
      "id": "931643f1-e537-4f25-9ae0-8972ca32dfb6",
      "metadata": {},
      "outputs": [],
      "source": [
        "### Import data\n<p>\nYou can find the \"Finance Dataset\" from the following link: <a href=\"https://cf-courses-data.s3.us.cloud-object-storage.appdomain.cloud/IBMSkillsNetwork-GPXX04M1EN/BTCBUSD_resampled_1min.csv\"> https://cf-courses-data.s3.us.cloud-object-storage.appdomain.cloud/IBMSkillsNetwork-GPXX04M1EN/BTCBUSD_resampled_1min.csv</a>. \nWe will be using this dataset throughout this course.\n</p>\n"
      ]
    },
    {
      "cell_type": "markdown",
      "id": "ea807f31-0396-4fac-9ab4-79842380f581",
      "metadata": {},
      "outputs": [],
      "source": [
        "##### Install and import libraries\n"
      ]
    },
    {
      "cell_type": "code",
      "id": "be5d873a-f1e2-45b0-af91-e86c67fd67d3",
      "metadata": {},
      "outputs": [],
      "source": [
        "!pip install pandas\n!pip install numpy\n!pip install matplotlib\n!pip install scipy\n!pip install seaborn\n!pip install scikit-learn --y\n!pip install --upgrade scikit-learn"
      ]
    },
    {
      "cell_type": "markdown",
      "id": "c7f761e3-913c-4839-b1b3-686dbc300d2d",
      "metadata": {},
      "outputs": [],
      "source": [
        "Now, let's import libraries that we will use"
      ]
    },
    {
      "cell_type": "code",
      "id": "683942c5-397f-4ba9-9555-6de119de7537",
      "metadata": {},
      "outputs": [],
      "source": [
        "import pandas as pd\nimport matplotlib.pylab as plt\nimport numpy as np\nimport warnings\nimport requests\n\nfrom sklearn.preprocessing import MinMaxScaler\nfrom typing import List, Tuple\n%matplotlib inline \nimport matplotlib as plt\nfrom matplotlib import pyplot\n"
      ]
    },
    {
      "cell_type": "markdown",
      "id": "032d44bf-8348-4b0b-8ae3-4db70b872d56",
      "metadata": {},
      "outputs": [],
      "source": [
        "### Reading the dataset from the URL and adding the related headers\n"
      ]
    },
    {
      "cell_type": "code",
      "id": "4d0738ba-4a6c-49a4-8025-6df361dcbd6f",
      "metadata": {},
      "outputs": [],
      "source": [
        "filename = 'https://cf-courses-data.s3.us.cloud-object-storage.appdomain.cloud/IBMSkillsNetwork-GPXX04M1EN/BTCBUSD_resampled_1min.csv'"
      ]
    },
    {
      "cell_type": "markdown",
      "id": "b7c78b9a-18ff-48e8-a581-f724f7e62caf",
      "metadata": {},
      "outputs": [],
      "source": [
        "Use the Pandas method <b>read_csv()</b> to load the data from the web address.\nOur dataset contains index column which is the first column, and headers, so we will set the parameter <code>index_col=0</code> to use first column as index columns.\n"
      ]
    },
    {
      "cell_type": "code",
      "id": "0014b391-649e-469f-8b08-921251f09bbe",
      "metadata": {},
      "outputs": [],
      "source": [
        "df = pd.read_csv(filename, index_col='ts')\ndf.index = pd.to_datetime(df.index)"
      ]
    },
    {
      "cell_type": "markdown",
      "id": "a6df754c-ce71-41d8-b78f-c7ebcea254ac",
      "metadata": {},
      "outputs": [],
      "source": [
        "Use the method <b>head()</b> to display the first five rows of the dataframe.\n"
      ]
    },
    {
      "cell_type": "code",
      "id": "d0ea0c4a-f447-4ec5-809c-c1ed527ed740",
      "metadata": {},
      "outputs": [],
      "source": [
        "# To see what the data set looks like, we'll use the head() method.\ndf.head(15)"
      ]
    },
    {
      "cell_type": "markdown",
      "id": "c37c9c88-0974-4bfe-84ce-d96cae1001be",
      "metadata": {},
      "outputs": [],
      "source": [
        "Let's make a copy of our input dataframe(we will need it later)."
      ]
    },
    {
      "cell_type": "code",
      "id": "2e928966-3a9e-435e-b599-f9e7f04c59cb",
      "metadata": {},
      "outputs": [],
      "source": [
        "df_copy = df.copy()"
      ]
    },
    {
      "cell_type": "markdown",
      "id": "20c8da8d-9cdc-40e9-8f43-be9c42afdff6",
      "metadata": {},
      "outputs": [],
      "source": [
        "Using <code>shape</code> to retrieve number of rows and columns"
      ]
    },
    {
      "cell_type": "code",
      "id": "15fc8018-56e6-4e85-81c6-fd33952feda7",
      "metadata": {},
      "outputs": [],
      "source": [
        "df.shape"
      ]
    },
    {
      "cell_type": "markdown",
      "id": "a2852a95-fac9-42a2-8154-3c7eb45054dc",
      "metadata": {},
      "outputs": [],
      "source": [
        "Using <code>count</code> to retrieve number of rows that do not have <count>nan</count> values."
      ]
    },
    {
      "cell_type": "code",
      "id": "b8e70cb9-6fbd-46dd-ba96-737746624f4b",
      "metadata": {},
      "outputs": [],
      "source": [
        "df.count()"
      ]
    },
    {
      "cell_type": "markdown",
      "id": "0ae53fda-2740-4989-90ce-4085e94facec",
      "metadata": {},
      "outputs": [],
      "source": [
        "As we can see, our dataset almost does not have missing values(except indicators and few ohlc values), but in the real world, it is not always like this; more often, our datasets need some preprocessing to be done. So for the sake of this exercise, we will create missing values and wrong values and then learn how to work with such data."
      ]
    },
    {
      "cell_type": "markdown",
      "id": "09412d0d-ed71-4899-be4c-7d858312abbe",
      "metadata": {},
      "outputs": [],
      "source": [
        "So let's add some negative values first."
      ]
    },
    {
      "cell_type": "markdown",
      "id": "5309b09c-db3a-4e84-b79d-662e71afc936",
      "metadata": {},
      "outputs": [],
      "source": [
        "But before that, let's create <code>raise_warning</code> method that has common warning messages and will be used to warn the user that missing values already exist in the data frame, it helps in ensuring that we won't generate to many <code>NAN</code> values."
      ]
    },
    {
      "cell_type": "code",
      "id": "83a5d0e6-e2cc-493d-9fc9-1d8ac3bfc7cd",
      "metadata": {},
      "outputs": [],
      "source": [
        "def raise_warning(column: str, type: str = 'negative'): \n  \"\"\"Common warning function used to raise warnings that some values are already in our column\"\"\"\n  warning_error: str = f'Column {column} already has some {type} values! '\n  warning_message: str = f'Column {column} was not changed'\n  warning_note: str = f'Note: columns listed before {column} where changed!'        \n  warnings.warn(warning_error + \n                warning_message + \n                warning_note)\n"
      ]
    },
    {
      "cell_type": "markdown",
      "id": "c63e05b3-4a51-4a4c-b4d0-2f4646775802",
      "metadata": {},
      "outputs": [],
      "source": [
        "Now let's define list of columns that will contain negative values"
      ]
    },
    {
      "cell_type": "code",
      "id": "b415db6c-8a67-460c-bf51-70765dbe0c1a",
      "metadata": {},
      "outputs": [],
      "source": [
        "# columns which will have negative values\ncolumns_to_add_negative_values = [('volume', 0.75), ('rec_count', 0.002)]"
      ]
    },
    {
      "cell_type": "markdown",
      "id": "7767e9f9-2a7f-41f8-9a13-b6d7113aa014",
      "metadata": {},
      "outputs": [],
      "source": [
        "The only thing left it to implement method to add negative values into our `dataFrame`."
      ]
    },
    {
      "cell_type": "code",
      "id": "ae64e35f-9b20-4526-b54c-469e33bb3245",
      "metadata": {},
      "outputs": [],
      "source": [
        "def has_negative_values(df: pd.DataFrame, \n                       column: str) -> bool:\n  \"\"\"Checks if dataframe column has negative values\n    :param df is a dataframe with the column we want to check\n    :param column is the name of the column\n  \"\"\"         \n  tmp_column = df[column].where(df[column] >= 0)\n  return tmp_column.isna().sum() > 0\n\n\ndef create_negative_values(df: pd.DataFrame, \n                     columns: List[Tuple[str, int or float]]) ->  pd.DataFrame:\n  \"\"\"Adds negative values into specific columns of the dataframe if they \n     do not contain negative values already.\n    :param df is a dataframe where you want to add some negative values\n    :param columns is a list of column names and probabilities of each \n           cell becoming negative value\n           Example: [('first_column', .5), ('second_column', .1)]\n    :return updated dataframe or old dataframe \n            if negative values already exist in one of the columns\n  \"\"\"\n  for column, percentage in columns:\n    if has_negative_values(df, column):\n      raise_warning(column)\n      return df\n    column_shape = df[column].shape\n    condition_df = np.random.random(column_shape) < percentage\n    df[column] = np.where(condition_df, -df[column], df[column])\n  return df\n  "
      ]
    },
    {
      "cell_type": "markdown",
      "id": "ae6396a7-be69-453f-bb36-f8b366888c18",
      "metadata": {},
      "outputs": [],
      "source": [
        "Now, let's add negative values to our columns."
      ]
    },
    {
      "cell_type": "code",
      "id": "88e0e2b2-79ae-4dcc-82ed-11339f390e87",
      "metadata": {},
      "outputs": [],
      "source": [
        "df = create_negative_values(df, columns_to_add_negative_values)"
      ]
    },
    {
      "cell_type": "code",
      "id": "456d6f50-6924-46f3-8d63-1f6b83c6a3b1",
      "metadata": {},
      "outputs": [],
      "source": [
        "df.head(50)"
      ]
    },
    {
      "cell_type": "markdown",
      "id": "a6d164c5-b122-42f1-ad32-7c3b6a84a024",
      "metadata": {},
      "outputs": [],
      "source": [
        "Sometimes some columns may be of one type, but represented as absolutely different type that is not convinient for us. Let's change types of some columns to 'wrong' types."
      ]
    },
    {
      "cell_type": "code",
      "id": "10e2a6f1-a3d1-4ac4-a1e6-69a7aef7fc88",
      "metadata": {},
      "outputs": [],
      "source": [
        "df = df.astype({'open': 'string', 'close': 'string', 'volume': 'string'})"
      ]
    },
    {
      "cell_type": "markdown",
      "id": "d72bacc2-1408-43a5-9b71-8190053ab3c7",
      "metadata": {},
      "outputs": [],
      "source": [
        "Let's see the dataframe types to make sure everything worked as expected"
      ]
    },
    {
      "cell_type": "code",
      "id": "48b4bd06-d69f-4f4c-b14f-b309b042ebb5",
      "metadata": {},
      "outputs": [],
      "source": [
        "df.dtypes"
      ]
    },
    {
      "cell_type": "markdown",
      "id": "5c0f025e-25ec-4ee5-8851-fba6529585cf",
      "metadata": {},
      "outputs": [],
      "source": [
        "<b>Now, let's add missing values</b>\n\nWe will use the question mark '?' for the missing values. To replace some values <code>mask</code> method will be used. This method takes condition dataframe, which is a dataframe of boolean values for each cell. Parameter <code>other</code> specifies value that will be inserted."
      ]
    },
    {
      "cell_type": "code",
      "id": "793a3a80-1302-45a1-a107-54e434e9daec",
      "metadata": {},
      "outputs": [],
      "source": [
        "def has_missing_values(df: pd.DataFrame, \n                       column: str, \n                       missing_value: str) -> bool:\n  \"\"\"Checks if dataframe column has missing values\n    :param df is a dataframe with the column we want to check\n    :param column is the name of the column\n    :param missing_value specifies value that is considered to be a\n           missing value\n  \"\"\"         \n  tmp_column = df[column].replace(missing_value, np.nan)\n  return tmp_column.isna().sum() > 0\n\ndef add_missing_data(df: pd.DataFrame, \n                     columns: List[Tuple[str, int or float]],\n                     missing_value: str ='?') -> pd.DataFrame:\n  \"\"\"Adds missing values into specific columns of the dataframe if they \n     do not contain missing values already\n    :param df is a dataframe where you want to add some missing value\n    :param columns is a list of column names and probabilities of each \n           cell being replaced by a missing value\n           Example: [('first_column', .5), ('second_column', .1)]\n    :param missing_value specifies value that is \n           considered to be a missing value\n    :return updated dataframe\n  \"\"\"\n  for column, percentage in columns:\n    if has_missing_values(df, column, missing_value):\n      raise_warning(column, type='missing')\n      return df\n    column_shape = df[column].shape\n    condition_df = np.random.random(column_shape) < percentage\n    df[column] = df[column].mask(condition_df, other=missing_value)\n  return df"
      ]
    },
    {
      "cell_type": "markdown",
      "id": "757826cd-cccc-4277-9549-d8b2236ca0a3",
      "metadata": {},
      "outputs": [],
      "source": [
        "Let's create an array of columns that are going to have some missing values(in our case '?')."
      ]
    },
    {
      "cell_type": "code",
      "id": "350cf74e-5f5b-4434-9ec5-856a9ebd0c29",
      "metadata": {},
      "outputs": [],
      "source": [
        "columns_to_add_missing_data = [('volume', 0.015), ('rec_count', 0.02)]"
      ]
    },
    {
      "cell_type": "markdown",
      "id": "2e1486ff-9784-4025-8abc-12c3f9b2d72b",
      "metadata": {},
      "outputs": [],
      "source": [
        "Make sure to run the below code once, as running one more time won't change the dataframe, but will cause warning."
      ]
    },
    {
      "cell_type": "code",
      "id": "247b3411-8c60-4e4e-9000-3b730700fd4f",
      "metadata": {},
      "outputs": [],
      "source": [
        "df = add_missing_data(df, columns_to_add_missing_data)"
      ]
    },
    {
      "cell_type": "code",
      "id": "ceb0a8ff-9b52-4537-96a1-8628cc611c20",
      "metadata": {},
      "outputs": [],
      "source": [
        "df.head(50)"
      ]
    },
    {
      "cell_type": "markdown",
      "id": "0c5f888b-d709-4c7f-ae0e-18da80418735",
      "metadata": {},
      "outputs": [],
      "source": [
        "As we can see, our dataframe is more realistic now and has wrong values, types and several question marks in the dataframe(those are missing values which may hinder our further analysis). Now, we can learn how to work with such data.\n"
      ]
    },
    {
      "cell_type": "markdown",
      "id": "d5736ff5-f9e3-4692-990b-58140cadd42e",
      "metadata": {},
      "outputs": [],
      "source": [
        "<i><b>So, how do we identify all those missing values and deal with them?</b></i>\n\n<b>How to work with missing data?</b>\n\nSteps for working with missing data:\n\n<ol>\n    <li>Identify missing data</li>\n    <li>Deal with missing data</li>\n    <li>Correct data format</li>\n</ol>\n\n<i><b>How do we identify all the dirty values; how to deal with them?</b></i>\n\n<b>How to work with dirty data?</b>\n\nSteps for working with dirty data:\n\n<ol>\n    <li>Identify columns with dirty data</li>\n    <li>Deal with dirty data</li>\n    <li>Correct data format</li>\n</ol>"
      ]
    },
    {
      "cell_type": "markdown",
      "id": "3c37fb42-576d-4a31-bc4a-8d3739b3acba",
      "metadata": {},
      "outputs": [],
      "source": [
        "## Identify and handle missing values"
      ]
    },
    {
      "cell_type": "markdown",
      "id": "a434940a-3335-4b4d-984b-4b3ebb6e2ab7",
      "metadata": {},
      "outputs": [],
      "source": [
        "### Identify missing values\n\n#### Convert \"?\" to NaN\n\nIn our dataset, missing data comes with the question mark \"?\".\nSo let's replace \"?\" with NaN (Not a Number), Python's default missing value marker for reasons of computational speed and convenience. Here we use the function: \n `.replace(A, B, inplace = True)`\nto replace `A` by `B`.\nDoing so enables us to use convinient pandas methods for working with missing data(You can find them few cells below)"
      ]
    },
    {
      "cell_type": "code",
      "id": "ed059485-3421-49f1-aaaf-58cbedbaded2",
      "metadata": {},
      "outputs": [],
      "source": [
        "df.replace('?', np.nan, inplace=True)\ndf.head(50)"
      ]
    },
    {
      "cell_type": "code",
      "id": "a6d254ea-e219-41c9-98b0-3b0031f267e2",
      "metadata": {},
      "outputs": [],
      "source": [
        "df.dtypes"
      ]
    },
    {
      "cell_type": "markdown",
      "id": "8cad6482-34ae-4bfb-ae7e-9e0d4bf9e5c5",
      "metadata": {},
      "outputs": [],
      "source": [
        "##### Evaluating for Missing Data\n\nThe missing values are converted by default. We use the following functions to identify these missing values. There are two methods to detect missing data:\n\n<ol>\n    <li><b>.isnull()</b></li>\n    <li><b>.notnull()</b></li>\n</ol>\nThe output is a boolean value indicating whether the value that is passed into the argument is in fact missing data.\n"
      ]
    },
    {
      "cell_type": "code",
      "id": "d6f9cbe6-c178-4e7d-8962-e03205456dcb",
      "metadata": {},
      "outputs": [],
      "source": [
        "missing_data = df.isnull()\nmissing_data.head(50)"
      ]
    },
    {
      "cell_type": "markdown",
      "id": "37ca4eaf-f304-4cf5-a775-99c12d4286a8",
      "metadata": {},
      "outputs": [],
      "source": [
        "`True` means the value is a missing value while `False` means the value is not a missing value.\n"
      ]
    },
    {
      "cell_type": "markdown",
      "id": "b8990a16-5050-4472-a676-76c531616140",
      "metadata": {},
      "outputs": [],
      "source": [
        "##### Count missing values in each column\n\nUsing a for loop in Python, we can quickly figure out the number of missing values in each column. As mentioned above, `True` represents a missing value and `False` means the value is present in the dataset.  In the body of the for loop the method `.value_counts()` counts the number of `True` values.\n"
      ]
    },
    {
      "cell_type": "code",
      "id": "736dc78c-8723-4985-8017-6d3c5043e59b",
      "metadata": {},
      "outputs": [],
      "source": [
        "for column in missing_data.columns.values.tolist():\n    print(column)\n    print (missing_data[column].value_counts())\n    print('')    "
      ]
    },
    {
      "cell_type": "markdown",
      "id": "2679415a-028f-45c4-b0f3-30da50c37e1e",
      "metadata": {},
      "outputs": [],
      "source": [
        "Based on the summary above, you can analyze how many cells have a missing data. Number near True is number of cells with missing values, vice versa for False.\n"
      ]
    },
    {
      "cell_type": "markdown",
      "id": "9517ad38-20af-445d-820f-258f5ee87d59",
      "metadata": {},
      "outputs": [],
      "source": [
        "### Deal with missing data"
      ]
    },
    {
      "cell_type": "markdown",
      "id": "ddb29b2c-76f8-4464-b879-7c850a0c0de2",
      "metadata": {},
      "outputs": [],
      "source": [
        "**How to deal with missing data?**\n\n<ol>\n    <li>Drop data<br>\n        a. Drop the whole row<br>\n        b. Drop the whole column\n    </li>\n    <li>Replace data<br>\n        a. Replace it by mean<br>\n        b. Replace it by frequency<br>\n        c. Replace it based on other functions<br>\n        d. Replace it by imputed value\n    </li>\n</ol>\n"
      ]
    },
    {
      "cell_type": "markdown",
      "id": "34ec0099-aa36-4ccd-b03f-dba38577ab63",
      "metadata": {},
      "outputs": [],
      "source": [
        "Whole columns should be dropped only if most entries in the column are empty. In our dataset, none of the columns are empty enough to drop entirely.\nWe have some freedom in choosing which method to replace data; however, some methods may seem more reasonable than others. We will apply each method to many different columns:\n<ul>\n    <li>Column \"volume\": has 1.5% probability of cell being missing data. Use interpolation to fill missing values.\n    </li>\n    <li>Column \"rec_count\": has 0.2% probability of cell being missing data. Use interpolation to fill missing values.</li>\n    <li>Column \"ADOSC\": has few missing values in the cells.</li>\n    <li>Column \"NATR\": has few missing values in the cells. </li>\n    <li>Column \"TRANGE\": has few missing value in the cells.</li>\n</ul>\n\n"
      ]
    },
    {
      "cell_type": "markdown",
      "id": "ca7c1b9d-4fcf-46ac-bdd2-84797f942595",
      "metadata": {},
      "outputs": [],
      "source": [
        "First of all, let's process our indicator values(ADOSC, NATR, TRANGE)."
      ]
    },
    {
      "cell_type": "markdown",
      "id": "74643165-1de9-4f0c-b000-4f5747b28475",
      "metadata": {},
      "outputs": [],
      "source": [
        "Examining shape of our `dataFrame`:"
      ]
    },
    {
      "cell_type": "code",
      "id": "396a93f6-b32b-4dc1-96ea-4a26646004ee",
      "metadata": {},
      "outputs": [],
      "source": [
        "df.shape"
      ]
    },
    {
      "cell_type": "markdown",
      "id": "0670b157-55af-425e-ac11-09215d5df15a",
      "metadata": {},
      "outputs": [],
      "source": [
        "Dropping `null` values in columns: \n\n * `ADOSC` \n * `NATR` \n * `TRANGE`"
      ]
    },
    {
      "cell_type": "code",
      "id": "b611fd7d-e534-46ac-8281-f898cb8beec8",
      "metadata": {},
      "outputs": [],
      "source": [
        "df = df.dropna(subset=['ADOSC', 'NATR', 'TRANGE'])"
      ]
    },
    {
      "cell_type": "code",
      "id": "a6335067-261c-4caf-b28b-2882c46c7c6c",
      "metadata": {},
      "outputs": [],
      "source": [
        "df.head(15)"
      ]
    },
    {
      "cell_type": "markdown",
      "id": "a1e4909f-6c91-4e15-b7f7-c88bd81c778b",
      "metadata": {},
      "outputs": [],
      "source": [
        "Second of all, let's get rid of negative values."
      ]
    },
    {
      "cell_type": "markdown",
      "id": "0dd507b5-a1a7-44f0-97cd-123451021546",
      "metadata": {},
      "outputs": [],
      "source": [
        "For that we convert data_types and replace `NaN` with `float('inf')`. \nWe need `float('inf')` as it will help us to get rid of negative values(there will be no method restrictions).\n"
      ]
    },
    {
      "cell_type": "code",
      "id": "13150e26-af71-46a3-9abc-4a615cfa6bc9",
      "metadata": {},
      "outputs": [],
      "source": [
        "fix_types = {\n    'open': np.float64,\n    'close': np.float64,\n    'high': np.float64,\n    'low': np.float64,\n    'volume': np.float64,\n    'rec_count': np.float64,\n    'avg_price': np.float64,\n    }\ndf = df.astype(fix_types)\ndf[['volume', 'rec_count']] = df[['volume', 'rec_count']].replace(np.nan, float('inf'))\ndf.head()"
      ]
    },
    {
      "cell_type": "code",
      "id": "b479fb18-be7f-4ecc-bab5-2cc49637b746",
      "metadata": {},
      "outputs": [],
      "source": [
        "cols_with_neg_values = ['volume', 'rec_count']"
      ]
    },
    {
      "cell_type": "code",
      "id": "ace960a7-e614-4d20-95d2-767bc6e674e4",
      "metadata": {},
      "outputs": [],
      "source": [
        "for column in cols_with_neg_values:\n    df[column] = df[column].abs()"
      ]
    },
    {
      "cell_type": "markdown",
      "id": "454c84af-a6ef-4ea6-8210-38d0b8a11d5e",
      "metadata": {},
      "outputs": [],
      "source": [
        "Let's check if everything is fine by displaying dataframe and using <code>has_negative_values</code> method that we implemented previously."
      ]
    },
    {
      "cell_type": "code",
      "id": "c167f914-4741-444a-9f1a-d8e63b63b04c",
      "metadata": {},
      "outputs": [],
      "source": [
        "for column in cols_with_neg_values:\n  col_res = has_negative_values(df, column)\n  log_res = 'contains' if col_res else 'does not contain'\n  print(f'Column {column} {log_res} negative values')"
      ]
    },
    {
      "cell_type": "markdown",
      "id": "c107357a-9c77-4652-b089-951bf0d3bfba",
      "metadata": {},
      "outputs": [],
      "source": [
        "Now as we do not have negative values we can replace `float('inf')` with `np.nan`"
      ]
    },
    {
      "cell_type": "code",
      "id": "00591cf7-b44c-4804-a4ed-b4c0791e6ee3",
      "metadata": {},
      "outputs": [],
      "source": [
        "df.replace(float('inf'), np.nan, inplace = True)"
      ]
    },
    {
      "cell_type": "code",
      "id": "9f9491bd-a34f-41ac-b74f-52430853dae0",
      "metadata": {},
      "outputs": [],
      "source": [
        "methods = [{'method': 'linear', 'limit_direction': 'both'}, {'method': 'polynomial', 'order': 3}, {'method': 'pad', 'limit_direction': 'forward'}]"
      ]
    },
    {
      "cell_type": "markdown",
      "id": "8f7b94a1-07dc-4664-822f-de2b54d241ec",
      "metadata": {},
      "outputs": [],
      "source": [
        "Now we have to interpolate missing values and choose one of the methods."
      ]
    },
    {
      "cell_type": "code",
      "id": "b5bb7c20-5a40-4a4a-8331-e051433d51ad",
      "metadata": {},
      "outputs": [],
      "source": [
        "# implementing mse ourselfs\ndef mean_absolute_percentage_error(y_true, y_pred):\n    return np.mean(np.abs((y_true - y_pred) / y_true)) * 100\n\n\ninterp_df = pd.DataFrame()\n\nfor params in methods:\n  method = params['method']\n\n  # geting mean_absolute_percentage_error for record count\n  interp_df[f'{method}_rec_count'] = df['rec_count'].interpolate(**params)\n  print(f\"rec_count {method} {mean_absolute_percentage_error(df_copy['rec_count'], interp_df[f'{method}_rec_count'])}\")\n    \n  # geting mean_absolute_percentage_error for Volume\n  interp_df[f'{method}_volume'] = df['volume'].interpolate(**params)\n  print(f\"volume {method} {mean_absolute_percentage_error(df_copy['volume'], interp_df[f'{method}_volume'])}\")"
      ]
    },
    {
      "cell_type": "code",
      "id": "fa44301a-d4f2-4451-af0e-43dbd1914d90",
      "metadata": {},
      "outputs": [],
      "source": [
        "# let's do the same thing with other values\n\nfor params in methods:\n  # geting mean_absolute_percentage_error for open\n  interp_df['open'] = df['open'].interpolate(**params)\n  \n  # geting mean_absolute_percentage_error for close\n  interp_df['close'] = df['close'].interpolate(**params)\n    \n  # geting mean_absolute_percentage_error for close\n  interp_df['low'] = df['low'].interpolate(**params)\n  \n  # geting mean_absolute_percentage_error for close\n  interp_df['high'] = df['high'].interpolate(**params)\n    \n  # geting mean_absolute_percentage_error for close\n  interp_df['avg_price'] = df['avg_price'].interpolate(**params)"
      ]
    },
    {
      "cell_type": "markdown",
      "id": "bf3cdcb4-3d6f-4c8e-be70-a2eb53954565",
      "metadata": {},
      "outputs": [],
      "source": [
        "As we can see linear method fits our data the most."
      ]
    },
    {
      "cell_type": "code",
      "id": "6c49dee0-d568-4c4b-bba1-b69bb5e3f4c0",
      "metadata": {},
      "outputs": [],
      "source": [
        "pd.options.mode.chained_assignment = None \ndf['rec_count'] = interp_df['linear_rec_count']\ndf['volume'] = interp_df['linear_volume']\ndf['open'] = interp_df['open']\ndf['close'] = interp_df['close']\ndf['high'] = interp_df['high']\ndf['low'] = interp_df['low']\ndf['avg_price'] = interp_df['avg_price']\npd.options.mode.chained_assignment = 'warn'"
      ]
    },
    {
      "cell_type": "markdown",
      "id": "6b919ed7-ad65-45d7-81c3-36182e582aca",
      "metadata": {},
      "outputs": [],
      "source": [
        "Let's check if all missing values were replaced using previously implemented <code>has_missing_values</code> method."
      ]
    },
    {
      "cell_type": "code",
      "id": "79bf6722-beac-468b-96b0-a4f0a79364db",
      "metadata": {},
      "outputs": [],
      "source": [
        "has_missing_values(df, 'rec_count', missing_value=np.nan)"
      ]
    },
    {
      "cell_type": "code",
      "id": "03520f40-b85b-4da6-8754-b06ca30eaad5",
      "metadata": {},
      "outputs": [],
      "source": [
        "has_missing_values(df, 'volume', missing_value=np.nan)"
      ]
    },
    {
      "cell_type": "code",
      "id": "3872c165-fd79-4f7c-96d1-b17878fd7cf3",
      "metadata": {},
      "outputs": [],
      "source": [
        "o = has_missing_values(df, 'open', missing_value=np.nan)\nc = has_missing_values(df, 'close', missing_value=np.nan)\nh = has_missing_values(df, 'high', missing_value=np.nan)\nl = has_missing_values(df, 'low', missing_value=np.nan)\nprint(o, c, h, l)"
      ]
    },
    {
      "cell_type": "markdown",
      "id": "c75ec763-ab90-41e2-9c74-c7ec4bc8fcb9",
      "metadata": {},
      "outputs": [],
      "source": [
        "<b>Good!</b> Now, we have a dataset with no missing values.\n"
      ]
    },
    {
      "cell_type": "markdown",
      "id": "b37a671a-b82f-4922-80bf-092797bf8d25",
      "metadata": {},
      "outputs": [],
      "source": [
        "### Correct data format"
      ]
    },
    {
      "cell_type": "markdown",
      "id": "235d3a9b-33ec-4f7e-9b89-c5e846f9cc9e",
      "metadata": {},
      "outputs": [],
      "source": [
        "**We are almost there!**\n\nThe **last step in data cleaning is checking and making sure that all data is in the correct format (`int`, `float`, text or other).**\n\nIn Pandas, we use:\n\n * `.dtype()` to **check the data type**.\n * `.astype()` to **change the data type**."
      ]
    },
    {
      "cell_type": "markdown",
      "id": "bee24a81-a851-48b9-88e9-8b27bbeada38",
      "metadata": {},
      "outputs": [],
      "source": [
        "**Let's list the data types for each column**:"
      ]
    },
    {
      "cell_type": "code",
      "id": "83a4611b-2891-471a-b7d5-2807c2898cd8",
      "metadata": {},
      "outputs": [],
      "source": [
        "df.dtypes"
      ]
    },
    {
      "cell_type": "markdown",
      "id": "fca18452-509b-470b-b89b-fe55b1e59231",
      "metadata": {},
      "outputs": [],
      "source": [
        "<p>As we can see above, some columns are not of the correct data type. Numerical variables should have type <code>float</code> or <code>int</code>, datetime values should have <code>datetime</code> . For example, 'Volume' is  numerical value of type <code>float</code>; however, it is displayed <code>object</code>, same goes for 'Ts' column that is of type <code>datetime</code>. We have to convert data types into a proper format for each column using the <code>astype()</code> method.</p> \n"
      ]
    },
    {
      "cell_type": "markdown",
      "id": "6695cb41-fc65-456a-a25d-02ac7d2a7ec8",
      "metadata": {},
      "outputs": [],
      "source": [
        "<h4>Convert data types to proper format</h4>\n"
      ]
    },
    {
      "cell_type": "code",
      "id": "e439dbef-fd67-4df5-b337-1a06e831673b",
      "metadata": {},
      "outputs": [],
      "source": [
        "correct_types = {\n                'open': np.float64,\n                'high': np.float64,\n                'low': np.float64,\n                'close': np.float64,\n                'volume': np.float64,\n                'rec_count': np.int64,\n                'avg_price': np.float64,\n                # indicators\n                'ADOSC': np.float64,\n                'NATR': np.float64,\n                'TRANGE': np.float64,\n                # other currencies\n                'ape_avg_price': np.float64,\n                'bnb_avg_price': np.float64,\n                'doge_avg_price': np.float64,\n                'eth_avg_price': np.float64,\n                'xrp_avg_price': np.float64,\n                'matic_avg_price': np.float64\n                 }\n\ndf = df.astype(correct_types)"
      ]
    },
    {
      "cell_type": "markdown",
      "id": "42099575-1d72-4e38-8d4a-6ae1608cbf5f",
      "metadata": {},
      "outputs": [],
      "source": [
        "**Let us list the columns after the conversion**\n"
      ]
    },
    {
      "cell_type": "code",
      "id": "842783b4-b365-4e84-9f17-a5eec7bb34c4",
      "metadata": {},
      "outputs": [],
      "source": [
        "df.dtypes"
      ]
    },
    {
      "cell_type": "markdown",
      "id": "274eee26-6a43-4e64-830d-3d0e64885717",
      "metadata": {},
      "outputs": [],
      "source": [
        "Now we have obtained the cleaned dataset with no missing values and with correct datatypes. Let's save it.\n"
      ]
    },
    {
      "cell_type": "code",
      "id": "a79f98e6-8626-48b1-9144-d382350f4982",
      "metadata": {},
      "outputs": [],
      "source": [
        "df.to_csv('BTCBUSD_1min.csv')"
      ]
    },
    {
      "cell_type": "markdown",
      "id": "4290b739-4aa9-4892-b3f0-ec33e162326d",
      "metadata": {},
      "outputs": [],
      "source": [
        "## Data Standardization"
      ]
    },
    {
      "cell_type": "markdown",
      "id": "c83541df-9777-4703-b332-f5dcf9cc2eee",
      "metadata": {},
      "outputs": [],
      "source": [
        "Data is usually collected from different sources in different formats.\n(Data standardization is also a term for a particular type of data normalization where we subtract the mean and divide by the standard deviation.)"
      ]
    },
    {
      "cell_type": "markdown",
      "id": "69c3ca22-1f84-4c61-a9fe-a79b20dd6374",
      "metadata": {},
      "outputs": [],
      "source": [
        "***What is standardization?***\n\nStandardization is *the process of transforming data into a common format, allowing the researcher to make the meaningful comparison*.\n\n**Example**\n\nTransform ***BUSD*** to ***USDT***:\nIn our dataset, the average cost column `avg_cost` is represented by ***BUSD*** unit. Assume we want to perform some analysis, but using ***USDT*** values.\n\nWe will need to apply **data transformation** to transform ***BUSD*** into ***USDT***."
      ]
    },
    {
      "cell_type": "markdown",
      "id": "f799df12-e799-4287-b64a-8f7eac1fe9a7",
      "metadata": {},
      "outputs": [],
      "source": [
        "Let's use [CoinMarketCAP](https://coinmarketcap.com/api/) API to get up to date info for transformation\n\nWe can do many mathematical operations directly in Pandas.\n\nNote: to send requests to [https://coinmarketcap.com/api/](https://coinmarketcap.com/api/) you need to register and get your own API_KEY"
      ]
    },
    {
      "cell_type": "code",
      "id": "059dd8ec-55a9-4314-8e4f-8da1ed40eb2a",
      "metadata": {},
      "outputs": [],
      "source": [
        "url = \"https://pro-api.coinmarketcap.com/v1/cryptocurrency/quotes/latest\"\n\nparameters = {\n  \"symbol\": \"BUSD\",\n  \"convert\": \"USDT\"\n}\n\nheaders = {\n  \"Accepts\": \"application/json\",\n  \"X-CMC_PRO_API_KEY\": \"YOUR_API_KEY\" # change \"YOUR_API_KEY\" to your API_KEY in other case, \n    # the code will use default rate that may be outdated\n}\n\nresponse = requests.get(url, headers=headers, params=parameters)\n\nif response.status_code != 200:\n    rate = 0.999707\nelse:\n    data = response.json()\n    rate = float(data[\"data\"][\"BUSD\"][\"quote\"][\"USDT\"][\"price\"])\n\nprint(f\"The exchange rate is 1 BUSD = {rate} USDT\")\n\ncols_to_convert = [\"avg_price\"]\nfor col in cols_to_convert:\n    df[f\"{col}_USDT\"] = df[col] * rate\n\n# check your transformed data \ndf[[\"avg_price_USDT\"]].head(25)"
      ]
    },
    {
      "cell_type": "markdown",
      "id": "1b2162a4-b80a-493c-81a6-edf1b96c3d58",
      "metadata": {},
      "outputs": [],
      "source": [
        "<div class=\"alert alert-danger alertdanger\" style=\"margin-top: 20px\">\n  <b style=\"font-size: 2em; font-weight: bold;\">Question #1:</b>\n\n  <b>According to the example above, transform BUSD to ADA in the new column  called `ADA_avg_price`.</b>\n    \n</div>"
      ]
    },
    {
      "cell_type": "code",
      "id": "b3222ecb-76b3-4537-8ebb-d9cc946de532",
      "metadata": {},
      "outputs": [],
      "source": [
        "# Write your code below and press Shift+Enter to execute "
      ]
    },
    {
      "cell_type": "markdown",
      "id": "f2984f3d-3617-4cdf-9840-d88dd830dcbb",
      "metadata": {},
      "outputs": [],
      "source": [
        "<details><summary>Click here for the solution</summary>\n\n```python\n# Convert BUSD to BTC by mathematical operation\nimport requests\n\nurl = \"https://pro-api.coinmarketcap.com/v1/cryptocurrency/quotes/latest\"\n\nparameters = {\n  \"symbol\": \"BUSD\",\n  \"convert\": \"BTC\"\n}\n\nheaders = {\n  \"Accepts\": \"application/json\",\n  \"X-CMC_PRO_API_KEY\": \"YOUR_API_KEY\" # change \"YOUR_API_KEY\" to your API_KEY in other case, \n    # the code will use default rate that may be outdated\n}\n\nresponse = requests.get(url, headers=headers, params=parameters)\n\nif response.status_code != 200:\n    rate = 4.1659326843755195e-05\nelse:\n    data = response.json()\n    rate = float(data[\"data\"][\"BUSD\"][\"quote\"][\"BTC\"][\"price\"])\n\nprint(f\"The exchange rate is 1 BUSD = {rate} BTC\")\n\ncols_to_convert = [\"avg_price\"]\nfor col in cols_to_convert:\n    df[f\"{col}_BTC\"] = df[col] * rate\n\n# check your transformed data \ndf[[\"avg_price_BTC\"]].head(25)\n\n```\n\n</details>\n"
      ]
    },
    {
      "cell_type": "markdown",
      "id": "dc0f16c2-c3c1-41c9-96fd-b8a09d243e6e",
      "metadata": {},
      "outputs": [],
      "source": [
        "## Data Normalization"
      ]
    },
    {
      "cell_type": "markdown",
      "id": "27b257eb-c95d-405d-94bb-662c41e148d7",
      "metadata": {},
      "outputs": [],
      "source": [
        "**Why normalization?**\n\n**Normalization is the process of transforming values of several variables into a similar range**. Typical normalization include scaling the variable so the variable average is 0, scaling the variable so the variance is 1, or scaling the variable so the variable values range from 0 to 1.\n\n\n**Example**\n\nTo demonstrate normalization, let's say we want to scale the columns `rec_count` and `volume`.\n\n**Target:** we would like to normalize those variables so their value ranges from 0 to 1.\n\n**Approach:** \n\nUse <a href=\"https://scikit-learn.org/stable/modules/generated/sklearn.preprocessing.MinMaxScaler.html\">MinMaxScaler</a> that does following computations:\n\n<ul>\n    <li>\n    $X_{std} = \\frac{(X - X.min(axis=0))}{(X.max(axis=0) - X.min(axis=0))}$\n    </li>\n    <li>\n    $X_{scaled} = X_{std} * (max - min) + min$\n    </li>\n</ul>\n\n\nWhere min, max are params from `feature_range`.\n"
      ]
    },
    {
      "cell_type": "code",
      "id": "cfeb5ce1-2efc-463b-8f44-bd9a230a9ae8",
      "metadata": {},
      "outputs": [],
      "source": [
        "# replace (original value) by MinMaxScaler values\n# the default value of fearture_range parameter is (0, 1),\n# so we do not need to specify it\nscaler = MinMaxScaler()\ndf[['rec_count']] = scaler.fit_transform(df[['rec_count']])\ndf[['rec_count']]"
      ]
    },
    {
      "cell_type": "markdown",
      "id": "2cbe7a21-5727-4560-b94f-3d55f829bc1d",
      "metadata": {},
      "outputs": [],
      "source": [
        "<div class=\"alert alert-danger alertdanger\" style=\"margin-top: 20px\">\n<b style=\"font-size: 2em; font-weight: bold;\">Question #2:</b>\n\n<b>According to the example above, normalize the column `volume`.</b>\n\n</div>\n"
      ]
    },
    {
      "cell_type": "code",
      "id": "b0cc3738-15f6-4ef9-8921-099b5e2a59fa",
      "metadata": {},
      "outputs": [],
      "source": [
        "# Write your code below and press Shift+Enter to execute "
      ]
    },
    {
      "cell_type": "markdown",
      "id": "b7e1bc39-33b5-4e61-8848-b19f444bc876",
      "metadata": {},
      "outputs": [],
      "source": [
        "<details><summary>Click here for the solution</summary>\n\n```python\ndf[['volume']] = scaler.fit_transform(df[['volume']])\n\n# show the scaled columns\ndf[['volume','rec_count']].head()\n\n```\n\n</details>\n"
      ]
    },
    {
      "cell_type": "markdown",
      "id": "8a796fc4-3357-4329-b8ce-4e1c365925b1",
      "metadata": {},
      "outputs": [],
      "source": [
        "Here we can see we've normalized `volume` and `rec_count` in the range of \\[0,1].\n"
      ]
    },
    {
      "cell_type": "markdown",
      "id": "5464bfbf-9703-4bab-9d85-ac6cfb9a35d8",
      "metadata": {},
      "outputs": [],
      "source": [
        "## Binning"
      ]
    },
    {
      "cell_type": "markdown",
      "id": "274d2ebd-5582-4fb9-addc-58ccd563a232",
      "metadata": {},
      "outputs": [],
      "source": [
        "***Why binning?***\n\nBinning is a process of transforming continuous numerical variables into discrete categorical 'bins' for grouped analysis.\n\n\n**Example:**\n\nWhat if we want to see periods of time when `avg_price` had highest values and analyze the difference between `high` and `low` values for high, medium and low `avg_price`?\nCan we rearrange them into three ‘bins' to simplify analysis?\n\nWe will use the pandas method `cut` to segment the `avg_price` column into 3 bins."
      ]
    },
    {
      "cell_type": "markdown",
      "id": "29cda6d1-4e16-45f0-8d50-2965c37cfe47",
      "metadata": {},
      "outputs": [],
      "source": [
        "##### Example of Binning Data In Pandas\n"
      ]
    },
    {
      "cell_type": "markdown",
      "id": "bc156615-4d1a-470f-8036-f9189fa68a24",
      "metadata": {},
      "outputs": [],
      "source": [
        "Let's plot the histogram of avg_price to see what the distribution of avg_price looks like.\n"
      ]
    },
    {
      "cell_type": "code",
      "id": "ee19593f-61c9-4ed1-a520-79d888781816",
      "metadata": {},
      "outputs": [],
      "source": [
        "plt.pyplot.hist(df[\"avg_price\"])\n\n# set x/y labels and plot title\nplt.pyplot.xlabel(\"Avg_price\")\nplt.pyplot.ylabel(\"Count\")\nplt.pyplot.title(\"Average price bins\")"
      ]
    },
    {
      "cell_type": "markdown",
      "id": "330bf248-e956-40aa-a471-15ae61070db2",
      "metadata": {},
      "outputs": [],
      "source": [
        "<p>We would like 3 bins of equal size bandwidth so we use numpy's <code>linspace(start_value, end_value, numbers_generated</code> function.</p>\n<p>Since we want to include the minimum value of \"avg_price\" column, we want to set start_value = min(df[\"avg_price\"]).</p>\n<p>Since we want to include the maximum value of \"avg_price\" column, we want to set end_value = max(df[\"avg_price\"]).</p>\n<p>Since we are building 3 bins of equal length, there should be 4 dividers, so numbers_generated = 4.</p>\n"
      ]
    },
    {
      "cell_type": "markdown",
      "id": "15374b0a-4c4e-42a0-ab7c-66509500a934",
      "metadata": {},
      "outputs": [],
      "source": [
        "We build a bin array with a minimum value to a maximum value by using the bandwidth calculated above. The values will determine when one bin ends and another begins.\n"
      ]
    },
    {
      "cell_type": "code",
      "id": "8aec51ee-2b99-4f9f-a7af-101e49bc3ab8",
      "metadata": {},
      "outputs": [],
      "source": [
        "bins = np.linspace(min(df['avg_price']), max(df['avg_price']), 4)\nbins"
      ]
    },
    {
      "cell_type": "markdown",
      "id": "ccffc35a-d802-47b9-8263-d68f766719ce",
      "metadata": {},
      "outputs": [],
      "source": [
        "We set group  names:\n"
      ]
    },
    {
      "cell_type": "code",
      "id": "1bb68fdb-4824-4f3a-9405-ff94dec4d453",
      "metadata": {},
      "outputs": [],
      "source": [
        "group_names = ['low', 'medium', 'high']"
      ]
    },
    {
      "cell_type": "markdown",
      "id": "b32de5b4-3cb9-4b6d-88a6-7cb87377ff7e",
      "metadata": {},
      "outputs": [],
      "source": [
        "We apply the function \"cut\" to determine what each value of `df['Avg_price']` belongs to.\n"
      ]
    },
    {
      "cell_type": "code",
      "id": "9b0dab70-5564-48be-a46b-8b0261dd9d06",
      "metadata": {},
      "outputs": [],
      "source": [
        "df['avg_price_binned'] = pd.cut(df['avg_price'], bins, labels=group_names, include_lowest=True )\ndf[['avg_price','avg_price_binned']].head(20)"
      ]
    },
    {
      "cell_type": "markdown",
      "id": "87357e3b-12f9-43a9-8f63-dd58b6f9c24f",
      "metadata": {},
      "outputs": [],
      "source": [
        "Let's see the number of records in each bin:\n"
      ]
    },
    {
      "cell_type": "code",
      "id": "41217831-e283-4de8-a440-060af81f6cb6",
      "metadata": {},
      "outputs": [],
      "source": [
        "df[\"avg_price_binned\"].value_counts()"
      ]
    },
    {
      "cell_type": "markdown",
      "id": "1daaf5c4-181f-4832-b1d8-0ae1813f5e05",
      "metadata": {},
      "outputs": [],
      "source": [
        "Let's plot the distribution of each bin:\n"
      ]
    },
    {
      "cell_type": "code",
      "id": "fe242ac2-51ca-4146-9e4e-184858f1f946",
      "metadata": {},
      "outputs": [],
      "source": [
        "pyplot.bar(group_names, df[\"avg_price_binned\"].value_counts())\n\n# set x/y labels and plot title\nplt.pyplot.xlabel(\"Avg_price\")\nplt.pyplot.ylabel(\"Count\")\nplt.pyplot.title(\"Average price bins\")"
      ]
    },
    {
      "cell_type": "markdown",
      "id": "858307ce-35e9-4bb6-a7f1-ea3f02e9c305",
      "metadata": {},
      "outputs": [],
      "source": [
        "<p>\n    Good, we devided our dataset into bins by \"Avg_price\" based on 3 categories (\"Low\", \"Medium\" and \"High\"). \n</p>"
      ]
    },
    {
      "cell_type": "markdown",
      "id": "e262fec1-a198-4dad-9fee-ab4dab83759e",
      "metadata": {},
      "outputs": [],
      "source": [
        "##### **Bins Visualization**\n\nNormally, a histogram is used to visualize the distribution of bins we created above. "
      ]
    },
    {
      "cell_type": "code",
      "id": "df70a321-1291-48ec-976d-2551b1e2b136",
      "metadata": {},
      "outputs": [],
      "source": [
        "# draw historgram of attribute \"High\" with bins = 3\nplt.pyplot.hist(df[\"avg_price\"], bins=3)\n\n# set x/y labels and plot title\nplt.pyplot.xlabel(\"Avg_price\")\nplt.pyplot.ylabel(\"Count\")\nplt.pyplot.title(\"Avarage price bins\")"
      ]
    },
    {
      "cell_type": "markdown",
      "id": "f99600f6-a390-491a-b726-1d3c3b592217",
      "metadata": {},
      "outputs": [],
      "source": [
        "The plot above shows the binning result for the attribute \"Avg_price\".\n"
      ]
    },
    {
      "cell_type": "code",
      "id": "8899b2c3-10b2-4e22-beae-efeef81df38e",
      "metadata": {},
      "outputs": [],
      "source": [
        "dummy_variable = pd.get_dummies(df['avg_price_binned'])\ndummy_variable"
      ]
    },
    {
      "cell_type": "markdown",
      "id": "4ec160b2-d219-4a4b-8fbb-d93ce1777a05",
      "metadata": {},
      "outputs": [],
      "source": [
        "Change the column names for clarity:"
      ]
    },
    {
      "cell_type": "code",
      "id": "5820c7fc-b7c3-447f-b6d8-923d06fc06f8",
      "metadata": {},
      "outputs": [],
      "source": [
        "dummy_variable.rename(columns={'low':'low_bin', 'medium':'medium_bin', 'high': 'high_bin'}, inplace=True)"
      ]
    },
    {
      "cell_type": "code",
      "id": "77bbe11b-3f00-419e-9ac5-134928ab2392",
      "metadata": {},
      "outputs": [],
      "source": [
        "# merge data frame \"df\" and \"dummy_variable\" \ndf = pd.concat([df, dummy_variable], axis=1)\n\n# drop original column \"Avg_price_binned\" from \"df\"\ndf.drop(\"avg_price_binned\", axis=1, inplace=True)"
      ]
    },
    {
      "cell_type": "code",
      "id": "41e37114-d809-42a7-892a-5c9783e3eeef",
      "metadata": {},
      "outputs": [],
      "source": [
        "df.head()"
      ]
    },
    {
      "cell_type": "markdown",
      "id": "bfa784d0-1bb9-4b3c-90eb-727f91ab73a4",
      "metadata": {},
      "outputs": [],
      "source": [
        "<div class=\"alert alert-danger alertdanger\" style=\"margin-top: 20px\">\n<b style=\"font-size: 2em; font-weight: bold;\">Question #3:</b>\n\n<b>Create an indicator variable for the list of values: <code>['apple', 'orange', 'banana']</code>.</b>\n\n</div>\n"
      ]
    },
    {
      "cell_type": "code",
      "id": "f492178b-1598-4f42-9303-226ca909cf1f",
      "metadata": {},
      "outputs": [],
      "source": [
        "# Write your code below and press Shift+Enter to execute "
      ]
    },
    {
      "cell_type": "markdown",
      "id": "9f6ad3f1-1c76-4496-b85e-6af64cbdd8ae",
      "metadata": {},
      "outputs": [],
      "source": [
        "<details><summary>Click here for the solution</summary>\n\n```python\n# get indicator variables for list of values and assign it to data frame \"dummy_variable_1\"\nlist_of_values = ['apple', 'orange', 'banana']\ndummy_variable_1 = pd.get_dummies(list_of_values)\n\ndummy_variable_1.head()\n\n\n```\n\n</details>\n"
      ]
    },
    {
      "cell_type": "markdown",
      "id": "14cfd83a-b03f-4ca9-b23d-d99d8749a7a7",
      "metadata": {},
      "outputs": [],
      "source": [
        "<div class=\"alert alert-danger alertdanger\" style=\"margin-top: 20px\">\n<b style=\"font-size: 2em; font-weight: bold;\">Question #4:</b>\n\n<b>Similar to before, create bins for the column `high` with four group names. Plot the distribution of each bin. </b>\n\n</div>\n"
      ]
    },
    {
      "cell_type": "code",
      "id": "2490c6b5-4246-4815-96da-44e518240402",
      "metadata": {},
      "outputs": [],
      "source": [
        "# Write your code below and press Shift+Enter to execute "
      ]
    },
    {
      "cell_type": "markdown",
      "id": "5516aae2-82ff-4aa6-92a1-976e82402673",
      "metadata": {},
      "outputs": [],
      "source": [
        "<details><summary>Click here for the solution</summary>\n\n```python\n%matplotlib inline\nimport matplotlib as plt\nfrom matplotlib import pyplot\n\nbins = np.linspace(df['high'].min(), df['high'].max(), 5)\nprint(bins)\n\ngroup_names = ['hlow_bin', 'hmedium_Low_bin', 'hmedium_High_bin' , 'hhigh_bin']\n\ndf['high_binned'] = pd.cut(df['high'], bins, labels=group_names, include_lowest=True)\npyplot.bar(group_names, df[\"high_binned\"].value_counts())\n\nplt.pyplot.hist(df[\"high\"])\n\nplt.pyplot.xlabel(\"High \")\nplt.pyplot.ylabel(\"Count\")\nplt.pyplot.title(\"High bins\")\n```\n\n</details>\n"
      ]
    },
    {
      "cell_type": "markdown",
      "id": "67e5b3b2-fed8-4de7-bb28-2300717c3d46",
      "metadata": {},
      "outputs": [],
      "source": [
        "#### Resampling\n"
      ]
    },
    {
      "cell_type": "markdown",
      "id": "a500c772-0945-4045-a1e5-f796fd8f731d",
      "metadata": {},
      "outputs": [],
      "source": [
        "Time series data can be summarized or aggregated by a new time interval. For example, you can summarize minute data into hours, hours into days, etc."
      ]
    },
    {
      "cell_type": "markdown",
      "id": "6c24458b-5423-49ba-9a4b-f5fa9bd59fef",
      "metadata": {},
      "outputs": [],
      "source": [
        "This process of changing the time period data to be summarized into another time period is often called resampling."
      ]
    },
    {
      "cell_type": "markdown",
      "id": "b191e7d5-5347-46c9-a30f-805702bf72e5",
      "metadata": {},
      "outputs": [],
      "source": [
        "Let's resample our data from 1 minute to 5 minutes, we will use <code>pandas</code> <code>resample()</code> method for this purpose."
      ]
    },
    {
      "cell_type": "markdown",
      "id": "06bace52-fd8e-499e-bf7a-d94c2e4c2199",
      "metadata": {},
      "outputs": [],
      "source": [
        "Now we create new dataframe and write aggragated data in it. "
      ]
    },
    {
      "cell_type": "code",
      "id": "6d5dca62-d8ba-46a2-bf2e-041ef3b4ef62",
      "metadata": {},
      "outputs": [],
      "source": [
        "resample_df5 = pd.DataFrame()\nresample_df5['open'] = df['open'].resample('5min').first()\nresample_df5['high'] = df['high'].resample('5min').max()\nresample_df5['low'] = df['low'].resample('5min').min()\nresample_df5['close'] = df['close'].resample('5min').last()\nresample_df5['volume'] = df['volume'].resample('5min').sum()"
      ]
    },
    {
      "cell_type": "markdown",
      "id": "5d37f84f-7565-4c5e-821c-babb96f8d466",
      "metadata": {},
      "outputs": [],
      "source": [
        "Let's aggregate data to 10 minutes, using shorter syntax."
      ]
    },
    {
      "cell_type": "code",
      "id": "8e7578d0-89b1-4303-8b8d-1ead73607110",
      "metadata": {},
      "outputs": [],
      "source": [
        "resample_df10 = df[[\"open\", \"high\", \"low\", \"close\", \"volume\"]].resample(\"10min\").agg({\n    \"open\": \"first\",\n    \"high\": \"max\",\n    \"low\": \"min\",\n    \"close\": \"last\",\n    \"volume\": \"sum\"\n})"
      ]
    },
    {
      "cell_type": "markdown",
      "id": "bf76df77-9760-44a6-9465-740cca3867fc",
      "metadata": {},
      "outputs": [],
      "source": [
        "In the above cell we specified time and how our aggragated data will be aggregated.\n\n> <i>For example:</i> for 'Volume' all values(within 5 minutes intervals) in that column will be summed up; for 'Close' we get last value from 5-minute interval; for 'High' we get maximum value within 5-minute intervals."
      ]
    },
    {
      "cell_type": "code",
      "id": "b1ff3633-c98d-4def-b753-2335de6ed1fc",
      "metadata": {},
      "outputs": [],
      "source": [
        "resample_df5"
      ]
    },
    {
      "cell_type": "markdown",
      "id": "3296b88b-d931-4337-83f6-873c8fd386e9",
      "metadata": {},
      "outputs": [],
      "source": [
        "As you can see we successfully resampled our 1 minute intervals. Let's save new datasets into csv file"
      ]
    },
    {
      "cell_type": "code",
      "id": "69488af0-60e2-4445-b6cf-53bd22457bf2",
      "metadata": {},
      "outputs": [],
      "source": [
        "resample_df5.to_csv('BTC BUSD 5min.csv')\nresample_df10.to_csv('BTC BUSD 10min.csv')"
      ]
    },
    {
      "cell_type": "markdown",
      "id": "1eecd3ab-3862-4ee0-bd7b-25a6c29882aa",
      "metadata": {},
      "outputs": [],
      "source": [
        "##  **Thank you for completing Lab 2!**\n\n## Authors\n\n<a href=\"https://author.skills.network/instructors/nazar_kohut\">Nazar Kohut</a>\n\n<a href=\"https://author.skills.network/instructors/yaroslav_vyklyuk_2?utm_medium=Exinfluencer&utm_source=Exinfluencer&utm_content=000026UJ&utm_term=10006555&utm_id=NA-SkillsNetwork-Channel-SkillsNetworkGuidedProjectsIBMSkillsNetworkGPXX0QGDEN2306-2023-01-01\">Prof. Yaroslav Vyklyuk, DrSc, PhD</a>\n\n<a href=\"https://author.skills.network/instructors/mariya_fleychuk?utm_medium=Exinfluencer&utm_source=Exinfluencer&utm_content=000026UJ&utm_term=10006555&utm_id=NA-SkillsNetwork-Channel-SkillsNetworkGuidedProjectsIBMSkillsNetworkGPXX0QGDEN2306-2023-01-01\">Prof. Mariya Fleychuk, DrSc, PhD</a>\n\n## Change Log\n\n| Date (YYYY-MM-DD) | Version | Changed By   | Change Description                                         |\n| ----------------- | ------- | -------------| ---------------------------------------------------------- |\n|     2023-03-05    |   1.0   | Nazar Kohut  | Lab created                                                |\n\n<hr>\n\n## <h3 align=\"center\"> © IBM Corporation 2023. All rights reserved. <h3/>\n"
      ]
    }
  ],
  "metadata": {
    "language_info": {
      "name": ""
    },
    "kernelspec": {
      "name": "",
      "display_name": ""
    }
  },
  "nbformat": 4,
  "nbformat_minor": 4
}